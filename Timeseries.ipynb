{
 "cells": [
  {
   "cell_type": "code",
   "execution_count": 1,
   "id": "4bdd8280-ba23-4d97-ab97-3a66d22b70be",
   "metadata": {},
   "outputs": [],
   "source": [
    "import pandas as pd\n",
    "import numpy as np"
   ]
  },
  {
   "cell_type": "markdown",
   "id": "cf2a5027-23ab-4c36-aa43-6122790b9e12",
   "metadata": {},
   "source": [
    "<h3>Date and Time Data Types and Tools</h3>"
   ]
  },
  {
   "cell_type": "code",
   "execution_count": 2,
   "id": "9ba42526-b0b2-4aef-a8be-ac98ecc69710",
   "metadata": {},
   "outputs": [],
   "source": [
    "from datetime import datetime\n",
    "from datetime import timedelta"
   ]
  },
  {
   "cell_type": "code",
   "execution_count": 3,
   "id": "58d629c5-7c7a-48cb-8f82-2945cd2f9f78",
   "metadata": {},
   "outputs": [],
   "source": [
    "now = datetime.now()"
   ]
  },
  {
   "cell_type": "code",
   "execution_count": 4,
   "id": "3e087002-3968-4199-8edc-84c3f9852f38",
   "metadata": {},
   "outputs": [
    {
     "data": {
      "text/plain": [
       "datetime.datetime(2024, 6, 1, 10, 40, 5, 624237)"
      ]
     },
     "execution_count": 4,
     "metadata": {},
     "output_type": "execute_result"
    }
   ],
   "source": [
    "now"
   ]
  },
  {
   "cell_type": "code",
   "execution_count": 5,
   "id": "20e63acf-ff8a-46a8-94b6-01afe6b9e33e",
   "metadata": {},
   "outputs": [
    {
     "data": {
      "text/plain": [
       "(2024, 6, 1, 10, 40)"
      ]
     },
     "execution_count": 5,
     "metadata": {},
     "output_type": "execute_result"
    }
   ],
   "source": [
    "now.year, now.month, now.day, now.hour, now.minute"
   ]
  },
  {
   "cell_type": "code",
   "execution_count": 6,
   "id": "a2fe3da6-e8aa-4739-873d-9da1e3857953",
   "metadata": {},
   "outputs": [
    {
     "data": {
      "text/plain": [
       "2024"
      ]
     },
     "execution_count": 6,
     "metadata": {},
     "output_type": "execute_result"
    }
   ],
   "source": [
    "now.year"
   ]
  },
  {
   "cell_type": "code",
   "execution_count": 7,
   "id": "924fd6cc-1b58-46de-b848-0ad0c46064a2",
   "metadata": {},
   "outputs": [
    {
     "data": {
      "text/plain": [
       "datetime.timedelta(days=2824, seconds=54360)"
      ]
     },
     "execution_count": 7,
     "metadata": {},
     "output_type": "execute_result"
    }
   ],
   "source": [
    "# delta\n",
    "delta = datetime(2024, 5, 21) - datetime(2016, 8, 26, 8, 54)\n",
    "delta"
   ]
  },
  {
   "cell_type": "code",
   "execution_count": 8,
   "id": "6de4b5c7-7621-4e60-a8b6-3e8faff572b1",
   "metadata": {},
   "outputs": [
    {
     "data": {
      "text/plain": [
       "datetime.datetime(2032, 3, 19, 0, 0)"
      ]
     },
     "execution_count": 8,
     "metadata": {},
     "output_type": "execute_result"
    }
   ],
   "source": [
    "# numerical evaluations\n",
    "start = datetime(2024, 1, 1)\n",
    "start + timedelta(3000)"
   ]
  },
  {
   "cell_type": "markdown",
   "id": "858c4492-f13f-4939-980f-4d5ecee2360b",
   "metadata": {},
   "source": [
    "<h4>Converting between String and Datetime</h4>"
   ]
  },
  {
   "cell_type": "code",
   "execution_count": 9,
   "id": "16650903-b067-4866-a773-86692ba1425d",
   "metadata": {},
   "outputs": [],
   "source": [
    "stamp = datetime(2024, 5, 22)"
   ]
  },
  {
   "cell_type": "code",
   "execution_count": 10,
   "id": "72d35af8-3c3d-4bbd-aeac-e59cdd696973",
   "metadata": {},
   "outputs": [
    {
     "data": {
      "text/plain": [
       "'2024-05-22 00:00:00'"
      ]
     },
     "execution_count": 10,
     "metadata": {},
     "output_type": "execute_result"
    }
   ],
   "source": [
    "str(stamp)"
   ]
  },
  {
   "cell_type": "code",
   "execution_count": 11,
   "id": "2b837233-d1c5-40fc-9806-733d8d08e07c",
   "metadata": {},
   "outputs": [
    {
     "data": {
      "text/plain": [
       "'2024-May-22-3-Wednesday-AM'"
      ]
     },
     "execution_count": 11,
     "metadata": {},
     "output_type": "execute_result"
    }
   ],
   "source": [
    "# Conversion to a specified string format\n",
    "stamp.strftime(\"%Y-%B-%d-%u-%A-%p\")"
   ]
  },
  {
   "cell_type": "code",
   "execution_count": 12,
   "id": "bb6b6679-e42b-45ca-b1dd-805b1b1be1dd",
   "metadata": {},
   "outputs": [],
   "source": [
    "value = \"2024-12-03\""
   ]
  },
  {
   "cell_type": "code",
   "execution_count": 13,
   "id": "304b96de-7bb8-445a-8ae1-5d2b7ad9d6d8",
   "metadata": {},
   "outputs": [
    {
     "data": {
      "text/plain": [
       "datetime.datetime(2024, 12, 3, 0, 0)"
      ]
     },
     "execution_count": 13,
     "metadata": {},
     "output_type": "execute_result"
    }
   ],
   "source": [
    "datetime.strptime(value, \"%Y-%m-%d\")"
   ]
  },
  {
   "cell_type": "code",
   "execution_count": 14,
   "id": "716d8f06-6ecf-4ac4-9e6c-c175f7089e3a",
   "metadata": {},
   "outputs": [
    {
     "data": {
      "text/plain": [
       "[datetime.datetime(2025, 7, 6, 0, 0), datetime.datetime(2025, 8, 6, 0, 0)]"
      ]
     },
     "execution_count": 14,
     "metadata": {},
     "output_type": "execute_result"
    }
   ],
   "source": [
    "# converting a list of string dates to datetime format\n",
    "datestrs = [\"7/6/2025\", \"8/6/2025\"]\n",
    "[datetime.strptime(x, \"%m/%d/%Y\") for x in datestrs]"
   ]
  },
  {
   "cell_type": "code",
   "execution_count": 15,
   "id": "195399dd-f068-4057-8367-79a3e3d156e9",
   "metadata": {},
   "outputs": [
    {
     "data": {
      "text/plain": [
       "DatetimeIndex(['2011-07-06 12:00:00', '2025-08-06 00:00:00'], dtype='datetime64[ns]', freq=None)"
      ]
     },
     "execution_count": 15,
     "metadata": {},
     "output_type": "execute_result"
    }
   ],
   "source": [
    "# pandas to_datetime\n",
    "datestrs = [\"2011-07-06 12:00:00\", \"2025-08-06 00:00:00\"]\n",
    "pd.to_datetime(datestrs)"
   ]
  },
  {
   "cell_type": "code",
   "execution_count": 16,
   "id": "a1caa520-3825-4879-b823-bc0b2a9c462a",
   "metadata": {},
   "outputs": [],
   "source": [
    "# dataframe to datetime\n",
    "df = pd.DataFrame(\n",
    "    {\"year\": [2025, 2024, 2023],\n",
    "     \"month\": [2, 4, 8],\n",
    "     \"day\": [5, 4, 5]\n",
    "    })"
   ]
  },
  {
   "cell_type": "code",
   "execution_count": 17,
   "id": "c7f68464-da42-4e2a-9372-e03e590840cd",
   "metadata": {},
   "outputs": [
    {
     "data": {
      "text/html": [
       "<div>\n",
       "<style scoped>\n",
       "    .dataframe tbody tr th:only-of-type {\n",
       "        vertical-align: middle;\n",
       "    }\n",
       "\n",
       "    .dataframe tbody tr th {\n",
       "        vertical-align: top;\n",
       "    }\n",
       "\n",
       "    .dataframe thead th {\n",
       "        text-align: right;\n",
       "    }\n",
       "</style>\n",
       "<table border=\"1\" class=\"dataframe\">\n",
       "  <thead>\n",
       "    <tr style=\"text-align: right;\">\n",
       "      <th></th>\n",
       "      <th>year</th>\n",
       "      <th>month</th>\n",
       "      <th>day</th>\n",
       "    </tr>\n",
       "  </thead>\n",
       "  <tbody>\n",
       "    <tr>\n",
       "      <th>0</th>\n",
       "      <td>2025</td>\n",
       "      <td>2</td>\n",
       "      <td>5</td>\n",
       "    </tr>\n",
       "    <tr>\n",
       "      <th>1</th>\n",
       "      <td>2024</td>\n",
       "      <td>4</td>\n",
       "      <td>4</td>\n",
       "    </tr>\n",
       "    <tr>\n",
       "      <th>2</th>\n",
       "      <td>2023</td>\n",
       "      <td>8</td>\n",
       "      <td>5</td>\n",
       "    </tr>\n",
       "  </tbody>\n",
       "</table>\n",
       "</div>"
      ],
      "text/plain": [
       "   year  month  day\n",
       "0  2025      2    5\n",
       "1  2024      4    4\n",
       "2  2023      8    5"
      ]
     },
     "execution_count": 17,
     "metadata": {},
     "output_type": "execute_result"
    }
   ],
   "source": [
    "df"
   ]
  },
  {
   "cell_type": "code",
   "execution_count": 18,
   "id": "890c9cc7-0891-4ab7-82da-f59b530768e4",
   "metadata": {},
   "outputs": [
    {
     "data": {
      "text/plain": [
       "0   2025-02-05\n",
       "1   2024-04-04\n",
       "2   2023-08-05\n",
       "dtype: datetime64[ns]"
      ]
     },
     "execution_count": 18,
     "metadata": {},
     "output_type": "execute_result"
    }
   ],
   "source": [
    "pd.to_datetime(df)"
   ]
  },
  {
   "cell_type": "code",
   "execution_count": 19,
   "id": "f45e75c6-7f1b-43f2-96d3-a9ef91e66482",
   "metadata": {},
   "outputs": [],
   "source": [
    "datestr = [\"2025-07-06 12:00:00\",\n",
    "           \"2034-08-04 13:45:34\"]"
   ]
  },
  {
   "cell_type": "code",
   "execution_count": 20,
   "id": "696dd270-8a4b-4ef6-8556-c7e9a791365a",
   "metadata": {},
   "outputs": [],
   "source": [
    "# Missing values, Not a Time values are also accepted\n",
    "idx = pd.to_datetime(datestrs + [None])"
   ]
  },
  {
   "cell_type": "code",
   "execution_count": 21,
   "id": "2208c9ec-4fae-42b5-b22c-4ffa42cf95c9",
   "metadata": {},
   "outputs": [
    {
     "data": {
      "text/plain": [
       "DatetimeIndex(['2011-07-06 12:00:00', '2025-08-06 00:00:00', 'NaT'], dtype='datetime64[ns]', freq=None)"
      ]
     },
     "execution_count": 21,
     "metadata": {},
     "output_type": "execute_result"
    }
   ],
   "source": [
    "idx"
   ]
  },
  {
   "cell_type": "code",
   "execution_count": 22,
   "id": "6797c513-a438-47b1-b20d-98229a57151f",
   "metadata": {},
   "outputs": [
    {
     "data": {
      "text/plain": [
       "NaT"
      ]
     },
     "execution_count": 22,
     "metadata": {},
     "output_type": "execute_result"
    }
   ],
   "source": [
    "# indexing idx\n",
    "idx[2]"
   ]
  },
  {
   "cell_type": "code",
   "execution_count": 23,
   "id": "415f6f21-7930-4ba9-86cd-be24182f36bd",
   "metadata": {},
   "outputs": [
    {
     "data": {
      "text/plain": [
       "array([False, False,  True])"
      ]
     },
     "execution_count": 23,
     "metadata": {},
     "output_type": "execute_result"
    }
   ],
   "source": [
    "pd.isna(idx)"
   ]
  },
  {
   "cell_type": "markdown",
   "id": "a83ece02-783c-4d4f-afc6-092d0d756bd6",
   "metadata": {},
   "source": [
    "<h4>Time Series Basics</h4>"
   ]
  },
  {
   "cell_type": "code",
   "execution_count": 24,
   "id": "4231ac4c-cb8e-4ed7-a669-c8af90b15a0d",
   "metadata": {},
   "outputs": [],
   "source": [
    "# time series\n",
    "dates = [datetime(2024, 6, 2),\n",
    "        datetime(2025, 10, 21),\n",
    "        datetime(2024, 4, 12),\n",
    "        datetime(2023, 10, 5),\n",
    "        datetime(2016, 11, 3),\n",
    "        datetime(2017, 3, 15),\n",
    "        datetime(2019, 6, 3),\n",
    "        datetime(2020, 5, 8),\n",
    "       ]"
   ]
  },
  {
   "cell_type": "code",
   "execution_count": 25,
   "id": "7454449a-59f2-4990-aeeb-0f25b3e083bb",
   "metadata": {},
   "outputs": [],
   "source": [
    "ts =pd.Series(np.random.standard_normal(8),\n",
    "              index=dates,\n",
    "             )"
   ]
  },
  {
   "cell_type": "code",
   "execution_count": 26,
   "id": "a78c476b-151b-4f83-8e46-2bfe93c81da8",
   "metadata": {},
   "outputs": [
    {
     "data": {
      "text/plain": [
       "2024-06-02    1.182351\n",
       "2025-10-21   -0.386364\n",
       "2024-04-12    0.035899\n",
       "2023-10-05   -0.203454\n",
       "2016-11-03   -0.870484\n",
       "2017-03-15   -1.246284\n",
       "2019-06-03    1.368631\n",
       "2020-05-08    0.499920\n",
       "dtype: float64"
      ]
     },
     "execution_count": 26,
     "metadata": {},
     "output_type": "execute_result"
    }
   ],
   "source": [
    "ts"
   ]
  },
  {
   "cell_type": "code",
   "execution_count": 27,
   "id": "f516ed5e-9fe5-4ce6-8455-f5aefbc54611",
   "metadata": {},
   "outputs": [
    {
     "data": {
      "text/plain": [
       "2016-11-03         NaN\n",
       "2017-03-15         NaN\n",
       "2019-06-03    2.737261\n",
       "2020-05-08         NaN\n",
       "2023-10-05   -0.406908\n",
       "2024-04-12         NaN\n",
       "2024-06-02    2.364702\n",
       "2025-10-21         NaN\n",
       "dtype: float64"
      ]
     },
     "execution_count": 27,
     "metadata": {},
     "output_type": "execute_result"
    }
   ],
   "source": [
    "ts + ts[::3]"
   ]
  },
  {
   "cell_type": "code",
   "execution_count": 28,
   "id": "b4b800ed-4319-4df7-88f4-e0c227348de6",
   "metadata": {},
   "outputs": [
    {
     "data": {
      "text/plain": [
       "2024-06-02    1.182351\n",
       "2023-10-05   -0.203454\n",
       "2019-06-03    1.368631\n",
       "dtype: float64"
      ]
     },
     "execution_count": 28,
     "metadata": {},
     "output_type": "execute_result"
    }
   ],
   "source": [
    "ts[::3]"
   ]
  },
  {
   "cell_type": "markdown",
   "id": "c1d1bad1-2d75-45c3-a5cf-9894164bb67d",
   "metadata": {},
   "source": [
    "<h4>indexing, Selecting and Subsetting</h4>"
   ]
  },
  {
   "cell_type": "code",
   "execution_count": 29,
   "id": "b3a63b28-f387-461c-ba3e-02494eed20f0",
   "metadata": {},
   "outputs": [],
   "source": [
    "# same as indexing a series\n",
    "stamp = ts.index[2]"
   ]
  },
  {
   "cell_type": "code",
   "execution_count": 30,
   "id": "f6aa4016-21af-41b1-940c-a43c240cbee9",
   "metadata": {},
   "outputs": [
    {
     "data": {
      "text/plain": [
       "Timestamp('2024-04-12 00:00:00')"
      ]
     },
     "execution_count": 30,
     "metadata": {},
     "output_type": "execute_result"
    }
   ],
   "source": [
    "stamp"
   ]
  },
  {
   "cell_type": "code",
   "execution_count": 31,
   "id": "b28abe19-d644-4bb1-8e00-5e131f709bb3",
   "metadata": {},
   "outputs": [
    {
     "data": {
      "text/plain": [
       "1.1823510804583968"
      ]
     },
     "execution_count": 31,
     "metadata": {},
     "output_type": "execute_result"
    }
   ],
   "source": [
    "ts.iat[0]"
   ]
  },
  {
   "cell_type": "code",
   "execution_count": 32,
   "id": "2f2e11a9-8ff9-4f7b-9898-7ba7882bcb29",
   "metadata": {},
   "outputs": [],
   "source": [
    "# indexing by year\n",
    "longer_ts = pd.Series(np.random.standard_normal(2000),\n",
    "                      index=pd.date_range(\"2024-05-22\",\n",
    "                                          periods=2000))"
   ]
  },
  {
   "cell_type": "code",
   "execution_count": 33,
   "id": "5e3f0026-8206-41be-9b02-94f5e950271c",
   "metadata": {},
   "outputs": [
    {
     "data": {
      "text/plain": [
       "2024-05-22    0.505129\n",
       "2024-05-23    0.742901\n",
       "2024-05-24   -0.229197\n",
       "2024-05-25   -0.063048\n",
       "2024-05-26    0.616672\n",
       "                ...   \n",
       "2024-12-27    1.511995\n",
       "2024-12-28    0.199945\n",
       "2024-12-29   -0.467256\n",
       "2024-12-30    0.043327\n",
       "2024-12-31   -0.891903\n",
       "Freq: D, Length: 224, dtype: float64"
      ]
     },
     "execution_count": 33,
     "metadata": {},
     "output_type": "execute_result"
    }
   ],
   "source": [
    "longer_ts[\"2024\"]"
   ]
  },
  {
   "cell_type": "code",
   "execution_count": 34,
   "id": "76f5d3ce-448a-4a07-bd6d-7f78d4052e76",
   "metadata": {},
   "outputs": [
    {
     "data": {
      "text/plain": [
       "2024-06-01    0.645798\n",
       "2024-06-02   -0.108218\n",
       "2024-06-03   -0.308710\n",
       "2024-06-04    0.738687\n",
       "2024-06-05    1.100226\n",
       "2024-06-06   -1.916166\n",
       "2024-06-07   -0.138685\n",
       "2024-06-08   -0.201733\n",
       "2024-06-09    0.229633\n",
       "2024-06-10    2.246892\n",
       "2024-06-11    0.404023\n",
       "2024-06-12    0.312153\n",
       "2024-06-13   -2.399723\n",
       "2024-06-14    0.118628\n",
       "2024-06-15    0.547206\n",
       "2024-06-16   -0.835269\n",
       "2024-06-17    0.397929\n",
       "2024-06-18   -0.152744\n",
       "2024-06-19   -0.789868\n",
       "2024-06-20   -0.912868\n",
       "2024-06-21   -0.671494\n",
       "2024-06-22   -0.711756\n",
       "2024-06-23   -1.080144\n",
       "2024-06-24    0.217547\n",
       "2024-06-25    0.512780\n",
       "2024-06-26   -0.748238\n",
       "2024-06-27   -0.109343\n",
       "2024-06-28    1.207794\n",
       "2024-06-29    1.436390\n",
       "2024-06-30    1.748679\n",
       "Freq: D, dtype: float64"
      ]
     },
     "execution_count": 34,
     "metadata": {},
     "output_type": "execute_result"
    }
   ],
   "source": [
    "# selecting by year-month\n",
    "longer_ts[\"2024-06\"]"
   ]
  },
  {
   "cell_type": "code",
   "execution_count": 35,
   "id": "edc475c3-b65c-49e9-9e5f-80d2bd1eb3b7",
   "metadata": {},
   "outputs": [
    {
     "data": {
      "text/plain": [
       "2024-05-22    0.505129\n",
       "2024-05-23    0.742901\n",
       "2024-05-24   -0.229197\n",
       "2024-05-25   -0.063048\n",
       "2024-05-26    0.616672\n",
       "                ...   \n",
       "2024-07-28    0.905762\n",
       "2024-07-29   -0.172953\n",
       "2024-07-30    0.060946\n",
       "2024-07-31    1.090371\n",
       "2024-08-01   -1.006973\n",
       "Freq: D, Length: 72, dtype: float64"
      ]
     },
     "execution_count": 35,
     "metadata": {},
     "output_type": "execute_result"
    }
   ],
   "source": [
    "# Slicing by datetime\n",
    "longer_ts[datetime(2024,5,22):\n",
    "datetime(2024,8,1)\n",
    "]"
   ]
  },
  {
   "cell_type": "code",
   "execution_count": 36,
   "id": "c14fc0ad-07f2-47f4-ad3e-c55f7814a0ce",
   "metadata": {},
   "outputs": [
    {
     "data": {
      "text/plain": [
       "2024-05-22    0.505129\n",
       "2024-05-23    0.742901\n",
       "2024-05-24   -0.229197\n",
       "2024-05-25   -0.063048\n",
       "2024-05-26    0.616672\n",
       "                ...   \n",
       "2024-08-22   -0.278164\n",
       "2024-08-23   -0.320057\n",
       "2024-08-24   -0.306944\n",
       "2024-08-25    1.968580\n",
       "2024-08-26   -0.901867\n",
       "Freq: D, Length: 97, dtype: float64"
      ]
     },
     "execution_count": 36,
     "metadata": {},
     "output_type": "execute_result"
    }
   ],
   "source": [
    "# Slicing with a timestamp not contained in the ts\n",
    "longer_ts[datetime(2016, 8, 26):\n",
    "datetime(2024, 8, 26)\n",
    "]"
   ]
  },
  {
   "cell_type": "code",
   "execution_count": 37,
   "id": "9f552a3d-b577-455d-ac72-24cc3724501f",
   "metadata": {},
   "outputs": [
    {
     "data": {
      "text/plain": [
       "2024-05-22    0.505129\n",
       "2024-05-23    0.742901\n",
       "2024-05-24   -0.229197\n",
       "2024-05-25   -0.063048\n",
       "2024-05-26    0.616672\n",
       "                ...   \n",
       "2029-11-07   -1.353321\n",
       "2029-11-08   -0.036476\n",
       "2029-11-09   -0.396789\n",
       "2029-11-10   -0.933460\n",
       "2029-11-11   -0.284162\n",
       "Freq: D, Length: 2000, dtype: float64"
      ]
     },
     "execution_count": 37,
     "metadata": {},
     "output_type": "execute_result"
    }
   ],
   "source": [
    "longer_ts"
   ]
  },
  {
   "cell_type": "code",
   "execution_count": 38,
   "id": "487d875b-83c2-492e-9a0e-bb3310b7fa1f",
   "metadata": {},
   "outputs": [
    {
     "data": {
      "text/plain": [
       "2024-05-22    0.505129\n",
       "2024-05-23    0.742901\n",
       "2024-05-24   -0.229197\n",
       "2024-05-25   -0.063048\n",
       "2024-05-26    0.616672\n",
       "                ...   \n",
       "2025-05-18   -1.353756\n",
       "2025-05-19   -1.318722\n",
       "2025-05-20   -0.643235\n",
       "2025-05-21    1.794686\n",
       "2025-05-22   -0.497168\n",
       "Freq: D, Length: 366, dtype: float64"
      ]
     },
     "execution_count": 38,
     "metadata": {},
     "output_type": "execute_result"
    }
   ],
   "source": [
    "# truncating after a specific date\n",
    "longer_ts.truncate(after=\"2025-05-22\")"
   ]
  },
  {
   "cell_type": "code",
   "execution_count": 39,
   "id": "ed8e9f70-82fd-4930-afa6-d13fcf6c3b3b",
   "metadata": {},
   "outputs": [],
   "source": [
    "dates = pd.date_range(\"2024-01-01\",\n",
    "                      periods=100,\n",
    "                      freq=\"W-WED\"\n",
    "                     )"
   ]
  },
  {
   "cell_type": "code",
   "execution_count": 40,
   "id": "7e28c20f-d407-4236-a19e-c1b5e5dca963",
   "metadata": {},
   "outputs": [],
   "source": [
    "long_df = pd.DataFrame(np.random.standard_normal((100,4)),\n",
    "                       index=dates,\n",
    "                       columns=[\"Iganga\", \"Jinja\", \"Kampala\", \"Busia\"])"
   ]
  },
  {
   "cell_type": "code",
   "execution_count": 41,
   "id": "9ce9342e-b2cd-4fd4-8508-f52cc032f869",
   "metadata": {},
   "outputs": [
    {
     "data": {
      "text/html": [
       "<div>\n",
       "<style scoped>\n",
       "    .dataframe tbody tr th:only-of-type {\n",
       "        vertical-align: middle;\n",
       "    }\n",
       "\n",
       "    .dataframe tbody tr th {\n",
       "        vertical-align: top;\n",
       "    }\n",
       "\n",
       "    .dataframe thead th {\n",
       "        text-align: right;\n",
       "    }\n",
       "</style>\n",
       "<table border=\"1\" class=\"dataframe\">\n",
       "  <thead>\n",
       "    <tr style=\"text-align: right;\">\n",
       "      <th></th>\n",
       "      <th>Iganga</th>\n",
       "      <th>Jinja</th>\n",
       "      <th>Kampala</th>\n",
       "      <th>Busia</th>\n",
       "    </tr>\n",
       "  </thead>\n",
       "  <tbody>\n",
       "    <tr>\n",
       "      <th>2024-01-03</th>\n",
       "      <td>0.164574</td>\n",
       "      <td>1.933254</td>\n",
       "      <td>-0.324439</td>\n",
       "      <td>0.050317</td>\n",
       "    </tr>\n",
       "    <tr>\n",
       "      <th>2024-01-10</th>\n",
       "      <td>0.059902</td>\n",
       "      <td>-0.624235</td>\n",
       "      <td>-0.033274</td>\n",
       "      <td>-2.177992</td>\n",
       "    </tr>\n",
       "    <tr>\n",
       "      <th>2024-01-17</th>\n",
       "      <td>-0.009286</td>\n",
       "      <td>-0.257243</td>\n",
       "      <td>-1.869716</td>\n",
       "      <td>-1.338445</td>\n",
       "    </tr>\n",
       "    <tr>\n",
       "      <th>2024-01-24</th>\n",
       "      <td>-0.589128</td>\n",
       "      <td>-0.062929</td>\n",
       "      <td>0.682093</td>\n",
       "      <td>0.904642</td>\n",
       "    </tr>\n",
       "    <tr>\n",
       "      <th>2024-01-31</th>\n",
       "      <td>0.223059</td>\n",
       "      <td>-1.732872</td>\n",
       "      <td>-1.338681</td>\n",
       "      <td>-0.457564</td>\n",
       "    </tr>\n",
       "    <tr>\n",
       "      <th>2024-02-07</th>\n",
       "      <td>-0.741148</td>\n",
       "      <td>0.566889</td>\n",
       "      <td>1.562738</td>\n",
       "      <td>-1.103863</td>\n",
       "    </tr>\n",
       "    <tr>\n",
       "      <th>2024-02-14</th>\n",
       "      <td>0.900590</td>\n",
       "      <td>0.616911</td>\n",
       "      <td>1.200165</td>\n",
       "      <td>-1.482605</td>\n",
       "    </tr>\n",
       "    <tr>\n",
       "      <th>2024-02-21</th>\n",
       "      <td>0.416712</td>\n",
       "      <td>1.513920</td>\n",
       "      <td>-0.937691</td>\n",
       "      <td>0.279966</td>\n",
       "    </tr>\n",
       "    <tr>\n",
       "      <th>2024-02-28</th>\n",
       "      <td>-2.594251</td>\n",
       "      <td>-0.158463</td>\n",
       "      <td>-1.110528</td>\n",
       "      <td>0.121581</td>\n",
       "    </tr>\n",
       "    <tr>\n",
       "      <th>2024-03-06</th>\n",
       "      <td>0.689501</td>\n",
       "      <td>0.403745</td>\n",
       "      <td>-0.945406</td>\n",
       "      <td>1.560627</td>\n",
       "    </tr>\n",
       "    <tr>\n",
       "      <th>2024-03-13</th>\n",
       "      <td>0.793121</td>\n",
       "      <td>-0.829635</td>\n",
       "      <td>1.155828</td>\n",
       "      <td>-0.551364</td>\n",
       "    </tr>\n",
       "    <tr>\n",
       "      <th>2024-03-20</th>\n",
       "      <td>0.141645</td>\n",
       "      <td>0.545000</td>\n",
       "      <td>0.266008</td>\n",
       "      <td>-0.643591</td>\n",
       "    </tr>\n",
       "    <tr>\n",
       "      <th>2024-03-27</th>\n",
       "      <td>0.027795</td>\n",
       "      <td>-0.410929</td>\n",
       "      <td>-0.818222</td>\n",
       "      <td>-0.256390</td>\n",
       "    </tr>\n",
       "    <tr>\n",
       "      <th>2024-04-03</th>\n",
       "      <td>0.948796</td>\n",
       "      <td>-0.226400</td>\n",
       "      <td>0.523371</td>\n",
       "      <td>-0.557223</td>\n",
       "    </tr>\n",
       "    <tr>\n",
       "      <th>2024-04-10</th>\n",
       "      <td>0.795314</td>\n",
       "      <td>0.065277</td>\n",
       "      <td>0.905144</td>\n",
       "      <td>-1.888145</td>\n",
       "    </tr>\n",
       "    <tr>\n",
       "      <th>2024-04-17</th>\n",
       "      <td>-0.955638</td>\n",
       "      <td>0.611955</td>\n",
       "      <td>-1.081434</td>\n",
       "      <td>0.648492</td>\n",
       "    </tr>\n",
       "    <tr>\n",
       "      <th>2024-04-24</th>\n",
       "      <td>0.263017</td>\n",
       "      <td>-0.487022</td>\n",
       "      <td>0.411729</td>\n",
       "      <td>0.963654</td>\n",
       "    </tr>\n",
       "    <tr>\n",
       "      <th>2024-05-01</th>\n",
       "      <td>1.689091</td>\n",
       "      <td>0.063824</td>\n",
       "      <td>1.469055</td>\n",
       "      <td>1.077071</td>\n",
       "    </tr>\n",
       "    <tr>\n",
       "      <th>2024-05-08</th>\n",
       "      <td>-1.202346</td>\n",
       "      <td>0.649615</td>\n",
       "      <td>1.719303</td>\n",
       "      <td>0.160643</td>\n",
       "    </tr>\n",
       "    <tr>\n",
       "      <th>2024-05-15</th>\n",
       "      <td>0.578065</td>\n",
       "      <td>-0.387088</td>\n",
       "      <td>-2.208506</td>\n",
       "      <td>-0.035863</td>\n",
       "    </tr>\n",
       "    <tr>\n",
       "      <th>2024-05-22</th>\n",
       "      <td>0.899030</td>\n",
       "      <td>-1.084076</td>\n",
       "      <td>1.000906</td>\n",
       "      <td>-0.430951</td>\n",
       "    </tr>\n",
       "    <tr>\n",
       "      <th>2024-05-29</th>\n",
       "      <td>-0.153650</td>\n",
       "      <td>0.801313</td>\n",
       "      <td>0.072535</td>\n",
       "      <td>-0.258580</td>\n",
       "    </tr>\n",
       "    <tr>\n",
       "      <th>2024-06-05</th>\n",
       "      <td>0.413113</td>\n",
       "      <td>0.311794</td>\n",
       "      <td>1.765737</td>\n",
       "      <td>0.166086</td>\n",
       "    </tr>\n",
       "    <tr>\n",
       "      <th>2024-06-12</th>\n",
       "      <td>-0.497799</td>\n",
       "      <td>-0.225447</td>\n",
       "      <td>-0.194751</td>\n",
       "      <td>0.134224</td>\n",
       "    </tr>\n",
       "    <tr>\n",
       "      <th>2024-06-19</th>\n",
       "      <td>0.993206</td>\n",
       "      <td>0.059250</td>\n",
       "      <td>-2.851825</td>\n",
       "      <td>1.132556</td>\n",
       "    </tr>\n",
       "    <tr>\n",
       "      <th>2024-06-26</th>\n",
       "      <td>1.079011</td>\n",
       "      <td>0.649445</td>\n",
       "      <td>-0.851310</td>\n",
       "      <td>0.204061</td>\n",
       "    </tr>\n",
       "    <tr>\n",
       "      <th>2024-07-03</th>\n",
       "      <td>-0.127856</td>\n",
       "      <td>-0.765831</td>\n",
       "      <td>1.276162</td>\n",
       "      <td>-1.165649</td>\n",
       "    </tr>\n",
       "    <tr>\n",
       "      <th>2024-07-10</th>\n",
       "      <td>-0.971272</td>\n",
       "      <td>0.483358</td>\n",
       "      <td>-0.103378</td>\n",
       "      <td>0.364126</td>\n",
       "    </tr>\n",
       "    <tr>\n",
       "      <th>2024-07-17</th>\n",
       "      <td>-0.171995</td>\n",
       "      <td>-0.599140</td>\n",
       "      <td>-0.322061</td>\n",
       "      <td>1.872095</td>\n",
       "    </tr>\n",
       "    <tr>\n",
       "      <th>2024-07-24</th>\n",
       "      <td>-0.581582</td>\n",
       "      <td>0.844609</td>\n",
       "      <td>-0.697620</td>\n",
       "      <td>-0.256326</td>\n",
       "    </tr>\n",
       "    <tr>\n",
       "      <th>2024-07-31</th>\n",
       "      <td>0.746455</td>\n",
       "      <td>-1.853249</td>\n",
       "      <td>-1.293815</td>\n",
       "      <td>0.831240</td>\n",
       "    </tr>\n",
       "    <tr>\n",
       "      <th>2024-08-07</th>\n",
       "      <td>-1.788293</td>\n",
       "      <td>-0.037180</td>\n",
       "      <td>-0.317252</td>\n",
       "      <td>-1.508848</td>\n",
       "    </tr>\n",
       "    <tr>\n",
       "      <th>2024-08-14</th>\n",
       "      <td>-1.918962</td>\n",
       "      <td>0.474415</td>\n",
       "      <td>-1.556219</td>\n",
       "      <td>-0.794496</td>\n",
       "    </tr>\n",
       "    <tr>\n",
       "      <th>2024-08-21</th>\n",
       "      <td>-1.113376</td>\n",
       "      <td>-0.468658</td>\n",
       "      <td>0.985488</td>\n",
       "      <td>-0.040483</td>\n",
       "    </tr>\n",
       "    <tr>\n",
       "      <th>2024-08-28</th>\n",
       "      <td>1.432590</td>\n",
       "      <td>-2.050649</td>\n",
       "      <td>-1.352332</td>\n",
       "      <td>-1.355866</td>\n",
       "    </tr>\n",
       "    <tr>\n",
       "      <th>2024-09-04</th>\n",
       "      <td>-0.042195</td>\n",
       "      <td>-1.057064</td>\n",
       "      <td>0.973012</td>\n",
       "      <td>-1.324148</td>\n",
       "    </tr>\n",
       "    <tr>\n",
       "      <th>2024-09-11</th>\n",
       "      <td>0.958808</td>\n",
       "      <td>-0.548947</td>\n",
       "      <td>0.401155</td>\n",
       "      <td>-1.771552</td>\n",
       "    </tr>\n",
       "    <tr>\n",
       "      <th>2024-09-18</th>\n",
       "      <td>0.279161</td>\n",
       "      <td>0.962159</td>\n",
       "      <td>1.171108</td>\n",
       "      <td>-0.777719</td>\n",
       "    </tr>\n",
       "    <tr>\n",
       "      <th>2024-09-25</th>\n",
       "      <td>-1.342477</td>\n",
       "      <td>-0.729687</td>\n",
       "      <td>-1.399305</td>\n",
       "      <td>1.029971</td>\n",
       "    </tr>\n",
       "    <tr>\n",
       "      <th>2024-10-02</th>\n",
       "      <td>1.228852</td>\n",
       "      <td>-0.913205</td>\n",
       "      <td>-0.364083</td>\n",
       "      <td>-0.238294</td>\n",
       "    </tr>\n",
       "    <tr>\n",
       "      <th>2024-10-09</th>\n",
       "      <td>0.840969</td>\n",
       "      <td>1.448205</td>\n",
       "      <td>0.145510</td>\n",
       "      <td>-0.385387</td>\n",
       "    </tr>\n",
       "    <tr>\n",
       "      <th>2024-10-16</th>\n",
       "      <td>0.648556</td>\n",
       "      <td>1.666416</td>\n",
       "      <td>0.761671</td>\n",
       "      <td>0.738571</td>\n",
       "    </tr>\n",
       "    <tr>\n",
       "      <th>2024-10-23</th>\n",
       "      <td>0.520945</td>\n",
       "      <td>0.720263</td>\n",
       "      <td>1.090820</td>\n",
       "      <td>0.291785</td>\n",
       "    </tr>\n",
       "    <tr>\n",
       "      <th>2024-10-30</th>\n",
       "      <td>1.211978</td>\n",
       "      <td>-0.343661</td>\n",
       "      <td>-1.256392</td>\n",
       "      <td>-1.274536</td>\n",
       "    </tr>\n",
       "    <tr>\n",
       "      <th>2024-11-06</th>\n",
       "      <td>0.172022</td>\n",
       "      <td>0.429828</td>\n",
       "      <td>0.371978</td>\n",
       "      <td>-1.016351</td>\n",
       "    </tr>\n",
       "    <tr>\n",
       "      <th>2024-11-13</th>\n",
       "      <td>-0.495501</td>\n",
       "      <td>1.212664</td>\n",
       "      <td>1.258881</td>\n",
       "      <td>0.474887</td>\n",
       "    </tr>\n",
       "    <tr>\n",
       "      <th>2024-11-20</th>\n",
       "      <td>0.507925</td>\n",
       "      <td>-0.581823</td>\n",
       "      <td>-0.384017</td>\n",
       "      <td>-0.222621</td>\n",
       "    </tr>\n",
       "    <tr>\n",
       "      <th>2024-11-27</th>\n",
       "      <td>0.265910</td>\n",
       "      <td>-0.657241</td>\n",
       "      <td>-0.802195</td>\n",
       "      <td>-0.761525</td>\n",
       "    </tr>\n",
       "    <tr>\n",
       "      <th>2024-12-04</th>\n",
       "      <td>-0.754264</td>\n",
       "      <td>-1.764416</td>\n",
       "      <td>-0.245161</td>\n",
       "      <td>-0.369501</td>\n",
       "    </tr>\n",
       "    <tr>\n",
       "      <th>2024-12-11</th>\n",
       "      <td>-0.978630</td>\n",
       "      <td>-0.301918</td>\n",
       "      <td>-0.096138</td>\n",
       "      <td>-0.435995</td>\n",
       "    </tr>\n",
       "    <tr>\n",
       "      <th>2024-12-18</th>\n",
       "      <td>0.056563</td>\n",
       "      <td>-1.585492</td>\n",
       "      <td>-0.137690</td>\n",
       "      <td>-1.646567</td>\n",
       "    </tr>\n",
       "    <tr>\n",
       "      <th>2024-12-25</th>\n",
       "      <td>-0.726232</td>\n",
       "      <td>0.614356</td>\n",
       "      <td>-0.445547</td>\n",
       "      <td>0.764107</td>\n",
       "    </tr>\n",
       "  </tbody>\n",
       "</table>\n",
       "</div>"
      ],
      "text/plain": [
       "              Iganga     Jinja   Kampala     Busia\n",
       "2024-01-03  0.164574  1.933254 -0.324439  0.050317\n",
       "2024-01-10  0.059902 -0.624235 -0.033274 -2.177992\n",
       "2024-01-17 -0.009286 -0.257243 -1.869716 -1.338445\n",
       "2024-01-24 -0.589128 -0.062929  0.682093  0.904642\n",
       "2024-01-31  0.223059 -1.732872 -1.338681 -0.457564\n",
       "2024-02-07 -0.741148  0.566889  1.562738 -1.103863\n",
       "2024-02-14  0.900590  0.616911  1.200165 -1.482605\n",
       "2024-02-21  0.416712  1.513920 -0.937691  0.279966\n",
       "2024-02-28 -2.594251 -0.158463 -1.110528  0.121581\n",
       "2024-03-06  0.689501  0.403745 -0.945406  1.560627\n",
       "2024-03-13  0.793121 -0.829635  1.155828 -0.551364\n",
       "2024-03-20  0.141645  0.545000  0.266008 -0.643591\n",
       "2024-03-27  0.027795 -0.410929 -0.818222 -0.256390\n",
       "2024-04-03  0.948796 -0.226400  0.523371 -0.557223\n",
       "2024-04-10  0.795314  0.065277  0.905144 -1.888145\n",
       "2024-04-17 -0.955638  0.611955 -1.081434  0.648492\n",
       "2024-04-24  0.263017 -0.487022  0.411729  0.963654\n",
       "2024-05-01  1.689091  0.063824  1.469055  1.077071\n",
       "2024-05-08 -1.202346  0.649615  1.719303  0.160643\n",
       "2024-05-15  0.578065 -0.387088 -2.208506 -0.035863\n",
       "2024-05-22  0.899030 -1.084076  1.000906 -0.430951\n",
       "2024-05-29 -0.153650  0.801313  0.072535 -0.258580\n",
       "2024-06-05  0.413113  0.311794  1.765737  0.166086\n",
       "2024-06-12 -0.497799 -0.225447 -0.194751  0.134224\n",
       "2024-06-19  0.993206  0.059250 -2.851825  1.132556\n",
       "2024-06-26  1.079011  0.649445 -0.851310  0.204061\n",
       "2024-07-03 -0.127856 -0.765831  1.276162 -1.165649\n",
       "2024-07-10 -0.971272  0.483358 -0.103378  0.364126\n",
       "2024-07-17 -0.171995 -0.599140 -0.322061  1.872095\n",
       "2024-07-24 -0.581582  0.844609 -0.697620 -0.256326\n",
       "2024-07-31  0.746455 -1.853249 -1.293815  0.831240\n",
       "2024-08-07 -1.788293 -0.037180 -0.317252 -1.508848\n",
       "2024-08-14 -1.918962  0.474415 -1.556219 -0.794496\n",
       "2024-08-21 -1.113376 -0.468658  0.985488 -0.040483\n",
       "2024-08-28  1.432590 -2.050649 -1.352332 -1.355866\n",
       "2024-09-04 -0.042195 -1.057064  0.973012 -1.324148\n",
       "2024-09-11  0.958808 -0.548947  0.401155 -1.771552\n",
       "2024-09-18  0.279161  0.962159  1.171108 -0.777719\n",
       "2024-09-25 -1.342477 -0.729687 -1.399305  1.029971\n",
       "2024-10-02  1.228852 -0.913205 -0.364083 -0.238294\n",
       "2024-10-09  0.840969  1.448205  0.145510 -0.385387\n",
       "2024-10-16  0.648556  1.666416  0.761671  0.738571\n",
       "2024-10-23  0.520945  0.720263  1.090820  0.291785\n",
       "2024-10-30  1.211978 -0.343661 -1.256392 -1.274536\n",
       "2024-11-06  0.172022  0.429828  0.371978 -1.016351\n",
       "2024-11-13 -0.495501  1.212664  1.258881  0.474887\n",
       "2024-11-20  0.507925 -0.581823 -0.384017 -0.222621\n",
       "2024-11-27  0.265910 -0.657241 -0.802195 -0.761525\n",
       "2024-12-04 -0.754264 -1.764416 -0.245161 -0.369501\n",
       "2024-12-11 -0.978630 -0.301918 -0.096138 -0.435995\n",
       "2024-12-18  0.056563 -1.585492 -0.137690 -1.646567\n",
       "2024-12-25 -0.726232  0.614356 -0.445547  0.764107"
      ]
     },
     "execution_count": 41,
     "metadata": {},
     "output_type": "execute_result"
    }
   ],
   "source": [
    "long_df.loc[\"2024\"]"
   ]
  },
  {
   "cell_type": "markdown",
   "id": "bf083692-5721-43de-aeaa-3a3cda110c21",
   "metadata": {},
   "source": [
    "<h4>Time Series with Duplicates</h4>"
   ]
  },
  {
   "cell_type": "code",
   "execution_count": 42,
   "id": "1008f95d-0aa8-4e8d-8bc4-b3c65a8cf0df",
   "metadata": {},
   "outputs": [],
   "source": [
    "dates = pd.DatetimeIndex([\"2000-01-01\",\n",
    "                          \"2000-01-02\",\n",
    "                          \"2000-01-02\",\n",
    "                          \"2000-01-02\",\n",
    "                          \"2000-01-03\"])"
   ]
  },
  {
   "cell_type": "code",
   "execution_count": 43,
   "id": "f609b8fb-a70e-4f83-95aa-163b55b590c6",
   "metadata": {},
   "outputs": [],
   "source": [
    "dup_ts = pd.Series(np.arange(5),\n",
    "                   index=dates)"
   ]
  },
  {
   "cell_type": "code",
   "execution_count": 44,
   "id": "b1ea308f-f17e-41dc-b411-42d6758c5c7b",
   "metadata": {},
   "outputs": [
    {
     "data": {
      "text/plain": [
       "2000-01-01    0\n",
       "2000-01-02    1\n",
       "2000-01-02    2\n",
       "2000-01-02    3\n",
       "2000-01-03    4\n",
       "dtype: int32"
      ]
     },
     "execution_count": 44,
     "metadata": {},
     "output_type": "execute_result"
    }
   ],
   "source": [
    "dup_ts"
   ]
  },
  {
   "cell_type": "code",
   "execution_count": 45,
   "id": "bfe62b36-33be-4bff-8576-2fcf6be5fead",
   "metadata": {},
   "outputs": [
    {
     "data": {
      "text/plain": [
       "4"
      ]
     },
     "execution_count": 45,
     "metadata": {},
     "output_type": "execute_result"
    }
   ],
   "source": [
    "dup_ts[\"2000-01-03\"]"
   ]
  },
  {
   "cell_type": "code",
   "execution_count": 46,
   "id": "1c9d71f3-a29f-4f2d-bc5d-5060bce8b6e7",
   "metadata": {},
   "outputs": [
    {
     "data": {
      "text/plain": [
       "2000-01-02    1\n",
       "2000-01-02    2\n",
       "2000-01-02    3\n",
       "dtype: int32"
      ]
     },
     "execution_count": 46,
     "metadata": {},
     "output_type": "execute_result"
    }
   ],
   "source": [
    "dup_ts[\"2000-01-02\"]"
   ]
  },
  {
   "cell_type": "code",
   "execution_count": 47,
   "id": "7fbfdd2f-d070-4a8d-8f99-a44316008693",
   "metadata": {},
   "outputs": [],
   "source": [
    "# Aggregating\n",
    "grouped = dup_ts.groupby(level=0)"
   ]
  },
  {
   "cell_type": "code",
   "execution_count": 48,
   "id": "fa184176-58ff-4e8e-8ca7-7b44bb718661",
   "metadata": {},
   "outputs": [
    {
     "data": {
      "text/plain": [
       "2000-01-01    0.0\n",
       "2000-01-02    2.0\n",
       "2000-01-03    4.0\n",
       "dtype: float64"
      ]
     },
     "execution_count": 48,
     "metadata": {},
     "output_type": "execute_result"
    }
   ],
   "source": [
    "grouped.mean()"
   ]
  },
  {
   "cell_type": "code",
   "execution_count": 49,
   "id": "69bd282f-9020-4027-a07e-dde825544cc4",
   "metadata": {},
   "outputs": [
    {
     "data": {
      "text/plain": [
       "2000-01-01    1\n",
       "2000-01-02    3\n",
       "2000-01-03    1\n",
       "dtype: int64"
      ]
     },
     "execution_count": 49,
     "metadata": {},
     "output_type": "execute_result"
    }
   ],
   "source": [
    "grouped.count()"
   ]
  },
  {
   "cell_type": "markdown",
   "id": "1b452b7b-1ceb-4a2f-a348-07f32d3fafc9",
   "metadata": {},
   "source": [
    "<h4>Date Ranges, Frequencies and Shifting</h4>"
   ]
  },
  {
   "cell_type": "code",
   "execution_count": 50,
   "id": "90499814-fb27-47f1-8cfb-b97bcbb481ab",
   "metadata": {},
   "outputs": [
    {
     "data": {
      "text/plain": [
       "2024-06-02    1.182351\n",
       "2025-10-21   -0.386364\n",
       "2024-04-12    0.035899\n",
       "2023-10-05   -0.203454\n",
       "2016-11-03   -0.870484\n",
       "2017-03-15   -1.246284\n",
       "2019-06-03    1.368631\n",
       "2020-05-08    0.499920\n",
       "dtype: float64"
      ]
     },
     "execution_count": 50,
     "metadata": {},
     "output_type": "execute_result"
    }
   ],
   "source": [
    "ts"
   ]
  },
  {
   "cell_type": "code",
   "execution_count": 51,
   "id": "cbea68c4-f526-4a4b-9ba5-91198e2017ba",
   "metadata": {},
   "outputs": [],
   "source": [
    "resampler = ts.resample(\"D\")"
   ]
  },
  {
   "cell_type": "code",
   "execution_count": 52,
   "id": "72aa37dd-1ada-4bad-911d-0e299e9f68cb",
   "metadata": {},
   "outputs": [
    {
     "data": {
      "text/plain": [
       "<pandas.core.resample.DatetimeIndexResampler object at 0x00000161712BCB60>"
      ]
     },
     "execution_count": 52,
     "metadata": {},
     "output_type": "execute_result"
    }
   ],
   "source": [
    "resampler"
   ]
  },
  {
   "cell_type": "markdown",
   "id": "7476964d-8b73-478d-a87e-1f51174b4fb8",
   "metadata": {},
   "source": [
    "<h4>Generating Date Ranges</h4>"
   ]
  },
  {
   "cell_type": "code",
   "execution_count": 53,
   "id": "f402415f-5b66-4f37-a0e8-a0e0328360b6",
   "metadata": {},
   "outputs": [],
   "source": [
    "index = pd.date_range(\"2024-05-01\",\n",
    "                      \"2024-12-31\")"
   ]
  },
  {
   "cell_type": "code",
   "execution_count": 54,
   "id": "d0d0dbee-e882-46c5-871e-52a3277453f3",
   "metadata": {},
   "outputs": [
    {
     "data": {
      "text/plain": [
       "DatetimeIndex(['2024-05-01', '2024-05-02', '2024-05-03', '2024-05-04',\n",
       "               '2024-05-05', '2024-05-06', '2024-05-07', '2024-05-08',\n",
       "               '2024-05-09', '2024-05-10',\n",
       "               ...\n",
       "               '2024-12-22', '2024-12-23', '2024-12-24', '2024-12-25',\n",
       "               '2024-12-26', '2024-12-27', '2024-12-28', '2024-12-29',\n",
       "               '2024-12-30', '2024-12-31'],\n",
       "              dtype='datetime64[ns]', length=245, freq='D')"
      ]
     },
     "execution_count": 54,
     "metadata": {},
     "output_type": "execute_result"
    }
   ],
   "source": [
    "index"
   ]
  },
  {
   "cell_type": "code",
   "execution_count": 55,
   "id": "0236d7cf-acdc-485d-8e8d-8c9f4f07fbd7",
   "metadata": {},
   "outputs": [
    {
     "data": {
      "text/plain": [
       "DatetimeIndex(['2024-05-25', '2024-05-26', '2024-05-27', '2024-05-28',\n",
       "               '2024-05-29', '2024-05-30', '2024-05-31', '2024-06-01',\n",
       "               '2024-06-02', '2024-06-03'],\n",
       "              dtype='datetime64[ns]', freq='D')"
      ]
     },
     "execution_count": 55,
     "metadata": {},
     "output_type": "execute_result"
    }
   ],
   "source": [
    "# using start date, end date\n",
    "pd.date_range(start=\"2024-05-25\", periods=10)"
   ]
  },
  {
   "cell_type": "code",
   "execution_count": 56,
   "id": "18157ffb-9b81-4a3d-9923-529457711fc5",
   "metadata": {},
   "outputs": [
    {
     "data": {
      "text/plain": [
       "DatetimeIndex(['2008-05-01 00:00:00+03:00', '2008-06-01 00:00:00+03:00',\n",
       "               '2008-07-01 00:00:00+03:00', '2008-08-01 00:00:00+03:00',\n",
       "               '2008-09-01 00:00:00+03:00', '2008-10-01 00:00:00+03:00',\n",
       "               '2008-11-01 00:00:00+03:00', '2008-12-01 00:00:00+03:00',\n",
       "               '2009-01-01 00:00:00+03:00', '2009-02-01 00:00:00+03:00',\n",
       "               ...\n",
       "               '2024-03-01 00:00:00+03:00', '2024-04-01 00:00:00+03:00',\n",
       "               '2024-05-01 00:00:00+03:00', '2024-06-01 00:00:00+03:00',\n",
       "               '2024-07-01 00:00:00+03:00', '2024-08-01 00:00:00+03:00',\n",
       "               '2024-09-01 00:00:00+03:00', '2024-10-01 00:00:00+03:00',\n",
       "               '2024-11-01 00:00:00+03:00', '2024-12-01 00:00:00+03:00'],\n",
       "              dtype='datetime64[ns, Africa/Kampala]', length=200, freq='MS')"
      ]
     },
     "execution_count": 56,
     "metadata": {},
     "output_type": "execute_result"
    }
   ],
   "source": [
    "# using end\n",
    "pd.date_range(end=\"2024-12-31\",\n",
    "              periods=200,\n",
    "             tz='Africa/Kampala',\n",
    "             freq=\"MS\",\n",
    "              inclusive=\"both\",\n",
    "             )"
   ]
  },
  {
   "cell_type": "code",
   "execution_count": 57,
   "id": "7aab281b-647e-43b4-b0af-627e0c8e1041",
   "metadata": {},
   "outputs": [],
   "source": [
    "import pytz"
   ]
  },
  {
   "cell_type": "code",
   "execution_count": 58,
   "id": "3ff47427-1f0a-4a86-b64f-4de368be540b",
   "metadata": {},
   "outputs": [
    {
     "data": {
      "text/plain": [
       "['Africa/Abidjan',\n",
       " 'Africa/Accra',\n",
       " 'Africa/Addis_Ababa',\n",
       " 'Africa/Algiers',\n",
       " 'Africa/Asmara',\n",
       " 'Africa/Asmera',\n",
       " 'Africa/Bamako',\n",
       " 'Africa/Bangui',\n",
       " 'Africa/Banjul',\n",
       " 'Africa/Bissau',\n",
       " 'Africa/Blantyre',\n",
       " 'Africa/Brazzaville',\n",
       " 'Africa/Bujumbura',\n",
       " 'Africa/Cairo',\n",
       " 'Africa/Casablanca',\n",
       " 'Africa/Ceuta',\n",
       " 'Africa/Conakry',\n",
       " 'Africa/Dakar',\n",
       " 'Africa/Dar_es_Salaam',\n",
       " 'Africa/Djibouti',\n",
       " 'Africa/Douala',\n",
       " 'Africa/El_Aaiun',\n",
       " 'Africa/Freetown',\n",
       " 'Africa/Gaborone',\n",
       " 'Africa/Harare',\n",
       " 'Africa/Johannesburg',\n",
       " 'Africa/Juba',\n",
       " 'Africa/Kampala',\n",
       " 'Africa/Khartoum',\n",
       " 'Africa/Kigali',\n",
       " 'Africa/Kinshasa',\n",
       " 'Africa/Lagos',\n",
       " 'Africa/Libreville',\n",
       " 'Africa/Lome',\n",
       " 'Africa/Luanda',\n",
       " 'Africa/Lubumbashi',\n",
       " 'Africa/Lusaka',\n",
       " 'Africa/Malabo',\n",
       " 'Africa/Maputo',\n",
       " 'Africa/Maseru',\n",
       " 'Africa/Mbabane',\n",
       " 'Africa/Mogadishu',\n",
       " 'Africa/Monrovia',\n",
       " 'Africa/Nairobi',\n",
       " 'Africa/Ndjamena',\n",
       " 'Africa/Niamey',\n",
       " 'Africa/Nouakchott',\n",
       " 'Africa/Ouagadougou',\n",
       " 'Africa/Porto-Novo',\n",
       " 'Africa/Sao_Tome']"
      ]
     },
     "execution_count": 58,
     "metadata": {},
     "output_type": "execute_result"
    }
   ],
   "source": [
    "# time zone samples\n",
    "pytz.all_timezones[:50]"
   ]
  },
  {
   "cell_type": "code",
   "execution_count": 59,
   "id": "7384db93-b59b-4445-81c6-2178a9af6b5e",
   "metadata": {},
   "outputs": [
    {
     "data": {
      "text/plain": [
       "DatetimeIndex(['2024-01-01 00:00:00+03:00', '2024-01-02 00:00:00+03:00',\n",
       "               '2024-01-03 00:00:00+03:00', '2024-01-04 00:00:00+03:00',\n",
       "               '2024-01-05 00:00:00+03:00', '2024-01-06 00:00:00+03:00',\n",
       "               '2024-01-07 00:00:00+03:00', '2024-01-08 00:00:00+03:00',\n",
       "               '2024-01-09 00:00:00+03:00', '2024-01-10 00:00:00+03:00',\n",
       "               ...\n",
       "               '2025-12-22 00:00:00+03:00', '2025-12-23 00:00:00+03:00',\n",
       "               '2025-12-24 00:00:00+03:00', '2025-12-25 00:00:00+03:00',\n",
       "               '2025-12-26 00:00:00+03:00', '2025-12-27 00:00:00+03:00',\n",
       "               '2025-12-28 00:00:00+03:00', '2025-12-29 00:00:00+03:00',\n",
       "               '2025-12-30 00:00:00+03:00', '2025-12-31 00:00:00+03:00'],\n",
       "              dtype='datetime64[ns, Africa/Kampala]', length=731, freq='D')"
      ]
     },
     "execution_count": 59,
     "metadata": {},
     "output_type": "execute_result"
    }
   ],
   "source": [
    "# using localize\n",
    "pd.date_range(\n",
    "    start=pd.to_datetime(\"1/1/2024\", dayfirst=True).tz_localize(\"Africa/Kampala\"),\n",
    "    end=pd.to_datetime(\"31/12/2025\", dayfirst=True).tz_localize(\"Africa/Kampala\"),\n",
    "    )"
   ]
  },
  {
   "cell_type": "code",
   "execution_count": 60,
   "id": "89c6375e-c312-4a77-a6f9-8c101e5d04dc",
   "metadata": {},
   "outputs": [
    {
     "data": {
      "text/plain": [
       "DatetimeIndex(['2024-01-31', '2024-04-30', '2024-07-31', '2024-10-31',\n",
       "               '2025-01-31'],\n",
       "              dtype='datetime64[ns]', freq='3ME')"
      ]
     },
     "execution_count": 60,
     "metadata": {},
     "output_type": "execute_result"
    }
   ],
   "source": [
    "pd.date_range(start=\"1/1/2024\",\n",
    "              periods=5,\n",
    "              freq=\"3ME\"\n",
    "             )"
   ]
  },
  {
   "cell_type": "code",
   "execution_count": 61,
   "id": "b4b425f0-15f5-4c75-8f9d-815098004b1f",
   "metadata": {},
   "outputs": [
    {
     "data": {
      "text/plain": [
       "DatetimeIndex(['2017-01-01', '2117-01-01', '2217-01-01', '2317-01-01',\n",
       "               '2417-01-01', '2517-01-01', '2617-01-01', '2717-01-01',\n",
       "               '2817-01-01', '2917-01-01'],\n",
       "              dtype='datetime64[s]', freq='100YS-JAN')"
      ]
     },
     "execution_count": 61,
     "metadata": {},
     "output_type": "execute_result"
    }
   ],
   "source": [
    "# specifing unit\n",
    "pd.date_range(start=\"2017-01-01\",\n",
    "              periods=10,\n",
    "              freq=\"100YS\",\n",
    "              unit='s'\n",
    "             )"
   ]
  },
  {
   "cell_type": "code",
   "execution_count": 62,
   "id": "da969b57-d071-4a25-bae2-98364c59e8d9",
   "metadata": {},
   "outputs": [
    {
     "data": {
      "text/plain": [
       "DatetimeIndex(['2024-05-02', '2024-05-03', '2024-05-04', '2024-05-05',\n",
       "               '2024-05-06'],\n",
       "              dtype='datetime64[ns]', freq='D')"
      ]
     },
     "execution_count": 62,
     "metadata": {},
     "output_type": "execute_result"
    }
   ],
   "source": [
    "# Normalizing datetime\n",
    "pd.date_range(\"2024-05-02 12:54:21\",\n",
    "              periods=5,\n",
    "              normalize=True\n",
    "             )"
   ]
  },
  {
   "cell_type": "markdown",
   "id": "72744c2b-7e51-4c40-8803-e6be8c64ad02",
   "metadata": {},
   "source": [
    "<h4>Frequencies and Date Offsets</h4>"
   ]
  },
  {
   "cell_type": "code",
   "execution_count": 63,
   "id": "4a25d77f-7d0a-47c3-82c9-5ed91c550e8a",
   "metadata": {},
   "outputs": [
    {
     "data": {
      "text/plain": [
       "DatetimeIndex(['2025-02-01 00:00:00', '2025-02-01 04:00:00',\n",
       "               '2025-02-01 08:00:00', '2025-02-01 12:00:00',\n",
       "               '2025-02-01 16:00:00', '2025-02-01 20:00:00',\n",
       "               '2025-02-02 00:00:00', '2025-02-02 04:00:00',\n",
       "               '2025-02-02 08:00:00', '2025-02-02 12:00:00',\n",
       "               ...\n",
       "               '2025-05-01 08:00:00', '2025-05-01 12:00:00',\n",
       "               '2025-05-01 16:00:00', '2025-05-01 20:00:00',\n",
       "               '2025-05-02 00:00:00', '2025-05-02 04:00:00',\n",
       "               '2025-05-02 08:00:00', '2025-05-02 12:00:00',\n",
       "               '2025-05-02 16:00:00', '2025-05-02 20:00:00'],\n",
       "              dtype='datetime64[ns]', length=546, freq='4h')"
      ]
     },
     "execution_count": 63,
     "metadata": {},
     "output_type": "execute_result"
    }
   ],
   "source": [
    "pd.date_range(\"2025-02-01\",\n",
    "              \"2025-05-02 23:03:02\",\n",
    "              freq=\"4h\"\n",
    "             )"
   ]
  },
  {
   "cell_type": "code",
   "execution_count": 64,
   "id": "274d23d0-6c27-49b6-98ea-afa4a76072e4",
   "metadata": {},
   "outputs": [
    {
     "data": {
      "text/plain": [
       "DatetimeIndex(['2000-01-01 00:00:00', '2000-01-01 01:30:03',\n",
       "               '2000-01-01 03:00:06', '2000-01-01 04:30:09',\n",
       "               '2000-01-01 06:00:12', '2000-01-01 07:30:15',\n",
       "               '2000-01-01 09:00:18', '2000-01-01 10:30:21',\n",
       "               '2000-01-01 12:00:24', '2000-01-01 13:30:27'],\n",
       "              dtype='datetime64[ns]', freq='5403s')"
      ]
     },
     "execution_count": 64,
     "metadata": {},
     "output_type": "execute_result"
    }
   ],
   "source": [
    "pd.date_range(\n",
    "    \"2000-01-01\",\n",
    "    periods=10,\n",
    "    freq=\"1h30min3s\",\n",
    ")"
   ]
  },
  {
   "cell_type": "markdown",
   "id": "f92db462-b404-432d-a9fa-73ab00298c9a",
   "metadata": {},
   "source": [
    "<h5>Week of month</h5>"
   ]
  },
  {
   "cell_type": "code",
   "execution_count": 65,
   "id": "5fe68bc9-e617-46c2-a1f3-ac556925640d",
   "metadata": {},
   "outputs": [],
   "source": [
    "monthly_meetups = pd.date_range(\n",
    "    \"2024-06-01\",\n",
    "    \"2024-12-31\",\n",
    "    freq=\"WOM-3SAT\"\n",
    ")"
   ]
  },
  {
   "cell_type": "code",
   "execution_count": 66,
   "id": "31ea4639-db69-42c2-881e-bb338e0a6fff",
   "metadata": {},
   "outputs": [
    {
     "data": {
      "text/plain": [
       "DatetimeIndex(['2024-06-15', '2024-07-20', '2024-08-17', '2024-09-21',\n",
       "               '2024-10-19', '2024-11-16', '2024-12-21'],\n",
       "              dtype='datetime64[ns]', freq='WOM-3SAT')"
      ]
     },
     "execution_count": 66,
     "metadata": {},
     "output_type": "execute_result"
    }
   ],
   "source": [
    "monthly_meetups"
   ]
  },
  {
   "cell_type": "markdown",
   "id": "b125b3bf-a1f4-4e49-8210-c685b09058c6",
   "metadata": {},
   "source": [
    "<h4>Shifting (Leading and Lagging) Data</h4>"
   ]
  },
  {
   "cell_type": "code",
   "execution_count": 67,
   "id": "afe3c59d-ca59-4d2d-a050-202732485ac3",
   "metadata": {},
   "outputs": [],
   "source": [
    "ts = pd.Series(\n",
    "    np.random.standard_normal(10),\n",
    "    index=pd.date_range(start=\"2030-01-01\",\n",
    "                        periods=10,\n",
    "                        freq=\"ME\",\n",
    "                       )\n",
    ")"
   ]
  },
  {
   "cell_type": "code",
   "execution_count": 68,
   "id": "7baef561-d67d-4585-8c66-0a4bb4d81ff3",
   "metadata": {},
   "outputs": [
    {
     "data": {
      "text/plain": [
       "-0.07352776721612128"
      ]
     },
     "execution_count": 68,
     "metadata": {},
     "output_type": "execute_result"
    }
   ],
   "source": [
    "(-1.491246--1.609596)/(-1.609596)"
   ]
  },
  {
   "cell_type": "code",
   "execution_count": 69,
   "id": "3dc4b744-adb0-4067-9cf2-86dc9506a8c3",
   "metadata": {},
   "outputs": [
    {
     "data": {
      "text/plain": [
       "2030-01-31   -1.152543\n",
       "2030-02-28   -0.443496\n",
       "2030-03-31   -0.396736\n",
       "2030-04-30   -1.249891\n",
       "2030-05-31   -0.694234\n",
       "2030-06-30    0.691898\n",
       "2030-07-31   -0.135240\n",
       "2030-08-31   -0.988843\n",
       "2030-09-30   -0.755368\n",
       "2030-10-31    1.425610\n",
       "Freq: ME, dtype: float64"
      ]
     },
     "execution_count": 69,
     "metadata": {},
     "output_type": "execute_result"
    }
   ],
   "source": [
    "ts"
   ]
  },
  {
   "cell_type": "code",
   "execution_count": 70,
   "id": "78212758-07ce-423f-abfc-42cea8fd1736",
   "metadata": {},
   "outputs": [
    {
     "data": {
      "text/plain": [
       "2030-01-31         NaN\n",
       "2030-02-28         NaN\n",
       "2030-03-31   -1.152543\n",
       "2030-04-30   -0.443496\n",
       "2030-05-31   -0.396736\n",
       "2030-06-30   -1.249891\n",
       "2030-07-31   -0.694234\n",
       "2030-08-31    0.691898\n",
       "2030-09-30   -0.135240\n",
       "2030-10-31   -0.988843\n",
       "Freq: ME, dtype: float64"
      ]
     },
     "execution_count": 70,
     "metadata": {},
     "output_type": "execute_result"
    }
   ],
   "source": [
    "ts.shift(2)"
   ]
  },
  {
   "cell_type": "code",
   "execution_count": 71,
   "id": "97d45d78-61b1-4fdc-a8df-05dbba9fd9f0",
   "metadata": {},
   "outputs": [
    {
     "data": {
      "text/plain": [
       "2030-01-31   -0.396736\n",
       "2030-02-28   -1.249891\n",
       "2030-03-31   -0.694234\n",
       "2030-04-30    0.691898\n",
       "2030-05-31   -0.135240\n",
       "2030-06-30   -0.988843\n",
       "2030-07-31   -0.755368\n",
       "2030-08-31    1.425610\n",
       "2030-09-30         NaN\n",
       "2030-10-31         NaN\n",
       "Freq: ME, dtype: float64"
      ]
     },
     "execution_count": 71,
     "metadata": {},
     "output_type": "execute_result"
    }
   ],
   "source": [
    "ts.shift(-2)"
   ]
  },
  {
   "cell_type": "code",
   "execution_count": 72,
   "id": "7d3c70ff-60a6-4d56-a4d8-fc3653e1b986",
   "metadata": {},
   "outputs": [
    {
     "data": {
      "text/plain": [
       "2030-01-31         NaN\n",
       "2030-02-28   -1.598765\n",
       "2030-03-31   -0.117864\n",
       "2030-04-30    0.682584\n",
       "2030-05-31   -0.800389\n",
       "2030-06-30    2.003376\n",
       "2030-07-31    6.116074\n",
       "2030-08-31    0.863234\n",
       "2030-09-30   -0.309088\n",
       "2030-10-31    1.529856\n",
       "Freq: ME, dtype: float64"
      ]
     },
     "execution_count": 72,
     "metadata": {},
     "output_type": "execute_result"
    }
   ],
   "source": [
    "# Percentage change\n",
    "(ts-ts.shift(1))/ts"
   ]
  },
  {
   "cell_type": "code",
   "execution_count": 73,
   "id": "97e74b6c-0ce1-4dff-b808-bf763d36ee9c",
   "metadata": {},
   "outputs": [
    {
     "data": {
      "text/plain": [
       "2030-03-31   -1.152543\n",
       "2030-04-30   -0.443496\n",
       "2030-05-31   -0.396736\n",
       "2030-06-30   -1.249891\n",
       "2030-07-31   -0.694234\n",
       "2030-08-31    0.691898\n",
       "2030-09-30   -0.135240\n",
       "2030-10-31   -0.988843\n",
       "2030-11-30   -0.755368\n",
       "2030-12-31    1.425610\n",
       "Freq: ME, dtype: float64"
      ]
     },
     "execution_count": 73,
     "metadata": {},
     "output_type": "execute_result"
    }
   ],
   "source": [
    "# Shifting index two\n",
    "ts.shift(2,\n",
    "         freq=\"ME\",\n",
    "        )"
   ]
  },
  {
   "cell_type": "code",
   "execution_count": 74,
   "id": "623ca39c-3e23-4475-be69-6397add502ab",
   "metadata": {},
   "outputs": [
    {
     "data": {
      "text/plain": [
       "2030-04-30   -1.152543\n",
       "2030-05-31   -0.443496\n",
       "2030-06-30   -0.396736\n",
       "2030-07-31   -1.249891\n",
       "2030-08-31   -0.694234\n",
       "2030-09-30    0.691898\n",
       "2030-10-31   -0.135240\n",
       "2030-11-30   -0.988843\n",
       "2030-12-31   -0.755368\n",
       "2031-01-31    1.425610\n",
       "Freq: ME, dtype: float64"
      ]
     },
     "execution_count": 74,
     "metadata": {},
     "output_type": "execute_result"
    }
   ],
   "source": [
    "ts.shift(\n",
    "    3,\n",
    "    freq=\"ME\",\n",
    ")"
   ]
  },
  {
   "cell_type": "code",
   "execution_count": 75,
   "id": "eeabb047-b36a-446f-b5cc-5147c78a0c70",
   "metadata": {},
   "outputs": [
    {
     "data": {
      "text/plain": [
       "2030-02-03   -1.152543\n",
       "2030-03-03   -0.443496\n",
       "2030-04-03   -0.396736\n",
       "2030-05-03   -1.249891\n",
       "2030-06-03   -0.694234\n",
       "2030-07-03    0.691898\n",
       "2030-08-03   -0.135240\n",
       "2030-09-03   -0.988843\n",
       "2030-10-03   -0.755368\n",
       "2030-11-03    1.425610\n",
       "dtype: float64"
      ]
     },
     "execution_count": 75,
     "metadata": {},
     "output_type": "execute_result"
    }
   ],
   "source": [
    "ts.shift(\n",
    "    3,\n",
    "    freq=\"D\",\n",
    ")"
   ]
  },
  {
   "cell_type": "code",
   "execution_count": 76,
   "id": "4b14180b-4d71-451e-96fa-c167e66bc6e8",
   "metadata": {},
   "outputs": [
    {
     "data": {
      "text/plain": [
       "2030-01-31 01:30:00   -1.152543\n",
       "2030-02-28 01:30:00   -0.443496\n",
       "2030-03-31 01:30:00   -0.396736\n",
       "2030-04-30 01:30:00   -1.249891\n",
       "2030-05-31 01:30:00   -0.694234\n",
       "2030-06-30 01:30:00    0.691898\n",
       "2030-07-31 01:30:00   -0.135240\n",
       "2030-08-31 01:30:00   -0.988843\n",
       "2030-09-30 01:30:00   -0.755368\n",
       "2030-10-31 01:30:00    1.425610\n",
       "dtype: float64"
      ]
     },
     "execution_count": 76,
     "metadata": {},
     "output_type": "execute_result"
    }
   ],
   "source": [
    "ts.shift(\n",
    "    1,\n",
    "    freq=\"90min\",\n",
    ")"
   ]
  },
  {
   "cell_type": "code",
   "execution_count": 77,
   "id": "1f286a6a-1023-47bb-b436-4b3b03060553",
   "metadata": {},
   "outputs": [],
   "source": [
    "from pandas.tseries.offsets import Day, MonthEnd, Hour"
   ]
  },
  {
   "cell_type": "code",
   "execution_count": 78,
   "id": "9f32197c-d047-4449-8604-7b3f2fdfc0f1",
   "metadata": {},
   "outputs": [],
   "source": [
    "# Using rollback and rollforward\n",
    "now = datetime(2024,5,26)"
   ]
  },
  {
   "cell_type": "code",
   "execution_count": 79,
   "id": "112e6bb5-1859-4420-8fab-6688f32eb433",
   "metadata": {},
   "outputs": [
    {
     "data": {
      "text/plain": [
       "datetime.datetime(2024, 5, 26, 0, 0)"
      ]
     },
     "execution_count": 79,
     "metadata": {},
     "output_type": "execute_result"
    }
   ],
   "source": [
    "now"
   ]
  },
  {
   "cell_type": "code",
   "execution_count": 80,
   "id": "a6fe263d-044e-4152-b4c7-e69387f511f9",
   "metadata": {},
   "outputs": [
    {
     "data": {
      "text/plain": [
       "Timestamp('2024-05-31 00:00:00')"
      ]
     },
     "execution_count": 80,
     "metadata": {},
     "output_type": "execute_result"
    }
   ],
   "source": [
    "# Shifting to the end of month\n",
    "now + MonthEnd()"
   ]
  },
  {
   "cell_type": "code",
   "execution_count": 81,
   "id": "4dc84562-d850-44a4-912b-8fd6857c4b87",
   "metadata": {},
   "outputs": [
    {
     "data": {
      "text/plain": [
       "Timestamp('2024-07-31 00:00:00')"
      ]
     },
     "execution_count": 81,
     "metadata": {},
     "output_type": "execute_result"
    }
   ],
   "source": [
    "now + MonthEnd(3)"
   ]
  },
  {
   "cell_type": "code",
   "execution_count": 82,
   "id": "ee95e786-52e9-4876-ad68-b7ba158e3fa1",
   "metadata": {},
   "outputs": [],
   "source": [
    "offset = MonthEnd()"
   ]
  },
  {
   "cell_type": "code",
   "execution_count": 83,
   "id": "ead9bbca-50fb-431e-94b7-a1f20dbf3ef6",
   "metadata": {},
   "outputs": [
    {
     "data": {
      "text/plain": [
       "Timestamp('2024-04-30 00:00:00')"
      ]
     },
     "execution_count": 83,
     "metadata": {},
     "output_type": "execute_result"
    }
   ],
   "source": [
    "offset.rollback(now)"
   ]
  },
  {
   "cell_type": "code",
   "execution_count": 84,
   "id": "83e9db0a-f80c-4a52-9ee8-67dd1712eab9",
   "metadata": {},
   "outputs": [
    {
     "data": {
      "text/plain": [
       "Timestamp('2024-05-31 00:00:00')"
      ]
     },
     "execution_count": 84,
     "metadata": {},
     "output_type": "execute_result"
    }
   ],
   "source": [
    "offset.rollforward(now)"
   ]
  },
  {
   "cell_type": "code",
   "execution_count": 85,
   "id": "5c4f52a6-da23-4956-866f-9c498e3400be",
   "metadata": {},
   "outputs": [
    {
     "data": {
      "text/plain": [
       "datetime.datetime(2024, 5, 26, 0, 0)"
      ]
     },
     "execution_count": 85,
     "metadata": {},
     "output_type": "execute_result"
    }
   ],
   "source": [
    "now"
   ]
  },
  {
   "cell_type": "code",
   "execution_count": 86,
   "id": "412903d3-454c-4d5c-adae-c09fc0aab872",
   "metadata": {},
   "outputs": [],
   "source": [
    "# using offset creatively"
   ]
  },
  {
   "cell_type": "code",
   "execution_count": 87,
   "id": "384936ab-a2d1-43b3-a47d-b78880e87a30",
   "metadata": {},
   "outputs": [
    {
     "data": {
      "text/plain": [
       "2030-01-31   -1.152543\n",
       "2030-02-28   -0.443496\n",
       "2030-03-31   -0.396736\n",
       "2030-04-30   -1.249891\n",
       "2030-05-31   -0.694234\n",
       "2030-06-30    0.691898\n",
       "2030-07-31   -0.135240\n",
       "2030-08-31   -0.988843\n",
       "2030-09-30   -0.755368\n",
       "2030-10-31    1.425610\n",
       "dtype: float64"
      ]
     },
     "execution_count": 87,
     "metadata": {},
     "output_type": "execute_result"
    }
   ],
   "source": [
    "ts.groupby(MonthEnd().rollforward).mean()"
   ]
  },
  {
   "cell_type": "code",
   "execution_count": 88,
   "id": "8ee05172-0ac5-491e-84b4-fac67acf1ec8",
   "metadata": {},
   "outputs": [
    {
     "data": {
      "text/plain": [
       "2030-01-31   -1.152543\n",
       "2030-02-28   -0.443496\n",
       "2030-03-31   -0.396736\n",
       "2030-04-30   -1.249891\n",
       "2030-05-31   -0.694234\n",
       "2030-06-30    0.691898\n",
       "2030-07-31   -0.135240\n",
       "2030-08-31   -0.988843\n",
       "2030-09-30   -0.755368\n",
       "2030-10-31    1.425610\n",
       "Freq: ME, dtype: float64"
      ]
     },
     "execution_count": 88,
     "metadata": {},
     "output_type": "execute_result"
    }
   ],
   "source": [
    "# Using resample\n",
    "ts.resample(\"ME\").mean()"
   ]
  },
  {
   "cell_type": "markdown",
   "id": "71b4a1e6-5858-4acb-8cb5-559483db1e89",
   "metadata": {},
   "source": [
    "<h4>Time Zone Localization and Conversion</h4>"
   ]
  },
  {
   "cell_type": "code",
   "execution_count": 89,
   "id": "06e9b639-0ba5-4567-a1e9-4e73fc26d5cf",
   "metadata": {},
   "outputs": [
    {
     "data": {
      "text/plain": [
       "['Africa/Abidjan',\n",
       " 'Africa/Accra',\n",
       " 'Africa/Addis_Ababa',\n",
       " 'Africa/Algiers',\n",
       " 'Africa/Asmara']"
      ]
     },
     "execution_count": 89,
     "metadata": {},
     "output_type": "execute_result"
    }
   ],
   "source": [
    "pytz.common_timezones[:5]"
   ]
  },
  {
   "cell_type": "code",
   "execution_count": 90,
   "id": "f51fe132-90d9-4237-958f-fa4b37e81f3a",
   "metadata": {},
   "outputs": [],
   "source": [
    "# Timezone objects\n",
    "ugandaTime = pytz.timezone(\"Africa/Kampala\")"
   ]
  },
  {
   "cell_type": "code",
   "execution_count": 91,
   "id": "62ea6b1a-0e3c-4131-b940-9ddf70219ab9",
   "metadata": {},
   "outputs": [
    {
     "data": {
      "text/plain": [
       "<DstTzInfo 'Africa/Kampala' LMT+2:27:00 STD>"
      ]
     },
     "execution_count": 91,
     "metadata": {},
     "output_type": "execute_result"
    }
   ],
   "source": [
    "ugandaTime"
   ]
  },
  {
   "cell_type": "code",
   "execution_count": 92,
   "id": "8fddccd8-d167-4b2a-ae8b-81bcfdc481e6",
   "metadata": {},
   "outputs": [],
   "source": [
    "dates = pd.date_range(\n",
    "    \"2024-05-26 19:23\",\n",
    "    periods=10,\n",
    "    tz=\"Africa/Kampala\",\n",
    ")"
   ]
  },
  {
   "cell_type": "code",
   "execution_count": 93,
   "id": "89f90a6c-2185-4304-bba4-34793b12f40d",
   "metadata": {},
   "outputs": [
    {
     "data": {
      "text/plain": [
       "DatetimeIndex(['2024-05-26 19:23:00+03:00', '2024-05-27 19:23:00+03:00',\n",
       "               '2024-05-28 19:23:00+03:00', '2024-05-29 19:23:00+03:00',\n",
       "               '2024-05-30 19:23:00+03:00', '2024-05-31 19:23:00+03:00',\n",
       "               '2024-06-01 19:23:00+03:00', '2024-06-02 19:23:00+03:00',\n",
       "               '2024-06-03 19:23:00+03:00', '2024-06-04 19:23:00+03:00'],\n",
       "              dtype='datetime64[ns, Africa/Kampala]', freq='D')"
      ]
     },
     "execution_count": 93,
     "metadata": {},
     "output_type": "execute_result"
    }
   ],
   "source": [
    "dates"
   ]
  },
  {
   "cell_type": "code",
   "execution_count": 94,
   "id": "42e81793-1b86-4d63-98c9-e6d96cec1769",
   "metadata": {},
   "outputs": [],
   "source": [
    "# time series are time zone naive \n",
    "ts = pd.Series(\n",
    "    np.random.standard_normal(len(dates)),\n",
    "    index=dates,\n",
    ")"
   ]
  },
  {
   "cell_type": "code",
   "execution_count": 95,
   "id": "879d6ab0-fb94-417d-885d-700fd301ea03",
   "metadata": {},
   "outputs": [
    {
     "data": {
      "text/plain": [
       "2024-05-26 19:23:00+03:00    1.255958\n",
       "2024-05-27 19:23:00+03:00   -1.344169\n",
       "2024-05-28 19:23:00+03:00   -0.533358\n",
       "2024-05-29 19:23:00+03:00    2.103028\n",
       "2024-05-30 19:23:00+03:00    0.671308\n",
       "2024-05-31 19:23:00+03:00   -0.679929\n",
       "2024-06-01 19:23:00+03:00    1.415625\n",
       "2024-06-02 19:23:00+03:00    0.818204\n",
       "2024-06-03 19:23:00+03:00    0.488865\n",
       "2024-06-04 19:23:00+03:00   -0.252032\n",
       "Freq: D, dtype: float64"
      ]
     },
     "execution_count": 95,
     "metadata": {},
     "output_type": "execute_result"
    }
   ],
   "source": [
    "ts"
   ]
  },
  {
   "cell_type": "code",
   "execution_count": 96,
   "id": "04de8ed0-55aa-4d0d-ab24-e053d41da90d",
   "metadata": {},
   "outputs": [
    {
     "name": "stdout",
     "output_type": "stream",
     "text": [
      "Africa/Kampala\n"
     ]
    }
   ],
   "source": [
    "# printing time zone\n",
    "print(ts.index.tz)"
   ]
  },
  {
   "cell_type": "code",
   "execution_count": 97,
   "id": "6bf17f15-facb-4930-9521-7080fd9c90f4",
   "metadata": {},
   "outputs": [
    {
     "data": {
      "text/plain": [
       "DatetimeIndex(['2024-05-26 19:23:00+03:00', '2024-05-27 19:23:00+03:00',\n",
       "               '2024-05-28 19:23:00+03:00', '2024-05-29 19:23:00+03:00',\n",
       "               '2024-05-30 19:23:00+03:00', '2024-05-31 19:23:00+03:00',\n",
       "               '2024-06-01 19:23:00+03:00', '2024-06-02 19:23:00+03:00',\n",
       "               '2024-06-03 19:23:00+03:00', '2024-06-04 19:23:00+03:00'],\n",
       "              dtype='datetime64[ns, Africa/Kampala]', freq='D')"
      ]
     },
     "execution_count": 97,
     "metadata": {},
     "output_type": "execute_result"
    }
   ],
   "source": [
    "# Generating datetime ranges with a tz attribute\n",
    "dates = pd.date_range(\n",
    "    \"2024-05-26 19:23\",\n",
    "    periods=10,\n",
    "    tz=\"Africa/Kampala\",\n",
    ")\n",
    "dates"
   ]
  },
  {
   "cell_type": "code",
   "execution_count": 98,
   "id": "6099c895-f740-4a5c-a741-ff8d988be329",
   "metadata": {},
   "outputs": [
    {
     "data": {
      "text/plain": [
       "2024-05-26 16:23:00+00:00    1.255958\n",
       "2024-05-27 16:23:00+00:00   -1.344169\n",
       "2024-05-28 16:23:00+00:00   -0.533358\n",
       "2024-05-29 16:23:00+00:00    2.103028\n",
       "2024-05-30 16:23:00+00:00    0.671308\n",
       "2024-05-31 16:23:00+00:00   -0.679929\n",
       "2024-06-01 16:23:00+00:00    1.415625\n",
       "2024-06-02 16:23:00+00:00    0.818204\n",
       "2024-06-03 16:23:00+00:00    0.488865\n",
       "2024-06-04 16:23:00+00:00   -0.252032\n",
       "Freq: D, dtype: float64"
      ]
     },
     "execution_count": 98,
     "metadata": {},
     "output_type": "execute_result"
    }
   ],
   "source": [
    "# conversion\n",
    "ts_utc = ts.tz_convert(\"utc\")\n",
    "ts_utc"
   ]
  },
  {
   "cell_type": "code",
   "execution_count": 99,
   "id": "5cb064aa-9e8f-48f5-81e4-180055b74396",
   "metadata": {},
   "outputs": [
    {
     "data": {
      "text/plain": [
       "2024-05-26 19:23:00+03:00    1.255958\n",
       "2024-05-27 19:23:00+03:00   -1.344169\n",
       "2024-05-28 19:23:00+03:00   -0.533358\n",
       "2024-05-29 19:23:00+03:00    2.103028\n",
       "2024-05-30 19:23:00+03:00    0.671308\n",
       "2024-05-31 19:23:00+03:00   -0.679929\n",
       "2024-06-01 19:23:00+03:00    1.415625\n",
       "2024-06-02 19:23:00+03:00    0.818204\n",
       "2024-06-03 19:23:00+03:00    0.488865\n",
       "2024-06-04 19:23:00+03:00   -0.252032\n",
       "Freq: D, dtype: float64"
      ]
     },
     "execution_count": 99,
     "metadata": {},
     "output_type": "execute_result"
    }
   ],
   "source": [
    "ts_nairobi = ts_utc.tz_convert(\"Africa/Nairobi\")\n",
    "ts_nairobi"
   ]
  },
  {
   "cell_type": "code",
   "execution_count": 100,
   "id": "9f199ecd-20ff-4cfe-bd12-9440ed6473e6",
   "metadata": {},
   "outputs": [
    {
     "data": {
      "text/plain": [
       "2024-05-26 19:23:00+03:00    1.255958\n",
       "2024-05-27 19:23:00+03:00   -1.344169\n",
       "2024-05-28 19:23:00+03:00   -0.533358\n",
       "2024-05-29 19:23:00+03:00    2.103028\n",
       "2024-05-30 19:23:00+03:00    0.671308\n",
       "2024-05-31 19:23:00+03:00   -0.679929\n",
       "2024-06-01 19:23:00+03:00    1.415625\n",
       "2024-06-02 19:23:00+03:00    0.818204\n",
       "2024-06-03 19:23:00+03:00    0.488865\n",
       "2024-06-04 19:23:00+03:00   -0.252032\n",
       "Freq: D, dtype: float64"
      ]
     },
     "execution_count": 100,
     "metadata": {},
     "output_type": "execute_result"
    }
   ],
   "source": [
    "ts_cairo = ts_nairobi.tz_convert(\"Africa/Cairo\")\n",
    "ts_cairo"
   ]
  },
  {
   "cell_type": "code",
   "execution_count": 101,
   "id": "2fe9bc9e-63dc-4332-89b2-8886c0589c88",
   "metadata": {},
   "outputs": [
    {
     "data": {
      "text/plain": [
       "2024-05-26 19:23:00+03:00    1.255958\n",
       "2024-05-27 19:23:00+03:00   -1.344169\n",
       "2024-05-28 19:23:00+03:00   -0.533358\n",
       "2024-05-29 19:23:00+03:00    2.103028\n",
       "2024-05-30 19:23:00+03:00    0.671308\n",
       "2024-05-31 19:23:00+03:00   -0.679929\n",
       "2024-06-01 19:23:00+03:00    1.415625\n",
       "2024-06-02 19:23:00+03:00    0.818204\n",
       "2024-06-03 19:23:00+03:00    0.488865\n",
       "2024-06-04 19:23:00+03:00   -0.252032\n",
       "Freq: D, dtype: float64"
      ]
     },
     "execution_count": 101,
     "metadata": {},
     "output_type": "execute_result"
    }
   ],
   "source": [
    "ts_cairo.tz_convert(\"Africa/Kampala\")"
   ]
  },
  {
   "cell_type": "markdown",
   "id": "9f1e4ce3-0fda-42b4-afb2-2b9a3ccbab5c",
   "metadata": {},
   "source": [
    "<h4>Operations with Time Zone-Aware Timestamp Objects</h4>"
   ]
  },
  {
   "cell_type": "code",
   "execution_count": 102,
   "id": "de15f266-1d0e-4f1d-af3b-11c9ceb60754",
   "metadata": {},
   "outputs": [
    {
     "data": {
      "text/plain": [
       "Timestamp('2024-05-27 17:32:04')"
      ]
     },
     "execution_count": 102,
     "metadata": {},
     "output_type": "execute_result"
    }
   ],
   "source": [
    "stamp = pd.Timestamp(\"2024-05-27 17:32:04\")\n",
    "stamp"
   ]
  },
  {
   "cell_type": "code",
   "execution_count": 103,
   "id": "912eb8fc-8f36-4a40-b9a8-06951ad24432",
   "metadata": {},
   "outputs": [
    {
     "data": {
      "text/plain": [
       "Timestamp('2024-05-27 17:32:04+0000', tz='UTC')"
      ]
     },
     "execution_count": 103,
     "metadata": {},
     "output_type": "execute_result"
    }
   ],
   "source": [
    "stamp_utc = stamp.tz_localize(\"utc\")\n",
    "stamp_utc"
   ]
  },
  {
   "cell_type": "code",
   "execution_count": 104,
   "id": "58ccf6d0-533b-4b97-8d9f-6d66d5c55187",
   "metadata": {},
   "outputs": [
    {
     "data": {
      "text/plain": [
       "Timestamp('2024-05-27 17:48:49+0300', tz='Africa/Kampala')"
      ]
     },
     "execution_count": 104,
     "metadata": {},
     "output_type": "execute_result"
    }
   ],
   "source": [
    "# using tz in definition\n",
    "stamp_kampala = pd.Timestamp(\n",
    "    \"2024-05-27 17:48:49\",\n",
    "    tz=\"Africa/Kampala\",\n",
    ")\n",
    "stamp_kampala"
   ]
  },
  {
   "cell_type": "code",
   "execution_count": 105,
   "id": "3488adcd-8ef9-495a-82f7-9e02219fb6a1",
   "metadata": {},
   "outputs": [
    {
     "data": {
      "text/plain": [
       "1716821329000000000"
      ]
     },
     "execution_count": 105,
     "metadata": {},
     "output_type": "execute_result"
    }
   ],
   "source": [
    "# timestamps store utc value since the Unix epoch\n",
    "stamp_kampala.value"
   ]
  },
  {
   "cell_type": "code",
   "execution_count": 106,
   "id": "f402c177-a74b-450d-882e-62c2b42aa779",
   "metadata": {},
   "outputs": [
    {
     "data": {
      "text/plain": [
       "1716831124000000000"
      ]
     },
     "execution_count": 106,
     "metadata": {},
     "output_type": "execute_result"
    }
   ],
   "source": [
    "stamp_utc.value"
   ]
  },
  {
   "cell_type": "code",
   "execution_count": 107,
   "id": "3dc2b66a-bed5-417a-b058-3c1b99370ae2",
   "metadata": {},
   "outputs": [
    {
     "data": {
      "text/plain": [
       "Timestamp('2012-03-11 01:30:00-0500', tz='US/Eastern')"
      ]
     },
     "execution_count": 107,
     "metadata": {},
     "output_type": "execute_result"
    }
   ],
   "source": [
    "# Daylight Saving Transition\n",
    "# 30 minutes before transitioning into DST\n",
    "stamp = pd.Timestamp(\n",
    "    \"2012-03-11 01:30\",\n",
    "    tz=\"US/Eastern\",\n",
    ")\n",
    "stamp"
   ]
  },
  {
   "cell_type": "code",
   "execution_count": 108,
   "id": "8dd2f50f-20de-4bb6-80bb-ddd906fc8ba4",
   "metadata": {},
   "outputs": [
    {
     "data": {
      "text/plain": [
       "Timestamp('2012-03-11 03:30:00-0400', tz='US/Eastern')"
      ]
     },
     "execution_count": 108,
     "metadata": {},
     "output_type": "execute_result"
    }
   ],
   "source": [
    "stamp + Hour()"
   ]
  },
  {
   "cell_type": "code",
   "execution_count": 109,
   "id": "c4e62f1b-fabf-4433-bbc4-591bc19a2fee",
   "metadata": {},
   "outputs": [
    {
     "data": {
      "text/plain": [
       "Timestamp('2012-11-04 00:30:00-0400', tz='US/Eastern')"
      ]
     },
     "execution_count": 109,
     "metadata": {},
     "output_type": "execute_result"
    }
   ],
   "source": [
    "# 90 minutes before transitioning out of DST\n",
    "stamp = pd.Timestamp(\n",
    "    \"2012-11-04 00:30\",\n",
    "    tz=\"US/Eastern\",\n",
    "    )\n",
    "stamp"
   ]
  },
  {
   "cell_type": "code",
   "execution_count": 110,
   "id": "c9309486-c969-4bbe-bde8-30695687418d",
   "metadata": {},
   "outputs": [
    {
     "data": {
      "text/plain": [
       "Timestamp('2012-11-04 01:30:00-0500', tz='US/Eastern')"
      ]
     },
     "execution_count": 110,
     "metadata": {},
     "output_type": "execute_result"
    }
   ],
   "source": [
    "# Adding 2 hours\n",
    "stamp + 2*Hour()"
   ]
  },
  {
   "cell_type": "markdown",
   "id": "3fd70f40-58da-41b3-8eb7-90dcdddbc142",
   "metadata": {},
   "source": [
    "<h4>Operations between different time zones</h4>"
   ]
  },
  {
   "cell_type": "code",
   "execution_count": 111,
   "id": "9b932b5e-fc70-4277-9ecb-1123a0bb9063",
   "metadata": {},
   "outputs": [
    {
     "data": {
      "text/plain": [
       "2024-05-31 10:43:00    1.949567\n",
       "2024-06-30 10:43:00    0.650312\n",
       "2024-07-31 10:43:00   -1.252387\n",
       "2024-08-31 10:43:00   -2.067056\n",
       "2024-09-30 10:43:00    1.874488\n",
       "2024-10-31 10:43:00   -0.640427\n",
       "2024-11-30 10:43:00   -0.307671\n",
       "2024-12-31 10:43:00   -0.590129\n",
       "2025-01-31 10:43:00    0.869748\n",
       "2025-02-28 10:43:00   -1.709311\n",
       "2025-03-31 10:43:00   -1.193782\n",
       "2025-04-30 10:43:00    0.679450\n",
       "2025-05-31 10:43:00   -0.020182\n",
       "2025-06-30 10:43:00   -0.359426\n",
       "2025-07-31 10:43:00   -0.420316\n",
       "2025-08-31 10:43:00   -0.533730\n",
       "2025-09-30 10:43:00   -0.752151\n",
       "2025-10-31 10:43:00    1.042003\n",
       "2025-11-30 10:43:00    0.694862\n",
       "2025-12-31 10:43:00   -0.094358\n",
       "Freq: ME, dtype: float64"
      ]
     },
     "execution_count": 111,
     "metadata": {},
     "output_type": "execute_result"
    }
   ],
   "source": [
    "dates = pd.date_range(\n",
    "    \"2024-05-27 10:43\",\n",
    "    periods=20,\n",
    "    freq=\"ME\",\n",
    ")\n",
    "ts = pd.Series(\n",
    "    np.random.standard_normal(\n",
    "        len(dates)),\n",
    "    index=dates,\n",
    ")\n",
    "ts"
   ]
  },
  {
   "cell_type": "code",
   "execution_count": 112,
   "id": "311e709f-f4c9-401a-833e-50a8ed2cffd8",
   "metadata": {},
   "outputs": [
    {
     "data": {
      "text/plain": [
       "DatetimeIndex(['2024-05-31 07:43:00+00:00', '2024-06-30 07:43:00+00:00',\n",
       "               '2024-07-31 07:43:00+00:00', '2024-08-31 07:43:00+00:00',\n",
       "               '2024-09-30 07:43:00+00:00', '2024-10-31 07:43:00+00:00',\n",
       "               '2024-11-30 07:43:00+00:00', '2024-11-30 08:43:00+00:00',\n",
       "               '2024-12-31 07:43:00+00:00', '2024-12-31 08:43:00+00:00',\n",
       "               '2025-01-31 07:43:00+00:00', '2025-01-31 08:43:00+00:00',\n",
       "               '2025-02-28 07:43:00+00:00', '2025-02-28 08:43:00+00:00',\n",
       "               '2025-03-31 08:43:00+00:00', '2025-04-30 07:43:00+00:00',\n",
       "               '2025-05-31 07:43:00+00:00', '2025-06-30 07:43:00+00:00',\n",
       "               '2025-07-31 07:43:00+00:00', '2025-08-31 07:43:00+00:00',\n",
       "               '2025-09-30 07:43:00+00:00', '2025-10-31 08:43:00+00:00',\n",
       "               '2025-11-30 08:43:00+00:00', '2025-12-31 08:43:00+00:00'],\n",
       "              dtype='datetime64[ns, UTC]', freq=None)"
      ]
     },
     "execution_count": 112,
     "metadata": {},
     "output_type": "execute_result"
    }
   ],
   "source": [
    "ts1 = ts[:10].tz_localize(\"Africa/Kampala\")\n",
    "ts2 = ts[4:].tz_localize(\"Africa/Cairo\")\n",
    "result = ts1 + ts2\n",
    "result.index"
   ]
  },
  {
   "cell_type": "code",
   "execution_count": 113,
   "id": "4e46cc86-9bfe-49c2-92d1-3219ff03626a",
   "metadata": {},
   "outputs": [],
   "source": [
    "# Operations between zone-aware and zone-naive will raise an exception"
   ]
  },
  {
   "cell_type": "markdown",
   "id": "fba08430-6e0c-4cee-8ded-4ab74e72351f",
   "metadata": {},
   "source": [
    "<h4>Periods and Period Arithmetics</h4>"
   ]
  },
  {
   "cell_type": "code",
   "execution_count": 114,
   "id": "a8f35381-a0a5-40d3-9b9e-3db744937c87",
   "metadata": {},
   "outputs": [
    {
     "data": {
      "text/plain": [
       "Period('2025', 'Y-MAY')"
      ]
     },
     "execution_count": 114,
     "metadata": {},
     "output_type": "execute_result"
    }
   ],
   "source": [
    "p = pd.Period(\"2025\",\n",
    "              freq=\"Y-MAY\",\n",
    "             )\n",
    "p"
   ]
  },
  {
   "cell_type": "code",
   "execution_count": 115,
   "id": "099ea1c8-75f6-47f1-a919-c723964ae789",
   "metadata": {},
   "outputs": [
    {
     "data": {
      "text/plain": [
       "Period('2029', 'Y-MAY')"
      ]
     },
     "execution_count": 115,
     "metadata": {},
     "output_type": "execute_result"
    }
   ],
   "source": [
    "p + 4"
   ]
  },
  {
   "cell_type": "code",
   "execution_count": 116,
   "id": "c0b52c42-31ff-46aa-8e81-97690251c92e",
   "metadata": {},
   "outputs": [
    {
     "data": {
      "text/plain": [
       "Period('2011', 'Y-MAY')"
      ]
     },
     "execution_count": 116,
     "metadata": {},
     "output_type": "execute_result"
    }
   ],
   "source": [
    "p - 14"
   ]
  },
  {
   "cell_type": "code",
   "execution_count": 117,
   "id": "42bb81a8-0ae7-4fae-918e-f3b6a295bf0e",
   "metadata": {},
   "outputs": [
    {
     "data": {
      "text/plain": [
       "Period('2025', 'Y-MAY')"
      ]
     },
     "execution_count": 117,
     "metadata": {},
     "output_type": "execute_result"
    }
   ],
   "source": [
    "p"
   ]
  },
  {
   "cell_type": "code",
   "execution_count": 118,
   "id": "390a0106-455b-4cd0-8d57-cb57b1b4de8b",
   "metadata": {},
   "outputs": [
    {
     "data": {
      "text/plain": [
       "<5 * YearEnds: month=5>"
      ]
     },
     "execution_count": 118,
     "metadata": {},
     "output_type": "execute_result"
    }
   ],
   "source": [
    "pd.Period(\"2030\",\n",
    "          freq=\"Y-MAY\",\n",
    "         ) - p"
   ]
  },
  {
   "cell_type": "code",
   "execution_count": 119,
   "id": "3758d505-a077-4127-a3fc-14d1c8b36c9e",
   "metadata": {},
   "outputs": [
    {
     "data": {
      "text/plain": [
       "PeriodIndex(['2024-05', '2024-06', '2024-07', '2024-08', '2024-09', '2024-10',\n",
       "             '2024-11', '2024-12', '2025-01', '2025-02', '2025-03', '2025-04',\n",
       "             '2025-05', '2025-06', '2025-07', '2025-08', '2025-09', '2025-10',\n",
       "             '2025-11', '2025-12', '2026-01', '2026-02', '2026-03', '2026-04',\n",
       "             '2026-05', '2026-06', '2026-07', '2026-08', '2026-09', '2026-10',\n",
       "             '2026-11', '2026-12', '2027-01', '2027-02', '2027-03', '2027-04',\n",
       "             '2027-05', '2027-06', '2027-07', '2027-08', '2027-09', '2027-10',\n",
       "             '2027-11', '2027-12', '2028-01', '2028-02', '2028-03', '2028-04',\n",
       "             '2028-05', '2028-06', '2028-07', '2028-08', '2028-09', '2028-10',\n",
       "             '2028-11', '2028-12', '2029-01', '2029-02', '2029-03', '2029-04',\n",
       "             '2029-05', '2029-06', '2029-07', '2029-08', '2029-09', '2029-10',\n",
       "             '2029-11', '2029-12', '2030-01', '2030-02', '2030-03', '2030-04',\n",
       "             '2030-05'],\n",
       "            dtype='period[M]')"
      ]
     },
     "execution_count": 119,
     "metadata": {},
     "output_type": "execute_result"
    }
   ],
   "source": [
    "# using periods range\n",
    "periods = pd.period_range(\n",
    "    \"2024-05-27\",\n",
    "    \"2030-05-27\",\n",
    "    freq=\"M\",\n",
    ")\n",
    "periods"
   ]
  },
  {
   "cell_type": "code",
   "execution_count": 120,
   "id": "51d0bb63-d7fd-4817-97ad-af220a2e6550",
   "metadata": {},
   "outputs": [
    {
     "data": {
      "text/plain": [
       "2024-05    0.889150\n",
       "2024-06    0.443892\n",
       "2024-07    0.541634\n",
       "2024-08    1.169767\n",
       "2024-09    0.747258\n",
       "             ...   \n",
       "2030-01   -0.885406\n",
       "2030-02    0.809655\n",
       "2030-03    0.669358\n",
       "2030-04    0.041985\n",
       "2030-05    0.265376\n",
       "Freq: M, Length: 73, dtype: float64"
      ]
     },
     "execution_count": 120,
     "metadata": {},
     "output_type": "execute_result"
    }
   ],
   "source": [
    "# using periods for index\n",
    "pd.Series(\n",
    "    np.random.standard_normal(73),\n",
    "    index=periods,\n",
    ")"
   ]
  },
  {
   "cell_type": "code",
   "execution_count": 121,
   "id": "174d1889-6c26-44ab-b400-d423027e87d0",
   "metadata": {},
   "outputs": [
    {
     "data": {
      "text/plain": [
       "['2024Q1', '2025Q3', '2026Q1']"
      ]
     },
     "execution_count": 121,
     "metadata": {},
     "output_type": "execute_result"
    }
   ],
   "source": [
    "# using strings\n",
    "values = [\n",
    "    \"2024Q1\",\n",
    "    \"2025Q3\",\n",
    "    \"2026Q1\",\n",
    "]\n",
    "values"
   ]
  },
  {
   "cell_type": "code",
   "execution_count": 122,
   "id": "deb6ec0c-f596-49a2-80c8-7aec705f4e26",
   "metadata": {},
   "outputs": [
    {
     "data": {
      "text/plain": [
       "PeriodIndex(['2024Q1', '2025Q3', '2026Q1'], dtype='period[Q-DEC]')"
      ]
     },
     "execution_count": 122,
     "metadata": {},
     "output_type": "execute_result"
    }
   ],
   "source": [
    "# \n",
    "index = pd.PeriodIndex(values,\n",
    "                       freq=\"Q-DEC\",\n",
    "                      )\n",
    "index"
   ]
  },
  {
   "cell_type": "markdown",
   "id": "5a55a4e6-7313-440f-947d-65a86647ec7f",
   "metadata": {},
   "source": [
    "<h4>Period Frequency Conversions</h4>"
   ]
  },
  {
   "cell_type": "code",
   "execution_count": 123,
   "id": "d7b45d8e-68d1-40d5-8d23-fc3430161b2c",
   "metadata": {},
   "outputs": [
    {
     "data": {
      "text/plain": [
       "Period('2025', 'Y-DEC')"
      ]
     },
     "execution_count": 123,
     "metadata": {},
     "output_type": "execute_result"
    }
   ],
   "source": [
    "p = pd.Period(\n",
    "    \"2025\",\n",
    "    freq=\"Y-DEC\",\n",
    ")\n",
    "p"
   ]
  },
  {
   "cell_type": "code",
   "execution_count": 124,
   "id": "535828d8-cddb-4e89-a196-0bd84ca4b27c",
   "metadata": {},
   "outputs": [
    {
     "data": {
      "text/plain": [
       "Period('2025-01', 'M')"
      ]
     },
     "execution_count": 124,
     "metadata": {},
     "output_type": "execute_result"
    }
   ],
   "source": [
    "# conversion\n",
    "p.asfreq(\"M\",\n",
    "         how=\"start\",\n",
    "        )"
   ]
  },
  {
   "cell_type": "code",
   "execution_count": 125,
   "id": "b5b86096-75d0-49a8-b000-46f997a7fd0e",
   "metadata": {},
   "outputs": [
    {
     "data": {
      "text/plain": [
       "Period('2025-12', 'M')"
      ]
     },
     "execution_count": 125,
     "metadata": {},
     "output_type": "execute_result"
    }
   ],
   "source": [
    "# conversion\n",
    "p.asfreq(\"M\",\n",
    "         how=\"end\",\n",
    "        )"
   ]
  },
  {
   "cell_type": "code",
   "execution_count": 126,
   "id": "861db7d5-cd9a-410b-840b-a8729af9ab7b",
   "metadata": {},
   "outputs": [
    {
     "data": {
      "text/plain": [
       "Period('2024', 'Y-JUN')"
      ]
     },
     "execution_count": 126,
     "metadata": {},
     "output_type": "execute_result"
    }
   ],
   "source": [
    "# Fiscal year\n",
    "p = pd.Period(\n",
    "    \"2024\",\n",
    "    freq=\"Y-JUN\",\n",
    ")\n",
    "p"
   ]
  },
  {
   "cell_type": "code",
   "execution_count": 127,
   "id": "8473a701-7548-4118-8e24-524b83261b59",
   "metadata": {},
   "outputs": [
    {
     "data": {
      "text/plain": [
       "Period('2023-07', 'M')"
      ]
     },
     "execution_count": 127,
     "metadata": {},
     "output_type": "execute_result"
    }
   ],
   "source": [
    "p.asfreq(\"M\",\n",
    "         how=\"start\"\n",
    "        )"
   ]
  },
  {
   "cell_type": "code",
   "execution_count": 128,
   "id": "09c512e4-2228-4ccb-b9c0-5db12258fc47",
   "metadata": {},
   "outputs": [
    {
     "data": {
      "text/plain": [
       "Period('2024-06', 'M')"
      ]
     },
     "execution_count": 128,
     "metadata": {},
     "output_type": "execute_result"
    }
   ],
   "source": [
    "p.asfreq(\"M\",\n",
    "         how=\"end\",\n",
    "        )"
   ]
  },
  {
   "cell_type": "code",
   "execution_count": 129,
   "id": "fe461b29-3315-424e-b228-919986cbafda",
   "metadata": {},
   "outputs": [
    {
     "data": {
      "text/plain": [
       "Period('2024', 'Y-JUN')"
      ]
     },
     "execution_count": 129,
     "metadata": {},
     "output_type": "execute_result"
    }
   ],
   "source": [
    "# period conversions\n",
    "# June 2024 is the end of the period\n",
    "p = pd.Period(\n",
    "    \"2024\",\n",
    "    \"Y-JUN\"\n",
    ")\n",
    "p"
   ]
  },
  {
   "cell_type": "code",
   "execution_count": 130,
   "id": "6e7b802d-b7fe-4093-8445-b68055503d99",
   "metadata": {},
   "outputs": [
    {
     "data": {
      "text/plain": [
       "Period('2023-07', 'M')"
      ]
     },
     "execution_count": 130,
     "metadata": {},
     "output_type": "execute_result"
    }
   ],
   "source": [
    "p.asfreq(\n",
    "    \"M\",\n",
    "    how=\"start\"\n",
    ")"
   ]
  },
  {
   "cell_type": "code",
   "execution_count": 131,
   "id": "a7b83aca-9c6b-45cf-aa6a-f416d6808b18",
   "metadata": {},
   "outputs": [
    {
     "data": {
      "text/plain": [
       "Period('2024-06', 'M')"
      ]
     },
     "execution_count": 131,
     "metadata": {},
     "output_type": "execute_result"
    }
   ],
   "source": [
    "p.asfreq(\n",
    "    \"M\",\n",
    "    how=\"end\",\n",
    ")"
   ]
  },
  {
   "cell_type": "code",
   "execution_count": 132,
   "id": "013d2212-4e88-4058-ae93-fd3c4e44fbc7",
   "metadata": {},
   "outputs": [
    {
     "data": {
      "text/plain": [
       "Period('2024', 'Y-AUG')"
      ]
     },
     "execution_count": 132,
     "metadata": {},
     "output_type": "execute_result"
    }
   ],
   "source": [
    "# conversion\n",
    "p.asfreq(\n",
    "    \"Y-AUG\"\n",
    ")"
   ]
  },
  {
   "cell_type": "code",
   "execution_count": 133,
   "id": "66c7bf84-a96c-4bc1-9bee-7e3f0efbe5fc",
   "metadata": {},
   "outputs": [],
   "source": [
    "# more examples\n",
    "periods = pd.period_range(\n",
    "    \"2035\", \"2040\",\n",
    "    freq=\"Y-JUN\"\n",
    ")"
   ]
  },
  {
   "cell_type": "code",
   "execution_count": 134,
   "id": "ed69f40c-b12d-41ed-a7f2-37052e3620e5",
   "metadata": {},
   "outputs": [
    {
     "data": {
      "text/plain": [
       "PeriodIndex(['2035', '2036', '2037', '2038', '2039', '2040'], dtype='period[Y-JUN]')"
      ]
     },
     "execution_count": 134,
     "metadata": {},
     "output_type": "execute_result"
    }
   ],
   "source": [
    "periods"
   ]
  },
  {
   "cell_type": "code",
   "execution_count": 135,
   "id": "6f846f41-c4d8-4487-9597-f4a632727a9e",
   "metadata": {},
   "outputs": [
    {
     "data": {
      "text/plain": [
       "2035    0.852820\n",
       "2036   -0.526909\n",
       "2037    0.011737\n",
       "2038    0.342633\n",
       "2039    1.386927\n",
       "2040   -1.667728\n",
       "Freq: Y-JUN, dtype: float64"
      ]
     },
     "execution_count": 135,
     "metadata": {},
     "output_type": "execute_result"
    }
   ],
   "source": [
    "ts = pd.Series(np.random.standard_normal(\n",
    "    len(periods)),\n",
    "               index=periods,\n",
    "              )\n",
    "ts"
   ]
  },
  {
   "cell_type": "code",
   "execution_count": 136,
   "id": "f91c5da1-f2ce-4aff-b65b-134c7106c7e7",
   "metadata": {},
   "outputs": [
    {
     "data": {
      "text/plain": [
       "2034-07    0.852820\n",
       "2035-07   -0.526909\n",
       "2036-07    0.011737\n",
       "2037-07    0.342633\n",
       "2038-07    1.386927\n",
       "2039-07   -1.667728\n",
       "Freq: M, dtype: float64"
      ]
     },
     "execution_count": 136,
     "metadata": {},
     "output_type": "execute_result"
    }
   ],
   "source": [
    "# conversion to months frequency\n",
    "ts.asfreq(\n",
    "    \"M\",\n",
    "    how=\"start\"\n",
    ")"
   ]
  },
  {
   "cell_type": "code",
   "execution_count": 137,
   "id": "bb41cd73-72fd-4589-95c8-eb542881e506",
   "metadata": {},
   "outputs": [
    {
     "data": {
      "text/plain": [
       "2035-06    0.852820\n",
       "2036-06   -0.526909\n",
       "2037-06    0.011737\n",
       "2038-06    0.342633\n",
       "2039-06    1.386927\n",
       "2040-06   -1.667728\n",
       "Freq: M, dtype: float64"
      ]
     },
     "execution_count": 137,
     "metadata": {},
     "output_type": "execute_result"
    }
   ],
   "source": [
    "ts.asfreq(\n",
    "    \"M\",\n",
    "    how=\"end\"\n",
    ")"
   ]
  },
  {
   "cell_type": "code",
   "execution_count": 138,
   "id": "230c632f-c995-4c28-8a48-4d5021be2dc5",
   "metadata": {},
   "outputs": [
    {
     "name": "stderr",
     "output_type": "stream",
     "text": [
      "C:\\Users\\Kakaire Steven\\AppData\\Local\\Temp\\ipykernel_1404\\4236237307.py:2: FutureWarning: PeriodDtype[B] is deprecated and will be removed in a future version. Use a DatetimeIndex with freq='B' instead\n",
      "  ts.asfreq(\n"
     ]
    },
    {
     "data": {
      "text/plain": [
       "2035-06-29    0.852820\n",
       "2036-06-30   -0.526909\n",
       "2037-06-30    0.011737\n",
       "2038-06-30    0.342633\n",
       "2039-06-30    1.386927\n",
       "2040-06-29   -1.667728\n",
       "Freq: B, dtype: float64"
      ]
     },
     "execution_count": 138,
     "metadata": {},
     "output_type": "execute_result"
    }
   ],
   "source": [
    "# last business day of the month\n",
    "ts.asfreq(\n",
    "    freq=\"B\",\n",
    "    how=\"end\"\n",
    ")"
   ]
  },
  {
   "cell_type": "markdown",
   "id": "17906392-0820-4578-b90a-7011a6b65928",
   "metadata": {},
   "source": [
    " <h4>Quarterly Period Frequencies</h4>"
   ]
  },
  {
   "cell_type": "code",
   "execution_count": 139,
   "id": "e9fc244c-40f3-4518-8c34-c1ee36e46c47",
   "metadata": {},
   "outputs": [],
   "source": [
    "p = pd.Period(\n",
    "    \"2024Q4\",\n",
    "    freq=\"Q-JAN\",\n",
    ")"
   ]
  },
  {
   "cell_type": "code",
   "execution_count": 140,
   "id": "10df8ccd-4ba7-4351-bc59-4caf6ca50a8d",
   "metadata": {},
   "outputs": [
    {
     "data": {
      "text/plain": [
       "Period('2024Q4', 'Q-JAN')"
      ]
     },
     "execution_count": 140,
     "metadata": {},
     "output_type": "execute_result"
    }
   ],
   "source": [
    "p"
   ]
  },
  {
   "cell_type": "code",
   "execution_count": 141,
   "id": "9543588a-3f98-4be4-b9d4-b54ed2f24c76",
   "metadata": {},
   "outputs": [
    {
     "data": {
      "text/plain": [
       "Period('2024Q3', 'Q-JUN')"
      ]
     },
     "execution_count": 141,
     "metadata": {},
     "output_type": "execute_result"
    }
   ],
   "source": [
    "p.asfreq(freq=\"Q-JUN\")"
   ]
  },
  {
   "cell_type": "code",
   "execution_count": 142,
   "id": "19439c18-88bc-4b32-916e-8fffacaa07aa",
   "metadata": {},
   "outputs": [
    {
     "data": {
      "text/plain": [
       "Period('2023-11-01', 'D')"
      ]
     },
     "execution_count": 142,
     "metadata": {},
     "output_type": "execute_result"
    }
   ],
   "source": [
    "# converting to daily frequencies\n",
    "p.asfreq(\"D\",\n",
    "         how=\"start\",\n",
    "        )"
   ]
  },
  {
   "cell_type": "code",
   "execution_count": 143,
   "id": "03c67568-1319-42e8-93fe-e7e379973bcc",
   "metadata": {},
   "outputs": [
    {
     "data": {
      "text/plain": [
       "PeriodIndex(['2023Q1', '2023Q2', '2023Q3', '2023Q4', '2024Q1', '2024Q2',\n",
       "             '2024Q3', '2024Q4', '2025Q1', '2025Q2', '2025Q3', '2025Q4',\n",
       "             '2026Q1', '2026Q2', '2026Q3', '2026Q4', '2027Q1', '2027Q2',\n",
       "             '2027Q3', '2027Q4', '2028Q1', '2028Q2', '2028Q3', '2028Q4',\n",
       "             '2029Q1', '2029Q2', '2029Q3', '2029Q4', '2030Q1', '2030Q2',\n",
       "             '2030Q3', '2030Q4'],\n",
       "            dtype='period[Q-MAY]')"
      ]
     },
     "execution_count": 143,
     "metadata": {},
     "output_type": "execute_result"
    }
   ],
   "source": [
    "# fiscal periods\n",
    "fs = pd.period_range(\n",
    "    \"2023Q1\",\n",
    "    \"2030Q4\",\n",
    "    freq=\"Q-MAY\"\n",
    ")\n",
    "fs"
   ]
  },
  {
   "cell_type": "code",
   "execution_count": 144,
   "id": "4370cf1d-b3b3-4972-b7ce-0e9727443254",
   "metadata": {},
   "outputs": [
    {
     "data": {
      "text/plain": [
       "PeriodIndex(['2022-06', '2022-09', '2022-12', '2023-03', '2023-06', '2023-09',\n",
       "             '2023-12', '2024-03', '2024-06', '2024-09', '2024-12', '2025-03',\n",
       "             '2025-06', '2025-09', '2025-12', '2026-03', '2026-06', '2026-09',\n",
       "             '2026-12', '2027-03', '2027-06', '2027-09', '2027-12', '2028-03',\n",
       "             '2028-06', '2028-09', '2028-12', '2029-03', '2029-06', '2029-09',\n",
       "             '2029-12', '2030-03'],\n",
       "            dtype='period[M]')"
      ]
     },
     "execution_count": 144,
     "metadata": {},
     "output_type": "execute_result"
    }
   ],
   "source": [
    "fs.asfreq(\"M\",\n",
    "          how=\"start\")"
   ]
  },
  {
   "cell_type": "code",
   "execution_count": 145,
   "id": "8ef2e38e-a28d-4797-8e21-02e3b5c10e19",
   "metadata": {},
   "outputs": [
    {
     "data": {
      "text/plain": [
       "PeriodIndex(['2022-08-31', '2022-11-30', '2023-02-28', '2023-05-31',\n",
       "             '2023-08-31', '2023-11-30', '2024-02-29', '2024-05-31',\n",
       "             '2024-08-31', '2024-11-30', '2025-02-28', '2025-05-31',\n",
       "             '2025-08-31', '2025-11-30', '2026-02-28', '2026-05-31',\n",
       "             '2026-08-31', '2026-11-30', '2027-02-28', '2027-05-31',\n",
       "             '2027-08-31', '2027-11-30', '2028-02-29', '2028-05-31',\n",
       "             '2028-08-31', '2028-11-30', '2029-02-28', '2029-05-31',\n",
       "             '2029-08-31', '2029-11-30', '2030-02-28', '2030-05-31'],\n",
       "            dtype='period[D]')"
      ]
     },
     "execution_count": 145,
     "metadata": {},
     "output_type": "execute_result"
    }
   ],
   "source": [
    "fs.asfreq(\n",
    "    \"D\",\n",
    "    how=\"end\",\n",
    ")"
   ]
  },
  {
   "cell_type": "code",
   "execution_count": 146,
   "id": "e43a598c-b984-464a-93d3-b3c6eaa14629",
   "metadata": {},
   "outputs": [
    {
     "name": "stderr",
     "output_type": "stream",
     "text": [
      "C:\\Users\\Kakaire Steven\\AppData\\Local\\Temp\\ipykernel_1404\\23150665.py:1: FutureWarning: PeriodDtype[B] is deprecated and will be removed in a future version. Use a DatetimeIndex with freq='B' instead\n",
      "  (fs.asfreq(\n"
     ]
    },
    {
     "data": {
      "text/plain": [
       "PeriodIndex(['2022-08-30 16:00', '2022-11-29 16:00', '2023-02-27 16:00',\n",
       "             '2023-05-30 16:00', '2023-08-30 16:00', '2023-11-29 16:00',\n",
       "             '2024-02-28 16:00', '2024-05-30 16:00', '2024-08-29 16:00',\n",
       "             '2024-11-28 16:00', '2025-02-27 16:00', '2025-05-29 16:00',\n",
       "             '2025-08-28 16:00', '2025-11-27 16:00', '2026-02-26 16:00',\n",
       "             '2026-05-28 16:00', '2026-08-28 16:00', '2026-11-27 16:00',\n",
       "             '2027-02-25 16:00', '2027-05-28 16:00', '2027-08-30 16:00',\n",
       "             '2027-11-29 16:00', '2028-02-28 16:00', '2028-05-30 16:00',\n",
       "             '2028-08-30 16:00', '2028-11-29 16:00', '2029-02-27 16:00',\n",
       "             '2029-05-30 16:00', '2029-08-30 16:00', '2029-11-29 16:00',\n",
       "             '2030-02-27 16:00', '2030-05-30 16:00'],\n",
       "            dtype='period[min]')"
      ]
     },
     "execution_count": 146,
     "metadata": {},
     "output_type": "execute_result"
    }
   ],
   "source": [
    "(fs.asfreq(\n",
    "    freq=\"B\",\n",
    "    how=\"end\",\n",
    ") - 1).asfreq(\n",
    "    \"min\",\n",
    "    how=\"start\",\n",
    ") + 16 * 60"
   ]
  },
  {
   "cell_type": "code",
   "execution_count": 147,
   "id": "13d1047c-0db1-4b15-927b-1ad45c4e1980",
   "metadata": {},
   "outputs": [],
   "source": [
    "# More examples\n",
    "periods = pd.period_range(\n",
    "    \"2024Q4\",\n",
    "    \"2026Q1\",\n",
    "    freq=\"Q-JAN\",\n",
    ")"
   ]
  },
  {
   "cell_type": "code",
   "execution_count": 148,
   "id": "c7c950d9-d986-4067-917e-726f313c8bc7",
   "metadata": {},
   "outputs": [
    {
     "data": {
      "text/plain": [
       "PeriodIndex(['2024Q4', '2025Q1', '2025Q2', '2025Q3', '2025Q4', '2026Q1'], dtype='period[Q-JAN]')"
      ]
     },
     "execution_count": 148,
     "metadata": {},
     "output_type": "execute_result"
    }
   ],
   "source": [
    "periods"
   ]
  },
  {
   "cell_type": "code",
   "execution_count": 149,
   "id": "3cf2081e-0d3f-4f60-ba5a-78915c49a0c2",
   "metadata": {},
   "outputs": [
    {
     "data": {
      "text/plain": [
       "2024Q4    0\n",
       "2025Q1    1\n",
       "2025Q2    2\n",
       "2025Q3    3\n",
       "2025Q4    4\n",
       "2026Q1    5\n",
       "Freq: Q-JAN, dtype: int32"
      ]
     },
     "execution_count": 149,
     "metadata": {},
     "output_type": "execute_result"
    }
   ],
   "source": [
    "ts = pd.Series(\n",
    "    np.arange(len(periods)),\n",
    "    index=periods)\n",
    "ts"
   ]
  },
  {
   "cell_type": "code",
   "execution_count": 150,
   "id": "23ecd973-67ce-4d4c-b2d4-2198e55aa01f",
   "metadata": {},
   "outputs": [
    {
     "name": "stderr",
     "output_type": "stream",
     "text": [
      "C:\\Users\\Kakaire Steven\\AppData\\Local\\Temp\\ipykernel_1404\\1775545749.py:1: FutureWarning: PeriodDtype[B] is deprecated and will be removed in a future version. Use a DatetimeIndex with freq='B' instead\n",
      "  new_periods = (periods.asfreq(\"B\", \"end\")-1).asfreq(\"h\", \"start\") + 16\n"
     ]
    },
    {
     "data": {
      "text/plain": [
       "PeriodIndex(['2024-01-30 16:00', '2024-04-29 16:00', '2024-07-30 16:00',\n",
       "             '2024-10-30 16:00', '2025-01-30 16:00', '2025-04-29 16:00'],\n",
       "            dtype='period[h]')"
      ]
     },
     "execution_count": 150,
     "metadata": {},
     "output_type": "execute_result"
    }
   ],
   "source": [
    "new_periods = (periods.asfreq(\"B\", \"end\")-1).asfreq(\"h\", \"start\") + 16\n",
    "new_periods"
   ]
  },
  {
   "cell_type": "code",
   "execution_count": 151,
   "id": "f8d4018b-551e-4dad-a6e4-3ddc73f1291d",
   "metadata": {},
   "outputs": [
    {
     "data": {
      "text/plain": [
       "2024-01-30 16:00:00    0\n",
       "2024-04-29 16:00:00    1\n",
       "2024-07-30 16:00:00    2\n",
       "2024-10-30 16:00:00    3\n",
       "2025-01-30 16:00:00    4\n",
       "2025-04-29 16:00:00    5\n",
       "dtype: int32"
      ]
     },
     "execution_count": 151,
     "metadata": {},
     "output_type": "execute_result"
    }
   ],
   "source": [
    "ts.index = new_periods.to_timestamp()\n",
    "ts"
   ]
  },
  {
   "cell_type": "markdown",
   "id": "a265dbb9-b18a-46f5-bc39-49ebb54467ca",
   "metadata": {},
   "source": [
    "<h4>Converting Timestamps to periods (and Back)</h4>"
   ]
  },
  {
   "cell_type": "code",
   "execution_count": 152,
   "id": "311937d7-3e95-4063-9b44-7073ee19c863",
   "metadata": {},
   "outputs": [
    {
     "data": {
      "text/plain": [
       "DatetimeIndex(['2024-01-31', '2024-02-29', '2024-03-31', '2024-04-30',\n",
       "               '2024-05-31', '2024-06-30', '2024-07-31', '2024-08-31',\n",
       "               '2024-09-30', '2024-10-31'],\n",
       "              dtype='datetime64[ns]', freq='ME')"
      ]
     },
     "execution_count": 152,
     "metadata": {},
     "output_type": "execute_result"
    }
   ],
   "source": [
    "dates = pd.date_range(\n",
    "    \"2024-01-15\",\n",
    "    periods=10,\n",
    "    freq=\"ME\",\n",
    ")\n",
    "dates"
   ]
  },
  {
   "cell_type": "code",
   "execution_count": 153,
   "id": "d698e55a-0b00-482e-8632-bba30a4a4835",
   "metadata": {},
   "outputs": [
    {
     "data": {
      "text/plain": [
       "2024-01-31   -1.132093\n",
       "2024-02-29    0.525147\n",
       "2024-03-31    1.048049\n",
       "2024-04-30   -2.220794\n",
       "2024-05-31    1.508387\n",
       "2024-06-30   -0.087687\n",
       "2024-07-31    0.044624\n",
       "2024-08-31    0.135110\n",
       "2024-09-30    0.692808\n",
       "2024-10-31    0.987954\n",
       "Freq: ME, dtype: float64"
      ]
     },
     "execution_count": 153,
     "metadata": {},
     "output_type": "execute_result"
    }
   ],
   "source": [
    "ts = pd.Series(\n",
    "    np.random.standard_normal(len(dates)),\n",
    "    index=dates)\n",
    "ts"
   ]
  },
  {
   "cell_type": "code",
   "execution_count": 154,
   "id": "499656f7-5776-4177-bee2-8837e31cef51",
   "metadata": {},
   "outputs": [
    {
     "data": {
      "text/plain": [
       "2024-01   -1.132093\n",
       "2024-02    0.525147\n",
       "2024-03    1.048049\n",
       "2024-04   -2.220794\n",
       "2024-05    1.508387\n",
       "2024-06   -0.087687\n",
       "2024-07    0.044624\n",
       "2024-08    0.135110\n",
       "2024-09    0.692808\n",
       "2024-10    0.987954\n",
       "Freq: M, dtype: float64"
      ]
     },
     "execution_count": 154,
     "metadata": {},
     "output_type": "execute_result"
    }
   ],
   "source": [
    "ts.to_period()"
   ]
  },
  {
   "cell_type": "code",
   "execution_count": 155,
   "id": "690373ad-8ee6-493a-8310-519b32c34d9a",
   "metadata": {},
   "outputs": [
    {
     "data": {
      "text/plain": [
       "2024-01-29    0.110280\n",
       "2024-01-30    1.883727\n",
       "2024-01-31    2.106036\n",
       "2024-02-01   -0.045136\n",
       "2024-02-02   -1.850006\n",
       "2024-02-03    0.377435\n",
       "2024-02-04    0.122493\n",
       "2024-02-05   -1.512257\n",
       "2024-02-06   -1.925880\n",
       "2024-02-07    0.083241\n",
       "Freq: D, dtype: float64"
      ]
     },
     "execution_count": 155,
     "metadata": {},
     "output_type": "execute_result"
    }
   ],
   "source": [
    "dates = pd.date_range(\n",
    "    \"2024-01-29\",\n",
    "    periods=10,\n",
    ")\n",
    "ts2 = pd.Series(\n",
    "    np.random.standard_normal(len(dates)),\n",
    "    index=dates)\n",
    "ts2"
   ]
  },
  {
   "cell_type": "code",
   "execution_count": 156,
   "id": "d2a246d1-7c87-4040-a680-14e11a413000",
   "metadata": {},
   "outputs": [
    {
     "data": {
      "text/plain": [
       "2024-01    0.110280\n",
       "2024-01    1.883727\n",
       "2024-01    2.106036\n",
       "2024-02   -0.045136\n",
       "2024-02   -1.850006\n",
       "2024-02    0.377435\n",
       "2024-02    0.122493\n",
       "2024-02   -1.512257\n",
       "2024-02   -1.925880\n",
       "2024-02    0.083241\n",
       "Freq: M, dtype: float64"
      ]
     },
     "execution_count": 156,
     "metadata": {},
     "output_type": "execute_result"
    }
   ],
   "source": [
    "pts = ts2.to_period(\"M\")\n",
    "pts"
   ]
  },
  {
   "cell_type": "code",
   "execution_count": 157,
   "id": "a015bf89-10b1-4bf9-9064-09d80a98a611",
   "metadata": {},
   "outputs": [
    {
     "data": {
      "text/plain": [
       "2024-01-31 23:59:59.999999999    0.110280\n",
       "2024-01-31 23:59:59.999999999    1.883727\n",
       "2024-01-31 23:59:59.999999999    2.106036\n",
       "2024-02-29 23:59:59.999999999   -0.045136\n",
       "2024-02-29 23:59:59.999999999   -1.850006\n",
       "2024-02-29 23:59:59.999999999    0.377435\n",
       "2024-02-29 23:59:59.999999999    0.122493\n",
       "2024-02-29 23:59:59.999999999   -1.512257\n",
       "2024-02-29 23:59:59.999999999   -1.925880\n",
       "2024-02-29 23:59:59.999999999    0.083241\n",
       "dtype: float64"
      ]
     },
     "execution_count": 157,
     "metadata": {},
     "output_type": "execute_result"
    }
   ],
   "source": [
    "# converting back to timestamp\n",
    "pts.to_timestamp(\n",
    "    how=\"end\")"
   ]
  },
  {
   "cell_type": "code",
   "execution_count": 158,
   "id": "721dd25b-11e7-4c5b-b423-2a839ab5b2cb",
   "metadata": {},
   "outputs": [
    {
     "ename": "AttributeError",
     "evalue": "module 'pandas' has no attribute 'read_cs'",
     "output_type": "error",
     "traceback": [
      "\u001b[1;31m---------------------------------------------------------------------------\u001b[0m",
      "\u001b[1;31mAttributeError\u001b[0m                            Traceback (most recent call last)",
      "Cell \u001b[1;32mIn[158], line 1\u001b[0m\n\u001b[1;32m----> 1\u001b[0m data \u001b[38;5;241m=\u001b[39m \u001b[43mpd\u001b[49m\u001b[38;5;241;43m.\u001b[39;49m\u001b[43mread_cs\u001b[49m\n",
      "\u001b[1;31mAttributeError\u001b[0m: module 'pandas' has no attribute 'read_cs'"
     ]
    }
   ],
   "source": [
    "data = pd.read_cs"
   ]
  }
 ],
 "metadata": {
  "kernelspec": {
   "display_name": "Python 3 (ipykernel)",
   "language": "python",
   "name": "python3"
  },
  "language_info": {
   "codemirror_mode": {
    "name": "ipython",
    "version": 3
   },
   "file_extension": ".py",
   "mimetype": "text/x-python",
   "name": "python",
   "nbconvert_exporter": "python",
   "pygments_lexer": "ipython3",
   "version": "3.12.3"
  }
 },
 "nbformat": 4,
 "nbformat_minor": 5
}
