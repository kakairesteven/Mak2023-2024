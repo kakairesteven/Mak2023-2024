{
 "cells": [
  {
   "cell_type": "code",
   "execution_count": 1,
   "id": "d66014f8-2c93-4e29-8dbb-9265137711f8",
   "metadata": {},
   "outputs": [
    {
     "name": "stdout",
     "output_type": "stream",
     "text": [
      "          A    B\n",
      "0  0.000000  0.0\n",
      "1  0.333333  0.5\n",
      "2  0.444444  0.5\n",
      "3  1.000000  1.0\n"
     ]
    }
   ],
   "source": [
    "import pandas as pd\n",
    "from cleanPyData import (\n",
    "    handle_missing_values,\n",
    "    normalize_data,\n",
    "    extract_features,\n",
    "    detect_outliers\n",
    ")\n",
    "\n",
    "# Example DataFrame\n",
    "data = {\n",
    "    'A': [1, 2, None, 4],\n",
    "    'B': [4, None, 6, 8],\n",
    "    'C': [5, 6, 7, 8],\n",
    "    'target': [1, 0, 1, 0]\n",
    "}\n",
    "df = pd.DataFrame(data)\n",
    "\n",
    "# Handle missing values\n",
    "df = handle_missing_values(df, strategy='mean')\n",
    "\n",
    "# Normalize data\n",
    "df = normalize_data(df, method='minmax')\n",
    "\n",
    "# Extract features\n",
    "df = extract_features(df, target='target', k=2)\n",
    "\n",
    "# Detect outliers\n",
    "df = detect_outliers(df, method='zscore', threshold=3)\n",
    "\n",
    "print(df)"
   ]
  }
 ],
 "metadata": {
  "kernelspec": {
   "display_name": "Python 3 (ipykernel)",
   "language": "python",
   "name": "python3"
  },
  "language_info": {
   "codemirror_mode": {
    "name": "ipython",
    "version": 3
   },
   "file_extension": ".py",
   "mimetype": "text/x-python",
   "name": "python",
   "nbconvert_exporter": "python",
   "pygments_lexer": "ipython3",
   "version": "3.12.3"
  }
 },
 "nbformat": 4,
 "nbformat_minor": 5
}
