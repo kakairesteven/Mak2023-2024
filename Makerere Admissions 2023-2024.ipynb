{
 "cells": [
  {
   "cell_type": "code",
   "execution_count": 353,
   "id": "4de1dcab",
   "metadata": {},
   "outputs": [],
   "source": [
    "import pandas as pd\n",
    "import numpy as np"
   ]
  },
  {
   "cell_type": "code",
   "execution_count": 354,
   "id": "2c26bd1e",
   "metadata": {},
   "outputs": [],
   "source": [
    "# Import tabula to read pdf file\n",
    "import tabula"
   ]
  },
  {
   "cell_type": "code",
   "execution_count": null,
   "id": "72e00266",
   "metadata": {},
   "outputs": [],
   "source": [
    "mak23 = tabula.read_pdf(\"examples/Mak2023-2024.pdf\", pages=\"all\")"
   ]
  },
  {
   "cell_type": "code",
   "execution_count": null,
   "id": "9818fc67",
   "metadata": {},
   "outputs": [],
   "source": [
    "# This data is rough and improperly structured\n",
    "mak23"
   ]
  },
  {
   "cell_type": "code",
   "execution_count": null,
   "id": "5fbd37da",
   "metadata": {},
   "outputs": [],
   "source": [
    "# Index the first table in the mak23 pdf\n",
    "# Data is highly unordered and requires pre-processing\n",
    "# A number of techniques shall be used to clean and prepare data into proper structured\n",
    "# tabular format.\n",
    "mak23[0]"
   ]
  },
  {
   "cell_type": "code",
   "execution_count": null,
   "id": "58e4e0ec",
   "metadata": {},
   "outputs": [],
   "source": [
    "# Drop missing data rows.\n",
    "# It can be observed that index 3 contains what would have been column names: Form id, Index_no, ...\n",
    "# It also contains original data index read as column: Unnamed: 0\n",
    "data1 = mak23[0].dropna()"
   ]
  },
  {
   "cell_type": "code",
   "execution_count": null,
   "id": "342d0b25",
   "metadata": {},
   "outputs": [],
   "source": [
    "data1"
   ]
  },
  {
   "cell_type": "code",
   "execution_count": null,
   "id": "c378a8c0",
   "metadata": {},
   "outputs": [],
   "source": [
    "# This returns the columns in the DataFrame\n",
    "data1.columns"
   ]
  },
  {
   "cell_type": "code",
   "execution_count": null,
   "id": "423fc2d4",
   "metadata": {},
   "outputs": [],
   "source": [
    "# drop column: Unnamed: 0\n",
    "del data1[\"Unnamed: 0\"]"
   ]
  },
  {
   "cell_type": "code",
   "execution_count": null,
   "id": "38ae3685",
   "metadata": {},
   "outputs": [],
   "source": [
    "len(data1['MAKERERE UIVERSITY'])"
   ]
  },
  {
   "cell_type": "code",
   "execution_count": null,
   "id": "64ad4ba4",
   "metadata": {},
   "outputs": [],
   "source": [
    "# Key data is in column Makerere University\n",
    "# Employ python string processing methods to extracts such data"
   ]
  },
  {
   "cell_type": "code",
   "execution_count": null,
   "id": "046abe5c",
   "metadata": {},
   "outputs": [],
   "source": [
    "data1.iloc[0]"
   ]
  },
  {
   "cell_type": "code",
   "execution_count": null,
   "id": "d342345f",
   "metadata": {},
   "outputs": [],
   "source": [
    "data1"
   ]
  },
  {
   "cell_type": "code",
   "execution_count": null,
   "id": "ebc808ca",
   "metadata": {},
   "outputs": [],
   "source": [
    "data1.index"
   ]
  },
  {
   "cell_type": "code",
   "execution_count": null,
   "id": "b38c8050",
   "metadata": {},
   "outputs": [],
   "source": [
    "# Reindex the dataframe\n",
    "data2 = data1.reindex([x for x in range(len(data1.index))])"
   ]
  },
  {
   "cell_type": "code",
   "execution_count": null,
   "id": "a7a4b54c",
   "metadata": {},
   "outputs": [],
   "source": [
    "data2"
   ]
  },
  {
   "cell_type": "code",
   "execution_count": null,
   "id": "82e38155",
   "metadata": {},
   "outputs": [],
   "source": [
    "newIndex = [x for x in range(len(data1.index))]\n",
    "type(newIndex)"
   ]
  },
  {
   "cell_type": "code",
   "execution_count": null,
   "id": "cb6afb6b",
   "metadata": {},
   "outputs": [],
   "source": [
    "data1"
   ]
  },
  {
   "cell_type": "code",
   "execution_count": null,
   "id": "0629c1ad",
   "metadata": {},
   "outputs": [],
   "source": [
    "# A series of the total weights\n",
    "weights = data1[\"Unnamed: 2\"][1:]\n",
    "weights"
   ]
  },
  {
   "cell_type": "code",
   "execution_count": null,
   "id": "831ee4c9",
   "metadata": {},
   "outputs": [],
   "source": [
    "# A series of form IDs\n",
    "formId = data1['Unnamed: 1'][1:]\n",
    "formId"
   ]
  },
  {
   "cell_type": "code",
   "execution_count": null,
   "id": "6094cbb5",
   "metadata": {},
   "outputs": [],
   "source": [
    "# Preprocess and extract migled data from 'MAKERERE UIVERSITY' column\n",
    "data2 = data1['MAKERERE UIVERSITY']"
   ]
  },
  {
   "cell_type": "code",
   "execution_count": null,
   "id": "0ade233d",
   "metadata": {},
   "outputs": [],
   "source": [
    "# data[1]\n",
    "data = [x for x in data2[1:]]\n",
    "data"
   ]
  },
  {
   "cell_type": "code",
   "execution_count": null,
   "id": "247c9dfb",
   "metadata": {},
   "outputs": [],
   "source": [
    "# Rewrting index,\n",
    "DataColumns = [\"Index No\", \"NAME\", \"GENDER\", \"UACE YEAR\", \"CODE\", \"DISTRICT\", \"COURSE CODE\", \"COURSE NAME\"]"
   ]
  },
  {
   "cell_type": "code",
   "execution_count": null,
   "id": "6e0d8f3b",
   "metadata": {},
   "outputs": [],
   "source": [
    "# Function to extract data from data2\n",
    "def dataProcess(n):\n",
    "#     if n >= 1:\n",
    "    studentData = data[n].split()\n",
    "    index_no = studentData[0]\n",
    "    name = \" \".join(studentData[1:-7])[:-1]\n",
    "    gender = studentData[-8][-1]\n",
    "    UACE_YEAR = int(studentData[-7])\n",
    "    DistrictCode = int(studentData[-6])\n",
    "    District = studentData[-5]\n",
    "    CourseCode = studentData[-4]\n",
    "    Course = ' '.join(studentData[-3:])\n",
    "    return [index_no, name, gender, UACE_YEAR,\n",
    "            DistrictCode, District, CourseCode, Course]"
   ]
  },
  {
   "cell_type": "code",
   "execution_count": null,
   "id": "40514061",
   "metadata": {},
   "outputs": [],
   "source": [
    "# Create a data frame with no data\n",
    "df = pd.DataFrame([], columns=DataColumns)"
   ]
  },
  {
   "cell_type": "code",
   "execution_count": null,
   "id": "0da4d1c2",
   "metadata": {},
   "outputs": [],
   "source": [
    "df"
   ]
  },
  {
   "cell_type": "code",
   "execution_count": null,
   "id": "ac216f59",
   "metadata": {},
   "outputs": [],
   "source": [
    "data"
   ]
  },
  {
   "cell_type": "code",
   "execution_count": null,
   "id": "466ff742",
   "metadata": {},
   "outputs": [],
   "source": [
    "studentList = []\n",
    "for i in range(len(data)):\n",
    "#     if i > 0:\n",
    "    student = dataProcess(i)\n",
    "    studentList.append(student)"
   ]
  },
  {
   "cell_type": "code",
   "execution_count": null,
   "id": "245e3e4d",
   "metadata": {},
   "outputs": [],
   "source": [
    "studentList"
   ]
  },
  {
   "cell_type": "code",
   "execution_count": null,
   "id": "043a5763",
   "metadata": {},
   "outputs": [],
   "source": [
    "df = pd.DataFrame(studentList, columns=DataColumns)"
   ]
  },
  {
   "cell_type": "code",
   "execution_count": null,
   "id": "78350556",
   "metadata": {},
   "outputs": [],
   "source": [
    "df"
   ]
  },
  {
   "cell_type": "code",
   "execution_count": null,
   "id": "81da3f0b",
   "metadata": {},
   "outputs": [],
   "source": [
    "# Insert Total Weight Column into the DataFrame\n",
    "df.insert(8, \"Total Weight\", pd.Series([x for x in weights], index=df.index))"
   ]
  },
  {
   "cell_type": "code",
   "execution_count": null,
   "id": "e016a1fd",
   "metadata": {},
   "outputs": [],
   "source": [
    "# Insert formId Column as the first column\n",
    "# Qn: Can we insert multiple columns at once🤔\n",
    "df.insert(0, \"Form ID\", pd.Series([x for x in formId], index=df.index))"
   ]
  },
  {
   "cell_type": "code",
   "execution_count": null,
   "id": "59401974",
   "metadata": {},
   "outputs": [],
   "source": [
    "df"
   ]
  },
  {
   "cell_type": "markdown",
   "id": "d4928db1",
   "metadata": {},
   "source": [
    "<h3>Assignment: Preprocess the remaining data tables to have them similar to the data above.</h3>"
   ]
  },
  {
   "cell_type": "code",
   "execution_count": null,
   "id": "8fa4c419",
   "metadata": {},
   "outputs": [],
   "source": [
    "# Are there better ways of doing the above tasks?"
   ]
  },
  {
   "cell_type": "markdown",
   "id": "bbfe7019",
   "metadata": {},
   "source": [
    "# <h3>Data description</h3>"
   ]
  },
  {
   "cell_type": "code",
   "execution_count": null,
   "id": "da575b72",
   "metadata": {},
   "outputs": [],
   "source": [
    "# which district had a higher intake and what is its frequency\n",
    "df.DISTRICT.describe()"
   ]
  },
  {
   "cell_type": "code",
   "execution_count": null,
   "id": "f3a7e6ec",
   "metadata": {},
   "outputs": [],
   "source": [
    "# In the data portion, there are 26 unique districts.\n",
    "# Wakiso has oneof the highest frequency of student admissions.\n",
    "# Budaka is one of the districts with the lowest frequency admissions."
   ]
  },
  {
   "cell_type": "code",
   "execution_count": null,
   "id": "478f0db5",
   "metadata": {},
   "outputs": [],
   "source": [
    "# why is Budaka returned as the district with the lowest frequency\n",
    "df.DISTRICT.min()"
   ]
  },
  {
   "cell_type": "code",
   "execution_count": null,
   "id": "c9e7ea40",
   "metadata": {},
   "outputs": [],
   "source": [
    "# why is Wakiso returned as the district with the highest frequency\n",
    "# df.DISTRICT.max(include='all')"
   ]
  },
  {
   "cell_type": "code",
   "execution_count": null,
   "id": "3372a5c8",
   "metadata": {},
   "outputs": [],
   "source": [
    "df.DISTRICT.value_counts()"
   ]
  },
  {
   "cell_type": "code",
   "execution_count": null,
   "id": "aa7cfb33",
   "metadata": {},
   "outputs": [],
   "source": [
    "# analysis by SEX"
   ]
  },
  {
   "cell_type": "code",
   "execution_count": null,
   "id": "b7cf871a",
   "metadata": {},
   "outputs": [],
   "source": [
    "# More males than females were admitted\n",
    "df.GENDER.value_counts()"
   ]
  },
  {
   "cell_type": "code",
   "execution_count": null,
   "id": "e6a747b7",
   "metadata": {},
   "outputs": [],
   "source": [
    "# Count gender by district \n",
    "df_district_gender = pd.DataFrame(data = df.GENDER.value_counts(), index = list(df.DISTRICT), columns = list(df.GENDER))"
   ]
  },
  {
   "cell_type": "code",
   "execution_count": null,
   "id": "be866e5d",
   "metadata": {},
   "outputs": [],
   "source": [
    "# How can we get district gender count?"
   ]
  },
  {
   "cell_type": "code",
   "execution_count": null,
   "id": "5bb8b670",
   "metadata": {},
   "outputs": [],
   "source": [
    "# Extract one record\n",
    "record0 = df.iloc[0]"
   ]
  },
  {
   "cell_type": "code",
   "execution_count": null,
   "id": "15e33c9f",
   "metadata": {},
   "outputs": [],
   "source": [
    "# Extracting multiple column data\n",
    "record0[[\"Form ID\", \"NAME\"]]"
   ]
  },
  {
   "cell_type": "code",
   "execution_count": null,
   "id": "ceee32b8",
   "metadata": {},
   "outputs": [],
   "source": [
    "record0"
   ]
  },
  {
   "cell_type": "code",
   "execution_count": null,
   "id": "bfc82868",
   "metadata": {},
   "outputs": [],
   "source": [
    "record1 = df.iloc[1]"
   ]
  },
  {
   "cell_type": "code",
   "execution_count": null,
   "id": "64d2bc69",
   "metadata": {},
   "outputs": [],
   "source": [
    "record1"
   ]
  },
  {
   "cell_type": "code",
   "execution_count": null,
   "id": "e85e4ae0",
   "metadata": {},
   "outputs": [],
   "source": [
    "# you can concatenate records from different dataframes (sources)\n",
    "# For example, in the admission data, you what to get a dataframe for students from a specific district.\n",
    "newdf = pd.concat([record0, record1], keys=df.index).unstack()"
   ]
  },
  {
   "cell_type": "code",
   "execution_count": null,
   "id": "24f0fbb2",
   "metadata": {},
   "outputs": [],
   "source": [
    "newdf"
   ]
  },
  {
   "cell_type": "code",
   "execution_count": null,
   "id": "96ca3356",
   "metadata": {},
   "outputs": [],
   "source": [
    "# This is an extract of students from Wakiso\n",
    "wakisoStudents = df.loc[df[\"DISTRICT\"] == \"WAKISO\"]"
   ]
  },
  {
   "cell_type": "code",
   "execution_count": null,
   "id": "5571c328",
   "metadata": {},
   "outputs": [],
   "source": [
    "# function definition\n",
    "def district(district):\n",
    "    return df.loc[df[\"DISTRICT\"] == district].GENDER.value_counts()"
   ]
  },
  {
   "cell_type": "code",
   "execution_count": null,
   "id": "0e34c916",
   "metadata": {},
   "outputs": [],
   "source": [
    "district(\"WAKISO\")"
   ]
  },
  {
   "cell_type": "code",
   "execution_count": null,
   "id": "9fc8355b",
   "metadata": {},
   "outputs": [],
   "source": [
    "wakisoStudents"
   ]
  },
  {
   "cell_type": "code",
   "execution_count": null,
   "id": "4edeab64",
   "metadata": {},
   "outputs": [],
   "source": [
    "# Value Count: Returns count of distinct values\n",
    "wakisoStudents[\"GENDER\"].value_counts()"
   ]
  },
  {
   "cell_type": "code",
   "execution_count": null,
   "id": "4955aa78",
   "metadata": {},
   "outputs": [],
   "source": [
    "districts = pd.Series(df.DISTRICT)"
   ]
  },
  {
   "cell_type": "code",
   "execution_count": null,
   "id": "936e515f",
   "metadata": {},
   "outputs": [],
   "source": [
    "districts"
   ]
  },
  {
   "cell_type": "code",
   "execution_count": null,
   "id": "df0e54bd",
   "metadata": {},
   "outputs": [],
   "source": [
    "distDict = {}\n",
    "for i in districts:\n",
    "#     print(i, district(i))\n",
    "    distDict[i] = dict(district(i))"
   ]
  },
  {
   "cell_type": "code",
   "execution_count": null,
   "id": "810c56dd",
   "metadata": {},
   "outputs": [],
   "source": [
    "# by default, unstack works for the inner index in hierarchical index.\n",
    "distResult = pd.DataFrame(distDict).unstack()"
   ]
  },
  {
   "cell_type": "code",
   "execution_count": null,
   "id": "6d68d869",
   "metadata": {},
   "outputs": [],
   "source": [
    "# distResult"
   ]
  },
  {
   "cell_type": "code",
   "execution_count": null,
   "id": "603e6984",
   "metadata": {},
   "outputs": [],
   "source": [
    "distGender = pd.DataFrame(distResult)"
   ]
  },
  {
   "cell_type": "code",
   "execution_count": null,
   "id": "f9f1997b",
   "metadata": {},
   "outputs": [],
   "source": [
    "# distGender.columns.names = [\"Enrollment\"]"
   ]
  },
  {
   "cell_type": "code",
   "execution_count": null,
   "id": "1347d439",
   "metadata": {},
   "outputs": [],
   "source": [
    "distGender.index.names = [\"District\", \"Gender\"]"
   ]
  },
  {
   "cell_type": "code",
   "execution_count": null,
   "id": "136bcf41",
   "metadata": {},
   "outputs": [],
   "source": [
    "# Renaming column to count\n",
    "distGender = distGender.rename(columns = {0: \"Count\"})"
   ]
  },
  {
   "cell_type": "code",
   "execution_count": null,
   "id": "385d298e",
   "metadata": {},
   "outputs": [],
   "source": [
    "distGender = distGender.fillna(0)"
   ]
  },
  {
   "cell_type": "code",
   "execution_count": null,
   "id": "06e473cc",
   "metadata": {},
   "outputs": [],
   "source": [
    "# Indexing the first two rows\n",
    "distGender[:3]"
   ]
  },
  {
   "cell_type": "code",
   "execution_count": null,
   "id": "d5a7d97f",
   "metadata": {},
   "outputs": [],
   "source": [
    "# Indexing a specific district\n",
    "distGender.loc[\"IGANGA\"]"
   ]
  },
  {
   "cell_type": "code",
   "execution_count": null,
   "id": "aa918edf",
   "metadata": {},
   "outputs": [],
   "source": [
    "district(\"MASAKA\")"
   ]
  },
  {
   "cell_type": "code",
   "execution_count": null,
   "id": "9ffdb4a6",
   "metadata": {},
   "outputs": [],
   "source": [
    "wakisoStudents"
   ]
  },
  {
   "cell_type": "code",
   "execution_count": null,
   "id": "bd4b8aa7",
   "metadata": {},
   "outputs": [],
   "source": [
    "kampalaAdmissions = df[df.DISTRICT == 'KAMPALA']"
   ]
  },
  {
   "cell_type": "code",
   "execution_count": null,
   "id": "cbc97946",
   "metadata": {},
   "outputs": [],
   "source": [
    "kampalaAdmissions"
   ]
  },
  {
   "cell_type": "code",
   "execution_count": null,
   "id": "0e1123c5",
   "metadata": {},
   "outputs": [],
   "source": [
    "# Getting Admission numbers by Region: Central, Eastern, Western, Northern\n",
    "# Some of the representative districts in different regions are;\n",
    "central = {'Kampala', 'Wakiso', 'Mpigi', 'Mukono', 'Luwero'}"
   ]
  },
  {
   "cell_type": "code",
   "execution_count": null,
   "id": "5eb65da2",
   "metadata": {},
   "outputs": [],
   "source": [
    "eastern = {'Iganga', 'Mayuge', 'Jinja', 'Bugiri'}"
   ]
  },
  {
   "cell_type": "code",
   "execution_count": null,
   "id": "72b1be54",
   "metadata": {},
   "outputs": [],
   "source": [
    "western = {'Mbarara', 'Rukugiri', 'Kabale', 'Kisoro'}"
   ]
  },
  {
   "cell_type": "code",
   "execution_count": null,
   "id": "a5345c78",
   "metadata": {},
   "outputs": [],
   "source": [
    "northern = {'Gulu', 'Amolatar', 'Adjumani', 'Apac', 'Arua', 'Kaabong', 'Kitgum'}"
   ]
  },
  {
   "cell_type": "code",
   "execution_count": null,
   "id": "3cfd481a",
   "metadata": {},
   "outputs": [],
   "source": [
    "mak23[1]"
   ]
  },
  {
   "cell_type": "markdown",
   "id": "bed58c45",
   "metadata": {},
   "source": [
    "# Combining more tables"
   ]
  },
  {
   "cell_type": "code",
   "execution_count": null,
   "id": "2d28a82d",
   "metadata": {},
   "outputs": [],
   "source": [
    "studentData2 = mak23[1]"
   ]
  },
  {
   "cell_type": "code",
   "execution_count": null,
   "id": "661e280f",
   "metadata": {},
   "outputs": [],
   "source": [
    "# The df columns need editing\n",
    "studentData2"
   ]
  },
  {
   "cell_type": "code",
   "execution_count": null,
   "id": "ca7ce64b",
   "metadata": {
    "scrolled": true
   },
   "outputs": [],
   "source": [
    "# delete \"41\" column\n",
    "del studentData2['41']"
   ]
  },
  {
   "cell_type": "code",
   "execution_count": null,
   "id": "0aeeada0",
   "metadata": {},
   "outputs": [],
   "source": [
    "xdata = dataTable2.columns"
   ]
  },
  {
   "cell_type": "code",
   "execution_count": null,
   "id": "9a47b345",
   "metadata": {},
   "outputs": [],
   "source": [
    "# Change columns by re-assigning\n",
    "DataColumns = df.columns\n",
    "DataColumns"
   ]
  },
  {
   "cell_type": "code",
   "execution_count": null,
   "id": "2e2af283",
   "metadata": {},
   "outputs": [],
   "source": [
    "# dataframe with the first entry as xdata\n",
    "df2 = pd.DataFrame([xdata], columns=DataColumns)"
   ]
  },
  {
   "cell_type": "code",
   "execution_count": null,
   "id": "ca9f28cd",
   "metadata": {
    "scrolled": true
   },
   "outputs": [],
   "source": [
    "df2"
   ]
  },
  {
   "cell_type": "code",
   "execution_count": null,
   "id": "bf924ae1",
   "metadata": {},
   "outputs": [],
   "source": [
    "studentData2.columns = DataColumns"
   ]
  },
  {
   "cell_type": "code",
   "execution_count": null,
   "id": "5f47020d",
   "metadata": {},
   "outputs": [],
   "source": [
    "df2 = pd.concat([df2, studentData2], ignore_index=True)"
   ]
  },
  {
   "cell_type": "code",
   "execution_count": null,
   "id": "d6d4b5f8",
   "metadata": {},
   "outputs": [],
   "source": [
    "df2"
   ]
  },
  {
   "cell_type": "code",
   "execution_count": null,
   "id": "6d1c7c8e",
   "metadata": {},
   "outputs": [],
   "source": [
    "# concatenate d2 table and df.\n",
    "pd.concat([df, df2], ignore_index=True)"
   ]
  },
  {
   "cell_type": "code",
   "execution_count": null,
   "id": "a6a559da",
   "metadata": {},
   "outputs": [],
   "source": []
  }
 ],
 "metadata": {
  "kernelspec": {
   "display_name": "Python 3 (ipykernel)",
   "language": "python",
   "name": "python3"
  },
  "language_info": {
   "codemirror_mode": {
    "name": "ipython",
    "version": 3
   },
   "file_extension": ".py",
   "mimetype": "text/x-python",
   "name": "python",
   "nbconvert_exporter": "python",
   "pygments_lexer": "ipython3",
   "version": "3.10.11"
  }
 },
 "nbformat": 4,
 "nbformat_minor": 5
}
