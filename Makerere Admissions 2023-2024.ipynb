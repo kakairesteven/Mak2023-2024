{
 "cells": [
  {
   "cell_type": "code",
   "execution_count": 1,
   "id": "4de1dcab",
   "metadata": {},
   "outputs": [],
   "source": [
    "import pandas as pd\n",
    "import numpy as np\n",
    "from random import randint"
   ]
  },
  {
   "cell_type": "code",
   "execution_count": 2,
   "id": "2c26bd1e",
   "metadata": {},
   "outputs": [],
   "source": [
    "# Import tabula to read pdf file\n",
    "import tabula"
   ]
  },
  {
   "cell_type": "code",
   "execution_count": 3,
   "id": "72e00266",
   "metadata": {},
   "outputs": [
    {
     "name": "stderr",
     "output_type": "stream",
     "text": [
      "D:\\Novel\\Data\\Python\\DataAnalysis\\DataAnalysisVenv\\Lib\\site-packages\\tabula\\io.py:1045: FutureWarning: errors='ignore' is deprecated and will raise in a future version. Use to_numeric without passing `errors` and catch exceptions explicitly instead\n",
      "  df[c] = pd.to_numeric(df[c], errors=\"ignore\")\n"
     ]
    }
   ],
   "source": [
    "mak23 = tabula.read_pdf(\"examples/Mak2023-2024.pdf\", pages=\"all\")"
   ]
  },
  {
   "cell_type": "code",
   "execution_count": 4,
   "id": "9818fc67",
   "metadata": {},
   "outputs": [
    {
     "data": {
      "text/plain": [
       "335"
      ]
     },
     "execution_count": 4,
     "metadata": {},
     "output_type": "execute_result"
    }
   ],
   "source": [
    "# This data is rough and improperly structured\n",
    "# length of mak23\n",
    "len(mak23)"
   ]
  },
  {
   "cell_type": "code",
   "execution_count": 5,
   "id": "e4c26038-3a94-4578-a33a-34d2241ac28f",
   "metadata": {},
   "outputs": [
    {
     "data": {
      "text/html": [
       "<div>\n",
       "<style scoped>\n",
       "    .dataframe tbody tr th:only-of-type {\n",
       "        vertical-align: middle;\n",
       "    }\n",
       "\n",
       "    .dataframe tbody tr th {\n",
       "        vertical-align: top;\n",
       "    }\n",
       "\n",
       "    .dataframe thead th {\n",
       "        text-align: right;\n",
       "    }\n",
       "</style>\n",
       "<table border=\"1\" class=\"dataframe\">\n",
       "  <thead>\n",
       "    <tr style=\"text-align: right;\">\n",
       "      <th></th>\n",
       "      <th>Unnamed: 0</th>\n",
       "      <th>Unnamed: 1</th>\n",
       "      <th>MAKERERE UIVERSITY</th>\n",
       "      <th>Unnamed: 2</th>\n",
       "    </tr>\n",
       "  </thead>\n",
       "  <tbody>\n",
       "    <tr>\n",
       "      <th>0</th>\n",
       "      <td>NaN</td>\n",
       "      <td>NaN</td>\n",
       "      <td>ACADEMIC REGISTRAR'S  DEPARTMENT</td>\n",
       "      <td>NaN</td>\n",
       "    </tr>\n",
       "    <tr>\n",
       "      <th>1</th>\n",
       "      <td>NaN</td>\n",
       "      <td>NaN</td>\n",
       "      <td>ADMITTED APPLICANTS FOR PRIVATE SPONSORSHIP FO...</td>\n",
       "      <td>NaN</td>\n",
       "    </tr>\n",
       "    <tr>\n",
       "      <th>2</th>\n",
       "      <td>NaN</td>\n",
       "      <td>NaN</td>\n",
       "      <td>BSC. Accounting (EVE)</td>\n",
       "      <td>NaN</td>\n",
       "    </tr>\n",
       "    <tr>\n",
       "      <th>3</th>\n",
       "      <td>No</td>\n",
       "      <td>formid</td>\n",
       "      <td>Index_no name gender uace_yr code District cou...</td>\n",
       "      <td>Tot_wt</td>\n",
       "    </tr>\n",
       "    <tr>\n",
       "      <th>4</th>\n",
       "      <td>NaN</td>\n",
       "      <td>NaN</td>\n",
       "      <td>code</td>\n",
       "      <td>NaN</td>\n",
       "    </tr>\n",
       "    <tr>\n",
       "      <th>5</th>\n",
       "      <td>1</td>\n",
       "      <td>23APF412304454141015</td>\n",
       "      <td>U0391/673 LUKABWE DOUGLAS MARKM 2022 42 MUKONO...</td>\n",
       "      <td>42.2</td>\n",
       "    </tr>\n",
       "    <tr>\n",
       "      <th>6</th>\n",
       "      <td>2</td>\n",
       "      <td>23APF345674424112360</td>\n",
       "      <td>U1249/532 LULE ISAACM 2022 40 MPIGI ACC BSC. A...</td>\n",
       "      <td>41.1</td>\n",
       "    </tr>\n",
       "    <tr>\n",
       "      <th>7</th>\n",
       "      <td>3</td>\n",
       "      <td>23APF1361730063122187</td>\n",
       "      <td>U0459/676 HAULAH SULAIT BIIRAF 2022 21 KASESE ...</td>\n",
       "      <td>40.6</td>\n",
       "    </tr>\n",
       "    <tr>\n",
       "      <th>8</th>\n",
       "      <td>4</td>\n",
       "      <td>23APF519647933132646</td>\n",
       "      <td>U1611/887 NAMBALYE EVELYNEF 2022 33 MASAKA ACC...</td>\n",
       "      <td>38.8</td>\n",
       "    </tr>\n",
       "    <tr>\n",
       "      <th>9</th>\n",
       "      <td>5</td>\n",
       "      <td>23APF1481620160129238</td>\n",
       "      <td>U0083/555 KEMIGISHA  RUSIAF 2022 65 IBANDA ACC...</td>\n",
       "      <td>38.4</td>\n",
       "    </tr>\n",
       "    <tr>\n",
       "      <th>10</th>\n",
       "      <td>6</td>\n",
       "      <td>23APF1501202078128326</td>\n",
       "      <td>U2373/501 LUWAGA TONNYM 2018 55 WAKISO ACC BSC...</td>\n",
       "      <td>38.4</td>\n",
       "    </tr>\n",
       "    <tr>\n",
       "      <th>11</th>\n",
       "      <td>7</td>\n",
       "      <td>23APF1139056282132364</td>\n",
       "      <td>U0856/511 NAMAGEMBE MARTINAF 2022 25 KIBOGA AC...</td>\n",
       "      <td>38.2</td>\n",
       "    </tr>\n",
       "    <tr>\n",
       "      <th>12</th>\n",
       "      <td>8</td>\n",
       "      <td>23APF101396019107326</td>\n",
       "      <td>U2929/521 KALUNGI TITUSM 2022 75 MITYANA ACC B...</td>\n",
       "      <td>38.1</td>\n",
       "    </tr>\n",
       "    <tr>\n",
       "      <th>13</th>\n",
       "      <td>9</td>\n",
       "      <td>23APF515017899120808</td>\n",
       "      <td>U1609/550 KIZITO PATRICKM 2011 16 KAMPALA ACC ...</td>\n",
       "      <td>37.9</td>\n",
       "    </tr>\n",
       "    <tr>\n",
       "      <th>14</th>\n",
       "      <td>10</td>\n",
       "      <td>23APF1672224247102423</td>\n",
       "      <td>U1224/882 NDYOMUHIRWA CHRISTIANM 2022 50 RUKUN...</td>\n",
       "      <td>37.9</td>\n",
       "    </tr>\n",
       "    <tr>\n",
       "      <th>15</th>\n",
       "      <td>11</td>\n",
       "      <td>23APF202185286140690</td>\n",
       "      <td>U1350/503 GWOKYALYA RESTYF 2022 16 KAMPALA ACC...</td>\n",
       "      <td>37.8</td>\n",
       "    </tr>\n",
       "    <tr>\n",
       "      <th>16</th>\n",
       "      <td>12</td>\n",
       "      <td>23APF231194390150185</td>\n",
       "      <td>U0086/599 WAISWA CEASERM 2009 17 KAMULI ACC BS...</td>\n",
       "      <td>37</td>\n",
       "    </tr>\n",
       "    <tr>\n",
       "      <th>17</th>\n",
       "      <td>13</td>\n",
       "      <td>23APF174935849136324</td>\n",
       "      <td>U0923/523 NABUUMA MAJOREENF 2017 55 WAKISO ACC...</td>\n",
       "      <td>36.5</td>\n",
       "    </tr>\n",
       "    <tr>\n",
       "      <th>18</th>\n",
       "      <td>14</td>\n",
       "      <td>23APF324272143128932</td>\n",
       "      <td>U2789/821 TAMALE COLINM 2022 91 GOMBA ACC BSC....</td>\n",
       "      <td>35.8</td>\n",
       "    </tr>\n",
       "    <tr>\n",
       "      <th>19</th>\n",
       "      <td>15</td>\n",
       "      <td>23APF231927019128941</td>\n",
       "      <td>U0960/506 LUUTU DOUGLASM 2022 16 KAMPALA ACC B...</td>\n",
       "      <td>35.8</td>\n",
       "    </tr>\n",
       "    <tr>\n",
       "      <th>20</th>\n",
       "      <td>16</td>\n",
       "      <td>23APF1362423415106885</td>\n",
       "      <td>U0459/684 KASANGAKI MARIAM BINTAF 2022 13 KABA...</td>\n",
       "      <td>35.5</td>\n",
       "    </tr>\n",
       "    <tr>\n",
       "      <th>21</th>\n",
       "      <td>17</td>\n",
       "      <td>23APF1368966146127414</td>\n",
       "      <td>U1611/947 NANSUBUGA  LYDIAF 2022 16 KAMPALA AC...</td>\n",
       "      <td>35.3</td>\n",
       "    </tr>\n",
       "    <tr>\n",
       "      <th>22</th>\n",
       "      <td>18</td>\n",
       "      <td>23APF1031507983139846</td>\n",
       "      <td>U3219/507 NANDAGIRE SCOVIAF 2022 49 RAKAI ACC ...</td>\n",
       "      <td>34.6</td>\n",
       "    </tr>\n",
       "    <tr>\n",
       "      <th>23</th>\n",
       "      <td>19</td>\n",
       "      <td>23APF980625096133316</td>\n",
       "      <td>U0737/531 MUDOBYA CHRISTINEF 2007 10 IGANGA AC...</td>\n",
       "      <td>34.6</td>\n",
       "    </tr>\n",
       "    <tr>\n",
       "      <th>24</th>\n",
       "      <td>20</td>\n",
       "      <td>23APF154566486115108</td>\n",
       "      <td>U0036/560 ASHABA PERUTHF 2020 101 LWENGO ACC B...</td>\n",
       "      <td>34.4</td>\n",
       "    </tr>\n",
       "    <tr>\n",
       "      <th>25</th>\n",
       "      <td>21</td>\n",
       "      <td>23APF283201719136962</td>\n",
       "      <td>U1979/584 MIREMBE SHALOM NAMYALOF 2022 55 WAKI...</td>\n",
       "      <td>34.3</td>\n",
       "    </tr>\n",
       "    <tr>\n",
       "      <th>26</th>\n",
       "      <td>22</td>\n",
       "      <td>23APF957749380107698</td>\n",
       "      <td>U2381/539 KISEMBO ELIJAHM 2022 9 HOIMA ACC BSC...</td>\n",
       "      <td>34.1</td>\n",
       "    </tr>\n",
       "    <tr>\n",
       "      <th>27</th>\n",
       "      <td>23</td>\n",
       "      <td>23APF1091499022125514</td>\n",
       "      <td>U0200/522 LUYIGA T. CATHERINEF 2022 55 WAKISO ...</td>\n",
       "      <td>33.8</td>\n",
       "    </tr>\n",
       "    <tr>\n",
       "      <th>28</th>\n",
       "      <td>24</td>\n",
       "      <td>23APF1158623449102037</td>\n",
       "      <td>U3082/603 MUGISA DERRICKM 2022 102 KAGADI ACC ...</td>\n",
       "      <td>33.5</td>\n",
       "    </tr>\n",
       "    <tr>\n",
       "      <th>29</th>\n",
       "      <td>25</td>\n",
       "      <td>23APF1057280688118519</td>\n",
       "      <td>U0027/750 WANGOTA BRIANM 2022 11 JINJA ACC BSC...</td>\n",
       "      <td>33.3</td>\n",
       "    </tr>\n",
       "    <tr>\n",
       "      <th>30</th>\n",
       "      <td>26</td>\n",
       "      <td>23APF104197063663745</td>\n",
       "      <td>U2789/553 MWEBESA SOLOMON ARTHURM 2013 30 KYEN...</td>\n",
       "      <td>33</td>\n",
       "    </tr>\n",
       "    <tr>\n",
       "      <th>31</th>\n",
       "      <td>27</td>\n",
       "      <td>23APF16043054134531</td>\n",
       "      <td>U2474/892 MUHAIRWE JOELM 2022 118 BUNYANGABU A...</td>\n",
       "      <td>32.8</td>\n",
       "    </tr>\n",
       "    <tr>\n",
       "      <th>32</th>\n",
       "      <td>28</td>\n",
       "      <td>23APF436324879132722</td>\n",
       "      <td>U2839/522 TUMUSIIME PATRICIAF 2022 9 HOIMA ACC...</td>\n",
       "      <td>32.5</td>\n",
       "    </tr>\n",
       "    <tr>\n",
       "      <th>33</th>\n",
       "      <td>29</td>\n",
       "      <td>23APF1080023620127280</td>\n",
       "      <td>U2144/516 KABARUNGI EMILLYF 2022 18 KAMWENGE A...</td>\n",
       "      <td>32.4</td>\n",
       "    </tr>\n",
       "    <tr>\n",
       "      <th>34</th>\n",
       "      <td>30</td>\n",
       "      <td>23APF157015655125355</td>\n",
       "      <td>U1542/582 WAKIBUGO IANM 2022 55 WAKISO ACC BSC...</td>\n",
       "      <td>32</td>\n",
       "    </tr>\n",
       "    <tr>\n",
       "      <th>35</th>\n",
       "      <td>31</td>\n",
       "      <td>23APF141959743797295</td>\n",
       "      <td>U1451/517 NAIGAMBI ALIM 2020 11 JINJA ACC BSC....</td>\n",
       "      <td>31.5</td>\n",
       "    </tr>\n",
       "    <tr>\n",
       "      <th>36</th>\n",
       "      <td>32</td>\n",
       "      <td>23APF751191108106210</td>\n",
       "      <td>U2789/560 NALWEYISO DAISYF 2022 16 KAMPALA ACC...</td>\n",
       "      <td>31.4</td>\n",
       "    </tr>\n",
       "    <tr>\n",
       "      <th>37</th>\n",
       "      <td>33</td>\n",
       "      <td>23APF724414868141141</td>\n",
       "      <td>U3219/508 NAMBAYO KATHYF 2022 77 BUDAKA ACC BS...</td>\n",
       "      <td>31.3</td>\n",
       "    </tr>\n",
       "    <tr>\n",
       "      <th>38</th>\n",
       "      <td>34</td>\n",
       "      <td>23APF1413319323135980</td>\n",
       "      <td>U1969/524 KAKOOZA MOHMMADM 2022 88 BUTAMBALA A...</td>\n",
       "      <td>31.2</td>\n",
       "    </tr>\n",
       "    <tr>\n",
       "      <th>39</th>\n",
       "      <td>35</td>\n",
       "      <td>23APF593373474116716</td>\n",
       "      <td>U0859/554 KIVEBULAAYA LIVINGSTONEM 2022 41 MUB...</td>\n",
       "      <td>31.1</td>\n",
       "    </tr>\n",
       "    <tr>\n",
       "      <th>40</th>\n",
       "      <td>36</td>\n",
       "      <td>23APF75774350148691</td>\n",
       "      <td>U0459/630 KIJJIDE AFIZI MUHAMADM 2022 88 BUTAM...</td>\n",
       "      <td>31.1</td>\n",
       "    </tr>\n",
       "    <tr>\n",
       "      <th>41</th>\n",
       "      <td>37</td>\n",
       "      <td>23APF238774767111982</td>\n",
       "      <td>U2962/615 BALYOKWAIBWE EMMANUELM 2022 90 BUYEN...</td>\n",
       "      <td>31.1</td>\n",
       "    </tr>\n",
       "    <tr>\n",
       "      <th>42</th>\n",
       "      <td>38</td>\n",
       "      <td>23APF785739568144218</td>\n",
       "      <td>U0760/553 SUNDAY EMMANUELM 2022 18 KAMWENGE AC...</td>\n",
       "      <td>31</td>\n",
       "    </tr>\n",
       "    <tr>\n",
       "      <th>43</th>\n",
       "      <td>39</td>\n",
       "      <td>23APF269087811114307</td>\n",
       "      <td>U3941/514 LUKYAMUZI JUDE THADDEUSM 2022 33 MAS...</td>\n",
       "      <td>31</td>\n",
       "    </tr>\n",
       "    <tr>\n",
       "      <th>44</th>\n",
       "      <td>40</td>\n",
       "      <td>23APF810803954100945</td>\n",
       "      <td>U0053/824 ATEGEKA ROBERTM 2009 9 HOIMA ACC BSC...</td>\n",
       "      <td>30.9</td>\n",
       "    </tr>\n",
       "  </tbody>\n",
       "</table>\n",
       "</div>"
      ],
      "text/plain": [
       "   Unnamed: 0             Unnamed: 1  \\\n",
       "0         NaN                    NaN   \n",
       "1         NaN                    NaN   \n",
       "2         NaN                    NaN   \n",
       "3          No                 formid   \n",
       "4         NaN                    NaN   \n",
       "5           1   23APF412304454141015   \n",
       "6           2   23APF345674424112360   \n",
       "7           3  23APF1361730063122187   \n",
       "8           4   23APF519647933132646   \n",
       "9           5  23APF1481620160129238   \n",
       "10          6  23APF1501202078128326   \n",
       "11          7  23APF1139056282132364   \n",
       "12          8   23APF101396019107326   \n",
       "13          9   23APF515017899120808   \n",
       "14         10  23APF1672224247102423   \n",
       "15         11   23APF202185286140690   \n",
       "16         12   23APF231194390150185   \n",
       "17         13   23APF174935849136324   \n",
       "18         14   23APF324272143128932   \n",
       "19         15   23APF231927019128941   \n",
       "20         16  23APF1362423415106885   \n",
       "21         17  23APF1368966146127414   \n",
       "22         18  23APF1031507983139846   \n",
       "23         19   23APF980625096133316   \n",
       "24         20   23APF154566486115108   \n",
       "25         21   23APF283201719136962   \n",
       "26         22   23APF957749380107698   \n",
       "27         23  23APF1091499022125514   \n",
       "28         24  23APF1158623449102037   \n",
       "29         25  23APF1057280688118519   \n",
       "30         26   23APF104197063663745   \n",
       "31         27    23APF16043054134531   \n",
       "32         28   23APF436324879132722   \n",
       "33         29  23APF1080023620127280   \n",
       "34         30   23APF157015655125355   \n",
       "35         31   23APF141959743797295   \n",
       "36         32   23APF751191108106210   \n",
       "37         33   23APF724414868141141   \n",
       "38         34  23APF1413319323135980   \n",
       "39         35   23APF593373474116716   \n",
       "40         36    23APF75774350148691   \n",
       "41         37   23APF238774767111982   \n",
       "42         38   23APF785739568144218   \n",
       "43         39   23APF269087811114307   \n",
       "44         40   23APF810803954100945   \n",
       "\n",
       "                                   MAKERERE UIVERSITY Unnamed: 2  \n",
       "0                    ACADEMIC REGISTRAR'S  DEPARTMENT        NaN  \n",
       "1   ADMITTED APPLICANTS FOR PRIVATE SPONSORSHIP FO...        NaN  \n",
       "2                               BSC. Accounting (EVE)        NaN  \n",
       "3   Index_no name gender uace_yr code District cou...     Tot_wt  \n",
       "4                                                code        NaN  \n",
       "5   U0391/673 LUKABWE DOUGLAS MARKM 2022 42 MUKONO...       42.2  \n",
       "6   U1249/532 LULE ISAACM 2022 40 MPIGI ACC BSC. A...       41.1  \n",
       "7   U0459/676 HAULAH SULAIT BIIRAF 2022 21 KASESE ...       40.6  \n",
       "8   U1611/887 NAMBALYE EVELYNEF 2022 33 MASAKA ACC...       38.8  \n",
       "9   U0083/555 KEMIGISHA  RUSIAF 2022 65 IBANDA ACC...       38.4  \n",
       "10  U2373/501 LUWAGA TONNYM 2018 55 WAKISO ACC BSC...       38.4  \n",
       "11  U0856/511 NAMAGEMBE MARTINAF 2022 25 KIBOGA AC...       38.2  \n",
       "12  U2929/521 KALUNGI TITUSM 2022 75 MITYANA ACC B...       38.1  \n",
       "13  U1609/550 KIZITO PATRICKM 2011 16 KAMPALA ACC ...       37.9  \n",
       "14  U1224/882 NDYOMUHIRWA CHRISTIANM 2022 50 RUKUN...       37.9  \n",
       "15  U1350/503 GWOKYALYA RESTYF 2022 16 KAMPALA ACC...       37.8  \n",
       "16  U0086/599 WAISWA CEASERM 2009 17 KAMULI ACC BS...         37  \n",
       "17  U0923/523 NABUUMA MAJOREENF 2017 55 WAKISO ACC...       36.5  \n",
       "18  U2789/821 TAMALE COLINM 2022 91 GOMBA ACC BSC....       35.8  \n",
       "19  U0960/506 LUUTU DOUGLASM 2022 16 KAMPALA ACC B...       35.8  \n",
       "20  U0459/684 KASANGAKI MARIAM BINTAF 2022 13 KABA...       35.5  \n",
       "21  U1611/947 NANSUBUGA  LYDIAF 2022 16 KAMPALA AC...       35.3  \n",
       "22  U3219/507 NANDAGIRE SCOVIAF 2022 49 RAKAI ACC ...       34.6  \n",
       "23  U0737/531 MUDOBYA CHRISTINEF 2007 10 IGANGA AC...       34.6  \n",
       "24  U0036/560 ASHABA PERUTHF 2020 101 LWENGO ACC B...       34.4  \n",
       "25  U1979/584 MIREMBE SHALOM NAMYALOF 2022 55 WAKI...       34.3  \n",
       "26  U2381/539 KISEMBO ELIJAHM 2022 9 HOIMA ACC BSC...       34.1  \n",
       "27  U0200/522 LUYIGA T. CATHERINEF 2022 55 WAKISO ...       33.8  \n",
       "28  U3082/603 MUGISA DERRICKM 2022 102 KAGADI ACC ...       33.5  \n",
       "29  U0027/750 WANGOTA BRIANM 2022 11 JINJA ACC BSC...       33.3  \n",
       "30  U2789/553 MWEBESA SOLOMON ARTHURM 2013 30 KYEN...         33  \n",
       "31  U2474/892 MUHAIRWE JOELM 2022 118 BUNYANGABU A...       32.8  \n",
       "32  U2839/522 TUMUSIIME PATRICIAF 2022 9 HOIMA ACC...       32.5  \n",
       "33  U2144/516 KABARUNGI EMILLYF 2022 18 KAMWENGE A...       32.4  \n",
       "34  U1542/582 WAKIBUGO IANM 2022 55 WAKISO ACC BSC...         32  \n",
       "35  U1451/517 NAIGAMBI ALIM 2020 11 JINJA ACC BSC....       31.5  \n",
       "36  U2789/560 NALWEYISO DAISYF 2022 16 KAMPALA ACC...       31.4  \n",
       "37  U3219/508 NAMBAYO KATHYF 2022 77 BUDAKA ACC BS...       31.3  \n",
       "38  U1969/524 KAKOOZA MOHMMADM 2022 88 BUTAMBALA A...       31.2  \n",
       "39  U0859/554 KIVEBULAAYA LIVINGSTONEM 2022 41 MUB...       31.1  \n",
       "40  U0459/630 KIJJIDE AFIZI MUHAMADM 2022 88 BUTAM...       31.1  \n",
       "41  U2962/615 BALYOKWAIBWE EMMANUELM 2022 90 BUYEN...       31.1  \n",
       "42  U0760/553 SUNDAY EMMANUELM 2022 18 KAMWENGE AC...         31  \n",
       "43  U3941/514 LUKYAMUZI JUDE THADDEUSM 2022 33 MAS...         31  \n",
       "44  U0053/824 ATEGEKA ROBERTM 2009 9 HOIMA ACC BSC...       30.9  "
      ]
     },
     "execution_count": 5,
     "metadata": {},
     "output_type": "execute_result"
    }
   ],
   "source": [
    "mak23[0]"
   ]
  },
  {
   "cell_type": "code",
   "execution_count": 6,
   "id": "702c02ba-484c-4314-b566-37d220799e64",
   "metadata": {},
   "outputs": [],
   "source": [
    "df1= mak23[0].dropna()"
   ]
  },
  {
   "cell_type": "code",
   "execution_count": 7,
   "id": "c7565088-f7e7-4bd7-8d33-a18dc5a4df28",
   "metadata": {},
   "outputs": [],
   "source": [
    "columns = df1.columns"
   ]
  },
  {
   "cell_type": "code",
   "execution_count": 8,
   "id": "eed47a78-b8b5-4291-b2a3-502b1adad436",
   "metadata": {},
   "outputs": [
    {
     "data": {
      "text/plain": [
       "Index(['Unnamed: 0', 'Unnamed: 1', 'MAKERERE UIVERSITY', 'Unnamed: 2'], dtype='object')"
      ]
     },
     "execution_count": 8,
     "metadata": {},
     "output_type": "execute_result"
    }
   ],
   "source": [
    "columns"
   ]
  },
  {
   "cell_type": "code",
   "execution_count": 9,
   "id": "b4944d0d-cc24-4732-a7d6-49a07a450633",
   "metadata": {},
   "outputs": [],
   "source": [
    "df1 = df1.drop(columns[0], axis=1)"
   ]
  },
  {
   "cell_type": "code",
   "execution_count": 10,
   "id": "8694a7cc-5140-4b6a-b73a-a142ef50d735",
   "metadata": {},
   "outputs": [],
   "source": [
    "columns = df1.columns"
   ]
  },
  {
   "cell_type": "code",
   "execution_count": 11,
   "id": "7d79913d-508a-4aaa-9a9c-e3a873d86748",
   "metadata": {},
   "outputs": [
    {
     "data": {
      "text/plain": [
       "Index(['Unnamed: 1', 'MAKERERE UIVERSITY', 'Unnamed: 2'], dtype='object')"
      ]
     },
     "execution_count": 11,
     "metadata": {},
     "output_type": "execute_result"
    }
   ],
   "source": [
    "columns"
   ]
  },
  {
   "cell_type": "code",
   "execution_count": 12,
   "id": "2d376eea-0a47-48f2-bb4b-377403181abc",
   "metadata": {},
   "outputs": [
    {
     "data": {
      "text/plain": [
       "3     Index_no name gender uace_yr code District cou...\n",
       "5     U0391/673 LUKABWE DOUGLAS MARKM 2022 42 MUKONO...\n",
       "6     U1249/532 LULE ISAACM 2022 40 MPIGI ACC BSC. A...\n",
       "7     U0459/676 HAULAH SULAIT BIIRAF 2022 21 KASESE ...\n",
       "8     U1611/887 NAMBALYE EVELYNEF 2022 33 MASAKA ACC...\n",
       "9     U0083/555 KEMIGISHA  RUSIAF 2022 65 IBANDA ACC...\n",
       "10    U2373/501 LUWAGA TONNYM 2018 55 WAKISO ACC BSC...\n",
       "11    U0856/511 NAMAGEMBE MARTINAF 2022 25 KIBOGA AC...\n",
       "12    U2929/521 KALUNGI TITUSM 2022 75 MITYANA ACC B...\n",
       "13    U1609/550 KIZITO PATRICKM 2011 16 KAMPALA ACC ...\n",
       "14    U1224/882 NDYOMUHIRWA CHRISTIANM 2022 50 RUKUN...\n",
       "15    U1350/503 GWOKYALYA RESTYF 2022 16 KAMPALA ACC...\n",
       "16    U0086/599 WAISWA CEASERM 2009 17 KAMULI ACC BS...\n",
       "17    U0923/523 NABUUMA MAJOREENF 2017 55 WAKISO ACC...\n",
       "18    U2789/821 TAMALE COLINM 2022 91 GOMBA ACC BSC....\n",
       "19    U0960/506 LUUTU DOUGLASM 2022 16 KAMPALA ACC B...\n",
       "20    U0459/684 KASANGAKI MARIAM BINTAF 2022 13 KABA...\n",
       "21    U1611/947 NANSUBUGA  LYDIAF 2022 16 KAMPALA AC...\n",
       "22    U3219/507 NANDAGIRE SCOVIAF 2022 49 RAKAI ACC ...\n",
       "23    U0737/531 MUDOBYA CHRISTINEF 2007 10 IGANGA AC...\n",
       "24    U0036/560 ASHABA PERUTHF 2020 101 LWENGO ACC B...\n",
       "25    U1979/584 MIREMBE SHALOM NAMYALOF 2022 55 WAKI...\n",
       "26    U2381/539 KISEMBO ELIJAHM 2022 9 HOIMA ACC BSC...\n",
       "27    U0200/522 LUYIGA T. CATHERINEF 2022 55 WAKISO ...\n",
       "28    U3082/603 MUGISA DERRICKM 2022 102 KAGADI ACC ...\n",
       "29    U0027/750 WANGOTA BRIANM 2022 11 JINJA ACC BSC...\n",
       "30    U2789/553 MWEBESA SOLOMON ARTHURM 2013 30 KYEN...\n",
       "31    U2474/892 MUHAIRWE JOELM 2022 118 BUNYANGABU A...\n",
       "32    U2839/522 TUMUSIIME PATRICIAF 2022 9 HOIMA ACC...\n",
       "33    U2144/516 KABARUNGI EMILLYF 2022 18 KAMWENGE A...\n",
       "34    U1542/582 WAKIBUGO IANM 2022 55 WAKISO ACC BSC...\n",
       "35    U1451/517 NAIGAMBI ALIM 2020 11 JINJA ACC BSC....\n",
       "36    U2789/560 NALWEYISO DAISYF 2022 16 KAMPALA ACC...\n",
       "37    U3219/508 NAMBAYO KATHYF 2022 77 BUDAKA ACC BS...\n",
       "38    U1969/524 KAKOOZA MOHMMADM 2022 88 BUTAMBALA A...\n",
       "39    U0859/554 KIVEBULAAYA LIVINGSTONEM 2022 41 MUB...\n",
       "40    U0459/630 KIJJIDE AFIZI MUHAMADM 2022 88 BUTAM...\n",
       "41    U2962/615 BALYOKWAIBWE EMMANUELM 2022 90 BUYEN...\n",
       "42    U0760/553 SUNDAY EMMANUELM 2022 18 KAMWENGE AC...\n",
       "43    U3941/514 LUKYAMUZI JUDE THADDEUSM 2022 33 MAS...\n",
       "44    U0053/824 ATEGEKA ROBERTM 2009 9 HOIMA ACC BSC...\n",
       "Name: MAKERERE UIVERSITY, dtype: object"
      ]
     },
     "execution_count": 12,
     "metadata": {},
     "output_type": "execute_result"
    }
   ],
   "source": [
    "# drop column 0\n",
    "df1[columns[1]]"
   ]
  },
  {
   "cell_type": "code",
   "execution_count": 13,
   "id": "d00f0f5f-34aa-45ed-95d8-70ac86816db3",
   "metadata": {},
   "outputs": [],
   "source": [
    "columns = df1.columns.tolist()"
   ]
  },
  {
   "cell_type": "code",
   "execution_count": 78,
   "id": "4a900ade-bcfa-491e-8c03-a7289c68ae96",
   "metadata": {},
   "outputs": [],
   "source": [
    "data = df1[columns[1]].tolist()\n",
    "firstEntry= data[1].split()"
   ]
  },
  {
   "cell_type": "code",
   "execution_count": 79,
   "id": "398ae838-900e-402e-84af-53964f72ae00",
   "metadata": {},
   "outputs": [
    {
     "data": {
      "text/plain": [
       "['Index_no name gender uace_yr code District course_ course_name',\n",
       " 'U0391/673 LUKABWE DOUGLAS MARKM 2022 42 MUKONO ACC BSC. Accounting (EVE)',\n",
       " 'U1249/532 LULE ISAACM 2022 40 MPIGI ACC BSC. Accounting (EVE)',\n",
       " 'U0459/676 HAULAH SULAIT BIIRAF 2022 21 KASESE ACC BSC. Accounting (EVE)',\n",
       " 'U1611/887 NAMBALYE EVELYNEF 2022 33 MASAKA ACC BSC. Accounting (EVE)',\n",
       " 'U0083/555 KEMIGISHA  RUSIAF 2022 65 IBANDA ACC BSC. Accounting (EVE)',\n",
       " 'U2373/501 LUWAGA TONNYM 2018 55 WAKISO ACC BSC. Accounting (EVE)',\n",
       " 'U0856/511 NAMAGEMBE MARTINAF 2022 25 KIBOGA ACC BSC. Accounting (EVE)',\n",
       " 'U2929/521 KALUNGI TITUSM 2022 75 MITYANA ACC BSC. Accounting (EVE)',\n",
       " 'U1609/550 KIZITO PATRICKM 2011 16 KAMPALA ACC BSC. Accounting (EVE)',\n",
       " 'U1224/882 NDYOMUHIRWA CHRISTIANM 2022 50 RUKUNGIRI ACC BSC. Accounting (EVE)',\n",
       " 'U1350/503 GWOKYALYA RESTYF 2022 16 KAMPALA ACC BSC. Accounting (EVE)',\n",
       " 'U0086/599 WAISWA CEASERM 2009 17 KAMULI ACC BSC. Accounting (EVE)',\n",
       " 'U0923/523 NABUUMA MAJOREENF 2017 55 WAKISO ACC BSC. Accounting (EVE)',\n",
       " 'U2789/821 TAMALE COLINM 2022 91 GOMBA ACC BSC. Accounting (EVE)',\n",
       " 'U0960/506 LUUTU DOUGLASM 2022 16 KAMPALA ACC BSC. Accounting (EVE)',\n",
       " 'U0459/684 KASANGAKI MARIAM BINTAF 2022 13 KABAROLE ACC BSC. Accounting (EVE)',\n",
       " 'U1611/947 NANSUBUGA  LYDIAF 2022 16 KAMPALA ACC BSC. Accounting (EVE)',\n",
       " 'U3219/507 NANDAGIRE SCOVIAF 2022 49 RAKAI ACC BSC. Accounting (EVE)',\n",
       " 'U0737/531 MUDOBYA CHRISTINEF 2007 10 IGANGA ACC BSC. Accounting (EVE)',\n",
       " 'U0036/560 ASHABA PERUTHF 2020 101 LWENGO ACC BSC. Accounting (EVE)',\n",
       " 'U1979/584 MIREMBE SHALOM NAMYALOF 2022 55 WAKISO ACC BSC. Accounting (EVE)',\n",
       " 'U2381/539 KISEMBO ELIJAHM 2022 9 HOIMA ACC BSC. Accounting (EVE)',\n",
       " 'U0200/522 LUYIGA T. CATHERINEF 2022 55 WAKISO ACC BSC. Accounting (EVE)',\n",
       " 'U3082/603 MUGISA DERRICKM 2022 102 KAGADI ACC BSC. Accounting (EVE)',\n",
       " 'U0027/750 WANGOTA BRIANM 2022 11 JINJA ACC BSC. Accounting (EVE)',\n",
       " 'U2789/553 MWEBESA SOLOMON ARTHURM 2013 30 KYENJOJO ACC BSC. Accounting (EVE)',\n",
       " 'U2474/892 MUHAIRWE JOELM 2022 118 BUNYANGABU ACC BSC. Accounting (EVE)',\n",
       " 'U2839/522 TUMUSIIME PATRICIAF 2022 9 HOIMA ACC BSC. Accounting (EVE)',\n",
       " 'U2144/516 KABARUNGI EMILLYF 2022 18 KAMWENGE ACC BSC. Accounting (EVE)',\n",
       " 'U1542/582 WAKIBUGO IANM 2022 55 WAKISO ACC BSC. Accounting (EVE)',\n",
       " 'U1451/517 NAIGAMBI ALIM 2020 11 JINJA ACC BSC. Accounting (EVE)',\n",
       " 'U2789/560 NALWEYISO DAISYF 2022 16 KAMPALA ACC BSC. Accounting (EVE)',\n",
       " 'U3219/508 NAMBAYO KATHYF 2022 77 BUDAKA ACC BSC. Accounting (EVE)',\n",
       " 'U1969/524 KAKOOZA MOHMMADM 2022 88 BUTAMBALA ACC BSC. Accounting (EVE)',\n",
       " 'U0859/554 KIVEBULAAYA LIVINGSTONEM 2022 41 MUBENDE ACC BSC. Accounting (EVE)',\n",
       " 'U0459/630 KIJJIDE AFIZI MUHAMADM 2022 88 BUTAMBALA ACC BSC. Accounting (EVE)',\n",
       " 'U2962/615 BALYOKWAIBWE EMMANUELM 2022 90 BUYENDE ACC BSC. Accounting (EVE)',\n",
       " 'U0760/553 SUNDAY EMMANUELM 2022 18 KAMWENGE ACC BSC. Accounting (EVE)',\n",
       " 'U3941/514 LUKYAMUZI JUDE THADDEUSM 2022 33 MASAKA ACC BSC. Accounting (EVE)',\n",
       " 'U0053/824 ATEGEKA ROBERTM 2009 9 HOIMA ACC BSC. Accounting (EVE)']"
      ]
     },
     "execution_count": 79,
     "metadata": {},
     "output_type": "execute_result"
    }
   ],
   "source": [
    "data"
   ]
  },
  {
   "cell_type": "code",
   "execution_count": 76,
   "id": "38e07ad3-e182-4598-8692-7620621e55ab",
   "metadata": {},
   "outputs": [
    {
     "data": {
      "text/plain": [
       "'U0459/676 HAULAH SULAIT BIIRAF 2022 21 KASESE ACC BSC. Accounting (EVE)'"
      ]
     },
     "execution_count": 76,
     "metadata": {},
     "output_type": "execute_result"
    }
   ],
   "source": [
    "data[0]"
   ]
  },
  {
   "cell_type": "code",
   "execution_count": 77,
   "id": "2efecfeb-d6b7-458b-b674-c2c50ff4b00e",
   "metadata": {},
   "outputs": [
    {
     "data": {
      "text/plain": [
       "['U0459/676 HAULAH SULAIT BIIRAF 2022 21 KASESE ACC BSC. Accounting (EVE)',\n",
       " 'U1611/887 NAMBALYE EVELYNEF 2022 33 MASAKA ACC BSC. Accounting (EVE)',\n",
       " 'U0083/555 KEMIGISHA  RUSIAF 2022 65 IBANDA ACC BSC. Accounting (EVE)',\n",
       " 'U2373/501 LUWAGA TONNYM 2018 55 WAKISO ACC BSC. Accounting (EVE)',\n",
       " 'U0856/511 NAMAGEMBE MARTINAF 2022 25 KIBOGA ACC BSC. Accounting (EVE)',\n",
       " 'U2929/521 KALUNGI TITUSM 2022 75 MITYANA ACC BSC. Accounting (EVE)',\n",
       " 'U1609/550 KIZITO PATRICKM 2011 16 KAMPALA ACC BSC. Accounting (EVE)',\n",
       " 'U1224/882 NDYOMUHIRWA CHRISTIANM 2022 50 RUKUNGIRI ACC BSC. Accounting (EVE)',\n",
       " 'U1350/503 GWOKYALYA RESTYF 2022 16 KAMPALA ACC BSC. Accounting (EVE)',\n",
       " 'U0086/599 WAISWA CEASERM 2009 17 KAMULI ACC BSC. Accounting (EVE)',\n",
       " 'U0923/523 NABUUMA MAJOREENF 2017 55 WAKISO ACC BSC. Accounting (EVE)',\n",
       " 'U2789/821 TAMALE COLINM 2022 91 GOMBA ACC BSC. Accounting (EVE)',\n",
       " 'U0960/506 LUUTU DOUGLASM 2022 16 KAMPALA ACC BSC. Accounting (EVE)',\n",
       " 'U0459/684 KASANGAKI MARIAM BINTAF 2022 13 KABAROLE ACC BSC. Accounting (EVE)',\n",
       " 'U1611/947 NANSUBUGA  LYDIAF 2022 16 KAMPALA ACC BSC. Accounting (EVE)',\n",
       " 'U3219/507 NANDAGIRE SCOVIAF 2022 49 RAKAI ACC BSC. Accounting (EVE)',\n",
       " 'U0737/531 MUDOBYA CHRISTINEF 2007 10 IGANGA ACC BSC. Accounting (EVE)',\n",
       " 'U0036/560 ASHABA PERUTHF 2020 101 LWENGO ACC BSC. Accounting (EVE)',\n",
       " 'U1979/584 MIREMBE SHALOM NAMYALOF 2022 55 WAKISO ACC BSC. Accounting (EVE)',\n",
       " 'U2381/539 KISEMBO ELIJAHM 2022 9 HOIMA ACC BSC. Accounting (EVE)',\n",
       " 'U0200/522 LUYIGA T. CATHERINEF 2022 55 WAKISO ACC BSC. Accounting (EVE)',\n",
       " 'U3082/603 MUGISA DERRICKM 2022 102 KAGADI ACC BSC. Accounting (EVE)',\n",
       " 'U0027/750 WANGOTA BRIANM 2022 11 JINJA ACC BSC. Accounting (EVE)',\n",
       " 'U2789/553 MWEBESA SOLOMON ARTHURM 2013 30 KYENJOJO ACC BSC. Accounting (EVE)',\n",
       " 'U2474/892 MUHAIRWE JOELM 2022 118 BUNYANGABU ACC BSC. Accounting (EVE)',\n",
       " 'U2839/522 TUMUSIIME PATRICIAF 2022 9 HOIMA ACC BSC. Accounting (EVE)',\n",
       " 'U2144/516 KABARUNGI EMILLYF 2022 18 KAMWENGE ACC BSC. Accounting (EVE)',\n",
       " 'U1542/582 WAKIBUGO IANM 2022 55 WAKISO ACC BSC. Accounting (EVE)',\n",
       " 'U1451/517 NAIGAMBI ALIM 2020 11 JINJA ACC BSC. Accounting (EVE)',\n",
       " 'U2789/560 NALWEYISO DAISYF 2022 16 KAMPALA ACC BSC. Accounting (EVE)',\n",
       " 'U3219/508 NAMBAYO KATHYF 2022 77 BUDAKA ACC BSC. Accounting (EVE)',\n",
       " 'U1969/524 KAKOOZA MOHMMADM 2022 88 BUTAMBALA ACC BSC. Accounting (EVE)',\n",
       " 'U0859/554 KIVEBULAAYA LIVINGSTONEM 2022 41 MUBENDE ACC BSC. Accounting (EVE)',\n",
       " 'U0459/630 KIJJIDE AFIZI MUHAMADM 2022 88 BUTAMBALA ACC BSC. Accounting (EVE)',\n",
       " 'U2962/615 BALYOKWAIBWE EMMANUELM 2022 90 BUYENDE ACC BSC. Accounting (EVE)',\n",
       " 'U0760/553 SUNDAY EMMANUELM 2022 18 KAMWENGE ACC BSC. Accounting (EVE)',\n",
       " 'U3941/514 LUKYAMUZI JUDE THADDEUSM 2022 33 MASAKA ACC BSC. Accounting (EVE)',\n",
       " 'U0053/824 ATEGEKA ROBERTM 2009 9 HOIMA ACC BSC. Accounting (EVE)']"
      ]
     },
     "execution_count": 77,
     "metadata": {},
     "output_type": "execute_result"
    }
   ],
   "source": [
    "data"
   ]
  },
  {
   "cell_type": "code",
   "execution_count": 16,
   "id": "abf7399a-0c73-4fc6-8500-7454f65c84d0",
   "metadata": {},
   "outputs": [],
   "source": [
    "firstEntry = data[0]"
   ]
  },
  {
   "cell_type": "code",
   "execution_count": 17,
   "id": "4b8c3f44-7d78-464b-8665-5b0c9900dbda",
   "metadata": {},
   "outputs": [
    {
     "data": {
      "text/plain": [
       "'Index_no name gender uace_yr code District course_ course_name'"
      ]
     },
     "execution_count": 17,
     "metadata": {},
     "output_type": "execute_result"
    }
   ],
   "source": [
    "firstEntry"
   ]
  },
  {
   "cell_type": "code",
   "execution_count": 18,
   "id": "dc061709-89a2-471a-88a0-0f1729b61dd7",
   "metadata": {},
   "outputs": [],
   "source": [
    "columnNames = [\"INDEX NO\", \"NAME\", \"GENDER\", \"UACE YEAR\", \"CODE\", \"DISTRICT\", \"COURSE CODE\", \"COURSE NAME\"]\n",
    "columnNames2 = [\"APP NO\", \"INDEX NO\", \"NAME\", \"GENDER\", \"UACE YEAR\", \"CODE\", \"DISTRICT\", \"COURSE CODE\", \"COURSE NAME\", \"TOTAL WEIGHT\"]"
   ]
  },
  {
   "cell_type": "code",
   "execution_count": 19,
   "id": "c76cf4c2-fbae-431a-b9ab-7022625fa78c",
   "metadata": {},
   "outputs": [],
   "source": [
    "def instTest(x):\n",
    "    try: \n",
    "        if isinstance(float(x), float):\n",
    "            return True\n",
    "    except ValueError:\n",
    "        return False"
   ]
  },
  {
   "cell_type": "code",
   "execution_count": 35,
   "id": "b0d6928d-deaf-4e76-ba5d-d9e355af9e34",
   "metadata": {},
   "outputs": [],
   "source": [
    "# Function to extract data from data2\n",
    "def dataProcess(n):\n",
    "#     if n >= 1:\n",
    "\n",
    "    studentData = data[n].split()\n",
    "    # print(\"Student Data: \", studentData)\n",
    "    index_no = studentData[0]\n",
    "    name = \" \".join(studentData[1:-7])[:-1]\n",
    "    gender = studentData[-8][-1]\n",
    "    UACE_YEAR = int(studentData[-7])\n",
    "    DistrictCode = int(studentData[-6])\n",
    "    District = studentData[-5]\n",
    "    CourseCode = studentData[-4]\n",
    "    Course = ' '.join(studentData[-3:])\n",
    "    return [index_no, name, gender, UACE_YEAR,\n",
    "            DistrictCode, District, CourseCode, Course]\n",
    "\n",
    "def getStudentData(data):\n",
    "    studentList = []\n",
    "    for i in range(len(data)):\n",
    "    #     if i > 0:\n",
    "        student = dataProcess(i)\n",
    "        studentList.append(student)\n",
    "    print(studentList)\n",
    "    return studentList"
   ]
  },
  {
   "cell_type": "code",
   "execution_count": 127,
   "id": "ddcbcc69-247b-4c1c-bb21-c3dc57b0aa57",
   "metadata": {},
   "outputs": [],
   "source": [
    "def getDf():\n",
    "    # i = randint(0, len(mak23)-1)\n",
    "    i = 0\n",
    "    print(i)\n",
    "\n",
    "    # First column is a common to all, drop it\n",
    "    df = mak23[i]\n",
    "    # print(df.head(5))\n",
    "    \n",
    "    columns = df.columns\n",
    "    # print(\"columns: \", columns)\n",
    "    df = df.drop(columns[0], axis=1)\n",
    "\n",
    "    # Drop columns with nan values\n",
    "    # print(\"columns before dropping nan-columns: \", df.shape[1])\n",
    "    df = df.dropna(axis=1,\n",
    "                   # thresh=3,\n",
    "                   how=\"all\",\n",
    "                  )\n",
    "    # print(\"columns after dropping: \", df.shape[1])\n",
    "\n",
    "    # drop rows with nan if they exist\n",
    "    # print(\"Rows before dropping: \", df.shape[0])\n",
    "    df = df.dropna(axis=0,\n",
    "                   how=\"any\",\n",
    "                   # thresh=3,\n",
    "                  )\n",
    "\n",
    "    # Drop rows for which Tot_wt is not float\n",
    "    df = df[df[columns[-1]] != \"Tot_wt\"]\n",
    "    # print(\"Weights: \", df[columns[-1]])\n",
    "    print(df.shape)\n",
    "    columns = df.columns\n",
    "    # print(columns)\n",
    "    if len(columns) == 3:        \n",
    "        \n",
    "        # print(df.head(2))\n",
    "        data = df[columns[1]].tolist()\n",
    "        if i == 0:\n",
    "            data = data[1:]\n",
    "\n",
    "        print(data[:4])\n",
    "        # data = df[columns.tolist()[1]].split()\n",
    "        # print(df[df.columns[-1]])\n",
    "\n",
    "        Tot_weights = df[df.columns[-1]].tolist()\n",
    "        print(\"Length of Tot_weights: \", len(Tot_weights))\n",
    "        print(\"Samples of Tot_weights\")\n",
    "        print(Tot_weights)\n",
    "        \n",
    "        temp = getStudentData(data)\n",
    "        df = pd.DataFrame(columns=columnNames, data=temp)\n",
    "        print(\"Number of columns: \", df.shape)\n",
    "        print(\"Shape of temp: \", len(temp))\n",
    "        # insert columns at last position\n",
    "        df.insert(loc=len(df.columns),\n",
    "                  column=\"TOTAL WEIGHT\",\n",
    "                  value=Tot_weights,\n",
    "                 )\n",
    "        return df\n",
    "    if len(df.columns) == 10:\n",
    "        df = df[df[columns[-1]] != \"Tot_wt\"]\n",
    "        # Rename columns\n",
    "        columns = df.columns\n",
    "        df = df.rename(columns={columns[x]:columnNames2[x] for x in range(len(columns))})\n",
    "        return df"
   ]
  },
  {
   "cell_type": "code",
   "execution_count": 74,
   "id": "dcee58e0-eadd-4629-b06d-c828f27885b1",
   "metadata": {},
   "outputs": [],
   "source": [
    "# from random import randint\n",
    "# i = randint(0, len(data)-1)\n",
    "# i = 0\n",
    "# print(data[:4])\n",
    "# data = data[1:]\n",
    "# studentList = []\n",
    "# for i in range(len(data)):\n",
    "# #     if i > 0:\n",
    "#     student = dataProcess(i)\n",
    "#     studentList.append(student)\n",
    "# studentList"
   ]
  },
  {
   "cell_type": "code",
   "execution_count": 81,
   "id": "3e5848db-6eb6-45dc-8013-8ac167d5fe55",
   "metadata": {},
   "outputs": [],
   "source": [
    "data = data[1:]"
   ]
  },
  {
   "cell_type": "code",
   "execution_count": 104,
   "id": "09195d12-33ad-4865-89bf-49f89c21e73f",
   "metadata": {},
   "outputs": [],
   "source": [
    "# getStudentData(data)"
   ]
  },
  {
   "cell_type": "code",
   "execution_count": 128,
   "id": "cf0a51d0-de17-4d2d-9ae1-6a7c948c0f5e",
   "metadata": {},
   "outputs": [
    {
     "name": "stdout",
     "output_type": "stream",
     "text": [
      "0\n",
      "(40, 3)\n",
      "['U1249/532 LULE ISAACM 2022 40 MPIGI ACC BSC. Accounting (EVE)', 'U0459/676 HAULAH SULAIT BIIRAF 2022 21 KASESE ACC BSC. Accounting (EVE)', 'U1611/887 NAMBALYE EVELYNEF 2022 33 MASAKA ACC BSC. Accounting (EVE)', 'U0083/555 KEMIGISHA  RUSIAF 2022 65 IBANDA ACC BSC. Accounting (EVE)']\n",
      "Length of Tot_weights:  40\n",
      "Samples of Tot_weights\n",
      "['42.2', '41.1', '40.6', '38.8', '38.4', '38.4', '38.2', '38.1', '37.9', '37.9', '37.8', '37', '36.5', '35.8', '35.8', '35.5', '35.3', '34.6', '34.6', '34.4', '34.3', '34.1', '33.8', '33.5', '33.3', '33', '32.8', '32.5', '32.4', '32', '31.5', '31.4', '31.3', '31.2', '31.1', '31.1', '31.1', '31', '31', '30.9']\n",
      "[['U0391/673', 'LUKABWE DOUGLAS MARK', 'M', 2022, 42, 'MUKONO', 'ACC', 'BSC. Accounting (EVE)'], ['U1249/532', 'LULE ISAAC', 'M', 2022, 40, 'MPIGI', 'ACC', 'BSC. Accounting (EVE)'], ['U0459/676', 'HAULAH SULAIT BIIRA', 'F', 2022, 21, 'KASESE', 'ACC', 'BSC. Accounting (EVE)'], ['U1611/887', 'NAMBALYE EVELYNE', 'F', 2022, 33, 'MASAKA', 'ACC', 'BSC. Accounting (EVE)'], ['U0083/555', 'KEMIGISHA RUSIA', 'F', 2022, 65, 'IBANDA', 'ACC', 'BSC. Accounting (EVE)'], ['U2373/501', 'LUWAGA TONNY', 'M', 2018, 55, 'WAKISO', 'ACC', 'BSC. Accounting (EVE)'], ['U0856/511', 'NAMAGEMBE MARTINA', 'F', 2022, 25, 'KIBOGA', 'ACC', 'BSC. Accounting (EVE)'], ['U2929/521', 'KALUNGI TITUS', 'M', 2022, 75, 'MITYANA', 'ACC', 'BSC. Accounting (EVE)'], ['U1609/550', 'KIZITO PATRICK', 'M', 2011, 16, 'KAMPALA', 'ACC', 'BSC. Accounting (EVE)'], ['U1224/882', 'NDYOMUHIRWA CHRISTIAN', 'M', 2022, 50, 'RUKUNGIRI', 'ACC', 'BSC. Accounting (EVE)'], ['U1350/503', 'GWOKYALYA RESTY', 'F', 2022, 16, 'KAMPALA', 'ACC', 'BSC. Accounting (EVE)'], ['U0086/599', 'WAISWA CEASER', 'M', 2009, 17, 'KAMULI', 'ACC', 'BSC. Accounting (EVE)'], ['U0923/523', 'NABUUMA MAJOREEN', 'F', 2017, 55, 'WAKISO', 'ACC', 'BSC. Accounting (EVE)'], ['U2789/821', 'TAMALE COLIN', 'M', 2022, 91, 'GOMBA', 'ACC', 'BSC. Accounting (EVE)'], ['U0960/506', 'LUUTU DOUGLAS', 'M', 2022, 16, 'KAMPALA', 'ACC', 'BSC. Accounting (EVE)'], ['U0459/684', 'KASANGAKI MARIAM BINTA', 'F', 2022, 13, 'KABAROLE', 'ACC', 'BSC. Accounting (EVE)'], ['U1611/947', 'NANSUBUGA LYDIA', 'F', 2022, 16, 'KAMPALA', 'ACC', 'BSC. Accounting (EVE)'], ['U3219/507', 'NANDAGIRE SCOVIA', 'F', 2022, 49, 'RAKAI', 'ACC', 'BSC. Accounting (EVE)'], ['U0737/531', 'MUDOBYA CHRISTINE', 'F', 2007, 10, 'IGANGA', 'ACC', 'BSC. Accounting (EVE)'], ['U0036/560', 'ASHABA PERUTH', 'F', 2020, 101, 'LWENGO', 'ACC', 'BSC. Accounting (EVE)'], ['U1979/584', 'MIREMBE SHALOM NAMYALO', 'F', 2022, 55, 'WAKISO', 'ACC', 'BSC. Accounting (EVE)'], ['U2381/539', 'KISEMBO ELIJAH', 'M', 2022, 9, 'HOIMA', 'ACC', 'BSC. Accounting (EVE)'], ['U0200/522', 'LUYIGA T. CATHERINE', 'F', 2022, 55, 'WAKISO', 'ACC', 'BSC. Accounting (EVE)'], ['U3082/603', 'MUGISA DERRICK', 'M', 2022, 102, 'KAGADI', 'ACC', 'BSC. Accounting (EVE)'], ['U0027/750', 'WANGOTA BRIAN', 'M', 2022, 11, 'JINJA', 'ACC', 'BSC. Accounting (EVE)'], ['U2789/553', 'MWEBESA SOLOMON ARTHUR', 'M', 2013, 30, 'KYENJOJO', 'ACC', 'BSC. Accounting (EVE)'], ['U2474/892', 'MUHAIRWE JOEL', 'M', 2022, 118, 'BUNYANGABU', 'ACC', 'BSC. Accounting (EVE)'], ['U2839/522', 'TUMUSIIME PATRICIA', 'F', 2022, 9, 'HOIMA', 'ACC', 'BSC. Accounting (EVE)'], ['U2144/516', 'KABARUNGI EMILLY', 'F', 2022, 18, 'KAMWENGE', 'ACC', 'BSC. Accounting (EVE)'], ['U1542/582', 'WAKIBUGO IAN', 'M', 2022, 55, 'WAKISO', 'ACC', 'BSC. Accounting (EVE)'], ['U1451/517', 'NAIGAMBI ALI', 'M', 2020, 11, 'JINJA', 'ACC', 'BSC. Accounting (EVE)'], ['U2789/560', 'NALWEYISO DAISY', 'F', 2022, 16, 'KAMPALA', 'ACC', 'BSC. Accounting (EVE)'], ['U3219/508', 'NAMBAYO KATHY', 'F', 2022, 77, 'BUDAKA', 'ACC', 'BSC. Accounting (EVE)'], ['U1969/524', 'KAKOOZA MOHMMAD', 'M', 2022, 88, 'BUTAMBALA', 'ACC', 'BSC. Accounting (EVE)'], ['U0859/554', 'KIVEBULAAYA LIVINGSTONE', 'M', 2022, 41, 'MUBENDE', 'ACC', 'BSC. Accounting (EVE)'], ['U0459/630', 'KIJJIDE AFIZI MUHAMAD', 'M', 2022, 88, 'BUTAMBALA', 'ACC', 'BSC. Accounting (EVE)'], ['U2962/615', 'BALYOKWAIBWE EMMANUEL', 'M', 2022, 90, 'BUYENDE', 'ACC', 'BSC. Accounting (EVE)'], ['U0760/553', 'SUNDAY EMMANUEL', 'M', 2022, 18, 'KAMWENGE', 'ACC', 'BSC. Accounting (EVE)'], ['U3941/514', 'LUKYAMUZI JUDE THADDEUS', 'M', 2022, 33, 'MASAKA', 'ACC', 'BSC. Accounting (EVE)']]\n",
      "Number of columns:  (39, 8)\n",
      "Shape of temp:  39\n"
     ]
    },
    {
     "ename": "ValueError",
     "evalue": "Length of values (40) does not match length of index (39)",
     "output_type": "error",
     "traceback": [
      "\u001b[1;31m---------------------------------------------------------------------------\u001b[0m",
      "\u001b[1;31mValueError\u001b[0m                                Traceback (most recent call last)",
      "Cell \u001b[1;32mIn[128], line 1\u001b[0m\n\u001b[1;32m----> 1\u001b[0m \u001b[43mgetDf\u001b[49m\u001b[43m(\u001b[49m\u001b[43m)\u001b[49m\n",
      "Cell \u001b[1;32mIn[127], line 56\u001b[0m, in \u001b[0;36mgetDf\u001b[1;34m()\u001b[0m\n\u001b[0;32m     54\u001b[0m     \u001b[38;5;28mprint\u001b[39m(\u001b[38;5;124m\"\u001b[39m\u001b[38;5;124mShape of temp: \u001b[39m\u001b[38;5;124m\"\u001b[39m, \u001b[38;5;28mlen\u001b[39m(temp))\n\u001b[0;32m     55\u001b[0m     \u001b[38;5;66;03m# insert columns at last position\u001b[39;00m\n\u001b[1;32m---> 56\u001b[0m     \u001b[43mdf\u001b[49m\u001b[38;5;241;43m.\u001b[39;49m\u001b[43minsert\u001b[49m\u001b[43m(\u001b[49m\u001b[43mloc\u001b[49m\u001b[38;5;241;43m=\u001b[39;49m\u001b[38;5;28;43mlen\u001b[39;49m\u001b[43m(\u001b[49m\u001b[43mdf\u001b[49m\u001b[38;5;241;43m.\u001b[39;49m\u001b[43mcolumns\u001b[49m\u001b[43m)\u001b[49m\u001b[43m,\u001b[49m\n\u001b[0;32m     57\u001b[0m \u001b[43m              \u001b[49m\u001b[43mcolumn\u001b[49m\u001b[38;5;241;43m=\u001b[39;49m\u001b[38;5;124;43m\"\u001b[39;49m\u001b[38;5;124;43mTOTAL WEIGHT\u001b[39;49m\u001b[38;5;124;43m\"\u001b[39;49m\u001b[43m,\u001b[49m\n\u001b[0;32m     58\u001b[0m \u001b[43m              \u001b[49m\u001b[43mvalue\u001b[49m\u001b[38;5;241;43m=\u001b[39;49m\u001b[43mTot_weights\u001b[49m\u001b[43m,\u001b[49m\n\u001b[0;32m     59\u001b[0m \u001b[43m             \u001b[49m\u001b[43m)\u001b[49m\n\u001b[0;32m     60\u001b[0m     \u001b[38;5;28;01mreturn\u001b[39;00m df\n\u001b[0;32m     61\u001b[0m \u001b[38;5;28;01mif\u001b[39;00m \u001b[38;5;28mlen\u001b[39m(df\u001b[38;5;241m.\u001b[39mcolumns) \u001b[38;5;241m==\u001b[39m \u001b[38;5;241m10\u001b[39m:\n",
      "File \u001b[1;32mD:\\Novel\\Data\\Python\\DataAnalysis\\DataAnalysisVenv\\Lib\\site-packages\\pandas\\core\\frame.py:5171\u001b[0m, in \u001b[0;36mDataFrame.insert\u001b[1;34m(self, loc, column, value, allow_duplicates)\u001b[0m\n\u001b[0;32m   5168\u001b[0m \u001b[38;5;28;01melif\u001b[39;00m \u001b[38;5;28misinstance\u001b[39m(value, DataFrame):\n\u001b[0;32m   5169\u001b[0m     value \u001b[38;5;241m=\u001b[39m value\u001b[38;5;241m.\u001b[39miloc[:, \u001b[38;5;241m0\u001b[39m]\n\u001b[1;32m-> 5171\u001b[0m value, refs \u001b[38;5;241m=\u001b[39m \u001b[38;5;28;43mself\u001b[39;49m\u001b[38;5;241;43m.\u001b[39;49m\u001b[43m_sanitize_column\u001b[49m\u001b[43m(\u001b[49m\u001b[43mvalue\u001b[49m\u001b[43m)\u001b[49m\n\u001b[0;32m   5172\u001b[0m \u001b[38;5;28mself\u001b[39m\u001b[38;5;241m.\u001b[39m_mgr\u001b[38;5;241m.\u001b[39minsert(loc, column, value, refs\u001b[38;5;241m=\u001b[39mrefs)\n",
      "File \u001b[1;32mD:\\Novel\\Data\\Python\\DataAnalysis\\DataAnalysisVenv\\Lib\\site-packages\\pandas\\core\\frame.py:5266\u001b[0m, in \u001b[0;36mDataFrame._sanitize_column\u001b[1;34m(self, value)\u001b[0m\n\u001b[0;32m   5263\u001b[0m     \u001b[38;5;28;01mreturn\u001b[39;00m _reindex_for_setitem(value, \u001b[38;5;28mself\u001b[39m\u001b[38;5;241m.\u001b[39mindex)\n\u001b[0;32m   5265\u001b[0m \u001b[38;5;28;01mif\u001b[39;00m is_list_like(value):\n\u001b[1;32m-> 5266\u001b[0m     \u001b[43mcom\u001b[49m\u001b[38;5;241;43m.\u001b[39;49m\u001b[43mrequire_length_match\u001b[49m\u001b[43m(\u001b[49m\u001b[43mvalue\u001b[49m\u001b[43m,\u001b[49m\u001b[43m \u001b[49m\u001b[38;5;28;43mself\u001b[39;49m\u001b[38;5;241;43m.\u001b[39;49m\u001b[43mindex\u001b[49m\u001b[43m)\u001b[49m\n\u001b[0;32m   5267\u001b[0m arr \u001b[38;5;241m=\u001b[39m sanitize_array(value, \u001b[38;5;28mself\u001b[39m\u001b[38;5;241m.\u001b[39mindex, copy\u001b[38;5;241m=\u001b[39m\u001b[38;5;28;01mTrue\u001b[39;00m, allow_2d\u001b[38;5;241m=\u001b[39m\u001b[38;5;28;01mTrue\u001b[39;00m)\n\u001b[0;32m   5268\u001b[0m \u001b[38;5;28;01mif\u001b[39;00m (\n\u001b[0;32m   5269\u001b[0m     \u001b[38;5;28misinstance\u001b[39m(value, Index)\n\u001b[0;32m   5270\u001b[0m     \u001b[38;5;129;01mand\u001b[39;00m value\u001b[38;5;241m.\u001b[39mdtype \u001b[38;5;241m==\u001b[39m \u001b[38;5;124m\"\u001b[39m\u001b[38;5;124mobject\u001b[39m\u001b[38;5;124m\"\u001b[39m\n\u001b[1;32m   (...)\u001b[0m\n\u001b[0;32m   5273\u001b[0m     \u001b[38;5;66;03m# TODO: Remove kludge in sanitize_array for string mode when enforcing\u001b[39;00m\n\u001b[0;32m   5274\u001b[0m     \u001b[38;5;66;03m# this deprecation\u001b[39;00m\n",
      "File \u001b[1;32mD:\\Novel\\Data\\Python\\DataAnalysis\\DataAnalysisVenv\\Lib\\site-packages\\pandas\\core\\common.py:573\u001b[0m, in \u001b[0;36mrequire_length_match\u001b[1;34m(data, index)\u001b[0m\n\u001b[0;32m    569\u001b[0m \u001b[38;5;250m\u001b[39m\u001b[38;5;124;03m\"\"\"\u001b[39;00m\n\u001b[0;32m    570\u001b[0m \u001b[38;5;124;03mCheck the length of data matches the length of the index.\u001b[39;00m\n\u001b[0;32m    571\u001b[0m \u001b[38;5;124;03m\"\"\"\u001b[39;00m\n\u001b[0;32m    572\u001b[0m \u001b[38;5;28;01mif\u001b[39;00m \u001b[38;5;28mlen\u001b[39m(data) \u001b[38;5;241m!=\u001b[39m \u001b[38;5;28mlen\u001b[39m(index):\n\u001b[1;32m--> 573\u001b[0m     \u001b[38;5;28;01mraise\u001b[39;00m \u001b[38;5;167;01mValueError\u001b[39;00m(\n\u001b[0;32m    574\u001b[0m         \u001b[38;5;124m\"\u001b[39m\u001b[38;5;124mLength of values \u001b[39m\u001b[38;5;124m\"\u001b[39m\n\u001b[0;32m    575\u001b[0m         \u001b[38;5;124mf\u001b[39m\u001b[38;5;124m\"\u001b[39m\u001b[38;5;124m(\u001b[39m\u001b[38;5;132;01m{\u001b[39;00m\u001b[38;5;28mlen\u001b[39m(data)\u001b[38;5;132;01m}\u001b[39;00m\u001b[38;5;124m) \u001b[39m\u001b[38;5;124m\"\u001b[39m\n\u001b[0;32m    576\u001b[0m         \u001b[38;5;124m\"\u001b[39m\u001b[38;5;124mdoes not match length of index \u001b[39m\u001b[38;5;124m\"\u001b[39m\n\u001b[0;32m    577\u001b[0m         \u001b[38;5;124mf\u001b[39m\u001b[38;5;124m\"\u001b[39m\u001b[38;5;124m(\u001b[39m\u001b[38;5;132;01m{\u001b[39;00m\u001b[38;5;28mlen\u001b[39m(index)\u001b[38;5;132;01m}\u001b[39;00m\u001b[38;5;124m)\u001b[39m\u001b[38;5;124m\"\u001b[39m\n\u001b[0;32m    578\u001b[0m     )\n",
      "\u001b[1;31mValueError\u001b[0m: Length of values (40) does not match length of index (39)"
     ]
    }
   ],
   "source": [
    "getDf()"
   ]
  },
  {
   "cell_type": "code",
   "execution_count": null,
   "id": "23d4c425-04a2-49ca-a565-b35d2b494863",
   "metadata": {},
   "outputs": [],
   "source": [
    "data = mak23[0][mak23.columns[1]]"
   ]
  },
  {
   "cell_type": "code",
   "execution_count": null,
   "id": "11910145-66ec-49c3-828b-3e40645aba1f",
   "metadata": {},
   "outputs": [],
   "source": [
    "# final df\n",
    "df = pd.DataFrame(columns=columnNames2, data=[])\n",
    "df\n",
    "for i in range(len(mak23)):\n",
    "    df = pd.concat([df, getDf(i)], ignore_index=True)\n",
    "df"
   ]
  },
  {
   "cell_type": "code",
   "execution_count": null,
   "id": "9ebd08c2-480b-4a87-87bd-2d9c761c4988",
   "metadata": {},
   "outputs": [],
   "source": [
    "# studentList = []\n",
    "# for i in range(len(data)):\n",
    "#     #     if i > 0:\n",
    "#     student = dataProcess(i)\n",
    "#     studentList.append(student)"
   ]
  },
  {
   "cell_type": "code",
   "execution_count": null,
   "id": "afe417ed-c407-4cd7-a3f0-b97ae68827d4",
   "metadata": {},
   "outputs": [],
   "source": [
    "data = data1['MAKERERE UIVERSITY']"
   ]
  },
  {
   "cell_type": "code",
   "execution_count": null,
   "id": "69cf555d-3845-4f28-b4f2-8427d13f2f6f",
   "metadata": {},
   "outputs": [],
   "source": [
    "data"
   ]
  },
  {
   "cell_type": "code",
   "execution_count": null,
   "id": "149b6821-f1db-4e35-875b-1f24bde2d479",
   "metadata": {},
   "outputs": [],
   "source": [
    "getDf()"
   ]
  },
  {
   "cell_type": "code",
   "execution_count": null,
   "id": "5fbd37da",
   "metadata": {},
   "outputs": [],
   "source": [
    "# Index the first table in the mak23 pdf\n",
    "# Data is highly unordered and requires pre-processing\n",
    "# A number of techniques shall be used to clean and prepare data into proper structured\n",
    "# tabular format.\n",
    "mak23[0]"
   ]
  },
  {
   "cell_type": "code",
   "execution_count": null,
   "id": "58e4e0ec",
   "metadata": {},
   "outputs": [],
   "source": [
    "# Drop missing data rows.\n",
    "# It can be observed that index 3 contains what would have been column names: Form id, Index_no, ...\n",
    "# It also contains original data index read as column: Unnamed: 0\n",
    "data1 = mak23[0].dropna()"
   ]
  },
  {
   "cell_type": "code",
   "execution_count": null,
   "id": "342d0b25",
   "metadata": {},
   "outputs": [],
   "source": [
    "data1"
   ]
  },
  {
   "cell_type": "code",
   "execution_count": null,
   "id": "c378a8c0",
   "metadata": {},
   "outputs": [],
   "source": [
    "# This returns the columns in the DataFrame\n",
    "data1.columns"
   ]
  },
  {
   "cell_type": "code",
   "execution_count": null,
   "id": "423fc2d4",
   "metadata": {},
   "outputs": [],
   "source": [
    "# drop column: Unnamed: 0\n",
    "del data1[\"Unnamed: 0\"]"
   ]
  },
  {
   "cell_type": "code",
   "execution_count": null,
   "id": "38ae3685",
   "metadata": {},
   "outputs": [],
   "source": [
    "len(data1['MAKERERE UIVERSITY'])"
   ]
  },
  {
   "cell_type": "code",
   "execution_count": null,
   "id": "64ad4ba4",
   "metadata": {},
   "outputs": [],
   "source": [
    "# Key data is in column Makerere University\n",
    "# Employ python string processing methods to extracts such data"
   ]
  },
  {
   "cell_type": "code",
   "execution_count": null,
   "id": "046abe5c",
   "metadata": {},
   "outputs": [],
   "source": [
    "data1.iloc[0]"
   ]
  },
  {
   "cell_type": "code",
   "execution_count": null,
   "id": "d342345f",
   "metadata": {},
   "outputs": [],
   "source": [
    "data1 = data1.drop(index=3)"
   ]
  },
  {
   "cell_type": "code",
   "execution_count": null,
   "id": "ebc808ca",
   "metadata": {},
   "outputs": [],
   "source": [
    "# data1.index"
   ]
  },
  {
   "cell_type": "code",
   "execution_count": null,
   "id": "b38c8050",
   "metadata": {},
   "outputs": [],
   "source": [
    "# Reindex the dataframe\n",
    "data2 = data1.reindex([x for x in range(len(data1.index))])"
   ]
  },
  {
   "cell_type": "code",
   "execution_count": null,
   "id": "a7a4b54c",
   "metadata": {},
   "outputs": [],
   "source": [
    "data2"
   ]
  },
  {
   "cell_type": "code",
   "execution_count": null,
   "id": "82e38155",
   "metadata": {},
   "outputs": [],
   "source": [
    "newIndex = [x for x in range(len(data1.index))]\n",
    "type(newIndex)"
   ]
  },
  {
   "cell_type": "code",
   "execution_count": null,
   "id": "cb6afb6b",
   "metadata": {},
   "outputs": [],
   "source": [
    "getStudentData(data2)"
   ]
  },
  {
   "cell_type": "code",
   "execution_count": null,
   "id": "0ade233d",
   "metadata": {},
   "outputs": [],
   "source": [
    "# data[1]\n",
    "data = [x for x in data2[1:]]\n",
    "# data"
   ]
  },
  {
   "cell_type": "code",
   "execution_count": null,
   "id": "6094cbb5",
   "metadata": {},
   "outputs": [],
   "source": [
    "# Preprocess and extract migled data from 'MAKERERE UIVERSITY' column\n",
    "data2 = data1['MAKERERE UIVERSITY']"
   ]
  },
  {
   "cell_type": "code",
   "execution_count": null,
   "id": "d5aaf3e9-5810-4dc5-84ab-0ef9478f6d45",
   "metadata": {},
   "outputs": [],
   "source": [
    "data2"
   ]
  },
  {
   "cell_type": "code",
   "execution_count": null,
   "id": "6e0d8f3b",
   "metadata": {},
   "outputs": [],
   "source": [
    "# Function to extract data from data2\n",
    "def dataProcess(n):\n",
    "#     if n >= 1:\n",
    "    studentData = data[n].split()\n",
    "    index_no = studentData[0]\n",
    "    name = \" \".join(studentData[1:-7])[:-1]\n",
    "    gender = studentData[-8][-1]\n",
    "    UACE_YEAR = int(studentData[-7])\n",
    "    DistrictCode = int(studentData[-6])\n",
    "    District = studentData[-5]\n",
    "    CourseCode = studentData[-4]\n",
    "    Course = ' '.join(studentData[-3:])\n",
    "    return [index_no, name, gender, UACE_YEAR,\n",
    "            DistrictCode, District, CourseCode, Course]"
   ]
  },
  {
   "cell_type": "code",
   "execution_count": null,
   "id": "40514061",
   "metadata": {},
   "outputs": [],
   "source": [
    "# Create a data frame with no data\n",
    "df = pd.DataFrame([], columns=DataIndex)"
   ]
  },
  {
   "cell_type": "code",
   "execution_count": null,
   "id": "0da4d1c2",
   "metadata": {},
   "outputs": [],
   "source": [
    "df"
   ]
  },
  {
   "cell_type": "code",
   "execution_count": null,
   "id": "ac216f59",
   "metadata": {},
   "outputs": [],
   "source": [
    "# data"
   ]
  },
  {
   "cell_type": "code",
   "execution_count": null,
   "id": "466ff742",
   "metadata": {},
   "outputs": [],
   "source": [
    "studentList = []\n",
    "for i in range(len(data)):\n",
    "#     if i > 0:\n",
    "    student = dataProcess(i)\n",
    "    studentList.append(student)"
   ]
  },
  {
   "cell_type": "code",
   "execution_count": null,
   "id": "245e3e4d",
   "metadata": {},
   "outputs": [],
   "source": [
    "studentList"
   ]
  },
  {
   "cell_type": "code",
   "execution_count": null,
   "id": "043a5763",
   "metadata": {},
   "outputs": [],
   "source": [
    "df = pd.DataFrame(studentList, columns=DataIndex)"
   ]
  },
  {
   "cell_type": "code",
   "execution_count": null,
   "id": "78350556",
   "metadata": {},
   "outputs": [],
   "source": [
    "df"
   ]
  },
  {
   "cell_type": "code",
   "execution_count": null,
   "id": "81da3f0b",
   "metadata": {},
   "outputs": [],
   "source": [
    "# Insert Total Weight Column into the DataFrame\n",
    "df.insert(8, \"Total Weight\", pd.Series([x for x in weights], index=df.index))"
   ]
  },
  {
   "cell_type": "code",
   "execution_count": null,
   "id": "e016a1fd",
   "metadata": {},
   "outputs": [],
   "source": [
    "# Insert formId Column as the first column\n",
    "# Qn: Can we insert multiple columns at once🤔\n",
    "df.insert(0, \"Form ID\", pd.Series([x for x in formId], index=df.index))"
   ]
  },
  {
   "cell_type": "code",
   "execution_count": null,
   "id": "59401974",
   "metadata": {},
   "outputs": [],
   "source": [
    "df"
   ]
  },
  {
   "cell_type": "markdown",
   "id": "d4928db1",
   "metadata": {},
   "source": [
    "<h3>Assignment: Preprocess the remaining data tables to have them similar to the data above.</h3>"
   ]
  },
  {
   "cell_type": "code",
   "execution_count": null,
   "id": "7c2892a3",
   "metadata": {},
   "outputs": [],
   "source": [
    "# Are there better ways of doing the above tasks?"
   ]
  },
  {
   "cell_type": "markdown",
   "id": "ee5a46a0",
   "metadata": {},
   "source": [
    "# <h3>Data description</h3>"
   ]
  },
  {
   "cell_type": "code",
   "execution_count": null,
   "id": "6717c0d7",
   "metadata": {},
   "outputs": [],
   "source": [
    "# which district had a higher intake and what is its frequency\n",
    "df.DISTRICT.describe()"
   ]
  },
  {
   "cell_type": "code",
   "execution_count": null,
   "id": "fd49493a",
   "metadata": {},
   "outputs": [],
   "source": [
    "# In the data portion, there are 26 unique districts.\n",
    "# Wakiso has oneof the highest frequency of student admissions.\n",
    "# Budaka is one of the districts with the lowest frequency admissions."
   ]
  },
  {
   "cell_type": "code",
   "execution_count": null,
   "id": "661fb4e2",
   "metadata": {},
   "outputs": [],
   "source": [
    "# why is Budaka returned as the district with the lowest frequency\n",
    "df.DISTRICT.min()"
   ]
  },
  {
   "cell_type": "code",
   "execution_count": null,
   "id": "1f2b4d64",
   "metadata": {},
   "outputs": [],
   "source": [
    "# why is Wakiso returned as the district with the highest frequency\n",
    "df.DISTRICT.max()"
   ]
  },
  {
   "cell_type": "code",
   "execution_count": null,
   "id": "b8154fa8",
   "metadata": {},
   "outputs": [],
   "source": [
    "df.DISTRICT.value_counts()"
   ]
  },
  {
   "cell_type": "code",
   "execution_count": null,
   "id": "69c71397",
   "metadata": {},
   "outputs": [],
   "source": [
    "# analysis by SEX"
   ]
  },
  {
   "cell_type": "code",
   "execution_count": null,
   "id": "63957f49",
   "metadata": {},
   "outputs": [],
   "source": [
    "# More males than females were admitted\n",
    "df.GENDER.value_counts()"
   ]
  },
  {
   "cell_type": "code",
   "execution_count": null,
   "id": "e37ce947",
   "metadata": {},
   "outputs": [],
   "source": [
    "# Count gender by district \n",
    "df_district_gender = pd.DataFrame(data = df.GENDER.value_counts(), index = list(df.DISTRICT), columns = list(df.GENDER))"
   ]
  },
  {
   "cell_type": "code",
   "execution_count": null,
   "id": "68b6647c",
   "metadata": {},
   "outputs": [],
   "source": [
    "# How can we get district gender count?"
   ]
  }
 ],
 "metadata": {
  "kernelspec": {
   "display_name": "Python 3 (ipykernel)",
   "language": "python",
   "name": "python3"
  },
  "language_info": {
   "codemirror_mode": {
    "name": "ipython",
    "version": 3
   },
   "file_extension": ".py",
   "mimetype": "text/x-python",
   "name": "python",
   "nbconvert_exporter": "python",
   "pygments_lexer": "ipython3",
   "version": "3.12.3"
  }
 },
 "nbformat": 4,
 "nbformat_minor": 5
}
