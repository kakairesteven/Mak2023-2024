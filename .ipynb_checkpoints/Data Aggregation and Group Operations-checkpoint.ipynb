{
 "cells": [
  {
   "cell_type": "code",
   "execution_count": 102,
   "id": "bb02e8a0",
   "metadata": {},
   "outputs": [],
   "source": [
    "import numpy as np\n",
    "import tabula\n",
    "import pandas as pd"
   ]
  },
  {
   "cell_type": "code",
   "execution_count": 103,
   "id": "5510d5f3",
   "metadata": {},
   "outputs": [],
   "source": [
    "makData = pd.read_csv(\"preprocessed/finalDataV1.csv\", index_col=0)"
   ]
  },
  {
   "cell_type": "code",
   "execution_count": 104,
   "id": "0878592a",
   "metadata": {},
   "outputs": [
    {
     "data": {
      "text/html": [
       "<div>\n",
       "<style scoped>\n",
       "    .dataframe tbody tr th:only-of-type {\n",
       "        vertical-align: middle;\n",
       "    }\n",
       "\n",
       "    .dataframe tbody tr th {\n",
       "        vertical-align: top;\n",
       "    }\n",
       "\n",
       "    .dataframe thead th {\n",
       "        text-align: right;\n",
       "    }\n",
       "</style>\n",
       "<table border=\"1\" class=\"dataframe\">\n",
       "  <thead>\n",
       "    <tr style=\"text-align: right;\">\n",
       "      <th></th>\n",
       "      <th>Form ID</th>\n",
       "      <th>Index No</th>\n",
       "      <th>NAME</th>\n",
       "      <th>GENDER</th>\n",
       "      <th>UACE YEAR</th>\n",
       "      <th>CODE</th>\n",
       "      <th>DISTRICT</th>\n",
       "      <th>COURSE CODE</th>\n",
       "      <th>COURSE NAME</th>\n",
       "      <th>Total Weight</th>\n",
       "    </tr>\n",
       "  </thead>\n",
       "  <tbody>\n",
       "    <tr>\n",
       "      <th>0</th>\n",
       "      <td>23APF412304454141015</td>\n",
       "      <td>U0391/673</td>\n",
       "      <td>LUKABWE DOUGLAS MARK</td>\n",
       "      <td>M</td>\n",
       "      <td>2022</td>\n",
       "      <td>42</td>\n",
       "      <td>MUKONO</td>\n",
       "      <td>ACC</td>\n",
       "      <td>BSC. Accounting (EVE)</td>\n",
       "      <td>42.2</td>\n",
       "    </tr>\n",
       "    <tr>\n",
       "      <th>1</th>\n",
       "      <td>23APF345674424112360</td>\n",
       "      <td>U1249/532</td>\n",
       "      <td>LULE ISAAC</td>\n",
       "      <td>M</td>\n",
       "      <td>2022</td>\n",
       "      <td>40</td>\n",
       "      <td>MPIGI</td>\n",
       "      <td>ACC</td>\n",
       "      <td>BSC. Accounting (EVE)</td>\n",
       "      <td>41.1</td>\n",
       "    </tr>\n",
       "    <tr>\n",
       "      <th>2</th>\n",
       "      <td>23APF1361730063122187</td>\n",
       "      <td>U0459/676</td>\n",
       "      <td>HAULAH SULAIT BIIRA</td>\n",
       "      <td>F</td>\n",
       "      <td>2022</td>\n",
       "      <td>21</td>\n",
       "      <td>KASESE</td>\n",
       "      <td>ACC</td>\n",
       "      <td>BSC. Accounting (EVE)</td>\n",
       "      <td>40.6</td>\n",
       "    </tr>\n",
       "    <tr>\n",
       "      <th>3</th>\n",
       "      <td>23APF519647933132646</td>\n",
       "      <td>U1611/887</td>\n",
       "      <td>NAMBALYE EVELYNE</td>\n",
       "      <td>F</td>\n",
       "      <td>2022</td>\n",
       "      <td>33</td>\n",
       "      <td>MASAKA</td>\n",
       "      <td>ACC</td>\n",
       "      <td>BSC. Accounting (EVE)</td>\n",
       "      <td>38.8</td>\n",
       "    </tr>\n",
       "    <tr>\n",
       "      <th>4</th>\n",
       "      <td>23APF1481620160129238</td>\n",
       "      <td>U0083/555</td>\n",
       "      <td>KEMIGISHA RUSIA</td>\n",
       "      <td>F</td>\n",
       "      <td>2022</td>\n",
       "      <td>65</td>\n",
       "      <td>IBANDA</td>\n",
       "      <td>ACC</td>\n",
       "      <td>BSC. Accounting (EVE)</td>\n",
       "      <td>38.4</td>\n",
       "    </tr>\n",
       "    <tr>\n",
       "      <th>...</th>\n",
       "      <td>...</td>\n",
       "      <td>...</td>\n",
       "      <td>...</td>\n",
       "      <td>...</td>\n",
       "      <td>...</td>\n",
       "      <td>...</td>\n",
       "      <td>...</td>\n",
       "      <td>...</td>\n",
       "      <td>...</td>\n",
       "      <td>...</td>\n",
       "    </tr>\n",
       "    <tr>\n",
       "      <th>222</th>\n",
       "      <td>23APF1674647943113045</td>\n",
       "      <td>U2789/769</td>\n",
       "      <td>MAFABI  EDGAR</td>\n",
       "      <td>M</td>\n",
       "      <td>2022</td>\n",
       "      <td>52</td>\n",
       "      <td>SIRONKO</td>\n",
       "      <td>ADM</td>\n",
       "      <td>Bachelor of Business Administration</td>\n",
       "      <td>42.7</td>\n",
       "    </tr>\n",
       "    <tr>\n",
       "      <th>223</th>\n",
       "      <td>23APF1553004744147784</td>\n",
       "      <td>U0009/541</td>\n",
       "      <td>KEMIGISHA SHANITAH</td>\n",
       "      <td>F</td>\n",
       "      <td>2022</td>\n",
       "      <td>6</td>\n",
       "      <td>BUSHENYI</td>\n",
       "      <td>ADM</td>\n",
       "      <td>Bachelor of Business Administration</td>\n",
       "      <td>42.6</td>\n",
       "    </tr>\n",
       "    <tr>\n",
       "      <th>224</th>\n",
       "      <td>23APF1425422752115622</td>\n",
       "      <td>U4144/507</td>\n",
       "      <td>NAKITANDWE SHARON</td>\n",
       "      <td>F</td>\n",
       "      <td>2022</td>\n",
       "      <td>71</td>\n",
       "      <td>KALIRO</td>\n",
       "      <td>ADM</td>\n",
       "      <td>Bachelor of Business Administration</td>\n",
       "      <td>42.6</td>\n",
       "    </tr>\n",
       "    <tr>\n",
       "      <th>225</th>\n",
       "      <td>23APF1269085013144231</td>\n",
       "      <td>U0060/511</td>\n",
       "      <td>BAGAYA SHELDYNE WINYI</td>\n",
       "      <td>F</td>\n",
       "      <td>2022</td>\n",
       "      <td>9</td>\n",
       "      <td>HOIMA</td>\n",
       "      <td>ADM</td>\n",
       "      <td>Bachelor of Business Administration</td>\n",
       "      <td>42.6</td>\n",
       "    </tr>\n",
       "    <tr>\n",
       "      <th>226</th>\n",
       "      <td>23APF192601537128082</td>\n",
       "      <td>U0083/547</td>\n",
       "      <td>CYNTHIA PRAISE</td>\n",
       "      <td>F</td>\n",
       "      <td>2022</td>\n",
       "      <td>21</td>\n",
       "      <td>KASESE</td>\n",
       "      <td>ADM</td>\n",
       "      <td>Bachelor of Business Administration</td>\n",
       "      <td>42.6</td>\n",
       "    </tr>\n",
       "  </tbody>\n",
       "</table>\n",
       "<p>227 rows × 10 columns</p>\n",
       "</div>"
      ],
      "text/plain": [
       "                   Form ID   Index No                   NAME GENDER UACE YEAR  \\\n",
       "0     23APF412304454141015  U0391/673   LUKABWE DOUGLAS MARK      M      2022   \n",
       "1     23APF345674424112360  U1249/532             LULE ISAAC      M      2022   \n",
       "2    23APF1361730063122187  U0459/676    HAULAH SULAIT BIIRA      F      2022   \n",
       "3     23APF519647933132646  U1611/887       NAMBALYE EVELYNE      F      2022   \n",
       "4    23APF1481620160129238  U0083/555        KEMIGISHA RUSIA      F      2022   \n",
       "..                     ...        ...                    ...    ...       ...   \n",
       "222  23APF1674647943113045  U2789/769          MAFABI  EDGAR      M      2022   \n",
       "223  23APF1553004744147784  U0009/541     KEMIGISHA SHANITAH      F      2022   \n",
       "224  23APF1425422752115622  U4144/507      NAKITANDWE SHARON      F      2022   \n",
       "225  23APF1269085013144231  U0060/511  BAGAYA SHELDYNE WINYI      F      2022   \n",
       "226   23APF192601537128082  U0083/547         CYNTHIA PRAISE      F      2022   \n",
       "\n",
       "    CODE  DISTRICT COURSE CODE                          COURSE NAME  \\\n",
       "0     42    MUKONO         ACC                BSC. Accounting (EVE)   \n",
       "1     40     MPIGI         ACC                BSC. Accounting (EVE)   \n",
       "2     21    KASESE         ACC                BSC. Accounting (EVE)   \n",
       "3     33    MASAKA         ACC                BSC. Accounting (EVE)   \n",
       "4     65    IBANDA         ACC                BSC. Accounting (EVE)   \n",
       "..   ...       ...         ...                                  ...   \n",
       "222   52   SIRONKO         ADM  Bachelor of Business Administration   \n",
       "223    6  BUSHENYI         ADM  Bachelor of Business Administration   \n",
       "224   71    KALIRO         ADM  Bachelor of Business Administration   \n",
       "225    9     HOIMA         ADM  Bachelor of Business Administration   \n",
       "226   21    KASESE         ADM  Bachelor of Business Administration   \n",
       "\n",
       "    Total Weight  \n",
       "0           42.2  \n",
       "1           41.1  \n",
       "2           40.6  \n",
       "3           38.8  \n",
       "4           38.4  \n",
       "..           ...  \n",
       "222         42.7  \n",
       "223         42.6  \n",
       "224         42.6  \n",
       "225         42.6  \n",
       "226         42.6  \n",
       "\n",
       "[227 rows x 10 columns]"
      ]
     },
     "execution_count": 104,
     "metadata": {},
     "output_type": "execute_result"
    }
   ],
   "source": [
    "makData"
   ]
  },
  {
   "cell_type": "code",
   "execution_count": 105,
   "id": "93ca8951",
   "metadata": {},
   "outputs": [],
   "source": [
    "makData = makData[makData[\"Total Weight\"] != \"Tot_wt\"]"
   ]
  },
  {
   "cell_type": "code",
   "execution_count": 106,
   "id": "4cbd747f",
   "metadata": {},
   "outputs": [],
   "source": [
    "makData = makData.astype({\"Total Weight\": 'float', \"Index No\": \"string\"})"
   ]
  },
  {
   "cell_type": "code",
   "execution_count": 107,
   "id": "8e67719f",
   "metadata": {},
   "outputs": [],
   "source": [
    "# Save df\n",
    "makData.to_csv(\"preprocessed/finalDfV2.csv\")"
   ]
  },
  {
   "cell_type": "code",
   "execution_count": 108,
   "id": "349af1ec",
   "metadata": {},
   "outputs": [],
   "source": [
    "makData = makData.dropna()"
   ]
  },
  {
   "cell_type": "code",
   "execution_count": 109,
   "id": "a41ed0e4",
   "metadata": {},
   "outputs": [
    {
     "data": {
      "text/plain": [
       "0      42.2\n",
       "1      41.1\n",
       "2      40.6\n",
       "3      38.8\n",
       "4      38.4\n",
       "       ... \n",
       "222    42.7\n",
       "223    42.6\n",
       "224    42.6\n",
       "225    42.6\n",
       "226    42.6\n",
       "Name: Total Weight, Length: 223, dtype: float64"
      ]
     },
     "execution_count": 109,
     "metadata": {},
     "output_type": "execute_result"
    }
   ],
   "source": [
    "makData[\"Total Weight\"]"
   ]
  },
  {
   "cell_type": "code",
   "execution_count": 110,
   "id": "a07a4fff",
   "metadata": {},
   "outputs": [
    {
     "data": {
      "text/plain": [
       "148    16.0\n",
       "149    15.7\n",
       "154    47.2\n",
       "155    46.0\n",
       "156    41.4\n",
       "       ... \n",
       "222    42.7\n",
       "223    42.6\n",
       "224    42.6\n",
       "225    42.6\n",
       "226    42.6\n",
       "Name: Total Weight, Length: 75, dtype: float64"
      ]
     },
     "execution_count": 110,
     "metadata": {},
     "output_type": "execute_result"
    }
   ],
   "source": [
    "makData[\"Total Weight\"].tail(75)"
   ]
  },
  {
   "cell_type": "code",
   "execution_count": 111,
   "id": "54ad9af1",
   "metadata": {},
   "outputs": [
    {
     "data": {
      "text/plain": [
       "GENDER\n",
       "F    32.398246\n",
       "M    28.722936\n",
       "Name: Total Weight, dtype: float64"
      ]
     },
     "execution_count": 111,
     "metadata": {},
     "output_type": "execute_result"
    }
   ],
   "source": [
    "# Computing average weight for each sex\n",
    "makData[\"Total Weight\"].groupby(makData['GENDER']).mean()"
   ]
  },
  {
   "cell_type": "code",
   "execution_count": 112,
   "id": "2840d74e",
   "metadata": {},
   "outputs": [],
   "source": [
    "# Statistics about schools, schools can be identified by index numbers\n",
    "# Write a function that extracts school index numbers from student index.\n",
    "def schoolIndex(index):\n",
    "    return index[:6]"
   ]
  },
  {
   "cell_type": "code",
   "execution_count": 113,
   "id": "d5e83727",
   "metadata": {},
   "outputs": [
    {
     "data": {
      "text/plain": [
       "DISTRICT      UACE YEAR  GENDER\n",
       "ABIM          2022       M         1\n",
       "ADJUMANI      2022       F         1\n",
       "AGAGO         2022       M         1\n",
       "BUDAKA        2022       F         1\n",
       "                         M         1\n",
       "BUGIRI        2022       F         2\n",
       "BUIKWE        2022       F         1\n",
       "                         M         2\n",
       "BUKEDEA       2011       M         1\n",
       "BUKOMANSIMBI  2022       M         1\n",
       "BUKWO         2022       M         1\n",
       "BUNYANGABU    2022       M         1\n",
       "BUSHENYI      2022       F         1\n",
       "                         M         2\n",
       "BUSIA         2020       M         1\n",
       "              2022       M         2\n",
       "BUTALEJA      2022       F         1\n",
       "BUTAMBALA     2022       F         1\n",
       "                         M         2\n",
       "BUYENDE       2022       M         1\n",
       "GOMBA         2022       M         2\n",
       "GULU          2022       F         1\n",
       "HOIMA         2009       M         1\n",
       "              2022       F         2\n",
       "                         M         5\n",
       "IBANDA        2022       F         4\n",
       "                         M         1\n",
       "IGANGA        2007       F         1\n",
       "              2022       F         2\n",
       "                         M         2\n",
       "ISINGIRO      2022       F         1\n",
       "JINJA         2020       M         1\n",
       "              2022       F         4\n",
       "                         M         3\n",
       "KABALE        2018       M         1\n",
       "              2022       F         2\n",
       "                         M         1\n",
       "KABAROLE      2015       M         1\n",
       "              2022       F         2\n",
       "                         M         1\n",
       "KABERAMAIDO   2022       F         1\n",
       "KAGADI        2022       M         1\n",
       "KALIRO        2022       F         2\n",
       "                         M         1\n",
       "KAMPALA       2011       M         1\n",
       "              2020       M         1\n",
       "              2022       F         5\n",
       "                         M         8\n",
       "KAMULI        2009       M         1\n",
       "              2022       F         1\n",
       "Name: Index No, dtype: int64"
      ]
     },
     "execution_count": 113,
     "metadata": {},
     "output_type": "execute_result"
    }
   ],
   "source": [
    "# Return admissions by ditrict and year of entry.\n",
    "makData.groupby(['DISTRICT', 'UACE YEAR', 'GENDER'],\n",
    "                sort=True,\n",
    "#               axis=\"columns\"\n",
    "                           )['Index No'].count().head(50)"
   ]
  },
  {
   "cell_type": "code",
   "execution_count": 114,
   "id": "07fd43ce",
   "metadata": {},
   "outputs": [],
   "source": [
    "# \n",
    "regions = {\"Eastern\": ['Amuria', 'Budaka', 'Bududa', 'Bugiri', 'Bukedea', 'Bukwa', 'Bulambuli',\n",
    "                      'Busia', 'Butalega', 'Buyende', 'Iganga', 'Jinja', 'Kaberamaido', 'Kaliro',\n",
    "                      'Kapchorwa', 'Katakwi', 'Kibuku', 'Kumi', 'Kween', 'Luuka', 'Manafwa',\n",
    "                       'Mayuge', 'Mbale', 'Namayingo', 'Namutumba', 'Ngora', 'Pallisa', 'Serere',\n",
    "                      'Sironko', 'Soroti', 'Tororo'],\n",
    "          'Central': ['Buikwe', 'Bukomansibi', 'Butambala', 'Buvuma', 'Gomba', 'Kalangala', 'Kalungu',\n",
    "                     'Kampala', 'Kayunga', 'Kiboga', 'Kyankwazi', 'Luwero', 'Lwengo', 'Lyantonde',\n",
    "                     'Masaka', 'Mityana', 'Mpigi', 'Mubende', 'Mukono', 'Nakaseke', 'Nakasongola',\n",
    "                     'Rakai', 'Sembabule', 'Wakiso'],\n",
    "          'Northern': ['Abim', 'Adjumani', 'Agago', 'Alebtong', 'Amolator', 'Amudat', 'Amuru', 'Apac',\n",
    "                      'Arua', 'Dokolo', 'Gulu', 'Kaabong', 'Kitgum', 'Koboko', 'Kole', 'Kotido', \n",
    "                      'Lamwo', 'Lira', 'Maracha', 'Moroto', 'Moyo', 'Nakapiripiriti', 'Napak', 'Nebbi',\n",
    "                      'Nwoya', 'Otuke', 'Oyam', 'Pader', 'Yumbe', 'Zombe'],\n",
    "          'Western': ['Buhweju', 'Bulisa', 'Bundibugyo', 'Bushenyi', 'Hoima', 'Ibanda', 'Isingiro',\n",
    "                     'Kabale', 'Kabarole', 'Kamwenge', 'Kanungu', 'Kasese', 'Kibaale', 'kiruhura', 'Kiryandongo',\n",
    "                     'Kisoro', 'Kyengegwa', 'Masindi', 'Mbarara', 'Mitooma', 'Ntoroko', 'Ntungamo', 'Ribirizi',\n",
    "                     'Rukungiri', 'Sheema']}\n",
    "for key, value in regions.items():\n",
    "    for i in range(len(value)):\n",
    "        value[i] = value[i].upper()"
   ]
  },
  {
   "cell_type": "code",
   "execution_count": 115,
   "id": "05260ee9",
   "metadata": {},
   "outputs": [
    {
     "data": {
      "text/plain": [
       "{'Eastern': ['AMURIA',\n",
       "  'BUDAKA',\n",
       "  'BUDUDA',\n",
       "  'BUGIRI',\n",
       "  'BUKEDEA',\n",
       "  'BUKWA',\n",
       "  'BULAMBULI',\n",
       "  'BUSIA',\n",
       "  'BUTALEGA',\n",
       "  'BUYENDE',\n",
       "  'IGANGA',\n",
       "  'JINJA',\n",
       "  'KABERAMAIDO',\n",
       "  'KALIRO',\n",
       "  'KAPCHORWA',\n",
       "  'KATAKWI',\n",
       "  'KIBUKU',\n",
       "  'KUMI',\n",
       "  'KWEEN',\n",
       "  'LUUKA',\n",
       "  'MANAFWA',\n",
       "  'MAYUGE',\n",
       "  'MBALE',\n",
       "  'NAMAYINGO',\n",
       "  'NAMUTUMBA',\n",
       "  'NGORA',\n",
       "  'PALLISA',\n",
       "  'SERERE',\n",
       "  'SIRONKO',\n",
       "  'SOROTI',\n",
       "  'TORORO'],\n",
       " 'Central': ['BUIKWE',\n",
       "  'BUKOMANSIBI',\n",
       "  'BUTAMBALA',\n",
       "  'BUVUMA',\n",
       "  'GOMBA',\n",
       "  'KALANGALA',\n",
       "  'KALUNGU',\n",
       "  'KAMPALA',\n",
       "  'KAYUNGA',\n",
       "  'KIBOGA',\n",
       "  'KYANKWAZI',\n",
       "  'LUWERO',\n",
       "  'LWENGO',\n",
       "  'LYANTONDE',\n",
       "  'MASAKA',\n",
       "  'MITYANA',\n",
       "  'MPIGI',\n",
       "  'MUBENDE',\n",
       "  'MUKONO',\n",
       "  'NAKASEKE',\n",
       "  'NAKASONGOLA',\n",
       "  'RAKAI',\n",
       "  'SEMBABULE',\n",
       "  'WAKISO'],\n",
       " 'Northern': ['ABIM',\n",
       "  'ADJUMANI',\n",
       "  'AGAGO',\n",
       "  'ALEBTONG',\n",
       "  'AMOLATOR',\n",
       "  'AMUDAT',\n",
       "  'AMURU',\n",
       "  'APAC',\n",
       "  'ARUA',\n",
       "  'DOKOLO',\n",
       "  'GULU',\n",
       "  'KAABONG',\n",
       "  'KITGUM',\n",
       "  'KOBOKO',\n",
       "  'KOLE',\n",
       "  'KOTIDO',\n",
       "  'LAMWO',\n",
       "  'LIRA',\n",
       "  'MARACHA',\n",
       "  'MOROTO',\n",
       "  'MOYO',\n",
       "  'NAKAPIRIPIRITI',\n",
       "  'NAPAK',\n",
       "  'NEBBI',\n",
       "  'NWOYA',\n",
       "  'OTUKE',\n",
       "  'OYAM',\n",
       "  'PADER',\n",
       "  'YUMBE',\n",
       "  'ZOMBE'],\n",
       " 'Western': ['BUHWEJU',\n",
       "  'BULISA',\n",
       "  'BUNDIBUGYO',\n",
       "  'BUSHENYI',\n",
       "  'HOIMA',\n",
       "  'IBANDA',\n",
       "  'ISINGIRO',\n",
       "  'KABALE',\n",
       "  'KABAROLE',\n",
       "  'KAMWENGE',\n",
       "  'KANUNGU',\n",
       "  'KASESE',\n",
       "  'KIBAALE',\n",
       "  'KIRUHURA',\n",
       "  'KIRYANDONGO',\n",
       "  'KISORO',\n",
       "  'KYENGEGWA',\n",
       "  'MASINDI',\n",
       "  'MBARARA',\n",
       "  'MITOOMA',\n",
       "  'NTOROKO',\n",
       "  'NTUNGAMO',\n",
       "  'RIBIRIZI',\n",
       "  'RUKUNGIRI',\n",
       "  'SHEEMA']}"
      ]
     },
     "execution_count": 115,
     "metadata": {},
     "output_type": "execute_result"
    }
   ],
   "source": [
    "regions"
   ]
  },
  {
   "cell_type": "code",
   "execution_count": 116,
   "id": "6c91be1e",
   "metadata": {},
   "outputs": [
    {
     "data": {
      "text/plain": [
       "DISTRICT      UACE YEAR  GENDER\n",
       "ABIM          2022       M         1\n",
       "ADJUMANI      2022       F         1\n",
       "AGAGO         2022       M         1\n",
       "BUDAKA        2022       F         1\n",
       "                         M         1\n",
       "BUGIRI        2022       F         2\n",
       "BUIKWE        2022       F         1\n",
       "                         M         2\n",
       "BUKEDEA       2011       M         1\n",
       "BUKOMANSIMBI  2022       M         1\n",
       "BUKWO         2022       M         1\n",
       "BUNYANGABU    2022       M         1\n",
       "BUSHENYI      2022       F         1\n",
       "                         M         2\n",
       "BUSIA         2020       M         1\n",
       "              2022       M         2\n",
       "BUTALEJA      2022       F         1\n",
       "BUTAMBALA     2022       F         1\n",
       "                         M         2\n",
       "BUYENDE       2022       M         1\n",
       "GOMBA         2022       M         2\n",
       "GULU          2022       F         1\n",
       "HOIMA         2009       M         1\n",
       "              2022       F         2\n",
       "                         M         5\n",
       "IBANDA        2022       F         4\n",
       "                         M         1\n",
       "IGANGA        2007       F         1\n",
       "              2022       F         2\n",
       "                         M         2\n",
       "ISINGIRO      2022       F         1\n",
       "JINJA         2020       M         1\n",
       "              2022       F         4\n",
       "                         M         3\n",
       "KABALE        2018       M         1\n",
       "              2022       F         2\n",
       "                         M         1\n",
       "KABAROLE      2015       M         1\n",
       "              2022       F         2\n",
       "                         M         1\n",
       "KABERAMAIDO   2022       F         1\n",
       "KAGADI        2022       M         1\n",
       "KALIRO        2022       F         2\n",
       "                         M         1\n",
       "KAMPALA       2011       M         1\n",
       "              2020       M         1\n",
       "              2022       F         5\n",
       "                         M         8\n",
       "KAMULI        2009       M         1\n",
       "              2022       F         1\n",
       "Name: Index No, dtype: int64"
      ]
     },
     "execution_count": 116,
     "metadata": {},
     "output_type": "execute_result"
    }
   ],
   "source": [
    "makData.groupby(['DISTRICT', 'UACE YEAR', 'GENDER'],\n",
    "                sort=True,\n",
    "#               axis=\"columns\"\n",
    "                           )['Index No'].count().head(50)"
   ]
  },
  {
   "cell_type": "code",
   "execution_count": 117,
   "id": "f2976875",
   "metadata": {},
   "outputs": [],
   "source": [
    "lst = [1, 2, 3, 1, 2, 3]\n",
    "s = pd.Series([1, 2, 3, 10, 20, 30], lst)\n",
    "grouped = s.groupby(level=0)"
   ]
  },
  {
   "cell_type": "code",
   "execution_count": 118,
   "id": "7e4fbc08",
   "metadata": {},
   "outputs": [
    {
     "data": {
      "text/plain": [
       "1    1\n",
       "2    2\n",
       "3    3\n",
       "dtype: int64"
      ]
     },
     "execution_count": 118,
     "metadata": {},
     "output_type": "execute_result"
    }
   ],
   "source": [
    "grouped.first()"
   ]
  },
  {
   "cell_type": "code",
   "execution_count": 119,
   "id": "81773364",
   "metadata": {},
   "outputs": [
    {
     "data": {
      "text/plain": [
       "DISTRICT  UACE YEAR  GENDER\n",
       "ABIM      2022       M         U0572/506\n",
       "ADJUMANI  2022       F         U1104/600\n",
       "AGAGO     2022       M         U1224/898\n",
       "BUDAKA    2022       F         U3219/508\n",
       "                     M         U2244/525\n",
       "                                 ...    \n",
       "WAKISO    2017       F         U0923/523\n",
       "          2018       M         U2373/501\n",
       "          2020       F         U0780/559\n",
       "          2022       F         U1224/830\n",
       "                     M         U0034/519\n",
       "Name: Index No, Length: 122, dtype: string"
      ]
     },
     "execution_count": 119,
     "metadata": {},
     "output_type": "execute_result"
    }
   ],
   "source": [
    "# Sorting process consumes processor resources, for potential speedup, \n",
    "# the sorting option can be disabled.\n",
    "makData.groupby(['DISTRICT', 'UACE YEAR', 'GENDER'],\n",
    "                sort=True,\n",
    "#               axis=\"columns\"\n",
    "#                 as_index=False\n",
    "                           )['Index No'].last()"
   ]
  },
  {
   "cell_type": "code",
   "execution_count": 120,
   "id": "7b5507f5",
   "metadata": {},
   "outputs": [
    {
     "data": {
      "text/html": [
       "<div>\n",
       "<style scoped>\n",
       "    .dataframe tbody tr th:only-of-type {\n",
       "        vertical-align: middle;\n",
       "    }\n",
       "\n",
       "    .dataframe tbody tr th {\n",
       "        vertical-align: top;\n",
       "    }\n",
       "\n",
       "    .dataframe thead th {\n",
       "        text-align: right;\n",
       "    }\n",
       "</style>\n",
       "<table border=\"1\" class=\"dataframe\">\n",
       "  <thead>\n",
       "    <tr style=\"text-align: right;\">\n",
       "      <th></th>\n",
       "      <th>Form ID</th>\n",
       "      <th>Index No</th>\n",
       "      <th>NAME</th>\n",
       "      <th>GENDER</th>\n",
       "      <th>UACE YEAR</th>\n",
       "      <th>CODE</th>\n",
       "      <th>DISTRICT</th>\n",
       "      <th>COURSE CODE</th>\n",
       "      <th>COURSE NAME</th>\n",
       "      <th>Total Weight</th>\n",
       "    </tr>\n",
       "  </thead>\n",
       "  <tbody>\n",
       "    <tr>\n",
       "      <th>18</th>\n",
       "      <td>23APF980625096133316</td>\n",
       "      <td>U0737/531</td>\n",
       "      <td>MUDOBYA CHRISTINE</td>\n",
       "      <td>F</td>\n",
       "      <td>2007</td>\n",
       "      <td>10</td>\n",
       "      <td>IGANGA</td>\n",
       "      <td>ACC</td>\n",
       "      <td>BSC. Accounting (EVE)</td>\n",
       "      <td>34.6</td>\n",
       "    </tr>\n",
       "    <tr>\n",
       "      <th>43</th>\n",
       "      <td>23APF271115874132692</td>\n",
       "      <td>U1879/641</td>\n",
       "      <td>NAKIYEMBA PHIONA</td>\n",
       "      <td>F</td>\n",
       "      <td>2022</td>\n",
       "      <td>10</td>\n",
       "      <td>IGANGA</td>\n",
       "      <td>ACC</td>\n",
       "      <td>BSC. Accounting (EVE)</td>\n",
       "      <td>30.3</td>\n",
       "    </tr>\n",
       "    <tr>\n",
       "      <th>56</th>\n",
       "      <td>23APF825010272123233</td>\n",
       "      <td>U0061/552</td>\n",
       "      <td>MUTESI SHADIA</td>\n",
       "      <td>F</td>\n",
       "      <td>2022</td>\n",
       "      <td>10</td>\n",
       "      <td>IGANGA</td>\n",
       "      <td>ACC</td>\n",
       "      <td>BSC. Accounting (EVE)</td>\n",
       "      <td>28.6</td>\n",
       "    </tr>\n",
       "    <tr>\n",
       "      <th>90</th>\n",
       "      <td>23APF1502921010146109</td>\n",
       "      <td>U1525/532</td>\n",
       "      <td>KASADHA NATHAN</td>\n",
       "      <td>M</td>\n",
       "      <td>2022</td>\n",
       "      <td>10</td>\n",
       "      <td>IGANGA</td>\n",
       "      <td>ACC</td>\n",
       "      <td>BSC. Accounting (EVE)</td>\n",
       "      <td>25.0</td>\n",
       "    </tr>\n",
       "    <tr>\n",
       "      <th>128</th>\n",
       "      <td>23APF6816076136686</td>\n",
       "      <td>U0812/509</td>\n",
       "      <td>KASADHA AUSI</td>\n",
       "      <td>M</td>\n",
       "      <td>2022</td>\n",
       "      <td>10</td>\n",
       "      <td>IGANGA</td>\n",
       "      <td>ACC</td>\n",
       "      <td>BSC. Accounting (EVE)</td>\n",
       "      <td>19.9</td>\n",
       "    </tr>\n",
       "  </tbody>\n",
       "</table>\n",
       "</div>"
      ],
      "text/plain": [
       "                   Form ID   Index No               NAME GENDER UACE YEAR  \\\n",
       "18    23APF980625096133316  U0737/531  MUDOBYA CHRISTINE      F      2007   \n",
       "43    23APF271115874132692  U1879/641   NAKIYEMBA PHIONA      F      2022   \n",
       "56    23APF825010272123233  U0061/552      MUTESI SHADIA      F      2022   \n",
       "90   23APF1502921010146109  U1525/532     KASADHA NATHAN      M      2022   \n",
       "128     23APF6816076136686  U0812/509       KASADHA AUSI      M      2022   \n",
       "\n",
       "    CODE DISTRICT COURSE CODE            COURSE NAME  Total Weight  \n",
       "18    10   IGANGA         ACC  BSC. Accounting (EVE)          34.6  \n",
       "43    10   IGANGA         ACC  BSC. Accounting (EVE)          30.3  \n",
       "56    10   IGANGA         ACC  BSC. Accounting (EVE)          28.6  \n",
       "90    10   IGANGA         ACC  BSC. Accounting (EVE)          25.0  \n",
       "128   10   IGANGA         ACC  BSC. Accounting (EVE)          19.9  "
      ]
     },
     "execution_count": 120,
     "metadata": {},
     "output_type": "execute_result"
    }
   ],
   "source": [
    "# Getting admitted Students from IGANGA district\n",
    "makData.groupby([\"DISTRICT\"]).get_group('IGANGA')"
   ]
  },
  {
   "cell_type": "code",
   "execution_count": 122,
   "id": "1c0ea260",
   "metadata": {},
   "outputs": [
    {
     "data": {
      "text/plain": [
       "DISTRICT\n",
       "ABIM        1\n",
       "ADJUMANI    1\n",
       "AGAGO       1\n",
       "BUDAKA      1\n",
       "BUGIRI      1\n",
       "           ..\n",
       "SHEEMA      1\n",
       "SIRONKO     1\n",
       "SOROTI      1\n",
       "TORORO      1\n",
       "WAKISO      5\n",
       "Name: UACE YEAR, Length: 73, dtype: int64"
      ]
     },
     "execution_count": 122,
     "metadata": {},
     "output_type": "execute_result"
    }
   ],
   "source": [
    "# This returns unique year counts for each district\n",
    "makData.groupby(\"DISTRICT\")['UACE YEAR'].nunique()"
   ]
  },
  {
   "cell_type": "code",
   "execution_count": 123,
   "id": "d380c077",
   "metadata": {},
   "outputs": [
    {
     "data": {
      "text/plain": [
       "DISTRICT  GENDER  UACE YEAR\n",
       "ABIM      M       2022          1\n",
       "ADJUMANI  F       2022          1\n",
       "AGAGO     M       2022          1\n",
       "BUDAKA    F       2022          1\n",
       "          M       2022          1\n",
       "                               ..\n",
       "WAKISO    F       2020          1\n",
       "                  2022         20\n",
       "          M       2016          1\n",
       "                  2018          1\n",
       "                  2022         11\n",
       "Name: UACE YEAR, Length: 122, dtype: int64"
      ]
     },
     "execution_count": 123,
     "metadata": {},
     "output_type": "execute_result"
    }
   ],
   "source": [
    "makData.groupby(['DISTRICT', 'GENDER', 'UACE YEAR']\n",
    "#                 ,as_index=False\n",
    "               )['UACE YEAR'].agg('count')"
   ]
  },
  {
   "cell_type": "code",
   "execution_count": 124,
   "id": "61f64a0c",
   "metadata": {},
   "outputs": [],
   "source": [
    "def get_school_indexNo(studentIndex):\n",
    "    return str(studentIndex)[:5]"
   ]
  },
  {
   "cell_type": "code",
   "execution_count": 212,
   "id": "abde207f",
   "metadata": {},
   "outputs": [],
   "source": [
    "# This adds a column named 'School Index' computed from student Index Number\n",
    "makData['School Index'] = makData['Index No'].apply(get_school_indexNo)"
   ]
  },
  {
   "cell_type": "code",
   "execution_count": 254,
   "id": "b9f61a79",
   "metadata": {},
   "outputs": [
    {
     "data": {
      "text/plain": [
       "DISTRICT  School Index  UACE YEAR  GENDER\n",
       "TORORO    U0956         2022       F         1\n",
       "          U1104         2022       F         1\n",
       "          U1915         2022       M         1\n",
       "WAKISO    U0013         2022       F         1\n",
       "          U0030         2022       F         1\n",
       "          U0034         2022       M         1\n",
       "          U0053         2022       M         1\n",
       "          U0060         2022       F         2\n",
       "          U0190         2022       M         1\n",
       "          U0200         2022       F         1\n",
       "          U0334         2022       F         1\n",
       "          U0458         2022       F         1\n",
       "          U0645         2022       F         1\n",
       "          U0714         2022       F         1\n",
       "          U0780         2020       F         1\n",
       "          U0852         2022       M         3\n",
       "          U0857         2022       F         1\n",
       "          U0884         2022       M         1\n",
       "          U0923         2017       F         1\n",
       "          U1144         2022       F         1\n",
       "          U1224         2022       F         1\n",
       "          U1249         2016       M         1\n",
       "          U1501         2022       F         1\n",
       "          U1542         2022       M         1\n",
       "          U1783         2022       F         1\n",
       "          U1979         2022       F         1\n",
       "          U2177         2022       M         1\n",
       "          U2236         2022       F         1\n",
       "          U2245         2022       F         1\n",
       "          U2373         2018       M         1\n",
       "          U2431         2022       M         1\n",
       "          U2546         2022       F         1\n",
       "          U2789         2022       F         1\n",
       "          U3002         2022       F         1\n",
       "          U3681         2022       M         1\n",
       "Name: GENDER, dtype: int64"
      ]
     },
     "execution_count": 254,
     "metadata": {},
     "output_type": "execute_result"
    }
   ],
   "source": [
    "# Group by district, school Index, UACE year, Gender and return count for data\n",
    "makData.groupby(['DISTRICT', 'School Index', 'UACE YEAR', 'GENDER'])['GENDER'].count().tail(35)"
   ]
  },
  {
   "cell_type": "code",
   "execution_count": 314,
   "id": "8d850839",
   "metadata": {},
   "outputs": [],
   "source": [
    "# Regions\n",
    "def get_region(district):\n",
    "    for regions_names, districts in regions.items():\n",
    "        if district in regions[regions_names]:\n",
    "            return regions_names"
   ]
  },
  {
   "cell_type": "code",
   "execution_count": 321,
   "id": "384df591",
   "metadata": {},
   "outputs": [],
   "source": [
    "# Data table with regions\n",
    "makData['REGION'] = makData['DISTRICT'].apply(get_region)"
   ]
  },
  {
   "cell_type": "code",
   "execution_count": 353,
   "id": "e20c9036",
   "metadata": {},
   "outputs": [
    {
     "data": {
      "text/plain": [
       "REGION   DISTRICT   School Index  GENDER\n",
       "Central  BUIKWE     U0174         M         2\n",
       "                    U1535         F         1\n",
       "         BUTAMBALA  U0077         F         1\n",
       "                    U0459         M         1\n",
       "                    U1969         M         1\n",
       "                                           ..\n",
       "Western  RUKUNGIRI  U2929         M         1\n",
       "         SHEEMA     U0140         F         1\n",
       "                    U0245         F         1\n",
       "                    U0896         F         1\n",
       "                    U2055         M         1\n",
       "Name: NAME, Length: 200, dtype: int64"
      ]
     },
     "execution_count": 353,
     "metadata": {},
     "output_type": "execute_result"
    }
   ],
   "source": [
    "makData.groupby(['REGION', 'DISTRICT', 'School Index', 'GENDER'])['NAME'].count()"
   ]
  },
  {
   "cell_type": "code",
   "execution_count": 354,
   "id": "6e05126d",
   "metadata": {},
   "outputs": [
    {
     "data": {
      "text/plain": [
       "REGION\n",
       "Central     94\n",
       "Eastern     49\n",
       "Northern    10\n",
       "Western     52\n",
       "Name: DISTRICT, dtype: int64"
      ]
     },
     "execution_count": 354,
     "metadata": {},
     "output_type": "execute_result"
    }
   ],
   "source": [
    "# counts of admissions per region\n",
    "makData.groupby('REGION')['DISTRICT'].count()"
   ]
  },
  {
   "cell_type": "code",
   "execution_count": 367,
   "id": "7c71ec7e",
   "metadata": {},
   "outputs": [
    {
     "data": {
      "text/plain": [
       "REGION   DISTRICT   COURSE NAME                        \n",
       "Central  BUIKWE     B.Business Administration(Jinja)       27.60\n",
       "                    BSC. Accounting (EVE)                  27.00\n",
       "                    Bachelor of Business Administration    43.30\n",
       "         BUTAMBALA  BSC. Accounting (EVE)                  31.15\n",
       "                    Bachelor of Business Administration    43.70\n",
       "                                                           ...  \n",
       "Western  MITOOMA    BSC. Accounting (EVE)                  23.25\n",
       "         NTUNGAMO   BSC. Accounting (EVE)                  19.15\n",
       "         RUKUNGIRI  BSC. Accounting (EVE)                  37.90\n",
       "                    Bachelor of Business Administration    50.40\n",
       "         SHEEMA     BSC. Accounting (EVE)                  24.50\n",
       "Name: Total Weight, Length: 95, dtype: float64"
      ]
     },
     "execution_count": 367,
     "metadata": {},
     "output_type": "execute_result"
    }
   ],
   "source": [
    "# mean weight by district per course Name\n",
    "makData.groupby(['REGION', 'DISTRICT', 'COURSE NAME'])['Total Weight'].agg('mean')"
   ]
  }
 ],
 "metadata": {
  "kernelspec": {
   "display_name": "Python 3 (ipykernel)",
   "language": "python",
   "name": "python3"
  },
  "language_info": {
   "codemirror_mode": {
    "name": "ipython",
    "version": 3
   },
   "file_extension": ".py",
   "mimetype": "text/x-python",
   "name": "python",
   "nbconvert_exporter": "python",
   "pygments_lexer": "ipython3",
   "version": "3.10.11"
  }
 },
 "nbformat": 4,
 "nbformat_minor": 5
}
