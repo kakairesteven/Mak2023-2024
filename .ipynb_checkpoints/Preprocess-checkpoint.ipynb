{
 "cells": [
  {
   "cell_type": "code",
   "execution_count": 10,
   "id": "4de1dcab",
   "metadata": {},
   "outputs": [],
   "source": [
    "import pandas as pd\n",
    "import numpy as np\n",
    "from random import randint\n",
    "import yaml\n",
    "import tabula"
   ]
  },
  {
   "cell_type": "code",
   "execution_count": 11,
   "id": "72e00266",
   "metadata": {},
   "outputs": [
    {
     "name": "stderr",
     "output_type": "stream",
     "text": [
      "D:\\Novel\\Data\\Python\\DataAnalysis\\DataAnalysisVenv\\Lib\\site-packages\\tabula\\io.py:1045: FutureWarning: errors='ignore' is deprecated and will raise in a future version. Use to_numeric without passing `errors` and catch exceptions explicitly instead\n",
      "  df[c] = pd.to_numeric(df[c], errors=\"ignore\")\n"
     ]
    }
   ],
   "source": [
    "mak23 = tabula.read_pdf(\"examples/Mak2023-2024.pdf\", pages=\"all\")"
   ]
  },
  {
   "cell_type": "code",
   "execution_count": 13,
   "id": "6738ea4a-84d6-488c-acae-5d059bea7556",
   "metadata": {},
   "outputs": [],
   "source": [
    "with open('preprocessingConfig.yml', 'r') as file:\n",
    "    config = yaml.safe_load(file)"
   ]
  },
  {
   "cell_type": "code",
   "execution_count": 14,
   "id": "9c1cc488-136c-450c-9ba5-d65f7eb29beb",
   "metadata": {},
   "outputs": [],
   "source": [
    "columnNames = config['general']['columnNames']\n",
    "columnNames2 = config['general']['columnNames2']"
   ]
  },
  {
   "cell_type": "code",
   "execution_count": 15,
   "id": "c76cf4c2-fbae-431a-b9ab-7022625fa78c",
   "metadata": {},
   "outputs": [],
   "source": [
    "def instTest(x):\n",
    "    try: \n",
    "        if isinstance(float(x), float):\n",
    "            return True\n",
    "    except ValueError:\n",
    "        return False"
   ]
  },
  {
   "cell_type": "code",
   "execution_count": 16,
   "id": "b0d6928d-deaf-4e76-ba5d-d9e355af9e34",
   "metadata": {},
   "outputs": [],
   "source": [
    "# Function to extract data from data2\n",
    "def dataProcess(n):\n",
    "#     if n >= 1:\n",
    "    studentData = data[n].split()\n",
    "    # print(\"Student Data: \", studentData)\n",
    "    index_no = studentData[0]\n",
    "    name = \" \".join(studentData[1:-7])[:-1]\n",
    "    gender = studentData[-8][-1]\n",
    "    UACE_YEAR = int(studentData[-7])\n",
    "    DistrictCode = int(studentData[-6])\n",
    "    District = studentData[-5]\n",
    "    CourseCode = studentData[-4]\n",
    "    Course = ' '.join(studentData[-3:])\n",
    "    return [index_no, name, gender, UACE_YEAR,\n",
    "            DistrictCode, District, CourseCode, Course]\n",
    "\n",
    "# Get studentData\n",
    "def getStudentData(data):\n",
    "    studentList = []\n",
    "    for x in range(len(data)):\n",
    "    #     if i > 0:\n",
    "        student = dataProcess(x)\n",
    "        studentList.append(student)\n",
    "    # print(studentList)\n",
    "    return studentList\n",
    "\n",
    "# final df\n",
    "def getFinalDf(pdf_read):\n",
    "    df = pd.DataFrame(columns=columnNames2, data=[])\n",
    "    for i in range(len(pdf_read)):\n",
    "        df = pd.concat([df, getDf(i)], ignore_index=True)\n",
    "    return df"
   ]
  },
  {
   "cell_type": "code",
   "execution_count": 218,
   "id": "ddcbcc69-247b-4c1c-bb21-c3dc57b0aa57",
   "metadata": {},
   "outputs": [],
   "source": [
    "def getDf():\n",
    "    # i = randint(0, len(mak23)-1)\n",
    "    i = 0\n",
    "    print(i)\n",
    "\n",
    "    # First column is a common to all, drop it\n",
    "    df = mak23[i]\n",
    "    # print(df.head(5))\n",
    "    \n",
    "    columns = df.columns\n",
    "    # print(\"columns: \", columns)\n",
    "    df = df.drop(columns[0], axis=1)\n",
    "    # print(df.head(10))\n",
    "\n",
    "    # Drop columns with nan values\n",
    "    print(\"columns before dropping nan-columns: \", df.shape[1])\n",
    "    df = df.dropna(axis=1,\n",
    "                   # thresh=3,\n",
    "                   how=\"all\",\n",
    "                  )\n",
    "    print(\"columns after dropping: \", df.shape[1])\n",
    "\n",
    "    # drop rows with nan if they exist\n",
    "    print(\"Rows before dropping: \", df.shape[0])\n",
    "    df = df.dropna(axis=0,\n",
    "                   # how=\"any\",\n",
    "                   thresh=3,\n",
    "                  )\n",
    "\n",
    "    # Drop rows for which Tot_wt is not float\n",
    "    df = df[df[columns[-1]] != \"Tot_wt\"]\n",
    "    print(\"Weights: \", df[columns[-1]])\n",
    "    print(df.shape)\n",
    "    columns = df.columns\n",
    "    # print(columns)\n",
    "    if len(columns) == 3:        \n",
    "        \n",
    "        # print(df.head(2))\n",
    "        data = df[columns[1]].tolist()\n",
    "        # if i == 0:\n",
    "        #     data = data[1:]\n",
    "\n",
    "        # print(data[:4])\n",
    "        # data = df[columns.tolist()[1]].split()\n",
    "        # print(df[df.columns[-1]])\n",
    "\n",
    "        appData = df[df.columns[0]].tolist()\n",
    "        Tot_weights = df[df.columns[-1]].tolist()\n",
    "        # print(\"Length of Tot_weights: \", len(Tot_weights))\n",
    "        # print(\"Samples of Tot_weights\")\n",
    "        # print(Tot_weights)\n",
    "        \n",
    "        temp = getStudentData(data)\n",
    "        df = pd.DataFrame(columns=columnNames, data=temp)\n",
    "        # print(\"Number of columns: \", df.shape)\n",
    "        # print(\"Shape of temp: \", len(temp))\n",
    "        # insert columns at last position\n",
    "        df.insert(loc=len(df.columns),\n",
    "                  column=\"TOTAL WEIGHT\",\n",
    "                  value=Tot_weights,\n",
    "                 )\n",
    "        df.insert(loc=0,\n",
    "                  column=\"APPLICATION NO\",\n",
    "                  value=appData,\n",
    "                 )\n",
    "        # insert Appplication number column\n",
    "        appNoData = mak23[i].loc[0]\n",
    "        return df\n",
    "    if len(df.columns) == 10:\n",
    "        df = df[df[columns[-1]] != \"Tot_wt\"]\n",
    "        # Rename columns\n",
    "        columns = df.columns\n",
    "        df = df.rename(columns={columns[x]:columnNames2[x] for x in range(len(columns))})\n",
    "        return df"
   ]
  },
  {
   "cell_type": "code",
   "execution_count": 20,
   "id": "71a750cf-c7cf-4c90-be21-54439c0674cc",
   "metadata": {},
   "outputs": [],
   "source": [
    "# getFinalDf(mak23)"
   ]
  },
  {
   "cell_type": "code",
   "execution_count": 219,
   "id": "2ee46351-1cbe-46ac-992d-59f5d9852f26",
   "metadata": {},
   "outputs": [
    {
     "name": "stdout",
     "output_type": "stream",
     "text": [
      "0\n",
      "              Unnamed: 1                                 MAKERERE UIVERSITY  \\\n",
      "0                    NaN                   ACADEMIC REGISTRAR'S  DEPARTMENT   \n",
      "1                    NaN  ADMITTED APPLICANTS FOR PRIVATE SPONSORSHIP FO...   \n",
      "2                    NaN                              BSC. Accounting (EVE)   \n",
      "3                 formid  Index_no name gender uace_yr code District cou...   \n",
      "4                    NaN                                               code   \n",
      "5   23APF412304454141015  U0391/673 LUKABWE DOUGLAS MARKM 2022 42 MUKONO...   \n",
      "6   23APF345674424112360  U1249/532 LULE ISAACM 2022 40 MPIGI ACC BSC. A...   \n",
      "7  23APF1361730063122187  U0459/676 HAULAH SULAIT BIIRAF 2022 21 KASESE ...   \n",
      "8   23APF519647933132646  U1611/887 NAMBALYE EVELYNEF 2022 33 MASAKA ACC...   \n",
      "9  23APF1481620160129238  U0083/555 KEMIGISHA  RUSIAF 2022 65 IBANDA ACC...   \n",
      "\n",
      "  Unnamed: 2  \n",
      "0        NaN  \n",
      "1        NaN  \n",
      "2        NaN  \n",
      "3     Tot_wt  \n",
      "4        NaN  \n",
      "5       42.2  \n",
      "6       41.1  \n",
      "7       40.6  \n",
      "8       38.8  \n",
      "9       38.4  \n"
     ]
    },
    {
     "ename": "NameError",
     "evalue": "name 'data' is not defined",
     "output_type": "error",
     "traceback": [
      "\u001b[1;31m---------------------------------------------------------------------------\u001b[0m",
      "\u001b[1;31mNameError\u001b[0m                                 Traceback (most recent call last)",
      "Cell \u001b[1;32mIn[219], line 1\u001b[0m\n\u001b[1;32m----> 1\u001b[0m \u001b[43mgetDf\u001b[49m\u001b[43m(\u001b[49m\u001b[43m)\u001b[49m\n",
      "Cell \u001b[1;32mIn[218], line 53\u001b[0m, in \u001b[0;36mgetDf\u001b[1;34m()\u001b[0m\n\u001b[0;32m     48\u001b[0m Tot_weights \u001b[38;5;241m=\u001b[39m df[df\u001b[38;5;241m.\u001b[39mcolumns[\u001b[38;5;241m-\u001b[39m\u001b[38;5;241m1\u001b[39m]]\u001b[38;5;241m.\u001b[39mtolist()\n\u001b[0;32m     49\u001b[0m \u001b[38;5;66;03m# print(\"Length of Tot_weights: \", len(Tot_weights))\u001b[39;00m\n\u001b[0;32m     50\u001b[0m \u001b[38;5;66;03m# print(\"Samples of Tot_weights\")\u001b[39;00m\n\u001b[0;32m     51\u001b[0m \u001b[38;5;66;03m# print(Tot_weights)\u001b[39;00m\n\u001b[1;32m---> 53\u001b[0m temp \u001b[38;5;241m=\u001b[39m \u001b[43mgetStudentData\u001b[49m\u001b[43m(\u001b[49m\u001b[43mdata\u001b[49m\u001b[43m)\u001b[49m\n\u001b[0;32m     54\u001b[0m df \u001b[38;5;241m=\u001b[39m pd\u001b[38;5;241m.\u001b[39mDataFrame(columns\u001b[38;5;241m=\u001b[39mcolumnNames, data\u001b[38;5;241m=\u001b[39mtemp)\n\u001b[0;32m     55\u001b[0m \u001b[38;5;66;03m# print(\"Number of columns: \", df.shape)\u001b[39;00m\n\u001b[0;32m     56\u001b[0m \u001b[38;5;66;03m# print(\"Shape of temp: \", len(temp))\u001b[39;00m\n\u001b[0;32m     57\u001b[0m \u001b[38;5;66;03m# insert columns at last position\u001b[39;00m\n",
      "Cell \u001b[1;32mIn[16], line 22\u001b[0m, in \u001b[0;36mgetStudentData\u001b[1;34m(data)\u001b[0m\n\u001b[0;32m     19\u001b[0m studentList \u001b[38;5;241m=\u001b[39m []\n\u001b[0;32m     20\u001b[0m \u001b[38;5;28;01mfor\u001b[39;00m x \u001b[38;5;129;01min\u001b[39;00m \u001b[38;5;28mrange\u001b[39m(\u001b[38;5;28mlen\u001b[39m(data)):\n\u001b[0;32m     21\u001b[0m \u001b[38;5;66;03m#     if i > 0:\u001b[39;00m\n\u001b[1;32m---> 22\u001b[0m     student \u001b[38;5;241m=\u001b[39m \u001b[43mdataProcess\u001b[49m\u001b[43m(\u001b[49m\u001b[43mx\u001b[49m\u001b[43m)\u001b[49m\n\u001b[0;32m     23\u001b[0m     studentList\u001b[38;5;241m.\u001b[39mappend(student)\n\u001b[0;32m     24\u001b[0m \u001b[38;5;66;03m# print(studentList)\u001b[39;00m\n",
      "Cell \u001b[1;32mIn[16], line 4\u001b[0m, in \u001b[0;36mdataProcess\u001b[1;34m(n)\u001b[0m\n\u001b[0;32m      2\u001b[0m \u001b[38;5;28;01mdef\u001b[39;00m \u001b[38;5;21mdataProcess\u001b[39m(n):\n\u001b[0;32m      3\u001b[0m \u001b[38;5;66;03m#     if n >= 1:\u001b[39;00m\n\u001b[1;32m----> 4\u001b[0m     studentData \u001b[38;5;241m=\u001b[39m \u001b[43mdata\u001b[49m[n]\u001b[38;5;241m.\u001b[39msplit()\n\u001b[0;32m      5\u001b[0m     \u001b[38;5;66;03m# print(\"Student Data: \", studentData)\u001b[39;00m\n\u001b[0;32m      6\u001b[0m     index_no \u001b[38;5;241m=\u001b[39m studentData[\u001b[38;5;241m0\u001b[39m]\n",
      "\u001b[1;31mNameError\u001b[0m: name 'data' is not defined"
     ]
    }
   ],
   "source": [
    "getDf()"
   ]
  },
  {
   "cell_type": "code",
   "execution_count": null,
   "id": "4fe79d7e-0751-4ded-ad44-22493449bcee",
   "metadata": {},
   "outputs": [],
   "source": []
  }
 ],
 "metadata": {
  "kernelspec": {
   "display_name": "Python 3 (ipykernel)",
   "language": "python",
   "name": "python3"
  },
  "language_info": {
   "codemirror_mode": {
    "name": "ipython",
    "version": 3
   },
   "file_extension": ".py",
   "mimetype": "text/x-python",
   "name": "python",
   "nbconvert_exporter": "python",
   "pygments_lexer": "ipython3",
   "version": "3.12.3"
  }
 },
 "nbformat": 4,
 "nbformat_minor": 5
}
