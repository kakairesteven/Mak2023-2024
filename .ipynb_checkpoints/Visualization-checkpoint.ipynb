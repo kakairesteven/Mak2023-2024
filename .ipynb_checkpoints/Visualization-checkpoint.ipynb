{
 "cells": [
  {
   "cell_type": "code",
   "execution_count": 1,
   "id": "370ed782",
   "metadata": {},
   "outputs": [],
   "source": [
    "# In this notebook, I explore different data visualization techniques"
   ]
  },
  {
   "cell_type": "code",
   "execution_count": 2,
   "id": "b9d0db60",
   "metadata": {},
   "outputs": [],
   "source": [
    "# import dependencies\n",
    "import numpy as np\n",
    "import pandas as pd\n",
    "import matplotlib.pyplot as plt\n",
    "import seaborn as sns\n",
    "%matplotlib inline"
   ]
  },
  {
   "cell_type": "code",
   "execution_count": 3,
   "id": "aa3b5ca9",
   "metadata": {},
   "outputs": [],
   "source": [
    "# Read finalDf\n",
    "# Without index_column zero, an index column is added\n",
    "data = pd.read_csv(\"preprocessed/finalDataV1.csv\", index_col=0)"
   ]
  },
  {
   "cell_type": "code",
   "execution_count": 4,
   "id": "ed2821ef",
   "metadata": {},
   "outputs": [
    {
     "data": {
      "text/html": [
       "<div>\n",
       "<style scoped>\n",
       "    .dataframe tbody tr th:only-of-type {\n",
       "        vertical-align: middle;\n",
       "    }\n",
       "\n",
       "    .dataframe tbody tr th {\n",
       "        vertical-align: top;\n",
       "    }\n",
       "\n",
       "    .dataframe thead th {\n",
       "        text-align: right;\n",
       "    }\n",
       "</style>\n",
       "<table border=\"1\" class=\"dataframe\">\n",
       "  <thead>\n",
       "    <tr style=\"text-align: right;\">\n",
       "      <th></th>\n",
       "      <th>Form ID</th>\n",
       "      <th>Index No</th>\n",
       "      <th>NAME</th>\n",
       "      <th>GENDER</th>\n",
       "      <th>UACE YEAR</th>\n",
       "      <th>CODE</th>\n",
       "      <th>DISTRICT</th>\n",
       "      <th>COURSE CODE</th>\n",
       "      <th>COURSE NAME</th>\n",
       "      <th>Total Weight</th>\n",
       "    </tr>\n",
       "  </thead>\n",
       "  <tbody>\n",
       "    <tr>\n",
       "      <th>0</th>\n",
       "      <td>23APF412304454141015</td>\n",
       "      <td>U0391/673</td>\n",
       "      <td>LUKABWE DOUGLAS MARK</td>\n",
       "      <td>M</td>\n",
       "      <td>2022</td>\n",
       "      <td>42</td>\n",
       "      <td>MUKONO</td>\n",
       "      <td>ACC</td>\n",
       "      <td>BSC. Accounting (EVE)</td>\n",
       "      <td>42.2</td>\n",
       "    </tr>\n",
       "    <tr>\n",
       "      <th>1</th>\n",
       "      <td>23APF345674424112360</td>\n",
       "      <td>U1249/532</td>\n",
       "      <td>LULE ISAAC</td>\n",
       "      <td>M</td>\n",
       "      <td>2022</td>\n",
       "      <td>40</td>\n",
       "      <td>MPIGI</td>\n",
       "      <td>ACC</td>\n",
       "      <td>BSC. Accounting (EVE)</td>\n",
       "      <td>41.1</td>\n",
       "    </tr>\n",
       "    <tr>\n",
       "      <th>2</th>\n",
       "      <td>23APF1361730063122187</td>\n",
       "      <td>U0459/676</td>\n",
       "      <td>HAULAH SULAIT BIIRA</td>\n",
       "      <td>F</td>\n",
       "      <td>2022</td>\n",
       "      <td>21</td>\n",
       "      <td>KASESE</td>\n",
       "      <td>ACC</td>\n",
       "      <td>BSC. Accounting (EVE)</td>\n",
       "      <td>40.6</td>\n",
       "    </tr>\n",
       "    <tr>\n",
       "      <th>3</th>\n",
       "      <td>23APF519647933132646</td>\n",
       "      <td>U1611/887</td>\n",
       "      <td>NAMBALYE EVELYNE</td>\n",
       "      <td>F</td>\n",
       "      <td>2022</td>\n",
       "      <td>33</td>\n",
       "      <td>MASAKA</td>\n",
       "      <td>ACC</td>\n",
       "      <td>BSC. Accounting (EVE)</td>\n",
       "      <td>38.8</td>\n",
       "    </tr>\n",
       "    <tr>\n",
       "      <th>4</th>\n",
       "      <td>23APF1481620160129238</td>\n",
       "      <td>U0083/555</td>\n",
       "      <td>KEMIGISHA RUSIA</td>\n",
       "      <td>F</td>\n",
       "      <td>2022</td>\n",
       "      <td>65</td>\n",
       "      <td>IBANDA</td>\n",
       "      <td>ACC</td>\n",
       "      <td>BSC. Accounting (EVE)</td>\n",
       "      <td>38.4</td>\n",
       "    </tr>\n",
       "    <tr>\n",
       "      <th>...</th>\n",
       "      <td>...</td>\n",
       "      <td>...</td>\n",
       "      <td>...</td>\n",
       "      <td>...</td>\n",
       "      <td>...</td>\n",
       "      <td>...</td>\n",
       "      <td>...</td>\n",
       "      <td>...</td>\n",
       "      <td>...</td>\n",
       "      <td>...</td>\n",
       "    </tr>\n",
       "    <tr>\n",
       "      <th>222</th>\n",
       "      <td>23APF1674647943113045</td>\n",
       "      <td>U2789/769</td>\n",
       "      <td>MAFABI  EDGAR</td>\n",
       "      <td>M</td>\n",
       "      <td>2022</td>\n",
       "      <td>52</td>\n",
       "      <td>SIRONKO</td>\n",
       "      <td>ADM</td>\n",
       "      <td>Bachelor of Business Administration</td>\n",
       "      <td>42.7</td>\n",
       "    </tr>\n",
       "    <tr>\n",
       "      <th>223</th>\n",
       "      <td>23APF1553004744147784</td>\n",
       "      <td>U0009/541</td>\n",
       "      <td>KEMIGISHA SHANITAH</td>\n",
       "      <td>F</td>\n",
       "      <td>2022</td>\n",
       "      <td>6</td>\n",
       "      <td>BUSHENYI</td>\n",
       "      <td>ADM</td>\n",
       "      <td>Bachelor of Business Administration</td>\n",
       "      <td>42.6</td>\n",
       "    </tr>\n",
       "    <tr>\n",
       "      <th>224</th>\n",
       "      <td>23APF1425422752115622</td>\n",
       "      <td>U4144/507</td>\n",
       "      <td>NAKITANDWE SHARON</td>\n",
       "      <td>F</td>\n",
       "      <td>2022</td>\n",
       "      <td>71</td>\n",
       "      <td>KALIRO</td>\n",
       "      <td>ADM</td>\n",
       "      <td>Bachelor of Business Administration</td>\n",
       "      <td>42.6</td>\n",
       "    </tr>\n",
       "    <tr>\n",
       "      <th>225</th>\n",
       "      <td>23APF1269085013144231</td>\n",
       "      <td>U0060/511</td>\n",
       "      <td>BAGAYA SHELDYNE WINYI</td>\n",
       "      <td>F</td>\n",
       "      <td>2022</td>\n",
       "      <td>9</td>\n",
       "      <td>HOIMA</td>\n",
       "      <td>ADM</td>\n",
       "      <td>Bachelor of Business Administration</td>\n",
       "      <td>42.6</td>\n",
       "    </tr>\n",
       "    <tr>\n",
       "      <th>226</th>\n",
       "      <td>23APF192601537128082</td>\n",
       "      <td>U0083/547</td>\n",
       "      <td>CYNTHIA PRAISE</td>\n",
       "      <td>F</td>\n",
       "      <td>2022</td>\n",
       "      <td>21</td>\n",
       "      <td>KASESE</td>\n",
       "      <td>ADM</td>\n",
       "      <td>Bachelor of Business Administration</td>\n",
       "      <td>42.6</td>\n",
       "    </tr>\n",
       "  </tbody>\n",
       "</table>\n",
       "<p>224 rows × 10 columns</p>\n",
       "</div>"
      ],
      "text/plain": [
       "                   Form ID   Index No                   NAME GENDER UACE YEAR  \\\n",
       "0     23APF412304454141015  U0391/673   LUKABWE DOUGLAS MARK      M      2022   \n",
       "1     23APF345674424112360  U1249/532             LULE ISAAC      M      2022   \n",
       "2    23APF1361730063122187  U0459/676    HAULAH SULAIT BIIRA      F      2022   \n",
       "3     23APF519647933132646  U1611/887       NAMBALYE EVELYNE      F      2022   \n",
       "4    23APF1481620160129238  U0083/555        KEMIGISHA RUSIA      F      2022   \n",
       "..                     ...        ...                    ...    ...       ...   \n",
       "222  23APF1674647943113045  U2789/769          MAFABI  EDGAR      M      2022   \n",
       "223  23APF1553004744147784  U0009/541     KEMIGISHA SHANITAH      F      2022   \n",
       "224  23APF1425422752115622  U4144/507      NAKITANDWE SHARON      F      2022   \n",
       "225  23APF1269085013144231  U0060/511  BAGAYA SHELDYNE WINYI      F      2022   \n",
       "226   23APF192601537128082  U0083/547         CYNTHIA PRAISE      F      2022   \n",
       "\n",
       "    CODE  DISTRICT COURSE CODE                          COURSE NAME  \\\n",
       "0     42    MUKONO         ACC                BSC. Accounting (EVE)   \n",
       "1     40     MPIGI         ACC                BSC. Accounting (EVE)   \n",
       "2     21    KASESE         ACC                BSC. Accounting (EVE)   \n",
       "3     33    MASAKA         ACC                BSC. Accounting (EVE)   \n",
       "4     65    IBANDA         ACC                BSC. Accounting (EVE)   \n",
       "..   ...       ...         ...                                  ...   \n",
       "222   52   SIRONKO         ADM  Bachelor of Business Administration   \n",
       "223    6  BUSHENYI         ADM  Bachelor of Business Administration   \n",
       "224   71    KALIRO         ADM  Bachelor of Business Administration   \n",
       "225    9     HOIMA         ADM  Bachelor of Business Administration   \n",
       "226   21    KASESE         ADM  Bachelor of Business Administration   \n",
       "\n",
       "    Total Weight  \n",
       "0           42.2  \n",
       "1           41.1  \n",
       "2           40.6  \n",
       "3           38.8  \n",
       "4           38.4  \n",
       "..           ...  \n",
       "222         42.7  \n",
       "223         42.6  \n",
       "224         42.6  \n",
       "225         42.6  \n",
       "226         42.6  \n",
       "\n",
       "[224 rows x 10 columns]"
      ]
     },
     "execution_count": 4,
     "metadata": {},
     "output_type": "execute_result"
    }
   ],
   "source": [
    "data.dropna()"
   ]
  },
  {
   "cell_type": "code",
   "execution_count": 5,
   "id": "b8d0ff9e",
   "metadata": {},
   "outputs": [
    {
     "data": {
      "text/html": [
       "<div>\n",
       "<style scoped>\n",
       "    .dataframe tbody tr th:only-of-type {\n",
       "        vertical-align: middle;\n",
       "    }\n",
       "\n",
       "    .dataframe tbody tr th {\n",
       "        vertical-align: top;\n",
       "    }\n",
       "\n",
       "    .dataframe thead th {\n",
       "        text-align: right;\n",
       "    }\n",
       "</style>\n",
       "<table border=\"1\" class=\"dataframe\">\n",
       "  <thead>\n",
       "    <tr style=\"text-align: right;\">\n",
       "      <th></th>\n",
       "      <th>Form ID</th>\n",
       "      <th>Index No</th>\n",
       "      <th>NAME</th>\n",
       "      <th>GENDER</th>\n",
       "      <th>UACE YEAR</th>\n",
       "      <th>CODE</th>\n",
       "      <th>DISTRICT</th>\n",
       "      <th>COURSE CODE</th>\n",
       "      <th>COURSE NAME</th>\n",
       "      <th>Total Weight</th>\n",
       "    </tr>\n",
       "  </thead>\n",
       "  <tbody>\n",
       "    <tr>\n",
       "      <th>0</th>\n",
       "      <td>23APF412304454141015</td>\n",
       "      <td>U0391/673</td>\n",
       "      <td>LUKABWE DOUGLAS MARK</td>\n",
       "      <td>M</td>\n",
       "      <td>2022</td>\n",
       "      <td>42</td>\n",
       "      <td>MUKONO</td>\n",
       "      <td>ACC</td>\n",
       "      <td>BSC. Accounting (EVE)</td>\n",
       "      <td>42.2</td>\n",
       "    </tr>\n",
       "    <tr>\n",
       "      <th>1</th>\n",
       "      <td>23APF345674424112360</td>\n",
       "      <td>U1249/532</td>\n",
       "      <td>LULE ISAAC</td>\n",
       "      <td>M</td>\n",
       "      <td>2022</td>\n",
       "      <td>40</td>\n",
       "      <td>MPIGI</td>\n",
       "      <td>ACC</td>\n",
       "      <td>BSC. Accounting (EVE)</td>\n",
       "      <td>41.1</td>\n",
       "    </tr>\n",
       "    <tr>\n",
       "      <th>2</th>\n",
       "      <td>23APF1361730063122187</td>\n",
       "      <td>U0459/676</td>\n",
       "      <td>HAULAH SULAIT BIIRA</td>\n",
       "      <td>F</td>\n",
       "      <td>2022</td>\n",
       "      <td>21</td>\n",
       "      <td>KASESE</td>\n",
       "      <td>ACC</td>\n",
       "      <td>BSC. Accounting (EVE)</td>\n",
       "      <td>40.6</td>\n",
       "    </tr>\n",
       "    <tr>\n",
       "      <th>3</th>\n",
       "      <td>23APF519647933132646</td>\n",
       "      <td>U1611/887</td>\n",
       "      <td>NAMBALYE EVELYNE</td>\n",
       "      <td>F</td>\n",
       "      <td>2022</td>\n",
       "      <td>33</td>\n",
       "      <td>MASAKA</td>\n",
       "      <td>ACC</td>\n",
       "      <td>BSC. Accounting (EVE)</td>\n",
       "      <td>38.8</td>\n",
       "    </tr>\n",
       "    <tr>\n",
       "      <th>4</th>\n",
       "      <td>23APF1481620160129238</td>\n",
       "      <td>U0083/555</td>\n",
       "      <td>KEMIGISHA RUSIA</td>\n",
       "      <td>F</td>\n",
       "      <td>2022</td>\n",
       "      <td>65</td>\n",
       "      <td>IBANDA</td>\n",
       "      <td>ACC</td>\n",
       "      <td>BSC. Accounting (EVE)</td>\n",
       "      <td>38.4</td>\n",
       "    </tr>\n",
       "    <tr>\n",
       "      <th>...</th>\n",
       "      <td>...</td>\n",
       "      <td>...</td>\n",
       "      <td>...</td>\n",
       "      <td>...</td>\n",
       "      <td>...</td>\n",
       "      <td>...</td>\n",
       "      <td>...</td>\n",
       "      <td>...</td>\n",
       "      <td>...</td>\n",
       "      <td>...</td>\n",
       "    </tr>\n",
       "    <tr>\n",
       "      <th>222</th>\n",
       "      <td>23APF1674647943113045</td>\n",
       "      <td>U2789/769</td>\n",
       "      <td>MAFABI  EDGAR</td>\n",
       "      <td>M</td>\n",
       "      <td>2022</td>\n",
       "      <td>52</td>\n",
       "      <td>SIRONKO</td>\n",
       "      <td>ADM</td>\n",
       "      <td>Bachelor of Business Administration</td>\n",
       "      <td>42.7</td>\n",
       "    </tr>\n",
       "    <tr>\n",
       "      <th>223</th>\n",
       "      <td>23APF1553004744147784</td>\n",
       "      <td>U0009/541</td>\n",
       "      <td>KEMIGISHA SHANITAH</td>\n",
       "      <td>F</td>\n",
       "      <td>2022</td>\n",
       "      <td>6</td>\n",
       "      <td>BUSHENYI</td>\n",
       "      <td>ADM</td>\n",
       "      <td>Bachelor of Business Administration</td>\n",
       "      <td>42.6</td>\n",
       "    </tr>\n",
       "    <tr>\n",
       "      <th>224</th>\n",
       "      <td>23APF1425422752115622</td>\n",
       "      <td>U4144/507</td>\n",
       "      <td>NAKITANDWE SHARON</td>\n",
       "      <td>F</td>\n",
       "      <td>2022</td>\n",
       "      <td>71</td>\n",
       "      <td>KALIRO</td>\n",
       "      <td>ADM</td>\n",
       "      <td>Bachelor of Business Administration</td>\n",
       "      <td>42.6</td>\n",
       "    </tr>\n",
       "    <tr>\n",
       "      <th>225</th>\n",
       "      <td>23APF1269085013144231</td>\n",
       "      <td>U0060/511</td>\n",
       "      <td>BAGAYA SHELDYNE WINYI</td>\n",
       "      <td>F</td>\n",
       "      <td>2022</td>\n",
       "      <td>9</td>\n",
       "      <td>HOIMA</td>\n",
       "      <td>ADM</td>\n",
       "      <td>Bachelor of Business Administration</td>\n",
       "      <td>42.6</td>\n",
       "    </tr>\n",
       "    <tr>\n",
       "      <th>226</th>\n",
       "      <td>23APF192601537128082</td>\n",
       "      <td>U0083/547</td>\n",
       "      <td>CYNTHIA PRAISE</td>\n",
       "      <td>F</td>\n",
       "      <td>2022</td>\n",
       "      <td>21</td>\n",
       "      <td>KASESE</td>\n",
       "      <td>ADM</td>\n",
       "      <td>Bachelor of Business Administration</td>\n",
       "      <td>42.6</td>\n",
       "    </tr>\n",
       "  </tbody>\n",
       "</table>\n",
       "<p>227 rows × 10 columns</p>\n",
       "</div>"
      ],
      "text/plain": [
       "                   Form ID   Index No                   NAME GENDER UACE YEAR  \\\n",
       "0     23APF412304454141015  U0391/673   LUKABWE DOUGLAS MARK      M      2022   \n",
       "1     23APF345674424112360  U1249/532             LULE ISAAC      M      2022   \n",
       "2    23APF1361730063122187  U0459/676    HAULAH SULAIT BIIRA      F      2022   \n",
       "3     23APF519647933132646  U1611/887       NAMBALYE EVELYNE      F      2022   \n",
       "4    23APF1481620160129238  U0083/555        KEMIGISHA RUSIA      F      2022   \n",
       "..                     ...        ...                    ...    ...       ...   \n",
       "222  23APF1674647943113045  U2789/769          MAFABI  EDGAR      M      2022   \n",
       "223  23APF1553004744147784  U0009/541     KEMIGISHA SHANITAH      F      2022   \n",
       "224  23APF1425422752115622  U4144/507      NAKITANDWE SHARON      F      2022   \n",
       "225  23APF1269085013144231  U0060/511  BAGAYA SHELDYNE WINYI      F      2022   \n",
       "226   23APF192601537128082  U0083/547         CYNTHIA PRAISE      F      2022   \n",
       "\n",
       "    CODE  DISTRICT COURSE CODE                          COURSE NAME  \\\n",
       "0     42    MUKONO         ACC                BSC. Accounting (EVE)   \n",
       "1     40     MPIGI         ACC                BSC. Accounting (EVE)   \n",
       "2     21    KASESE         ACC                BSC. Accounting (EVE)   \n",
       "3     33    MASAKA         ACC                BSC. Accounting (EVE)   \n",
       "4     65    IBANDA         ACC                BSC. Accounting (EVE)   \n",
       "..   ...       ...         ...                                  ...   \n",
       "222   52   SIRONKO         ADM  Bachelor of Business Administration   \n",
       "223    6  BUSHENYI         ADM  Bachelor of Business Administration   \n",
       "224   71    KALIRO         ADM  Bachelor of Business Administration   \n",
       "225    9     HOIMA         ADM  Bachelor of Business Administration   \n",
       "226   21    KASESE         ADM  Bachelor of Business Administration   \n",
       "\n",
       "    Total Weight  \n",
       "0           42.2  \n",
       "1           41.1  \n",
       "2           40.6  \n",
       "3           38.8  \n",
       "4           38.4  \n",
       "..           ...  \n",
       "222         42.7  \n",
       "223         42.6  \n",
       "224         42.6  \n",
       "225         42.6  \n",
       "226         42.6  \n",
       "\n",
       "[227 rows x 10 columns]"
      ]
     },
     "execution_count": 5,
     "metadata": {},
     "output_type": "execute_result"
    }
   ],
   "source": [
    "data"
   ]
  },
  {
   "cell_type": "code",
   "execution_count": null,
   "id": "0b0e36fc",
   "metadata": {},
   "outputs": [],
   "source": []
  },
  {
   "cell_type": "code",
   "execution_count": 6,
   "id": "9a39da83",
   "metadata": {},
   "outputs": [],
   "source": [
    "# Admissions by district\n",
    "districtAdmissions = pd.DataFrame(data[\"DISTRICT\"].value_counts())"
   ]
  },
  {
   "cell_type": "code",
   "execution_count": 7,
   "id": "2e1f6c5d",
   "metadata": {},
   "outputs": [],
   "source": [
    "districtAdmissions = districtAdmissions.rename(columns={\"count\": \"Number of Admissions\"})"
   ]
  },
  {
   "cell_type": "code",
   "execution_count": 8,
   "id": "7855eda5",
   "metadata": {},
   "outputs": [],
   "source": [
    "dataSample = districtAdmissions"
   ]
  },
  {
   "cell_type": "code",
   "execution_count": 9,
   "id": "b9485b1e",
   "metadata": {},
   "outputs": [
    {
     "data": {
      "text/html": [
       "<div>\n",
       "<style scoped>\n",
       "    .dataframe tbody tr th:only-of-type {\n",
       "        vertical-align: middle;\n",
       "    }\n",
       "\n",
       "    .dataframe tbody tr th {\n",
       "        vertical-align: top;\n",
       "    }\n",
       "\n",
       "    .dataframe thead th {\n",
       "        text-align: right;\n",
       "    }\n",
       "</style>\n",
       "<table border=\"1\" class=\"dataframe\">\n",
       "  <thead>\n",
       "    <tr style=\"text-align: right;\">\n",
       "      <th></th>\n",
       "      <th>Number of Admissions</th>\n",
       "    </tr>\n",
       "    <tr>\n",
       "      <th>DISTRICT</th>\n",
       "      <th></th>\n",
       "    </tr>\n",
       "  </thead>\n",
       "  <tbody>\n",
       "    <tr>\n",
       "      <th>WAKISO</th>\n",
       "      <td>35</td>\n",
       "    </tr>\n",
       "    <tr>\n",
       "      <th>KAMPALA</th>\n",
       "      <td>15</td>\n",
       "    </tr>\n",
       "    <tr>\n",
       "      <th>MASAKA</th>\n",
       "      <td>10</td>\n",
       "    </tr>\n",
       "    <tr>\n",
       "      <th>HOIMA</th>\n",
       "      <td>8</td>\n",
       "    </tr>\n",
       "    <tr>\n",
       "      <th>JINJA</th>\n",
       "      <td>8</td>\n",
       "    </tr>\n",
       "    <tr>\n",
       "      <th>...</th>\n",
       "      <td>...</td>\n",
       "    </tr>\n",
       "    <tr>\n",
       "      <th>MOROTO</th>\n",
       "      <td>1</td>\n",
       "    </tr>\n",
       "    <tr>\n",
       "      <th>RUBANDA</th>\n",
       "      <td>1</td>\n",
       "    </tr>\n",
       "    <tr>\n",
       "      <th>KISORO</th>\n",
       "      <td>1</td>\n",
       "    </tr>\n",
       "    <tr>\n",
       "      <th>BUKWO</th>\n",
       "      <td>1</td>\n",
       "    </tr>\n",
       "    <tr>\n",
       "      <th>NAKASEKE</th>\n",
       "      <td>1</td>\n",
       "    </tr>\n",
       "  </tbody>\n",
       "</table>\n",
       "<p>74 rows × 1 columns</p>\n",
       "</div>"
      ],
      "text/plain": [
       "          Number of Admissions\n",
       "DISTRICT                      \n",
       "WAKISO                      35\n",
       "KAMPALA                     15\n",
       "MASAKA                      10\n",
       "HOIMA                        8\n",
       "JINJA                        8\n",
       "...                        ...\n",
       "MOROTO                       1\n",
       "RUBANDA                      1\n",
       "KISORO                       1\n",
       "BUKWO                        1\n",
       "NAKASEKE                     1\n",
       "\n",
       "[74 rows x 1 columns]"
      ]
     },
     "execution_count": 9,
     "metadata": {},
     "output_type": "execute_result"
    }
   ],
   "source": [
    "dataSample"
   ]
  },
  {
   "cell_type": "code",
   "execution_count": 10,
   "id": "823dfaa1",
   "metadata": {},
   "outputs": [
    {
     "data": {
      "text/plain": [
       "<Figure size 640x480 with 0 Axes>"
      ]
     },
     "metadata": {},
     "output_type": "display_data"
    }
   ],
   "source": [
    "fig = plt.figure()"
   ]
  },
  {
   "cell_type": "code",
   "execution_count": 11,
   "id": "7d3d3d0c",
   "metadata": {},
   "outputs": [],
   "source": [
    "ax1 = fig.add_subplot()"
   ]
  },
  {
   "cell_type": "code",
   "execution_count": 12,
   "id": "54d086ad",
   "metadata": {},
   "outputs": [],
   "source": [
    "n_bins = 20"
   ]
  },
  {
   "cell_type": "code",
   "execution_count": 13,
   "id": "24d12ee6",
   "metadata": {},
   "outputs": [
    {
     "data": {
      "text/plain": [
       "(array([51., 10.,  6.,  2.,  2.,  1.,  0.,  0.,  1.,  0.,  0.,  0.,  0.,\n",
       "         0.,  0.,  0.,  0.,  0.,  0.,  1.]),\n",
       " array([ 1. ,  2.7,  4.4,  6.1,  7.8,  9.5, 11.2, 12.9, 14.6, 16.3, 18. ,\n",
       "        19.7, 21.4, 23.1, 24.8, 26.5, 28.2, 29.9, 31.6, 33.3, 35. ]),\n",
       " <BarContainer object of 20 artists>)"
      ]
     },
     "execution_count": 13,
     "metadata": {},
     "output_type": "execute_result"
    }
   ],
   "source": [
    "ax1.hist(dataSample, bins=n_bins)"
   ]
  },
  {
   "cell_type": "code",
   "execution_count": 14,
   "id": "961a9cb2",
   "metadata": {},
   "outputs": [
    {
     "data": {
      "text/plain": [
       "[Text(0.5, 1.0, 'Admissions by Ditrict')]"
      ]
     },
     "execution_count": 14,
     "metadata": {},
     "output_type": "execute_result"
    }
   ],
   "source": [
    "ax1.set(title=\"Admissions by Ditrict\")"
   ]
  },
  {
   "cell_type": "code",
   "execution_count": 15,
   "id": "63ecfd02",
   "metadata": {},
   "outputs": [
    {
     "data": {
      "text/html": [
       "<div>\n",
       "<style scoped>\n",
       "    .dataframe tbody tr th:only-of-type {\n",
       "        vertical-align: middle;\n",
       "    }\n",
       "\n",
       "    .dataframe tbody tr th {\n",
       "        vertical-align: top;\n",
       "    }\n",
       "\n",
       "    .dataframe thead th {\n",
       "        text-align: right;\n",
       "    }\n",
       "</style>\n",
       "<table border=\"1\" class=\"dataframe\">\n",
       "  <thead>\n",
       "    <tr style=\"text-align: right;\">\n",
       "      <th></th>\n",
       "      <th>Number of Admissions</th>\n",
       "    </tr>\n",
       "    <tr>\n",
       "      <th>DISTRICT</th>\n",
       "      <th></th>\n",
       "    </tr>\n",
       "  </thead>\n",
       "  <tbody>\n",
       "    <tr>\n",
       "      <th>WAKISO</th>\n",
       "      <td>35</td>\n",
       "    </tr>\n",
       "    <tr>\n",
       "      <th>KAMPALA</th>\n",
       "      <td>15</td>\n",
       "    </tr>\n",
       "    <tr>\n",
       "      <th>MASAKA</th>\n",
       "      <td>10</td>\n",
       "    </tr>\n",
       "    <tr>\n",
       "      <th>HOIMA</th>\n",
       "      <td>8</td>\n",
       "    </tr>\n",
       "    <tr>\n",
       "      <th>JINJA</th>\n",
       "      <td>8</td>\n",
       "    </tr>\n",
       "    <tr>\n",
       "      <th>...</th>\n",
       "      <td>...</td>\n",
       "    </tr>\n",
       "    <tr>\n",
       "      <th>MOROTO</th>\n",
       "      <td>1</td>\n",
       "    </tr>\n",
       "    <tr>\n",
       "      <th>RUBANDA</th>\n",
       "      <td>1</td>\n",
       "    </tr>\n",
       "    <tr>\n",
       "      <th>KISORO</th>\n",
       "      <td>1</td>\n",
       "    </tr>\n",
       "    <tr>\n",
       "      <th>BUKWO</th>\n",
       "      <td>1</td>\n",
       "    </tr>\n",
       "    <tr>\n",
       "      <th>NAKASEKE</th>\n",
       "      <td>1</td>\n",
       "    </tr>\n",
       "  </tbody>\n",
       "</table>\n",
       "<p>74 rows × 1 columns</p>\n",
       "</div>"
      ],
      "text/plain": [
       "          Number of Admissions\n",
       "DISTRICT                      \n",
       "WAKISO                      35\n",
       "KAMPALA                     15\n",
       "MASAKA                      10\n",
       "HOIMA                        8\n",
       "JINJA                        8\n",
       "...                        ...\n",
       "MOROTO                       1\n",
       "RUBANDA                      1\n",
       "KISORO                       1\n",
       "BUKWO                        1\n",
       "NAKASEKE                     1\n",
       "\n",
       "[74 rows x 1 columns]"
      ]
     },
     "execution_count": 15,
     "metadata": {},
     "output_type": "execute_result"
    }
   ],
   "source": [
    "dataSample"
   ]
  },
  {
   "cell_type": "code",
   "execution_count": 34,
   "id": "a47d6525",
   "metadata": {},
   "outputs": [
    {
     "data": {
      "text/plain": [
       "<Axes: ylabel='Frequency'>"
      ]
     },
     "execution_count": 34,
     "metadata": {},
     "output_type": "execute_result"
    },
    {
     "data": {
      "image/png": "[encoded data removed]",
      "text/plain": [
       "<Figure size 640x480 with 1 Axes>"
      ]
     },
     "metadata": {},
     "output_type": "display_data"
    }
   ],
   "source": [
    "# Plotting a histogram\n",
    "dataSample[\"Number of Admissions\"].plot.hist(bins=100)"
   ]
  },
  {
   "cell_type": "code",
   "execution_count": 17,
   "id": "6d75a63f",
   "metadata": {},
   "outputs": [
    {
     "data": {
      "text/plain": [
       "<Axes: title={'center': 'A frequency Distribution plot'}, ylabel='Density'>"
      ]
     },
     "execution_count": 17,
     "metadata": {},
     "output_type": "execute_result"
    },
    {
     "data": {
      "image/png": "[encoded data removed]",
      "text/plain": [
       "<Figure size 640x480 with 1 Axes>"
      ]
     },
     "metadata": {},
     "output_type": "display_data"
    }
   ],
   "source": [
    "# \n",
    "dataSample[\"Number of Admissions\"].plot.density(\n",
    "bw_method='silverman',\n",
    "    ylabel=\"Frequency\",\n",
    "    title=\"A frequency Distribution plot\",\n",
    "    xlim=[0, 50]\n",
    ")"
   ]
  },
  {
   "cell_type": "code",
   "execution_count": 18,
   "id": "ecdcccb3",
   "metadata": {},
   "outputs": [
    {
     "data": {
      "text/plain": [
       "<Axes: xlabel='Number of Admissions'>"
      ]
     },
     "execution_count": 18,
     "metadata": {},
     "output_type": "execute_result"
    },
    {
     "data": {
      "image/png": "[encoded data removed]",
      "text/plain": [
       "<Figure size 640x480 with 1 Axes>"
      ]
     },
     "metadata": {},
     "output_type": "display_data"
    }
   ],
   "source": [
    "sns.barplot(x=\"Number of Admissions\", data=dataSample)"
   ]
  },
  {
   "cell_type": "code",
   "execution_count": 19,
   "id": "348e512a",
   "metadata": {},
   "outputs": [
    {
     "data": {
      "text/plain": [
       "Index(['Form ID', 'Index No', 'NAME', 'GENDER', 'UACE YEAR', 'CODE',\n",
       "       'DISTRICT', 'COURSE CODE', 'COURSE NAME', 'Total Weight'],\n",
       "      dtype='object')"
      ]
     },
     "execution_count": 19,
     "metadata": {},
     "output_type": "execute_result"
    }
   ],
   "source": [
    "data.columns"
   ]
  },
  {
   "cell_type": "code",
   "execution_count": 20,
   "id": "e81727f5",
   "metadata": {},
   "outputs": [],
   "source": [
    "# Dataframe columns\n",
    "makWeights = data[[\"Index No\", \"NAME\", \"Total Weight\"]]"
   ]
  },
  {
   "cell_type": "code",
   "execution_count": 21,
   "id": "c016cb70",
   "metadata": {},
   "outputs": [],
   "source": [
    "# Filter out rows with string = \"Tot_wt\"\n",
    "makWeights = makWeights[makWeights[\"Total Weight\"] != \"Tot_wt\"]"
   ]
  },
  {
   "cell_type": "code",
   "execution_count": 22,
   "id": "d6e7d153",
   "metadata": {},
   "outputs": [],
   "source": [
    "# Change dtype to float\n",
    "makWeights[\"Total Weight\"] = makWeights[\"Total Weight\"].astype(\"Float64\")"
   ]
  },
  {
   "cell_type": "code",
   "execution_count": 23,
   "id": "c7e6733a",
   "metadata": {},
   "outputs": [
    {
     "data": {
      "text/plain": [
       "0      42.2\n",
       "1      41.1\n",
       "2      40.6\n",
       "3      38.8\n",
       "4      38.4\n",
       "       ... \n",
       "222    42.7\n",
       "223    42.6\n",
       "224    42.6\n",
       "225    42.6\n",
       "226    42.6\n",
       "Name: Total Weight, Length: 226, dtype: Float64"
      ]
     },
     "execution_count": 23,
     "metadata": {},
     "output_type": "execute_result"
    }
   ],
   "source": [
    "makWeights[\"Total Weight\"]"
   ]
  },
  {
   "cell_type": "code",
   "execution_count": 24,
   "id": "bbd8ef92",
   "metadata": {},
   "outputs": [
    {
     "data": {
      "text/plain": [
       "<Axes: title={'center': 'A frequency Distribution plot'}, ylabel='Density'>"
      ]
     },
     "execution_count": 24,
     "metadata": {},
     "output_type": "execute_result"
    },
    {
     "data": {
      "image/png": "[encoded data removed]",
      "text/plain": [
       "<Figure size 640x480 with 1 Axes>"
      ]
     },
     "metadata": {},
     "output_type": "display_data"
    }
   ],
   "source": [
    "# Plot a density graph \n",
    "makWeights.plot.kde(\n",
    "    bw_method='silverman',\n",
    "    ylabel=\"Frequency\",\n",
    "    title=\"A frequency Distribution plot\",\n",
    "    xlim=[0, 54.5])"
   ]
  },
  {
   "cell_type": "code",
   "execution_count": 25,
   "id": "9fc1ef6c",
   "metadata": {},
   "outputs": [
    {
     "data": {
      "text/plain": [
       "0      U0391/673\n",
       "1      U1249/532\n",
       "2      U0459/676\n",
       "3      U1611/887\n",
       "4      U0083/555\n",
       "         ...    \n",
       "222    U2789/769\n",
       "223    U0009/541\n",
       "224    U4144/507\n",
       "225    U0060/511\n",
       "226    U0083/547\n",
       "Name: Index No, Length: 227, dtype: object"
      ]
     },
     "execution_count": 25,
     "metadata": {},
     "output_type": "execute_result"
    }
   ],
   "source": [
    "data[\"Index No\"]"
   ]
  },
  {
   "cell_type": "code",
   "execution_count": 26,
   "id": "7ba2dfdf",
   "metadata": {},
   "outputs": [],
   "source": [
    "# Admission counts by school\n",
    "indexUnique = [str(x)[:-3] for x in data[\"Index No\"]]"
   ]
  },
  {
   "cell_type": "code",
   "execution_count": 27,
   "id": "4f3f5a70",
   "metadata": {},
   "outputs": [
    {
     "data": {
      "text/plain": [
       "['U0391/',\n",
       " 'U1249/',\n",
       " 'U0459/',\n",
       " 'U1611/',\n",
       " 'U0083/',\n",
       " 'U2373/',\n",
       " 'U0856/',\n",
       " 'U2929/',\n",
       " 'U1609/',\n",
       " 'U1224/',\n",
       " 'U1350/',\n",
       " 'U0086/',\n",
       " 'U0923/',\n",
       " 'U2789/',\n",
       " 'U0960/',\n",
       " 'U0459/',\n",
       " 'U1611/',\n",
       " 'U3219/',\n",
       " 'U0737/',\n",
       " 'U0036/',\n",
       " 'U1979/',\n",
       " 'U2381/',\n",
       " 'U0200/',\n",
       " 'U3082/',\n",
       " 'U0027/',\n",
       " 'U2789/',\n",
       " 'U2474/',\n",
       " 'U2839/',\n",
       " 'U2144/',\n",
       " 'U1542/',\n",
       " 'U1451/',\n",
       " 'U2789/',\n",
       " 'U3219/',\n",
       " 'U1969/',\n",
       " 'U0859/',\n",
       " 'U0459/',\n",
       " 'U2962/',\n",
       " 'U0760/',\n",
       " 'U3941/',\n",
       " 'U0053/',\n",
       " 'U2546/',\n",
       " 'U0065/',\n",
       " 'U0194/',\n",
       " 'U1879/',\n",
       " 'U0053/',\n",
       " 'U1542/',\n",
       " 'U0052/',\n",
       " 'U2431/',\n",
       " 'U0645/',\n",
       " 'U0050/',\n",
       " 'U2338/',\n",
       " 'U1915/',\n",
       " 'U1354/',\n",
       " 'U0030/',\n",
       " 'U1380/',\n",
       " 'U2728/',\n",
       " 'U0061/',\n",
       " 'U2887/',\n",
       " 'U0336/',\n",
       " 'U0387/',\n",
       " 'U0053/',\n",
       " 'U1016/',\n",
       " 'U2055/',\n",
       " 'U1903/',\n",
       " 'U0033/',\n",
       " 'U0848/',\n",
       " 'U0852/',\n",
       " 'U0492/',\n",
       " 'U0645/',\n",
       " 'U2929/',\n",
       " 'U0336/',\n",
       " 'U0072/',\n",
       " 'U2732/',\n",
       " 'U0174/',\n",
       " 'U0852/',\n",
       " 'U0034/',\n",
       " 'U0884/',\n",
       " 'U0564/',\n",
       " 'U0896/',\n",
       " 'U0681/',\n",
       " 'U0757/',\n",
       " 'U1612/',\n",
       " 'U2236/',\n",
       " 'U0096/',\n",
       " 'U0956/',\n",
       " 'U0852/',\n",
       " 'U0046/',\n",
       " 'U0263/',\n",
       " 'U0780/',\n",
       " 'U0256/',\n",
       " 'U1525/',\n",
       " 'U1656/',\n",
       " 'U2061/',\n",
       " 'U0960/',\n",
       " 'U2760/',\n",
       " 'U3740/',\n",
       " 'U1663/',\n",
       " 'U0896/',\n",
       " 'U0034/',\n",
       " 'U0245/',\n",
       " 'U0539/',\n",
       " 'U0190/',\n",
       " 'U1249/',\n",
       " 'U2244/',\n",
       " 'U0952/',\n",
       " 'U0739/',\n",
       " 'U1289/',\n",
       " 'U0055/',\n",
       " 'U3694/',\n",
       " 'U2245/',\n",
       " 'U0742/',\n",
       " 'U0582/',\n",
       " 'U1825/',\n",
       " 'U1611/',\n",
       " 'U1104/',\n",
       " 'U1867/',\n",
       " 'U0042/',\n",
       " 'U0513/',\n",
       " 'U0080/',\n",
       " 'U2177/',\n",
       " 'U0955/',\n",
       " 'U1140/',\n",
       " 'U0036/',\n",
       " 'U0744/',\n",
       " 'U0367/',\n",
       " 'U0055/',\n",
       " 'U2474/',\n",
       " 'U0082/',\n",
       " 'U0812/',\n",
       " 'U2977/',\n",
       " 'U1783/',\n",
       " 'U2924/',\n",
       " 'U2760/',\n",
       " 'U2955/',\n",
       " 'U1688/',\n",
       " 'U0459/',\n",
       " 'U0140/',\n",
       " 'U2010/',\n",
       " 'U3681/',\n",
       " 'U0417/',\n",
       " 'U0060/',\n",
       " 'U1974/',\n",
       " 'U3541/',\n",
       " 'U0387/',\n",
       " 'U0691/',\n",
       " 'U1104/',\n",
       " 'U0763/',\n",
       " 'U0515/',\n",
       " 'U0739/',\n",
       " 'U1104/',\n",
       " '',\n",
       " '',\n",
       " '',\n",
       " 'Index',\n",
       " 'U0857/',\n",
       " 'U1609/',\n",
       " 'U1224/',\n",
       " 'U0763/',\n",
       " 'U2929/',\n",
       " 'U0198/',\n",
       " 'U2016/',\n",
       " 'U0192/',\n",
       " 'U1661/',\n",
       " 'U1682/',\n",
       " 'U2236/',\n",
       " 'U1501/',\n",
       " 'U0174/',\n",
       " 'U1542/',\n",
       " 'U3070/',\n",
       " 'U0025/',\n",
       " 'U0167/',\n",
       " 'U1443/',\n",
       " 'U0616/',\n",
       " 'U1104/',\n",
       " 'U2371/',\n",
       " 'U3002/',\n",
       " 'U1694/',\n",
       " 'U0458/',\n",
       " 'U1971/',\n",
       " 'U0346/',\n",
       " 'U2663/',\n",
       " 'U0080/',\n",
       " 'U0018/',\n",
       " 'U0572/',\n",
       " 'U2929/',\n",
       " 'U3297/',\n",
       " 'U0060/',\n",
       " 'U0013/',\n",
       " 'U0752/',\n",
       " 'U0959/',\n",
       " 'U0030/',\n",
       " 'U3297/',\n",
       " 'U1148/',\n",
       " 'U0391/',\n",
       " 'U0061/',\n",
       " 'U1224/',\n",
       " 'U0525/',\n",
       " 'U0859/',\n",
       " 'U1144/',\n",
       " 'U2177/',\n",
       " 'U2261/',\n",
       " 'U2789/',\n",
       " 'U1664/',\n",
       " 'U0714/',\n",
       " 'U0077/',\n",
       " 'U2419/',\n",
       " 'U0334/',\n",
       " 'U0060/',\n",
       " 'U1609/',\n",
       " 'U0083/',\n",
       " 'U3263/',\n",
       " 'U1535/',\n",
       " 'U3886/',\n",
       " 'U2929/',\n",
       " 'U3297/',\n",
       " 'U0763/',\n",
       " 'U0017/',\n",
       " 'U2338/',\n",
       " 'U0034/',\n",
       " 'U3217/',\n",
       " 'U2546/',\n",
       " 'U1224/',\n",
       " 'U2789/',\n",
       " 'U0009/',\n",
       " 'U4144/',\n",
       " 'U0060/',\n",
       " 'U0083/']"
      ]
     },
     "execution_count": 27,
     "metadata": {},
     "output_type": "execute_result"
    }
   ],
   "source": [
    "indexUnique"
   ]
  },
  {
   "cell_type": "code",
   "execution_count": 28,
   "id": "2c383e73",
   "metadata": {},
   "outputs": [],
   "source": [
    "from collections import Counter\n",
    "x = Counter(indexUnique)\n",
    "dfIndex = pd.DataFrame(x, index=[y for y in range(len(x))])"
   ]
  },
  {
   "cell_type": "code",
   "execution_count": 29,
   "id": "c5ed9e5b",
   "metadata": {},
   "outputs": [],
   "source": [
    "dfIndex.columns.name = \"Indices\""
   ]
  },
  {
   "cell_type": "code",
   "execution_count": 30,
   "id": "d8154cbc",
   "metadata": {},
   "outputs": [],
   "source": [
    "dfIndex = pd.DataFrame(dfIndex.stack())"
   ]
  },
  {
   "cell_type": "code",
   "execution_count": 31,
   "id": "c5ff3c80",
   "metadata": {},
   "outputs": [],
   "source": [
    "x = dfIndex.rename(columns={0: \"Admissions\"})"
   ]
  },
  {
   "cell_type": "code",
   "execution_count": 32,
   "id": "018119e0",
   "metadata": {},
   "outputs": [
    {
     "data": {
      "text/html": [
       "<div>\n",
       "<style scoped>\n",
       "    .dataframe tbody tr th:only-of-type {\n",
       "        vertical-align: middle;\n",
       "    }\n",
       "\n",
       "    .dataframe tbody tr th {\n",
       "        vertical-align: top;\n",
       "    }\n",
       "\n",
       "    .dataframe thead th {\n",
       "        text-align: right;\n",
       "    }\n",
       "</style>\n",
       "<table border=\"1\" class=\"dataframe\">\n",
       "  <thead>\n",
       "    <tr style=\"text-align: right;\">\n",
       "      <th></th>\n",
       "      <th></th>\n",
       "      <th>Admissions</th>\n",
       "    </tr>\n",
       "    <tr>\n",
       "      <th></th>\n",
       "      <th>Indices</th>\n",
       "      <th></th>\n",
       "    </tr>\n",
       "  </thead>\n",
       "  <tbody>\n",
       "    <tr>\n",
       "      <th rowspan=\"5\" valign=\"top\">0</th>\n",
       "      <th>U0391/</th>\n",
       "      <td>2</td>\n",
       "    </tr>\n",
       "    <tr>\n",
       "      <th>U1249/</th>\n",
       "      <td>2</td>\n",
       "    </tr>\n",
       "    <tr>\n",
       "      <th>U0459/</th>\n",
       "      <td>4</td>\n",
       "    </tr>\n",
       "    <tr>\n",
       "      <th>U1611/</th>\n",
       "      <td>3</td>\n",
       "    </tr>\n",
       "    <tr>\n",
       "      <th>U0083/</th>\n",
       "      <td>3</td>\n",
       "    </tr>\n",
       "    <tr>\n",
       "      <th>...</th>\n",
       "      <th>...</th>\n",
       "      <td>...</td>\n",
       "    </tr>\n",
       "    <tr>\n",
       "      <th rowspan=\"5\" valign=\"top\">164</th>\n",
       "      <th>U3886/</th>\n",
       "      <td>1</td>\n",
       "    </tr>\n",
       "    <tr>\n",
       "      <th>U0017/</th>\n",
       "      <td>1</td>\n",
       "    </tr>\n",
       "    <tr>\n",
       "      <th>U3217/</th>\n",
       "      <td>1</td>\n",
       "    </tr>\n",
       "    <tr>\n",
       "      <th>U0009/</th>\n",
       "      <td>1</td>\n",
       "    </tr>\n",
       "    <tr>\n",
       "      <th>U4144/</th>\n",
       "      <td>1</td>\n",
       "    </tr>\n",
       "  </tbody>\n",
       "</table>\n",
       "<p>27225 rows × 1 columns</p>\n",
       "</div>"
      ],
      "text/plain": [
       "             Admissions\n",
       "    Indices            \n",
       "0   U0391/            2\n",
       "    U1249/            2\n",
       "    U0459/            4\n",
       "    U1611/            3\n",
       "    U0083/            3\n",
       "...                 ...\n",
       "164 U3886/            1\n",
       "    U0017/            1\n",
       "    U3217/            1\n",
       "    U0009/            1\n",
       "    U4144/            1\n",
       "\n",
       "[27225 rows x 1 columns]"
      ]
     },
     "execution_count": 32,
     "metadata": {},
     "output_type": "execute_result"
    }
   ],
   "source": [
    "x"
   ]
  },
  {
   "cell_type": "code",
   "execution_count": 33,
   "id": "c348c510",
   "metadata": {},
   "outputs": [
    {
     "data": {
      "text/plain": [
       "<Axes: ylabel='Density'>"
      ]
     },
     "execution_count": 33,
     "metadata": {},
     "output_type": "execute_result"
    },
    {
     "data": {
      "image/png": "[encoded data removed]",
      "text/plain": [
       "<Figure size 640x480 with 1 Axes>"
      ]
     },
     "metadata": {},
     "output_type": "display_data"
    }
   ],
   "source": [
    "x.plot.density()"
   ]
  }
 ],
 "metadata": {
  "kernelspec": {
   "display_name": "Python 3 (ipykernel)",
   "language": "python",
   "name": "python3"
  },
  "language_info": {
   "codemirror_mode": {
    "name": "ipython",
    "version": 3
   },
   "file_extension": ".py",
   "mimetype": "text/x-python",
   "name": "python",
   "nbconvert_exporter": "python",
   "pygments_lexer": "ipython3",
   "version": "3.10.11"
  }
 },
 "nbformat": 4,
 "nbformat_minor": 5
}
