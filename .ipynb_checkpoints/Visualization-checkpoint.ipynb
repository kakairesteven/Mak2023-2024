{
 "cells": [
  {
   "cell_type": "code",
   "execution_count": 92,
   "id": "f0acf970",
   "metadata": {},
   "outputs": [],
   "source": [
    "# In this notebook, I explore different data visualization techniques"
   ]
  },
  {
   "cell_type": "code",
   "execution_count": 93,
   "id": "6f11a921",
   "metadata": {},
   "outputs": [],
   "source": [
    "# import dependencies\n",
    "import numpy as np\n",
    "import pandas as pd\n",
    "import matplotlib.pyplot as plt\n",
    "import seaborn as sns\n",
    "%matplotlib inline"
   ]
  },
  {
   "cell_type": "code",
   "execution_count": 94,
   "id": "294c6e75",
   "metadata": {},
   "outputs": [],
   "source": [
    "# Read finalDf\n",
    "# Without index_column zero, an index column is added\n",
    "data = pd.read_csv(\"preprocessed/finalDataV1.csv\", index_col=0)"
   ]
  },
  {
   "cell_type": "code",
   "execution_count": 95,
   "id": "f1ef0da7",
   "metadata": {},
   "outputs": [
    {
     "data": {
      "text/html": [
       "<div>\n",
       "<style scoped>\n",
       "    .dataframe tbody tr th:only-of-type {\n",
       "        vertical-align: middle;\n",
       "    }\n",
       "\n",
       "    .dataframe tbody tr th {\n",
       "        vertical-align: top;\n",
       "    }\n",
       "\n",
       "    .dataframe thead th {\n",
       "        text-align: right;\n",
       "    }\n",
       "</style>\n",
       "<table border=\"1\" class=\"dataframe\">\n",
       "  <thead>\n",
       "    <tr style=\"text-align: right;\">\n",
       "      <th></th>\n",
       "      <th>Form ID</th>\n",
       "      <th>Index No</th>\n",
       "      <th>NAME</th>\n",
       "      <th>GENDER</th>\n",
       "      <th>UACE YEAR</th>\n",
       "      <th>CODE</th>\n",
       "      <th>DISTRICT</th>\n",
       "      <th>COURSE CODE</th>\n",
       "      <th>COURSE NAME</th>\n",
       "      <th>Total Weight</th>\n",
       "    </tr>\n",
       "  </thead>\n",
       "  <tbody>\n",
       "    <tr>\n",
       "      <th>0</th>\n",
       "      <td>23APF412304454141015</td>\n",
       "      <td>U0391/673</td>\n",
       "      <td>LUKABWE DOUGLAS MARK</td>\n",
       "      <td>M</td>\n",
       "      <td>2022</td>\n",
       "      <td>42</td>\n",
       "      <td>MUKONO</td>\n",
       "      <td>ACC</td>\n",
       "      <td>BSC. Accounting (EVE)</td>\n",
       "      <td>42.2</td>\n",
       "    </tr>\n",
       "    <tr>\n",
       "      <th>1</th>\n",
       "      <td>23APF345674424112360</td>\n",
       "      <td>U1249/532</td>\n",
       "      <td>LULE ISAAC</td>\n",
       "      <td>M</td>\n",
       "      <td>2022</td>\n",
       "      <td>40</td>\n",
       "      <td>MPIGI</td>\n",
       "      <td>ACC</td>\n",
       "      <td>BSC. Accounting (EVE)</td>\n",
       "      <td>41.1</td>\n",
       "    </tr>\n",
       "    <tr>\n",
       "      <th>2</th>\n",
       "      <td>23APF1361730063122187</td>\n",
       "      <td>U0459/676</td>\n",
       "      <td>HAULAH SULAIT BIIRA</td>\n",
       "      <td>F</td>\n",
       "      <td>2022</td>\n",
       "      <td>21</td>\n",
       "      <td>KASESE</td>\n",
       "      <td>ACC</td>\n",
       "      <td>BSC. Accounting (EVE)</td>\n",
       "      <td>40.6</td>\n",
       "    </tr>\n",
       "    <tr>\n",
       "      <th>3</th>\n",
       "      <td>23APF519647933132646</td>\n",
       "      <td>U1611/887</td>\n",
       "      <td>NAMBALYE EVELYNE</td>\n",
       "      <td>F</td>\n",
       "      <td>2022</td>\n",
       "      <td>33</td>\n",
       "      <td>MASAKA</td>\n",
       "      <td>ACC</td>\n",
       "      <td>BSC. Accounting (EVE)</td>\n",
       "      <td>38.8</td>\n",
       "    </tr>\n",
       "    <tr>\n",
       "      <th>4</th>\n",
       "      <td>23APF1481620160129238</td>\n",
       "      <td>U0083/555</td>\n",
       "      <td>KEMIGISHA RUSIA</td>\n",
       "      <td>F</td>\n",
       "      <td>2022</td>\n",
       "      <td>65</td>\n",
       "      <td>IBANDA</td>\n",
       "      <td>ACC</td>\n",
       "      <td>BSC. Accounting (EVE)</td>\n",
       "      <td>38.4</td>\n",
       "    </tr>\n",
       "    <tr>\n",
       "      <th>...</th>\n",
       "      <td>...</td>\n",
       "      <td>...</td>\n",
       "      <td>...</td>\n",
       "      <td>...</td>\n",
       "      <td>...</td>\n",
       "      <td>...</td>\n",
       "      <td>...</td>\n",
       "      <td>...</td>\n",
       "      <td>...</td>\n",
       "      <td>...</td>\n",
       "    </tr>\n",
       "    <tr>\n",
       "      <th>637</th>\n",
       "      <td>23APF907628450115254</td>\n",
       "      <td>U2163/516</td>\n",
       "      <td>NUWE GILBERT</td>\n",
       "      <td>M</td>\n",
       "      <td>2022</td>\n",
       "      <td>6</td>\n",
       "      <td>BUSHENYI</td>\n",
       "      <td>BAR</td>\n",
       "      <td>Bachelor of Agricultural &amp; Rural Innovation</td>\n",
       "      <td>39.9</td>\n",
       "    </tr>\n",
       "    <tr>\n",
       "      <th>638</th>\n",
       "      <td>23APF841538281104321</td>\n",
       "      <td>U0436/550</td>\n",
       "      <td>KABUGHO LAURINE</td>\n",
       "      <td>F</td>\n",
       "      <td>2022</td>\n",
       "      <td>21</td>\n",
       "      <td>KASESE</td>\n",
       "      <td>BAR</td>\n",
       "      <td>Bachelor of Agricultural &amp; Rural Innovation</td>\n",
       "      <td>39.5</td>\n",
       "    </tr>\n",
       "    <tr>\n",
       "      <th>639</th>\n",
       "      <td>23APF1449139060133236</td>\n",
       "      <td>U3294/552</td>\n",
       "      <td>BARUNGI ELVIS</td>\n",
       "      <td>M</td>\n",
       "      <td>2022</td>\n",
       "      <td>9</td>\n",
       "      <td>HOIMA</td>\n",
       "      <td>BAR</td>\n",
       "      <td>Bachelor of Agricultural &amp; Rural Innovation</td>\n",
       "      <td>39.4</td>\n",
       "    </tr>\n",
       "    <tr>\n",
       "      <th>640</th>\n",
       "      <td>23APF292284790128199</td>\n",
       "      <td>U1873/644</td>\n",
       "      <td>NALUGAVE JULIAN</td>\n",
       "      <td>F</td>\n",
       "      <td>2022</td>\n",
       "      <td>69</td>\n",
       "      <td>ISINGIRO</td>\n",
       "      <td>BAR</td>\n",
       "      <td>Bachelor of Agricultural &amp; Rural Innovation</td>\n",
       "      <td>38.6</td>\n",
       "    </tr>\n",
       "    <tr>\n",
       "      <th>641</th>\n",
       "      <td>23APF912845919128698</td>\n",
       "      <td>U2767/506</td>\n",
       "      <td>AHWERA JORDAN</td>\n",
       "      <td>M</td>\n",
       "      <td>2022</td>\n",
       "      <td>50</td>\n",
       "      <td>RUKUNGIRI</td>\n",
       "      <td>BAR</td>\n",
       "      <td>Bachelor of Agricultural &amp; Rural Innovation</td>\n",
       "      <td>38.4</td>\n",
       "    </tr>\n",
       "  </tbody>\n",
       "</table>\n",
       "<p>637 rows × 10 columns</p>\n",
       "</div>"
      ],
      "text/plain": [
       "                   Form ID   Index No                  NAME GENDER  UACE YEAR  \\\n",
       "0     23APF412304454141015  U0391/673  LUKABWE DOUGLAS MARK      M       2022   \n",
       "1     23APF345674424112360  U1249/532            LULE ISAAC      M       2022   \n",
       "2    23APF1361730063122187  U0459/676   HAULAH SULAIT BIIRA      F       2022   \n",
       "3     23APF519647933132646  U1611/887      NAMBALYE EVELYNE      F       2022   \n",
       "4    23APF1481620160129238  U0083/555       KEMIGISHA RUSIA      F       2022   \n",
       "..                     ...        ...                   ...    ...        ...   \n",
       "637   23APF907628450115254  U2163/516          NUWE GILBERT      M       2022   \n",
       "638   23APF841538281104321  U0436/550       KABUGHO LAURINE      F       2022   \n",
       "639  23APF1449139060133236  U3294/552         BARUNGI ELVIS      M       2022   \n",
       "640   23APF292284790128199  U1873/644       NALUGAVE JULIAN      F       2022   \n",
       "641   23APF912845919128698  U2767/506         AHWERA JORDAN      M       2022   \n",
       "\n",
       "     CODE   DISTRICT COURSE CODE                                  COURSE NAME  \\\n",
       "0      42     MUKONO         ACC                        BSC. Accounting (EVE)   \n",
       "1      40      MPIGI         ACC                        BSC. Accounting (EVE)   \n",
       "2      21     KASESE         ACC                        BSC. Accounting (EVE)   \n",
       "3      33     MASAKA         ACC                        BSC. Accounting (EVE)   \n",
       "4      65     IBANDA         ACC                        BSC. Accounting (EVE)   \n",
       "..    ...        ...         ...                                          ...   \n",
       "637     6   BUSHENYI         BAR  Bachelor of Agricultural & Rural Innovation   \n",
       "638    21     KASESE         BAR  Bachelor of Agricultural & Rural Innovation   \n",
       "639     9      HOIMA         BAR  Bachelor of Agricultural & Rural Innovation   \n",
       "640    69   ISINGIRO         BAR  Bachelor of Agricultural & Rural Innovation   \n",
       "641    50  RUKUNGIRI         BAR  Bachelor of Agricultural & Rural Innovation   \n",
       "\n",
       "     Total Weight  \n",
       "0            42.2  \n",
       "1            41.1  \n",
       "2            40.6  \n",
       "3            38.8  \n",
       "4            38.4  \n",
       "..            ...  \n",
       "637          39.9  \n",
       "638          39.5  \n",
       "639          39.4  \n",
       "640          38.6  \n",
       "641          38.4  \n",
       "\n",
       "[637 rows x 10 columns]"
      ]
     },
     "execution_count": 95,
     "metadata": {},
     "output_type": "execute_result"
    }
   ],
   "source": [
    "data"
   ]
  },
  {
   "cell_type": "code",
   "execution_count": 96,
   "id": "5c375ef1",
   "metadata": {},
   "outputs": [],
   "source": [
    "# Admissions by district\n",
    "districtAdmissions = pd.DataFrame(data[\"DISTRICT\"].value_counts())"
   ]
  },
  {
   "cell_type": "code",
   "execution_count": 97,
   "id": "ccccc20b",
   "metadata": {},
   "outputs": [],
   "source": [
    "districtAdmissions = districtAdmissions.rename(columns={\"count\": \"Number of Admissions\"})"
   ]
  },
  {
   "cell_type": "code",
   "execution_count": 98,
   "id": "832febd7",
   "metadata": {},
   "outputs": [],
   "source": [
    "dataSample = districtAdmissions.head()"
   ]
  },
  {
   "cell_type": "code",
   "execution_count": 99,
   "id": "7046c088",
   "metadata": {},
   "outputs": [
    {
     "data": {
      "text/html": [
       "<div>\n",
       "<style scoped>\n",
       "    .dataframe tbody tr th:only-of-type {\n",
       "        vertical-align: middle;\n",
       "    }\n",
       "\n",
       "    .dataframe tbody tr th {\n",
       "        vertical-align: top;\n",
       "    }\n",
       "\n",
       "    .dataframe thead th {\n",
       "        text-align: right;\n",
       "    }\n",
       "</style>\n",
       "<table border=\"1\" class=\"dataframe\">\n",
       "  <thead>\n",
       "    <tr style=\"text-align: right;\">\n",
       "      <th></th>\n",
       "      <th>Number of Admissions</th>\n",
       "    </tr>\n",
       "    <tr>\n",
       "      <th>DISTRICT</th>\n",
       "      <th></th>\n",
       "    </tr>\n",
       "  </thead>\n",
       "  <tbody>\n",
       "    <tr>\n",
       "      <th>WAKISO</th>\n",
       "      <td>92</td>\n",
       "    </tr>\n",
       "    <tr>\n",
       "      <th>KAMPALA</th>\n",
       "      <td>46</td>\n",
       "    </tr>\n",
       "    <tr>\n",
       "      <th>MUKONO</th>\n",
       "      <td>24</td>\n",
       "    </tr>\n",
       "    <tr>\n",
       "      <th>MASAKA</th>\n",
       "      <td>22</td>\n",
       "    </tr>\n",
       "    <tr>\n",
       "      <th>MBARARA</th>\n",
       "      <td>20</td>\n",
       "    </tr>\n",
       "  </tbody>\n",
       "</table>\n",
       "</div>"
      ],
      "text/plain": [
       "          Number of Admissions\n",
       "DISTRICT                      \n",
       "WAKISO                      92\n",
       "KAMPALA                     46\n",
       "MUKONO                      24\n",
       "MASAKA                      22\n",
       "MBARARA                     20"
      ]
     },
     "execution_count": 99,
     "metadata": {},
     "output_type": "execute_result"
    }
   ],
   "source": [
    "dataSample"
   ]
  },
  {
   "cell_type": "code",
   "execution_count": 100,
   "id": "676833fc",
   "metadata": {},
   "outputs": [
    {
     "data": {
      "text/plain": [
       "<Figure size 640x480 with 0 Axes>"
      ]
     },
     "metadata": {},
     "output_type": "display_data"
    }
   ],
   "source": [
    "fig = plt.figure()"
   ]
  },
  {
   "cell_type": "code",
   "execution_count": 101,
   "id": "94e20e77",
   "metadata": {},
   "outputs": [],
   "source": [
    "ax1 = fig.add_subplot()"
   ]
  },
  {
   "cell_type": "code",
   "execution_count": 102,
   "id": "fd793b45",
   "metadata": {},
   "outputs": [],
   "source": [
    "n_bins = 20"
   ]
  },
  {
   "cell_type": "code",
   "execution_count": 103,
   "id": "f69df008",
   "metadata": {},
   "outputs": [
    {
     "data": {
      "text/plain": [
       "(array([2., 1., 0., 0., 0., 0., 0., 1., 0., 0., 0., 0., 0., 0., 0., 0., 0.,\n",
       "        0., 0., 1.]),\n",
       " array([20. , 23.6, 27.2, 30.8, 34.4, 38. , 41.6, 45.2, 48.8, 52.4, 56. ,\n",
       "        59.6, 63.2, 66.8, 70.4, 74. , 77.6, 81.2, 84.8, 88.4, 92. ]),\n",
       " <BarContainer object of 20 artists>)"
      ]
     },
     "execution_count": 103,
     "metadata": {},
     "output_type": "execute_result"
    }
   ],
   "source": [
    "ax1.hist(dataSample, bins=n_bins)"
   ]
  },
  {
   "cell_type": "code",
   "execution_count": 113,
   "id": "b650891a",
   "metadata": {},
   "outputs": [
    {
     "data": {
      "text/plain": [
       "[Text(0.5, 1.0, 'Admissions by Ditrict')]"
      ]
     },
     "execution_count": 113,
     "metadata": {},
     "output_type": "execute_result"
    }
   ],
   "source": [
    "ax1.set(title=\"Admissions by Ditrict\")"
   ]
  },
  {
   "cell_type": "code",
   "execution_count": 127,
   "id": "44799b7c",
   "metadata": {},
   "outputs": [
    {
     "data": {
      "text/html": [
       "<div>\n",
       "<style scoped>\n",
       "    .dataframe tbody tr th:only-of-type {\n",
       "        vertical-align: middle;\n",
       "    }\n",
       "\n",
       "    .dataframe tbody tr th {\n",
       "        vertical-align: top;\n",
       "    }\n",
       "\n",
       "    .dataframe thead th {\n",
       "        text-align: right;\n",
       "    }\n",
       "</style>\n",
       "<table border=\"1\" class=\"dataframe\">\n",
       "  <thead>\n",
       "    <tr style=\"text-align: right;\">\n",
       "      <th></th>\n",
       "      <th>Number of Admissions</th>\n",
       "    </tr>\n",
       "    <tr>\n",
       "      <th>DISTRICT</th>\n",
       "      <th></th>\n",
       "    </tr>\n",
       "  </thead>\n",
       "  <tbody>\n",
       "    <tr>\n",
       "      <th>WAKISO</th>\n",
       "      <td>92</td>\n",
       "    </tr>\n",
       "    <tr>\n",
       "      <th>KAMPALA</th>\n",
       "      <td>46</td>\n",
       "    </tr>\n",
       "    <tr>\n",
       "      <th>MUKONO</th>\n",
       "      <td>24</td>\n",
       "    </tr>\n",
       "    <tr>\n",
       "      <th>MASAKA</th>\n",
       "      <td>22</td>\n",
       "    </tr>\n",
       "    <tr>\n",
       "      <th>MBARARA</th>\n",
       "      <td>20</td>\n",
       "    </tr>\n",
       "  </tbody>\n",
       "</table>\n",
       "</div>"
      ],
      "text/plain": [
       "          Number of Admissions\n",
       "DISTRICT                      \n",
       "WAKISO                      92\n",
       "KAMPALA                     46\n",
       "MUKONO                      24\n",
       "MASAKA                      22\n",
       "MBARARA                     20"
      ]
     },
     "execution_count": 127,
     "metadata": {},
     "output_type": "execute_result"
    }
   ],
   "source": [
    "dataSample"
   ]
  },
  {
   "cell_type": "code",
   "execution_count": 131,
   "id": "b8bd57fb",
   "metadata": {},
   "outputs": [
    {
     "data": {
      "text/plain": [
       "<Axes: ylabel='Frequency'>"
      ]
     },
     "execution_count": 131,
     "metadata": {},
     "output_type": "execute_result"
    },
    {
     "data": {
      "image/png": "[encoded data removed]",
      "text/plain": [
       "<Figure size 640x480 with 1 Axes>"
      ]
     },
     "metadata": {},
     "output_type": "display_data"
    }
   ],
   "source": [
    "# Plotting a histogram\n",
    "dataSample[\"Number of Admissions\"].plot.hist(bins=10)"
   ]
  },
  {
   "cell_type": "code",
   "execution_count": 143,
   "id": "1fe33107",
   "metadata": {},
   "outputs": [
    {
     "data": {
      "text/plain": [
       "<Axes: xlabel='Number of Admissions'>"
      ]
     },
     "execution_count": 143,
     "metadata": {},
     "output_type": "execute_result"
    },
    {
     "data": {
      "image/png": "[encoded data removed]",
      "text/plain": [
       "<Figure size 640x480 with 1 Axes>"
      ]
     },
     "metadata": {},
     "output_type": "display_data"
    }
   ],
   "source": [
    "sns.barplot(x=\"Number of Admissions\", data=dataSample)"
   ]
  }
 ],
 "metadata": {
  "kernelspec": {
   "display_name": "Python 3 (ipykernel)",
   "language": "python",
   "name": "python3"
  },
  "language_info": {
   "codemirror_mode": {
    "name": "ipython",
    "version": 3
   },
   "file_extension": ".py",
   "mimetype": "text/x-python",
   "name": "python",
   "nbconvert_exporter": "python",
   "pygments_lexer": "ipython3",
   "version": "3.10.11"
  }
 },
 "nbformat": 4,
 "nbformat_minor": 5
}
