{
 "cells": [
  {
   "cell_type": "code",
   "execution_count": 1,
   "id": "4bdd8280-ba23-4d97-ab97-3a66d22b70be",
   "metadata": {},
   "outputs": [],
   "source": [
    "import pandas as pd\n",
    "import numpy as np"
   ]
  },
  {
   "cell_type": "markdown",
   "id": "cf2a5027-23ab-4c36-aa43-6122790b9e12",
   "metadata": {},
   "source": [
    "<h3>Date and Time Data Types and Tools</h3>"
   ]
  },
  {
   "cell_type": "code",
   "execution_count": 212,
   "id": "9ba42526-b0b2-4aef-a8be-ac98ecc69710",
   "metadata": {},
   "outputs": [],
   "source": [
    "from datetime import datetime\n",
    "from datetime import timedelta\n",
    "from matplotlib import pyplot as plt"
   ]
  },
  {
   "cell_type": "code",
   "execution_count": 3,
   "id": "58d629c5-7c7a-48cb-8f82-2945cd2f9f78",
   "metadata": {},
   "outputs": [],
   "source": [
    "now = datetime.now()"
   ]
  },
  {
   "cell_type": "code",
   "execution_count": 4,
   "id": "3e087002-3968-4199-8edc-84c3f9852f38",
   "metadata": {},
   "outputs": [
    {
     "data": {
      "text/plain": [
       "datetime.datetime(2024, 6, 6, 17, 1, 7, 186051)"
      ]
     },
     "execution_count": 4,
     "metadata": {},
     "output_type": "execute_result"
    }
   ],
   "source": [
    "now"
   ]
  },
  {
   "cell_type": "code",
   "execution_count": 5,
   "id": "20e63acf-ff8a-46a8-94b6-01afe6b9e33e",
   "metadata": {},
   "outputs": [
    {
     "data": {
      "text/plain": [
       "(2024, 6, 6, 17, 1)"
      ]
     },
     "execution_count": 5,
     "metadata": {},
     "output_type": "execute_result"
    }
   ],
   "source": [
    "now.year, now.month, now.day, now.hour, now.minute"
   ]
  },
  {
   "cell_type": "code",
   "execution_count": 6,
   "id": "a2fe3da6-e8aa-4739-873d-9da1e3857953",
   "metadata": {},
   "outputs": [
    {
     "data": {
      "text/plain": [
       "2024"
      ]
     },
     "execution_count": 6,
     "metadata": {},
     "output_type": "execute_result"
    }
   ],
   "source": [
    "now.year"
   ]
  },
  {
   "cell_type": "code",
   "execution_count": 7,
   "id": "924fd6cc-1b58-46de-b848-0ad0c46064a2",
   "metadata": {},
   "outputs": [
    {
     "data": {
      "text/plain": [
       "datetime.timedelta(days=2824, seconds=54360)"
      ]
     },
     "execution_count": 7,
     "metadata": {},
     "output_type": "execute_result"
    }
   ],
   "source": [
    "# delta\n",
    "delta = datetime(2024, 5, 21) - datetime(2016, 8, 26, 8, 54)\n",
    "delta"
   ]
  },
  {
   "cell_type": "code",
   "execution_count": 8,
   "id": "6de4b5c7-7621-4e60-a8b6-3e8faff572b1",
   "metadata": {},
   "outputs": [
    {
     "data": {
      "text/plain": [
       "datetime.datetime(2032, 3, 19, 0, 0)"
      ]
     },
     "execution_count": 8,
     "metadata": {},
     "output_type": "execute_result"
    }
   ],
   "source": [
    "# numerical evaluations\n",
    "start = datetime(2024, 1, 1)\n",
    "start + timedelta(3000)"
   ]
  },
  {
   "cell_type": "markdown",
   "id": "858c4492-f13f-4939-980f-4d5ecee2360b",
   "metadata": {},
   "source": [
    "<h4>Converting between String and Datetime</h4>"
   ]
  },
  {
   "cell_type": "code",
   "execution_count": 9,
   "id": "16650903-b067-4866-a773-86692ba1425d",
   "metadata": {},
   "outputs": [],
   "source": [
    "stamp = datetime(2024, 5, 22)"
   ]
  },
  {
   "cell_type": "code",
   "execution_count": 10,
   "id": "72d35af8-3c3d-4bbd-aeac-e59cdd696973",
   "metadata": {},
   "outputs": [
    {
     "data": {
      "text/plain": [
       "'2024-05-22 00:00:00'"
      ]
     },
     "execution_count": 10,
     "metadata": {},
     "output_type": "execute_result"
    }
   ],
   "source": [
    "str(stamp)"
   ]
  },
  {
   "cell_type": "code",
   "execution_count": 11,
   "id": "2b837233-d1c5-40fc-9806-733d8d08e07c",
   "metadata": {},
   "outputs": [
    {
     "data": {
      "text/plain": [
       "'2024-May-22-3-Wednesday-AM'"
      ]
     },
     "execution_count": 11,
     "metadata": {},
     "output_type": "execute_result"
    }
   ],
   "source": [
    "# Conversion to a specified string format\n",
    "stamp.strftime(\"%Y-%B-%d-%u-%A-%p\")"
   ]
  },
  {
   "cell_type": "code",
   "execution_count": 12,
   "id": "bb6b6679-e42b-45ca-b1dd-805b1b1be1dd",
   "metadata": {},
   "outputs": [],
   "source": [
    "value = \"2024-12-03\""
   ]
  },
  {
   "cell_type": "code",
   "execution_count": 13,
   "id": "304b96de-7bb8-445a-8ae1-5d2b7ad9d6d8",
   "metadata": {},
   "outputs": [
    {
     "data": {
      "text/plain": [
       "datetime.datetime(2024, 12, 3, 0, 0)"
      ]
     },
     "execution_count": 13,
     "metadata": {},
     "output_type": "execute_result"
    }
   ],
   "source": [
    "datetime.strptime(value, \"%Y-%m-%d\")"
   ]
  },
  {
   "cell_type": "code",
   "execution_count": 14,
   "id": "716d8f06-6ecf-4ac4-9e6c-c175f7089e3a",
   "metadata": {},
   "outputs": [
    {
     "data": {
      "text/plain": [
       "[datetime.datetime(2025, 7, 6, 0, 0), datetime.datetime(2025, 8, 6, 0, 0)]"
      ]
     },
     "execution_count": 14,
     "metadata": {},
     "output_type": "execute_result"
    }
   ],
   "source": [
    "# converting a list of string dates to datetime format\n",
    "datestrs = [\"7/6/2025\", \"8/6/2025\"]\n",
    "[datetime.strptime(x, \"%m/%d/%Y\") for x in datestrs]"
   ]
  },
  {
   "cell_type": "code",
   "execution_count": 15,
   "id": "195399dd-f068-4057-8367-79a3e3d156e9",
   "metadata": {},
   "outputs": [
    {
     "data": {
      "text/plain": [
       "DatetimeIndex(['2011-07-06 12:00:00', '2025-08-06 00:00:00'], dtype='datetime64[ns]', freq=None)"
      ]
     },
     "execution_count": 15,
     "metadata": {},
     "output_type": "execute_result"
    }
   ],
   "source": [
    "# pandas to_datetime\n",
    "datestrs = [\"2011-07-06 12:00:00\", \"2025-08-06 00:00:00\"]\n",
    "pd.to_datetime(datestrs)"
   ]
  },
  {
   "cell_type": "code",
   "execution_count": 16,
   "id": "a1caa520-3825-4879-b823-bc0b2a9c462a",
   "metadata": {},
   "outputs": [],
   "source": [
    "# dataframe to datetime\n",
    "df = pd.DataFrame(\n",
    "    {\"year\": [2025, 2024, 2023],\n",
    "     \"month\": [2, 4, 8],\n",
    "     \"day\": [5, 4, 5]\n",
    "    })"
   ]
  },
  {
   "cell_type": "code",
   "execution_count": 17,
   "id": "c7f68464-da42-4e2a-9372-e03e590840cd",
   "metadata": {},
   "outputs": [
    {
     "data": {
      "text/html": [
       "<div>\n",
       "<style scoped>\n",
       "    .dataframe tbody tr th:only-of-type {\n",
       "        vertical-align: middle;\n",
       "    }\n",
       "\n",
       "    .dataframe tbody tr th {\n",
       "        vertical-align: top;\n",
       "    }\n",
       "\n",
       "    .dataframe thead th {\n",
       "        text-align: right;\n",
       "    }\n",
       "</style>\n",
       "<table border=\"1\" class=\"dataframe\">\n",
       "  <thead>\n",
       "    <tr style=\"text-align: right;\">\n",
       "      <th></th>\n",
       "      <th>year</th>\n",
       "      <th>month</th>\n",
       "      <th>day</th>\n",
       "    </tr>\n",
       "  </thead>\n",
       "  <tbody>\n",
       "    <tr>\n",
       "      <th>0</th>\n",
       "      <td>2025</td>\n",
       "      <td>2</td>\n",
       "      <td>5</td>\n",
       "    </tr>\n",
       "    <tr>\n",
       "      <th>1</th>\n",
       "      <td>2024</td>\n",
       "      <td>4</td>\n",
       "      <td>4</td>\n",
       "    </tr>\n",
       "    <tr>\n",
       "      <th>2</th>\n",
       "      <td>2023</td>\n",
       "      <td>8</td>\n",
       "      <td>5</td>\n",
       "    </tr>\n",
       "  </tbody>\n",
       "</table>\n",
       "</div>"
      ],
      "text/plain": [
       "   year  month  day\n",
       "0  2025      2    5\n",
       "1  2024      4    4\n",
       "2  2023      8    5"
      ]
     },
     "execution_count": 17,
     "metadata": {},
     "output_type": "execute_result"
    }
   ],
   "source": [
    "df"
   ]
  },
  {
   "cell_type": "code",
   "execution_count": 18,
   "id": "890c9cc7-0891-4ab7-82da-f59b530768e4",
   "metadata": {},
   "outputs": [
    {
     "data": {
      "text/plain": [
       "0   2025-02-05\n",
       "1   2024-04-04\n",
       "2   2023-08-05\n",
       "dtype: datetime64[ns]"
      ]
     },
     "execution_count": 18,
     "metadata": {},
     "output_type": "execute_result"
    }
   ],
   "source": [
    "pd.to_datetime(df)"
   ]
  },
  {
   "cell_type": "code",
   "execution_count": 19,
   "id": "f45e75c6-7f1b-43f2-96d3-a9ef91e66482",
   "metadata": {},
   "outputs": [],
   "source": [
    "datestr = [\"2025-07-06 12:00:00\",\n",
    "           \"2034-08-04 13:45:34\"]"
   ]
  },
  {
   "cell_type": "code",
   "execution_count": 20,
   "id": "696dd270-8a4b-4ef6-8556-c7e9a791365a",
   "metadata": {},
   "outputs": [],
   "source": [
    "# Missing values, Not a Time values are also accepted\n",
    "idx = pd.to_datetime(datestrs + [None])"
   ]
  },
  {
   "cell_type": "code",
   "execution_count": 21,
   "id": "2208c9ec-4fae-42b5-b22c-4ffa42cf95c9",
   "metadata": {},
   "outputs": [
    {
     "data": {
      "text/plain": [
       "DatetimeIndex(['2011-07-06 12:00:00', '2025-08-06 00:00:00', 'NaT'], dtype='datetime64[ns]', freq=None)"
      ]
     },
     "execution_count": 21,
     "metadata": {},
     "output_type": "execute_result"
    }
   ],
   "source": [
    "idx"
   ]
  },
  {
   "cell_type": "code",
   "execution_count": 22,
   "id": "6797c513-a438-47b1-b20d-98229a57151f",
   "metadata": {},
   "outputs": [
    {
     "data": {
      "text/plain": [
       "NaT"
      ]
     },
     "execution_count": 22,
     "metadata": {},
     "output_type": "execute_result"
    }
   ],
   "source": [
    "# indexing idx\n",
    "idx[2]"
   ]
  },
  {
   "cell_type": "code",
   "execution_count": 23,
   "id": "415f6f21-7930-4ba9-86cd-be24182f36bd",
   "metadata": {},
   "outputs": [
    {
     "data": {
      "text/plain": [
       "array([False, False,  True])"
      ]
     },
     "execution_count": 23,
     "metadata": {},
     "output_type": "execute_result"
    }
   ],
   "source": [
    "pd.isna(idx)"
   ]
  },
  {
   "cell_type": "markdown",
   "id": "a83ece02-783c-4d4f-afc6-092d0d756bd6",
   "metadata": {},
   "source": [
    "<h4>Time Series Basics</h4>"
   ]
  },
  {
   "cell_type": "code",
   "execution_count": 24,
   "id": "4231ac4c-cb8e-4ed7-a669-c8af90b15a0d",
   "metadata": {},
   "outputs": [],
   "source": [
    "# time series\n",
    "dates = [datetime(2024, 6, 2),\n",
    "        datetime(2025, 10, 21),\n",
    "        datetime(2024, 4, 12),\n",
    "        datetime(2023, 10, 5),\n",
    "        datetime(2016, 11, 3),\n",
    "        datetime(2017, 3, 15),\n",
    "        datetime(2019, 6, 3),\n",
    "        datetime(2020, 5, 8),\n",
    "       ]"
   ]
  },
  {
   "cell_type": "code",
   "execution_count": 25,
   "id": "7454449a-59f2-4990-aeeb-0f25b3e083bb",
   "metadata": {},
   "outputs": [],
   "source": [
    "ts =pd.Series(np.random.standard_normal(8),\n",
    "              index=dates,\n",
    "             )"
   ]
  },
  {
   "cell_type": "code",
   "execution_count": 26,
   "id": "a78c476b-151b-4f83-8e46-2bfe93c81da8",
   "metadata": {},
   "outputs": [
    {
     "data": {
      "text/plain": [
       "2024-06-02    1.283297\n",
       "2025-10-21   -0.973562\n",
       "2024-04-12   -1.059450\n",
       "2023-10-05   -0.712925\n",
       "2016-11-03    0.806425\n",
       "2017-03-15    0.264418\n",
       "2019-06-03   -0.016799\n",
       "2020-05-08    0.784822\n",
       "dtype: float64"
      ]
     },
     "execution_count": 26,
     "metadata": {},
     "output_type": "execute_result"
    }
   ],
   "source": [
    "ts"
   ]
  },
  {
   "cell_type": "code",
   "execution_count": 27,
   "id": "f516ed5e-9fe5-4ce6-8455-f5aefbc54611",
   "metadata": {},
   "outputs": [
    {
     "data": {
      "text/plain": [
       "2016-11-03         NaN\n",
       "2017-03-15         NaN\n",
       "2019-06-03   -0.033598\n",
       "2020-05-08         NaN\n",
       "2023-10-05   -1.425849\n",
       "2024-04-12         NaN\n",
       "2024-06-02    2.566594\n",
       "2025-10-21         NaN\n",
       "dtype: float64"
      ]
     },
     "execution_count": 27,
     "metadata": {},
     "output_type": "execute_result"
    }
   ],
   "source": [
    "ts + ts[::3]"
   ]
  },
  {
   "cell_type": "code",
   "execution_count": 28,
   "id": "b4b800ed-4319-4df7-88f4-e0c227348de6",
   "metadata": {},
   "outputs": [
    {
     "data": {
      "text/plain": [
       "2024-06-02    1.283297\n",
       "2023-10-05   -0.712925\n",
       "2019-06-03   -0.016799\n",
       "dtype: float64"
      ]
     },
     "execution_count": 28,
     "metadata": {},
     "output_type": "execute_result"
    }
   ],
   "source": [
    "ts[::3]"
   ]
  },
  {
   "cell_type": "markdown",
   "id": "c1d1bad1-2d75-45c3-a5cf-9894164bb67d",
   "metadata": {},
   "source": [
    "<h4>indexing, Selecting and Subsetting</h4>"
   ]
  },
  {
   "cell_type": "code",
   "execution_count": 29,
   "id": "b3a63b28-f387-461c-ba3e-02494eed20f0",
   "metadata": {},
   "outputs": [],
   "source": [
    "# same as indexing a series\n",
    "stamp = ts.index[2]"
   ]
  },
  {
   "cell_type": "code",
   "execution_count": 30,
   "id": "f6aa4016-21af-41b1-940c-a43c240cbee9",
   "metadata": {},
   "outputs": [
    {
     "data": {
      "text/plain": [
       "Timestamp('2024-04-12 00:00:00')"
      ]
     },
     "execution_count": 30,
     "metadata": {},
     "output_type": "execute_result"
    }
   ],
   "source": [
    "stamp"
   ]
  },
  {
   "cell_type": "code",
   "execution_count": 31,
   "id": "b28abe19-d644-4bb1-8e00-5e131f709bb3",
   "metadata": {},
   "outputs": [
    {
     "data": {
      "text/plain": [
       "1.283296918031038"
      ]
     },
     "execution_count": 31,
     "metadata": {},
     "output_type": "execute_result"
    }
   ],
   "source": [
    "ts.iat[0]"
   ]
  },
  {
   "cell_type": "code",
   "execution_count": 32,
   "id": "2f2e11a9-8ff9-4f7b-9898-7ba7882bcb29",
   "metadata": {},
   "outputs": [],
   "source": [
    "# indexing by year\n",
    "longer_ts = pd.Series(np.random.standard_normal(2000),\n",
    "                      index=pd.date_range(\"2024-05-22\",\n",
    "                                          periods=2000))"
   ]
  },
  {
   "cell_type": "code",
   "execution_count": 33,
   "id": "5e3f0026-8206-41be-9b02-94f5e950271c",
   "metadata": {},
   "outputs": [
    {
     "data": {
      "text/plain": [
       "2024-05-22   -0.147887\n",
       "2024-05-23   -0.384182\n",
       "2024-05-24    0.787029\n",
       "2024-05-25    0.215346\n",
       "2024-05-26   -0.528333\n",
       "                ...   \n",
       "2024-12-27    0.037360\n",
       "2024-12-28    0.177472\n",
       "2024-12-29   -0.899077\n",
       "2024-12-30    0.793137\n",
       "2024-12-31   -1.659256\n",
       "Freq: D, Length: 224, dtype: float64"
      ]
     },
     "execution_count": 33,
     "metadata": {},
     "output_type": "execute_result"
    }
   ],
   "source": [
    "longer_ts[\"2024\"]"
   ]
  },
  {
   "cell_type": "code",
   "execution_count": 34,
   "id": "76f5d3ce-448a-4a07-bd6d-7f78d4052e76",
   "metadata": {},
   "outputs": [
    {
     "data": {
      "text/plain": [
       "2024-06-01    0.504968\n",
       "2024-06-02    0.207834\n",
       "2024-06-03    0.452760\n",
       "2024-06-04    0.247504\n",
       "2024-06-05    0.212555\n",
       "2024-06-06    0.757506\n",
       "2024-06-07   -0.231786\n",
       "2024-06-08    0.285547\n",
       "2024-06-09    1.209326\n",
       "2024-06-10   -0.090635\n",
       "2024-06-11   -1.899869\n",
       "2024-06-12    0.876221\n",
       "2024-06-13    0.763081\n",
       "2024-06-14   -0.935985\n",
       "2024-06-15    0.957534\n",
       "2024-06-16   -0.129491\n",
       "2024-06-17    1.110343\n",
       "2024-06-18   -0.165850\n",
       "2024-06-19   -0.742795\n",
       "2024-06-20    0.278032\n",
       "2024-06-21   -0.236790\n",
       "2024-06-22   -0.055839\n",
       "2024-06-23    0.353691\n",
       "2024-06-24    0.459041\n",
       "2024-06-25   -1.718595\n",
       "2024-06-26    0.094762\n",
       "2024-06-27    0.429354\n",
       "2024-06-28    0.666797\n",
       "2024-06-29   -1.344711\n",
       "2024-06-30    1.012798\n",
       "Freq: D, dtype: float64"
      ]
     },
     "execution_count": 34,
     "metadata": {},
     "output_type": "execute_result"
    }
   ],
   "source": [
    "# selecting by year-month\n",
    "longer_ts[\"2024-06\"]"
   ]
  },
  {
   "cell_type": "code",
   "execution_count": 35,
   "id": "edc475c3-b65c-49e9-9e5f-80d2bd1eb3b7",
   "metadata": {},
   "outputs": [
    {
     "data": {
      "text/plain": [
       "2024-05-22   -0.147887\n",
       "2024-05-23   -0.384182\n",
       "2024-05-24    0.787029\n",
       "2024-05-25    0.215346\n",
       "2024-05-26   -0.528333\n",
       "                ...   \n",
       "2024-07-28    2.178003\n",
       "2024-07-29    0.114860\n",
       "2024-07-30    0.032916\n",
       "2024-07-31   -0.552248\n",
       "2024-08-01   -0.113262\n",
       "Freq: D, Length: 72, dtype: float64"
      ]
     },
     "execution_count": 35,
     "metadata": {},
     "output_type": "execute_result"
    }
   ],
   "source": [
    "# Slicing by datetime\n",
    "longer_ts[datetime(2024,5,22):\n",
    "datetime(2024,8,1)\n",
    "]"
   ]
  },
  {
   "cell_type": "code",
   "execution_count": 36,
   "id": "c14fc0ad-07f2-47f4-ad3e-c55f7814a0ce",
   "metadata": {},
   "outputs": [
    {
     "data": {
      "text/plain": [
       "2024-05-22   -0.147887\n",
       "2024-05-23   -0.384182\n",
       "2024-05-24    0.787029\n",
       "2024-05-25    0.215346\n",
       "2024-05-26   -0.528333\n",
       "                ...   \n",
       "2024-08-22   -0.363808\n",
       "2024-08-23    0.008266\n",
       "2024-08-24    1.408014\n",
       "2024-08-25   -0.955685\n",
       "2024-08-26   -1.029431\n",
       "Freq: D, Length: 97, dtype: float64"
      ]
     },
     "execution_count": 36,
     "metadata": {},
     "output_type": "execute_result"
    }
   ],
   "source": [
    "# Slicing with a timestamp not contained in the ts\n",
    "longer_ts[datetime(2016, 8, 26):\n",
    "datetime(2024, 8, 26)\n",
    "]"
   ]
  },
  {
   "cell_type": "code",
   "execution_count": 37,
   "id": "9f552a3d-b577-455d-ac72-24cc3724501f",
   "metadata": {},
   "outputs": [
    {
     "data": {
      "text/plain": [
       "2024-05-22   -0.147887\n",
       "2024-05-23   -0.384182\n",
       "2024-05-24    0.787029\n",
       "2024-05-25    0.215346\n",
       "2024-05-26   -0.528333\n",
       "                ...   \n",
       "2029-11-07   -0.701452\n",
       "2029-11-08   -0.359343\n",
       "2029-11-09    2.627271\n",
       "2029-11-10   -0.274085\n",
       "2029-11-11    0.711315\n",
       "Freq: D, Length: 2000, dtype: float64"
      ]
     },
     "execution_count": 37,
     "metadata": {},
     "output_type": "execute_result"
    }
   ],
   "source": [
    "longer_ts"
   ]
  },
  {
   "cell_type": "code",
   "execution_count": 38,
   "id": "487d875b-83c2-492e-9a0e-bb3310b7fa1f",
   "metadata": {},
   "outputs": [
    {
     "data": {
      "text/plain": [
       "2024-05-22   -0.147887\n",
       "2024-05-23   -0.384182\n",
       "2024-05-24    0.787029\n",
       "2024-05-25    0.215346\n",
       "2024-05-26   -0.528333\n",
       "                ...   \n",
       "2025-05-18   -1.007593\n",
       "2025-05-19   -0.309736\n",
       "2025-05-20   -1.313725\n",
       "2025-05-21    1.760265\n",
       "2025-05-22    0.096226\n",
       "Freq: D, Length: 366, dtype: float64"
      ]
     },
     "execution_count": 38,
     "metadata": {},
     "output_type": "execute_result"
    }
   ],
   "source": [
    "# truncating after a specific date\n",
    "longer_ts.truncate(after=\"2025-05-22\")"
   ]
  },
  {
   "cell_type": "code",
   "execution_count": 39,
   "id": "ed8e9f70-82fd-4930-afa6-d13fcf6c3b3b",
   "metadata": {},
   "outputs": [],
   "source": [
    "dates = pd.date_range(\"2024-01-01\",\n",
    "                      periods=100,\n",
    "                      freq=\"W-WED\"\n",
    "                     )"
   ]
  },
  {
   "cell_type": "code",
   "execution_count": 40,
   "id": "7e28c20f-d407-4236-a19e-c1b5e5dca963",
   "metadata": {},
   "outputs": [],
   "source": [
    "long_df = pd.DataFrame(np.random.standard_normal((100,4)),\n",
    "                       index=dates,\n",
    "                       columns=[\"Iganga\", \"Jinja\", \"Kampala\", \"Busia\"])"
   ]
  },
  {
   "cell_type": "code",
   "execution_count": 41,
   "id": "9ce9342e-b2cd-4fd4-8508-f52cc032f869",
   "metadata": {},
   "outputs": [
    {
     "data": {
      "text/html": [
       "<div>\n",
       "<style scoped>\n",
       "    .dataframe tbody tr th:only-of-type {\n",
       "        vertical-align: middle;\n",
       "    }\n",
       "\n",
       "    .dataframe tbody tr th {\n",
       "        vertical-align: top;\n",
       "    }\n",
       "\n",
       "    .dataframe thead th {\n",
       "        text-align: right;\n",
       "    }\n",
       "</style>\n",
       "<table border=\"1\" class=\"dataframe\">\n",
       "  <thead>\n",
       "    <tr style=\"text-align: right;\">\n",
       "      <th></th>\n",
       "      <th>Iganga</th>\n",
       "      <th>Jinja</th>\n",
       "      <th>Kampala</th>\n",
       "      <th>Busia</th>\n",
       "    </tr>\n",
       "  </thead>\n",
       "  <tbody>\n",
       "    <tr>\n",
       "      <th>2024-01-03</th>\n",
       "      <td>-0.652675</td>\n",
       "      <td>-1.719484</td>\n",
       "      <td>0.426638</td>\n",
       "      <td>-0.104097</td>\n",
       "    </tr>\n",
       "    <tr>\n",
       "      <th>2024-01-10</th>\n",
       "      <td>-2.248410</td>\n",
       "      <td>-0.604910</td>\n",
       "      <td>-1.325703</td>\n",
       "      <td>0.914235</td>\n",
       "    </tr>\n",
       "    <tr>\n",
       "      <th>2024-01-17</th>\n",
       "      <td>-0.603226</td>\n",
       "      <td>0.387195</td>\n",
       "      <td>1.319636</td>\n",
       "      <td>-0.133621</td>\n",
       "    </tr>\n",
       "    <tr>\n",
       "      <th>2024-01-24</th>\n",
       "      <td>-0.850946</td>\n",
       "      <td>-0.496309</td>\n",
       "      <td>0.675304</td>\n",
       "      <td>0.277815</td>\n",
       "    </tr>\n",
       "    <tr>\n",
       "      <th>2024-01-31</th>\n",
       "      <td>1.220903</td>\n",
       "      <td>-0.176856</td>\n",
       "      <td>2.378499</td>\n",
       "      <td>-0.470518</td>\n",
       "    </tr>\n",
       "    <tr>\n",
       "      <th>2024-02-07</th>\n",
       "      <td>-0.438011</td>\n",
       "      <td>-0.227300</td>\n",
       "      <td>0.219299</td>\n",
       "      <td>-0.780972</td>\n",
       "    </tr>\n",
       "    <tr>\n",
       "      <th>2024-02-14</th>\n",
       "      <td>-1.053041</td>\n",
       "      <td>1.445033</td>\n",
       "      <td>0.099417</td>\n",
       "      <td>0.347696</td>\n",
       "    </tr>\n",
       "    <tr>\n",
       "      <th>2024-02-21</th>\n",
       "      <td>0.262623</td>\n",
       "      <td>0.550614</td>\n",
       "      <td>-1.594482</td>\n",
       "      <td>0.619534</td>\n",
       "    </tr>\n",
       "    <tr>\n",
       "      <th>2024-02-28</th>\n",
       "      <td>0.358111</td>\n",
       "      <td>1.461625</td>\n",
       "      <td>0.742429</td>\n",
       "      <td>-1.347000</td>\n",
       "    </tr>\n",
       "    <tr>\n",
       "      <th>2024-03-06</th>\n",
       "      <td>1.465040</td>\n",
       "      <td>1.310650</td>\n",
       "      <td>1.431698</td>\n",
       "      <td>-0.568054</td>\n",
       "    </tr>\n",
       "    <tr>\n",
       "      <th>2024-03-13</th>\n",
       "      <td>-0.996558</td>\n",
       "      <td>1.052689</td>\n",
       "      <td>0.737032</td>\n",
       "      <td>-0.209150</td>\n",
       "    </tr>\n",
       "    <tr>\n",
       "      <th>2024-03-20</th>\n",
       "      <td>1.412765</td>\n",
       "      <td>-0.357521</td>\n",
       "      <td>0.773816</td>\n",
       "      <td>-0.885672</td>\n",
       "    </tr>\n",
       "    <tr>\n",
       "      <th>2024-03-27</th>\n",
       "      <td>-0.011525</td>\n",
       "      <td>1.380542</td>\n",
       "      <td>-0.115604</td>\n",
       "      <td>0.027235</td>\n",
       "    </tr>\n",
       "    <tr>\n",
       "      <th>2024-04-03</th>\n",
       "      <td>-0.139177</td>\n",
       "      <td>0.680593</td>\n",
       "      <td>-0.310303</td>\n",
       "      <td>1.150816</td>\n",
       "    </tr>\n",
       "    <tr>\n",
       "      <th>2024-04-10</th>\n",
       "      <td>1.183299</td>\n",
       "      <td>1.420196</td>\n",
       "      <td>0.718388</td>\n",
       "      <td>-0.089476</td>\n",
       "    </tr>\n",
       "    <tr>\n",
       "      <th>2024-04-17</th>\n",
       "      <td>0.077693</td>\n",
       "      <td>0.235429</td>\n",
       "      <td>0.155578</td>\n",
       "      <td>0.114276</td>\n",
       "    </tr>\n",
       "    <tr>\n",
       "      <th>2024-04-24</th>\n",
       "      <td>-0.227317</td>\n",
       "      <td>-0.785153</td>\n",
       "      <td>-2.090274</td>\n",
       "      <td>0.295826</td>\n",
       "    </tr>\n",
       "    <tr>\n",
       "      <th>2024-05-01</th>\n",
       "      <td>-1.049307</td>\n",
       "      <td>-0.361972</td>\n",
       "      <td>-0.375597</td>\n",
       "      <td>0.716242</td>\n",
       "    </tr>\n",
       "    <tr>\n",
       "      <th>2024-05-08</th>\n",
       "      <td>0.009630</td>\n",
       "      <td>0.126594</td>\n",
       "      <td>0.172982</td>\n",
       "      <td>0.984264</td>\n",
       "    </tr>\n",
       "    <tr>\n",
       "      <th>2024-05-15</th>\n",
       "      <td>-0.391934</td>\n",
       "      <td>-0.625558</td>\n",
       "      <td>-0.219427</td>\n",
       "      <td>2.148632</td>\n",
       "    </tr>\n",
       "    <tr>\n",
       "      <th>2024-05-22</th>\n",
       "      <td>0.908625</td>\n",
       "      <td>0.622873</td>\n",
       "      <td>-3.122347</td>\n",
       "      <td>1.281465</td>\n",
       "    </tr>\n",
       "    <tr>\n",
       "      <th>2024-05-29</th>\n",
       "      <td>-0.933313</td>\n",
       "      <td>-1.944746</td>\n",
       "      <td>0.084950</td>\n",
       "      <td>-1.496749</td>\n",
       "    </tr>\n",
       "    <tr>\n",
       "      <th>2024-06-05</th>\n",
       "      <td>-0.116539</td>\n",
       "      <td>0.440524</td>\n",
       "      <td>-0.621873</td>\n",
       "      <td>0.428696</td>\n",
       "    </tr>\n",
       "    <tr>\n",
       "      <th>2024-06-12</th>\n",
       "      <td>-0.871997</td>\n",
       "      <td>0.083975</td>\n",
       "      <td>-0.897858</td>\n",
       "      <td>-0.331090</td>\n",
       "    </tr>\n",
       "    <tr>\n",
       "      <th>2024-06-19</th>\n",
       "      <td>0.150705</td>\n",
       "      <td>-0.768200</td>\n",
       "      <td>-1.588861</td>\n",
       "      <td>-0.621499</td>\n",
       "    </tr>\n",
       "    <tr>\n",
       "      <th>2024-06-26</th>\n",
       "      <td>2.291774</td>\n",
       "      <td>1.628871</td>\n",
       "      <td>0.398526</td>\n",
       "      <td>2.190096</td>\n",
       "    </tr>\n",
       "    <tr>\n",
       "      <th>2024-07-03</th>\n",
       "      <td>-0.227665</td>\n",
       "      <td>0.530362</td>\n",
       "      <td>-1.870414</td>\n",
       "      <td>0.371476</td>\n",
       "    </tr>\n",
       "    <tr>\n",
       "      <th>2024-07-10</th>\n",
       "      <td>-0.919209</td>\n",
       "      <td>0.263399</td>\n",
       "      <td>-1.168103</td>\n",
       "      <td>-1.223591</td>\n",
       "    </tr>\n",
       "    <tr>\n",
       "      <th>2024-07-17</th>\n",
       "      <td>-0.538081</td>\n",
       "      <td>1.810194</td>\n",
       "      <td>0.711105</td>\n",
       "      <td>-0.017517</td>\n",
       "    </tr>\n",
       "    <tr>\n",
       "      <th>2024-07-24</th>\n",
       "      <td>-0.591654</td>\n",
       "      <td>1.563696</td>\n",
       "      <td>-1.317280</td>\n",
       "      <td>1.056797</td>\n",
       "    </tr>\n",
       "    <tr>\n",
       "      <th>2024-07-31</th>\n",
       "      <td>0.731607</td>\n",
       "      <td>0.483314</td>\n",
       "      <td>0.477337</td>\n",
       "      <td>0.732967</td>\n",
       "    </tr>\n",
       "    <tr>\n",
       "      <th>2024-08-07</th>\n",
       "      <td>1.175174</td>\n",
       "      <td>-0.564885</td>\n",
       "      <td>1.275385</td>\n",
       "      <td>-0.067703</td>\n",
       "    </tr>\n",
       "    <tr>\n",
       "      <th>2024-08-14</th>\n",
       "      <td>-1.109452</td>\n",
       "      <td>-0.371360</td>\n",
       "      <td>0.358208</td>\n",
       "      <td>0.399997</td>\n",
       "    </tr>\n",
       "    <tr>\n",
       "      <th>2024-08-21</th>\n",
       "      <td>0.239264</td>\n",
       "      <td>-0.233926</td>\n",
       "      <td>-0.289131</td>\n",
       "      <td>-0.911443</td>\n",
       "    </tr>\n",
       "    <tr>\n",
       "      <th>2024-08-28</th>\n",
       "      <td>0.103402</td>\n",
       "      <td>0.291394</td>\n",
       "      <td>-1.254708</td>\n",
       "      <td>0.147259</td>\n",
       "    </tr>\n",
       "    <tr>\n",
       "      <th>2024-09-04</th>\n",
       "      <td>-0.686395</td>\n",
       "      <td>-0.691742</td>\n",
       "      <td>0.407824</td>\n",
       "      <td>-0.717775</td>\n",
       "    </tr>\n",
       "    <tr>\n",
       "      <th>2024-09-11</th>\n",
       "      <td>0.513714</td>\n",
       "      <td>0.533239</td>\n",
       "      <td>1.058305</td>\n",
       "      <td>0.618838</td>\n",
       "    </tr>\n",
       "    <tr>\n",
       "      <th>2024-09-18</th>\n",
       "      <td>0.647521</td>\n",
       "      <td>-0.610188</td>\n",
       "      <td>-0.278140</td>\n",
       "      <td>-1.165035</td>\n",
       "    </tr>\n",
       "    <tr>\n",
       "      <th>2024-09-25</th>\n",
       "      <td>-1.050026</td>\n",
       "      <td>0.614111</td>\n",
       "      <td>0.319999</td>\n",
       "      <td>0.520800</td>\n",
       "    </tr>\n",
       "    <tr>\n",
       "      <th>2024-10-02</th>\n",
       "      <td>0.214090</td>\n",
       "      <td>3.147406</td>\n",
       "      <td>-1.046406</td>\n",
       "      <td>-0.955798</td>\n",
       "    </tr>\n",
       "    <tr>\n",
       "      <th>2024-10-09</th>\n",
       "      <td>-1.359271</td>\n",
       "      <td>0.790325</td>\n",
       "      <td>0.898894</td>\n",
       "      <td>0.259981</td>\n",
       "    </tr>\n",
       "    <tr>\n",
       "      <th>2024-10-16</th>\n",
       "      <td>0.199035</td>\n",
       "      <td>-1.293658</td>\n",
       "      <td>-0.871093</td>\n",
       "      <td>-1.037565</td>\n",
       "    </tr>\n",
       "    <tr>\n",
       "      <th>2024-10-23</th>\n",
       "      <td>0.234261</td>\n",
       "      <td>-0.712899</td>\n",
       "      <td>-1.322059</td>\n",
       "      <td>1.206158</td>\n",
       "    </tr>\n",
       "    <tr>\n",
       "      <th>2024-10-30</th>\n",
       "      <td>-0.079633</td>\n",
       "      <td>-0.006401</td>\n",
       "      <td>-2.065528</td>\n",
       "      <td>-0.061255</td>\n",
       "    </tr>\n",
       "    <tr>\n",
       "      <th>2024-11-06</th>\n",
       "      <td>-1.463033</td>\n",
       "      <td>-0.627717</td>\n",
       "      <td>0.608906</td>\n",
       "      <td>0.240890</td>\n",
       "    </tr>\n",
       "    <tr>\n",
       "      <th>2024-11-13</th>\n",
       "      <td>0.290582</td>\n",
       "      <td>2.334669</td>\n",
       "      <td>0.616010</td>\n",
       "      <td>0.021617</td>\n",
       "    </tr>\n",
       "    <tr>\n",
       "      <th>2024-11-20</th>\n",
       "      <td>0.187270</td>\n",
       "      <td>-0.449419</td>\n",
       "      <td>-0.175640</td>\n",
       "      <td>-1.470118</td>\n",
       "    </tr>\n",
       "    <tr>\n",
       "      <th>2024-11-27</th>\n",
       "      <td>0.833154</td>\n",
       "      <td>-1.542123</td>\n",
       "      <td>1.432624</td>\n",
       "      <td>0.522918</td>\n",
       "    </tr>\n",
       "    <tr>\n",
       "      <th>2024-12-04</th>\n",
       "      <td>1.071927</td>\n",
       "      <td>0.243044</td>\n",
       "      <td>2.323300</td>\n",
       "      <td>0.369801</td>\n",
       "    </tr>\n",
       "    <tr>\n",
       "      <th>2024-12-11</th>\n",
       "      <td>-1.626716</td>\n",
       "      <td>0.223055</td>\n",
       "      <td>0.203710</td>\n",
       "      <td>-0.304294</td>\n",
       "    </tr>\n",
       "    <tr>\n",
       "      <th>2024-12-18</th>\n",
       "      <td>0.385544</td>\n",
       "      <td>-0.376586</td>\n",
       "      <td>-1.306548</td>\n",
       "      <td>-0.310886</td>\n",
       "    </tr>\n",
       "    <tr>\n",
       "      <th>2024-12-25</th>\n",
       "      <td>0.920501</td>\n",
       "      <td>0.168749</td>\n",
       "      <td>-0.654174</td>\n",
       "      <td>-1.263965</td>\n",
       "    </tr>\n",
       "  </tbody>\n",
       "</table>\n",
       "</div>"
      ],
      "text/plain": [
       "              Iganga     Jinja   Kampala     Busia\n",
       "2024-01-03 -0.652675 -1.719484  0.426638 -0.104097\n",
       "2024-01-10 -2.248410 -0.604910 -1.325703  0.914235\n",
       "2024-01-17 -0.603226  0.387195  1.319636 -0.133621\n",
       "2024-01-24 -0.850946 -0.496309  0.675304  0.277815\n",
       "2024-01-31  1.220903 -0.176856  2.378499 -0.470518\n",
       "2024-02-07 -0.438011 -0.227300  0.219299 -0.780972\n",
       "2024-02-14 -1.053041  1.445033  0.099417  0.347696\n",
       "2024-02-21  0.262623  0.550614 -1.594482  0.619534\n",
       "2024-02-28  0.358111  1.461625  0.742429 -1.347000\n",
       "2024-03-06  1.465040  1.310650  1.431698 -0.568054\n",
       "2024-03-13 -0.996558  1.052689  0.737032 -0.209150\n",
       "2024-03-20  1.412765 -0.357521  0.773816 -0.885672\n",
       "2024-03-27 -0.011525  1.380542 -0.115604  0.027235\n",
       "2024-04-03 -0.139177  0.680593 -0.310303  1.150816\n",
       "2024-04-10  1.183299  1.420196  0.718388 -0.089476\n",
       "2024-04-17  0.077693  0.235429  0.155578  0.114276\n",
       "2024-04-24 -0.227317 -0.785153 -2.090274  0.295826\n",
       "2024-05-01 -1.049307 -0.361972 -0.375597  0.716242\n",
       "2024-05-08  0.009630  0.126594  0.172982  0.984264\n",
       "2024-05-15 -0.391934 -0.625558 -0.219427  2.148632\n",
       "2024-05-22  0.908625  0.622873 -3.122347  1.281465\n",
       "2024-05-29 -0.933313 -1.944746  0.084950 -1.496749\n",
       "2024-06-05 -0.116539  0.440524 -0.621873  0.428696\n",
       "2024-06-12 -0.871997  0.083975 -0.897858 -0.331090\n",
       "2024-06-19  0.150705 -0.768200 -1.588861 -0.621499\n",
       "2024-06-26  2.291774  1.628871  0.398526  2.190096\n",
       "2024-07-03 -0.227665  0.530362 -1.870414  0.371476\n",
       "2024-07-10 -0.919209  0.263399 -1.168103 -1.223591\n",
       "2024-07-17 -0.538081  1.810194  0.711105 -0.017517\n",
       "2024-07-24 -0.591654  1.563696 -1.317280  1.056797\n",
       "2024-07-31  0.731607  0.483314  0.477337  0.732967\n",
       "2024-08-07  1.175174 -0.564885  1.275385 -0.067703\n",
       "2024-08-14 -1.109452 -0.371360  0.358208  0.399997\n",
       "2024-08-21  0.239264 -0.233926 -0.289131 -0.911443\n",
       "2024-08-28  0.103402  0.291394 -1.254708  0.147259\n",
       "2024-09-04 -0.686395 -0.691742  0.407824 -0.717775\n",
       "2024-09-11  0.513714  0.533239  1.058305  0.618838\n",
       "2024-09-18  0.647521 -0.610188 -0.278140 -1.165035\n",
       "2024-09-25 -1.050026  0.614111  0.319999  0.520800\n",
       "2024-10-02  0.214090  3.147406 -1.046406 -0.955798\n",
       "2024-10-09 -1.359271  0.790325  0.898894  0.259981\n",
       "2024-10-16  0.199035 -1.293658 -0.871093 -1.037565\n",
       "2024-10-23  0.234261 -0.712899 -1.322059  1.206158\n",
       "2024-10-30 -0.079633 -0.006401 -2.065528 -0.061255\n",
       "2024-11-06 -1.463033 -0.627717  0.608906  0.240890\n",
       "2024-11-13  0.290582  2.334669  0.616010  0.021617\n",
       "2024-11-20  0.187270 -0.449419 -0.175640 -1.470118\n",
       "2024-11-27  0.833154 -1.542123  1.432624  0.522918\n",
       "2024-12-04  1.071927  0.243044  2.323300  0.369801\n",
       "2024-12-11 -1.626716  0.223055  0.203710 -0.304294\n",
       "2024-12-18  0.385544 -0.376586 -1.306548 -0.310886\n",
       "2024-12-25  0.920501  0.168749 -0.654174 -1.263965"
      ]
     },
     "execution_count": 41,
     "metadata": {},
     "output_type": "execute_result"
    }
   ],
   "source": [
    "long_df.loc[\"2024\"]"
   ]
  },
  {
   "cell_type": "markdown",
   "id": "bf083692-5721-43de-aeaa-3a3cda110c21",
   "metadata": {},
   "source": [
    "<h4>Time Series with Duplicates</h4>"
   ]
  },
  {
   "cell_type": "code",
   "execution_count": 42,
   "id": "1008f95d-0aa8-4e8d-8bc4-b3c65a8cf0df",
   "metadata": {},
   "outputs": [],
   "source": [
    "dates = pd.DatetimeIndex([\"2000-01-01\",\n",
    "                          \"2000-01-02\",\n",
    "                          \"2000-01-02\",\n",
    "                          \"2000-01-02\",\n",
    "                          \"2000-01-03\"])"
   ]
  },
  {
   "cell_type": "code",
   "execution_count": 43,
   "id": "f609b8fb-a70e-4f83-95aa-163b55b590c6",
   "metadata": {},
   "outputs": [],
   "source": [
    "dup_ts = pd.Series(np.arange(5),\n",
    "                   index=dates)"
   ]
  },
  {
   "cell_type": "code",
   "execution_count": 44,
   "id": "b1ea308f-f17e-41dc-b411-42d6758c5c7b",
   "metadata": {},
   "outputs": [
    {
     "data": {
      "text/plain": [
       "2000-01-01    0\n",
       "2000-01-02    1\n",
       "2000-01-02    2\n",
       "2000-01-02    3\n",
       "2000-01-03    4\n",
       "dtype: int32"
      ]
     },
     "execution_count": 44,
     "metadata": {},
     "output_type": "execute_result"
    }
   ],
   "source": [
    "dup_ts"
   ]
  },
  {
   "cell_type": "code",
   "execution_count": 45,
   "id": "bfe62b36-33be-4bff-8576-2fcf6be5fead",
   "metadata": {},
   "outputs": [
    {
     "data": {
      "text/plain": [
       "4"
      ]
     },
     "execution_count": 45,
     "metadata": {},
     "output_type": "execute_result"
    }
   ],
   "source": [
    "dup_ts[\"2000-01-03\"]"
   ]
  },
  {
   "cell_type": "code",
   "execution_count": 46,
   "id": "1c9d71f3-a29f-4f2d-bc5d-5060bce8b6e7",
   "metadata": {},
   "outputs": [
    {
     "data": {
      "text/plain": [
       "2000-01-02    1\n",
       "2000-01-02    2\n",
       "2000-01-02    3\n",
       "dtype: int32"
      ]
     },
     "execution_count": 46,
     "metadata": {},
     "output_type": "execute_result"
    }
   ],
   "source": [
    "dup_ts[\"2000-01-02\"]"
   ]
  },
  {
   "cell_type": "code",
   "execution_count": 47,
   "id": "7fbfdd2f-d070-4a8d-8f99-a44316008693",
   "metadata": {},
   "outputs": [],
   "source": [
    "# Aggregating\n",
    "grouped = dup_ts.groupby(level=0)"
   ]
  },
  {
   "cell_type": "code",
   "execution_count": 48,
   "id": "fa184176-58ff-4e8e-8ca7-7b44bb718661",
   "metadata": {},
   "outputs": [
    {
     "data": {
      "text/plain": [
       "2000-01-01    0.0\n",
       "2000-01-02    2.0\n",
       "2000-01-03    4.0\n",
       "dtype: float64"
      ]
     },
     "execution_count": 48,
     "metadata": {},
     "output_type": "execute_result"
    }
   ],
   "source": [
    "grouped.mean()"
   ]
  },
  {
   "cell_type": "code",
   "execution_count": 49,
   "id": "69bd282f-9020-4027-a07e-dde825544cc4",
   "metadata": {},
   "outputs": [
    {
     "data": {
      "text/plain": [
       "2000-01-01    1\n",
       "2000-01-02    3\n",
       "2000-01-03    1\n",
       "dtype: int64"
      ]
     },
     "execution_count": 49,
     "metadata": {},
     "output_type": "execute_result"
    }
   ],
   "source": [
    "grouped.count()"
   ]
  },
  {
   "cell_type": "markdown",
   "id": "1b452b7b-1ceb-4a2f-a348-07f32d3fafc9",
   "metadata": {},
   "source": [
    "<h4>Date Ranges, Frequencies and Shifting</h4>"
   ]
  },
  {
   "cell_type": "code",
   "execution_count": 50,
   "id": "90499814-fb27-47f1-8cfb-b97bcbb481ab",
   "metadata": {},
   "outputs": [
    {
     "data": {
      "text/plain": [
       "2024-06-02    1.283297\n",
       "2025-10-21   -0.973562\n",
       "2024-04-12   -1.059450\n",
       "2023-10-05   -0.712925\n",
       "2016-11-03    0.806425\n",
       "2017-03-15    0.264418\n",
       "2019-06-03   -0.016799\n",
       "2020-05-08    0.784822\n",
       "dtype: float64"
      ]
     },
     "execution_count": 50,
     "metadata": {},
     "output_type": "execute_result"
    }
   ],
   "source": [
    "ts"
   ]
  },
  {
   "cell_type": "code",
   "execution_count": 51,
   "id": "cbea68c4-f526-4a4b-9ba5-91198e2017ba",
   "metadata": {},
   "outputs": [],
   "source": [
    "resampler = ts.resample(\"D\")"
   ]
  },
  {
   "cell_type": "code",
   "execution_count": 52,
   "id": "72aa37dd-1ada-4bad-911d-0e299e9f68cb",
   "metadata": {},
   "outputs": [
    {
     "data": {
      "text/plain": [
       "<pandas.core.resample.DatetimeIndexResampler object at 0x00000297C4127770>"
      ]
     },
     "execution_count": 52,
     "metadata": {},
     "output_type": "execute_result"
    }
   ],
   "source": [
    "resampler"
   ]
  },
  {
   "cell_type": "markdown",
   "id": "7476964d-8b73-478d-a87e-1f51174b4fb8",
   "metadata": {},
   "source": [
    "<h4>Generating Date Ranges</h4>"
   ]
  },
  {
   "cell_type": "code",
   "execution_count": 53,
   "id": "f402415f-5b66-4f37-a0e8-a0e0328360b6",
   "metadata": {},
   "outputs": [],
   "source": [
    "index = pd.date_range(\"2024-05-01\",\n",
    "                      \"2024-12-31\")"
   ]
  },
  {
   "cell_type": "code",
   "execution_count": 54,
   "id": "d0d0dbee-e882-46c5-871e-52a3277453f3",
   "metadata": {},
   "outputs": [
    {
     "data": {
      "text/plain": [
       "DatetimeIndex(['2024-05-01', '2024-05-02', '2024-05-03', '2024-05-04',\n",
       "               '2024-05-05', '2024-05-06', '2024-05-07', '2024-05-08',\n",
       "               '2024-05-09', '2024-05-10',\n",
       "               ...\n",
       "               '2024-12-22', '2024-12-23', '2024-12-24', '2024-12-25',\n",
       "               '2024-12-26', '2024-12-27', '2024-12-28', '2024-12-29',\n",
       "               '2024-12-30', '2024-12-31'],\n",
       "              dtype='datetime64[ns]', length=245, freq='D')"
      ]
     },
     "execution_count": 54,
     "metadata": {},
     "output_type": "execute_result"
    }
   ],
   "source": [
    "index"
   ]
  },
  {
   "cell_type": "code",
   "execution_count": 55,
   "id": "0236d7cf-acdc-485d-8e8d-8c9f4f07fbd7",
   "metadata": {},
   "outputs": [
    {
     "data": {
      "text/plain": [
       "DatetimeIndex(['2024-05-25', '2024-05-26', '2024-05-27', '2024-05-28',\n",
       "               '2024-05-29', '2024-05-30', '2024-05-31', '2024-06-01',\n",
       "               '2024-06-02', '2024-06-03'],\n",
       "              dtype='datetime64[ns]', freq='D')"
      ]
     },
     "execution_count": 55,
     "metadata": {},
     "output_type": "execute_result"
    }
   ],
   "source": [
    "# using start date, end date\n",
    "pd.date_range(start=\"2024-05-25\", periods=10)"
   ]
  },
  {
   "cell_type": "code",
   "execution_count": 56,
   "id": "18157ffb-9b81-4a3d-9923-529457711fc5",
   "metadata": {},
   "outputs": [
    {
     "data": {
      "text/plain": [
       "DatetimeIndex(['2008-05-01 00:00:00+03:00', '2008-06-01 00:00:00+03:00',\n",
       "               '2008-07-01 00:00:00+03:00', '2008-08-01 00:00:00+03:00',\n",
       "               '2008-09-01 00:00:00+03:00', '2008-10-01 00:00:00+03:00',\n",
       "               '2008-11-01 00:00:00+03:00', '2008-12-01 00:00:00+03:00',\n",
       "               '2009-01-01 00:00:00+03:00', '2009-02-01 00:00:00+03:00',\n",
       "               ...\n",
       "               '2024-03-01 00:00:00+03:00', '2024-04-01 00:00:00+03:00',\n",
       "               '2024-05-01 00:00:00+03:00', '2024-06-01 00:00:00+03:00',\n",
       "               '2024-07-01 00:00:00+03:00', '2024-08-01 00:00:00+03:00',\n",
       "               '2024-09-01 00:00:00+03:00', '2024-10-01 00:00:00+03:00',\n",
       "               '2024-11-01 00:00:00+03:00', '2024-12-01 00:00:00+03:00'],\n",
       "              dtype='datetime64[ns, Africa/Kampala]', length=200, freq='MS')"
      ]
     },
     "execution_count": 56,
     "metadata": {},
     "output_type": "execute_result"
    }
   ],
   "source": [
    "# using end\n",
    "pd.date_range(end=\"2024-12-31\",\n",
    "              periods=200,\n",
    "             tz='Africa/Kampala',\n",
    "             freq=\"MS\",\n",
    "              inclusive=\"both\",\n",
    "             )"
   ]
  },
  {
   "cell_type": "code",
   "execution_count": 57,
   "id": "7aab281b-647e-43b4-b0af-627e0c8e1041",
   "metadata": {},
   "outputs": [],
   "source": [
    "import pytz"
   ]
  },
  {
   "cell_type": "code",
   "execution_count": 58,
   "id": "3ff47427-1f0a-4a86-b64f-4de368be540b",
   "metadata": {},
   "outputs": [
    {
     "data": {
      "text/plain": [
       "['Africa/Abidjan',\n",
       " 'Africa/Accra',\n",
       " 'Africa/Addis_Ababa',\n",
       " 'Africa/Algiers',\n",
       " 'Africa/Asmara',\n",
       " 'Africa/Asmera',\n",
       " 'Africa/Bamako',\n",
       " 'Africa/Bangui',\n",
       " 'Africa/Banjul',\n",
       " 'Africa/Bissau',\n",
       " 'Africa/Blantyre',\n",
       " 'Africa/Brazzaville',\n",
       " 'Africa/Bujumbura',\n",
       " 'Africa/Cairo',\n",
       " 'Africa/Casablanca',\n",
       " 'Africa/Ceuta',\n",
       " 'Africa/Conakry',\n",
       " 'Africa/Dakar',\n",
       " 'Africa/Dar_es_Salaam',\n",
       " 'Africa/Djibouti',\n",
       " 'Africa/Douala',\n",
       " 'Africa/El_Aaiun',\n",
       " 'Africa/Freetown',\n",
       " 'Africa/Gaborone',\n",
       " 'Africa/Harare',\n",
       " 'Africa/Johannesburg',\n",
       " 'Africa/Juba',\n",
       " 'Africa/Kampala',\n",
       " 'Africa/Khartoum',\n",
       " 'Africa/Kigali',\n",
       " 'Africa/Kinshasa',\n",
       " 'Africa/Lagos',\n",
       " 'Africa/Libreville',\n",
       " 'Africa/Lome',\n",
       " 'Africa/Luanda',\n",
       " 'Africa/Lubumbashi',\n",
       " 'Africa/Lusaka',\n",
       " 'Africa/Malabo',\n",
       " 'Africa/Maputo',\n",
       " 'Africa/Maseru',\n",
       " 'Africa/Mbabane',\n",
       " 'Africa/Mogadishu',\n",
       " 'Africa/Monrovia',\n",
       " 'Africa/Nairobi',\n",
       " 'Africa/Ndjamena',\n",
       " 'Africa/Niamey',\n",
       " 'Africa/Nouakchott',\n",
       " 'Africa/Ouagadougou',\n",
       " 'Africa/Porto-Novo',\n",
       " 'Africa/Sao_Tome']"
      ]
     },
     "execution_count": 58,
     "metadata": {},
     "output_type": "execute_result"
    }
   ],
   "source": [
    "# time zone samples\n",
    "pytz.all_timezones[:50]"
   ]
  },
  {
   "cell_type": "code",
   "execution_count": 59,
   "id": "7384db93-b59b-4445-81c6-2178a9af6b5e",
   "metadata": {},
   "outputs": [
    {
     "data": {
      "text/plain": [
       "DatetimeIndex(['2024-01-01 00:00:00+03:00', '2024-01-02 00:00:00+03:00',\n",
       "               '2024-01-03 00:00:00+03:00', '2024-01-04 00:00:00+03:00',\n",
       "               '2024-01-05 00:00:00+03:00', '2024-01-06 00:00:00+03:00',\n",
       "               '2024-01-07 00:00:00+03:00', '2024-01-08 00:00:00+03:00',\n",
       "               '2024-01-09 00:00:00+03:00', '2024-01-10 00:00:00+03:00',\n",
       "               ...\n",
       "               '2025-12-22 00:00:00+03:00', '2025-12-23 00:00:00+03:00',\n",
       "               '2025-12-24 00:00:00+03:00', '2025-12-25 00:00:00+03:00',\n",
       "               '2025-12-26 00:00:00+03:00', '2025-12-27 00:00:00+03:00',\n",
       "               '2025-12-28 00:00:00+03:00', '2025-12-29 00:00:00+03:00',\n",
       "               '2025-12-30 00:00:00+03:00', '2025-12-31 00:00:00+03:00'],\n",
       "              dtype='datetime64[ns, Africa/Kampala]', length=731, freq='D')"
      ]
     },
     "execution_count": 59,
     "metadata": {},
     "output_type": "execute_result"
    }
   ],
   "source": [
    "# using localize\n",
    "pd.date_range(\n",
    "    start=pd.to_datetime(\"1/1/2024\", dayfirst=True).tz_localize(\"Africa/Kampala\"),\n",
    "    end=pd.to_datetime(\"31/12/2025\", dayfirst=True).tz_localize(\"Africa/Kampala\"),\n",
    "    )"
   ]
  },
  {
   "cell_type": "code",
   "execution_count": 60,
   "id": "89c6375e-c312-4a77-a6f9-8c101e5d04dc",
   "metadata": {},
   "outputs": [
    {
     "data": {
      "text/plain": [
       "DatetimeIndex(['2024-01-31', '2024-04-30', '2024-07-31', '2024-10-31',\n",
       "               '2025-01-31'],\n",
       "              dtype='datetime64[ns]', freq='3ME')"
      ]
     },
     "execution_count": 60,
     "metadata": {},
     "output_type": "execute_result"
    }
   ],
   "source": [
    "pd.date_range(start=\"1/1/2024\",\n",
    "              periods=5,\n",
    "              freq=\"3ME\"\n",
    "             )"
   ]
  },
  {
   "cell_type": "code",
   "execution_count": 61,
   "id": "b4b425f0-15f5-4c75-8f9d-815098004b1f",
   "metadata": {},
   "outputs": [
    {
     "data": {
      "text/plain": [
       "DatetimeIndex(['2017-01-01', '2117-01-01', '2217-01-01', '2317-01-01',\n",
       "               '2417-01-01', '2517-01-01', '2617-01-01', '2717-01-01',\n",
       "               '2817-01-01', '2917-01-01'],\n",
       "              dtype='datetime64[s]', freq='100YS-JAN')"
      ]
     },
     "execution_count": 61,
     "metadata": {},
     "output_type": "execute_result"
    }
   ],
   "source": [
    "# specifing unit\n",
    "pd.date_range(start=\"2017-01-01\",\n",
    "              periods=10,\n",
    "              freq=\"100YS\",\n",
    "              unit='s'\n",
    "             )"
   ]
  },
  {
   "cell_type": "code",
   "execution_count": 62,
   "id": "da969b57-d071-4a25-bae2-98364c59e8d9",
   "metadata": {},
   "outputs": [
    {
     "data": {
      "text/plain": [
       "DatetimeIndex(['2024-05-02', '2024-05-03', '2024-05-04', '2024-05-05',\n",
       "               '2024-05-06'],\n",
       "              dtype='datetime64[ns]', freq='D')"
      ]
     },
     "execution_count": 62,
     "metadata": {},
     "output_type": "execute_result"
    }
   ],
   "source": [
    "# Normalizing datetime\n",
    "pd.date_range(\"2024-05-02 12:54:21\",\n",
    "              periods=5,\n",
    "              normalize=True\n",
    "             )"
   ]
  },
  {
   "cell_type": "markdown",
   "id": "72744c2b-7e51-4c40-8803-e6be8c64ad02",
   "metadata": {},
   "source": [
    "<h4>Frequencies and Date Offsets</h4>"
   ]
  },
  {
   "cell_type": "code",
   "execution_count": 63,
   "id": "4a25d77f-7d0a-47c3-82c9-5ed91c550e8a",
   "metadata": {},
   "outputs": [
    {
     "data": {
      "text/plain": [
       "DatetimeIndex(['2025-02-01 00:00:00', '2025-02-01 04:00:00',\n",
       "               '2025-02-01 08:00:00', '2025-02-01 12:00:00',\n",
       "               '2025-02-01 16:00:00', '2025-02-01 20:00:00',\n",
       "               '2025-02-02 00:00:00', '2025-02-02 04:00:00',\n",
       "               '2025-02-02 08:00:00', '2025-02-02 12:00:00',\n",
       "               ...\n",
       "               '2025-05-01 08:00:00', '2025-05-01 12:00:00',\n",
       "               '2025-05-01 16:00:00', '2025-05-01 20:00:00',\n",
       "               '2025-05-02 00:00:00', '2025-05-02 04:00:00',\n",
       "               '2025-05-02 08:00:00', '2025-05-02 12:00:00',\n",
       "               '2025-05-02 16:00:00', '2025-05-02 20:00:00'],\n",
       "              dtype='datetime64[ns]', length=546, freq='4h')"
      ]
     },
     "execution_count": 63,
     "metadata": {},
     "output_type": "execute_result"
    }
   ],
   "source": [
    "pd.date_range(\"2025-02-01\",\n",
    "              \"2025-05-02 23:03:02\",\n",
    "              freq=\"4h\"\n",
    "             )"
   ]
  },
  {
   "cell_type": "code",
   "execution_count": 64,
   "id": "274d23d0-6c27-49b6-98ea-afa4a76072e4",
   "metadata": {},
   "outputs": [
    {
     "data": {
      "text/plain": [
       "DatetimeIndex(['2000-01-01 00:00:00', '2000-01-01 01:30:03',\n",
       "               '2000-01-01 03:00:06', '2000-01-01 04:30:09',\n",
       "               '2000-01-01 06:00:12', '2000-01-01 07:30:15',\n",
       "               '2000-01-01 09:00:18', '2000-01-01 10:30:21',\n",
       "               '2000-01-01 12:00:24', '2000-01-01 13:30:27'],\n",
       "              dtype='datetime64[ns]', freq='5403s')"
      ]
     },
     "execution_count": 64,
     "metadata": {},
     "output_type": "execute_result"
    }
   ],
   "source": [
    "pd.date_range(\n",
    "    \"2000-01-01\",\n",
    "    periods=10,\n",
    "    freq=\"1h30min3s\",\n",
    ")"
   ]
  },
  {
   "cell_type": "markdown",
   "id": "f92db462-b404-432d-a9fa-73ab00298c9a",
   "metadata": {},
   "source": [
    "<h5>Week of month</h5>"
   ]
  },
  {
   "cell_type": "code",
   "execution_count": 65,
   "id": "5fe68bc9-e617-46c2-a1f3-ac556925640d",
   "metadata": {},
   "outputs": [],
   "source": [
    "monthly_meetups = pd.date_range(\n",
    "    \"2024-06-01\",\n",
    "    \"2024-12-31\",\n",
    "    freq=\"WOM-3SAT\"\n",
    ")"
   ]
  },
  {
   "cell_type": "code",
   "execution_count": 66,
   "id": "31ea4639-db69-42c2-881e-bb338e0a6fff",
   "metadata": {},
   "outputs": [
    {
     "data": {
      "text/plain": [
       "DatetimeIndex(['2024-06-15', '2024-07-20', '2024-08-17', '2024-09-21',\n",
       "               '2024-10-19', '2024-11-16', '2024-12-21'],\n",
       "              dtype='datetime64[ns]', freq='WOM-3SAT')"
      ]
     },
     "execution_count": 66,
     "metadata": {},
     "output_type": "execute_result"
    }
   ],
   "source": [
    "monthly_meetups"
   ]
  },
  {
   "cell_type": "markdown",
   "id": "b125b3bf-a1f4-4e49-8210-c685b09058c6",
   "metadata": {},
   "source": [
    "<h4>Shifting (Leading and Lagging) Data</h4>"
   ]
  },
  {
   "cell_type": "code",
   "execution_count": 67,
   "id": "afe3c59d-ca59-4d2d-a050-202732485ac3",
   "metadata": {},
   "outputs": [],
   "source": [
    "ts = pd.Series(\n",
    "    np.random.standard_normal(10),\n",
    "    index=pd.date_range(start=\"2030-01-01\",\n",
    "                        periods=10,\n",
    "                        freq=\"ME\",\n",
    "                       )\n",
    ")"
   ]
  },
  {
   "cell_type": "code",
   "execution_count": 68,
   "id": "7baef561-d67d-4585-8c66-0a4bb4d81ff3",
   "metadata": {},
   "outputs": [
    {
     "data": {
      "text/plain": [
       "-0.07352776721612128"
      ]
     },
     "execution_count": 68,
     "metadata": {},
     "output_type": "execute_result"
    }
   ],
   "source": [
    "(-1.491246--1.609596)/(-1.609596)"
   ]
  },
  {
   "cell_type": "code",
   "execution_count": 69,
   "id": "3dc4b744-adb0-4067-9cf2-86dc9506a8c3",
   "metadata": {},
   "outputs": [
    {
     "data": {
      "text/plain": [
       "2030-01-31    0.609648\n",
       "2030-02-28    0.421626\n",
       "2030-03-31    0.263112\n",
       "2030-04-30   -0.499690\n",
       "2030-05-31   -0.919331\n",
       "2030-06-30   -0.038345\n",
       "2030-07-31    2.158883\n",
       "2030-08-31    1.036095\n",
       "2030-09-30   -0.941100\n",
       "2030-10-31   -0.957079\n",
       "Freq: ME, dtype: float64"
      ]
     },
     "execution_count": 69,
     "metadata": {},
     "output_type": "execute_result"
    }
   ],
   "source": [
    "ts"
   ]
  },
  {
   "cell_type": "code",
   "execution_count": 70,
   "id": "78212758-07ce-423f-abfc-42cea8fd1736",
   "metadata": {},
   "outputs": [
    {
     "data": {
      "text/plain": [
       "2030-01-31         NaN\n",
       "2030-02-28         NaN\n",
       "2030-03-31    0.609648\n",
       "2030-04-30    0.421626\n",
       "2030-05-31    0.263112\n",
       "2030-06-30   -0.499690\n",
       "2030-07-31   -0.919331\n",
       "2030-08-31   -0.038345\n",
       "2030-09-30    2.158883\n",
       "2030-10-31    1.036095\n",
       "Freq: ME, dtype: float64"
      ]
     },
     "execution_count": 70,
     "metadata": {},
     "output_type": "execute_result"
    }
   ],
   "source": [
    "ts.shift(2)"
   ]
  },
  {
   "cell_type": "code",
   "execution_count": 71,
   "id": "97d45d78-61b1-4fdc-a8df-05dbba9fd9f0",
   "metadata": {},
   "outputs": [
    {
     "data": {
      "text/plain": [
       "2030-01-31    0.263112\n",
       "2030-02-28   -0.499690\n",
       "2030-03-31   -0.919331\n",
       "2030-04-30   -0.038345\n",
       "2030-05-31    2.158883\n",
       "2030-06-30    1.036095\n",
       "2030-07-31   -0.941100\n",
       "2030-08-31   -0.957079\n",
       "2030-09-30         NaN\n",
       "2030-10-31         NaN\n",
       "Freq: ME, dtype: float64"
      ]
     },
     "execution_count": 71,
     "metadata": {},
     "output_type": "execute_result"
    }
   ],
   "source": [
    "ts.shift(-2)"
   ]
  },
  {
   "cell_type": "code",
   "execution_count": 72,
   "id": "7d3c70ff-60a6-4d56-a4d8-fc3653e1b986",
   "metadata": {},
   "outputs": [
    {
     "data": {
      "text/plain": [
       "2030-01-31          NaN\n",
       "2030-02-28    -0.445945\n",
       "2030-03-31    -0.602459\n",
       "2030-04-30     1.526551\n",
       "2030-05-31     0.456464\n",
       "2030-06-30   -22.975260\n",
       "2030-07-31     1.017761\n",
       "2030-08-31    -1.083673\n",
       "2030-09-30     2.100941\n",
       "2030-10-31     0.016696\n",
       "Freq: ME, dtype: float64"
      ]
     },
     "execution_count": 72,
     "metadata": {},
     "output_type": "execute_result"
    }
   ],
   "source": [
    "# Percentage change\n",
    "(ts-ts.shift(1))/ts"
   ]
  },
  {
   "cell_type": "code",
   "execution_count": 73,
   "id": "97e74b6c-0ce1-4dff-b808-bf763d36ee9c",
   "metadata": {},
   "outputs": [
    {
     "data": {
      "text/plain": [
       "2030-03-31    0.609648\n",
       "2030-04-30    0.421626\n",
       "2030-05-31    0.263112\n",
       "2030-06-30   -0.499690\n",
       "2030-07-31   -0.919331\n",
       "2030-08-31   -0.038345\n",
       "2030-09-30    2.158883\n",
       "2030-10-31    1.036095\n",
       "2030-11-30   -0.941100\n",
       "2030-12-31   -0.957079\n",
       "Freq: ME, dtype: float64"
      ]
     },
     "execution_count": 73,
     "metadata": {},
     "output_type": "execute_result"
    }
   ],
   "source": [
    "# Shifting index two\n",
    "ts.shift(2,\n",
    "         freq=\"ME\",\n",
    "        )"
   ]
  },
  {
   "cell_type": "code",
   "execution_count": 74,
   "id": "623ca39c-3e23-4475-be69-6397add502ab",
   "metadata": {},
   "outputs": [
    {
     "data": {
      "text/plain": [
       "2030-04-30    0.609648\n",
       "2030-05-31    0.421626\n",
       "2030-06-30    0.263112\n",
       "2030-07-31   -0.499690\n",
       "2030-08-31   -0.919331\n",
       "2030-09-30   -0.038345\n",
       "2030-10-31    2.158883\n",
       "2030-11-30    1.036095\n",
       "2030-12-31   -0.941100\n",
       "2031-01-31   -0.957079\n",
       "Freq: ME, dtype: float64"
      ]
     },
     "execution_count": 74,
     "metadata": {},
     "output_type": "execute_result"
    }
   ],
   "source": [
    "ts.shift(\n",
    "    3,\n",
    "    freq=\"ME\",\n",
    ")"
   ]
  },
  {
   "cell_type": "code",
   "execution_count": 75,
   "id": "eeabb047-b36a-446f-b5cc-5147c78a0c70",
   "metadata": {},
   "outputs": [
    {
     "data": {
      "text/plain": [
       "2030-02-03    0.609648\n",
       "2030-03-03    0.421626\n",
       "2030-04-03    0.263112\n",
       "2030-05-03   -0.499690\n",
       "2030-06-03   -0.919331\n",
       "2030-07-03   -0.038345\n",
       "2030-08-03    2.158883\n",
       "2030-09-03    1.036095\n",
       "2030-10-03   -0.941100\n",
       "2030-11-03   -0.957079\n",
       "dtype: float64"
      ]
     },
     "execution_count": 75,
     "metadata": {},
     "output_type": "execute_result"
    }
   ],
   "source": [
    "ts.shift(\n",
    "    3,\n",
    "    freq=\"D\",\n",
    ")"
   ]
  },
  {
   "cell_type": "code",
   "execution_count": 76,
   "id": "4b14180b-4d71-451e-96fa-c167e66bc6e8",
   "metadata": {},
   "outputs": [
    {
     "data": {
      "text/plain": [
       "2030-01-31 01:30:00    0.609648\n",
       "2030-02-28 01:30:00    0.421626\n",
       "2030-03-31 01:30:00    0.263112\n",
       "2030-04-30 01:30:00   -0.499690\n",
       "2030-05-31 01:30:00   -0.919331\n",
       "2030-06-30 01:30:00   -0.038345\n",
       "2030-07-31 01:30:00    2.158883\n",
       "2030-08-31 01:30:00    1.036095\n",
       "2030-09-30 01:30:00   -0.941100\n",
       "2030-10-31 01:30:00   -0.957079\n",
       "dtype: float64"
      ]
     },
     "execution_count": 76,
     "metadata": {},
     "output_type": "execute_result"
    }
   ],
   "source": [
    "ts.shift(\n",
    "    1,\n",
    "    freq=\"90min\",\n",
    ")"
   ]
  },
  {
   "cell_type": "code",
   "execution_count": 77,
   "id": "1f286a6a-1023-47bb-b436-4b3b03060553",
   "metadata": {},
   "outputs": [],
   "source": [
    "from pandas.tseries.offsets import Day, MonthEnd, Hour"
   ]
  },
  {
   "cell_type": "code",
   "execution_count": 78,
   "id": "9f32197c-d047-4449-8604-7b3f2fdfc0f1",
   "metadata": {},
   "outputs": [],
   "source": [
    "# Using rollback and rollforward\n",
    "now = datetime(2024,5,26)"
   ]
  },
  {
   "cell_type": "code",
   "execution_count": 79,
   "id": "112e6bb5-1859-4420-8fab-6688f32eb433",
   "metadata": {},
   "outputs": [
    {
     "data": {
      "text/plain": [
       "datetime.datetime(2024, 5, 26, 0, 0)"
      ]
     },
     "execution_count": 79,
     "metadata": {},
     "output_type": "execute_result"
    }
   ],
   "source": [
    "now"
   ]
  },
  {
   "cell_type": "code",
   "execution_count": 80,
   "id": "a6fe263d-044e-4152-b4c7-e69387f511f9",
   "metadata": {},
   "outputs": [
    {
     "data": {
      "text/plain": [
       "Timestamp('2024-05-31 00:00:00')"
      ]
     },
     "execution_count": 80,
     "metadata": {},
     "output_type": "execute_result"
    }
   ],
   "source": [
    "# Shifting to the end of month\n",
    "now + MonthEnd()"
   ]
  },
  {
   "cell_type": "code",
   "execution_count": 81,
   "id": "4dc84562-d850-44a4-912b-8fd6857c4b87",
   "metadata": {},
   "outputs": [
    {
     "data": {
      "text/plain": [
       "Timestamp('2024-07-31 00:00:00')"
      ]
     },
     "execution_count": 81,
     "metadata": {},
     "output_type": "execute_result"
    }
   ],
   "source": [
    "now + MonthEnd(3)"
   ]
  },
  {
   "cell_type": "code",
   "execution_count": 82,
   "id": "ee95e786-52e9-4876-ad68-b7ba158e3fa1",
   "metadata": {},
   "outputs": [],
   "source": [
    "offset = MonthEnd()"
   ]
  },
  {
   "cell_type": "code",
   "execution_count": 83,
   "id": "ead9bbca-50fb-431e-94b7-a1f20dbf3ef6",
   "metadata": {},
   "outputs": [
    {
     "data": {
      "text/plain": [
       "Timestamp('2024-04-30 00:00:00')"
      ]
     },
     "execution_count": 83,
     "metadata": {},
     "output_type": "execute_result"
    }
   ],
   "source": [
    "offset.rollback(now)"
   ]
  },
  {
   "cell_type": "code",
   "execution_count": 84,
   "id": "83e9db0a-f80c-4a52-9ee8-67dd1712eab9",
   "metadata": {},
   "outputs": [
    {
     "data": {
      "text/plain": [
       "Timestamp('2024-05-31 00:00:00')"
      ]
     },
     "execution_count": 84,
     "metadata": {},
     "output_type": "execute_result"
    }
   ],
   "source": [
    "offset.rollforward(now)"
   ]
  },
  {
   "cell_type": "code",
   "execution_count": 85,
   "id": "5c4f52a6-da23-4956-866f-9c498e3400be",
   "metadata": {},
   "outputs": [
    {
     "data": {
      "text/plain": [
       "datetime.datetime(2024, 5, 26, 0, 0)"
      ]
     },
     "execution_count": 85,
     "metadata": {},
     "output_type": "execute_result"
    }
   ],
   "source": [
    "now"
   ]
  },
  {
   "cell_type": "code",
   "execution_count": 86,
   "id": "412903d3-454c-4d5c-adae-c09fc0aab872",
   "metadata": {},
   "outputs": [],
   "source": [
    "# using offset creatively"
   ]
  },
  {
   "cell_type": "code",
   "execution_count": 87,
   "id": "384936ab-a2d1-43b3-a47d-b78880e87a30",
   "metadata": {},
   "outputs": [
    {
     "data": {
      "text/plain": [
       "2030-01-31    0.609648\n",
       "2030-02-28    0.421626\n",
       "2030-03-31    0.263112\n",
       "2030-04-30   -0.499690\n",
       "2030-05-31   -0.919331\n",
       "2030-06-30   -0.038345\n",
       "2030-07-31    2.158883\n",
       "2030-08-31    1.036095\n",
       "2030-09-30   -0.941100\n",
       "2030-10-31   -0.957079\n",
       "dtype: float64"
      ]
     },
     "execution_count": 87,
     "metadata": {},
     "output_type": "execute_result"
    }
   ],
   "source": [
    "ts.groupby(MonthEnd().rollforward).mean()"
   ]
  },
  {
   "cell_type": "code",
   "execution_count": 88,
   "id": "8ee05172-0ac5-491e-84b4-fac67acf1ec8",
   "metadata": {},
   "outputs": [
    {
     "data": {
      "text/plain": [
       "2030-01-31    0.609648\n",
       "2030-02-28    0.421626\n",
       "2030-03-31    0.263112\n",
       "2030-04-30   -0.499690\n",
       "2030-05-31   -0.919331\n",
       "2030-06-30   -0.038345\n",
       "2030-07-31    2.158883\n",
       "2030-08-31    1.036095\n",
       "2030-09-30   -0.941100\n",
       "2030-10-31   -0.957079\n",
       "Freq: ME, dtype: float64"
      ]
     },
     "execution_count": 88,
     "metadata": {},
     "output_type": "execute_result"
    }
   ],
   "source": [
    "# Using resample\n",
    "ts.resample(\"ME\").mean()"
   ]
  },
  {
   "cell_type": "markdown",
   "id": "71b4a1e6-5858-4acb-8cb5-559483db1e89",
   "metadata": {},
   "source": [
    "<h4>Time Zone Localization and Conversion</h4>"
   ]
  },
  {
   "cell_type": "code",
   "execution_count": 89,
   "id": "06e9b639-0ba5-4567-a1e9-4e73fc26d5cf",
   "metadata": {},
   "outputs": [
    {
     "data": {
      "text/plain": [
       "['Africa/Abidjan',\n",
       " 'Africa/Accra',\n",
       " 'Africa/Addis_Ababa',\n",
       " 'Africa/Algiers',\n",
       " 'Africa/Asmara']"
      ]
     },
     "execution_count": 89,
     "metadata": {},
     "output_type": "execute_result"
    }
   ],
   "source": [
    "pytz.common_timezones[:5]"
   ]
  },
  {
   "cell_type": "code",
   "execution_count": 90,
   "id": "f51fe132-90d9-4237-958f-fa4b37e81f3a",
   "metadata": {},
   "outputs": [],
   "source": [
    "# Timezone objects\n",
    "ugandaTime = pytz.timezone(\"Africa/Kampala\")"
   ]
  },
  {
   "cell_type": "code",
   "execution_count": 91,
   "id": "62ea6b1a-0e3c-4131-b940-9ddf70219ab9",
   "metadata": {},
   "outputs": [
    {
     "data": {
      "text/plain": [
       "<DstTzInfo 'Africa/Kampala' LMT+2:27:00 STD>"
      ]
     },
     "execution_count": 91,
     "metadata": {},
     "output_type": "execute_result"
    }
   ],
   "source": [
    "ugandaTime"
   ]
  },
  {
   "cell_type": "code",
   "execution_count": 92,
   "id": "8fddccd8-d167-4b2a-ae8b-81bcfdc481e6",
   "metadata": {},
   "outputs": [],
   "source": [
    "dates = pd.date_range(\n",
    "    \"2024-05-26 19:23\",\n",
    "    periods=10,\n",
    "    tz=\"Africa/Kampala\",\n",
    ")"
   ]
  },
  {
   "cell_type": "code",
   "execution_count": 93,
   "id": "89f90a6c-2185-4304-bba4-34793b12f40d",
   "metadata": {},
   "outputs": [
    {
     "data": {
      "text/plain": [
       "DatetimeIndex(['2024-05-26 19:23:00+03:00', '2024-05-27 19:23:00+03:00',\n",
       "               '2024-05-28 19:23:00+03:00', '2024-05-29 19:23:00+03:00',\n",
       "               '2024-05-30 19:23:00+03:00', '2024-05-31 19:23:00+03:00',\n",
       "               '2024-06-01 19:23:00+03:00', '2024-06-02 19:23:00+03:00',\n",
       "               '2024-06-03 19:23:00+03:00', '2024-06-04 19:23:00+03:00'],\n",
       "              dtype='datetime64[ns, Africa/Kampala]', freq='D')"
      ]
     },
     "execution_count": 93,
     "metadata": {},
     "output_type": "execute_result"
    }
   ],
   "source": [
    "dates"
   ]
  },
  {
   "cell_type": "code",
   "execution_count": 94,
   "id": "42e81793-1b86-4d63-98c9-e6d96cec1769",
   "metadata": {},
   "outputs": [],
   "source": [
    "# time series are time zone naive \n",
    "ts = pd.Series(\n",
    "    np.random.standard_normal(len(dates)),\n",
    "    index=dates,\n",
    ")"
   ]
  },
  {
   "cell_type": "code",
   "execution_count": 95,
   "id": "879d6ab0-fb94-417d-885d-700fd301ea03",
   "metadata": {},
   "outputs": [
    {
     "data": {
      "text/plain": [
       "2024-05-26 19:23:00+03:00   -0.240359\n",
       "2024-05-27 19:23:00+03:00   -0.414755\n",
       "2024-05-28 19:23:00+03:00    1.889996\n",
       "2024-05-29 19:23:00+03:00    0.346966\n",
       "2024-05-30 19:23:00+03:00   -0.513896\n",
       "2024-05-31 19:23:00+03:00   -0.330566\n",
       "2024-06-01 19:23:00+03:00   -0.556988\n",
       "2024-06-02 19:23:00+03:00   -0.119858\n",
       "2024-06-03 19:23:00+03:00   -0.941152\n",
       "2024-06-04 19:23:00+03:00   -1.119087\n",
       "Freq: D, dtype: float64"
      ]
     },
     "execution_count": 95,
     "metadata": {},
     "output_type": "execute_result"
    }
   ],
   "source": [
    "ts"
   ]
  },
  {
   "cell_type": "code",
   "execution_count": 96,
   "id": "04de8ed0-55aa-4d0d-ab24-e053d41da90d",
   "metadata": {},
   "outputs": [
    {
     "name": "stdout",
     "output_type": "stream",
     "text": [
      "Africa/Kampala\n"
     ]
    }
   ],
   "source": [
    "# printing time zone\n",
    "print(ts.index.tz)"
   ]
  },
  {
   "cell_type": "code",
   "execution_count": 97,
   "id": "6bf17f15-facb-4930-9521-7080fd9c90f4",
   "metadata": {},
   "outputs": [
    {
     "data": {
      "text/plain": [
       "DatetimeIndex(['2024-05-26 19:23:00+03:00', '2024-05-27 19:23:00+03:00',\n",
       "               '2024-05-28 19:23:00+03:00', '2024-05-29 19:23:00+03:00',\n",
       "               '2024-05-30 19:23:00+03:00', '2024-05-31 19:23:00+03:00',\n",
       "               '2024-06-01 19:23:00+03:00', '2024-06-02 19:23:00+03:00',\n",
       "               '2024-06-03 19:23:00+03:00', '2024-06-04 19:23:00+03:00'],\n",
       "              dtype='datetime64[ns, Africa/Kampala]', freq='D')"
      ]
     },
     "execution_count": 97,
     "metadata": {},
     "output_type": "execute_result"
    }
   ],
   "source": [
    "# Generating datetime ranges with a tz attribute\n",
    "dates = pd.date_range(\n",
    "    \"2024-05-26 19:23\",\n",
    "    periods=10,\n",
    "    tz=\"Africa/Kampala\",\n",
    ")\n",
    "dates"
   ]
  },
  {
   "cell_type": "code",
   "execution_count": 98,
   "id": "6099c895-f740-4a5c-a741-ff8d988be329",
   "metadata": {},
   "outputs": [
    {
     "data": {
      "text/plain": [
       "2024-05-26 16:23:00+00:00   -0.240359\n",
       "2024-05-27 16:23:00+00:00   -0.414755\n",
       "2024-05-28 16:23:00+00:00    1.889996\n",
       "2024-05-29 16:23:00+00:00    0.346966\n",
       "2024-05-30 16:23:00+00:00   -0.513896\n",
       "2024-05-31 16:23:00+00:00   -0.330566\n",
       "2024-06-01 16:23:00+00:00   -0.556988\n",
       "2024-06-02 16:23:00+00:00   -0.119858\n",
       "2024-06-03 16:23:00+00:00   -0.941152\n",
       "2024-06-04 16:23:00+00:00   -1.119087\n",
       "Freq: D, dtype: float64"
      ]
     },
     "execution_count": 98,
     "metadata": {},
     "output_type": "execute_result"
    }
   ],
   "source": [
    "# conversion\n",
    "ts_utc = ts.tz_convert(\"utc\")\n",
    "ts_utc"
   ]
  },
  {
   "cell_type": "code",
   "execution_count": 99,
   "id": "5cb064aa-9e8f-48f5-81e4-180055b74396",
   "metadata": {},
   "outputs": [
    {
     "data": {
      "text/plain": [
       "2024-05-26 19:23:00+03:00   -0.240359\n",
       "2024-05-27 19:23:00+03:00   -0.414755\n",
       "2024-05-28 19:23:00+03:00    1.889996\n",
       "2024-05-29 19:23:00+03:00    0.346966\n",
       "2024-05-30 19:23:00+03:00   -0.513896\n",
       "2024-05-31 19:23:00+03:00   -0.330566\n",
       "2024-06-01 19:23:00+03:00   -0.556988\n",
       "2024-06-02 19:23:00+03:00   -0.119858\n",
       "2024-06-03 19:23:00+03:00   -0.941152\n",
       "2024-06-04 19:23:00+03:00   -1.119087\n",
       "Freq: D, dtype: float64"
      ]
     },
     "execution_count": 99,
     "metadata": {},
     "output_type": "execute_result"
    }
   ],
   "source": [
    "ts_nairobi = ts_utc.tz_convert(\"Africa/Nairobi\")\n",
    "ts_nairobi"
   ]
  },
  {
   "cell_type": "code",
   "execution_count": 100,
   "id": "9f199ecd-20ff-4cfe-bd12-9440ed6473e6",
   "metadata": {},
   "outputs": [
    {
     "data": {
      "text/plain": [
       "2024-05-26 19:23:00+03:00   -0.240359\n",
       "2024-05-27 19:23:00+03:00   -0.414755\n",
       "2024-05-28 19:23:00+03:00    1.889996\n",
       "2024-05-29 19:23:00+03:00    0.346966\n",
       "2024-05-30 19:23:00+03:00   -0.513896\n",
       "2024-05-31 19:23:00+03:00   -0.330566\n",
       "2024-06-01 19:23:00+03:00   -0.556988\n",
       "2024-06-02 19:23:00+03:00   -0.119858\n",
       "2024-06-03 19:23:00+03:00   -0.941152\n",
       "2024-06-04 19:23:00+03:00   -1.119087\n",
       "Freq: D, dtype: float64"
      ]
     },
     "execution_count": 100,
     "metadata": {},
     "output_type": "execute_result"
    }
   ],
   "source": [
    "ts_cairo = ts_nairobi.tz_convert(\"Africa/Cairo\")\n",
    "ts_cairo"
   ]
  },
  {
   "cell_type": "code",
   "execution_count": 101,
   "id": "2fe9bc9e-63dc-4332-89b2-8886c0589c88",
   "metadata": {},
   "outputs": [
    {
     "data": {
      "text/plain": [
       "2024-05-26 19:23:00+03:00   -0.240359\n",
       "2024-05-27 19:23:00+03:00   -0.414755\n",
       "2024-05-28 19:23:00+03:00    1.889996\n",
       "2024-05-29 19:23:00+03:00    0.346966\n",
       "2024-05-30 19:23:00+03:00   -0.513896\n",
       "2024-05-31 19:23:00+03:00   -0.330566\n",
       "2024-06-01 19:23:00+03:00   -0.556988\n",
       "2024-06-02 19:23:00+03:00   -0.119858\n",
       "2024-06-03 19:23:00+03:00   -0.941152\n",
       "2024-06-04 19:23:00+03:00   -1.119087\n",
       "Freq: D, dtype: float64"
      ]
     },
     "execution_count": 101,
     "metadata": {},
     "output_type": "execute_result"
    }
   ],
   "source": [
    "ts_cairo.tz_convert(\"Africa/Kampala\")"
   ]
  },
  {
   "cell_type": "markdown",
   "id": "9f1e4ce3-0fda-42b4-afb2-2b9a3ccbab5c",
   "metadata": {},
   "source": [
    "<h4>Operations with Time Zone-Aware Timestamp Objects</h4>"
   ]
  },
  {
   "cell_type": "code",
   "execution_count": 102,
   "id": "de15f266-1d0e-4f1d-af3b-11c9ceb60754",
   "metadata": {},
   "outputs": [
    {
     "data": {
      "text/plain": [
       "Timestamp('2024-05-27 17:32:04')"
      ]
     },
     "execution_count": 102,
     "metadata": {},
     "output_type": "execute_result"
    }
   ],
   "source": [
    "stamp = pd.Timestamp(\"2024-05-27 17:32:04\")\n",
    "stamp"
   ]
  },
  {
   "cell_type": "code",
   "execution_count": 103,
   "id": "912eb8fc-8f36-4a40-b9a8-06951ad24432",
   "metadata": {},
   "outputs": [
    {
     "data": {
      "text/plain": [
       "Timestamp('2024-05-27 17:32:04+0000', tz='UTC')"
      ]
     },
     "execution_count": 103,
     "metadata": {},
     "output_type": "execute_result"
    }
   ],
   "source": [
    "stamp_utc = stamp.tz_localize(\"utc\")\n",
    "stamp_utc"
   ]
  },
  {
   "cell_type": "code",
   "execution_count": 104,
   "id": "58ccf6d0-533b-4b97-8d9f-6d66d5c55187",
   "metadata": {},
   "outputs": [
    {
     "data": {
      "text/plain": [
       "Timestamp('2024-05-27 17:48:49+0300', tz='Africa/Kampala')"
      ]
     },
     "execution_count": 104,
     "metadata": {},
     "output_type": "execute_result"
    }
   ],
   "source": [
    "# using tz in definition\n",
    "stamp_kampala = pd.Timestamp(\n",
    "    \"2024-05-27 17:48:49\",\n",
    "    tz=\"Africa/Kampala\",\n",
    ")\n",
    "stamp_kampala"
   ]
  },
  {
   "cell_type": "code",
   "execution_count": 105,
   "id": "3488adcd-8ef9-495a-82f7-9e02219fb6a1",
   "metadata": {},
   "outputs": [
    {
     "data": {
      "text/plain": [
       "1716821329000000000"
      ]
     },
     "execution_count": 105,
     "metadata": {},
     "output_type": "execute_result"
    }
   ],
   "source": [
    "# timestamps store utc value since the Unix epoch\n",
    "stamp_kampala.value"
   ]
  },
  {
   "cell_type": "code",
   "execution_count": 106,
   "id": "f402c177-a74b-450d-882e-62c2b42aa779",
   "metadata": {},
   "outputs": [
    {
     "data": {
      "text/plain": [
       "1716831124000000000"
      ]
     },
     "execution_count": 106,
     "metadata": {},
     "output_type": "execute_result"
    }
   ],
   "source": [
    "stamp_utc.value"
   ]
  },
  {
   "cell_type": "code",
   "execution_count": 107,
   "id": "3dc2b66a-bed5-417a-b058-3c1b99370ae2",
   "metadata": {},
   "outputs": [
    {
     "data": {
      "text/plain": [
       "Timestamp('2012-03-11 01:30:00-0500', tz='US/Eastern')"
      ]
     },
     "execution_count": 107,
     "metadata": {},
     "output_type": "execute_result"
    }
   ],
   "source": [
    "# Daylight Saving Transition\n",
    "# 30 minutes before transitioning into DST\n",
    "stamp = pd.Timestamp(\n",
    "    \"2012-03-11 01:30\",\n",
    "    tz=\"US/Eastern\",\n",
    ")\n",
    "stamp"
   ]
  },
  {
   "cell_type": "code",
   "execution_count": 108,
   "id": "8dd2f50f-20de-4bb6-80bb-ddd906fc8ba4",
   "metadata": {},
   "outputs": [
    {
     "data": {
      "text/plain": [
       "Timestamp('2012-03-11 03:30:00-0400', tz='US/Eastern')"
      ]
     },
     "execution_count": 108,
     "metadata": {},
     "output_type": "execute_result"
    }
   ],
   "source": [
    "stamp + Hour()"
   ]
  },
  {
   "cell_type": "code",
   "execution_count": 109,
   "id": "c4e62f1b-fabf-4433-bbc4-591bc19a2fee",
   "metadata": {},
   "outputs": [
    {
     "data": {
      "text/plain": [
       "Timestamp('2012-11-04 00:30:00-0400', tz='US/Eastern')"
      ]
     },
     "execution_count": 109,
     "metadata": {},
     "output_type": "execute_result"
    }
   ],
   "source": [
    "# 90 minutes before transitioning out of DST\n",
    "stamp = pd.Timestamp(\n",
    "    \"2012-11-04 00:30\",\n",
    "    tz=\"US/Eastern\",\n",
    "    )\n",
    "stamp"
   ]
  },
  {
   "cell_type": "code",
   "execution_count": 110,
   "id": "c9309486-c969-4bbe-bde8-30695687418d",
   "metadata": {},
   "outputs": [
    {
     "data": {
      "text/plain": [
       "Timestamp('2012-11-04 01:30:00-0500', tz='US/Eastern')"
      ]
     },
     "execution_count": 110,
     "metadata": {},
     "output_type": "execute_result"
    }
   ],
   "source": [
    "# Adding 2 hours\n",
    "stamp + 2*Hour()"
   ]
  },
  {
   "cell_type": "markdown",
   "id": "3fd70f40-58da-41b3-8eb7-90dcdddbc142",
   "metadata": {},
   "source": [
    "<h4>Operations between different time zones</h4>"
   ]
  },
  {
   "cell_type": "code",
   "execution_count": 111,
   "id": "9b932b5e-fc70-4277-9ecb-1123a0bb9063",
   "metadata": {},
   "outputs": [
    {
     "data": {
      "text/plain": [
       "2024-05-31 10:43:00    0.245772\n",
       "2024-06-30 10:43:00    1.375145\n",
       "2024-07-31 10:43:00   -0.397991\n",
       "2024-08-31 10:43:00   -0.166219\n",
       "2024-09-30 10:43:00   -0.951480\n",
       "2024-10-31 10:43:00    1.484032\n",
       "2024-11-30 10:43:00   -0.388166\n",
       "2024-12-31 10:43:00    0.533803\n",
       "2025-01-31 10:43:00   -0.681391\n",
       "2025-02-28 10:43:00    1.126533\n",
       "2025-03-31 10:43:00   -0.569645\n",
       "2025-04-30 10:43:00    1.164324\n",
       "2025-05-31 10:43:00    0.790144\n",
       "2025-06-30 10:43:00   -1.274713\n",
       "2025-07-31 10:43:00    0.304526\n",
       "2025-08-31 10:43:00    0.584002\n",
       "2025-09-30 10:43:00    0.973987\n",
       "2025-10-31 10:43:00   -1.118568\n",
       "2025-11-30 10:43:00    0.734590\n",
       "2025-12-31 10:43:00   -0.046743\n",
       "Freq: ME, dtype: float64"
      ]
     },
     "execution_count": 111,
     "metadata": {},
     "output_type": "execute_result"
    }
   ],
   "source": [
    "dates = pd.date_range(\n",
    "    \"2024-05-27 10:43\",\n",
    "    periods=20,\n",
    "    freq=\"ME\",\n",
    ")\n",
    "ts = pd.Series(\n",
    "    np.random.standard_normal(\n",
    "        len(dates)),\n",
    "    index=dates,\n",
    ")\n",
    "ts"
   ]
  },
  {
   "cell_type": "code",
   "execution_count": 112,
   "id": "311e709f-f4c9-401a-833e-50a8ed2cffd8",
   "metadata": {},
   "outputs": [
    {
     "data": {
      "text/plain": [
       "DatetimeIndex(['2024-05-31 07:43:00+00:00', '2024-06-30 07:43:00+00:00',\n",
       "               '2024-07-31 07:43:00+00:00', '2024-08-31 07:43:00+00:00',\n",
       "               '2024-09-30 07:43:00+00:00', '2024-10-31 07:43:00+00:00',\n",
       "               '2024-11-30 07:43:00+00:00', '2024-11-30 08:43:00+00:00',\n",
       "               '2024-12-31 07:43:00+00:00', '2024-12-31 08:43:00+00:00',\n",
       "               '2025-01-31 07:43:00+00:00', '2025-01-31 08:43:00+00:00',\n",
       "               '2025-02-28 07:43:00+00:00', '2025-02-28 08:43:00+00:00',\n",
       "               '2025-03-31 08:43:00+00:00', '2025-04-30 07:43:00+00:00',\n",
       "               '2025-05-31 07:43:00+00:00', '2025-06-30 07:43:00+00:00',\n",
       "               '2025-07-31 07:43:00+00:00', '2025-08-31 07:43:00+00:00',\n",
       "               '2025-09-30 07:43:00+00:00', '2025-10-31 08:43:00+00:00',\n",
       "               '2025-11-30 08:43:00+00:00', '2025-12-31 08:43:00+00:00'],\n",
       "              dtype='datetime64[ns, UTC]', freq=None)"
      ]
     },
     "execution_count": 112,
     "metadata": {},
     "output_type": "execute_result"
    }
   ],
   "source": [
    "ts1 = ts[:10].tz_localize(\"Africa/Kampala\")\n",
    "ts2 = ts[4:].tz_localize(\"Africa/Cairo\")\n",
    "result = ts1 + ts2\n",
    "result.index"
   ]
  },
  {
   "cell_type": "code",
   "execution_count": 113,
   "id": "4e46cc86-9bfe-49c2-92d1-3219ff03626a",
   "metadata": {},
   "outputs": [],
   "source": [
    "# Operations between zone-aware and zone-naive will raise an exception"
   ]
  },
  {
   "cell_type": "markdown",
   "id": "fba08430-6e0c-4cee-8ded-4ab74e72351f",
   "metadata": {},
   "source": [
    "<h4>Periods and Period Arithmetics</h4>"
   ]
  },
  {
   "cell_type": "code",
   "execution_count": 114,
   "id": "a8f35381-a0a5-40d3-9b9e-3db744937c87",
   "metadata": {},
   "outputs": [
    {
     "data": {
      "text/plain": [
       "Period('2025', 'Y-MAY')"
      ]
     },
     "execution_count": 114,
     "metadata": {},
     "output_type": "execute_result"
    }
   ],
   "source": [
    "p = pd.Period(\"2025\",\n",
    "              freq=\"Y-MAY\",\n",
    "             )\n",
    "p"
   ]
  },
  {
   "cell_type": "code",
   "execution_count": 115,
   "id": "099ea1c8-75f6-47f1-a919-c723964ae789",
   "metadata": {},
   "outputs": [
    {
     "data": {
      "text/plain": [
       "Period('2029', 'Y-MAY')"
      ]
     },
     "execution_count": 115,
     "metadata": {},
     "output_type": "execute_result"
    }
   ],
   "source": [
    "p + 4"
   ]
  },
  {
   "cell_type": "code",
   "execution_count": 116,
   "id": "c0b52c42-31ff-46aa-8e81-97690251c92e",
   "metadata": {},
   "outputs": [
    {
     "data": {
      "text/plain": [
       "Period('2011', 'Y-MAY')"
      ]
     },
     "execution_count": 116,
     "metadata": {},
     "output_type": "execute_result"
    }
   ],
   "source": [
    "p - 14"
   ]
  },
  {
   "cell_type": "code",
   "execution_count": 117,
   "id": "42bb81a8-0ae7-4fae-918e-f3b6a295bf0e",
   "metadata": {},
   "outputs": [
    {
     "data": {
      "text/plain": [
       "Period('2025', 'Y-MAY')"
      ]
     },
     "execution_count": 117,
     "metadata": {},
     "output_type": "execute_result"
    }
   ],
   "source": [
    "p"
   ]
  },
  {
   "cell_type": "code",
   "execution_count": 118,
   "id": "390a0106-455b-4cd0-8d57-cb57b1b4de8b",
   "metadata": {},
   "outputs": [
    {
     "data": {
      "text/plain": [
       "<5 * YearEnds: month=5>"
      ]
     },
     "execution_count": 118,
     "metadata": {},
     "output_type": "execute_result"
    }
   ],
   "source": [
    "pd.Period(\"2030\",\n",
    "          freq=\"Y-MAY\",\n",
    "         ) - p"
   ]
  },
  {
   "cell_type": "code",
   "execution_count": 119,
   "id": "3758d505-a077-4127-a3fc-14d1c8b36c9e",
   "metadata": {},
   "outputs": [
    {
     "data": {
      "text/plain": [
       "PeriodIndex(['2024-05', '2024-06', '2024-07', '2024-08', '2024-09', '2024-10',\n",
       "             '2024-11', '2024-12', '2025-01', '2025-02', '2025-03', '2025-04',\n",
       "             '2025-05', '2025-06', '2025-07', '2025-08', '2025-09', '2025-10',\n",
       "             '2025-11', '2025-12', '2026-01', '2026-02', '2026-03', '2026-04',\n",
       "             '2026-05', '2026-06', '2026-07', '2026-08', '2026-09', '2026-10',\n",
       "             '2026-11', '2026-12', '2027-01', '2027-02', '2027-03', '2027-04',\n",
       "             '2027-05', '2027-06', '2027-07', '2027-08', '2027-09', '2027-10',\n",
       "             '2027-11', '2027-12', '2028-01', '2028-02', '2028-03', '2028-04',\n",
       "             '2028-05', '2028-06', '2028-07', '2028-08', '2028-09', '2028-10',\n",
       "             '2028-11', '2028-12', '2029-01', '2029-02', '2029-03', '2029-04',\n",
       "             '2029-05', '2029-06', '2029-07', '2029-08', '2029-09', '2029-10',\n",
       "             '2029-11', '2029-12', '2030-01', '2030-02', '2030-03', '2030-04',\n",
       "             '2030-05'],\n",
       "            dtype='period[M]')"
      ]
     },
     "execution_count": 119,
     "metadata": {},
     "output_type": "execute_result"
    }
   ],
   "source": [
    "# using periods range\n",
    "periods = pd.period_range(\n",
    "    \"2024-05-27\",\n",
    "    \"2030-05-27\",\n",
    "    freq=\"M\",\n",
    ")\n",
    "periods"
   ]
  },
  {
   "cell_type": "code",
   "execution_count": 120,
   "id": "51d0bb63-d7fd-4817-97ad-af220a2e6550",
   "metadata": {},
   "outputs": [
    {
     "data": {
      "text/plain": [
       "2024-05    0.517948\n",
       "2024-06   -0.411541\n",
       "2024-07    1.405343\n",
       "2024-08   -0.927281\n",
       "2024-09   -1.362127\n",
       "             ...   \n",
       "2030-01    0.838079\n",
       "2030-02    1.366032\n",
       "2030-03    0.959955\n",
       "2030-04    0.560648\n",
       "2030-05   -0.681634\n",
       "Freq: M, Length: 73, dtype: float64"
      ]
     },
     "execution_count": 120,
     "metadata": {},
     "output_type": "execute_result"
    }
   ],
   "source": [
    "# using periods for index\n",
    "pd.Series(\n",
    "    np.random.standard_normal(73),\n",
    "    index=periods,\n",
    ")"
   ]
  },
  {
   "cell_type": "code",
   "execution_count": 121,
   "id": "174d1889-6c26-44ab-b400-d423027e87d0",
   "metadata": {},
   "outputs": [
    {
     "data": {
      "text/plain": [
       "['2024Q1', '2025Q3', '2026Q1']"
      ]
     },
     "execution_count": 121,
     "metadata": {},
     "output_type": "execute_result"
    }
   ],
   "source": [
    "# using strings\n",
    "values = [\n",
    "    \"2024Q1\",\n",
    "    \"2025Q3\",\n",
    "    \"2026Q1\",\n",
    "]\n",
    "values"
   ]
  },
  {
   "cell_type": "code",
   "execution_count": 122,
   "id": "deb6ec0c-f596-49a2-80c8-7aec705f4e26",
   "metadata": {},
   "outputs": [
    {
     "data": {
      "text/plain": [
       "PeriodIndex(['2024Q1', '2025Q3', '2026Q1'], dtype='period[Q-DEC]')"
      ]
     },
     "execution_count": 122,
     "metadata": {},
     "output_type": "execute_result"
    }
   ],
   "source": [
    "# \n",
    "index = pd.PeriodIndex(values,\n",
    "                       freq=\"Q-DEC\",\n",
    "                      )\n",
    "index"
   ]
  },
  {
   "cell_type": "markdown",
   "id": "5a55a4e6-7313-440f-947d-65a86647ec7f",
   "metadata": {},
   "source": [
    "<h4>Period Frequency Conversions</h4>"
   ]
  },
  {
   "cell_type": "code",
   "execution_count": 123,
   "id": "d7b45d8e-68d1-40d5-8d23-fc3430161b2c",
   "metadata": {},
   "outputs": [
    {
     "data": {
      "text/plain": [
       "Period('2025', 'Y-DEC')"
      ]
     },
     "execution_count": 123,
     "metadata": {},
     "output_type": "execute_result"
    }
   ],
   "source": [
    "p = pd.Period(\n",
    "    \"2025\",\n",
    "    freq=\"Y-DEC\",\n",
    ")\n",
    "p"
   ]
  },
  {
   "cell_type": "code",
   "execution_count": 124,
   "id": "535828d8-cddb-4e89-a196-0bd84ca4b27c",
   "metadata": {},
   "outputs": [
    {
     "data": {
      "text/plain": [
       "Period('2025-01', 'M')"
      ]
     },
     "execution_count": 124,
     "metadata": {},
     "output_type": "execute_result"
    }
   ],
   "source": [
    "# conversion\n",
    "p.asfreq(\"M\",\n",
    "         how=\"start\",\n",
    "        )"
   ]
  },
  {
   "cell_type": "code",
   "execution_count": 125,
   "id": "b5b86096-75d0-49a8-b000-46f997a7fd0e",
   "metadata": {},
   "outputs": [
    {
     "data": {
      "text/plain": [
       "Period('2025-12', 'M')"
      ]
     },
     "execution_count": 125,
     "metadata": {},
     "output_type": "execute_result"
    }
   ],
   "source": [
    "# conversion\n",
    "p.asfreq(\"M\",\n",
    "         how=\"end\",\n",
    "        )"
   ]
  },
  {
   "cell_type": "code",
   "execution_count": 126,
   "id": "861db7d5-cd9a-410b-840b-a8729af9ab7b",
   "metadata": {},
   "outputs": [
    {
     "data": {
      "text/plain": [
       "Period('2024', 'Y-JUN')"
      ]
     },
     "execution_count": 126,
     "metadata": {},
     "output_type": "execute_result"
    }
   ],
   "source": [
    "# Fiscal year\n",
    "p = pd.Period(\n",
    "    \"2024\",\n",
    "    freq=\"Y-JUN\",\n",
    ")\n",
    "p"
   ]
  },
  {
   "cell_type": "code",
   "execution_count": 127,
   "id": "8473a701-7548-4118-8e24-524b83261b59",
   "metadata": {},
   "outputs": [
    {
     "data": {
      "text/plain": [
       "Period('2023-07', 'M')"
      ]
     },
     "execution_count": 127,
     "metadata": {},
     "output_type": "execute_result"
    }
   ],
   "source": [
    "p.asfreq(\"M\",\n",
    "         how=\"start\"\n",
    "        )"
   ]
  },
  {
   "cell_type": "code",
   "execution_count": 128,
   "id": "09c512e4-2228-4ccb-b9c0-5db12258fc47",
   "metadata": {},
   "outputs": [
    {
     "data": {
      "text/plain": [
       "Period('2024-06', 'M')"
      ]
     },
     "execution_count": 128,
     "metadata": {},
     "output_type": "execute_result"
    }
   ],
   "source": [
    "p.asfreq(\"M\",\n",
    "         how=\"end\",\n",
    "        )"
   ]
  },
  {
   "cell_type": "code",
   "execution_count": 129,
   "id": "fe461b29-3315-424e-b228-919986cbafda",
   "metadata": {},
   "outputs": [
    {
     "data": {
      "text/plain": [
       "Period('2024', 'Y-JUN')"
      ]
     },
     "execution_count": 129,
     "metadata": {},
     "output_type": "execute_result"
    }
   ],
   "source": [
    "# period conversions\n",
    "# June 2024 is the end of the period\n",
    "p = pd.Period(\n",
    "    \"2024\",\n",
    "    \"Y-JUN\"\n",
    ")\n",
    "p"
   ]
  },
  {
   "cell_type": "code",
   "execution_count": 130,
   "id": "6e7b802d-b7fe-4093-8445-b68055503d99",
   "metadata": {},
   "outputs": [
    {
     "data": {
      "text/plain": [
       "Period('2023-07', 'M')"
      ]
     },
     "execution_count": 130,
     "metadata": {},
     "output_type": "execute_result"
    }
   ],
   "source": [
    "p.asfreq(\n",
    "    \"M\",\n",
    "    how=\"start\"\n",
    ")"
   ]
  },
  {
   "cell_type": "code",
   "execution_count": 131,
   "id": "a7b83aca-9c6b-45cf-aa6a-f416d6808b18",
   "metadata": {},
   "outputs": [
    {
     "data": {
      "text/plain": [
       "Period('2024-06', 'M')"
      ]
     },
     "execution_count": 131,
     "metadata": {},
     "output_type": "execute_result"
    }
   ],
   "source": [
    "p.asfreq(\n",
    "    \"M\",\n",
    "    how=\"end\",\n",
    ")"
   ]
  },
  {
   "cell_type": "code",
   "execution_count": 132,
   "id": "013d2212-4e88-4058-ae93-fd3c4e44fbc7",
   "metadata": {},
   "outputs": [
    {
     "data": {
      "text/plain": [
       "Period('2024', 'Y-AUG')"
      ]
     },
     "execution_count": 132,
     "metadata": {},
     "output_type": "execute_result"
    }
   ],
   "source": [
    "# conversion\n",
    "p.asfreq(\n",
    "    \"Y-AUG\"\n",
    ")"
   ]
  },
  {
   "cell_type": "code",
   "execution_count": 133,
   "id": "66c7bf84-a96c-4bc1-9bee-7e3f0efbe5fc",
   "metadata": {},
   "outputs": [],
   "source": [
    "# more examples\n",
    "periods = pd.period_range(\n",
    "    \"2035\", \"2040\",\n",
    "    freq=\"Y-JUN\"\n",
    ")"
   ]
  },
  {
   "cell_type": "code",
   "execution_count": 134,
   "id": "ed69f40c-b12d-41ed-a7f2-37052e3620e5",
   "metadata": {},
   "outputs": [
    {
     "data": {
      "text/plain": [
       "PeriodIndex(['2035', '2036', '2037', '2038', '2039', '2040'], dtype='period[Y-JUN]')"
      ]
     },
     "execution_count": 134,
     "metadata": {},
     "output_type": "execute_result"
    }
   ],
   "source": [
    "periods"
   ]
  },
  {
   "cell_type": "code",
   "execution_count": 135,
   "id": "6f846f41-c4d8-4487-9597-f4a632727a9e",
   "metadata": {},
   "outputs": [
    {
     "data": {
      "text/plain": [
       "2035   -0.211337\n",
       "2036    0.473263\n",
       "2037    0.221678\n",
       "2038    1.460751\n",
       "2039    1.099882\n",
       "2040    0.219290\n",
       "Freq: Y-JUN, dtype: float64"
      ]
     },
     "execution_count": 135,
     "metadata": {},
     "output_type": "execute_result"
    }
   ],
   "source": [
    "ts = pd.Series(np.random.standard_normal(\n",
    "    len(periods)),\n",
    "               index=periods,\n",
    "              )\n",
    "ts"
   ]
  },
  {
   "cell_type": "code",
   "execution_count": 136,
   "id": "f91c5da1-f2ce-4aff-b65b-134c7106c7e7",
   "metadata": {},
   "outputs": [
    {
     "data": {
      "text/plain": [
       "2034-07   -0.211337\n",
       "2035-07    0.473263\n",
       "2036-07    0.221678\n",
       "2037-07    1.460751\n",
       "2038-07    1.099882\n",
       "2039-07    0.219290\n",
       "Freq: M, dtype: float64"
      ]
     },
     "execution_count": 136,
     "metadata": {},
     "output_type": "execute_result"
    }
   ],
   "source": [
    "# conversion to months frequency\n",
    "ts.asfreq(\n",
    "    \"M\",\n",
    "    how=\"start\"\n",
    ")"
   ]
  },
  {
   "cell_type": "code",
   "execution_count": 137,
   "id": "bb41cd73-72fd-4589-95c8-eb542881e506",
   "metadata": {},
   "outputs": [
    {
     "data": {
      "text/plain": [
       "2035-06   -0.211337\n",
       "2036-06    0.473263\n",
       "2037-06    0.221678\n",
       "2038-06    1.460751\n",
       "2039-06    1.099882\n",
       "2040-06    0.219290\n",
       "Freq: M, dtype: float64"
      ]
     },
     "execution_count": 137,
     "metadata": {},
     "output_type": "execute_result"
    }
   ],
   "source": [
    "ts.asfreq(\n",
    "    \"M\",\n",
    "    how=\"end\"\n",
    ")"
   ]
  },
  {
   "cell_type": "code",
   "execution_count": 138,
   "id": "230c632f-c995-4c28-8a48-4d5021be2dc5",
   "metadata": {},
   "outputs": [
    {
     "name": "stderr",
     "output_type": "stream",
     "text": [
      "C:\\Users\\Kakaire Steven\\AppData\\Local\\Temp\\ipykernel_8572\\4236237307.py:2: FutureWarning: PeriodDtype[B] is deprecated and will be removed in a future version. Use a DatetimeIndex with freq='B' instead\n",
      "  ts.asfreq(\n"
     ]
    },
    {
     "data": {
      "text/plain": [
       "2035-06-29   -0.211337\n",
       "2036-06-30    0.473263\n",
       "2037-06-30    0.221678\n",
       "2038-06-30    1.460751\n",
       "2039-06-30    1.099882\n",
       "2040-06-29    0.219290\n",
       "Freq: B, dtype: float64"
      ]
     },
     "execution_count": 138,
     "metadata": {},
     "output_type": "execute_result"
    }
   ],
   "source": [
    "# last business day of the month\n",
    "ts.asfreq(\n",
    "    freq=\"B\",\n",
    "    how=\"end\"\n",
    ")"
   ]
  },
  {
   "cell_type": "markdown",
   "id": "17906392-0820-4578-b90a-7011a6b65928",
   "metadata": {},
   "source": [
    " <h4>Quarterly Period Frequencies</h4>"
   ]
  },
  {
   "cell_type": "code",
   "execution_count": 139,
   "id": "e9fc244c-40f3-4518-8c34-c1ee36e46c47",
   "metadata": {},
   "outputs": [],
   "source": [
    "p = pd.Period(\n",
    "    \"2024Q4\",\n",
    "    freq=\"Q-JAN\",\n",
    ")"
   ]
  },
  {
   "cell_type": "code",
   "execution_count": 140,
   "id": "10df8ccd-4ba7-4351-bc59-4caf6ca50a8d",
   "metadata": {},
   "outputs": [
    {
     "data": {
      "text/plain": [
       "Period('2024Q4', 'Q-JAN')"
      ]
     },
     "execution_count": 140,
     "metadata": {},
     "output_type": "execute_result"
    }
   ],
   "source": [
    "p"
   ]
  },
  {
   "cell_type": "code",
   "execution_count": 141,
   "id": "9543588a-3f98-4be4-b9d4-b54ed2f24c76",
   "metadata": {},
   "outputs": [
    {
     "data": {
      "text/plain": [
       "Period('2024Q3', 'Q-JUN')"
      ]
     },
     "execution_count": 141,
     "metadata": {},
     "output_type": "execute_result"
    }
   ],
   "source": [
    "p.asfreq(freq=\"Q-JUN\")"
   ]
  },
  {
   "cell_type": "code",
   "execution_count": 142,
   "id": "19439c18-88bc-4b32-916e-8fffacaa07aa",
   "metadata": {},
   "outputs": [
    {
     "data": {
      "text/plain": [
       "Period('2023-11-01', 'D')"
      ]
     },
     "execution_count": 142,
     "metadata": {},
     "output_type": "execute_result"
    }
   ],
   "source": [
    "# converting to daily frequencies\n",
    "p.asfreq(\"D\",\n",
    "         how=\"start\",\n",
    "        )"
   ]
  },
  {
   "cell_type": "code",
   "execution_count": 143,
   "id": "03c67568-1319-42e8-93fe-e7e379973bcc",
   "metadata": {},
   "outputs": [
    {
     "data": {
      "text/plain": [
       "PeriodIndex(['2023Q1', '2023Q2', '2023Q3', '2023Q4', '2024Q1', '2024Q2',\n",
       "             '2024Q3', '2024Q4', '2025Q1', '2025Q2', '2025Q3', '2025Q4',\n",
       "             '2026Q1', '2026Q2', '2026Q3', '2026Q4', '2027Q1', '2027Q2',\n",
       "             '2027Q3', '2027Q4', '2028Q1', '2028Q2', '2028Q3', '2028Q4',\n",
       "             '2029Q1', '2029Q2', '2029Q3', '2029Q4', '2030Q1', '2030Q2',\n",
       "             '2030Q3', '2030Q4'],\n",
       "            dtype='period[Q-MAY]')"
      ]
     },
     "execution_count": 143,
     "metadata": {},
     "output_type": "execute_result"
    }
   ],
   "source": [
    "# fiscal periods\n",
    "fs = pd.period_range(\n",
    "    \"2023Q1\",\n",
    "    \"2030Q4\",\n",
    "    freq=\"Q-MAY\"\n",
    ")\n",
    "fs"
   ]
  },
  {
   "cell_type": "code",
   "execution_count": 144,
   "id": "4370cf1d-b3b3-4972-b7ce-0e9727443254",
   "metadata": {},
   "outputs": [
    {
     "data": {
      "text/plain": [
       "PeriodIndex(['2022-06', '2022-09', '2022-12', '2023-03', '2023-06', '2023-09',\n",
       "             '2023-12', '2024-03', '2024-06', '2024-09', '2024-12', '2025-03',\n",
       "             '2025-06', '2025-09', '2025-12', '2026-03', '2026-06', '2026-09',\n",
       "             '2026-12', '2027-03', '2027-06', '2027-09', '2027-12', '2028-03',\n",
       "             '2028-06', '2028-09', '2028-12', '2029-03', '2029-06', '2029-09',\n",
       "             '2029-12', '2030-03'],\n",
       "            dtype='period[M]')"
      ]
     },
     "execution_count": 144,
     "metadata": {},
     "output_type": "execute_result"
    }
   ],
   "source": [
    "fs.asfreq(\"M\",\n",
    "          how=\"start\")"
   ]
  },
  {
   "cell_type": "code",
   "execution_count": 145,
   "id": "8ef2e38e-a28d-4797-8e21-02e3b5c10e19",
   "metadata": {},
   "outputs": [
    {
     "data": {
      "text/plain": [
       "PeriodIndex(['2022-08-31', '2022-11-30', '2023-02-28', '2023-05-31',\n",
       "             '2023-08-31', '2023-11-30', '2024-02-29', '2024-05-31',\n",
       "             '2024-08-31', '2024-11-30', '2025-02-28', '2025-05-31',\n",
       "             '2025-08-31', '2025-11-30', '2026-02-28', '2026-05-31',\n",
       "             '2026-08-31', '2026-11-30', '2027-02-28', '2027-05-31',\n",
       "             '2027-08-31', '2027-11-30', '2028-02-29', '2028-05-31',\n",
       "             '2028-08-31', '2028-11-30', '2029-02-28', '2029-05-31',\n",
       "             '2029-08-31', '2029-11-30', '2030-02-28', '2030-05-31'],\n",
       "            dtype='period[D]')"
      ]
     },
     "execution_count": 145,
     "metadata": {},
     "output_type": "execute_result"
    }
   ],
   "source": [
    "fs.asfreq(\n",
    "    \"D\",\n",
    "    how=\"end\",\n",
    ")"
   ]
  },
  {
   "cell_type": "code",
   "execution_count": 146,
   "id": "e43a598c-b984-464a-93d3-b3c6eaa14629",
   "metadata": {},
   "outputs": [
    {
     "name": "stderr",
     "output_type": "stream",
     "text": [
      "C:\\Users\\Kakaire Steven\\AppData\\Local\\Temp\\ipykernel_8572\\23150665.py:1: FutureWarning: PeriodDtype[B] is deprecated and will be removed in a future version. Use a DatetimeIndex with freq='B' instead\n",
      "  (fs.asfreq(\n"
     ]
    },
    {
     "data": {
      "text/plain": [
       "PeriodIndex(['2022-08-30 16:00', '2022-11-29 16:00', '2023-02-27 16:00',\n",
       "             '2023-05-30 16:00', '2023-08-30 16:00', '2023-11-29 16:00',\n",
       "             '2024-02-28 16:00', '2024-05-30 16:00', '2024-08-29 16:00',\n",
       "             '2024-11-28 16:00', '2025-02-27 16:00', '2025-05-29 16:00',\n",
       "             '2025-08-28 16:00', '2025-11-27 16:00', '2026-02-26 16:00',\n",
       "             '2026-05-28 16:00', '2026-08-28 16:00', '2026-11-27 16:00',\n",
       "             '2027-02-25 16:00', '2027-05-28 16:00', '2027-08-30 16:00',\n",
       "             '2027-11-29 16:00', '2028-02-28 16:00', '2028-05-30 16:00',\n",
       "             '2028-08-30 16:00', '2028-11-29 16:00', '2029-02-27 16:00',\n",
       "             '2029-05-30 16:00', '2029-08-30 16:00', '2029-11-29 16:00',\n",
       "             '2030-02-27 16:00', '2030-05-30 16:00'],\n",
       "            dtype='period[min]')"
      ]
     },
     "execution_count": 146,
     "metadata": {},
     "output_type": "execute_result"
    }
   ],
   "source": [
    "(fs.asfreq(\n",
    "    freq=\"B\",\n",
    "    how=\"end\",\n",
    ") - 1).asfreq(\n",
    "    \"min\",\n",
    "    how=\"start\",\n",
    ") + 16 * 60"
   ]
  },
  {
   "cell_type": "code",
   "execution_count": 147,
   "id": "13d1047c-0db1-4b15-927b-1ad45c4e1980",
   "metadata": {},
   "outputs": [],
   "source": [
    "# More examples\n",
    "periods = pd.period_range(\n",
    "    \"2024Q4\",\n",
    "    \"2026Q1\",\n",
    "    freq=\"Q-JAN\",\n",
    ")"
   ]
  },
  {
   "cell_type": "code",
   "execution_count": 148,
   "id": "c7c950d9-d986-4067-917e-726f313c8bc7",
   "metadata": {},
   "outputs": [
    {
     "data": {
      "text/plain": [
       "PeriodIndex(['2024Q4', '2025Q1', '2025Q2', '2025Q3', '2025Q4', '2026Q1'], dtype='period[Q-JAN]')"
      ]
     },
     "execution_count": 148,
     "metadata": {},
     "output_type": "execute_result"
    }
   ],
   "source": [
    "periods"
   ]
  },
  {
   "cell_type": "code",
   "execution_count": 149,
   "id": "3cf2081e-0d3f-4f60-ba5a-78915c49a0c2",
   "metadata": {},
   "outputs": [
    {
     "data": {
      "text/plain": [
       "2024Q4    0\n",
       "2025Q1    1\n",
       "2025Q2    2\n",
       "2025Q3    3\n",
       "2025Q4    4\n",
       "2026Q1    5\n",
       "Freq: Q-JAN, dtype: int32"
      ]
     },
     "execution_count": 149,
     "metadata": {},
     "output_type": "execute_result"
    }
   ],
   "source": [
    "ts = pd.Series(\n",
    "    np.arange(len(periods)),\n",
    "    index=periods)\n",
    "ts"
   ]
  },
  {
   "cell_type": "code",
   "execution_count": 150,
   "id": "23ecd973-67ce-4d4c-b2d4-2198e55aa01f",
   "metadata": {},
   "outputs": [
    {
     "name": "stderr",
     "output_type": "stream",
     "text": [
      "C:\\Users\\Kakaire Steven\\AppData\\Local\\Temp\\ipykernel_8572\\1775545749.py:1: FutureWarning: PeriodDtype[B] is deprecated and will be removed in a future version. Use a DatetimeIndex with freq='B' instead\n",
      "  new_periods = (periods.asfreq(\"B\", \"end\")-1).asfreq(\"h\", \"start\") + 16\n"
     ]
    },
    {
     "data": {
      "text/plain": [
       "PeriodIndex(['2024-01-30 16:00', '2024-04-29 16:00', '2024-07-30 16:00',\n",
       "             '2024-10-30 16:00', '2025-01-30 16:00', '2025-04-29 16:00'],\n",
       "            dtype='period[h]')"
      ]
     },
     "execution_count": 150,
     "metadata": {},
     "output_type": "execute_result"
    }
   ],
   "source": [
    "new_periods = (periods.asfreq(\"B\", \"end\")-1).asfreq(\"h\", \"start\") + 16\n",
    "new_periods"
   ]
  },
  {
   "cell_type": "code",
   "execution_count": 151,
   "id": "f8d4018b-551e-4dad-a6e4-3ddc73f1291d",
   "metadata": {},
   "outputs": [
    {
     "data": {
      "text/plain": [
       "2024-01-30 16:00:00    0\n",
       "2024-04-29 16:00:00    1\n",
       "2024-07-30 16:00:00    2\n",
       "2024-10-30 16:00:00    3\n",
       "2025-01-30 16:00:00    4\n",
       "2025-04-29 16:00:00    5\n",
       "dtype: int32"
      ]
     },
     "execution_count": 151,
     "metadata": {},
     "output_type": "execute_result"
    }
   ],
   "source": [
    "ts.index = new_periods.to_timestamp()\n",
    "ts"
   ]
  },
  {
   "cell_type": "markdown",
   "id": "a265dbb9-b18a-46f5-bc39-49ebb54467ca",
   "metadata": {},
   "source": [
    "<h4>Converting Timestamps to periods (and Back)</h4>"
   ]
  },
  {
   "cell_type": "code",
   "execution_count": 152,
   "id": "311937d7-3e95-4063-9b44-7073ee19c863",
   "metadata": {},
   "outputs": [
    {
     "data": {
      "text/plain": [
       "DatetimeIndex(['2024-01-31', '2024-02-29', '2024-03-31', '2024-04-30',\n",
       "               '2024-05-31', '2024-06-30', '2024-07-31', '2024-08-31',\n",
       "               '2024-09-30', '2024-10-31'],\n",
       "              dtype='datetime64[ns]', freq='ME')"
      ]
     },
     "execution_count": 152,
     "metadata": {},
     "output_type": "execute_result"
    }
   ],
   "source": [
    "dates = pd.date_range(\n",
    "    \"2024-01-15\",\n",
    "    periods=10,\n",
    "    freq=\"ME\",\n",
    ")\n",
    "dates"
   ]
  },
  {
   "cell_type": "code",
   "execution_count": 153,
   "id": "d698e55a-0b00-482e-8632-bba30a4a4835",
   "metadata": {},
   "outputs": [
    {
     "data": {
      "text/plain": [
       "2024-01-31    0.016816\n",
       "2024-02-29    1.375064\n",
       "2024-03-31    0.639869\n",
       "2024-04-30   -0.865591\n",
       "2024-05-31   -0.286748\n",
       "2024-06-30   -1.233545\n",
       "2024-07-31    0.735427\n",
       "2024-08-31    0.375870\n",
       "2024-09-30    1.522915\n",
       "2024-10-31   -0.179115\n",
       "Freq: ME, dtype: float64"
      ]
     },
     "execution_count": 153,
     "metadata": {},
     "output_type": "execute_result"
    }
   ],
   "source": [
    "ts = pd.Series(\n",
    "    np.random.standard_normal(len(dates)),\n",
    "    index=dates)\n",
    "ts"
   ]
  },
  {
   "cell_type": "code",
   "execution_count": 154,
   "id": "499656f7-5776-4177-bee2-8837e31cef51",
   "metadata": {},
   "outputs": [
    {
     "data": {
      "text/plain": [
       "2024-01    0.016816\n",
       "2024-02    1.375064\n",
       "2024-03    0.639869\n",
       "2024-04   -0.865591\n",
       "2024-05   -0.286748\n",
       "2024-06   -1.233545\n",
       "2024-07    0.735427\n",
       "2024-08    0.375870\n",
       "2024-09    1.522915\n",
       "2024-10   -0.179115\n",
       "Freq: M, dtype: float64"
      ]
     },
     "execution_count": 154,
     "metadata": {},
     "output_type": "execute_result"
    }
   ],
   "source": [
    "ts.to_period()"
   ]
  },
  {
   "cell_type": "code",
   "execution_count": 155,
   "id": "690373ad-8ee6-493a-8310-519b32c34d9a",
   "metadata": {},
   "outputs": [
    {
     "data": {
      "text/plain": [
       "2024-01-29   -1.589399\n",
       "2024-01-30   -0.342480\n",
       "2024-01-31    0.936405\n",
       "2024-02-01   -0.492655\n",
       "2024-02-02    0.505733\n",
       "2024-02-03   -2.242601\n",
       "2024-02-04   -0.224760\n",
       "2024-02-05   -0.706879\n",
       "2024-02-06    0.795063\n",
       "2024-02-07    0.272307\n",
       "Freq: D, dtype: float64"
      ]
     },
     "execution_count": 155,
     "metadata": {},
     "output_type": "execute_result"
    }
   ],
   "source": [
    "dates = pd.date_range(\n",
    "    \"2024-01-29\",\n",
    "    periods=10,\n",
    ")\n",
    "ts2 = pd.Series(\n",
    "    np.random.standard_normal(len(dates)),\n",
    "    index=dates)\n",
    "ts2"
   ]
  },
  {
   "cell_type": "code",
   "execution_count": 156,
   "id": "d2a246d1-7c87-4040-a680-14e11a413000",
   "metadata": {},
   "outputs": [
    {
     "data": {
      "text/plain": [
       "2024-01   -1.589399\n",
       "2024-01   -0.342480\n",
       "2024-01    0.936405\n",
       "2024-02   -0.492655\n",
       "2024-02    0.505733\n",
       "2024-02   -2.242601\n",
       "2024-02   -0.224760\n",
       "2024-02   -0.706879\n",
       "2024-02    0.795063\n",
       "2024-02    0.272307\n",
       "Freq: M, dtype: float64"
      ]
     },
     "execution_count": 156,
     "metadata": {},
     "output_type": "execute_result"
    }
   ],
   "source": [
    "pts = ts2.to_period(\"M\")\n",
    "pts"
   ]
  },
  {
   "cell_type": "code",
   "execution_count": 157,
   "id": "a015bf89-10b1-4bf9-9064-09d80a98a611",
   "metadata": {},
   "outputs": [
    {
     "data": {
      "text/plain": [
       "2024-01-31 23:59:59.999999999   -1.589399\n",
       "2024-01-31 23:59:59.999999999   -0.342480\n",
       "2024-01-31 23:59:59.999999999    0.936405\n",
       "2024-02-29 23:59:59.999999999   -0.492655\n",
       "2024-02-29 23:59:59.999999999    0.505733\n",
       "2024-02-29 23:59:59.999999999   -2.242601\n",
       "2024-02-29 23:59:59.999999999   -0.224760\n",
       "2024-02-29 23:59:59.999999999   -0.706879\n",
       "2024-02-29 23:59:59.999999999    0.795063\n",
       "2024-02-29 23:59:59.999999999    0.272307\n",
       "dtype: float64"
      ]
     },
     "execution_count": 157,
     "metadata": {},
     "output_type": "execute_result"
    }
   ],
   "source": [
    "# converting back to timestamp\n",
    "pts.to_timestamp(\n",
    "    how=\"end\")"
   ]
  },
  {
   "cell_type": "code",
   "execution_count": 158,
   "id": "721dd25b-11e7-4c5b-b423-2a839ab5b2cb",
   "metadata": {},
   "outputs": [
    {
     "data": {
      "text/html": [
       "<div>\n",
       "<style scoped>\n",
       "    .dataframe tbody tr th:only-of-type {\n",
       "        vertical-align: middle;\n",
       "    }\n",
       "\n",
       "    .dataframe tbody tr th {\n",
       "        vertical-align: top;\n",
       "    }\n",
       "\n",
       "    .dataframe thead th {\n",
       "        text-align: right;\n",
       "    }\n",
       "</style>\n",
       "<table border=\"1\" class=\"dataframe\">\n",
       "  <thead>\n",
       "    <tr style=\"text-align: right;\">\n",
       "      <th></th>\n",
       "      <th>year</th>\n",
       "      <th>quarter</th>\n",
       "      <th>realgdp</th>\n",
       "      <th>realcons</th>\n",
       "      <th>realinv</th>\n",
       "      <th>realgovt</th>\n",
       "      <th>realdpi</th>\n",
       "      <th>cpi</th>\n",
       "      <th>m1</th>\n",
       "      <th>tbilrate</th>\n",
       "      <th>unemp</th>\n",
       "      <th>pop</th>\n",
       "      <th>infl</th>\n",
       "      <th>realint</th>\n",
       "    </tr>\n",
       "  </thead>\n",
       "  <tbody>\n",
       "    <tr>\n",
       "      <th>0</th>\n",
       "      <td>1959</td>\n",
       "      <td>1</td>\n",
       "      <td>2710.349</td>\n",
       "      <td>1707.4</td>\n",
       "      <td>286.898</td>\n",
       "      <td>470.045</td>\n",
       "      <td>1886.9</td>\n",
       "      <td>28.980</td>\n",
       "      <td>139.7</td>\n",
       "      <td>2.82</td>\n",
       "      <td>5.8</td>\n",
       "      <td>177.146</td>\n",
       "      <td>0.00</td>\n",
       "      <td>0.00</td>\n",
       "    </tr>\n",
       "    <tr>\n",
       "      <th>1</th>\n",
       "      <td>1959</td>\n",
       "      <td>2</td>\n",
       "      <td>2778.801</td>\n",
       "      <td>1733.7</td>\n",
       "      <td>310.859</td>\n",
       "      <td>481.301</td>\n",
       "      <td>1919.7</td>\n",
       "      <td>29.150</td>\n",
       "      <td>141.7</td>\n",
       "      <td>3.08</td>\n",
       "      <td>5.1</td>\n",
       "      <td>177.830</td>\n",
       "      <td>2.34</td>\n",
       "      <td>0.74</td>\n",
       "    </tr>\n",
       "    <tr>\n",
       "      <th>2</th>\n",
       "      <td>1959</td>\n",
       "      <td>3</td>\n",
       "      <td>2775.488</td>\n",
       "      <td>1751.8</td>\n",
       "      <td>289.226</td>\n",
       "      <td>491.260</td>\n",
       "      <td>1916.4</td>\n",
       "      <td>29.350</td>\n",
       "      <td>140.5</td>\n",
       "      <td>3.82</td>\n",
       "      <td>5.3</td>\n",
       "      <td>178.657</td>\n",
       "      <td>2.74</td>\n",
       "      <td>1.09</td>\n",
       "    </tr>\n",
       "    <tr>\n",
       "      <th>3</th>\n",
       "      <td>1959</td>\n",
       "      <td>4</td>\n",
       "      <td>2785.204</td>\n",
       "      <td>1753.7</td>\n",
       "      <td>299.356</td>\n",
       "      <td>484.052</td>\n",
       "      <td>1931.3</td>\n",
       "      <td>29.370</td>\n",
       "      <td>140.0</td>\n",
       "      <td>4.33</td>\n",
       "      <td>5.6</td>\n",
       "      <td>179.386</td>\n",
       "      <td>0.27</td>\n",
       "      <td>4.06</td>\n",
       "    </tr>\n",
       "    <tr>\n",
       "      <th>4</th>\n",
       "      <td>1960</td>\n",
       "      <td>1</td>\n",
       "      <td>2847.699</td>\n",
       "      <td>1770.5</td>\n",
       "      <td>331.722</td>\n",
       "      <td>462.199</td>\n",
       "      <td>1955.5</td>\n",
       "      <td>29.540</td>\n",
       "      <td>139.6</td>\n",
       "      <td>3.50</td>\n",
       "      <td>5.2</td>\n",
       "      <td>180.007</td>\n",
       "      <td>2.31</td>\n",
       "      <td>1.19</td>\n",
       "    </tr>\n",
       "    <tr>\n",
       "      <th>...</th>\n",
       "      <td>...</td>\n",
       "      <td>...</td>\n",
       "      <td>...</td>\n",
       "      <td>...</td>\n",
       "      <td>...</td>\n",
       "      <td>...</td>\n",
       "      <td>...</td>\n",
       "      <td>...</td>\n",
       "      <td>...</td>\n",
       "      <td>...</td>\n",
       "      <td>...</td>\n",
       "      <td>...</td>\n",
       "      <td>...</td>\n",
       "      <td>...</td>\n",
       "    </tr>\n",
       "    <tr>\n",
       "      <th>198</th>\n",
       "      <td>2008</td>\n",
       "      <td>3</td>\n",
       "      <td>13324.600</td>\n",
       "      <td>9267.7</td>\n",
       "      <td>1990.693</td>\n",
       "      <td>991.551</td>\n",
       "      <td>9838.3</td>\n",
       "      <td>216.889</td>\n",
       "      <td>1474.7</td>\n",
       "      <td>1.17</td>\n",
       "      <td>6.0</td>\n",
       "      <td>305.270</td>\n",
       "      <td>-3.16</td>\n",
       "      <td>4.33</td>\n",
       "    </tr>\n",
       "    <tr>\n",
       "      <th>199</th>\n",
       "      <td>2008</td>\n",
       "      <td>4</td>\n",
       "      <td>13141.920</td>\n",
       "      <td>9195.3</td>\n",
       "      <td>1857.661</td>\n",
       "      <td>1007.273</td>\n",
       "      <td>9920.4</td>\n",
       "      <td>212.174</td>\n",
       "      <td>1576.5</td>\n",
       "      <td>0.12</td>\n",
       "      <td>6.9</td>\n",
       "      <td>305.952</td>\n",
       "      <td>-8.79</td>\n",
       "      <td>8.91</td>\n",
       "    </tr>\n",
       "    <tr>\n",
       "      <th>200</th>\n",
       "      <td>2009</td>\n",
       "      <td>1</td>\n",
       "      <td>12925.410</td>\n",
       "      <td>9209.2</td>\n",
       "      <td>1558.494</td>\n",
       "      <td>996.287</td>\n",
       "      <td>9926.4</td>\n",
       "      <td>212.671</td>\n",
       "      <td>1592.8</td>\n",
       "      <td>0.22</td>\n",
       "      <td>8.1</td>\n",
       "      <td>306.547</td>\n",
       "      <td>0.94</td>\n",
       "      <td>-0.71</td>\n",
       "    </tr>\n",
       "    <tr>\n",
       "      <th>201</th>\n",
       "      <td>2009</td>\n",
       "      <td>2</td>\n",
       "      <td>12901.504</td>\n",
       "      <td>9189.0</td>\n",
       "      <td>1456.678</td>\n",
       "      <td>1023.528</td>\n",
       "      <td>10077.5</td>\n",
       "      <td>214.469</td>\n",
       "      <td>1653.6</td>\n",
       "      <td>0.18</td>\n",
       "      <td>9.2</td>\n",
       "      <td>307.226</td>\n",
       "      <td>3.37</td>\n",
       "      <td>-3.19</td>\n",
       "    </tr>\n",
       "    <tr>\n",
       "      <th>202</th>\n",
       "      <td>2009</td>\n",
       "      <td>3</td>\n",
       "      <td>12990.341</td>\n",
       "      <td>9256.0</td>\n",
       "      <td>1486.398</td>\n",
       "      <td>1044.088</td>\n",
       "      <td>10040.6</td>\n",
       "      <td>216.385</td>\n",
       "      <td>1673.9</td>\n",
       "      <td>0.12</td>\n",
       "      <td>9.6</td>\n",
       "      <td>308.013</td>\n",
       "      <td>3.56</td>\n",
       "      <td>-3.44</td>\n",
       "    </tr>\n",
       "  </tbody>\n",
       "</table>\n",
       "<p>203 rows × 14 columns</p>\n",
       "</div>"
      ],
      "text/plain": [
       "     year  quarter    realgdp  realcons   realinv  realgovt  realdpi      cpi  \\\n",
       "0    1959        1   2710.349    1707.4   286.898   470.045   1886.9   28.980   \n",
       "1    1959        2   2778.801    1733.7   310.859   481.301   1919.7   29.150   \n",
       "2    1959        3   2775.488    1751.8   289.226   491.260   1916.4   29.350   \n",
       "3    1959        4   2785.204    1753.7   299.356   484.052   1931.3   29.370   \n",
       "4    1960        1   2847.699    1770.5   331.722   462.199   1955.5   29.540   \n",
       "..    ...      ...        ...       ...       ...       ...      ...      ...   \n",
       "198  2008        3  13324.600    9267.7  1990.693   991.551   9838.3  216.889   \n",
       "199  2008        4  13141.920    9195.3  1857.661  1007.273   9920.4  212.174   \n",
       "200  2009        1  12925.410    9209.2  1558.494   996.287   9926.4  212.671   \n",
       "201  2009        2  12901.504    9189.0  1456.678  1023.528  10077.5  214.469   \n",
       "202  2009        3  12990.341    9256.0  1486.398  1044.088  10040.6  216.385   \n",
       "\n",
       "         m1  tbilrate  unemp      pop  infl  realint  \n",
       "0     139.7      2.82    5.8  177.146  0.00     0.00  \n",
       "1     141.7      3.08    5.1  177.830  2.34     0.74  \n",
       "2     140.5      3.82    5.3  178.657  2.74     1.09  \n",
       "3     140.0      4.33    5.6  179.386  0.27     4.06  \n",
       "4     139.6      3.50    5.2  180.007  2.31     1.19  \n",
       "..      ...       ...    ...      ...   ...      ...  \n",
       "198  1474.7      1.17    6.0  305.270 -3.16     4.33  \n",
       "199  1576.5      0.12    6.9  305.952 -8.79     8.91  \n",
       "200  1592.8      0.22    8.1  306.547  0.94    -0.71  \n",
       "201  1653.6      0.18    9.2  307.226  3.37    -3.19  \n",
       "202  1673.9      0.12    9.6  308.013  3.56    -3.44  \n",
       "\n",
       "[203 rows x 14 columns]"
      ]
     },
     "execution_count": 158,
     "metadata": {},
     "output_type": "execute_result"
    }
   ],
   "source": [
    "data = pd.read_csv(\"../Data/macrodata.csv\")\n",
    "data"
   ]
  },
  {
   "cell_type": "code",
   "execution_count": 159,
   "id": "f062beaf-5ecf-4752-ae98-2919d421b467",
   "metadata": {},
   "outputs": [
    {
     "data": {
      "text/plain": [
       "0      1959\n",
       "1      1959\n",
       "2      1959\n",
       "3      1959\n",
       "4      1960\n",
       "       ... \n",
       "198    2008\n",
       "199    2008\n",
       "200    2009\n",
       "201    2009\n",
       "202    2009\n",
       "Name: year, Length: 203, dtype: int64"
      ]
     },
     "execution_count": 159,
     "metadata": {},
     "output_type": "execute_result"
    }
   ],
   "source": [
    "data.year"
   ]
  },
  {
   "cell_type": "code",
   "execution_count": 160,
   "id": "1213fa8d-ca17-4946-a9f2-c4b019003a3d",
   "metadata": {},
   "outputs": [
    {
     "data": {
      "text/plain": [
       "PeriodIndex(['1959Q1', '1959Q2', '1959Q3', '1959Q4', '1960Q1', '1960Q2',\n",
       "             '1960Q3', '1960Q4', '1961Q1', '1961Q2',\n",
       "             ...\n",
       "             '2007Q2', '2007Q3', '2007Q4', '2008Q1', '2008Q2', '2008Q3',\n",
       "             '2008Q4', '2009Q1', '2009Q2', '2009Q3'],\n",
       "            dtype='period[Q-DEC]', length=203)"
      ]
     },
     "execution_count": 160,
     "metadata": {},
     "output_type": "execute_result"
    }
   ],
   "source": [
    "# index\n",
    "index = pd.PeriodIndex.from_fields(\n",
    "    year=data[\"year\"],\n",
    "    quarter=data[\"quarter\"],\n",
    "    freq=\"Q-DEC\",\n",
    ")\n",
    "index"
   ]
  },
  {
   "cell_type": "code",
   "execution_count": 161,
   "id": "b6e5509d-1812-43d5-9d6e-13fbf08c75d3",
   "metadata": {},
   "outputs": [],
   "source": [
    "data.index = index"
   ]
  },
  {
   "cell_type": "code",
   "execution_count": 162,
   "id": "27dbe979-96ed-4adf-b8b5-2a6cd4337866",
   "metadata": {},
   "outputs": [
    {
     "data": {
      "text/plain": [
       "1959Q1     28.980\n",
       "1959Q2     29.150\n",
       "1959Q3     29.350\n",
       "1959Q4     29.370\n",
       "1960Q1     29.540\n",
       "           ...   \n",
       "2008Q3    216.889\n",
       "2008Q4    212.174\n",
       "2009Q1    212.671\n",
       "2009Q2    214.469\n",
       "2009Q3    216.385\n",
       "Freq: Q-DEC, Name: cpi, Length: 203, dtype: float64"
      ]
     },
     "execution_count": 162,
     "metadata": {},
     "output_type": "execute_result"
    }
   ],
   "source": [
    "data['cpi']"
   ]
  },
  {
   "cell_type": "markdown",
   "id": "d0f28fbf-9586-4be1-8185-3a239dbf3cd7",
   "metadata": {},
   "source": [
    "<h4>Resampling and Frequency Conversion</h4>"
   ]
  },
  {
   "cell_type": "code",
   "execution_count": 163,
   "id": "9e541dff-2458-4834-b7f9-e0224d10519c",
   "metadata": {},
   "outputs": [
    {
     "data": {
      "text/plain": [
       "DatetimeIndex(['2024-04-06', '2024-04-07', '2024-04-08', '2024-04-09',\n",
       "               '2024-04-10', '2024-04-11', '2024-04-12', '2024-04-13',\n",
       "               '2024-04-14', '2024-04-15', '2024-04-16', '2024-04-17',\n",
       "               '2024-04-18', '2024-04-19', '2024-04-20', '2024-04-21',\n",
       "               '2024-04-22', '2024-04-23', '2024-04-24', '2024-04-25',\n",
       "               '2024-04-26', '2024-04-27', '2024-04-28', '2024-04-29',\n",
       "               '2024-04-30', '2024-05-01', '2024-05-02', '2024-05-03',\n",
       "               '2024-05-04', '2024-05-05', '2024-05-06', '2024-05-07',\n",
       "               '2024-05-08', '2024-05-09', '2024-05-10', '2024-05-11',\n",
       "               '2024-05-12', '2024-05-13', '2024-05-14', '2024-05-15',\n",
       "               '2024-05-16', '2024-05-17', '2024-05-18', '2024-05-19',\n",
       "               '2024-05-20', '2024-05-21', '2024-05-22', '2024-05-23',\n",
       "               '2024-05-24', '2024-05-25', '2024-05-26', '2024-05-27',\n",
       "               '2024-05-28', '2024-05-29', '2024-05-30', '2024-05-31',\n",
       "               '2024-06-01', '2024-06-02', '2024-06-03', '2024-06-04',\n",
       "               '2024-06-05', '2024-06-06', '2024-06-07', '2024-06-08',\n",
       "               '2024-06-09', '2024-06-10', '2024-06-11', '2024-06-12',\n",
       "               '2024-06-13', '2024-06-14', '2024-06-15', '2024-06-16',\n",
       "               '2024-06-17', '2024-06-18', '2024-06-19', '2024-06-20',\n",
       "               '2024-06-21', '2024-06-22', '2024-06-23', '2024-06-24',\n",
       "               '2024-06-25', '2024-06-26', '2024-06-27', '2024-06-28',\n",
       "               '2024-06-29', '2024-06-30', '2024-07-01', '2024-07-02',\n",
       "               '2024-07-03', '2024-07-04', '2024-07-05', '2024-07-06',\n",
       "               '2024-07-07', '2024-07-08', '2024-07-09', '2024-07-10',\n",
       "               '2024-07-11', '2024-07-12', '2024-07-13', '2024-07-14'],\n",
       "              dtype='datetime64[ns]', freq='D')"
      ]
     },
     "execution_count": 163,
     "metadata": {},
     "output_type": "execute_result"
    }
   ],
   "source": [
    "dates = pd.date_range(\n",
    "    \"2024-04-06\",\n",
    "    periods=100)\n",
    "dates"
   ]
  },
  {
   "cell_type": "code",
   "execution_count": 164,
   "id": "68fcd413-065f-4a6a-a1c6-f314d756a70f",
   "metadata": {},
   "outputs": [
    {
     "data": {
      "text/plain": [
       "2024-04-06   -1.115309\n",
       "2024-04-07   -0.550620\n",
       "2024-04-08   -1.049523\n",
       "2024-04-09    0.848355\n",
       "2024-04-10   -0.069354\n",
       "                ...   \n",
       "2024-07-10   -0.894134\n",
       "2024-07-11   -1.928324\n",
       "2024-07-12    1.721131\n",
       "2024-07-13   -0.407798\n",
       "2024-07-14   -1.124919\n",
       "Freq: D, Length: 100, dtype: float64"
      ]
     },
     "execution_count": 164,
     "metadata": {},
     "output_type": "execute_result"
    }
   ],
   "source": [
    "ts = pd.Series(\n",
    "    np.random.standard_normal(len(dates)),\n",
    "    index=dates)\n",
    "ts"
   ]
  },
  {
   "cell_type": "code",
   "execution_count": 165,
   "id": "0303f7a2-ebee-4bef-ac8e-cd6385e8fd4f",
   "metadata": {},
   "outputs": [
    {
     "data": {
      "text/plain": [
       "2024-04-30    0.060594\n",
       "2024-05-31   -0.018645\n",
       "2024-06-30   -0.040711\n",
       "2024-07-31   -0.372896\n",
       "Freq: ME, dtype: float64"
      ]
     },
     "execution_count": 165,
     "metadata": {},
     "output_type": "execute_result"
    }
   ],
   "source": [
    "ts.resample(\n",
    "    \"ME\",\n",
    ").mean()"
   ]
  },
  {
   "cell_type": "code",
   "execution_count": 166,
   "id": "a4c5dffa-63ee-43a5-8e2f-f750339ec1c9",
   "metadata": {},
   "outputs": [
    {
     "data": {
      "text/plain": [
       "2024-04    0.060594\n",
       "2024-05   -0.018645\n",
       "2024-06   -0.040711\n",
       "2024-07   -0.372896\n",
       "Freq: M, dtype: float64"
      ]
     },
     "execution_count": 166,
     "metadata": {},
     "output_type": "execute_result"
    }
   ],
   "source": [
    "ts.resample(\"ME\",\n",
    "            # kind=\"period\",\n",
    "           ).mean().to_period()"
   ]
  },
  {
   "cell_type": "markdown",
   "id": "5b60d570-a44c-47a7-99a0-97f72a9792c8",
   "metadata": {},
   "source": [
    "<h5>Downsampling</h5>"
   ]
  },
  {
   "cell_type": "code",
   "execution_count": 167,
   "id": "6ca511ec-e23c-4d1f-9617-241bef506e64",
   "metadata": {},
   "outputs": [
    {
     "data": {
      "text/plain": [
       "DatetimeIndex(['2025-07-12 00:00:00', '2025-07-12 00:01:00',\n",
       "               '2025-07-12 00:02:00', '2025-07-12 00:03:00',\n",
       "               '2025-07-12 00:04:00', '2025-07-12 00:05:00',\n",
       "               '2025-07-12 00:06:00', '2025-07-12 00:07:00',\n",
       "               '2025-07-12 00:08:00', '2025-07-12 00:09:00',\n",
       "               '2025-07-12 00:10:00', '2025-07-12 00:11:00',\n",
       "               '2025-07-12 00:12:00', '2025-07-12 00:13:00',\n",
       "               '2025-07-12 00:14:00', '2025-07-12 00:15:00',\n",
       "               '2025-07-12 00:16:00', '2025-07-12 00:17:00',\n",
       "               '2025-07-12 00:18:00', '2025-07-12 00:19:00'],\n",
       "              dtype='datetime64[ns]', freq='min')"
      ]
     },
     "execution_count": 167,
     "metadata": {},
     "output_type": "execute_result"
    }
   ],
   "source": [
    "dates = pd.date_range(\n",
    "    \"2025-07-12\",\n",
    "    periods=20,\n",
    "    freq=\"min\",\n",
    ")\n",
    "dates"
   ]
  },
  {
   "cell_type": "code",
   "execution_count": 168,
   "id": "8a242697-e02f-4331-b830-c78e9a459052",
   "metadata": {},
   "outputs": [
    {
     "data": {
      "text/plain": [
       "2025-07-12 00:00:00   -0.338113\n",
       "2025-07-12 00:01:00    0.515422\n",
       "2025-07-12 00:02:00   -0.196851\n",
       "2025-07-12 00:03:00   -1.154551\n",
       "2025-07-12 00:04:00   -1.324735\n",
       "2025-07-12 00:05:00    0.988753\n",
       "2025-07-12 00:06:00    1.044958\n",
       "2025-07-12 00:07:00    1.559331\n",
       "2025-07-12 00:08:00    0.603971\n",
       "2025-07-12 00:09:00   -0.530134\n",
       "2025-07-12 00:10:00    0.812700\n",
       "2025-07-12 00:11:00    1.345981\n",
       "2025-07-12 00:12:00   -0.584155\n",
       "2025-07-12 00:13:00    0.347691\n",
       "2025-07-12 00:14:00   -1.154943\n",
       "2025-07-12 00:15:00   -0.848569\n",
       "2025-07-12 00:16:00    0.537266\n",
       "2025-07-12 00:17:00   -0.199646\n",
       "2025-07-12 00:18:00   -0.923767\n",
       "2025-07-12 00:19:00   -0.878101\n",
       "Freq: min, dtype: float64"
      ]
     },
     "execution_count": 168,
     "metadata": {},
     "output_type": "execute_result"
    }
   ],
   "source": [
    "ts = pd.Series(\n",
    "    np.random.standard_normal(len(dates)),\n",
    "    index=dates)\n",
    "ts"
   ]
  },
  {
   "cell_type": "code",
   "execution_count": 169,
   "id": "0f3de210-cb9e-4e59-b60f-fc2a1bf35860",
   "metadata": {},
   "outputs": [
    {
     "data": {
      "text/plain": [
       "2025-07-12 00:00:00   -2.498828\n",
       "2025-07-12 00:05:00    3.666878\n",
       "2025-07-12 00:10:00    0.767273\n",
       "2025-07-12 00:15:00   -2.312818\n",
       "Freq: 5min, dtype: float64"
      ]
     },
     "execution_count": 169,
     "metadata": {},
     "output_type": "execute_result"
    }
   ],
   "source": [
    "# resampling to five minute chuncks\n",
    "ts.resample(\n",
    "    \"5min\"\n",
    ").sum()"
   ]
  },
  {
   "cell_type": "code",
   "execution_count": 170,
   "id": "29c25548-9f72-473a-b2d6-eb3dd5098659",
   "metadata": {},
   "outputs": [
    {
     "data": {
      "text/plain": [
       "2025-07-11 23:55:00   -0.338113\n",
       "2025-07-12 00:00:00   -1.171962\n",
       "2025-07-12 00:05:00    3.490825\n",
       "2025-07-12 00:10:00   -0.893996\n",
       "2025-07-12 00:15:00   -1.464249\n",
       "Freq: 5min, dtype: float64"
      ]
     },
     "execution_count": 170,
     "metadata": {},
     "output_type": "execute_result"
    }
   ],
   "source": [
    "ts.resample(\n",
    "    \"5min\",\n",
    "    closed=\"right\",\n",
    ").sum()"
   ]
  },
  {
   "cell_type": "code",
   "execution_count": 171,
   "id": "c773e109-c237-4576-a13f-d936346b45e8",
   "metadata": {},
   "outputs": [
    {
     "data": {
      "text/plain": [
       "2025-07-11 23:55:00   -0.338113\n",
       "2025-07-12 00:00:00   -1.171962\n",
       "2025-07-12 00:05:00    3.490825\n",
       "2025-07-12 00:10:00   -0.893996\n",
       "2025-07-12 00:15:00   -1.464249\n",
       "Freq: 5min, dtype: float64"
      ]
     },
     "execution_count": 171,
     "metadata": {},
     "output_type": "execute_result"
    }
   ],
   "source": [
    "# What does label mean?\n",
    "ts.resample(\"5min\",\n",
    "            closed=\"right\",\n",
    "            label=\"left\"\n",
    "           ).sum()"
   ]
  },
  {
   "cell_type": "code",
   "execution_count": 172,
   "id": "6c4a5eee-ea54-4fe5-9e40-3c33a0ea5892",
   "metadata": {},
   "outputs": [
    {
     "data": {
      "text/plain": [
       "2025-07-12 00:00:00   -2.498828\n",
       "2025-07-12 00:05:00    3.666878\n",
       "2025-07-12 00:10:00    0.767273\n",
       "2025-07-12 00:15:00   -2.312818\n",
       "Freq: 5min, dtype: float64"
      ]
     },
     "execution_count": 172,
     "metadata": {},
     "output_type": "execute_result"
    }
   ],
   "source": [
    "ts.resample(\"5min\",\n",
    "            closed=\"left\",\n",
    "           ).sum()"
   ]
  },
  {
   "cell_type": "code",
   "execution_count": 173,
   "id": "0c7873dd-00c2-482e-8b4b-9fc4564d4871",
   "metadata": {},
   "outputs": [
    {
     "data": {
      "text/plain": [
       "2025-07-12 00:00:00   -0.338113\n",
       "2025-07-12 00:05:00   -1.171962\n",
       "2025-07-12 00:10:00    3.490825\n",
       "2025-07-12 00:15:00   -0.893996\n",
       "2025-07-12 00:20:00   -1.464249\n",
       "Freq: 5min, dtype: float64"
      ]
     },
     "execution_count": 173,
     "metadata": {},
     "output_type": "execute_result"
    }
   ],
   "source": [
    "# offseting an interval\n",
    "from pandas.tseries.frequencies import to_offset\n",
    "result = ts.resample(\"5min\",\n",
    "                     closed=\"right\",\n",
    "                     label=\"right\").sum()\n",
    "result"
   ]
  },
  {
   "cell_type": "code",
   "execution_count": 174,
   "id": "11a04585-b582-417d-93a3-f4cd80857410",
   "metadata": {},
   "outputs": [
    {
     "data": {
      "text/plain": [
       "2025-07-11 23:59:59   -0.338113\n",
       "2025-07-12 00:04:59   -1.171962\n",
       "2025-07-12 00:09:59    3.490825\n",
       "2025-07-12 00:14:59   -0.893996\n",
       "2025-07-12 00:19:59   -1.464249\n",
       "Freq: 5min, dtype: float64"
      ]
     },
     "execution_count": 174,
     "metadata": {},
     "output_type": "execute_result"
    }
   ],
   "source": [
    "result.index = result.index + to_offset(\"-1s\")\n",
    "result"
   ]
  },
  {
   "cell_type": "code",
   "execution_count": 175,
   "id": "8a4db3f7-5d96-4ef4-873c-436cf1abf023",
   "metadata": {
    "scrolled": true
   },
   "outputs": [],
   "source": [
    "# ohlc resampling\n",
    "ts = pd.Series(\n",
    "    np.random.permutation(\n",
    "        np.arange(len(dates))),\n",
    "    index=dates)"
   ]
  },
  {
   "cell_type": "code",
   "execution_count": 176,
   "id": "e7904140-eee7-4eca-84cc-3009bfc3f226",
   "metadata": {},
   "outputs": [
    {
     "data": {
      "text/plain": [
       "2025-07-12 00:00:00     7\n",
       "2025-07-12 00:01:00    12\n",
       "2025-07-12 00:02:00     0\n",
       "2025-07-12 00:03:00    18\n",
       "2025-07-12 00:04:00    15\n",
       "2025-07-12 00:05:00    16\n",
       "2025-07-12 00:06:00    10\n",
       "2025-07-12 00:07:00    13\n",
       "2025-07-12 00:08:00     8\n",
       "2025-07-12 00:09:00     3\n",
       "2025-07-12 00:10:00    11\n",
       "2025-07-12 00:11:00     9\n",
       "2025-07-12 00:12:00     4\n",
       "2025-07-12 00:13:00     5\n",
       "2025-07-12 00:14:00    19\n",
       "2025-07-12 00:15:00     2\n",
       "2025-07-12 00:16:00    14\n",
       "2025-07-12 00:17:00     6\n",
       "2025-07-12 00:18:00     1\n",
       "2025-07-12 00:19:00    17\n",
       "Freq: min, dtype: int32"
      ]
     },
     "execution_count": 176,
     "metadata": {},
     "output_type": "execute_result"
    }
   ],
   "source": [
    "ts"
   ]
  },
  {
   "cell_type": "code",
   "execution_count": 177,
   "id": "e6ce4a22-207f-4f56-ae3c-02349e34acdc",
   "metadata": {},
   "outputs": [],
   "source": [
    "# ts = pd.to_datetime(ts)\n",
    "# ts.index = ts.index.strftime(\"%Y-%m-%d\")\n",
    "# ts"
   ]
  },
  {
   "cell_type": "code",
   "execution_count": 178,
   "id": "1ed58fa6-e097-4267-9798-658c6d789178",
   "metadata": {},
   "outputs": [
    {
     "data": {
      "text/html": [
       "<div>\n",
       "<style scoped>\n",
       "    .dataframe tbody tr th:only-of-type {\n",
       "        vertical-align: middle;\n",
       "    }\n",
       "\n",
       "    .dataframe tbody tr th {\n",
       "        vertical-align: top;\n",
       "    }\n",
       "\n",
       "    .dataframe thead th {\n",
       "        text-align: right;\n",
       "    }\n",
       "</style>\n",
       "<table border=\"1\" class=\"dataframe\">\n",
       "  <thead>\n",
       "    <tr style=\"text-align: right;\">\n",
       "      <th></th>\n",
       "      <th>open</th>\n",
       "      <th>high</th>\n",
       "      <th>low</th>\n",
       "      <th>close</th>\n",
       "    </tr>\n",
       "  </thead>\n",
       "  <tbody>\n",
       "    <tr>\n",
       "      <th>2025-07-12 00:00:00</th>\n",
       "      <td>7</td>\n",
       "      <td>18</td>\n",
       "      <td>0</td>\n",
       "      <td>15</td>\n",
       "    </tr>\n",
       "    <tr>\n",
       "      <th>2025-07-12 00:05:00</th>\n",
       "      <td>16</td>\n",
       "      <td>16</td>\n",
       "      <td>3</td>\n",
       "      <td>3</td>\n",
       "    </tr>\n",
       "    <tr>\n",
       "      <th>2025-07-12 00:10:00</th>\n",
       "      <td>11</td>\n",
       "      <td>19</td>\n",
       "      <td>4</td>\n",
       "      <td>19</td>\n",
       "    </tr>\n",
       "    <tr>\n",
       "      <th>2025-07-12 00:15:00</th>\n",
       "      <td>2</td>\n",
       "      <td>17</td>\n",
       "      <td>1</td>\n",
       "      <td>17</td>\n",
       "    </tr>\n",
       "  </tbody>\n",
       "</table>\n",
       "</div>"
      ],
      "text/plain": [
       "                     open  high  low  close\n",
       "2025-07-12 00:00:00     7    18    0     15\n",
       "2025-07-12 00:05:00    16    16    3      3\n",
       "2025-07-12 00:10:00    11    19    4     19\n",
       "2025-07-12 00:15:00     2    17    1     17"
      ]
     },
     "execution_count": 178,
     "metadata": {},
     "output_type": "execute_result"
    }
   ],
   "source": [
    "ts.resample(\n",
    "    \"5min\",\n",
    "    closed=\"left\",\n",
    "    # label=\"left\"\n",
    ").ohlc()"
   ]
  },
  {
   "cell_type": "markdown",
   "id": "34c692cd-de08-4669-8d95-d5a644e41e7a",
   "metadata": {},
   "source": [
    "<h4>Upsampling and interpolation</h4>"
   ]
  },
  {
   "cell_type": "code",
   "execution_count": 179,
   "id": "55b0d8d4-610e-4661-b03d-471f24550422",
   "metadata": {},
   "outputs": [
    {
     "data": {
      "text/html": [
       "<div>\n",
       "<style scoped>\n",
       "    .dataframe tbody tr th:only-of-type {\n",
       "        vertical-align: middle;\n",
       "    }\n",
       "\n",
       "    .dataframe tbody tr th {\n",
       "        vertical-align: top;\n",
       "    }\n",
       "\n",
       "    .dataframe thead th {\n",
       "        text-align: right;\n",
       "    }\n",
       "</style>\n",
       "<table border=\"1\" class=\"dataframe\">\n",
       "  <thead>\n",
       "    <tr style=\"text-align: right;\">\n",
       "      <th></th>\n",
       "      <th>Iganga</th>\n",
       "      <th>Jinja</th>\n",
       "      <th>Kampala</th>\n",
       "      <th>Fort Portal</th>\n",
       "    </tr>\n",
       "  </thead>\n",
       "  <tbody>\n",
       "    <tr>\n",
       "      <th>2024-05-06</th>\n",
       "      <td>0.024823</td>\n",
       "      <td>-1.074007</td>\n",
       "      <td>-0.520018</td>\n",
       "      <td>-0.440052</td>\n",
       "    </tr>\n",
       "    <tr>\n",
       "      <th>2024-05-13</th>\n",
       "      <td>-2.859738</td>\n",
       "      <td>-1.583117</td>\n",
       "      <td>2.456989</td>\n",
       "      <td>1.204212</td>\n",
       "    </tr>\n",
       "    <tr>\n",
       "      <th>2024-05-20</th>\n",
       "      <td>2.221517</td>\n",
       "      <td>-1.295987</td>\n",
       "      <td>2.443218</td>\n",
       "      <td>-0.123845</td>\n",
       "    </tr>\n",
       "    <tr>\n",
       "      <th>2024-05-27</th>\n",
       "      <td>-0.033532</td>\n",
       "      <td>-0.615170</td>\n",
       "      <td>-0.333388</td>\n",
       "      <td>0.070819</td>\n",
       "    </tr>\n",
       "    <tr>\n",
       "      <th>2024-06-03</th>\n",
       "      <td>-0.401770</td>\n",
       "      <td>0.718819</td>\n",
       "      <td>-0.739999</td>\n",
       "      <td>1.032236</td>\n",
       "    </tr>\n",
       "    <tr>\n",
       "      <th>2024-06-10</th>\n",
       "      <td>0.176025</td>\n",
       "      <td>-1.546251</td>\n",
       "      <td>-0.078767</td>\n",
       "      <td>-0.076193</td>\n",
       "    </tr>\n",
       "    <tr>\n",
       "      <th>2024-06-17</th>\n",
       "      <td>-0.169344</td>\n",
       "      <td>0.172034</td>\n",
       "      <td>-1.658766</td>\n",
       "      <td>-1.075008</td>\n",
       "    </tr>\n",
       "    <tr>\n",
       "      <th>2024-06-24</th>\n",
       "      <td>-1.265475</td>\n",
       "      <td>-0.098199</td>\n",
       "      <td>-0.526197</td>\n",
       "      <td>-0.208863</td>\n",
       "    </tr>\n",
       "    <tr>\n",
       "      <th>2024-07-01</th>\n",
       "      <td>-0.679066</td>\n",
       "      <td>1.355465</td>\n",
       "      <td>-1.037615</td>\n",
       "      <td>0.695792</td>\n",
       "    </tr>\n",
       "    <tr>\n",
       "      <th>2024-07-08</th>\n",
       "      <td>0.080985</td>\n",
       "      <td>-0.358520</td>\n",
       "      <td>-1.319658</td>\n",
       "      <td>-2.921691</td>\n",
       "    </tr>\n",
       "  </tbody>\n",
       "</table>\n",
       "</div>"
      ],
      "text/plain": [
       "              Iganga     Jinja   Kampala  Fort Portal\n",
       "2024-05-06  0.024823 -1.074007 -0.520018    -0.440052\n",
       "2024-05-13 -2.859738 -1.583117  2.456989     1.204212\n",
       "2024-05-20  2.221517 -1.295987  2.443218    -0.123845\n",
       "2024-05-27 -0.033532 -0.615170 -0.333388     0.070819\n",
       "2024-06-03 -0.401770  0.718819 -0.739999     1.032236\n",
       "2024-06-10  0.176025 -1.546251 -0.078767    -0.076193\n",
       "2024-06-17 -0.169344  0.172034 -1.658766    -1.075008\n",
       "2024-06-24 -1.265475 -0.098199 -0.526197    -0.208863\n",
       "2024-07-01 -0.679066  1.355465 -1.037615     0.695792\n",
       "2024-07-08  0.080985 -0.358520 -1.319658    -2.921691"
      ]
     },
     "execution_count": 179,
     "metadata": {},
     "output_type": "execute_result"
    }
   ],
   "source": [
    "frame = pd.DataFrame(\n",
    "    np.random.standard_normal((10, 4)),\n",
    "    index=pd.date_range(\"2024-05-01\", periods=10, freq=\"W-MON\"),\n",
    "    columns=[\"Iganga\", \"Jinja\", \"Kampala\", \"Fort Portal\"]\n",
    ")\n",
    "frame"
   ]
  },
  {
   "cell_type": "code",
   "execution_count": 180,
   "id": "fa3444c3-718f-4df6-9970-4ed46ee232e8",
   "metadata": {},
   "outputs": [
    {
     "data": {
      "text/html": [
       "<div>\n",
       "<style scoped>\n",
       "    .dataframe tbody tr th:only-of-type {\n",
       "        vertical-align: middle;\n",
       "    }\n",
       "\n",
       "    .dataframe tbody tr th {\n",
       "        vertical-align: top;\n",
       "    }\n",
       "\n",
       "    .dataframe thead th {\n",
       "        text-align: right;\n",
       "    }\n",
       "</style>\n",
       "<table border=\"1\" class=\"dataframe\">\n",
       "  <thead>\n",
       "    <tr style=\"text-align: right;\">\n",
       "      <th></th>\n",
       "      <th>Iganga</th>\n",
       "      <th>Jinja</th>\n",
       "      <th>Kampala</th>\n",
       "      <th>Fort Portal</th>\n",
       "    </tr>\n",
       "  </thead>\n",
       "  <tbody>\n",
       "    <tr>\n",
       "      <th>2024-05-06</th>\n",
       "      <td>0.024823</td>\n",
       "      <td>-1.074007</td>\n",
       "      <td>-0.520018</td>\n",
       "      <td>-0.440052</td>\n",
       "    </tr>\n",
       "    <tr>\n",
       "      <th>2024-05-07</th>\n",
       "      <td>NaN</td>\n",
       "      <td>NaN</td>\n",
       "      <td>NaN</td>\n",
       "      <td>NaN</td>\n",
       "    </tr>\n",
       "    <tr>\n",
       "      <th>2024-05-08</th>\n",
       "      <td>NaN</td>\n",
       "      <td>NaN</td>\n",
       "      <td>NaN</td>\n",
       "      <td>NaN</td>\n",
       "    </tr>\n",
       "    <tr>\n",
       "      <th>2024-05-09</th>\n",
       "      <td>NaN</td>\n",
       "      <td>NaN</td>\n",
       "      <td>NaN</td>\n",
       "      <td>NaN</td>\n",
       "    </tr>\n",
       "    <tr>\n",
       "      <th>2024-05-10</th>\n",
       "      <td>NaN</td>\n",
       "      <td>NaN</td>\n",
       "      <td>NaN</td>\n",
       "      <td>NaN</td>\n",
       "    </tr>\n",
       "    <tr>\n",
       "      <th>...</th>\n",
       "      <td>...</td>\n",
       "      <td>...</td>\n",
       "      <td>...</td>\n",
       "      <td>...</td>\n",
       "    </tr>\n",
       "    <tr>\n",
       "      <th>2024-07-04</th>\n",
       "      <td>NaN</td>\n",
       "      <td>NaN</td>\n",
       "      <td>NaN</td>\n",
       "      <td>NaN</td>\n",
       "    </tr>\n",
       "    <tr>\n",
       "      <th>2024-07-05</th>\n",
       "      <td>NaN</td>\n",
       "      <td>NaN</td>\n",
       "      <td>NaN</td>\n",
       "      <td>NaN</td>\n",
       "    </tr>\n",
       "    <tr>\n",
       "      <th>2024-07-06</th>\n",
       "      <td>NaN</td>\n",
       "      <td>NaN</td>\n",
       "      <td>NaN</td>\n",
       "      <td>NaN</td>\n",
       "    </tr>\n",
       "    <tr>\n",
       "      <th>2024-07-07</th>\n",
       "      <td>NaN</td>\n",
       "      <td>NaN</td>\n",
       "      <td>NaN</td>\n",
       "      <td>NaN</td>\n",
       "    </tr>\n",
       "    <tr>\n",
       "      <th>2024-07-08</th>\n",
       "      <td>0.080985</td>\n",
       "      <td>-0.358520</td>\n",
       "      <td>-1.319658</td>\n",
       "      <td>-2.921691</td>\n",
       "    </tr>\n",
       "  </tbody>\n",
       "</table>\n",
       "<p>64 rows × 4 columns</p>\n",
       "</div>"
      ],
      "text/plain": [
       "              Iganga     Jinja   Kampala  Fort Portal\n",
       "2024-05-06  0.024823 -1.074007 -0.520018    -0.440052\n",
       "2024-05-07       NaN       NaN       NaN          NaN\n",
       "2024-05-08       NaN       NaN       NaN          NaN\n",
       "2024-05-09       NaN       NaN       NaN          NaN\n",
       "2024-05-10       NaN       NaN       NaN          NaN\n",
       "...              ...       ...       ...          ...\n",
       "2024-07-04       NaN       NaN       NaN          NaN\n",
       "2024-07-05       NaN       NaN       NaN          NaN\n",
       "2024-07-06       NaN       NaN       NaN          NaN\n",
       "2024-07-07       NaN       NaN       NaN          NaN\n",
       "2024-07-08  0.080985 -0.358520 -1.319658    -2.921691\n",
       "\n",
       "[64 rows x 4 columns]"
      ]
     },
     "execution_count": 180,
     "metadata": {},
     "output_type": "execute_result"
    }
   ],
   "source": [
    "# upsampling\n",
    "df_daily = frame.resample(\"D\").asfreq()\n",
    "df_daily"
   ]
  },
  {
   "cell_type": "code",
   "execution_count": 181,
   "id": "f5549629-c17d-4bea-a0c7-9f730d6e0766",
   "metadata": {},
   "outputs": [
    {
     "data": {
      "text/html": [
       "<div>\n",
       "<style scoped>\n",
       "    .dataframe tbody tr th:only-of-type {\n",
       "        vertical-align: middle;\n",
       "    }\n",
       "\n",
       "    .dataframe tbody tr th {\n",
       "        vertical-align: top;\n",
       "    }\n",
       "\n",
       "    .dataframe thead th {\n",
       "        text-align: right;\n",
       "    }\n",
       "</style>\n",
       "<table border=\"1\" class=\"dataframe\">\n",
       "  <thead>\n",
       "    <tr style=\"text-align: right;\">\n",
       "      <th></th>\n",
       "      <th>Iganga</th>\n",
       "      <th>Jinja</th>\n",
       "      <th>Kampala</th>\n",
       "      <th>Fort Portal</th>\n",
       "    </tr>\n",
       "  </thead>\n",
       "  <tbody>\n",
       "    <tr>\n",
       "      <th>2024-05-30</th>\n",
       "      <td>NaN</td>\n",
       "      <td>NaN</td>\n",
       "      <td>NaN</td>\n",
       "      <td>NaN</td>\n",
       "    </tr>\n",
       "    <tr>\n",
       "      <th>2024-05-31</th>\n",
       "      <td>NaN</td>\n",
       "      <td>NaN</td>\n",
       "      <td>NaN</td>\n",
       "      <td>NaN</td>\n",
       "    </tr>\n",
       "    <tr>\n",
       "      <th>2024-06-01</th>\n",
       "      <td>NaN</td>\n",
       "      <td>NaN</td>\n",
       "      <td>NaN</td>\n",
       "      <td>NaN</td>\n",
       "    </tr>\n",
       "    <tr>\n",
       "      <th>2024-06-02</th>\n",
       "      <td>NaN</td>\n",
       "      <td>NaN</td>\n",
       "      <td>NaN</td>\n",
       "      <td>NaN</td>\n",
       "    </tr>\n",
       "    <tr>\n",
       "      <th>2024-06-03</th>\n",
       "      <td>-0.401770</td>\n",
       "      <td>0.718819</td>\n",
       "      <td>-0.739999</td>\n",
       "      <td>1.032236</td>\n",
       "    </tr>\n",
       "    <tr>\n",
       "      <th>2024-06-04</th>\n",
       "      <td>NaN</td>\n",
       "      <td>NaN</td>\n",
       "      <td>NaN</td>\n",
       "      <td>NaN</td>\n",
       "    </tr>\n",
       "    <tr>\n",
       "      <th>2024-06-05</th>\n",
       "      <td>NaN</td>\n",
       "      <td>NaN</td>\n",
       "      <td>NaN</td>\n",
       "      <td>NaN</td>\n",
       "    </tr>\n",
       "    <tr>\n",
       "      <th>2024-06-06</th>\n",
       "      <td>NaN</td>\n",
       "      <td>NaN</td>\n",
       "      <td>NaN</td>\n",
       "      <td>NaN</td>\n",
       "    </tr>\n",
       "    <tr>\n",
       "      <th>2024-06-07</th>\n",
       "      <td>NaN</td>\n",
       "      <td>NaN</td>\n",
       "      <td>NaN</td>\n",
       "      <td>NaN</td>\n",
       "    </tr>\n",
       "    <tr>\n",
       "      <th>2024-06-08</th>\n",
       "      <td>NaN</td>\n",
       "      <td>NaN</td>\n",
       "      <td>NaN</td>\n",
       "      <td>NaN</td>\n",
       "    </tr>\n",
       "    <tr>\n",
       "      <th>2024-06-09</th>\n",
       "      <td>NaN</td>\n",
       "      <td>NaN</td>\n",
       "      <td>NaN</td>\n",
       "      <td>NaN</td>\n",
       "    </tr>\n",
       "    <tr>\n",
       "      <th>2024-06-10</th>\n",
       "      <td>0.176025</td>\n",
       "      <td>-1.546251</td>\n",
       "      <td>-0.078767</td>\n",
       "      <td>-0.076193</td>\n",
       "    </tr>\n",
       "    <tr>\n",
       "      <th>2024-06-11</th>\n",
       "      <td>NaN</td>\n",
       "      <td>NaN</td>\n",
       "      <td>NaN</td>\n",
       "      <td>NaN</td>\n",
       "    </tr>\n",
       "    <tr>\n",
       "      <th>2024-06-12</th>\n",
       "      <td>NaN</td>\n",
       "      <td>NaN</td>\n",
       "      <td>NaN</td>\n",
       "      <td>NaN</td>\n",
       "    </tr>\n",
       "    <tr>\n",
       "      <th>2024-06-13</th>\n",
       "      <td>NaN</td>\n",
       "      <td>NaN</td>\n",
       "      <td>NaN</td>\n",
       "      <td>NaN</td>\n",
       "    </tr>\n",
       "    <tr>\n",
       "      <th>2024-06-14</th>\n",
       "      <td>NaN</td>\n",
       "      <td>NaN</td>\n",
       "      <td>NaN</td>\n",
       "      <td>NaN</td>\n",
       "    </tr>\n",
       "    <tr>\n",
       "      <th>2024-06-15</th>\n",
       "      <td>NaN</td>\n",
       "      <td>NaN</td>\n",
       "      <td>NaN</td>\n",
       "      <td>NaN</td>\n",
       "    </tr>\n",
       "    <tr>\n",
       "      <th>2024-06-16</th>\n",
       "      <td>NaN</td>\n",
       "      <td>NaN</td>\n",
       "      <td>NaN</td>\n",
       "      <td>NaN</td>\n",
       "    </tr>\n",
       "    <tr>\n",
       "      <th>2024-06-17</th>\n",
       "      <td>-0.169344</td>\n",
       "      <td>0.172034</td>\n",
       "      <td>-1.658766</td>\n",
       "      <td>-1.075008</td>\n",
       "    </tr>\n",
       "    <tr>\n",
       "      <th>2024-06-18</th>\n",
       "      <td>NaN</td>\n",
       "      <td>NaN</td>\n",
       "      <td>NaN</td>\n",
       "      <td>NaN</td>\n",
       "    </tr>\n",
       "    <tr>\n",
       "      <th>2024-06-19</th>\n",
       "      <td>NaN</td>\n",
       "      <td>NaN</td>\n",
       "      <td>NaN</td>\n",
       "      <td>NaN</td>\n",
       "    </tr>\n",
       "    <tr>\n",
       "      <th>2024-06-20</th>\n",
       "      <td>NaN</td>\n",
       "      <td>NaN</td>\n",
       "      <td>NaN</td>\n",
       "      <td>NaN</td>\n",
       "    </tr>\n",
       "    <tr>\n",
       "      <th>2024-06-21</th>\n",
       "      <td>NaN</td>\n",
       "      <td>NaN</td>\n",
       "      <td>NaN</td>\n",
       "      <td>NaN</td>\n",
       "    </tr>\n",
       "    <tr>\n",
       "      <th>2024-06-22</th>\n",
       "      <td>NaN</td>\n",
       "      <td>NaN</td>\n",
       "      <td>NaN</td>\n",
       "      <td>NaN</td>\n",
       "    </tr>\n",
       "    <tr>\n",
       "      <th>2024-06-23</th>\n",
       "      <td>NaN</td>\n",
       "      <td>NaN</td>\n",
       "      <td>NaN</td>\n",
       "      <td>NaN</td>\n",
       "    </tr>\n",
       "    <tr>\n",
       "      <th>2024-06-24</th>\n",
       "      <td>-1.265475</td>\n",
       "      <td>-0.098199</td>\n",
       "      <td>-0.526197</td>\n",
       "      <td>-0.208863</td>\n",
       "    </tr>\n",
       "    <tr>\n",
       "      <th>2024-06-25</th>\n",
       "      <td>NaN</td>\n",
       "      <td>NaN</td>\n",
       "      <td>NaN</td>\n",
       "      <td>NaN</td>\n",
       "    </tr>\n",
       "    <tr>\n",
       "      <th>2024-06-26</th>\n",
       "      <td>NaN</td>\n",
       "      <td>NaN</td>\n",
       "      <td>NaN</td>\n",
       "      <td>NaN</td>\n",
       "    </tr>\n",
       "    <tr>\n",
       "      <th>2024-06-27</th>\n",
       "      <td>NaN</td>\n",
       "      <td>NaN</td>\n",
       "      <td>NaN</td>\n",
       "      <td>NaN</td>\n",
       "    </tr>\n",
       "    <tr>\n",
       "      <th>2024-06-28</th>\n",
       "      <td>NaN</td>\n",
       "      <td>NaN</td>\n",
       "      <td>NaN</td>\n",
       "      <td>NaN</td>\n",
       "    </tr>\n",
       "    <tr>\n",
       "      <th>2024-06-29</th>\n",
       "      <td>NaN</td>\n",
       "      <td>NaN</td>\n",
       "      <td>NaN</td>\n",
       "      <td>NaN</td>\n",
       "    </tr>\n",
       "    <tr>\n",
       "      <th>2024-06-30</th>\n",
       "      <td>NaN</td>\n",
       "      <td>NaN</td>\n",
       "      <td>NaN</td>\n",
       "      <td>NaN</td>\n",
       "    </tr>\n",
       "    <tr>\n",
       "      <th>2024-07-01</th>\n",
       "      <td>-0.679066</td>\n",
       "      <td>1.355465</td>\n",
       "      <td>-1.037615</td>\n",
       "      <td>0.695792</td>\n",
       "    </tr>\n",
       "    <tr>\n",
       "      <th>2024-07-02</th>\n",
       "      <td>NaN</td>\n",
       "      <td>NaN</td>\n",
       "      <td>NaN</td>\n",
       "      <td>NaN</td>\n",
       "    </tr>\n",
       "    <tr>\n",
       "      <th>2024-07-03</th>\n",
       "      <td>NaN</td>\n",
       "      <td>NaN</td>\n",
       "      <td>NaN</td>\n",
       "      <td>NaN</td>\n",
       "    </tr>\n",
       "    <tr>\n",
       "      <th>2024-07-04</th>\n",
       "      <td>NaN</td>\n",
       "      <td>NaN</td>\n",
       "      <td>NaN</td>\n",
       "      <td>NaN</td>\n",
       "    </tr>\n",
       "    <tr>\n",
       "      <th>2024-07-05</th>\n",
       "      <td>NaN</td>\n",
       "      <td>NaN</td>\n",
       "      <td>NaN</td>\n",
       "      <td>NaN</td>\n",
       "    </tr>\n",
       "    <tr>\n",
       "      <th>2024-07-06</th>\n",
       "      <td>NaN</td>\n",
       "      <td>NaN</td>\n",
       "      <td>NaN</td>\n",
       "      <td>NaN</td>\n",
       "    </tr>\n",
       "    <tr>\n",
       "      <th>2024-07-07</th>\n",
       "      <td>NaN</td>\n",
       "      <td>NaN</td>\n",
       "      <td>NaN</td>\n",
       "      <td>NaN</td>\n",
       "    </tr>\n",
       "    <tr>\n",
       "      <th>2024-07-08</th>\n",
       "      <td>0.080985</td>\n",
       "      <td>-0.358520</td>\n",
       "      <td>-1.319658</td>\n",
       "      <td>-2.921691</td>\n",
       "    </tr>\n",
       "  </tbody>\n",
       "</table>\n",
       "</div>"
      ],
      "text/plain": [
       "              Iganga     Jinja   Kampala  Fort Portal\n",
       "2024-05-30       NaN       NaN       NaN          NaN\n",
       "2024-05-31       NaN       NaN       NaN          NaN\n",
       "2024-06-01       NaN       NaN       NaN          NaN\n",
       "2024-06-02       NaN       NaN       NaN          NaN\n",
       "2024-06-03 -0.401770  0.718819 -0.739999     1.032236\n",
       "2024-06-04       NaN       NaN       NaN          NaN\n",
       "2024-06-05       NaN       NaN       NaN          NaN\n",
       "2024-06-06       NaN       NaN       NaN          NaN\n",
       "2024-06-07       NaN       NaN       NaN          NaN\n",
       "2024-06-08       NaN       NaN       NaN          NaN\n",
       "2024-06-09       NaN       NaN       NaN          NaN\n",
       "2024-06-10  0.176025 -1.546251 -0.078767    -0.076193\n",
       "2024-06-11       NaN       NaN       NaN          NaN\n",
       "2024-06-12       NaN       NaN       NaN          NaN\n",
       "2024-06-13       NaN       NaN       NaN          NaN\n",
       "2024-06-14       NaN       NaN       NaN          NaN\n",
       "2024-06-15       NaN       NaN       NaN          NaN\n",
       "2024-06-16       NaN       NaN       NaN          NaN\n",
       "2024-06-17 -0.169344  0.172034 -1.658766    -1.075008\n",
       "2024-06-18       NaN       NaN       NaN          NaN\n",
       "2024-06-19       NaN       NaN       NaN          NaN\n",
       "2024-06-20       NaN       NaN       NaN          NaN\n",
       "2024-06-21       NaN       NaN       NaN          NaN\n",
       "2024-06-22       NaN       NaN       NaN          NaN\n",
       "2024-06-23       NaN       NaN       NaN          NaN\n",
       "2024-06-24 -1.265475 -0.098199 -0.526197    -0.208863\n",
       "2024-06-25       NaN       NaN       NaN          NaN\n",
       "2024-06-26       NaN       NaN       NaN          NaN\n",
       "2024-06-27       NaN       NaN       NaN          NaN\n",
       "2024-06-28       NaN       NaN       NaN          NaN\n",
       "2024-06-29       NaN       NaN       NaN          NaN\n",
       "2024-06-30       NaN       NaN       NaN          NaN\n",
       "2024-07-01 -0.679066  1.355465 -1.037615     0.695792\n",
       "2024-07-02       NaN       NaN       NaN          NaN\n",
       "2024-07-03       NaN       NaN       NaN          NaN\n",
       "2024-07-04       NaN       NaN       NaN          NaN\n",
       "2024-07-05       NaN       NaN       NaN          NaN\n",
       "2024-07-06       NaN       NaN       NaN          NaN\n",
       "2024-07-07       NaN       NaN       NaN          NaN\n",
       "2024-07-08  0.080985 -0.358520 -1.319658    -2.921691"
      ]
     },
     "execution_count": 181,
     "metadata": {},
     "output_type": "execute_result"
    }
   ],
   "source": [
    "df_daily.tail(40)"
   ]
  },
  {
   "cell_type": "code",
   "execution_count": 182,
   "id": "b979a885-fe35-496d-996b-9e29ab2a3419",
   "metadata": {},
   "outputs": [
    {
     "data": {
      "text/html": [
       "<div>\n",
       "<style scoped>\n",
       "    .dataframe tbody tr th:only-of-type {\n",
       "        vertical-align: middle;\n",
       "    }\n",
       "\n",
       "    .dataframe tbody tr th {\n",
       "        vertical-align: top;\n",
       "    }\n",
       "\n",
       "    .dataframe thead th {\n",
       "        text-align: right;\n",
       "    }\n",
       "</style>\n",
       "<table border=\"1\" class=\"dataframe\">\n",
       "  <thead>\n",
       "    <tr style=\"text-align: right;\">\n",
       "      <th></th>\n",
       "      <th>Iganga</th>\n",
       "      <th>Jinja</th>\n",
       "      <th>Kampala</th>\n",
       "      <th>Fort Portal</th>\n",
       "    </tr>\n",
       "  </thead>\n",
       "  <tbody>\n",
       "    <tr>\n",
       "      <th>2024-05-06</th>\n",
       "      <td>0.024823</td>\n",
       "      <td>-1.074007</td>\n",
       "      <td>-0.520018</td>\n",
       "      <td>-0.440052</td>\n",
       "    </tr>\n",
       "    <tr>\n",
       "      <th>2024-05-07</th>\n",
       "      <td>0.024823</td>\n",
       "      <td>-1.074007</td>\n",
       "      <td>-0.520018</td>\n",
       "      <td>-0.440052</td>\n",
       "    </tr>\n",
       "    <tr>\n",
       "      <th>2024-05-08</th>\n",
       "      <td>0.024823</td>\n",
       "      <td>-1.074007</td>\n",
       "      <td>-0.520018</td>\n",
       "      <td>-0.440052</td>\n",
       "    </tr>\n",
       "    <tr>\n",
       "      <th>2024-05-09</th>\n",
       "      <td>0.024823</td>\n",
       "      <td>-1.074007</td>\n",
       "      <td>-0.520018</td>\n",
       "      <td>-0.440052</td>\n",
       "    </tr>\n",
       "    <tr>\n",
       "      <th>2024-05-10</th>\n",
       "      <td>0.024823</td>\n",
       "      <td>-1.074007</td>\n",
       "      <td>-0.520018</td>\n",
       "      <td>-0.440052</td>\n",
       "    </tr>\n",
       "    <tr>\n",
       "      <th>...</th>\n",
       "      <td>...</td>\n",
       "      <td>...</td>\n",
       "      <td>...</td>\n",
       "      <td>...</td>\n",
       "    </tr>\n",
       "    <tr>\n",
       "      <th>2024-07-04</th>\n",
       "      <td>-0.679066</td>\n",
       "      <td>1.355465</td>\n",
       "      <td>-1.037615</td>\n",
       "      <td>0.695792</td>\n",
       "    </tr>\n",
       "    <tr>\n",
       "      <th>2024-07-05</th>\n",
       "      <td>-0.679066</td>\n",
       "      <td>1.355465</td>\n",
       "      <td>-1.037615</td>\n",
       "      <td>0.695792</td>\n",
       "    </tr>\n",
       "    <tr>\n",
       "      <th>2024-07-06</th>\n",
       "      <td>-0.679066</td>\n",
       "      <td>1.355465</td>\n",
       "      <td>-1.037615</td>\n",
       "      <td>0.695792</td>\n",
       "    </tr>\n",
       "    <tr>\n",
       "      <th>2024-07-07</th>\n",
       "      <td>-0.679066</td>\n",
       "      <td>1.355465</td>\n",
       "      <td>-1.037615</td>\n",
       "      <td>0.695792</td>\n",
       "    </tr>\n",
       "    <tr>\n",
       "      <th>2024-07-08</th>\n",
       "      <td>0.080985</td>\n",
       "      <td>-0.358520</td>\n",
       "      <td>-1.319658</td>\n",
       "      <td>-2.921691</td>\n",
       "    </tr>\n",
       "  </tbody>\n",
       "</table>\n",
       "<p>64 rows × 4 columns</p>\n",
       "</div>"
      ],
      "text/plain": [
       "              Iganga     Jinja   Kampala  Fort Portal\n",
       "2024-05-06  0.024823 -1.074007 -0.520018    -0.440052\n",
       "2024-05-07  0.024823 -1.074007 -0.520018    -0.440052\n",
       "2024-05-08  0.024823 -1.074007 -0.520018    -0.440052\n",
       "2024-05-09  0.024823 -1.074007 -0.520018    -0.440052\n",
       "2024-05-10  0.024823 -1.074007 -0.520018    -0.440052\n",
       "...              ...       ...       ...          ...\n",
       "2024-07-04 -0.679066  1.355465 -1.037615     0.695792\n",
       "2024-07-05 -0.679066  1.355465 -1.037615     0.695792\n",
       "2024-07-06 -0.679066  1.355465 -1.037615     0.695792\n",
       "2024-07-07 -0.679066  1.355465 -1.037615     0.695792\n",
       "2024-07-08  0.080985 -0.358520 -1.319658    -2.921691\n",
       "\n",
       "[64 rows x 4 columns]"
      ]
     },
     "execution_count": 182,
     "metadata": {},
     "output_type": "execute_result"
    }
   ],
   "source": [
    "frame.resample(\"D\").ffill()"
   ]
  },
  {
   "cell_type": "code",
   "execution_count": 183,
   "id": "07812866-4da0-42ed-9925-db798a5762c9",
   "metadata": {},
   "outputs": [
    {
     "data": {
      "text/html": [
       "<div>\n",
       "<style scoped>\n",
       "    .dataframe tbody tr th:only-of-type {\n",
       "        vertical-align: middle;\n",
       "    }\n",
       "\n",
       "    .dataframe tbody tr th {\n",
       "        vertical-align: top;\n",
       "    }\n",
       "\n",
       "    .dataframe thead th {\n",
       "        text-align: right;\n",
       "    }\n",
       "</style>\n",
       "<table border=\"1\" class=\"dataframe\">\n",
       "  <thead>\n",
       "    <tr style=\"text-align: right;\">\n",
       "      <th></th>\n",
       "      <th>Iganga</th>\n",
       "      <th>Jinja</th>\n",
       "      <th>Kampala</th>\n",
       "      <th>Fort Portal</th>\n",
       "    </tr>\n",
       "  </thead>\n",
       "  <tbody>\n",
       "    <tr>\n",
       "      <th>2024-05-06</th>\n",
       "      <td>0.024823</td>\n",
       "      <td>-1.074007</td>\n",
       "      <td>-0.520018</td>\n",
       "      <td>-0.440052</td>\n",
       "    </tr>\n",
       "    <tr>\n",
       "      <th>2024-05-07</th>\n",
       "      <td>0.024823</td>\n",
       "      <td>-1.074007</td>\n",
       "      <td>-0.520018</td>\n",
       "      <td>-0.440052</td>\n",
       "    </tr>\n",
       "    <tr>\n",
       "      <th>2024-05-08</th>\n",
       "      <td>0.024823</td>\n",
       "      <td>-1.074007</td>\n",
       "      <td>-0.520018</td>\n",
       "      <td>-0.440052</td>\n",
       "    </tr>\n",
       "    <tr>\n",
       "      <th>2024-05-09</th>\n",
       "      <td>0.024823</td>\n",
       "      <td>-1.074007</td>\n",
       "      <td>-0.520018</td>\n",
       "      <td>-0.440052</td>\n",
       "    </tr>\n",
       "    <tr>\n",
       "      <th>2024-05-10</th>\n",
       "      <td>0.024823</td>\n",
       "      <td>-1.074007</td>\n",
       "      <td>-0.520018</td>\n",
       "      <td>-0.440052</td>\n",
       "    </tr>\n",
       "    <tr>\n",
       "      <th>2024-05-11</th>\n",
       "      <td>0.024823</td>\n",
       "      <td>-1.074007</td>\n",
       "      <td>-0.520018</td>\n",
       "      <td>-0.440052</td>\n",
       "    </tr>\n",
       "    <tr>\n",
       "      <th>2024-05-12</th>\n",
       "      <td>NaN</td>\n",
       "      <td>NaN</td>\n",
       "      <td>NaN</td>\n",
       "      <td>NaN</td>\n",
       "    </tr>\n",
       "    <tr>\n",
       "      <th>2024-05-13</th>\n",
       "      <td>-2.859738</td>\n",
       "      <td>-1.583117</td>\n",
       "      <td>2.456989</td>\n",
       "      <td>1.204212</td>\n",
       "    </tr>\n",
       "    <tr>\n",
       "      <th>2024-05-14</th>\n",
       "      <td>-2.859738</td>\n",
       "      <td>-1.583117</td>\n",
       "      <td>2.456989</td>\n",
       "      <td>1.204212</td>\n",
       "    </tr>\n",
       "    <tr>\n",
       "      <th>2024-05-15</th>\n",
       "      <td>-2.859738</td>\n",
       "      <td>-1.583117</td>\n",
       "      <td>2.456989</td>\n",
       "      <td>1.204212</td>\n",
       "    </tr>\n",
       "  </tbody>\n",
       "</table>\n",
       "</div>"
      ],
      "text/plain": [
       "              Iganga     Jinja   Kampala  Fort Portal\n",
       "2024-05-06  0.024823 -1.074007 -0.520018    -0.440052\n",
       "2024-05-07  0.024823 -1.074007 -0.520018    -0.440052\n",
       "2024-05-08  0.024823 -1.074007 -0.520018    -0.440052\n",
       "2024-05-09  0.024823 -1.074007 -0.520018    -0.440052\n",
       "2024-05-10  0.024823 -1.074007 -0.520018    -0.440052\n",
       "2024-05-11  0.024823 -1.074007 -0.520018    -0.440052\n",
       "2024-05-12       NaN       NaN       NaN          NaN\n",
       "2024-05-13 -2.859738 -1.583117  2.456989     1.204212\n",
       "2024-05-14 -2.859738 -1.583117  2.456989     1.204212\n",
       "2024-05-15 -2.859738 -1.583117  2.456989     1.204212"
      ]
     },
     "execution_count": 183,
     "metadata": {},
     "output_type": "execute_result"
    }
   ],
   "source": [
    "frame.resample(\"D\").ffill(limit=5).head(10)"
   ]
  },
  {
   "cell_type": "code",
   "execution_count": 184,
   "id": "f8a8c020-2a17-4368-8384-d327157bf388",
   "metadata": {},
   "outputs": [
    {
     "data": {
      "text/html": [
       "<div>\n",
       "<style scoped>\n",
       "    .dataframe tbody tr th:only-of-type {\n",
       "        vertical-align: middle;\n",
       "    }\n",
       "\n",
       "    .dataframe tbody tr th {\n",
       "        vertical-align: top;\n",
       "    }\n",
       "\n",
       "    .dataframe thead th {\n",
       "        text-align: right;\n",
       "    }\n",
       "</style>\n",
       "<table border=\"1\" class=\"dataframe\">\n",
       "  <thead>\n",
       "    <tr style=\"text-align: right;\">\n",
       "      <th></th>\n",
       "      <th>Iganga</th>\n",
       "      <th>Jinja</th>\n",
       "      <th>Kampala</th>\n",
       "      <th>Fort Portal</th>\n",
       "    </tr>\n",
       "  </thead>\n",
       "  <tbody>\n",
       "    <tr>\n",
       "      <th>2024-05-09</th>\n",
       "      <td>0.024823</td>\n",
       "      <td>-1.074007</td>\n",
       "      <td>-0.520018</td>\n",
       "      <td>-0.440052</td>\n",
       "    </tr>\n",
       "    <tr>\n",
       "      <th>2024-05-16</th>\n",
       "      <td>-2.859738</td>\n",
       "      <td>-1.583117</td>\n",
       "      <td>2.456989</td>\n",
       "      <td>1.204212</td>\n",
       "    </tr>\n",
       "    <tr>\n",
       "      <th>2024-05-23</th>\n",
       "      <td>2.221517</td>\n",
       "      <td>-1.295987</td>\n",
       "      <td>2.443218</td>\n",
       "      <td>-0.123845</td>\n",
       "    </tr>\n",
       "    <tr>\n",
       "      <th>2024-05-30</th>\n",
       "      <td>-0.033532</td>\n",
       "      <td>-0.615170</td>\n",
       "      <td>-0.333388</td>\n",
       "      <td>0.070819</td>\n",
       "    </tr>\n",
       "    <tr>\n",
       "      <th>2024-06-06</th>\n",
       "      <td>-0.401770</td>\n",
       "      <td>0.718819</td>\n",
       "      <td>-0.739999</td>\n",
       "      <td>1.032236</td>\n",
       "    </tr>\n",
       "    <tr>\n",
       "      <th>2024-06-13</th>\n",
       "      <td>0.176025</td>\n",
       "      <td>-1.546251</td>\n",
       "      <td>-0.078767</td>\n",
       "      <td>-0.076193</td>\n",
       "    </tr>\n",
       "    <tr>\n",
       "      <th>2024-06-20</th>\n",
       "      <td>-0.169344</td>\n",
       "      <td>0.172034</td>\n",
       "      <td>-1.658766</td>\n",
       "      <td>-1.075008</td>\n",
       "    </tr>\n",
       "    <tr>\n",
       "      <th>2024-06-27</th>\n",
       "      <td>-1.265475</td>\n",
       "      <td>-0.098199</td>\n",
       "      <td>-0.526197</td>\n",
       "      <td>-0.208863</td>\n",
       "    </tr>\n",
       "    <tr>\n",
       "      <th>2024-07-04</th>\n",
       "      <td>-0.679066</td>\n",
       "      <td>1.355465</td>\n",
       "      <td>-1.037615</td>\n",
       "      <td>0.695792</td>\n",
       "    </tr>\n",
       "    <tr>\n",
       "      <th>2024-07-11</th>\n",
       "      <td>0.080985</td>\n",
       "      <td>-0.358520</td>\n",
       "      <td>-1.319658</td>\n",
       "      <td>-2.921691</td>\n",
       "    </tr>\n",
       "  </tbody>\n",
       "</table>\n",
       "</div>"
      ],
      "text/plain": [
       "              Iganga     Jinja   Kampala  Fort Portal\n",
       "2024-05-09  0.024823 -1.074007 -0.520018    -0.440052\n",
       "2024-05-16 -2.859738 -1.583117  2.456989     1.204212\n",
       "2024-05-23  2.221517 -1.295987  2.443218    -0.123845\n",
       "2024-05-30 -0.033532 -0.615170 -0.333388     0.070819\n",
       "2024-06-06 -0.401770  0.718819 -0.739999     1.032236\n",
       "2024-06-13  0.176025 -1.546251 -0.078767    -0.076193\n",
       "2024-06-20 -0.169344  0.172034 -1.658766    -1.075008\n",
       "2024-06-27 -1.265475 -0.098199 -0.526197    -0.208863\n",
       "2024-07-04 -0.679066  1.355465 -1.037615     0.695792\n",
       "2024-07-11  0.080985 -0.358520 -1.319658    -2.921691"
      ]
     },
     "execution_count": 184,
     "metadata": {},
     "output_type": "execute_result"
    }
   ],
   "source": [
    "# using a different index\n",
    "frame.resample(\"W-THU\").ffill(limit=2)"
   ]
  },
  {
   "cell_type": "markdown",
   "id": "47d15a16-279b-4f81-b7f1-a253b72dd6e3",
   "metadata": {},
   "source": [
    "<h4>Resampling with Periods</h4>"
   ]
  },
  {
   "cell_type": "code",
   "execution_count": 185,
   "id": "e67ca99c-40e5-456a-8216-9ed708d990c7",
   "metadata": {},
   "outputs": [
    {
     "data": {
      "text/html": [
       "<div>\n",
       "<style scoped>\n",
       "    .dataframe tbody tr th:only-of-type {\n",
       "        vertical-align: middle;\n",
       "    }\n",
       "\n",
       "    .dataframe tbody tr th {\n",
       "        vertical-align: top;\n",
       "    }\n",
       "\n",
       "    .dataframe thead th {\n",
       "        text-align: right;\n",
       "    }\n",
       "</style>\n",
       "<table border=\"1\" class=\"dataframe\">\n",
       "  <thead>\n",
       "    <tr style=\"text-align: right;\">\n",
       "      <th></th>\n",
       "      <th>Iganga</th>\n",
       "      <th>Jinja</th>\n",
       "      <th>Kampala</th>\n",
       "      <th>Masaka</th>\n",
       "    </tr>\n",
       "  </thead>\n",
       "  <tbody>\n",
       "    <tr>\n",
       "      <th>2024-01</th>\n",
       "      <td>-1.934496</td>\n",
       "      <td>0.563889</td>\n",
       "      <td>0.609422</td>\n",
       "      <td>0.164242</td>\n",
       "    </tr>\n",
       "    <tr>\n",
       "      <th>2024-02</th>\n",
       "      <td>-1.553511</td>\n",
       "      <td>-1.079323</td>\n",
       "      <td>-0.195121</td>\n",
       "      <td>0.400479</td>\n",
       "    </tr>\n",
       "    <tr>\n",
       "      <th>2024-03</th>\n",
       "      <td>-2.609323</td>\n",
       "      <td>0.104987</td>\n",
       "      <td>-0.952235</td>\n",
       "      <td>0.158339</td>\n",
       "    </tr>\n",
       "    <tr>\n",
       "      <th>2024-04</th>\n",
       "      <td>-0.401588</td>\n",
       "      <td>-0.057901</td>\n",
       "      <td>-0.814815</td>\n",
       "      <td>-0.151343</td>\n",
       "    </tr>\n",
       "    <tr>\n",
       "      <th>2024-05</th>\n",
       "      <td>0.272865</td>\n",
       "      <td>1.633177</td>\n",
       "      <td>2.651007</td>\n",
       "      <td>0.544803</td>\n",
       "    </tr>\n",
       "  </tbody>\n",
       "</table>\n",
       "</div>"
      ],
      "text/plain": [
       "           Iganga     Jinja   Kampala    Masaka\n",
       "2024-01 -1.934496  0.563889  0.609422  0.164242\n",
       "2024-02 -1.553511 -1.079323 -0.195121  0.400479\n",
       "2024-03 -2.609323  0.104987 -0.952235  0.158339\n",
       "2024-04 -0.401588 -0.057901 -0.814815 -0.151343\n",
       "2024-05  0.272865  1.633177  2.651007  0.544803"
      ]
     },
     "execution_count": 185,
     "metadata": {},
     "output_type": "execute_result"
    }
   ],
   "source": [
    "frame = pd.DataFrame(\n",
    "    np.random.standard_normal((24, 4)),\n",
    "    index=pd.period_range(\n",
    "        \"1-2024\", \"12-2025\",\n",
    "        freq=\"M\"),\n",
    "    columns=[\"Iganga\", \"Jinja\", \"Kampala\", \"Masaka\"]\n",
    ")\n",
    "frame.head()"
   ]
  },
  {
   "cell_type": "code",
   "execution_count": 186,
   "id": "bb2d06bd-18a9-454c-b13d-9de4de0dc78b",
   "metadata": {},
   "outputs": [],
   "source": [
    "frame = frame.to_timestamp()"
   ]
  },
  {
   "cell_type": "code",
   "execution_count": 187,
   "id": "12d402a3-fb26-4015-9af5-23d698911b0c",
   "metadata": {},
   "outputs": [
    {
     "data": {
      "text/html": [
       "<div>\n",
       "<style scoped>\n",
       "    .dataframe tbody tr th:only-of-type {\n",
       "        vertical-align: middle;\n",
       "    }\n",
       "\n",
       "    .dataframe tbody tr th {\n",
       "        vertical-align: top;\n",
       "    }\n",
       "\n",
       "    .dataframe thead th {\n",
       "        text-align: right;\n",
       "    }\n",
       "</style>\n",
       "<table border=\"1\" class=\"dataframe\">\n",
       "  <thead>\n",
       "    <tr style=\"text-align: right;\">\n",
       "      <th></th>\n",
       "      <th>Iganga</th>\n",
       "      <th>Jinja</th>\n",
       "      <th>Kampala</th>\n",
       "      <th>Masaka</th>\n",
       "    </tr>\n",
       "  </thead>\n",
       "  <tbody>\n",
       "    <tr>\n",
       "      <th>2024-12-31</th>\n",
       "      <td>-0.516988</td>\n",
       "      <td>-0.163191</td>\n",
       "      <td>0.343947</td>\n",
       "      <td>0.096231</td>\n",
       "    </tr>\n",
       "    <tr>\n",
       "      <th>2025-12-31</th>\n",
       "      <td>0.125735</td>\n",
       "      <td>-0.484709</td>\n",
       "      <td>0.039691</td>\n",
       "      <td>0.239192</td>\n",
       "    </tr>\n",
       "  </tbody>\n",
       "</table>\n",
       "</div>"
      ],
      "text/plain": [
       "              Iganga     Jinja   Kampala    Masaka\n",
       "2024-12-31 -0.516988 -0.163191  0.343947  0.096231\n",
       "2025-12-31  0.125735 -0.484709  0.039691  0.239192"
      ]
     },
     "execution_count": 187,
     "metadata": {},
     "output_type": "execute_result"
    }
   ],
   "source": [
    "annual_frame = frame.resample(\"YE-DEC\").mean()\n",
    "annual_frame"
   ]
  },
  {
   "cell_type": "code",
   "execution_count": 188,
   "id": "5317ee27-4045-48c8-bb76-1b1a724e2e9f",
   "metadata": {},
   "outputs": [
    {
     "data": {
      "text/html": [
       "<div>\n",
       "<style scoped>\n",
       "    .dataframe tbody tr th:only-of-type {\n",
       "        vertical-align: middle;\n",
       "    }\n",
       "\n",
       "    .dataframe tbody tr th {\n",
       "        vertical-align: top;\n",
       "    }\n",
       "\n",
       "    .dataframe thead th {\n",
       "        text-align: right;\n",
       "    }\n",
       "</style>\n",
       "<table border=\"1\" class=\"dataframe\">\n",
       "  <thead>\n",
       "    <tr style=\"text-align: right;\">\n",
       "      <th></th>\n",
       "      <th>Iganga</th>\n",
       "      <th>Jinja</th>\n",
       "      <th>Kampala</th>\n",
       "      <th>Masaka</th>\n",
       "    </tr>\n",
       "  </thead>\n",
       "  <tbody>\n",
       "    <tr>\n",
       "      <th>2024-12-31</th>\n",
       "      <td>-0.516988</td>\n",
       "      <td>-0.163191</td>\n",
       "      <td>0.343947</td>\n",
       "      <td>0.096231</td>\n",
       "    </tr>\n",
       "    <tr>\n",
       "      <th>2025-03-31</th>\n",
       "      <td>-0.516988</td>\n",
       "      <td>-0.163191</td>\n",
       "      <td>0.343947</td>\n",
       "      <td>0.096231</td>\n",
       "    </tr>\n",
       "    <tr>\n",
       "      <th>2025-06-30</th>\n",
       "      <td>-0.516988</td>\n",
       "      <td>-0.163191</td>\n",
       "      <td>0.343947</td>\n",
       "      <td>0.096231</td>\n",
       "    </tr>\n",
       "    <tr>\n",
       "      <th>2025-09-30</th>\n",
       "      <td>-0.516988</td>\n",
       "      <td>-0.163191</td>\n",
       "      <td>0.343947</td>\n",
       "      <td>0.096231</td>\n",
       "    </tr>\n",
       "    <tr>\n",
       "      <th>2025-12-31</th>\n",
       "      <td>0.125735</td>\n",
       "      <td>-0.484709</td>\n",
       "      <td>0.039691</td>\n",
       "      <td>0.239192</td>\n",
       "    </tr>\n",
       "  </tbody>\n",
       "</table>\n",
       "</div>"
      ],
      "text/plain": [
       "              Iganga     Jinja   Kampala    Masaka\n",
       "2024-12-31 -0.516988 -0.163191  0.343947  0.096231\n",
       "2025-03-31 -0.516988 -0.163191  0.343947  0.096231\n",
       "2025-06-30 -0.516988 -0.163191  0.343947  0.096231\n",
       "2025-09-30 -0.516988 -0.163191  0.343947  0.096231\n",
       "2025-12-31  0.125735 -0.484709  0.039691  0.239192"
      ]
     },
     "execution_count": 188,
     "metadata": {},
     "output_type": "execute_result"
    }
   ],
   "source": [
    "# Q-DEC: quarterly, year ending in December\n",
    "annual_frame.resample(\"QE-DEC\").ffill()"
   ]
  },
  {
   "cell_type": "code",
   "execution_count": 189,
   "id": "32d47ec6-835c-42d5-8d55-0b8427cecba1",
   "metadata": {},
   "outputs": [
    {
     "data": {
      "text/html": [
       "<div>\n",
       "<style scoped>\n",
       "    .dataframe tbody tr th:only-of-type {\n",
       "        vertical-align: middle;\n",
       "    }\n",
       "\n",
       "    .dataframe tbody tr th {\n",
       "        vertical-align: top;\n",
       "    }\n",
       "\n",
       "    .dataframe thead th {\n",
       "        text-align: right;\n",
       "    }\n",
       "</style>\n",
       "<table border=\"1\" class=\"dataframe\">\n",
       "  <thead>\n",
       "    <tr style=\"text-align: right;\">\n",
       "      <th></th>\n",
       "      <th>Iganga</th>\n",
       "      <th>Jinja</th>\n",
       "      <th>Kampala</th>\n",
       "      <th>Masaka</th>\n",
       "    </tr>\n",
       "  </thead>\n",
       "  <tbody>\n",
       "    <tr>\n",
       "      <th>2024-12-31</th>\n",
       "      <td>-0.516988</td>\n",
       "      <td>-0.163191</td>\n",
       "      <td>0.343947</td>\n",
       "      <td>0.096231</td>\n",
       "    </tr>\n",
       "    <tr>\n",
       "      <th>2025-12-31</th>\n",
       "      <td>0.125735</td>\n",
       "      <td>-0.484709</td>\n",
       "      <td>0.039691</td>\n",
       "      <td>0.239192</td>\n",
       "    </tr>\n",
       "  </tbody>\n",
       "</table>\n",
       "</div>"
      ],
      "text/plain": [
       "              Iganga     Jinja   Kampala    Masaka\n",
       "2024-12-31 -0.516988 -0.163191  0.343947  0.096231\n",
       "2025-12-31  0.125735 -0.484709  0.039691  0.239192"
      ]
     },
     "execution_count": 189,
     "metadata": {},
     "output_type": "execute_result"
    }
   ],
   "source": [
    "# using convention\n",
    "annual_frame.resample(\n",
    "    \"YE-DEC\",\n",
    "    # convention=\"end\"\n",
    ").asfreq()    "
   ]
  },
  {
   "cell_type": "code",
   "execution_count": 190,
   "id": "c0258f8c-f789-46ae-b5fa-5cedb1175240",
   "metadata": {},
   "outputs": [
    {
     "data": {
      "text/html": [
       "<div>\n",
       "<style scoped>\n",
       "    .dataframe tbody tr th:only-of-type {\n",
       "        vertical-align: middle;\n",
       "    }\n",
       "\n",
       "    .dataframe tbody tr th {\n",
       "        vertical-align: top;\n",
       "    }\n",
       "\n",
       "    .dataframe thead th {\n",
       "        text-align: right;\n",
       "    }\n",
       "</style>\n",
       "<table border=\"1\" class=\"dataframe\">\n",
       "  <thead>\n",
       "    <tr style=\"text-align: right;\">\n",
       "      <th></th>\n",
       "      <th>Iganga</th>\n",
       "      <th>Jinja</th>\n",
       "      <th>Kampala</th>\n",
       "      <th>Masaka</th>\n",
       "    </tr>\n",
       "  </thead>\n",
       "  <tbody>\n",
       "    <tr>\n",
       "      <th>2024-12-31</th>\n",
       "      <td>-0.516988</td>\n",
       "      <td>-0.163191</td>\n",
       "      <td>0.343947</td>\n",
       "      <td>0.096231</td>\n",
       "    </tr>\n",
       "    <tr>\n",
       "      <th>2025-03-31</th>\n",
       "      <td>-0.516988</td>\n",
       "      <td>-0.163191</td>\n",
       "      <td>0.343947</td>\n",
       "      <td>0.096231</td>\n",
       "    </tr>\n",
       "    <tr>\n",
       "      <th>2025-06-30</th>\n",
       "      <td>-0.516988</td>\n",
       "      <td>-0.163191</td>\n",
       "      <td>0.343947</td>\n",
       "      <td>0.096231</td>\n",
       "    </tr>\n",
       "    <tr>\n",
       "      <th>2025-09-30</th>\n",
       "      <td>-0.516988</td>\n",
       "      <td>-0.163191</td>\n",
       "      <td>0.343947</td>\n",
       "      <td>0.096231</td>\n",
       "    </tr>\n",
       "    <tr>\n",
       "      <th>2025-12-31</th>\n",
       "      <td>0.125735</td>\n",
       "      <td>-0.484709</td>\n",
       "      <td>0.039691</td>\n",
       "      <td>0.239192</td>\n",
       "    </tr>\n",
       "  </tbody>\n",
       "</table>\n",
       "</div>"
      ],
      "text/plain": [
       "              Iganga     Jinja   Kampala    Masaka\n",
       "2024-12-31 -0.516988 -0.163191  0.343947  0.096231\n",
       "2025-03-31 -0.516988 -0.163191  0.343947  0.096231\n",
       "2025-06-30 -0.516988 -0.163191  0.343947  0.096231\n",
       "2025-09-30 -0.516988 -0.163191  0.343947  0.096231\n",
       "2025-12-31  0.125735 -0.484709  0.039691  0.239192"
      ]
     },
     "execution_count": 190,
     "metadata": {},
     "output_type": "execute_result"
    }
   ],
   "source": [
    "# Downsampling and upsampling\n",
    "annual_frame.resample(\"QE-MAR\").ffill()"
   ]
  },
  {
   "cell_type": "code",
   "execution_count": 191,
   "id": "ab66a78a-3d28-4e56-a565-0f0f43404076",
   "metadata": {},
   "outputs": [
    {
     "data": {
      "text/html": [
       "<div>\n",
       "<style scoped>\n",
       "    .dataframe tbody tr th:only-of-type {\n",
       "        vertical-align: middle;\n",
       "    }\n",
       "\n",
       "    .dataframe tbody tr th {\n",
       "        vertical-align: top;\n",
       "    }\n",
       "\n",
       "    .dataframe thead th {\n",
       "        text-align: right;\n",
       "    }\n",
       "</style>\n",
       "<table border=\"1\" class=\"dataframe\">\n",
       "  <thead>\n",
       "    <tr style=\"text-align: right;\">\n",
       "      <th></th>\n",
       "      <th>Iganga</th>\n",
       "      <th>Jinja</th>\n",
       "      <th>Kampala</th>\n",
       "      <th>Masaka</th>\n",
       "    </tr>\n",
       "  </thead>\n",
       "  <tbody>\n",
       "    <tr>\n",
       "      <th>2024-12-31</th>\n",
       "      <td>-0.516988</td>\n",
       "      <td>-0.163191</td>\n",
       "      <td>0.343947</td>\n",
       "      <td>0.096231</td>\n",
       "    </tr>\n",
       "    <tr>\n",
       "      <th>2025-12-31</th>\n",
       "      <td>0.125735</td>\n",
       "      <td>-0.484709</td>\n",
       "      <td>0.039691</td>\n",
       "      <td>0.239192</td>\n",
       "    </tr>\n",
       "  </tbody>\n",
       "</table>\n",
       "</div>"
      ],
      "text/plain": [
       "              Iganga     Jinja   Kampala    Masaka\n",
       "2024-12-31 -0.516988 -0.163191  0.343947  0.096231\n",
       "2025-12-31  0.125735 -0.484709  0.039691  0.239192"
      ]
     },
     "execution_count": 191,
     "metadata": {},
     "output_type": "execute_result"
    }
   ],
   "source": [
    "annual_frame"
   ]
  },
  {
   "cell_type": "markdown",
   "id": "e8053aae-88bc-4094-8b0c-cde3a15f47f1",
   "metadata": {},
   "source": [
    "<h4>Grouped Time Sampling</h4>"
   ]
  },
  {
   "cell_type": "code",
   "execution_count": 192,
   "id": "945c9670-987f-4fcc-9a0b-6488de085e22",
   "metadata": {},
   "outputs": [
    {
     "data": {
      "text/html": [
       "<div>\n",
       "<style scoped>\n",
       "    .dataframe tbody tr th:only-of-type {\n",
       "        vertical-align: middle;\n",
       "    }\n",
       "\n",
       "    .dataframe tbody tr th {\n",
       "        vertical-align: top;\n",
       "    }\n",
       "\n",
       "    .dataframe thead th {\n",
       "        text-align: right;\n",
       "    }\n",
       "</style>\n",
       "<table border=\"1\" class=\"dataframe\">\n",
       "  <thead>\n",
       "    <tr style=\"text-align: right;\">\n",
       "      <th></th>\n",
       "      <th>time</th>\n",
       "      <th>values</th>\n",
       "    </tr>\n",
       "  </thead>\n",
       "  <tbody>\n",
       "    <tr>\n",
       "      <th>0</th>\n",
       "      <td>2024-06-05 00:00:00</td>\n",
       "      <td>0</td>\n",
       "    </tr>\n",
       "    <tr>\n",
       "      <th>1</th>\n",
       "      <td>2024-06-05 00:01:00</td>\n",
       "      <td>1</td>\n",
       "    </tr>\n",
       "    <tr>\n",
       "      <th>2</th>\n",
       "      <td>2024-06-05 00:02:00</td>\n",
       "      <td>2</td>\n",
       "    </tr>\n",
       "    <tr>\n",
       "      <th>3</th>\n",
       "      <td>2024-06-05 00:03:00</td>\n",
       "      <td>3</td>\n",
       "    </tr>\n",
       "    <tr>\n",
       "      <th>4</th>\n",
       "      <td>2024-06-05 00:04:00</td>\n",
       "      <td>4</td>\n",
       "    </tr>\n",
       "    <tr>\n",
       "      <th>5</th>\n",
       "      <td>2024-06-05 00:05:00</td>\n",
       "      <td>5</td>\n",
       "    </tr>\n",
       "    <tr>\n",
       "      <th>6</th>\n",
       "      <td>2024-06-05 00:06:00</td>\n",
       "      <td>6</td>\n",
       "    </tr>\n",
       "    <tr>\n",
       "      <th>7</th>\n",
       "      <td>2024-06-05 00:07:00</td>\n",
       "      <td>7</td>\n",
       "    </tr>\n",
       "    <tr>\n",
       "      <th>8</th>\n",
       "      <td>2024-06-05 00:08:00</td>\n",
       "      <td>8</td>\n",
       "    </tr>\n",
       "    <tr>\n",
       "      <th>9</th>\n",
       "      <td>2024-06-05 00:09:00</td>\n",
       "      <td>9</td>\n",
       "    </tr>\n",
       "    <tr>\n",
       "      <th>10</th>\n",
       "      <td>2024-06-05 00:10:00</td>\n",
       "      <td>10</td>\n",
       "    </tr>\n",
       "    <tr>\n",
       "      <th>11</th>\n",
       "      <td>2024-06-05 00:11:00</td>\n",
       "      <td>11</td>\n",
       "    </tr>\n",
       "    <tr>\n",
       "      <th>12</th>\n",
       "      <td>2024-06-05 00:12:00</td>\n",
       "      <td>12</td>\n",
       "    </tr>\n",
       "    <tr>\n",
       "      <th>13</th>\n",
       "      <td>2024-06-05 00:13:00</td>\n",
       "      <td>13</td>\n",
       "    </tr>\n",
       "    <tr>\n",
       "      <th>14</th>\n",
       "      <td>2024-06-05 00:14:00</td>\n",
       "      <td>14</td>\n",
       "    </tr>\n",
       "  </tbody>\n",
       "</table>\n",
       "</div>"
      ],
      "text/plain": [
       "                  time  values\n",
       "0  2024-06-05 00:00:00       0\n",
       "1  2024-06-05 00:01:00       1\n",
       "2  2024-06-05 00:02:00       2\n",
       "3  2024-06-05 00:03:00       3\n",
       "4  2024-06-05 00:04:00       4\n",
       "5  2024-06-05 00:05:00       5\n",
       "6  2024-06-05 00:06:00       6\n",
       "7  2024-06-05 00:07:00       7\n",
       "8  2024-06-05 00:08:00       8\n",
       "9  2024-06-05 00:09:00       9\n",
       "10 2024-06-05 00:10:00      10\n",
       "11 2024-06-05 00:11:00      11\n",
       "12 2024-06-05 00:12:00      12\n",
       "13 2024-06-05 00:13:00      13\n",
       "14 2024-06-05 00:14:00      14"
      ]
     },
     "execution_count": 192,
     "metadata": {},
     "output_type": "execute_result"
    }
   ],
   "source": [
    "N = 15\n",
    "times = pd.date_range(\n",
    "    \"2024-06-05 00:00\",\n",
    "    freq=\"1min\",\n",
    "    periods=N)\n",
    "df = pd.DataFrame(\n",
    "    {\"time\": times,\n",
    "     \"values\": np.arange(N)\n",
    "    }\n",
    ")\n",
    "df"
   ]
  },
  {
   "cell_type": "code",
   "execution_count": 193,
   "id": "fb1bab43-8e2f-4f07-9f64-70dfb5f45bb7",
   "metadata": {},
   "outputs": [
    {
     "data": {
      "text/html": [
       "<div>\n",
       "<style scoped>\n",
       "    .dataframe tbody tr th:only-of-type {\n",
       "        vertical-align: middle;\n",
       "    }\n",
       "\n",
       "    .dataframe tbody tr th {\n",
       "        vertical-align: top;\n",
       "    }\n",
       "\n",
       "    .dataframe thead th {\n",
       "        text-align: right;\n",
       "    }\n",
       "</style>\n",
       "<table border=\"1\" class=\"dataframe\">\n",
       "  <thead>\n",
       "    <tr style=\"text-align: right;\">\n",
       "      <th></th>\n",
       "      <th>values</th>\n",
       "    </tr>\n",
       "    <tr>\n",
       "      <th>time</th>\n",
       "      <th></th>\n",
       "    </tr>\n",
       "  </thead>\n",
       "  <tbody>\n",
       "    <tr>\n",
       "      <th>2024-06-05 00:00:00</th>\n",
       "      <td>5</td>\n",
       "    </tr>\n",
       "    <tr>\n",
       "      <th>2024-06-05 00:05:00</th>\n",
       "      <td>5</td>\n",
       "    </tr>\n",
       "    <tr>\n",
       "      <th>2024-06-05 00:10:00</th>\n",
       "      <td>5</td>\n",
       "    </tr>\n",
       "  </tbody>\n",
       "</table>\n",
       "</div>"
      ],
      "text/plain": [
       "                     values\n",
       "time                       \n",
       "2024-06-05 00:00:00       5\n",
       "2024-06-05 00:05:00       5\n",
       "2024-06-05 00:10:00       5"
      ]
     },
     "execution_count": 193,
     "metadata": {},
     "output_type": "execute_result"
    }
   ],
   "source": [
    "# resampling\n",
    "df.set_index(\"time\").resample(\"5min\").count()"
   ]
  },
  {
   "cell_type": "code",
   "execution_count": 197,
   "id": "69fcbe63-d3c5-4e45-95a3-e2675cb8f94b",
   "metadata": {},
   "outputs": [
    {
     "data": {
      "text/html": [
       "<div>\n",
       "<style scoped>\n",
       "    .dataframe tbody tr th:only-of-type {\n",
       "        vertical-align: middle;\n",
       "    }\n",
       "\n",
       "    .dataframe tbody tr th {\n",
       "        vertical-align: top;\n",
       "    }\n",
       "\n",
       "    .dataframe thead th {\n",
       "        text-align: right;\n",
       "    }\n",
       "</style>\n",
       "<table border=\"1\" class=\"dataframe\">\n",
       "  <thead>\n",
       "    <tr style=\"text-align: right;\">\n",
       "      <th></th>\n",
       "      <th>time</th>\n",
       "      <th>key</th>\n",
       "      <th>value</th>\n",
       "    </tr>\n",
       "  </thead>\n",
       "  <tbody>\n",
       "    <tr>\n",
       "      <th>0</th>\n",
       "      <td>2024-06-05 00:00:00</td>\n",
       "      <td>a</td>\n",
       "      <td>0.0</td>\n",
       "    </tr>\n",
       "    <tr>\n",
       "      <th>1</th>\n",
       "      <td>2024-06-05 00:00:00</td>\n",
       "      <td>b</td>\n",
       "      <td>1.0</td>\n",
       "    </tr>\n",
       "    <tr>\n",
       "      <th>2</th>\n",
       "      <td>2024-06-05 00:00:00</td>\n",
       "      <td>c</td>\n",
       "      <td>2.0</td>\n",
       "    </tr>\n",
       "    <tr>\n",
       "      <th>3</th>\n",
       "      <td>2024-06-05 00:01:00</td>\n",
       "      <td>a</td>\n",
       "      <td>3.0</td>\n",
       "    </tr>\n",
       "    <tr>\n",
       "      <th>4</th>\n",
       "      <td>2024-06-05 00:01:00</td>\n",
       "      <td>b</td>\n",
       "      <td>4.0</td>\n",
       "    </tr>\n",
       "    <tr>\n",
       "      <th>5</th>\n",
       "      <td>2024-06-05 00:01:00</td>\n",
       "      <td>c</td>\n",
       "      <td>5.0</td>\n",
       "    </tr>\n",
       "    <tr>\n",
       "      <th>6</th>\n",
       "      <td>2024-06-05 00:02:00</td>\n",
       "      <td>a</td>\n",
       "      <td>6.0</td>\n",
       "    </tr>\n",
       "    <tr>\n",
       "      <th>7</th>\n",
       "      <td>2024-06-05 00:02:00</td>\n",
       "      <td>b</td>\n",
       "      <td>7.0</td>\n",
       "    </tr>\n",
       "    <tr>\n",
       "      <th>8</th>\n",
       "      <td>2024-06-05 00:02:00</td>\n",
       "      <td>c</td>\n",
       "      <td>8.0</td>\n",
       "    </tr>\n",
       "    <tr>\n",
       "      <th>9</th>\n",
       "      <td>2024-06-05 00:03:00</td>\n",
       "      <td>a</td>\n",
       "      <td>9.0</td>\n",
       "    </tr>\n",
       "    <tr>\n",
       "      <th>10</th>\n",
       "      <td>2024-06-05 00:03:00</td>\n",
       "      <td>b</td>\n",
       "      <td>10.0</td>\n",
       "    </tr>\n",
       "    <tr>\n",
       "      <th>11</th>\n",
       "      <td>2024-06-05 00:03:00</td>\n",
       "      <td>c</td>\n",
       "      <td>11.0</td>\n",
       "    </tr>\n",
       "    <tr>\n",
       "      <th>12</th>\n",
       "      <td>2024-06-05 00:04:00</td>\n",
       "      <td>a</td>\n",
       "      <td>12.0</td>\n",
       "    </tr>\n",
       "    <tr>\n",
       "      <th>13</th>\n",
       "      <td>2024-06-05 00:04:00</td>\n",
       "      <td>b</td>\n",
       "      <td>13.0</td>\n",
       "    </tr>\n",
       "    <tr>\n",
       "      <th>14</th>\n",
       "      <td>2024-06-05 00:04:00</td>\n",
       "      <td>c</td>\n",
       "      <td>14.0</td>\n",
       "    </tr>\n",
       "    <tr>\n",
       "      <th>15</th>\n",
       "      <td>2024-06-05 00:05:00</td>\n",
       "      <td>a</td>\n",
       "      <td>15.0</td>\n",
       "    </tr>\n",
       "    <tr>\n",
       "      <th>16</th>\n",
       "      <td>2024-06-05 00:05:00</td>\n",
       "      <td>b</td>\n",
       "      <td>16.0</td>\n",
       "    </tr>\n",
       "    <tr>\n",
       "      <th>17</th>\n",
       "      <td>2024-06-05 00:05:00</td>\n",
       "      <td>c</td>\n",
       "      <td>17.0</td>\n",
       "    </tr>\n",
       "    <tr>\n",
       "      <th>18</th>\n",
       "      <td>2024-06-05 00:06:00</td>\n",
       "      <td>a</td>\n",
       "      <td>18.0</td>\n",
       "    </tr>\n",
       "    <tr>\n",
       "      <th>19</th>\n",
       "      <td>2024-06-05 00:06:00</td>\n",
       "      <td>b</td>\n",
       "      <td>19.0</td>\n",
       "    </tr>\n",
       "    <tr>\n",
       "      <th>20</th>\n",
       "      <td>2024-06-05 00:06:00</td>\n",
       "      <td>c</td>\n",
       "      <td>20.0</td>\n",
       "    </tr>\n",
       "    <tr>\n",
       "      <th>21</th>\n",
       "      <td>2024-06-05 00:07:00</td>\n",
       "      <td>a</td>\n",
       "      <td>21.0</td>\n",
       "    </tr>\n",
       "    <tr>\n",
       "      <th>22</th>\n",
       "      <td>2024-06-05 00:07:00</td>\n",
       "      <td>b</td>\n",
       "      <td>22.0</td>\n",
       "    </tr>\n",
       "    <tr>\n",
       "      <th>23</th>\n",
       "      <td>2024-06-05 00:07:00</td>\n",
       "      <td>c</td>\n",
       "      <td>23.0</td>\n",
       "    </tr>\n",
       "    <tr>\n",
       "      <th>24</th>\n",
       "      <td>2024-06-05 00:08:00</td>\n",
       "      <td>a</td>\n",
       "      <td>24.0</td>\n",
       "    </tr>\n",
       "    <tr>\n",
       "      <th>25</th>\n",
       "      <td>2024-06-05 00:08:00</td>\n",
       "      <td>b</td>\n",
       "      <td>25.0</td>\n",
       "    </tr>\n",
       "    <tr>\n",
       "      <th>26</th>\n",
       "      <td>2024-06-05 00:08:00</td>\n",
       "      <td>c</td>\n",
       "      <td>26.0</td>\n",
       "    </tr>\n",
       "    <tr>\n",
       "      <th>27</th>\n",
       "      <td>2024-06-05 00:09:00</td>\n",
       "      <td>a</td>\n",
       "      <td>27.0</td>\n",
       "    </tr>\n",
       "    <tr>\n",
       "      <th>28</th>\n",
       "      <td>2024-06-05 00:09:00</td>\n",
       "      <td>b</td>\n",
       "      <td>28.0</td>\n",
       "    </tr>\n",
       "    <tr>\n",
       "      <th>29</th>\n",
       "      <td>2024-06-05 00:09:00</td>\n",
       "      <td>c</td>\n",
       "      <td>29.0</td>\n",
       "    </tr>\n",
       "    <tr>\n",
       "      <th>30</th>\n",
       "      <td>2024-06-05 00:10:00</td>\n",
       "      <td>a</td>\n",
       "      <td>30.0</td>\n",
       "    </tr>\n",
       "    <tr>\n",
       "      <th>31</th>\n",
       "      <td>2024-06-05 00:10:00</td>\n",
       "      <td>b</td>\n",
       "      <td>31.0</td>\n",
       "    </tr>\n",
       "    <tr>\n",
       "      <th>32</th>\n",
       "      <td>2024-06-05 00:10:00</td>\n",
       "      <td>c</td>\n",
       "      <td>32.0</td>\n",
       "    </tr>\n",
       "    <tr>\n",
       "      <th>33</th>\n",
       "      <td>2024-06-05 00:11:00</td>\n",
       "      <td>a</td>\n",
       "      <td>33.0</td>\n",
       "    </tr>\n",
       "    <tr>\n",
       "      <th>34</th>\n",
       "      <td>2024-06-05 00:11:00</td>\n",
       "      <td>b</td>\n",
       "      <td>34.0</td>\n",
       "    </tr>\n",
       "    <tr>\n",
       "      <th>35</th>\n",
       "      <td>2024-06-05 00:11:00</td>\n",
       "      <td>c</td>\n",
       "      <td>35.0</td>\n",
       "    </tr>\n",
       "    <tr>\n",
       "      <th>36</th>\n",
       "      <td>2024-06-05 00:12:00</td>\n",
       "      <td>a</td>\n",
       "      <td>36.0</td>\n",
       "    </tr>\n",
       "    <tr>\n",
       "      <th>37</th>\n",
       "      <td>2024-06-05 00:12:00</td>\n",
       "      <td>b</td>\n",
       "      <td>37.0</td>\n",
       "    </tr>\n",
       "    <tr>\n",
       "      <th>38</th>\n",
       "      <td>2024-06-05 00:12:00</td>\n",
       "      <td>c</td>\n",
       "      <td>38.0</td>\n",
       "    </tr>\n",
       "    <tr>\n",
       "      <th>39</th>\n",
       "      <td>2024-06-05 00:13:00</td>\n",
       "      <td>a</td>\n",
       "      <td>39.0</td>\n",
       "    </tr>\n",
       "    <tr>\n",
       "      <th>40</th>\n",
       "      <td>2024-06-05 00:13:00</td>\n",
       "      <td>b</td>\n",
       "      <td>40.0</td>\n",
       "    </tr>\n",
       "    <tr>\n",
       "      <th>41</th>\n",
       "      <td>2024-06-05 00:13:00</td>\n",
       "      <td>c</td>\n",
       "      <td>41.0</td>\n",
       "    </tr>\n",
       "    <tr>\n",
       "      <th>42</th>\n",
       "      <td>2024-06-05 00:14:00</td>\n",
       "      <td>a</td>\n",
       "      <td>42.0</td>\n",
       "    </tr>\n",
       "    <tr>\n",
       "      <th>43</th>\n",
       "      <td>2024-06-05 00:14:00</td>\n",
       "      <td>b</td>\n",
       "      <td>43.0</td>\n",
       "    </tr>\n",
       "    <tr>\n",
       "      <th>44</th>\n",
       "      <td>2024-06-05 00:14:00</td>\n",
       "      <td>c</td>\n",
       "      <td>44.0</td>\n",
       "    </tr>\n",
       "  </tbody>\n",
       "</table>\n",
       "</div>"
      ],
      "text/plain": [
       "                  time key  value\n",
       "0  2024-06-05 00:00:00   a    0.0\n",
       "1  2024-06-05 00:00:00   b    1.0\n",
       "2  2024-06-05 00:00:00   c    2.0\n",
       "3  2024-06-05 00:01:00   a    3.0\n",
       "4  2024-06-05 00:01:00   b    4.0\n",
       "5  2024-06-05 00:01:00   c    5.0\n",
       "6  2024-06-05 00:02:00   a    6.0\n",
       "7  2024-06-05 00:02:00   b    7.0\n",
       "8  2024-06-05 00:02:00   c    8.0\n",
       "9  2024-06-05 00:03:00   a    9.0\n",
       "10 2024-06-05 00:03:00   b   10.0\n",
       "11 2024-06-05 00:03:00   c   11.0\n",
       "12 2024-06-05 00:04:00   a   12.0\n",
       "13 2024-06-05 00:04:00   b   13.0\n",
       "14 2024-06-05 00:04:00   c   14.0\n",
       "15 2024-06-05 00:05:00   a   15.0\n",
       "16 2024-06-05 00:05:00   b   16.0\n",
       "17 2024-06-05 00:05:00   c   17.0\n",
       "18 2024-06-05 00:06:00   a   18.0\n",
       "19 2024-06-05 00:06:00   b   19.0\n",
       "20 2024-06-05 00:06:00   c   20.0\n",
       "21 2024-06-05 00:07:00   a   21.0\n",
       "22 2024-06-05 00:07:00   b   22.0\n",
       "23 2024-06-05 00:07:00   c   23.0\n",
       "24 2024-06-05 00:08:00   a   24.0\n",
       "25 2024-06-05 00:08:00   b   25.0\n",
       "26 2024-06-05 00:08:00   c   26.0\n",
       "27 2024-06-05 00:09:00   a   27.0\n",
       "28 2024-06-05 00:09:00   b   28.0\n",
       "29 2024-06-05 00:09:00   c   29.0\n",
       "30 2024-06-05 00:10:00   a   30.0\n",
       "31 2024-06-05 00:10:00   b   31.0\n",
       "32 2024-06-05 00:10:00   c   32.0\n",
       "33 2024-06-05 00:11:00   a   33.0\n",
       "34 2024-06-05 00:11:00   b   34.0\n",
       "35 2024-06-05 00:11:00   c   35.0\n",
       "36 2024-06-05 00:12:00   a   36.0\n",
       "37 2024-06-05 00:12:00   b   37.0\n",
       "38 2024-06-05 00:12:00   c   38.0\n",
       "39 2024-06-05 00:13:00   a   39.0\n",
       "40 2024-06-05 00:13:00   b   40.0\n",
       "41 2024-06-05 00:13:00   c   41.0\n",
       "42 2024-06-05 00:14:00   a   42.0\n",
       "43 2024-06-05 00:14:00   b   43.0\n",
       "44 2024-06-05 00:14:00   c   44.0"
      ]
     },
     "execution_count": 197,
     "metadata": {},
     "output_type": "execute_result"
    }
   ],
   "source": [
    "# using Grouper\n",
    "df2 = pd.DataFrame({\n",
    "    \"time\": times.repeat(3),\n",
    "    \"key\": np.tile(['a', 'b', 'c'], N),\n",
    "    \"value\": np.arange(N*3.)\n",
    "})\n",
    "df2"
   ]
  },
  {
   "cell_type": "code",
   "execution_count": 196,
   "id": "9b6c3f3e-ce91-41f7-90b7-41da0ba3fe8f",
   "metadata": {},
   "outputs": [
    {
     "data": {
      "text/html": [
       "<div>\n",
       "<style scoped>\n",
       "    .dataframe tbody tr th:only-of-type {\n",
       "        vertical-align: middle;\n",
       "    }\n",
       "\n",
       "    .dataframe tbody tr th {\n",
       "        vertical-align: top;\n",
       "    }\n",
       "\n",
       "    .dataframe thead th {\n",
       "        text-align: right;\n",
       "    }\n",
       "</style>\n",
       "<table border=\"1\" class=\"dataframe\">\n",
       "  <thead>\n",
       "    <tr style=\"text-align: right;\">\n",
       "      <th></th>\n",
       "      <th></th>\n",
       "      <th>value</th>\n",
       "    </tr>\n",
       "    <tr>\n",
       "      <th>key</th>\n",
       "      <th>time</th>\n",
       "      <th></th>\n",
       "    </tr>\n",
       "  </thead>\n",
       "  <tbody>\n",
       "    <tr>\n",
       "      <th rowspan=\"3\" valign=\"top\">a</th>\n",
       "      <th>2024-06-05 00:00:00</th>\n",
       "      <td>30.0</td>\n",
       "    </tr>\n",
       "    <tr>\n",
       "      <th>2024-06-05 00:05:00</th>\n",
       "      <td>105.0</td>\n",
       "    </tr>\n",
       "    <tr>\n",
       "      <th>2024-06-05 00:10:00</th>\n",
       "      <td>180.0</td>\n",
       "    </tr>\n",
       "    <tr>\n",
       "      <th rowspan=\"3\" valign=\"top\">b</th>\n",
       "      <th>2024-06-05 00:00:00</th>\n",
       "      <td>35.0</td>\n",
       "    </tr>\n",
       "    <tr>\n",
       "      <th>2024-06-05 00:05:00</th>\n",
       "      <td>110.0</td>\n",
       "    </tr>\n",
       "    <tr>\n",
       "      <th>2024-06-05 00:10:00</th>\n",
       "      <td>185.0</td>\n",
       "    </tr>\n",
       "    <tr>\n",
       "      <th rowspan=\"3\" valign=\"top\">c</th>\n",
       "      <th>2024-06-05 00:00:00</th>\n",
       "      <td>40.0</td>\n",
       "    </tr>\n",
       "    <tr>\n",
       "      <th>2024-06-05 00:05:00</th>\n",
       "      <td>115.0</td>\n",
       "    </tr>\n",
       "    <tr>\n",
       "      <th>2024-06-05 00:10:00</th>\n",
       "      <td>190.0</td>\n",
       "    </tr>\n",
       "  </tbody>\n",
       "</table>\n",
       "</div>"
      ],
      "text/plain": [
       "                         value\n",
       "key time                      \n",
       "a   2024-06-05 00:00:00   30.0\n",
       "    2024-06-05 00:05:00  105.0\n",
       "    2024-06-05 00:10:00  180.0\n",
       "b   2024-06-05 00:00:00   35.0\n",
       "    2024-06-05 00:05:00  110.0\n",
       "    2024-06-05 00:10:00  185.0\n",
       "c   2024-06-05 00:00:00   40.0\n",
       "    2024-06-05 00:05:00  115.0\n",
       "    2024-06-05 00:10:00  190.0"
      ]
     },
     "execution_count": 196,
     "metadata": {},
     "output_type": "execute_result"
    }
   ],
   "source": [
    "time_key = pd.Grouper(\n",
    "    freq=\"5min\")\n",
    "resampled = (df2.set_index(\"time\")\n",
    "             .groupby([\"key\", time_key])\n",
    "             .sum())\n",
    "resampled"
   ]
  },
  {
   "cell_type": "code",
   "execution_count": 198,
   "id": "45428fce-d969-4742-9196-45756062edf0",
   "metadata": {},
   "outputs": [
    {
     "data": {
      "text/html": [
       "<div>\n",
       "<style scoped>\n",
       "    .dataframe tbody tr th:only-of-type {\n",
       "        vertical-align: middle;\n",
       "    }\n",
       "\n",
       "    .dataframe tbody tr th {\n",
       "        vertical-align: top;\n",
       "    }\n",
       "\n",
       "    .dataframe thead th {\n",
       "        text-align: right;\n",
       "    }\n",
       "</style>\n",
       "<table border=\"1\" class=\"dataframe\">\n",
       "  <thead>\n",
       "    <tr style=\"text-align: right;\">\n",
       "      <th></th>\n",
       "      <th>key</th>\n",
       "      <th>time</th>\n",
       "      <th>value</th>\n",
       "    </tr>\n",
       "  </thead>\n",
       "  <tbody>\n",
       "    <tr>\n",
       "      <th>0</th>\n",
       "      <td>a</td>\n",
       "      <td>2024-06-05 00:00:00</td>\n",
       "      <td>30.0</td>\n",
       "    </tr>\n",
       "    <tr>\n",
       "      <th>1</th>\n",
       "      <td>a</td>\n",
       "      <td>2024-06-05 00:05:00</td>\n",
       "      <td>105.0</td>\n",
       "    </tr>\n",
       "    <tr>\n",
       "      <th>2</th>\n",
       "      <td>a</td>\n",
       "      <td>2024-06-05 00:10:00</td>\n",
       "      <td>180.0</td>\n",
       "    </tr>\n",
       "    <tr>\n",
       "      <th>3</th>\n",
       "      <td>b</td>\n",
       "      <td>2024-06-05 00:00:00</td>\n",
       "      <td>35.0</td>\n",
       "    </tr>\n",
       "    <tr>\n",
       "      <th>4</th>\n",
       "      <td>b</td>\n",
       "      <td>2024-06-05 00:05:00</td>\n",
       "      <td>110.0</td>\n",
       "    </tr>\n",
       "    <tr>\n",
       "      <th>5</th>\n",
       "      <td>b</td>\n",
       "      <td>2024-06-05 00:10:00</td>\n",
       "      <td>185.0</td>\n",
       "    </tr>\n",
       "    <tr>\n",
       "      <th>6</th>\n",
       "      <td>c</td>\n",
       "      <td>2024-06-05 00:00:00</td>\n",
       "      <td>40.0</td>\n",
       "    </tr>\n",
       "    <tr>\n",
       "      <th>7</th>\n",
       "      <td>c</td>\n",
       "      <td>2024-06-05 00:05:00</td>\n",
       "      <td>115.0</td>\n",
       "    </tr>\n",
       "    <tr>\n",
       "      <th>8</th>\n",
       "      <td>c</td>\n",
       "      <td>2024-06-05 00:10:00</td>\n",
       "      <td>190.0</td>\n",
       "    </tr>\n",
       "  </tbody>\n",
       "</table>\n",
       "</div>"
      ],
      "text/plain": [
       "  key                time  value\n",
       "0   a 2024-06-05 00:00:00   30.0\n",
       "1   a 2024-06-05 00:05:00  105.0\n",
       "2   a 2024-06-05 00:10:00  180.0\n",
       "3   b 2024-06-05 00:00:00   35.0\n",
       "4   b 2024-06-05 00:05:00  110.0\n",
       "5   b 2024-06-05 00:10:00  185.0\n",
       "6   c 2024-06-05 00:00:00   40.0\n",
       "7   c 2024-06-05 00:05:00  115.0\n",
       "8   c 2024-06-05 00:10:00  190.0"
      ]
     },
     "execution_count": 198,
     "metadata": {},
     "output_type": "execute_result"
    }
   ],
   "source": [
    "# Reset index\n",
    "resampled.reset_index()"
   ]
  },
  {
   "cell_type": "code",
   "execution_count": 203,
   "id": "431cb3e6-fc45-49c0-83bd-9ac8fbadb70c",
   "metadata": {},
   "outputs": [
    {
     "data": {
      "text/html": [
       "<div>\n",
       "<style scoped>\n",
       "    .dataframe tbody tr th:only-of-type {\n",
       "        vertical-align: middle;\n",
       "    }\n",
       "\n",
       "    .dataframe tbody tr th {\n",
       "        vertical-align: top;\n",
       "    }\n",
       "\n",
       "    .dataframe thead th {\n",
       "        text-align: right;\n",
       "    }\n",
       "</style>\n",
       "<table border=\"1\" class=\"dataframe\">\n",
       "  <thead>\n",
       "    <tr style=\"text-align: right;\">\n",
       "      <th></th>\n",
       "      <th>AAPL</th>\n",
       "      <th>MSFT</th>\n",
       "      <th>XOM</th>\n",
       "      <th>SPX</th>\n",
       "    </tr>\n",
       "  </thead>\n",
       "  <tbody>\n",
       "    <tr>\n",
       "      <th>2003-01-02</th>\n",
       "      <td>7.40</td>\n",
       "      <td>21.11</td>\n",
       "      <td>29.22</td>\n",
       "      <td>909.03</td>\n",
       "    </tr>\n",
       "    <tr>\n",
       "      <th>2003-01-03</th>\n",
       "      <td>7.45</td>\n",
       "      <td>21.14</td>\n",
       "      <td>29.24</td>\n",
       "      <td>908.59</td>\n",
       "    </tr>\n",
       "    <tr>\n",
       "      <th>2003-01-06</th>\n",
       "      <td>7.45</td>\n",
       "      <td>21.52</td>\n",
       "      <td>29.96</td>\n",
       "      <td>929.01</td>\n",
       "    </tr>\n",
       "    <tr>\n",
       "      <th>2003-01-07</th>\n",
       "      <td>7.43</td>\n",
       "      <td>21.93</td>\n",
       "      <td>28.95</td>\n",
       "      <td>922.93</td>\n",
       "    </tr>\n",
       "    <tr>\n",
       "      <th>2003-01-08</th>\n",
       "      <td>7.28</td>\n",
       "      <td>21.31</td>\n",
       "      <td>28.83</td>\n",
       "      <td>909.93</td>\n",
       "    </tr>\n",
       "  </tbody>\n",
       "</table>\n",
       "</div>"
      ],
      "text/plain": [
       "            AAPL   MSFT    XOM     SPX\n",
       "2003-01-02  7.40  21.11  29.22  909.03\n",
       "2003-01-03  7.45  21.14  29.24  908.59\n",
       "2003-01-06  7.45  21.52  29.96  929.01\n",
       "2003-01-07  7.43  21.93  28.95  922.93\n",
       "2003-01-08  7.28  21.31  28.83  909.93"
      ]
     },
     "execution_count": 203,
     "metadata": {},
     "output_type": "execute_result"
    }
   ],
   "source": [
    "close_px_all = pd.read_csv(\"../Data/stock_px.csv\",\n",
    "                       parse_dates=True,\n",
    "                       index_col=0\n",
    "                      )\n",
    "close_px_all.head()"
   ]
  },
  {
   "cell_type": "code",
   "execution_count": 202,
   "id": "a5542029-037e-435a-83cb-a0b087d245cf",
   "metadata": {},
   "outputs": [
    {
     "data": {
      "text/html": [
       "<div>\n",
       "<style scoped>\n",
       "    .dataframe tbody tr th:only-of-type {\n",
       "        vertical-align: middle;\n",
       "    }\n",
       "\n",
       "    .dataframe tbody tr th {\n",
       "        vertical-align: top;\n",
       "    }\n",
       "\n",
       "    .dataframe thead th {\n",
       "        text-align: right;\n",
       "    }\n",
       "</style>\n",
       "<table border=\"1\" class=\"dataframe\">\n",
       "  <thead>\n",
       "    <tr style=\"text-align: right;\">\n",
       "      <th></th>\n",
       "      <th>AAPL</th>\n",
       "      <th>MSFT</th>\n",
       "      <th>XOM</th>\n",
       "    </tr>\n",
       "  </thead>\n",
       "  <tbody>\n",
       "    <tr>\n",
       "      <th>2003-01-02</th>\n",
       "      <td>7.40</td>\n",
       "      <td>21.11</td>\n",
       "      <td>29.22</td>\n",
       "    </tr>\n",
       "    <tr>\n",
       "      <th>2003-01-03</th>\n",
       "      <td>7.45</td>\n",
       "      <td>21.14</td>\n",
       "      <td>29.24</td>\n",
       "    </tr>\n",
       "    <tr>\n",
       "      <th>2003-01-06</th>\n",
       "      <td>7.45</td>\n",
       "      <td>21.52</td>\n",
       "      <td>29.96</td>\n",
       "    </tr>\n",
       "    <tr>\n",
       "      <th>2003-01-07</th>\n",
       "      <td>7.43</td>\n",
       "      <td>21.93</td>\n",
       "      <td>28.95</td>\n",
       "    </tr>\n",
       "    <tr>\n",
       "      <th>2003-01-08</th>\n",
       "      <td>7.28</td>\n",
       "      <td>21.31</td>\n",
       "      <td>28.83</td>\n",
       "    </tr>\n",
       "  </tbody>\n",
       "</table>\n",
       "</div>"
      ],
      "text/plain": [
       "            AAPL   MSFT    XOM\n",
       "2003-01-02  7.40  21.11  29.22\n",
       "2003-01-03  7.45  21.14  29.24\n",
       "2003-01-06  7.45  21.52  29.96\n",
       "2003-01-07  7.43  21.93  28.95\n",
       "2003-01-08  7.28  21.31  28.83"
      ]
     },
     "execution_count": 202,
     "metadata": {},
     "output_type": "execute_result"
    }
   ],
   "source": [
    "close_px = close_px_all[[\"AAPL\", \"MSFT\", \"XOM\"]]\n",
    "close_px = close_px.resample(\"B\").ffill()\n",
    "close_px.head()"
   ]
  },
  {
   "cell_type": "code",
   "execution_count": 209,
   "id": "8df25f1c-d98b-4ed5-be70-50baaaf3835e",
   "metadata": {},
   "outputs": [
    {
     "data": {
      "image/png": "[encoded data removed]",
      "text/plain": [
       "<Figure size 640x480 with 1 Axes>"
      ]
     },
     "metadata": {},
     "output_type": "display_data"
    }
   ],
   "source": [
    "close_px[\"AAPL\"].plot(\n",
    "    title=\"Closing Price for Apple\",\n",
    "    xlabel=\"Year\",\n",
    "    ylabel=\"Price\",\n",
    ");\n",
    "close_px[\"AAPL\"].rolling(250).mean().plot();"
   ]
  },
  {
   "cell_type": "code",
   "execution_count": 214,
   "id": "20c9b685-641a-4b6e-bbf1-c6560b56cdba",
   "metadata": {},
   "outputs": [
    {
     "data": {
      "text/plain": [
       "<Figure size 640x480 with 0 Axes>"
      ]
     },
     "metadata": {},
     "output_type": "display_data"
    }
   ],
   "source": [
    "# min_periods\n",
    "plt.figure();"
   ]
  },
  {
   "cell_type": "code",
   "execution_count": 220,
   "id": "ec8043bf-1b64-4d4b-8e67-16d5313d1ac9",
   "metadata": {},
   "outputs": [
    {
     "data": {
      "text/plain": [
       "2003-01-08         NaN\n",
       "2003-01-09         NaN\n",
       "2003-01-10         NaN\n",
       "2003-01-13         NaN\n",
       "2003-01-14         NaN\n",
       "2003-01-15         NaN\n",
       "2003-01-16    0.009628\n",
       "2003-01-17    0.013818\n",
       "2003-01-20    0.013233\n",
       "2003-01-21    0.012679\n",
       "2003-01-22    0.012283\n",
       "2003-01-23    0.013622\n",
       "2003-01-24    0.014468\n",
       "2003-01-27    0.015664\n",
       "2003-01-28    0.017145\n",
       "2003-01-29    0.017650\n",
       "Freq: B, Name: AAPL, dtype: float64"
      ]
     },
     "execution_count": 220,
     "metadata": {},
     "output_type": "execute_result"
    }
   ],
   "source": [
    "std250 = close_px[\"AAPL\"].pct_change().rolling(250,\n",
    "                                               min_periods=10).std()\n",
    "std250[4:20]"
   ]
  },
  {
   "cell_type": "code",
   "execution_count": 223,
   "id": "455b54ba-bff3-4f43-b9b6-84341e7f8e5f",
   "metadata": {},
   "outputs": [
    {
     "data": {
      "image/png": "[encoded data removed]",
      "text/plain": [
       "<Figure size 640x480 with 1 Axes>"
      ]
     },
     "metadata": {},
     "output_type": "display_data"
    }
   ],
   "source": [
    "std250.plot(\n",
    "    title=\"Standard Deviation with a sliding window of 250\",\n",
    "    xlabel=\"Year\",\n",
    "    ylabel=\"Standard Deviation\",\n",
    "\n",
    ");"
   ]
  },
  {
   "cell_type": "code",
   "execution_count": 227,
   "id": "2f166487-7cba-454e-b33a-180c040b9bee",
   "metadata": {},
   "outputs": [
    {
     "data": {
      "image/png": "[encoded data removed]",
      "text/plain": [
       "<Figure size 640x480 with 1 Axes>"
      ]
     },
     "metadata": {},
     "output_type": "display_data"
    }
   ],
   "source": [
    "# Expanding window\n",
    "expanding_mean = std250.expanding().mean()\n",
    "expanding_mean.plot();"
   ]
  },
  {
   "cell_type": "code",
   "execution_count": 233,
   "id": "d6f209fe-45e2-45ed-8dd8-b3451562814b",
   "metadata": {},
   "outputs": [
    {
     "data": {
      "image/png": "[encoded data removed]",
      "text/plain": [
       "<Figure size 640x480 with 1 Axes>"
      ]
     },
     "metadata": {},
     "output_type": "display_data"
    }
   ],
   "source": [
    "plt.style.use(\"grayscale\")\n",
    "close_px.rolling(60).mean().plot(\n",
    "    logy=True\n",
    ");"
   ]
  },
  {
   "cell_type": "code",
   "execution_count": 243,
   "id": "276bb264-a3f5-4a83-94df-d1cd896b1676",
   "metadata": {},
   "outputs": [
    {
     "data": {
      "text/html": [
       "<div>\n",
       "<style scoped>\n",
       "    .dataframe tbody tr th:only-of-type {\n",
       "        vertical-align: middle;\n",
       "    }\n",
       "\n",
       "    .dataframe tbody tr th {\n",
       "        vertical-align: top;\n",
       "    }\n",
       "\n",
       "    .dataframe thead th {\n",
       "        text-align: right;\n",
       "    }\n",
       "</style>\n",
       "<table border=\"1\" class=\"dataframe\">\n",
       "  <thead>\n",
       "    <tr style=\"text-align: right;\">\n",
       "      <th></th>\n",
       "      <th>AAPL</th>\n",
       "      <th>MSFT</th>\n",
       "      <th>XOM</th>\n",
       "    </tr>\n",
       "  </thead>\n",
       "  <tbody>\n",
       "    <tr>\n",
       "      <th>2003-01-02</th>\n",
       "      <td>7.400000</td>\n",
       "      <td>21.110000</td>\n",
       "      <td>29.220000</td>\n",
       "    </tr>\n",
       "    <tr>\n",
       "      <th>2003-01-03</th>\n",
       "      <td>7.425000</td>\n",
       "      <td>21.125000</td>\n",
       "      <td>29.230000</td>\n",
       "    </tr>\n",
       "    <tr>\n",
       "      <th>2003-01-06</th>\n",
       "      <td>7.433333</td>\n",
       "      <td>21.256667</td>\n",
       "      <td>29.473333</td>\n",
       "    </tr>\n",
       "    <tr>\n",
       "      <th>2003-01-07</th>\n",
       "      <td>7.432500</td>\n",
       "      <td>21.425000</td>\n",
       "      <td>29.342500</td>\n",
       "    </tr>\n",
       "    <tr>\n",
       "      <th>2003-01-08</th>\n",
       "      <td>7.402000</td>\n",
       "      <td>21.402000</td>\n",
       "      <td>29.240000</td>\n",
       "    </tr>\n",
       "    <tr>\n",
       "      <th>...</th>\n",
       "      <td>...</td>\n",
       "      <td>...</td>\n",
       "      <td>...</td>\n",
       "    </tr>\n",
       "    <tr>\n",
       "      <th>2011-10-10</th>\n",
       "      <td>389.351429</td>\n",
       "      <td>25.602143</td>\n",
       "      <td>72.527857</td>\n",
       "    </tr>\n",
       "    <tr>\n",
       "      <th>2011-10-11</th>\n",
       "      <td>388.505000</td>\n",
       "      <td>25.674286</td>\n",
       "      <td>72.835000</td>\n",
       "    </tr>\n",
       "    <tr>\n",
       "      <th>2011-10-12</th>\n",
       "      <td>388.531429</td>\n",
       "      <td>25.810000</td>\n",
       "      <td>73.400714</td>\n",
       "    </tr>\n",
       "    <tr>\n",
       "      <th>2011-10-13</th>\n",
       "      <td>388.826429</td>\n",
       "      <td>25.961429</td>\n",
       "      <td>73.905000</td>\n",
       "    </tr>\n",
       "    <tr>\n",
       "      <th>2011-10-14</th>\n",
       "      <td>391.038000</td>\n",
       "      <td>26.048667</td>\n",
       "      <td>74.185333</td>\n",
       "    </tr>\n",
       "  </tbody>\n",
       "</table>\n",
       "<p>2292 rows × 3 columns</p>\n",
       "</div>"
      ],
      "text/plain": [
       "                  AAPL       MSFT        XOM\n",
       "2003-01-02    7.400000  21.110000  29.220000\n",
       "2003-01-03    7.425000  21.125000  29.230000\n",
       "2003-01-06    7.433333  21.256667  29.473333\n",
       "2003-01-07    7.432500  21.425000  29.342500\n",
       "2003-01-08    7.402000  21.402000  29.240000\n",
       "...                ...        ...        ...\n",
       "2011-10-10  389.351429  25.602143  72.527857\n",
       "2011-10-11  388.505000  25.674286  72.835000\n",
       "2011-10-12  388.531429  25.810000  73.400714\n",
       "2011-10-13  388.826429  25.961429  73.905000\n",
       "2011-10-14  391.038000  26.048667  74.185333\n",
       "\n",
       "[2292 rows x 3 columns]"
      ]
     },
     "execution_count": 243,
     "metadata": {},
     "output_type": "execute_result"
    }
   ],
   "source": [
    "# Rolling on fixed-frequencies\n",
    "close_px.rolling(\"20D\").mean()"
   ]
  }
 ],
 "metadata": {
  "kernelspec": {
   "display_name": "Python 3 (ipykernel)",
   "language": "python",
   "name": "python3"
  },
  "language_info": {
   "codemirror_mode": {
    "name": "ipython",
    "version": 3
   },
   "file_extension": ".py",
   "mimetype": "text/x-python",
   "name": "python",
   "nbconvert_exporter": "python",
   "pygments_lexer": "ipython3",
   "version": "3.12.3"
  }
 },
 "nbformat": 4,
 "nbformat_minor": 5
}
