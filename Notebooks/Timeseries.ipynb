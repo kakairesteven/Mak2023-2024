{
 "cells": [
  {
   "cell_type": "code",
   "execution_count": 1,
   "id": "4bdd8280-ba23-4d97-ab97-3a66d22b70be",
   "metadata": {},
   "outputs": [],
   "source": [
    "import pandas as pd\n",
    "import numpy as np"
   ]
  },
  {
   "cell_type": "markdown",
   "id": "cf2a5027-23ab-4c36-aa43-6122790b9e12",
   "metadata": {},
   "source": [
    "<h3>Date and Time Data Types and Tools</h3>"
   ]
  },
  {
   "cell_type": "code",
   "execution_count": 2,
   "id": "9ba42526-b0b2-4aef-a8be-ac98ecc69710",
   "metadata": {},
   "outputs": [],
   "source": [
    "from datetime import datetime\n",
    "from datetime import timedelta"
   ]
  },
  {
   "cell_type": "code",
   "execution_count": 3,
   "id": "58d629c5-7c7a-48cb-8f82-2945cd2f9f78",
   "metadata": {},
   "outputs": [],
   "source": [
    "now = datetime.now()"
   ]
  },
  {
   "cell_type": "code",
   "execution_count": 4,
   "id": "3e087002-3968-4199-8edc-84c3f9852f38",
   "metadata": {},
   "outputs": [
    {
     "data": {
      "text/plain": [
       "datetime.datetime(2024, 6, 4, 18, 43, 44, 761542)"
      ]
     },
     "execution_count": 4,
     "metadata": {},
     "output_type": "execute_result"
    }
   ],
   "source": [
    "now"
   ]
  },
  {
   "cell_type": "code",
   "execution_count": 5,
   "id": "20e63acf-ff8a-46a8-94b6-01afe6b9e33e",
   "metadata": {},
   "outputs": [
    {
     "data": {
      "text/plain": [
       "(2024, 6, 4, 18, 43)"
      ]
     },
     "execution_count": 5,
     "metadata": {},
     "output_type": "execute_result"
    }
   ],
   "source": [
    "now.year, now.month, now.day, now.hour, now.minute"
   ]
  },
  {
   "cell_type": "code",
   "execution_count": 6,
   "id": "a2fe3da6-e8aa-4739-873d-9da1e3857953",
   "metadata": {},
   "outputs": [
    {
     "data": {
      "text/plain": [
       "2024"
      ]
     },
     "execution_count": 6,
     "metadata": {},
     "output_type": "execute_result"
    }
   ],
   "source": [
    "now.year"
   ]
  },
  {
   "cell_type": "code",
   "execution_count": 7,
   "id": "924fd6cc-1b58-46de-b848-0ad0c46064a2",
   "metadata": {},
   "outputs": [
    {
     "data": {
      "text/plain": [
       "datetime.timedelta(days=2824, seconds=54360)"
      ]
     },
     "execution_count": 7,
     "metadata": {},
     "output_type": "execute_result"
    }
   ],
   "source": [
    "# delta\n",
    "delta = datetime(2024, 5, 21) - datetime(2016, 8, 26, 8, 54)\n",
    "delta"
   ]
  },
  {
   "cell_type": "code",
   "execution_count": 8,
   "id": "6de4b5c7-7621-4e60-a8b6-3e8faff572b1",
   "metadata": {},
   "outputs": [
    {
     "data": {
      "text/plain": [
       "datetime.datetime(2032, 3, 19, 0, 0)"
      ]
     },
     "execution_count": 8,
     "metadata": {},
     "output_type": "execute_result"
    }
   ],
   "source": [
    "# numerical evaluations\n",
    "start = datetime(2024, 1, 1)\n",
    "start + timedelta(3000)"
   ]
  },
  {
   "cell_type": "markdown",
   "id": "858c4492-f13f-4939-980f-4d5ecee2360b",
   "metadata": {},
   "source": [
    "<h4>Converting between String and Datetime</h4>"
   ]
  },
  {
   "cell_type": "code",
   "execution_count": 9,
   "id": "16650903-b067-4866-a773-86692ba1425d",
   "metadata": {},
   "outputs": [],
   "source": [
    "stamp = datetime(2024, 5, 22)"
   ]
  },
  {
   "cell_type": "code",
   "execution_count": 10,
   "id": "72d35af8-3c3d-4bbd-aeac-e59cdd696973",
   "metadata": {},
   "outputs": [
    {
     "data": {
      "text/plain": [
       "'2024-05-22 00:00:00'"
      ]
     },
     "execution_count": 10,
     "metadata": {},
     "output_type": "execute_result"
    }
   ],
   "source": [
    "str(stamp)"
   ]
  },
  {
   "cell_type": "code",
   "execution_count": 11,
   "id": "2b837233-d1c5-40fc-9806-733d8d08e07c",
   "metadata": {},
   "outputs": [
    {
     "data": {
      "text/plain": [
       "'2024-May-22-3-Wednesday-AM'"
      ]
     },
     "execution_count": 11,
     "metadata": {},
     "output_type": "execute_result"
    }
   ],
   "source": [
    "# Conversion to a specified string format\n",
    "stamp.strftime(\"%Y-%B-%d-%u-%A-%p\")"
   ]
  },
  {
   "cell_type": "code",
   "execution_count": 12,
   "id": "bb6b6679-e42b-45ca-b1dd-805b1b1be1dd",
   "metadata": {},
   "outputs": [],
   "source": [
    "value = \"2024-12-03\""
   ]
  },
  {
   "cell_type": "code",
   "execution_count": 13,
   "id": "304b96de-7bb8-445a-8ae1-5d2b7ad9d6d8",
   "metadata": {},
   "outputs": [
    {
     "data": {
      "text/plain": [
       "datetime.datetime(2024, 12, 3, 0, 0)"
      ]
     },
     "execution_count": 13,
     "metadata": {},
     "output_type": "execute_result"
    }
   ],
   "source": [
    "datetime.strptime(value, \"%Y-%m-%d\")"
   ]
  },
  {
   "cell_type": "code",
   "execution_count": 14,
   "id": "716d8f06-6ecf-4ac4-9e6c-c175f7089e3a",
   "metadata": {},
   "outputs": [
    {
     "data": {
      "text/plain": [
       "[datetime.datetime(2025, 7, 6, 0, 0), datetime.datetime(2025, 8, 6, 0, 0)]"
      ]
     },
     "execution_count": 14,
     "metadata": {},
     "output_type": "execute_result"
    }
   ],
   "source": [
    "# converting a list of string dates to datetime format\n",
    "datestrs = [\"7/6/2025\", \"8/6/2025\"]\n",
    "[datetime.strptime(x, \"%m/%d/%Y\") for x in datestrs]"
   ]
  },
  {
   "cell_type": "code",
   "execution_count": 15,
   "id": "195399dd-f068-4057-8367-79a3e3d156e9",
   "metadata": {},
   "outputs": [
    {
     "data": {
      "text/plain": [
       "DatetimeIndex(['2011-07-06 12:00:00', '2025-08-06 00:00:00'], dtype='datetime64[ns]', freq=None)"
      ]
     },
     "execution_count": 15,
     "metadata": {},
     "output_type": "execute_result"
    }
   ],
   "source": [
    "# pandas to_datetime\n",
    "datestrs = [\"2011-07-06 12:00:00\", \"2025-08-06 00:00:00\"]\n",
    "pd.to_datetime(datestrs)"
   ]
  },
  {
   "cell_type": "code",
   "execution_count": 16,
   "id": "a1caa520-3825-4879-b823-bc0b2a9c462a",
   "metadata": {},
   "outputs": [],
   "source": [
    "# dataframe to datetime\n",
    "df = pd.DataFrame(\n",
    "    {\"year\": [2025, 2024, 2023],\n",
    "     \"month\": [2, 4, 8],\n",
    "     \"day\": [5, 4, 5]\n",
    "    })"
   ]
  },
  {
   "cell_type": "code",
   "execution_count": 17,
   "id": "c7f68464-da42-4e2a-9372-e03e590840cd",
   "metadata": {},
   "outputs": [
    {
     "data": {
      "text/html": [
       "<div>\n",
       "<style scoped>\n",
       "    .dataframe tbody tr th:only-of-type {\n",
       "        vertical-align: middle;\n",
       "    }\n",
       "\n",
       "    .dataframe tbody tr th {\n",
       "        vertical-align: top;\n",
       "    }\n",
       "\n",
       "    .dataframe thead th {\n",
       "        text-align: right;\n",
       "    }\n",
       "</style>\n",
       "<table border=\"1\" class=\"dataframe\">\n",
       "  <thead>\n",
       "    <tr style=\"text-align: right;\">\n",
       "      <th></th>\n",
       "      <th>year</th>\n",
       "      <th>month</th>\n",
       "      <th>day</th>\n",
       "    </tr>\n",
       "  </thead>\n",
       "  <tbody>\n",
       "    <tr>\n",
       "      <th>0</th>\n",
       "      <td>2025</td>\n",
       "      <td>2</td>\n",
       "      <td>5</td>\n",
       "    </tr>\n",
       "    <tr>\n",
       "      <th>1</th>\n",
       "      <td>2024</td>\n",
       "      <td>4</td>\n",
       "      <td>4</td>\n",
       "    </tr>\n",
       "    <tr>\n",
       "      <th>2</th>\n",
       "      <td>2023</td>\n",
       "      <td>8</td>\n",
       "      <td>5</td>\n",
       "    </tr>\n",
       "  </tbody>\n",
       "</table>\n",
       "</div>"
      ],
      "text/plain": [
       "   year  month  day\n",
       "0  2025      2    5\n",
       "1  2024      4    4\n",
       "2  2023      8    5"
      ]
     },
     "execution_count": 17,
     "metadata": {},
     "output_type": "execute_result"
    }
   ],
   "source": [
    "df"
   ]
  },
  {
   "cell_type": "code",
   "execution_count": 18,
   "id": "890c9cc7-0891-4ab7-82da-f59b530768e4",
   "metadata": {},
   "outputs": [
    {
     "data": {
      "text/plain": [
       "0   2025-02-05\n",
       "1   2024-04-04\n",
       "2   2023-08-05\n",
       "dtype: datetime64[ns]"
      ]
     },
     "execution_count": 18,
     "metadata": {},
     "output_type": "execute_result"
    }
   ],
   "source": [
    "pd.to_datetime(df)"
   ]
  },
  {
   "cell_type": "code",
   "execution_count": 19,
   "id": "f45e75c6-7f1b-43f2-96d3-a9ef91e66482",
   "metadata": {},
   "outputs": [],
   "source": [
    "datestr = [\"2025-07-06 12:00:00\",\n",
    "           \"2034-08-04 13:45:34\"]"
   ]
  },
  {
   "cell_type": "code",
   "execution_count": 20,
   "id": "696dd270-8a4b-4ef6-8556-c7e9a791365a",
   "metadata": {},
   "outputs": [],
   "source": [
    "# Missing values, Not a Time values are also accepted\n",
    "idx = pd.to_datetime(datestrs + [None])"
   ]
  },
  {
   "cell_type": "code",
   "execution_count": 21,
   "id": "2208c9ec-4fae-42b5-b22c-4ffa42cf95c9",
   "metadata": {},
   "outputs": [
    {
     "data": {
      "text/plain": [
       "DatetimeIndex(['2011-07-06 12:00:00', '2025-08-06 00:00:00', 'NaT'], dtype='datetime64[ns]', freq=None)"
      ]
     },
     "execution_count": 21,
     "metadata": {},
     "output_type": "execute_result"
    }
   ],
   "source": [
    "idx"
   ]
  },
  {
   "cell_type": "code",
   "execution_count": 22,
   "id": "6797c513-a438-47b1-b20d-98229a57151f",
   "metadata": {},
   "outputs": [
    {
     "data": {
      "text/plain": [
       "NaT"
      ]
     },
     "execution_count": 22,
     "metadata": {},
     "output_type": "execute_result"
    }
   ],
   "source": [
    "# indexing idx\n",
    "idx[2]"
   ]
  },
  {
   "cell_type": "code",
   "execution_count": 23,
   "id": "415f6f21-7930-4ba9-86cd-be24182f36bd",
   "metadata": {},
   "outputs": [
    {
     "data": {
      "text/plain": [
       "array([False, False,  True])"
      ]
     },
     "execution_count": 23,
     "metadata": {},
     "output_type": "execute_result"
    }
   ],
   "source": [
    "pd.isna(idx)"
   ]
  },
  {
   "cell_type": "markdown",
   "id": "a83ece02-783c-4d4f-afc6-092d0d756bd6",
   "metadata": {},
   "source": [
    "<h4>Time Series Basics</h4>"
   ]
  },
  {
   "cell_type": "code",
   "execution_count": 24,
   "id": "4231ac4c-cb8e-4ed7-a669-c8af90b15a0d",
   "metadata": {},
   "outputs": [],
   "source": [
    "# time series\n",
    "dates = [datetime(2024, 6, 2),\n",
    "        datetime(2025, 10, 21),\n",
    "        datetime(2024, 4, 12),\n",
    "        datetime(2023, 10, 5),\n",
    "        datetime(2016, 11, 3),\n",
    "        datetime(2017, 3, 15),\n",
    "        datetime(2019, 6, 3),\n",
    "        datetime(2020, 5, 8),\n",
    "       ]"
   ]
  },
  {
   "cell_type": "code",
   "execution_count": 25,
   "id": "7454449a-59f2-4990-aeeb-0f25b3e083bb",
   "metadata": {},
   "outputs": [],
   "source": [
    "ts =pd.Series(np.random.standard_normal(8),\n",
    "              index=dates,\n",
    "             )"
   ]
  },
  {
   "cell_type": "code",
   "execution_count": 26,
   "id": "a78c476b-151b-4f83-8e46-2bfe93c81da8",
   "metadata": {},
   "outputs": [
    {
     "data": {
      "text/plain": [
       "2024-06-02   -0.806007\n",
       "2025-10-21   -0.859244\n",
       "2024-04-12    2.063961\n",
       "2023-10-05    0.475198\n",
       "2016-11-03   -0.044286\n",
       "2017-03-15   -1.106826\n",
       "2019-06-03    1.049382\n",
       "2020-05-08   -1.373954\n",
       "dtype: float64"
      ]
     },
     "execution_count": 26,
     "metadata": {},
     "output_type": "execute_result"
    }
   ],
   "source": [
    "ts"
   ]
  },
  {
   "cell_type": "code",
   "execution_count": 27,
   "id": "f516ed5e-9fe5-4ce6-8455-f5aefbc54611",
   "metadata": {},
   "outputs": [
    {
     "data": {
      "text/plain": [
       "2016-11-03         NaN\n",
       "2017-03-15         NaN\n",
       "2019-06-03    2.098765\n",
       "2020-05-08         NaN\n",
       "2023-10-05    0.950396\n",
       "2024-04-12         NaN\n",
       "2024-06-02   -1.612015\n",
       "2025-10-21         NaN\n",
       "dtype: float64"
      ]
     },
     "execution_count": 27,
     "metadata": {},
     "output_type": "execute_result"
    }
   ],
   "source": [
    "ts + ts[::3]"
   ]
  },
  {
   "cell_type": "code",
   "execution_count": 28,
   "id": "b4b800ed-4319-4df7-88f4-e0c227348de6",
   "metadata": {},
   "outputs": [
    {
     "data": {
      "text/plain": [
       "2024-06-02   -0.806007\n",
       "2023-10-05    0.475198\n",
       "2019-06-03    1.049382\n",
       "dtype: float64"
      ]
     },
     "execution_count": 28,
     "metadata": {},
     "output_type": "execute_result"
    }
   ],
   "source": [
    "ts[::3]"
   ]
  },
  {
   "cell_type": "markdown",
   "id": "c1d1bad1-2d75-45c3-a5cf-9894164bb67d",
   "metadata": {},
   "source": [
    "<h4>indexing, Selecting and Subsetting</h4>"
   ]
  },
  {
   "cell_type": "code",
   "execution_count": 29,
   "id": "b3a63b28-f387-461c-ba3e-02494eed20f0",
   "metadata": {},
   "outputs": [],
   "source": [
    "# same as indexing a series\n",
    "stamp = ts.index[2]"
   ]
  },
  {
   "cell_type": "code",
   "execution_count": 30,
   "id": "f6aa4016-21af-41b1-940c-a43c240cbee9",
   "metadata": {},
   "outputs": [
    {
     "data": {
      "text/plain": [
       "Timestamp('2024-04-12 00:00:00')"
      ]
     },
     "execution_count": 30,
     "metadata": {},
     "output_type": "execute_result"
    }
   ],
   "source": [
    "stamp"
   ]
  },
  {
   "cell_type": "code",
   "execution_count": 31,
   "id": "b28abe19-d644-4bb1-8e00-5e131f709bb3",
   "metadata": {},
   "outputs": [
    {
     "data": {
      "text/plain": [
       "-0.8060074693364736"
      ]
     },
     "execution_count": 31,
     "metadata": {},
     "output_type": "execute_result"
    }
   ],
   "source": [
    "ts.iat[0]"
   ]
  },
  {
   "cell_type": "code",
   "execution_count": 32,
   "id": "2f2e11a9-8ff9-4f7b-9898-7ba7882bcb29",
   "metadata": {},
   "outputs": [],
   "source": [
    "# indexing by year\n",
    "longer_ts = pd.Series(np.random.standard_normal(2000),\n",
    "                      index=pd.date_range(\"2024-05-22\",\n",
    "                                          periods=2000))"
   ]
  },
  {
   "cell_type": "code",
   "execution_count": 33,
   "id": "5e3f0026-8206-41be-9b02-94f5e950271c",
   "metadata": {},
   "outputs": [
    {
     "data": {
      "text/plain": [
       "2024-05-22   -0.732235\n",
       "2024-05-23   -0.686546\n",
       "2024-05-24   -0.246911\n",
       "2024-05-25   -1.587965\n",
       "2024-05-26   -0.167832\n",
       "                ...   \n",
       "2024-12-27   -0.261326\n",
       "2024-12-28    0.447958\n",
       "2024-12-29    0.245835\n",
       "2024-12-30   -0.673547\n",
       "2024-12-31   -0.666550\n",
       "Freq: D, Length: 224, dtype: float64"
      ]
     },
     "execution_count": 33,
     "metadata": {},
     "output_type": "execute_result"
    }
   ],
   "source": [
    "longer_ts[\"2024\"]"
   ]
  },
  {
   "cell_type": "code",
   "execution_count": 34,
   "id": "76f5d3ce-448a-4a07-bd6d-7f78d4052e76",
   "metadata": {},
   "outputs": [
    {
     "data": {
      "text/plain": [
       "2024-06-01    0.140587\n",
       "2024-06-02   -0.217420\n",
       "2024-06-03    0.768619\n",
       "2024-06-04   -0.385564\n",
       "2024-06-05   -0.914844\n",
       "2024-06-06   -1.273571\n",
       "2024-06-07   -1.556623\n",
       "2024-06-08    1.130598\n",
       "2024-06-09    0.144953\n",
       "2024-06-10    1.130902\n",
       "2024-06-11   -2.908657\n",
       "2024-06-12    0.472808\n",
       "2024-06-13   -0.054097\n",
       "2024-06-14    0.529448\n",
       "2024-06-15   -0.152938\n",
       "2024-06-16    1.993067\n",
       "2024-06-17   -0.445564\n",
       "2024-06-18   -1.031190\n",
       "2024-06-19   -0.592980\n",
       "2024-06-20   -0.643106\n",
       "2024-06-21   -0.095464\n",
       "2024-06-22   -0.138888\n",
       "2024-06-23    1.342791\n",
       "2024-06-24    0.403548\n",
       "2024-06-25   -1.759578\n",
       "2024-06-26   -0.086907\n",
       "2024-06-27    0.178057\n",
       "2024-06-28    0.148710\n",
       "2024-06-29    0.677658\n",
       "2024-06-30   -1.008265\n",
       "Freq: D, dtype: float64"
      ]
     },
     "execution_count": 34,
     "metadata": {},
     "output_type": "execute_result"
    }
   ],
   "source": [
    "# selecting by year-month\n",
    "longer_ts[\"2024-06\"]"
   ]
  },
  {
   "cell_type": "code",
   "execution_count": 35,
   "id": "edc475c3-b65c-49e9-9e5f-80d2bd1eb3b7",
   "metadata": {},
   "outputs": [
    {
     "data": {
      "text/plain": [
       "2024-05-22   -0.732235\n",
       "2024-05-23   -0.686546\n",
       "2024-05-24   -0.246911\n",
       "2024-05-25   -1.587965\n",
       "2024-05-26   -0.167832\n",
       "                ...   \n",
       "2024-07-28   -0.113187\n",
       "2024-07-29    0.823853\n",
       "2024-07-30    1.735115\n",
       "2024-07-31    0.389623\n",
       "2024-08-01   -0.868612\n",
       "Freq: D, Length: 72, dtype: float64"
      ]
     },
     "execution_count": 35,
     "metadata": {},
     "output_type": "execute_result"
    }
   ],
   "source": [
    "# Slicing by datetime\n",
    "longer_ts[datetime(2024,5,22):\n",
    "datetime(2024,8,1)\n",
    "]"
   ]
  },
  {
   "cell_type": "code",
   "execution_count": 36,
   "id": "c14fc0ad-07f2-47f4-ad3e-c55f7814a0ce",
   "metadata": {},
   "outputs": [
    {
     "data": {
      "text/plain": [
       "2024-05-22   -0.732235\n",
       "2024-05-23   -0.686546\n",
       "2024-05-24   -0.246911\n",
       "2024-05-25   -1.587965\n",
       "2024-05-26   -0.167832\n",
       "                ...   \n",
       "2024-08-22   -1.367976\n",
       "2024-08-23   -1.496630\n",
       "2024-08-24    1.242666\n",
       "2024-08-25   -2.435061\n",
       "2024-08-26   -1.491200\n",
       "Freq: D, Length: 97, dtype: float64"
      ]
     },
     "execution_count": 36,
     "metadata": {},
     "output_type": "execute_result"
    }
   ],
   "source": [
    "# Slicing with a timestamp not contained in the ts\n",
    "longer_ts[datetime(2016, 8, 26):\n",
    "datetime(2024, 8, 26)\n",
    "]"
   ]
  },
  {
   "cell_type": "code",
   "execution_count": 37,
   "id": "9f552a3d-b577-455d-ac72-24cc3724501f",
   "metadata": {},
   "outputs": [
    {
     "data": {
      "text/plain": [
       "2024-05-22   -0.732235\n",
       "2024-05-23   -0.686546\n",
       "2024-05-24   -0.246911\n",
       "2024-05-25   -1.587965\n",
       "2024-05-26   -0.167832\n",
       "                ...   \n",
       "2029-11-07    0.321696\n",
       "2029-11-08    0.360712\n",
       "2029-11-09   -0.908438\n",
       "2029-11-10    1.349243\n",
       "2029-11-11   -1.942261\n",
       "Freq: D, Length: 2000, dtype: float64"
      ]
     },
     "execution_count": 37,
     "metadata": {},
     "output_type": "execute_result"
    }
   ],
   "source": [
    "longer_ts"
   ]
  },
  {
   "cell_type": "code",
   "execution_count": 38,
   "id": "487d875b-83c2-492e-9a0e-bb3310b7fa1f",
   "metadata": {},
   "outputs": [
    {
     "data": {
      "text/plain": [
       "2024-05-22   -0.732235\n",
       "2024-05-23   -0.686546\n",
       "2024-05-24   -0.246911\n",
       "2024-05-25   -1.587965\n",
       "2024-05-26   -0.167832\n",
       "                ...   \n",
       "2025-05-18   -0.946069\n",
       "2025-05-19    0.242977\n",
       "2025-05-20   -0.666771\n",
       "2025-05-21    1.800121\n",
       "2025-05-22    0.743009\n",
       "Freq: D, Length: 366, dtype: float64"
      ]
     },
     "execution_count": 38,
     "metadata": {},
     "output_type": "execute_result"
    }
   ],
   "source": [
    "# truncating after a specific date\n",
    "longer_ts.truncate(after=\"2025-05-22\")"
   ]
  },
  {
   "cell_type": "code",
   "execution_count": 39,
   "id": "ed8e9f70-82fd-4930-afa6-d13fcf6c3b3b",
   "metadata": {},
   "outputs": [],
   "source": [
    "dates = pd.date_range(\"2024-01-01\",\n",
    "                      periods=100,\n",
    "                      freq=\"W-WED\"\n",
    "                     )"
   ]
  },
  {
   "cell_type": "code",
   "execution_count": 40,
   "id": "7e28c20f-d407-4236-a19e-c1b5e5dca963",
   "metadata": {},
   "outputs": [],
   "source": [
    "long_df = pd.DataFrame(np.random.standard_normal((100,4)),\n",
    "                       index=dates,\n",
    "                       columns=[\"Iganga\", \"Jinja\", \"Kampala\", \"Busia\"])"
   ]
  },
  {
   "cell_type": "code",
   "execution_count": 41,
   "id": "9ce9342e-b2cd-4fd4-8508-f52cc032f869",
   "metadata": {},
   "outputs": [
    {
     "data": {
      "text/html": [
       "<div>\n",
       "<style scoped>\n",
       "    .dataframe tbody tr th:only-of-type {\n",
       "        vertical-align: middle;\n",
       "    }\n",
       "\n",
       "    .dataframe tbody tr th {\n",
       "        vertical-align: top;\n",
       "    }\n",
       "\n",
       "    .dataframe thead th {\n",
       "        text-align: right;\n",
       "    }\n",
       "</style>\n",
       "<table border=\"1\" class=\"dataframe\">\n",
       "  <thead>\n",
       "    <tr style=\"text-align: right;\">\n",
       "      <th></th>\n",
       "      <th>Iganga</th>\n",
       "      <th>Jinja</th>\n",
       "      <th>Kampala</th>\n",
       "      <th>Busia</th>\n",
       "    </tr>\n",
       "  </thead>\n",
       "  <tbody>\n",
       "    <tr>\n",
       "      <th>2024-01-03</th>\n",
       "      <td>-2.668649</td>\n",
       "      <td>-0.310719</td>\n",
       "      <td>-1.988816</td>\n",
       "      <td>0.563486</td>\n",
       "    </tr>\n",
       "    <tr>\n",
       "      <th>2024-01-10</th>\n",
       "      <td>-0.459162</td>\n",
       "      <td>-0.181965</td>\n",
       "      <td>0.504145</td>\n",
       "      <td>0.557405</td>\n",
       "    </tr>\n",
       "    <tr>\n",
       "      <th>2024-01-17</th>\n",
       "      <td>-1.303635</td>\n",
       "      <td>-0.265742</td>\n",
       "      <td>-1.647765</td>\n",
       "      <td>0.163668</td>\n",
       "    </tr>\n",
       "    <tr>\n",
       "      <th>2024-01-24</th>\n",
       "      <td>1.198040</td>\n",
       "      <td>-0.243040</td>\n",
       "      <td>-0.038739</td>\n",
       "      <td>1.312665</td>\n",
       "    </tr>\n",
       "    <tr>\n",
       "      <th>2024-01-31</th>\n",
       "      <td>3.237067</td>\n",
       "      <td>-1.018263</td>\n",
       "      <td>0.010527</td>\n",
       "      <td>-0.692321</td>\n",
       "    </tr>\n",
       "    <tr>\n",
       "      <th>2024-02-07</th>\n",
       "      <td>1.285843</td>\n",
       "      <td>0.084531</td>\n",
       "      <td>-0.775765</td>\n",
       "      <td>-0.090048</td>\n",
       "    </tr>\n",
       "    <tr>\n",
       "      <th>2024-02-14</th>\n",
       "      <td>0.701687</td>\n",
       "      <td>0.722341</td>\n",
       "      <td>-0.559868</td>\n",
       "      <td>0.234922</td>\n",
       "    </tr>\n",
       "    <tr>\n",
       "      <th>2024-02-21</th>\n",
       "      <td>-2.137691</td>\n",
       "      <td>-0.781529</td>\n",
       "      <td>-1.129145</td>\n",
       "      <td>0.223945</td>\n",
       "    </tr>\n",
       "    <tr>\n",
       "      <th>2024-02-28</th>\n",
       "      <td>-0.071003</td>\n",
       "      <td>0.390559</td>\n",
       "      <td>-1.509982</td>\n",
       "      <td>-0.504609</td>\n",
       "    </tr>\n",
       "    <tr>\n",
       "      <th>2024-03-06</th>\n",
       "      <td>-0.515817</td>\n",
       "      <td>0.487180</td>\n",
       "      <td>-0.209669</td>\n",
       "      <td>-0.247502</td>\n",
       "    </tr>\n",
       "    <tr>\n",
       "      <th>2024-03-13</th>\n",
       "      <td>0.751164</td>\n",
       "      <td>-0.966234</td>\n",
       "      <td>0.813382</td>\n",
       "      <td>0.135183</td>\n",
       "    </tr>\n",
       "    <tr>\n",
       "      <th>2024-03-20</th>\n",
       "      <td>0.320346</td>\n",
       "      <td>-1.586198</td>\n",
       "      <td>0.170966</td>\n",
       "      <td>-0.986331</td>\n",
       "    </tr>\n",
       "    <tr>\n",
       "      <th>2024-03-27</th>\n",
       "      <td>0.676183</td>\n",
       "      <td>-0.752962</td>\n",
       "      <td>-3.731420</td>\n",
       "      <td>0.343647</td>\n",
       "    </tr>\n",
       "    <tr>\n",
       "      <th>2024-04-03</th>\n",
       "      <td>0.892423</td>\n",
       "      <td>-1.030541</td>\n",
       "      <td>0.440820</td>\n",
       "      <td>-0.109441</td>\n",
       "    </tr>\n",
       "    <tr>\n",
       "      <th>2024-04-10</th>\n",
       "      <td>-0.175527</td>\n",
       "      <td>0.784827</td>\n",
       "      <td>0.465624</td>\n",
       "      <td>0.391656</td>\n",
       "    </tr>\n",
       "    <tr>\n",
       "      <th>2024-04-17</th>\n",
       "      <td>-0.305439</td>\n",
       "      <td>1.922697</td>\n",
       "      <td>-1.352153</td>\n",
       "      <td>-2.279753</td>\n",
       "    </tr>\n",
       "    <tr>\n",
       "      <th>2024-04-24</th>\n",
       "      <td>-0.571948</td>\n",
       "      <td>0.877345</td>\n",
       "      <td>0.903311</td>\n",
       "      <td>0.175159</td>\n",
       "    </tr>\n",
       "    <tr>\n",
       "      <th>2024-05-01</th>\n",
       "      <td>1.038009</td>\n",
       "      <td>1.451169</td>\n",
       "      <td>-1.376932</td>\n",
       "      <td>2.065674</td>\n",
       "    </tr>\n",
       "    <tr>\n",
       "      <th>2024-05-08</th>\n",
       "      <td>2.416450</td>\n",
       "      <td>-0.007556</td>\n",
       "      <td>-1.292028</td>\n",
       "      <td>-0.367467</td>\n",
       "    </tr>\n",
       "    <tr>\n",
       "      <th>2024-05-15</th>\n",
       "      <td>0.391204</td>\n",
       "      <td>0.437632</td>\n",
       "      <td>-0.920127</td>\n",
       "      <td>1.153857</td>\n",
       "    </tr>\n",
       "    <tr>\n",
       "      <th>2024-05-22</th>\n",
       "      <td>-1.208006</td>\n",
       "      <td>-0.695090</td>\n",
       "      <td>-0.316761</td>\n",
       "      <td>0.373263</td>\n",
       "    </tr>\n",
       "    <tr>\n",
       "      <th>2024-05-29</th>\n",
       "      <td>0.897251</td>\n",
       "      <td>-1.752183</td>\n",
       "      <td>-0.362184</td>\n",
       "      <td>0.311320</td>\n",
       "    </tr>\n",
       "    <tr>\n",
       "      <th>2024-06-05</th>\n",
       "      <td>-1.038305</td>\n",
       "      <td>0.224425</td>\n",
       "      <td>1.031740</td>\n",
       "      <td>-2.210839</td>\n",
       "    </tr>\n",
       "    <tr>\n",
       "      <th>2024-06-12</th>\n",
       "      <td>-0.918821</td>\n",
       "      <td>0.666659</td>\n",
       "      <td>-0.532474</td>\n",
       "      <td>1.578495</td>\n",
       "    </tr>\n",
       "    <tr>\n",
       "      <th>2024-06-19</th>\n",
       "      <td>-0.288547</td>\n",
       "      <td>0.869495</td>\n",
       "      <td>-1.063508</td>\n",
       "      <td>2.264374</td>\n",
       "    </tr>\n",
       "    <tr>\n",
       "      <th>2024-06-26</th>\n",
       "      <td>0.790049</td>\n",
       "      <td>0.623667</td>\n",
       "      <td>-0.036787</td>\n",
       "      <td>0.565997</td>\n",
       "    </tr>\n",
       "    <tr>\n",
       "      <th>2024-07-03</th>\n",
       "      <td>1.197116</td>\n",
       "      <td>0.881370</td>\n",
       "      <td>-0.122362</td>\n",
       "      <td>-0.819161</td>\n",
       "    </tr>\n",
       "    <tr>\n",
       "      <th>2024-07-10</th>\n",
       "      <td>-0.150030</td>\n",
       "      <td>-0.206410</td>\n",
       "      <td>-0.603361</td>\n",
       "      <td>0.523579</td>\n",
       "    </tr>\n",
       "    <tr>\n",
       "      <th>2024-07-17</th>\n",
       "      <td>1.373223</td>\n",
       "      <td>-0.311738</td>\n",
       "      <td>-0.239600</td>\n",
       "      <td>1.885741</td>\n",
       "    </tr>\n",
       "    <tr>\n",
       "      <th>2024-07-24</th>\n",
       "      <td>-0.353525</td>\n",
       "      <td>0.441074</td>\n",
       "      <td>0.421915</td>\n",
       "      <td>0.654184</td>\n",
       "    </tr>\n",
       "    <tr>\n",
       "      <th>2024-07-31</th>\n",
       "      <td>-0.853395</td>\n",
       "      <td>0.885870</td>\n",
       "      <td>0.043025</td>\n",
       "      <td>-1.127157</td>\n",
       "    </tr>\n",
       "    <tr>\n",
       "      <th>2024-08-07</th>\n",
       "      <td>0.162860</td>\n",
       "      <td>-1.725355</td>\n",
       "      <td>0.221960</td>\n",
       "      <td>-2.154750</td>\n",
       "    </tr>\n",
       "    <tr>\n",
       "      <th>2024-08-14</th>\n",
       "      <td>1.694130</td>\n",
       "      <td>-0.772624</td>\n",
       "      <td>1.209819</td>\n",
       "      <td>1.775411</td>\n",
       "    </tr>\n",
       "    <tr>\n",
       "      <th>2024-08-21</th>\n",
       "      <td>1.193077</td>\n",
       "      <td>-0.262069</td>\n",
       "      <td>1.019931</td>\n",
       "      <td>0.427274</td>\n",
       "    </tr>\n",
       "    <tr>\n",
       "      <th>2024-08-28</th>\n",
       "      <td>0.057546</td>\n",
       "      <td>0.000428</td>\n",
       "      <td>0.118091</td>\n",
       "      <td>0.804843</td>\n",
       "    </tr>\n",
       "    <tr>\n",
       "      <th>2024-09-04</th>\n",
       "      <td>-1.484692</td>\n",
       "      <td>0.667987</td>\n",
       "      <td>-0.967418</td>\n",
       "      <td>0.102401</td>\n",
       "    </tr>\n",
       "    <tr>\n",
       "      <th>2024-09-11</th>\n",
       "      <td>0.768149</td>\n",
       "      <td>0.770745</td>\n",
       "      <td>-0.705263</td>\n",
       "      <td>-2.846813</td>\n",
       "    </tr>\n",
       "    <tr>\n",
       "      <th>2024-09-18</th>\n",
       "      <td>-0.263092</td>\n",
       "      <td>-0.494175</td>\n",
       "      <td>1.376432</td>\n",
       "      <td>0.588900</td>\n",
       "    </tr>\n",
       "    <tr>\n",
       "      <th>2024-09-25</th>\n",
       "      <td>0.369298</td>\n",
       "      <td>0.176985</td>\n",
       "      <td>-0.689490</td>\n",
       "      <td>0.797388</td>\n",
       "    </tr>\n",
       "    <tr>\n",
       "      <th>2024-10-02</th>\n",
       "      <td>-2.632919</td>\n",
       "      <td>-0.659903</td>\n",
       "      <td>-0.256411</td>\n",
       "      <td>-2.020109</td>\n",
       "    </tr>\n",
       "    <tr>\n",
       "      <th>2024-10-09</th>\n",
       "      <td>1.479835</td>\n",
       "      <td>0.466515</td>\n",
       "      <td>-0.205536</td>\n",
       "      <td>0.553920</td>\n",
       "    </tr>\n",
       "    <tr>\n",
       "      <th>2024-10-16</th>\n",
       "      <td>1.633551</td>\n",
       "      <td>0.509492</td>\n",
       "      <td>0.108244</td>\n",
       "      <td>-0.582268</td>\n",
       "    </tr>\n",
       "    <tr>\n",
       "      <th>2024-10-23</th>\n",
       "      <td>-0.397094</td>\n",
       "      <td>0.612534</td>\n",
       "      <td>0.686614</td>\n",
       "      <td>0.332402</td>\n",
       "    </tr>\n",
       "    <tr>\n",
       "      <th>2024-10-30</th>\n",
       "      <td>-0.518514</td>\n",
       "      <td>0.917608</td>\n",
       "      <td>0.894067</td>\n",
       "      <td>1.045562</td>\n",
       "    </tr>\n",
       "    <tr>\n",
       "      <th>2024-11-06</th>\n",
       "      <td>0.551475</td>\n",
       "      <td>-1.985197</td>\n",
       "      <td>0.138779</td>\n",
       "      <td>-0.627598</td>\n",
       "    </tr>\n",
       "    <tr>\n",
       "      <th>2024-11-13</th>\n",
       "      <td>-0.071041</td>\n",
       "      <td>1.388087</td>\n",
       "      <td>-0.117004</td>\n",
       "      <td>2.038035</td>\n",
       "    </tr>\n",
       "    <tr>\n",
       "      <th>2024-11-20</th>\n",
       "      <td>0.527107</td>\n",
       "      <td>-0.151163</td>\n",
       "      <td>-0.613997</td>\n",
       "      <td>1.423264</td>\n",
       "    </tr>\n",
       "    <tr>\n",
       "      <th>2024-11-27</th>\n",
       "      <td>-0.849819</td>\n",
       "      <td>-0.882823</td>\n",
       "      <td>-0.182265</td>\n",
       "      <td>-0.671328</td>\n",
       "    </tr>\n",
       "    <tr>\n",
       "      <th>2024-12-04</th>\n",
       "      <td>1.436857</td>\n",
       "      <td>-1.105827</td>\n",
       "      <td>0.392903</td>\n",
       "      <td>-0.079533</td>\n",
       "    </tr>\n",
       "    <tr>\n",
       "      <th>2024-12-11</th>\n",
       "      <td>-0.703727</td>\n",
       "      <td>-0.109560</td>\n",
       "      <td>-1.024582</td>\n",
       "      <td>0.602356</td>\n",
       "    </tr>\n",
       "    <tr>\n",
       "      <th>2024-12-18</th>\n",
       "      <td>0.696860</td>\n",
       "      <td>-0.886104</td>\n",
       "      <td>0.008240</td>\n",
       "      <td>-0.567184</td>\n",
       "    </tr>\n",
       "    <tr>\n",
       "      <th>2024-12-25</th>\n",
       "      <td>0.348233</td>\n",
       "      <td>2.129574</td>\n",
       "      <td>0.272796</td>\n",
       "      <td>0.001736</td>\n",
       "    </tr>\n",
       "  </tbody>\n",
       "</table>\n",
       "</div>"
      ],
      "text/plain": [
       "              Iganga     Jinja   Kampala     Busia\n",
       "2024-01-03 -2.668649 -0.310719 -1.988816  0.563486\n",
       "2024-01-10 -0.459162 -0.181965  0.504145  0.557405\n",
       "2024-01-17 -1.303635 -0.265742 -1.647765  0.163668\n",
       "2024-01-24  1.198040 -0.243040 -0.038739  1.312665\n",
       "2024-01-31  3.237067 -1.018263  0.010527 -0.692321\n",
       "2024-02-07  1.285843  0.084531 -0.775765 -0.090048\n",
       "2024-02-14  0.701687  0.722341 -0.559868  0.234922\n",
       "2024-02-21 -2.137691 -0.781529 -1.129145  0.223945\n",
       "2024-02-28 -0.071003  0.390559 -1.509982 -0.504609\n",
       "2024-03-06 -0.515817  0.487180 -0.209669 -0.247502\n",
       "2024-03-13  0.751164 -0.966234  0.813382  0.135183\n",
       "2024-03-20  0.320346 -1.586198  0.170966 -0.986331\n",
       "2024-03-27  0.676183 -0.752962 -3.731420  0.343647\n",
       "2024-04-03  0.892423 -1.030541  0.440820 -0.109441\n",
       "2024-04-10 -0.175527  0.784827  0.465624  0.391656\n",
       "2024-04-17 -0.305439  1.922697 -1.352153 -2.279753\n",
       "2024-04-24 -0.571948  0.877345  0.903311  0.175159\n",
       "2024-05-01  1.038009  1.451169 -1.376932  2.065674\n",
       "2024-05-08  2.416450 -0.007556 -1.292028 -0.367467\n",
       "2024-05-15  0.391204  0.437632 -0.920127  1.153857\n",
       "2024-05-22 -1.208006 -0.695090 -0.316761  0.373263\n",
       "2024-05-29  0.897251 -1.752183 -0.362184  0.311320\n",
       "2024-06-05 -1.038305  0.224425  1.031740 -2.210839\n",
       "2024-06-12 -0.918821  0.666659 -0.532474  1.578495\n",
       "2024-06-19 -0.288547  0.869495 -1.063508  2.264374\n",
       "2024-06-26  0.790049  0.623667 -0.036787  0.565997\n",
       "2024-07-03  1.197116  0.881370 -0.122362 -0.819161\n",
       "2024-07-10 -0.150030 -0.206410 -0.603361  0.523579\n",
       "2024-07-17  1.373223 -0.311738 -0.239600  1.885741\n",
       "2024-07-24 -0.353525  0.441074  0.421915  0.654184\n",
       "2024-07-31 -0.853395  0.885870  0.043025 -1.127157\n",
       "2024-08-07  0.162860 -1.725355  0.221960 -2.154750\n",
       "2024-08-14  1.694130 -0.772624  1.209819  1.775411\n",
       "2024-08-21  1.193077 -0.262069  1.019931  0.427274\n",
       "2024-08-28  0.057546  0.000428  0.118091  0.804843\n",
       "2024-09-04 -1.484692  0.667987 -0.967418  0.102401\n",
       "2024-09-11  0.768149  0.770745 -0.705263 -2.846813\n",
       "2024-09-18 -0.263092 -0.494175  1.376432  0.588900\n",
       "2024-09-25  0.369298  0.176985 -0.689490  0.797388\n",
       "2024-10-02 -2.632919 -0.659903 -0.256411 -2.020109\n",
       "2024-10-09  1.479835  0.466515 -0.205536  0.553920\n",
       "2024-10-16  1.633551  0.509492  0.108244 -0.582268\n",
       "2024-10-23 -0.397094  0.612534  0.686614  0.332402\n",
       "2024-10-30 -0.518514  0.917608  0.894067  1.045562\n",
       "2024-11-06  0.551475 -1.985197  0.138779 -0.627598\n",
       "2024-11-13 -0.071041  1.388087 -0.117004  2.038035\n",
       "2024-11-20  0.527107 -0.151163 -0.613997  1.423264\n",
       "2024-11-27 -0.849819 -0.882823 -0.182265 -0.671328\n",
       "2024-12-04  1.436857 -1.105827  0.392903 -0.079533\n",
       "2024-12-11 -0.703727 -0.109560 -1.024582  0.602356\n",
       "2024-12-18  0.696860 -0.886104  0.008240 -0.567184\n",
       "2024-12-25  0.348233  2.129574  0.272796  0.001736"
      ]
     },
     "execution_count": 41,
     "metadata": {},
     "output_type": "execute_result"
    }
   ],
   "source": [
    "long_df.loc[\"2024\"]"
   ]
  },
  {
   "cell_type": "markdown",
   "id": "bf083692-5721-43de-aeaa-3a3cda110c21",
   "metadata": {},
   "source": [
    "<h4>Time Series with Duplicates</h4>"
   ]
  },
  {
   "cell_type": "code",
   "execution_count": 42,
   "id": "1008f95d-0aa8-4e8d-8bc4-b3c65a8cf0df",
   "metadata": {},
   "outputs": [],
   "source": [
    "dates = pd.DatetimeIndex([\"2000-01-01\",\n",
    "                          \"2000-01-02\",\n",
    "                          \"2000-01-02\",\n",
    "                          \"2000-01-02\",\n",
    "                          \"2000-01-03\"])"
   ]
  },
  {
   "cell_type": "code",
   "execution_count": 43,
   "id": "f609b8fb-a70e-4f83-95aa-163b55b590c6",
   "metadata": {},
   "outputs": [],
   "source": [
    "dup_ts = pd.Series(np.arange(5),\n",
    "                   index=dates)"
   ]
  },
  {
   "cell_type": "code",
   "execution_count": 44,
   "id": "b1ea308f-f17e-41dc-b411-42d6758c5c7b",
   "metadata": {},
   "outputs": [
    {
     "data": {
      "text/plain": [
       "2000-01-01    0\n",
       "2000-01-02    1\n",
       "2000-01-02    2\n",
       "2000-01-02    3\n",
       "2000-01-03    4\n",
       "dtype: int32"
      ]
     },
     "execution_count": 44,
     "metadata": {},
     "output_type": "execute_result"
    }
   ],
   "source": [
    "dup_ts"
   ]
  },
  {
   "cell_type": "code",
   "execution_count": 45,
   "id": "bfe62b36-33be-4bff-8576-2fcf6be5fead",
   "metadata": {},
   "outputs": [
    {
     "data": {
      "text/plain": [
       "4"
      ]
     },
     "execution_count": 45,
     "metadata": {},
     "output_type": "execute_result"
    }
   ],
   "source": [
    "dup_ts[\"2000-01-03\"]"
   ]
  },
  {
   "cell_type": "code",
   "execution_count": 46,
   "id": "1c9d71f3-a29f-4f2d-bc5d-5060bce8b6e7",
   "metadata": {},
   "outputs": [
    {
     "data": {
      "text/plain": [
       "2000-01-02    1\n",
       "2000-01-02    2\n",
       "2000-01-02    3\n",
       "dtype: int32"
      ]
     },
     "execution_count": 46,
     "metadata": {},
     "output_type": "execute_result"
    }
   ],
   "source": [
    "dup_ts[\"2000-01-02\"]"
   ]
  },
  {
   "cell_type": "code",
   "execution_count": 47,
   "id": "7fbfdd2f-d070-4a8d-8f99-a44316008693",
   "metadata": {},
   "outputs": [],
   "source": [
    "# Aggregating\n",
    "grouped = dup_ts.groupby(level=0)"
   ]
  },
  {
   "cell_type": "code",
   "execution_count": 48,
   "id": "fa184176-58ff-4e8e-8ca7-7b44bb718661",
   "metadata": {},
   "outputs": [
    {
     "data": {
      "text/plain": [
       "2000-01-01    0.0\n",
       "2000-01-02    2.0\n",
       "2000-01-03    4.0\n",
       "dtype: float64"
      ]
     },
     "execution_count": 48,
     "metadata": {},
     "output_type": "execute_result"
    }
   ],
   "source": [
    "grouped.mean()"
   ]
  },
  {
   "cell_type": "code",
   "execution_count": 49,
   "id": "69bd282f-9020-4027-a07e-dde825544cc4",
   "metadata": {},
   "outputs": [
    {
     "data": {
      "text/plain": [
       "2000-01-01    1\n",
       "2000-01-02    3\n",
       "2000-01-03    1\n",
       "dtype: int64"
      ]
     },
     "execution_count": 49,
     "metadata": {},
     "output_type": "execute_result"
    }
   ],
   "source": [
    "grouped.count()"
   ]
  },
  {
   "cell_type": "markdown",
   "id": "1b452b7b-1ceb-4a2f-a348-07f32d3fafc9",
   "metadata": {},
   "source": [
    "<h4>Date Ranges, Frequencies and Shifting</h4>"
   ]
  },
  {
   "cell_type": "code",
   "execution_count": 50,
   "id": "90499814-fb27-47f1-8cfb-b97bcbb481ab",
   "metadata": {},
   "outputs": [
    {
     "data": {
      "text/plain": [
       "2024-06-02   -0.806007\n",
       "2025-10-21   -0.859244\n",
       "2024-04-12    2.063961\n",
       "2023-10-05    0.475198\n",
       "2016-11-03   -0.044286\n",
       "2017-03-15   -1.106826\n",
       "2019-06-03    1.049382\n",
       "2020-05-08   -1.373954\n",
       "dtype: float64"
      ]
     },
     "execution_count": 50,
     "metadata": {},
     "output_type": "execute_result"
    }
   ],
   "source": [
    "ts"
   ]
  },
  {
   "cell_type": "code",
   "execution_count": 51,
   "id": "cbea68c4-f526-4a4b-9ba5-91198e2017ba",
   "metadata": {},
   "outputs": [],
   "source": [
    "resampler = ts.resample(\"D\")"
   ]
  },
  {
   "cell_type": "code",
   "execution_count": 52,
   "id": "72aa37dd-1ada-4bad-911d-0e299e9f68cb",
   "metadata": {},
   "outputs": [
    {
     "data": {
      "text/plain": [
       "<pandas.core.resample.DatetimeIndexResampler object at 0x000001A39A4590A0>"
      ]
     },
     "execution_count": 52,
     "metadata": {},
     "output_type": "execute_result"
    }
   ],
   "source": [
    "resampler"
   ]
  },
  {
   "cell_type": "markdown",
   "id": "7476964d-8b73-478d-a87e-1f51174b4fb8",
   "metadata": {},
   "source": [
    "<h4>Generating Date Ranges</h4>"
   ]
  },
  {
   "cell_type": "code",
   "execution_count": 53,
   "id": "f402415f-5b66-4f37-a0e8-a0e0328360b6",
   "metadata": {},
   "outputs": [],
   "source": [
    "index = pd.date_range(\"2024-05-01\",\n",
    "                      \"2024-12-31\")"
   ]
  },
  {
   "cell_type": "code",
   "execution_count": 54,
   "id": "d0d0dbee-e882-46c5-871e-52a3277453f3",
   "metadata": {},
   "outputs": [
    {
     "data": {
      "text/plain": [
       "DatetimeIndex(['2024-05-01', '2024-05-02', '2024-05-03', '2024-05-04',\n",
       "               '2024-05-05', '2024-05-06', '2024-05-07', '2024-05-08',\n",
       "               '2024-05-09', '2024-05-10',\n",
       "               ...\n",
       "               '2024-12-22', '2024-12-23', '2024-12-24', '2024-12-25',\n",
       "               '2024-12-26', '2024-12-27', '2024-12-28', '2024-12-29',\n",
       "               '2024-12-30', '2024-12-31'],\n",
       "              dtype='datetime64[ns]', length=245, freq='D')"
      ]
     },
     "execution_count": 54,
     "metadata": {},
     "output_type": "execute_result"
    }
   ],
   "source": [
    "index"
   ]
  },
  {
   "cell_type": "code",
   "execution_count": 55,
   "id": "0236d7cf-acdc-485d-8e8d-8c9f4f07fbd7",
   "metadata": {},
   "outputs": [
    {
     "data": {
      "text/plain": [
       "DatetimeIndex(['2024-05-25', '2024-05-26', '2024-05-27', '2024-05-28',\n",
       "               '2024-05-29', '2024-05-30', '2024-05-31', '2024-06-01',\n",
       "               '2024-06-02', '2024-06-03'],\n",
       "              dtype='datetime64[ns]', freq='D')"
      ]
     },
     "execution_count": 55,
     "metadata": {},
     "output_type": "execute_result"
    }
   ],
   "source": [
    "# using start date, end date\n",
    "pd.date_range(start=\"2024-05-25\", periods=10)"
   ]
  },
  {
   "cell_type": "code",
   "execution_count": 56,
   "id": "18157ffb-9b81-4a3d-9923-529457711fc5",
   "metadata": {},
   "outputs": [
    {
     "data": {
      "text/plain": [
       "DatetimeIndex(['2008-05-01 00:00:00+03:00', '2008-06-01 00:00:00+03:00',\n",
       "               '2008-07-01 00:00:00+03:00', '2008-08-01 00:00:00+03:00',\n",
       "               '2008-09-01 00:00:00+03:00', '2008-10-01 00:00:00+03:00',\n",
       "               '2008-11-01 00:00:00+03:00', '2008-12-01 00:00:00+03:00',\n",
       "               '2009-01-01 00:00:00+03:00', '2009-02-01 00:00:00+03:00',\n",
       "               ...\n",
       "               '2024-03-01 00:00:00+03:00', '2024-04-01 00:00:00+03:00',\n",
       "               '2024-05-01 00:00:00+03:00', '2024-06-01 00:00:00+03:00',\n",
       "               '2024-07-01 00:00:00+03:00', '2024-08-01 00:00:00+03:00',\n",
       "               '2024-09-01 00:00:00+03:00', '2024-10-01 00:00:00+03:00',\n",
       "               '2024-11-01 00:00:00+03:00', '2024-12-01 00:00:00+03:00'],\n",
       "              dtype='datetime64[ns, Africa/Kampala]', length=200, freq='MS')"
      ]
     },
     "execution_count": 56,
     "metadata": {},
     "output_type": "execute_result"
    }
   ],
   "source": [
    "# using end\n",
    "pd.date_range(end=\"2024-12-31\",\n",
    "              periods=200,\n",
    "             tz='Africa/Kampala',\n",
    "             freq=\"MS\",\n",
    "              inclusive=\"both\",\n",
    "             )"
   ]
  },
  {
   "cell_type": "code",
   "execution_count": 57,
   "id": "7aab281b-647e-43b4-b0af-627e0c8e1041",
   "metadata": {},
   "outputs": [],
   "source": [
    "import pytz"
   ]
  },
  {
   "cell_type": "code",
   "execution_count": 58,
   "id": "3ff47427-1f0a-4a86-b64f-4de368be540b",
   "metadata": {},
   "outputs": [
    {
     "data": {
      "text/plain": [
       "['Africa/Abidjan',\n",
       " 'Africa/Accra',\n",
       " 'Africa/Addis_Ababa',\n",
       " 'Africa/Algiers',\n",
       " 'Africa/Asmara',\n",
       " 'Africa/Asmera',\n",
       " 'Africa/Bamako',\n",
       " 'Africa/Bangui',\n",
       " 'Africa/Banjul',\n",
       " 'Africa/Bissau',\n",
       " 'Africa/Blantyre',\n",
       " 'Africa/Brazzaville',\n",
       " 'Africa/Bujumbura',\n",
       " 'Africa/Cairo',\n",
       " 'Africa/Casablanca',\n",
       " 'Africa/Ceuta',\n",
       " 'Africa/Conakry',\n",
       " 'Africa/Dakar',\n",
       " 'Africa/Dar_es_Salaam',\n",
       " 'Africa/Djibouti',\n",
       " 'Africa/Douala',\n",
       " 'Africa/El_Aaiun',\n",
       " 'Africa/Freetown',\n",
       " 'Africa/Gaborone',\n",
       " 'Africa/Harare',\n",
       " 'Africa/Johannesburg',\n",
       " 'Africa/Juba',\n",
       " 'Africa/Kampala',\n",
       " 'Africa/Khartoum',\n",
       " 'Africa/Kigali',\n",
       " 'Africa/Kinshasa',\n",
       " 'Africa/Lagos',\n",
       " 'Africa/Libreville',\n",
       " 'Africa/Lome',\n",
       " 'Africa/Luanda',\n",
       " 'Africa/Lubumbashi',\n",
       " 'Africa/Lusaka',\n",
       " 'Africa/Malabo',\n",
       " 'Africa/Maputo',\n",
       " 'Africa/Maseru',\n",
       " 'Africa/Mbabane',\n",
       " 'Africa/Mogadishu',\n",
       " 'Africa/Monrovia',\n",
       " 'Africa/Nairobi',\n",
       " 'Africa/Ndjamena',\n",
       " 'Africa/Niamey',\n",
       " 'Africa/Nouakchott',\n",
       " 'Africa/Ouagadougou',\n",
       " 'Africa/Porto-Novo',\n",
       " 'Africa/Sao_Tome']"
      ]
     },
     "execution_count": 58,
     "metadata": {},
     "output_type": "execute_result"
    }
   ],
   "source": [
    "# time zone samples\n",
    "pytz.all_timezones[:50]"
   ]
  },
  {
   "cell_type": "code",
   "execution_count": 59,
   "id": "7384db93-b59b-4445-81c6-2178a9af6b5e",
   "metadata": {},
   "outputs": [
    {
     "data": {
      "text/plain": [
       "DatetimeIndex(['2024-01-01 00:00:00+03:00', '2024-01-02 00:00:00+03:00',\n",
       "               '2024-01-03 00:00:00+03:00', '2024-01-04 00:00:00+03:00',\n",
       "               '2024-01-05 00:00:00+03:00', '2024-01-06 00:00:00+03:00',\n",
       "               '2024-01-07 00:00:00+03:00', '2024-01-08 00:00:00+03:00',\n",
       "               '2024-01-09 00:00:00+03:00', '2024-01-10 00:00:00+03:00',\n",
       "               ...\n",
       "               '2025-12-22 00:00:00+03:00', '2025-12-23 00:00:00+03:00',\n",
       "               '2025-12-24 00:00:00+03:00', '2025-12-25 00:00:00+03:00',\n",
       "               '2025-12-26 00:00:00+03:00', '2025-12-27 00:00:00+03:00',\n",
       "               '2025-12-28 00:00:00+03:00', '2025-12-29 00:00:00+03:00',\n",
       "               '2025-12-30 00:00:00+03:00', '2025-12-31 00:00:00+03:00'],\n",
       "              dtype='datetime64[ns, Africa/Kampala]', length=731, freq='D')"
      ]
     },
     "execution_count": 59,
     "metadata": {},
     "output_type": "execute_result"
    }
   ],
   "source": [
    "# using localize\n",
    "pd.date_range(\n",
    "    start=pd.to_datetime(\"1/1/2024\", dayfirst=True).tz_localize(\"Africa/Kampala\"),\n",
    "    end=pd.to_datetime(\"31/12/2025\", dayfirst=True).tz_localize(\"Africa/Kampala\"),\n",
    "    )"
   ]
  },
  {
   "cell_type": "code",
   "execution_count": 60,
   "id": "89c6375e-c312-4a77-a6f9-8c101e5d04dc",
   "metadata": {},
   "outputs": [
    {
     "data": {
      "text/plain": [
       "DatetimeIndex(['2024-01-31', '2024-04-30', '2024-07-31', '2024-10-31',\n",
       "               '2025-01-31'],\n",
       "              dtype='datetime64[ns]', freq='3ME')"
      ]
     },
     "execution_count": 60,
     "metadata": {},
     "output_type": "execute_result"
    }
   ],
   "source": [
    "pd.date_range(start=\"1/1/2024\",\n",
    "              periods=5,\n",
    "              freq=\"3ME\"\n",
    "             )"
   ]
  },
  {
   "cell_type": "code",
   "execution_count": 61,
   "id": "b4b425f0-15f5-4c75-8f9d-815098004b1f",
   "metadata": {},
   "outputs": [
    {
     "data": {
      "text/plain": [
       "DatetimeIndex(['2017-01-01', '2117-01-01', '2217-01-01', '2317-01-01',\n",
       "               '2417-01-01', '2517-01-01', '2617-01-01', '2717-01-01',\n",
       "               '2817-01-01', '2917-01-01'],\n",
       "              dtype='datetime64[s]', freq='100YS-JAN')"
      ]
     },
     "execution_count": 61,
     "metadata": {},
     "output_type": "execute_result"
    }
   ],
   "source": [
    "# specifing unit\n",
    "pd.date_range(start=\"2017-01-01\",\n",
    "              periods=10,\n",
    "              freq=\"100YS\",\n",
    "              unit='s'\n",
    "             )"
   ]
  },
  {
   "cell_type": "code",
   "execution_count": 62,
   "id": "da969b57-d071-4a25-bae2-98364c59e8d9",
   "metadata": {},
   "outputs": [
    {
     "data": {
      "text/plain": [
       "DatetimeIndex(['2024-05-02', '2024-05-03', '2024-05-04', '2024-05-05',\n",
       "               '2024-05-06'],\n",
       "              dtype='datetime64[ns]', freq='D')"
      ]
     },
     "execution_count": 62,
     "metadata": {},
     "output_type": "execute_result"
    }
   ],
   "source": [
    "# Normalizing datetime\n",
    "pd.date_range(\"2024-05-02 12:54:21\",\n",
    "              periods=5,\n",
    "              normalize=True\n",
    "             )"
   ]
  },
  {
   "cell_type": "markdown",
   "id": "72744c2b-7e51-4c40-8803-e6be8c64ad02",
   "metadata": {},
   "source": [
    "<h4>Frequencies and Date Offsets</h4>"
   ]
  },
  {
   "cell_type": "code",
   "execution_count": 63,
   "id": "4a25d77f-7d0a-47c3-82c9-5ed91c550e8a",
   "metadata": {},
   "outputs": [
    {
     "data": {
      "text/plain": [
       "DatetimeIndex(['2025-02-01 00:00:00', '2025-02-01 04:00:00',\n",
       "               '2025-02-01 08:00:00', '2025-02-01 12:00:00',\n",
       "               '2025-02-01 16:00:00', '2025-02-01 20:00:00',\n",
       "               '2025-02-02 00:00:00', '2025-02-02 04:00:00',\n",
       "               '2025-02-02 08:00:00', '2025-02-02 12:00:00',\n",
       "               ...\n",
       "               '2025-05-01 08:00:00', '2025-05-01 12:00:00',\n",
       "               '2025-05-01 16:00:00', '2025-05-01 20:00:00',\n",
       "               '2025-05-02 00:00:00', '2025-05-02 04:00:00',\n",
       "               '2025-05-02 08:00:00', '2025-05-02 12:00:00',\n",
       "               '2025-05-02 16:00:00', '2025-05-02 20:00:00'],\n",
       "              dtype='datetime64[ns]', length=546, freq='4h')"
      ]
     },
     "execution_count": 63,
     "metadata": {},
     "output_type": "execute_result"
    }
   ],
   "source": [
    "pd.date_range(\"2025-02-01\",\n",
    "              \"2025-05-02 23:03:02\",\n",
    "              freq=\"4h\"\n",
    "             )"
   ]
  },
  {
   "cell_type": "code",
   "execution_count": 64,
   "id": "274d23d0-6c27-49b6-98ea-afa4a76072e4",
   "metadata": {},
   "outputs": [
    {
     "data": {
      "text/plain": [
       "DatetimeIndex(['2000-01-01 00:00:00', '2000-01-01 01:30:03',\n",
       "               '2000-01-01 03:00:06', '2000-01-01 04:30:09',\n",
       "               '2000-01-01 06:00:12', '2000-01-01 07:30:15',\n",
       "               '2000-01-01 09:00:18', '2000-01-01 10:30:21',\n",
       "               '2000-01-01 12:00:24', '2000-01-01 13:30:27'],\n",
       "              dtype='datetime64[ns]', freq='5403s')"
      ]
     },
     "execution_count": 64,
     "metadata": {},
     "output_type": "execute_result"
    }
   ],
   "source": [
    "pd.date_range(\n",
    "    \"2000-01-01\",\n",
    "    periods=10,\n",
    "    freq=\"1h30min3s\",\n",
    ")"
   ]
  },
  {
   "cell_type": "markdown",
   "id": "f92db462-b404-432d-a9fa-73ab00298c9a",
   "metadata": {},
   "source": [
    "<h5>Week of month</h5>"
   ]
  },
  {
   "cell_type": "code",
   "execution_count": 65,
   "id": "5fe68bc9-e617-46c2-a1f3-ac556925640d",
   "metadata": {},
   "outputs": [],
   "source": [
    "monthly_meetups = pd.date_range(\n",
    "    \"2024-06-01\",\n",
    "    \"2024-12-31\",\n",
    "    freq=\"WOM-3SAT\"\n",
    ")"
   ]
  },
  {
   "cell_type": "code",
   "execution_count": 66,
   "id": "31ea4639-db69-42c2-881e-bb338e0a6fff",
   "metadata": {},
   "outputs": [
    {
     "data": {
      "text/plain": [
       "DatetimeIndex(['2024-06-15', '2024-07-20', '2024-08-17', '2024-09-21',\n",
       "               '2024-10-19', '2024-11-16', '2024-12-21'],\n",
       "              dtype='datetime64[ns]', freq='WOM-3SAT')"
      ]
     },
     "execution_count": 66,
     "metadata": {},
     "output_type": "execute_result"
    }
   ],
   "source": [
    "monthly_meetups"
   ]
  },
  {
   "cell_type": "markdown",
   "id": "b125b3bf-a1f4-4e49-8210-c685b09058c6",
   "metadata": {},
   "source": [
    "<h4>Shifting (Leading and Lagging) Data</h4>"
   ]
  },
  {
   "cell_type": "code",
   "execution_count": 67,
   "id": "afe3c59d-ca59-4d2d-a050-202732485ac3",
   "metadata": {},
   "outputs": [],
   "source": [
    "ts = pd.Series(\n",
    "    np.random.standard_normal(10),\n",
    "    index=pd.date_range(start=\"2030-01-01\",\n",
    "                        periods=10,\n",
    "                        freq=\"ME\",\n",
    "                       )\n",
    ")"
   ]
  },
  {
   "cell_type": "code",
   "execution_count": 68,
   "id": "7baef561-d67d-4585-8c66-0a4bb4d81ff3",
   "metadata": {},
   "outputs": [
    {
     "data": {
      "text/plain": [
       "-0.07352776721612128"
      ]
     },
     "execution_count": 68,
     "metadata": {},
     "output_type": "execute_result"
    }
   ],
   "source": [
    "(-1.491246--1.609596)/(-1.609596)"
   ]
  },
  {
   "cell_type": "code",
   "execution_count": 69,
   "id": "3dc4b744-adb0-4067-9cf2-86dc9506a8c3",
   "metadata": {},
   "outputs": [
    {
     "data": {
      "text/plain": [
       "2030-01-31   -0.500819\n",
       "2030-02-28    0.154942\n",
       "2030-03-31    1.685348\n",
       "2030-04-30    0.133014\n",
       "2030-05-31   -2.922808\n",
       "2030-06-30   -0.005664\n",
       "2030-07-31   -0.049653\n",
       "2030-08-31   -2.135810\n",
       "2030-09-30   -0.488019\n",
       "2030-10-31   -0.458049\n",
       "Freq: ME, dtype: float64"
      ]
     },
     "execution_count": 69,
     "metadata": {},
     "output_type": "execute_result"
    }
   ],
   "source": [
    "ts"
   ]
  },
  {
   "cell_type": "code",
   "execution_count": 70,
   "id": "78212758-07ce-423f-abfc-42cea8fd1736",
   "metadata": {},
   "outputs": [
    {
     "data": {
      "text/plain": [
       "2030-01-31         NaN\n",
       "2030-02-28         NaN\n",
       "2030-03-31   -0.500819\n",
       "2030-04-30    0.154942\n",
       "2030-05-31    1.685348\n",
       "2030-06-30    0.133014\n",
       "2030-07-31   -2.922808\n",
       "2030-08-31   -0.005664\n",
       "2030-09-30   -0.049653\n",
       "2030-10-31   -2.135810\n",
       "Freq: ME, dtype: float64"
      ]
     },
     "execution_count": 70,
     "metadata": {},
     "output_type": "execute_result"
    }
   ],
   "source": [
    "ts.shift(2)"
   ]
  },
  {
   "cell_type": "code",
   "execution_count": 71,
   "id": "97d45d78-61b1-4fdc-a8df-05dbba9fd9f0",
   "metadata": {},
   "outputs": [
    {
     "data": {
      "text/plain": [
       "2030-01-31    1.685348\n",
       "2030-02-28    0.133014\n",
       "2030-03-31   -2.922808\n",
       "2030-04-30   -0.005664\n",
       "2030-05-31   -0.049653\n",
       "2030-06-30   -2.135810\n",
       "2030-07-31   -0.488019\n",
       "2030-08-31   -0.458049\n",
       "2030-09-30         NaN\n",
       "2030-10-31         NaN\n",
       "Freq: ME, dtype: float64"
      ]
     },
     "execution_count": 71,
     "metadata": {},
     "output_type": "execute_result"
    }
   ],
   "source": [
    "ts.shift(-2)"
   ]
  },
  {
   "cell_type": "code",
   "execution_count": 72,
   "id": "7d3c70ff-60a6-4d56-a4d8-fc3653e1b986",
   "metadata": {},
   "outputs": [
    {
     "data": {
      "text/plain": [
       "2030-01-31           NaN\n",
       "2030-02-28      4.232308\n",
       "2030-03-31      0.908065\n",
       "2030-04-30    -11.670444\n",
       "2030-05-31      1.045509\n",
       "2030-06-30   -515.052294\n",
       "2030-07-31      0.885932\n",
       "2030-08-31      0.976752\n",
       "2030-09-30     -3.376489\n",
       "2030-10-31     -0.065429\n",
       "Freq: ME, dtype: float64"
      ]
     },
     "execution_count": 72,
     "metadata": {},
     "output_type": "execute_result"
    }
   ],
   "source": [
    "# Percentage change\n",
    "(ts-ts.shift(1))/ts"
   ]
  },
  {
   "cell_type": "code",
   "execution_count": 73,
   "id": "97e74b6c-0ce1-4dff-b808-bf763d36ee9c",
   "metadata": {},
   "outputs": [
    {
     "data": {
      "text/plain": [
       "2030-03-31   -0.500819\n",
       "2030-04-30    0.154942\n",
       "2030-05-31    1.685348\n",
       "2030-06-30    0.133014\n",
       "2030-07-31   -2.922808\n",
       "2030-08-31   -0.005664\n",
       "2030-09-30   -0.049653\n",
       "2030-10-31   -2.135810\n",
       "2030-11-30   -0.488019\n",
       "2030-12-31   -0.458049\n",
       "Freq: ME, dtype: float64"
      ]
     },
     "execution_count": 73,
     "metadata": {},
     "output_type": "execute_result"
    }
   ],
   "source": [
    "# Shifting index two\n",
    "ts.shift(2,\n",
    "         freq=\"ME\",\n",
    "        )"
   ]
  },
  {
   "cell_type": "code",
   "execution_count": 74,
   "id": "623ca39c-3e23-4475-be69-6397add502ab",
   "metadata": {},
   "outputs": [
    {
     "data": {
      "text/plain": [
       "2030-04-30   -0.500819\n",
       "2030-05-31    0.154942\n",
       "2030-06-30    1.685348\n",
       "2030-07-31    0.133014\n",
       "2030-08-31   -2.922808\n",
       "2030-09-30   -0.005664\n",
       "2030-10-31   -0.049653\n",
       "2030-11-30   -2.135810\n",
       "2030-12-31   -0.488019\n",
       "2031-01-31   -0.458049\n",
       "Freq: ME, dtype: float64"
      ]
     },
     "execution_count": 74,
     "metadata": {},
     "output_type": "execute_result"
    }
   ],
   "source": [
    "ts.shift(\n",
    "    3,\n",
    "    freq=\"ME\",\n",
    ")"
   ]
  },
  {
   "cell_type": "code",
   "execution_count": 75,
   "id": "eeabb047-b36a-446f-b5cc-5147c78a0c70",
   "metadata": {},
   "outputs": [
    {
     "data": {
      "text/plain": [
       "2030-02-03   -0.500819\n",
       "2030-03-03    0.154942\n",
       "2030-04-03    1.685348\n",
       "2030-05-03    0.133014\n",
       "2030-06-03   -2.922808\n",
       "2030-07-03   -0.005664\n",
       "2030-08-03   -0.049653\n",
       "2030-09-03   -2.135810\n",
       "2030-10-03   -0.488019\n",
       "2030-11-03   -0.458049\n",
       "dtype: float64"
      ]
     },
     "execution_count": 75,
     "metadata": {},
     "output_type": "execute_result"
    }
   ],
   "source": [
    "ts.shift(\n",
    "    3,\n",
    "    freq=\"D\",\n",
    ")"
   ]
  },
  {
   "cell_type": "code",
   "execution_count": 76,
   "id": "4b14180b-4d71-451e-96fa-c167e66bc6e8",
   "metadata": {},
   "outputs": [
    {
     "data": {
      "text/plain": [
       "2030-01-31 01:30:00   -0.500819\n",
       "2030-02-28 01:30:00    0.154942\n",
       "2030-03-31 01:30:00    1.685348\n",
       "2030-04-30 01:30:00    0.133014\n",
       "2030-05-31 01:30:00   -2.922808\n",
       "2030-06-30 01:30:00   -0.005664\n",
       "2030-07-31 01:30:00   -0.049653\n",
       "2030-08-31 01:30:00   -2.135810\n",
       "2030-09-30 01:30:00   -0.488019\n",
       "2030-10-31 01:30:00   -0.458049\n",
       "dtype: float64"
      ]
     },
     "execution_count": 76,
     "metadata": {},
     "output_type": "execute_result"
    }
   ],
   "source": [
    "ts.shift(\n",
    "    1,\n",
    "    freq=\"90min\",\n",
    ")"
   ]
  },
  {
   "cell_type": "code",
   "execution_count": 77,
   "id": "1f286a6a-1023-47bb-b436-4b3b03060553",
   "metadata": {},
   "outputs": [],
   "source": [
    "from pandas.tseries.offsets import Day, MonthEnd, Hour"
   ]
  },
  {
   "cell_type": "code",
   "execution_count": 78,
   "id": "9f32197c-d047-4449-8604-7b3f2fdfc0f1",
   "metadata": {},
   "outputs": [],
   "source": [
    "# Using rollback and rollforward\n",
    "now = datetime(2024,5,26)"
   ]
  },
  {
   "cell_type": "code",
   "execution_count": 79,
   "id": "112e6bb5-1859-4420-8fab-6688f32eb433",
   "metadata": {},
   "outputs": [
    {
     "data": {
      "text/plain": [
       "datetime.datetime(2024, 5, 26, 0, 0)"
      ]
     },
     "execution_count": 79,
     "metadata": {},
     "output_type": "execute_result"
    }
   ],
   "source": [
    "now"
   ]
  },
  {
   "cell_type": "code",
   "execution_count": 80,
   "id": "a6fe263d-044e-4152-b4c7-e69387f511f9",
   "metadata": {},
   "outputs": [
    {
     "data": {
      "text/plain": [
       "Timestamp('2024-05-31 00:00:00')"
      ]
     },
     "execution_count": 80,
     "metadata": {},
     "output_type": "execute_result"
    }
   ],
   "source": [
    "# Shifting to the end of month\n",
    "now + MonthEnd()"
   ]
  },
  {
   "cell_type": "code",
   "execution_count": 81,
   "id": "4dc84562-d850-44a4-912b-8fd6857c4b87",
   "metadata": {},
   "outputs": [
    {
     "data": {
      "text/plain": [
       "Timestamp('2024-07-31 00:00:00')"
      ]
     },
     "execution_count": 81,
     "metadata": {},
     "output_type": "execute_result"
    }
   ],
   "source": [
    "now + MonthEnd(3)"
   ]
  },
  {
   "cell_type": "code",
   "execution_count": 82,
   "id": "ee95e786-52e9-4876-ad68-b7ba158e3fa1",
   "metadata": {},
   "outputs": [],
   "source": [
    "offset = MonthEnd()"
   ]
  },
  {
   "cell_type": "code",
   "execution_count": 83,
   "id": "ead9bbca-50fb-431e-94b7-a1f20dbf3ef6",
   "metadata": {},
   "outputs": [
    {
     "data": {
      "text/plain": [
       "Timestamp('2024-04-30 00:00:00')"
      ]
     },
     "execution_count": 83,
     "metadata": {},
     "output_type": "execute_result"
    }
   ],
   "source": [
    "offset.rollback(now)"
   ]
  },
  {
   "cell_type": "code",
   "execution_count": 84,
   "id": "83e9db0a-f80c-4a52-9ee8-67dd1712eab9",
   "metadata": {},
   "outputs": [
    {
     "data": {
      "text/plain": [
       "Timestamp('2024-05-31 00:00:00')"
      ]
     },
     "execution_count": 84,
     "metadata": {},
     "output_type": "execute_result"
    }
   ],
   "source": [
    "offset.rollforward(now)"
   ]
  },
  {
   "cell_type": "code",
   "execution_count": 85,
   "id": "5c4f52a6-da23-4956-866f-9c498e3400be",
   "metadata": {},
   "outputs": [
    {
     "data": {
      "text/plain": [
       "datetime.datetime(2024, 5, 26, 0, 0)"
      ]
     },
     "execution_count": 85,
     "metadata": {},
     "output_type": "execute_result"
    }
   ],
   "source": [
    "now"
   ]
  },
  {
   "cell_type": "code",
   "execution_count": 86,
   "id": "412903d3-454c-4d5c-adae-c09fc0aab872",
   "metadata": {},
   "outputs": [],
   "source": [
    "# using offset creatively"
   ]
  },
  {
   "cell_type": "code",
   "execution_count": 87,
   "id": "384936ab-a2d1-43b3-a47d-b78880e87a30",
   "metadata": {},
   "outputs": [
    {
     "data": {
      "text/plain": [
       "2030-01-31   -0.500819\n",
       "2030-02-28    0.154942\n",
       "2030-03-31    1.685348\n",
       "2030-04-30    0.133014\n",
       "2030-05-31   -2.922808\n",
       "2030-06-30   -0.005664\n",
       "2030-07-31   -0.049653\n",
       "2030-08-31   -2.135810\n",
       "2030-09-30   -0.488019\n",
       "2030-10-31   -0.458049\n",
       "dtype: float64"
      ]
     },
     "execution_count": 87,
     "metadata": {},
     "output_type": "execute_result"
    }
   ],
   "source": [
    "ts.groupby(MonthEnd().rollforward).mean()"
   ]
  },
  {
   "cell_type": "code",
   "execution_count": 88,
   "id": "8ee05172-0ac5-491e-84b4-fac67acf1ec8",
   "metadata": {},
   "outputs": [
    {
     "data": {
      "text/plain": [
       "2030-01-31   -0.500819\n",
       "2030-02-28    0.154942\n",
       "2030-03-31    1.685348\n",
       "2030-04-30    0.133014\n",
       "2030-05-31   -2.922808\n",
       "2030-06-30   -0.005664\n",
       "2030-07-31   -0.049653\n",
       "2030-08-31   -2.135810\n",
       "2030-09-30   -0.488019\n",
       "2030-10-31   -0.458049\n",
       "Freq: ME, dtype: float64"
      ]
     },
     "execution_count": 88,
     "metadata": {},
     "output_type": "execute_result"
    }
   ],
   "source": [
    "# Using resample\n",
    "ts.resample(\"ME\").mean()"
   ]
  },
  {
   "cell_type": "markdown",
   "id": "71b4a1e6-5858-4acb-8cb5-559483db1e89",
   "metadata": {},
   "source": [
    "<h4>Time Zone Localization and Conversion</h4>"
   ]
  },
  {
   "cell_type": "code",
   "execution_count": 89,
   "id": "06e9b639-0ba5-4567-a1e9-4e73fc26d5cf",
   "metadata": {},
   "outputs": [
    {
     "data": {
      "text/plain": [
       "['Africa/Abidjan',\n",
       " 'Africa/Accra',\n",
       " 'Africa/Addis_Ababa',\n",
       " 'Africa/Algiers',\n",
       " 'Africa/Asmara']"
      ]
     },
     "execution_count": 89,
     "metadata": {},
     "output_type": "execute_result"
    }
   ],
   "source": [
    "pytz.common_timezones[:5]"
   ]
  },
  {
   "cell_type": "code",
   "execution_count": 90,
   "id": "f51fe132-90d9-4237-958f-fa4b37e81f3a",
   "metadata": {},
   "outputs": [],
   "source": [
    "# Timezone objects\n",
    "ugandaTime = pytz.timezone(\"Africa/Kampala\")"
   ]
  },
  {
   "cell_type": "code",
   "execution_count": 91,
   "id": "62ea6b1a-0e3c-4131-b940-9ddf70219ab9",
   "metadata": {},
   "outputs": [
    {
     "data": {
      "text/plain": [
       "<DstTzInfo 'Africa/Kampala' LMT+2:27:00 STD>"
      ]
     },
     "execution_count": 91,
     "metadata": {},
     "output_type": "execute_result"
    }
   ],
   "source": [
    "ugandaTime"
   ]
  },
  {
   "cell_type": "code",
   "execution_count": 92,
   "id": "8fddccd8-d167-4b2a-ae8b-81bcfdc481e6",
   "metadata": {},
   "outputs": [],
   "source": [
    "dates = pd.date_range(\n",
    "    \"2024-05-26 19:23\",\n",
    "    periods=10,\n",
    "    tz=\"Africa/Kampala\",\n",
    ")"
   ]
  },
  {
   "cell_type": "code",
   "execution_count": 93,
   "id": "89f90a6c-2185-4304-bba4-34793b12f40d",
   "metadata": {},
   "outputs": [
    {
     "data": {
      "text/plain": [
       "DatetimeIndex(['2024-05-26 19:23:00+03:00', '2024-05-27 19:23:00+03:00',\n",
       "               '2024-05-28 19:23:00+03:00', '2024-05-29 19:23:00+03:00',\n",
       "               '2024-05-30 19:23:00+03:00', '2024-05-31 19:23:00+03:00',\n",
       "               '2024-06-01 19:23:00+03:00', '2024-06-02 19:23:00+03:00',\n",
       "               '2024-06-03 19:23:00+03:00', '2024-06-04 19:23:00+03:00'],\n",
       "              dtype='datetime64[ns, Africa/Kampala]', freq='D')"
      ]
     },
     "execution_count": 93,
     "metadata": {},
     "output_type": "execute_result"
    }
   ],
   "source": [
    "dates"
   ]
  },
  {
   "cell_type": "code",
   "execution_count": 94,
   "id": "42e81793-1b86-4d63-98c9-e6d96cec1769",
   "metadata": {},
   "outputs": [],
   "source": [
    "# time series are time zone naive \n",
    "ts = pd.Series(\n",
    "    np.random.standard_normal(len(dates)),\n",
    "    index=dates,\n",
    ")"
   ]
  },
  {
   "cell_type": "code",
   "execution_count": 95,
   "id": "879d6ab0-fb94-417d-885d-700fd301ea03",
   "metadata": {},
   "outputs": [
    {
     "data": {
      "text/plain": [
       "2024-05-26 19:23:00+03:00   -0.213610\n",
       "2024-05-27 19:23:00+03:00    0.087510\n",
       "2024-05-28 19:23:00+03:00   -1.273215\n",
       "2024-05-29 19:23:00+03:00    0.629271\n",
       "2024-05-30 19:23:00+03:00    0.026809\n",
       "2024-05-31 19:23:00+03:00   -1.437645\n",
       "2024-06-01 19:23:00+03:00    1.792666\n",
       "2024-06-02 19:23:00+03:00   -2.202477\n",
       "2024-06-03 19:23:00+03:00   -1.250108\n",
       "2024-06-04 19:23:00+03:00    0.702576\n",
       "Freq: D, dtype: float64"
      ]
     },
     "execution_count": 95,
     "metadata": {},
     "output_type": "execute_result"
    }
   ],
   "source": [
    "ts"
   ]
  },
  {
   "cell_type": "code",
   "execution_count": 96,
   "id": "04de8ed0-55aa-4d0d-ab24-e053d41da90d",
   "metadata": {},
   "outputs": [
    {
     "name": "stdout",
     "output_type": "stream",
     "text": [
      "Africa/Kampala\n"
     ]
    }
   ],
   "source": [
    "# printing time zone\n",
    "print(ts.index.tz)"
   ]
  },
  {
   "cell_type": "code",
   "execution_count": 97,
   "id": "6bf17f15-facb-4930-9521-7080fd9c90f4",
   "metadata": {},
   "outputs": [
    {
     "data": {
      "text/plain": [
       "DatetimeIndex(['2024-05-26 19:23:00+03:00', '2024-05-27 19:23:00+03:00',\n",
       "               '2024-05-28 19:23:00+03:00', '2024-05-29 19:23:00+03:00',\n",
       "               '2024-05-30 19:23:00+03:00', '2024-05-31 19:23:00+03:00',\n",
       "               '2024-06-01 19:23:00+03:00', '2024-06-02 19:23:00+03:00',\n",
       "               '2024-06-03 19:23:00+03:00', '2024-06-04 19:23:00+03:00'],\n",
       "              dtype='datetime64[ns, Africa/Kampala]', freq='D')"
      ]
     },
     "execution_count": 97,
     "metadata": {},
     "output_type": "execute_result"
    }
   ],
   "source": [
    "# Generating datetime ranges with a tz attribute\n",
    "dates = pd.date_range(\n",
    "    \"2024-05-26 19:23\",\n",
    "    periods=10,\n",
    "    tz=\"Africa/Kampala\",\n",
    ")\n",
    "dates"
   ]
  },
  {
   "cell_type": "code",
   "execution_count": 98,
   "id": "6099c895-f740-4a5c-a741-ff8d988be329",
   "metadata": {},
   "outputs": [
    {
     "data": {
      "text/plain": [
       "2024-05-26 16:23:00+00:00   -0.213610\n",
       "2024-05-27 16:23:00+00:00    0.087510\n",
       "2024-05-28 16:23:00+00:00   -1.273215\n",
       "2024-05-29 16:23:00+00:00    0.629271\n",
       "2024-05-30 16:23:00+00:00    0.026809\n",
       "2024-05-31 16:23:00+00:00   -1.437645\n",
       "2024-06-01 16:23:00+00:00    1.792666\n",
       "2024-06-02 16:23:00+00:00   -2.202477\n",
       "2024-06-03 16:23:00+00:00   -1.250108\n",
       "2024-06-04 16:23:00+00:00    0.702576\n",
       "Freq: D, dtype: float64"
      ]
     },
     "execution_count": 98,
     "metadata": {},
     "output_type": "execute_result"
    }
   ],
   "source": [
    "# conversion\n",
    "ts_utc = ts.tz_convert(\"utc\")\n",
    "ts_utc"
   ]
  },
  {
   "cell_type": "code",
   "execution_count": 99,
   "id": "5cb064aa-9e8f-48f5-81e4-180055b74396",
   "metadata": {},
   "outputs": [
    {
     "data": {
      "text/plain": [
       "2024-05-26 19:23:00+03:00   -0.213610\n",
       "2024-05-27 19:23:00+03:00    0.087510\n",
       "2024-05-28 19:23:00+03:00   -1.273215\n",
       "2024-05-29 19:23:00+03:00    0.629271\n",
       "2024-05-30 19:23:00+03:00    0.026809\n",
       "2024-05-31 19:23:00+03:00   -1.437645\n",
       "2024-06-01 19:23:00+03:00    1.792666\n",
       "2024-06-02 19:23:00+03:00   -2.202477\n",
       "2024-06-03 19:23:00+03:00   -1.250108\n",
       "2024-06-04 19:23:00+03:00    0.702576\n",
       "Freq: D, dtype: float64"
      ]
     },
     "execution_count": 99,
     "metadata": {},
     "output_type": "execute_result"
    }
   ],
   "source": [
    "ts_nairobi = ts_utc.tz_convert(\"Africa/Nairobi\")\n",
    "ts_nairobi"
   ]
  },
  {
   "cell_type": "code",
   "execution_count": 100,
   "id": "9f199ecd-20ff-4cfe-bd12-9440ed6473e6",
   "metadata": {},
   "outputs": [
    {
     "data": {
      "text/plain": [
       "2024-05-26 19:23:00+03:00   -0.213610\n",
       "2024-05-27 19:23:00+03:00    0.087510\n",
       "2024-05-28 19:23:00+03:00   -1.273215\n",
       "2024-05-29 19:23:00+03:00    0.629271\n",
       "2024-05-30 19:23:00+03:00    0.026809\n",
       "2024-05-31 19:23:00+03:00   -1.437645\n",
       "2024-06-01 19:23:00+03:00    1.792666\n",
       "2024-06-02 19:23:00+03:00   -2.202477\n",
       "2024-06-03 19:23:00+03:00   -1.250108\n",
       "2024-06-04 19:23:00+03:00    0.702576\n",
       "Freq: D, dtype: float64"
      ]
     },
     "execution_count": 100,
     "metadata": {},
     "output_type": "execute_result"
    }
   ],
   "source": [
    "ts_cairo = ts_nairobi.tz_convert(\"Africa/Cairo\")\n",
    "ts_cairo"
   ]
  },
  {
   "cell_type": "code",
   "execution_count": 101,
   "id": "2fe9bc9e-63dc-4332-89b2-8886c0589c88",
   "metadata": {},
   "outputs": [
    {
     "data": {
      "text/plain": [
       "2024-05-26 19:23:00+03:00   -0.213610\n",
       "2024-05-27 19:23:00+03:00    0.087510\n",
       "2024-05-28 19:23:00+03:00   -1.273215\n",
       "2024-05-29 19:23:00+03:00    0.629271\n",
       "2024-05-30 19:23:00+03:00    0.026809\n",
       "2024-05-31 19:23:00+03:00   -1.437645\n",
       "2024-06-01 19:23:00+03:00    1.792666\n",
       "2024-06-02 19:23:00+03:00   -2.202477\n",
       "2024-06-03 19:23:00+03:00   -1.250108\n",
       "2024-06-04 19:23:00+03:00    0.702576\n",
       "Freq: D, dtype: float64"
      ]
     },
     "execution_count": 101,
     "metadata": {},
     "output_type": "execute_result"
    }
   ],
   "source": [
    "ts_cairo.tz_convert(\"Africa/Kampala\")"
   ]
  },
  {
   "cell_type": "markdown",
   "id": "9f1e4ce3-0fda-42b4-afb2-2b9a3ccbab5c",
   "metadata": {},
   "source": [
    "<h4>Operations with Time Zone-Aware Timestamp Objects</h4>"
   ]
  },
  {
   "cell_type": "code",
   "execution_count": 102,
   "id": "de15f266-1d0e-4f1d-af3b-11c9ceb60754",
   "metadata": {},
   "outputs": [
    {
     "data": {
      "text/plain": [
       "Timestamp('2024-05-27 17:32:04')"
      ]
     },
     "execution_count": 102,
     "metadata": {},
     "output_type": "execute_result"
    }
   ],
   "source": [
    "stamp = pd.Timestamp(\"2024-05-27 17:32:04\")\n",
    "stamp"
   ]
  },
  {
   "cell_type": "code",
   "execution_count": 103,
   "id": "912eb8fc-8f36-4a40-b9a8-06951ad24432",
   "metadata": {},
   "outputs": [
    {
     "data": {
      "text/plain": [
       "Timestamp('2024-05-27 17:32:04+0000', tz='UTC')"
      ]
     },
     "execution_count": 103,
     "metadata": {},
     "output_type": "execute_result"
    }
   ],
   "source": [
    "stamp_utc = stamp.tz_localize(\"utc\")\n",
    "stamp_utc"
   ]
  },
  {
   "cell_type": "code",
   "execution_count": 104,
   "id": "58ccf6d0-533b-4b97-8d9f-6d66d5c55187",
   "metadata": {},
   "outputs": [
    {
     "data": {
      "text/plain": [
       "Timestamp('2024-05-27 17:48:49+0300', tz='Africa/Kampala')"
      ]
     },
     "execution_count": 104,
     "metadata": {},
     "output_type": "execute_result"
    }
   ],
   "source": [
    "# using tz in definition\n",
    "stamp_kampala = pd.Timestamp(\n",
    "    \"2024-05-27 17:48:49\",\n",
    "    tz=\"Africa/Kampala\",\n",
    ")\n",
    "stamp_kampala"
   ]
  },
  {
   "cell_type": "code",
   "execution_count": 105,
   "id": "3488adcd-8ef9-495a-82f7-9e02219fb6a1",
   "metadata": {},
   "outputs": [
    {
     "data": {
      "text/plain": [
       "1716821329000000000"
      ]
     },
     "execution_count": 105,
     "metadata": {},
     "output_type": "execute_result"
    }
   ],
   "source": [
    "# timestamps store utc value since the Unix epoch\n",
    "stamp_kampala.value"
   ]
  },
  {
   "cell_type": "code",
   "execution_count": 106,
   "id": "f402c177-a74b-450d-882e-62c2b42aa779",
   "metadata": {},
   "outputs": [
    {
     "data": {
      "text/plain": [
       "1716831124000000000"
      ]
     },
     "execution_count": 106,
     "metadata": {},
     "output_type": "execute_result"
    }
   ],
   "source": [
    "stamp_utc.value"
   ]
  },
  {
   "cell_type": "code",
   "execution_count": 107,
   "id": "3dc2b66a-bed5-417a-b058-3c1b99370ae2",
   "metadata": {},
   "outputs": [
    {
     "data": {
      "text/plain": [
       "Timestamp('2012-03-11 01:30:00-0500', tz='US/Eastern')"
      ]
     },
     "execution_count": 107,
     "metadata": {},
     "output_type": "execute_result"
    }
   ],
   "source": [
    "# Daylight Saving Transition\n",
    "# 30 minutes before transitioning into DST\n",
    "stamp = pd.Timestamp(\n",
    "    \"2012-03-11 01:30\",\n",
    "    tz=\"US/Eastern\",\n",
    ")\n",
    "stamp"
   ]
  },
  {
   "cell_type": "code",
   "execution_count": 108,
   "id": "8dd2f50f-20de-4bb6-80bb-ddd906fc8ba4",
   "metadata": {},
   "outputs": [
    {
     "data": {
      "text/plain": [
       "Timestamp('2012-03-11 03:30:00-0400', tz='US/Eastern')"
      ]
     },
     "execution_count": 108,
     "metadata": {},
     "output_type": "execute_result"
    }
   ],
   "source": [
    "stamp + Hour()"
   ]
  },
  {
   "cell_type": "code",
   "execution_count": 109,
   "id": "c4e62f1b-fabf-4433-bbc4-591bc19a2fee",
   "metadata": {},
   "outputs": [
    {
     "data": {
      "text/plain": [
       "Timestamp('2012-11-04 00:30:00-0400', tz='US/Eastern')"
      ]
     },
     "execution_count": 109,
     "metadata": {},
     "output_type": "execute_result"
    }
   ],
   "source": [
    "# 90 minutes before transitioning out of DST\n",
    "stamp = pd.Timestamp(\n",
    "    \"2012-11-04 00:30\",\n",
    "    tz=\"US/Eastern\",\n",
    "    )\n",
    "stamp"
   ]
  },
  {
   "cell_type": "code",
   "execution_count": 110,
   "id": "c9309486-c969-4bbe-bde8-30695687418d",
   "metadata": {},
   "outputs": [
    {
     "data": {
      "text/plain": [
       "Timestamp('2012-11-04 01:30:00-0500', tz='US/Eastern')"
      ]
     },
     "execution_count": 110,
     "metadata": {},
     "output_type": "execute_result"
    }
   ],
   "source": [
    "# Adding 2 hours\n",
    "stamp + 2*Hour()"
   ]
  },
  {
   "cell_type": "markdown",
   "id": "3fd70f40-58da-41b3-8eb7-90dcdddbc142",
   "metadata": {},
   "source": [
    "<h4>Operations between different time zones</h4>"
   ]
  },
  {
   "cell_type": "code",
   "execution_count": 111,
   "id": "9b932b5e-fc70-4277-9ecb-1123a0bb9063",
   "metadata": {},
   "outputs": [
    {
     "data": {
      "text/plain": [
       "2024-05-31 10:43:00    0.907893\n",
       "2024-06-30 10:43:00   -1.241167\n",
       "2024-07-31 10:43:00    0.657569\n",
       "2024-08-31 10:43:00   -0.635825\n",
       "2024-09-30 10:43:00   -0.320529\n",
       "2024-10-31 10:43:00   -0.045734\n",
       "2024-11-30 10:43:00   -0.406441\n",
       "2024-12-31 10:43:00    0.817643\n",
       "2025-01-31 10:43:00    0.869735\n",
       "2025-02-28 10:43:00    0.782819\n",
       "2025-03-31 10:43:00   -1.230233\n",
       "2025-04-30 10:43:00    1.202785\n",
       "2025-05-31 10:43:00   -0.347654\n",
       "2025-06-30 10:43:00    0.978996\n",
       "2025-07-31 10:43:00    0.242397\n",
       "2025-08-31 10:43:00    0.280563\n",
       "2025-09-30 10:43:00   -0.755334\n",
       "2025-10-31 10:43:00   -0.324641\n",
       "2025-11-30 10:43:00    1.090427\n",
       "2025-12-31 10:43:00   -0.323956\n",
       "Freq: ME, dtype: float64"
      ]
     },
     "execution_count": 111,
     "metadata": {},
     "output_type": "execute_result"
    }
   ],
   "source": [
    "dates = pd.date_range(\n",
    "    \"2024-05-27 10:43\",\n",
    "    periods=20,\n",
    "    freq=\"ME\",\n",
    ")\n",
    "ts = pd.Series(\n",
    "    np.random.standard_normal(\n",
    "        len(dates)),\n",
    "    index=dates,\n",
    ")\n",
    "ts"
   ]
  },
  {
   "cell_type": "code",
   "execution_count": 112,
   "id": "311e709f-f4c9-401a-833e-50a8ed2cffd8",
   "metadata": {},
   "outputs": [
    {
     "data": {
      "text/plain": [
       "DatetimeIndex(['2024-05-31 07:43:00+00:00', '2024-06-30 07:43:00+00:00',\n",
       "               '2024-07-31 07:43:00+00:00', '2024-08-31 07:43:00+00:00',\n",
       "               '2024-09-30 07:43:00+00:00', '2024-10-31 07:43:00+00:00',\n",
       "               '2024-11-30 07:43:00+00:00', '2024-11-30 08:43:00+00:00',\n",
       "               '2024-12-31 07:43:00+00:00', '2024-12-31 08:43:00+00:00',\n",
       "               '2025-01-31 07:43:00+00:00', '2025-01-31 08:43:00+00:00',\n",
       "               '2025-02-28 07:43:00+00:00', '2025-02-28 08:43:00+00:00',\n",
       "               '2025-03-31 08:43:00+00:00', '2025-04-30 07:43:00+00:00',\n",
       "               '2025-05-31 07:43:00+00:00', '2025-06-30 07:43:00+00:00',\n",
       "               '2025-07-31 07:43:00+00:00', '2025-08-31 07:43:00+00:00',\n",
       "               '2025-09-30 07:43:00+00:00', '2025-10-31 08:43:00+00:00',\n",
       "               '2025-11-30 08:43:00+00:00', '2025-12-31 08:43:00+00:00'],\n",
       "              dtype='datetime64[ns, UTC]', freq=None)"
      ]
     },
     "execution_count": 112,
     "metadata": {},
     "output_type": "execute_result"
    }
   ],
   "source": [
    "ts1 = ts[:10].tz_localize(\"Africa/Kampala\")\n",
    "ts2 = ts[4:].tz_localize(\"Africa/Cairo\")\n",
    "result = ts1 + ts2\n",
    "result.index"
   ]
  },
  {
   "cell_type": "code",
   "execution_count": 113,
   "id": "4e46cc86-9bfe-49c2-92d1-3219ff03626a",
   "metadata": {},
   "outputs": [],
   "source": [
    "# Operations between zone-aware and zone-naive will raise an exception"
   ]
  },
  {
   "cell_type": "markdown",
   "id": "fba08430-6e0c-4cee-8ded-4ab74e72351f",
   "metadata": {},
   "source": [
    "<h4>Periods and Period Arithmetics</h4>"
   ]
  },
  {
   "cell_type": "code",
   "execution_count": 114,
   "id": "a8f35381-a0a5-40d3-9b9e-3db744937c87",
   "metadata": {},
   "outputs": [
    {
     "data": {
      "text/plain": [
       "Period('2025', 'Y-MAY')"
      ]
     },
     "execution_count": 114,
     "metadata": {},
     "output_type": "execute_result"
    }
   ],
   "source": [
    "p = pd.Period(\"2025\",\n",
    "              freq=\"Y-MAY\",\n",
    "             )\n",
    "p"
   ]
  },
  {
   "cell_type": "code",
   "execution_count": 115,
   "id": "099ea1c8-75f6-47f1-a919-c723964ae789",
   "metadata": {},
   "outputs": [
    {
     "data": {
      "text/plain": [
       "Period('2029', 'Y-MAY')"
      ]
     },
     "execution_count": 115,
     "metadata": {},
     "output_type": "execute_result"
    }
   ],
   "source": [
    "p + 4"
   ]
  },
  {
   "cell_type": "code",
   "execution_count": 116,
   "id": "c0b52c42-31ff-46aa-8e81-97690251c92e",
   "metadata": {},
   "outputs": [
    {
     "data": {
      "text/plain": [
       "Period('2011', 'Y-MAY')"
      ]
     },
     "execution_count": 116,
     "metadata": {},
     "output_type": "execute_result"
    }
   ],
   "source": [
    "p - 14"
   ]
  },
  {
   "cell_type": "code",
   "execution_count": 117,
   "id": "42bb81a8-0ae7-4fae-918e-f3b6a295bf0e",
   "metadata": {},
   "outputs": [
    {
     "data": {
      "text/plain": [
       "Period('2025', 'Y-MAY')"
      ]
     },
     "execution_count": 117,
     "metadata": {},
     "output_type": "execute_result"
    }
   ],
   "source": [
    "p"
   ]
  },
  {
   "cell_type": "code",
   "execution_count": 118,
   "id": "390a0106-455b-4cd0-8d57-cb57b1b4de8b",
   "metadata": {},
   "outputs": [
    {
     "data": {
      "text/plain": [
       "<5 * YearEnds: month=5>"
      ]
     },
     "execution_count": 118,
     "metadata": {},
     "output_type": "execute_result"
    }
   ],
   "source": [
    "pd.Period(\"2030\",\n",
    "          freq=\"Y-MAY\",\n",
    "         ) - p"
   ]
  },
  {
   "cell_type": "code",
   "execution_count": 119,
   "id": "3758d505-a077-4127-a3fc-14d1c8b36c9e",
   "metadata": {},
   "outputs": [
    {
     "data": {
      "text/plain": [
       "PeriodIndex(['2024-05', '2024-06', '2024-07', '2024-08', '2024-09', '2024-10',\n",
       "             '2024-11', '2024-12', '2025-01', '2025-02', '2025-03', '2025-04',\n",
       "             '2025-05', '2025-06', '2025-07', '2025-08', '2025-09', '2025-10',\n",
       "             '2025-11', '2025-12', '2026-01', '2026-02', '2026-03', '2026-04',\n",
       "             '2026-05', '2026-06', '2026-07', '2026-08', '2026-09', '2026-10',\n",
       "             '2026-11', '2026-12', '2027-01', '2027-02', '2027-03', '2027-04',\n",
       "             '2027-05', '2027-06', '2027-07', '2027-08', '2027-09', '2027-10',\n",
       "             '2027-11', '2027-12', '2028-01', '2028-02', '2028-03', '2028-04',\n",
       "             '2028-05', '2028-06', '2028-07', '2028-08', '2028-09', '2028-10',\n",
       "             '2028-11', '2028-12', '2029-01', '2029-02', '2029-03', '2029-04',\n",
       "             '2029-05', '2029-06', '2029-07', '2029-08', '2029-09', '2029-10',\n",
       "             '2029-11', '2029-12', '2030-01', '2030-02', '2030-03', '2030-04',\n",
       "             '2030-05'],\n",
       "            dtype='period[M]')"
      ]
     },
     "execution_count": 119,
     "metadata": {},
     "output_type": "execute_result"
    }
   ],
   "source": [
    "# using periods range\n",
    "periods = pd.period_range(\n",
    "    \"2024-05-27\",\n",
    "    \"2030-05-27\",\n",
    "    freq=\"M\",\n",
    ")\n",
    "periods"
   ]
  },
  {
   "cell_type": "code",
   "execution_count": 120,
   "id": "51d0bb63-d7fd-4817-97ad-af220a2e6550",
   "metadata": {},
   "outputs": [
    {
     "data": {
      "text/plain": [
       "2024-05    0.006672\n",
       "2024-06    0.045700\n",
       "2024-07   -1.700771\n",
       "2024-08   -0.796686\n",
       "2024-09    0.034307\n",
       "             ...   \n",
       "2030-01   -0.135592\n",
       "2030-02   -0.118152\n",
       "2030-03   -0.697547\n",
       "2030-04   -0.728652\n",
       "2030-05   -0.455565\n",
       "Freq: M, Length: 73, dtype: float64"
      ]
     },
     "execution_count": 120,
     "metadata": {},
     "output_type": "execute_result"
    }
   ],
   "source": [
    "# using periods for index\n",
    "pd.Series(\n",
    "    np.random.standard_normal(73),\n",
    "    index=periods,\n",
    ")"
   ]
  },
  {
   "cell_type": "code",
   "execution_count": 121,
   "id": "174d1889-6c26-44ab-b400-d423027e87d0",
   "metadata": {},
   "outputs": [
    {
     "data": {
      "text/plain": [
       "['2024Q1', '2025Q3', '2026Q1']"
      ]
     },
     "execution_count": 121,
     "metadata": {},
     "output_type": "execute_result"
    }
   ],
   "source": [
    "# using strings\n",
    "values = [\n",
    "    \"2024Q1\",\n",
    "    \"2025Q3\",\n",
    "    \"2026Q1\",\n",
    "]\n",
    "values"
   ]
  },
  {
   "cell_type": "code",
   "execution_count": 122,
   "id": "deb6ec0c-f596-49a2-80c8-7aec705f4e26",
   "metadata": {},
   "outputs": [
    {
     "data": {
      "text/plain": [
       "PeriodIndex(['2024Q1', '2025Q3', '2026Q1'], dtype='period[Q-DEC]')"
      ]
     },
     "execution_count": 122,
     "metadata": {},
     "output_type": "execute_result"
    }
   ],
   "source": [
    "# \n",
    "index = pd.PeriodIndex(values,\n",
    "                       freq=\"Q-DEC\",\n",
    "                      )\n",
    "index"
   ]
  },
  {
   "cell_type": "markdown",
   "id": "5a55a4e6-7313-440f-947d-65a86647ec7f",
   "metadata": {},
   "source": [
    "<h4>Period Frequency Conversions</h4>"
   ]
  },
  {
   "cell_type": "code",
   "execution_count": 123,
   "id": "d7b45d8e-68d1-40d5-8d23-fc3430161b2c",
   "metadata": {},
   "outputs": [
    {
     "data": {
      "text/plain": [
       "Period('2025', 'Y-DEC')"
      ]
     },
     "execution_count": 123,
     "metadata": {},
     "output_type": "execute_result"
    }
   ],
   "source": [
    "p = pd.Period(\n",
    "    \"2025\",\n",
    "    freq=\"Y-DEC\",\n",
    ")\n",
    "p"
   ]
  },
  {
   "cell_type": "code",
   "execution_count": 124,
   "id": "535828d8-cddb-4e89-a196-0bd84ca4b27c",
   "metadata": {},
   "outputs": [
    {
     "data": {
      "text/plain": [
       "Period('2025-01', 'M')"
      ]
     },
     "execution_count": 124,
     "metadata": {},
     "output_type": "execute_result"
    }
   ],
   "source": [
    "# conversion\n",
    "p.asfreq(\"M\",\n",
    "         how=\"start\",\n",
    "        )"
   ]
  },
  {
   "cell_type": "code",
   "execution_count": 125,
   "id": "b5b86096-75d0-49a8-b000-46f997a7fd0e",
   "metadata": {},
   "outputs": [
    {
     "data": {
      "text/plain": [
       "Period('2025-12', 'M')"
      ]
     },
     "execution_count": 125,
     "metadata": {},
     "output_type": "execute_result"
    }
   ],
   "source": [
    "# conversion\n",
    "p.asfreq(\"M\",\n",
    "         how=\"end\",\n",
    "        )"
   ]
  },
  {
   "cell_type": "code",
   "execution_count": 126,
   "id": "861db7d5-cd9a-410b-840b-a8729af9ab7b",
   "metadata": {},
   "outputs": [
    {
     "data": {
      "text/plain": [
       "Period('2024', 'Y-JUN')"
      ]
     },
     "execution_count": 126,
     "metadata": {},
     "output_type": "execute_result"
    }
   ],
   "source": [
    "# Fiscal year\n",
    "p = pd.Period(\n",
    "    \"2024\",\n",
    "    freq=\"Y-JUN\",\n",
    ")\n",
    "p"
   ]
  },
  {
   "cell_type": "code",
   "execution_count": 127,
   "id": "8473a701-7548-4118-8e24-524b83261b59",
   "metadata": {},
   "outputs": [
    {
     "data": {
      "text/plain": [
       "Period('2023-07', 'M')"
      ]
     },
     "execution_count": 127,
     "metadata": {},
     "output_type": "execute_result"
    }
   ],
   "source": [
    "p.asfreq(\"M\",\n",
    "         how=\"start\"\n",
    "        )"
   ]
  },
  {
   "cell_type": "code",
   "execution_count": 128,
   "id": "09c512e4-2228-4ccb-b9c0-5db12258fc47",
   "metadata": {},
   "outputs": [
    {
     "data": {
      "text/plain": [
       "Period('2024-06', 'M')"
      ]
     },
     "execution_count": 128,
     "metadata": {},
     "output_type": "execute_result"
    }
   ],
   "source": [
    "p.asfreq(\"M\",\n",
    "         how=\"end\",\n",
    "        )"
   ]
  },
  {
   "cell_type": "code",
   "execution_count": 129,
   "id": "fe461b29-3315-424e-b228-919986cbafda",
   "metadata": {},
   "outputs": [
    {
     "data": {
      "text/plain": [
       "Period('2024', 'Y-JUN')"
      ]
     },
     "execution_count": 129,
     "metadata": {},
     "output_type": "execute_result"
    }
   ],
   "source": [
    "# period conversions\n",
    "# June 2024 is the end of the period\n",
    "p = pd.Period(\n",
    "    \"2024\",\n",
    "    \"Y-JUN\"\n",
    ")\n",
    "p"
   ]
  },
  {
   "cell_type": "code",
   "execution_count": 130,
   "id": "6e7b802d-b7fe-4093-8445-b68055503d99",
   "metadata": {},
   "outputs": [
    {
     "data": {
      "text/plain": [
       "Period('2023-07', 'M')"
      ]
     },
     "execution_count": 130,
     "metadata": {},
     "output_type": "execute_result"
    }
   ],
   "source": [
    "p.asfreq(\n",
    "    \"M\",\n",
    "    how=\"start\"\n",
    ")"
   ]
  },
  {
   "cell_type": "code",
   "execution_count": 131,
   "id": "a7b83aca-9c6b-45cf-aa6a-f416d6808b18",
   "metadata": {},
   "outputs": [
    {
     "data": {
      "text/plain": [
       "Period('2024-06', 'M')"
      ]
     },
     "execution_count": 131,
     "metadata": {},
     "output_type": "execute_result"
    }
   ],
   "source": [
    "p.asfreq(\n",
    "    \"M\",\n",
    "    how=\"end\",\n",
    ")"
   ]
  },
  {
   "cell_type": "code",
   "execution_count": 132,
   "id": "013d2212-4e88-4058-ae93-fd3c4e44fbc7",
   "metadata": {},
   "outputs": [
    {
     "data": {
      "text/plain": [
       "Period('2024', 'Y-AUG')"
      ]
     },
     "execution_count": 132,
     "metadata": {},
     "output_type": "execute_result"
    }
   ],
   "source": [
    "# conversion\n",
    "p.asfreq(\n",
    "    \"Y-AUG\"\n",
    ")"
   ]
  },
  {
   "cell_type": "code",
   "execution_count": 133,
   "id": "66c7bf84-a96c-4bc1-9bee-7e3f0efbe5fc",
   "metadata": {},
   "outputs": [],
   "source": [
    "# more examples\n",
    "periods = pd.period_range(\n",
    "    \"2035\", \"2040\",\n",
    "    freq=\"Y-JUN\"\n",
    ")"
   ]
  },
  {
   "cell_type": "code",
   "execution_count": 134,
   "id": "ed69f40c-b12d-41ed-a7f2-37052e3620e5",
   "metadata": {},
   "outputs": [
    {
     "data": {
      "text/plain": [
       "PeriodIndex(['2035', '2036', '2037', '2038', '2039', '2040'], dtype='period[Y-JUN]')"
      ]
     },
     "execution_count": 134,
     "metadata": {},
     "output_type": "execute_result"
    }
   ],
   "source": [
    "periods"
   ]
  },
  {
   "cell_type": "code",
   "execution_count": 135,
   "id": "6f846f41-c4d8-4487-9597-f4a632727a9e",
   "metadata": {},
   "outputs": [
    {
     "data": {
      "text/plain": [
       "2035    2.147163\n",
       "2036    0.360643\n",
       "2037   -0.638033\n",
       "2038    0.800899\n",
       "2039   -0.740795\n",
       "2040    0.094128\n",
       "Freq: Y-JUN, dtype: float64"
      ]
     },
     "execution_count": 135,
     "metadata": {},
     "output_type": "execute_result"
    }
   ],
   "source": [
    "ts = pd.Series(np.random.standard_normal(\n",
    "    len(periods)),\n",
    "               index=periods,\n",
    "              )\n",
    "ts"
   ]
  },
  {
   "cell_type": "code",
   "execution_count": 136,
   "id": "f91c5da1-f2ce-4aff-b65b-134c7106c7e7",
   "metadata": {},
   "outputs": [
    {
     "data": {
      "text/plain": [
       "2034-07    2.147163\n",
       "2035-07    0.360643\n",
       "2036-07   -0.638033\n",
       "2037-07    0.800899\n",
       "2038-07   -0.740795\n",
       "2039-07    0.094128\n",
       "Freq: M, dtype: float64"
      ]
     },
     "execution_count": 136,
     "metadata": {},
     "output_type": "execute_result"
    }
   ],
   "source": [
    "# conversion to months frequency\n",
    "ts.asfreq(\n",
    "    \"M\",\n",
    "    how=\"start\"\n",
    ")"
   ]
  },
  {
   "cell_type": "code",
   "execution_count": 137,
   "id": "bb41cd73-72fd-4589-95c8-eb542881e506",
   "metadata": {},
   "outputs": [
    {
     "data": {
      "text/plain": [
       "2035-06    2.147163\n",
       "2036-06    0.360643\n",
       "2037-06   -0.638033\n",
       "2038-06    0.800899\n",
       "2039-06   -0.740795\n",
       "2040-06    0.094128\n",
       "Freq: M, dtype: float64"
      ]
     },
     "execution_count": 137,
     "metadata": {},
     "output_type": "execute_result"
    }
   ],
   "source": [
    "ts.asfreq(\n",
    "    \"M\",\n",
    "    how=\"end\"\n",
    ")"
   ]
  },
  {
   "cell_type": "code",
   "execution_count": 138,
   "id": "230c632f-c995-4c28-8a48-4d5021be2dc5",
   "metadata": {},
   "outputs": [
    {
     "name": "stderr",
     "output_type": "stream",
     "text": [
      "C:\\Users\\Kakaire Steven\\AppData\\Local\\Temp\\ipykernel_12884\\4236237307.py:2: FutureWarning: PeriodDtype[B] is deprecated and will be removed in a future version. Use a DatetimeIndex with freq='B' instead\n",
      "  ts.asfreq(\n"
     ]
    },
    {
     "data": {
      "text/plain": [
       "2035-06-29    2.147163\n",
       "2036-06-30    0.360643\n",
       "2037-06-30   -0.638033\n",
       "2038-06-30    0.800899\n",
       "2039-06-30   -0.740795\n",
       "2040-06-29    0.094128\n",
       "Freq: B, dtype: float64"
      ]
     },
     "execution_count": 138,
     "metadata": {},
     "output_type": "execute_result"
    }
   ],
   "source": [
    "# last business day of the month\n",
    "ts.asfreq(\n",
    "    freq=\"B\",\n",
    "    how=\"end\"\n",
    ")"
   ]
  },
  {
   "cell_type": "markdown",
   "id": "17906392-0820-4578-b90a-7011a6b65928",
   "metadata": {},
   "source": [
    " <h4>Quarterly Period Frequencies</h4>"
   ]
  },
  {
   "cell_type": "code",
   "execution_count": 139,
   "id": "e9fc244c-40f3-4518-8c34-c1ee36e46c47",
   "metadata": {},
   "outputs": [],
   "source": [
    "p = pd.Period(\n",
    "    \"2024Q4\",\n",
    "    freq=\"Q-JAN\",\n",
    ")"
   ]
  },
  {
   "cell_type": "code",
   "execution_count": 140,
   "id": "10df8ccd-4ba7-4351-bc59-4caf6ca50a8d",
   "metadata": {},
   "outputs": [
    {
     "data": {
      "text/plain": [
       "Period('2024Q4', 'Q-JAN')"
      ]
     },
     "execution_count": 140,
     "metadata": {},
     "output_type": "execute_result"
    }
   ],
   "source": [
    "p"
   ]
  },
  {
   "cell_type": "code",
   "execution_count": 141,
   "id": "9543588a-3f98-4be4-b9d4-b54ed2f24c76",
   "metadata": {},
   "outputs": [
    {
     "data": {
      "text/plain": [
       "Period('2024Q3', 'Q-JUN')"
      ]
     },
     "execution_count": 141,
     "metadata": {},
     "output_type": "execute_result"
    }
   ],
   "source": [
    "p.asfreq(freq=\"Q-JUN\")"
   ]
  },
  {
   "cell_type": "code",
   "execution_count": 142,
   "id": "19439c18-88bc-4b32-916e-8fffacaa07aa",
   "metadata": {},
   "outputs": [
    {
     "data": {
      "text/plain": [
       "Period('2023-11-01', 'D')"
      ]
     },
     "execution_count": 142,
     "metadata": {},
     "output_type": "execute_result"
    }
   ],
   "source": [
    "# converting to daily frequencies\n",
    "p.asfreq(\"D\",\n",
    "         how=\"start\",\n",
    "        )"
   ]
  },
  {
   "cell_type": "code",
   "execution_count": 143,
   "id": "03c67568-1319-42e8-93fe-e7e379973bcc",
   "metadata": {},
   "outputs": [
    {
     "data": {
      "text/plain": [
       "PeriodIndex(['2023Q1', '2023Q2', '2023Q3', '2023Q4', '2024Q1', '2024Q2',\n",
       "             '2024Q3', '2024Q4', '2025Q1', '2025Q2', '2025Q3', '2025Q4',\n",
       "             '2026Q1', '2026Q2', '2026Q3', '2026Q4', '2027Q1', '2027Q2',\n",
       "             '2027Q3', '2027Q4', '2028Q1', '2028Q2', '2028Q3', '2028Q4',\n",
       "             '2029Q1', '2029Q2', '2029Q3', '2029Q4', '2030Q1', '2030Q2',\n",
       "             '2030Q3', '2030Q4'],\n",
       "            dtype='period[Q-MAY]')"
      ]
     },
     "execution_count": 143,
     "metadata": {},
     "output_type": "execute_result"
    }
   ],
   "source": [
    "# fiscal periods\n",
    "fs = pd.period_range(\n",
    "    \"2023Q1\",\n",
    "    \"2030Q4\",\n",
    "    freq=\"Q-MAY\"\n",
    ")\n",
    "fs"
   ]
  },
  {
   "cell_type": "code",
   "execution_count": 144,
   "id": "4370cf1d-b3b3-4972-b7ce-0e9727443254",
   "metadata": {},
   "outputs": [
    {
     "data": {
      "text/plain": [
       "PeriodIndex(['2022-06', '2022-09', '2022-12', '2023-03', '2023-06', '2023-09',\n",
       "             '2023-12', '2024-03', '2024-06', '2024-09', '2024-12', '2025-03',\n",
       "             '2025-06', '2025-09', '2025-12', '2026-03', '2026-06', '2026-09',\n",
       "             '2026-12', '2027-03', '2027-06', '2027-09', '2027-12', '2028-03',\n",
       "             '2028-06', '2028-09', '2028-12', '2029-03', '2029-06', '2029-09',\n",
       "             '2029-12', '2030-03'],\n",
       "            dtype='period[M]')"
      ]
     },
     "execution_count": 144,
     "metadata": {},
     "output_type": "execute_result"
    }
   ],
   "source": [
    "fs.asfreq(\"M\",\n",
    "          how=\"start\")"
   ]
  },
  {
   "cell_type": "code",
   "execution_count": 145,
   "id": "8ef2e38e-a28d-4797-8e21-02e3b5c10e19",
   "metadata": {},
   "outputs": [
    {
     "data": {
      "text/plain": [
       "PeriodIndex(['2022-08-31', '2022-11-30', '2023-02-28', '2023-05-31',\n",
       "             '2023-08-31', '2023-11-30', '2024-02-29', '2024-05-31',\n",
       "             '2024-08-31', '2024-11-30', '2025-02-28', '2025-05-31',\n",
       "             '2025-08-31', '2025-11-30', '2026-02-28', '2026-05-31',\n",
       "             '2026-08-31', '2026-11-30', '2027-02-28', '2027-05-31',\n",
       "             '2027-08-31', '2027-11-30', '2028-02-29', '2028-05-31',\n",
       "             '2028-08-31', '2028-11-30', '2029-02-28', '2029-05-31',\n",
       "             '2029-08-31', '2029-11-30', '2030-02-28', '2030-05-31'],\n",
       "            dtype='period[D]')"
      ]
     },
     "execution_count": 145,
     "metadata": {},
     "output_type": "execute_result"
    }
   ],
   "source": [
    "fs.asfreq(\n",
    "    \"D\",\n",
    "    how=\"end\",\n",
    ")"
   ]
  },
  {
   "cell_type": "code",
   "execution_count": 146,
   "id": "e43a598c-b984-464a-93d3-b3c6eaa14629",
   "metadata": {},
   "outputs": [
    {
     "name": "stderr",
     "output_type": "stream",
     "text": [
      "C:\\Users\\Kakaire Steven\\AppData\\Local\\Temp\\ipykernel_12884\\23150665.py:1: FutureWarning: PeriodDtype[B] is deprecated and will be removed in a future version. Use a DatetimeIndex with freq='B' instead\n",
      "  (fs.asfreq(\n"
     ]
    },
    {
     "data": {
      "text/plain": [
       "PeriodIndex(['2022-08-30 16:00', '2022-11-29 16:00', '2023-02-27 16:00',\n",
       "             '2023-05-30 16:00', '2023-08-30 16:00', '2023-11-29 16:00',\n",
       "             '2024-02-28 16:00', '2024-05-30 16:00', '2024-08-29 16:00',\n",
       "             '2024-11-28 16:00', '2025-02-27 16:00', '2025-05-29 16:00',\n",
       "             '2025-08-28 16:00', '2025-11-27 16:00', '2026-02-26 16:00',\n",
       "             '2026-05-28 16:00', '2026-08-28 16:00', '2026-11-27 16:00',\n",
       "             '2027-02-25 16:00', '2027-05-28 16:00', '2027-08-30 16:00',\n",
       "             '2027-11-29 16:00', '2028-02-28 16:00', '2028-05-30 16:00',\n",
       "             '2028-08-30 16:00', '2028-11-29 16:00', '2029-02-27 16:00',\n",
       "             '2029-05-30 16:00', '2029-08-30 16:00', '2029-11-29 16:00',\n",
       "             '2030-02-27 16:00', '2030-05-30 16:00'],\n",
       "            dtype='period[min]')"
      ]
     },
     "execution_count": 146,
     "metadata": {},
     "output_type": "execute_result"
    }
   ],
   "source": [
    "(fs.asfreq(\n",
    "    freq=\"B\",\n",
    "    how=\"end\",\n",
    ") - 1).asfreq(\n",
    "    \"min\",\n",
    "    how=\"start\",\n",
    ") + 16 * 60"
   ]
  },
  {
   "cell_type": "code",
   "execution_count": 147,
   "id": "13d1047c-0db1-4b15-927b-1ad45c4e1980",
   "metadata": {},
   "outputs": [],
   "source": [
    "# More examples\n",
    "periods = pd.period_range(\n",
    "    \"2024Q4\",\n",
    "    \"2026Q1\",\n",
    "    freq=\"Q-JAN\",\n",
    ")"
   ]
  },
  {
   "cell_type": "code",
   "execution_count": 148,
   "id": "c7c950d9-d986-4067-917e-726f313c8bc7",
   "metadata": {},
   "outputs": [
    {
     "data": {
      "text/plain": [
       "PeriodIndex(['2024Q4', '2025Q1', '2025Q2', '2025Q3', '2025Q4', '2026Q1'], dtype='period[Q-JAN]')"
      ]
     },
     "execution_count": 148,
     "metadata": {},
     "output_type": "execute_result"
    }
   ],
   "source": [
    "periods"
   ]
  },
  {
   "cell_type": "code",
   "execution_count": 149,
   "id": "3cf2081e-0d3f-4f60-ba5a-78915c49a0c2",
   "metadata": {},
   "outputs": [
    {
     "data": {
      "text/plain": [
       "2024Q4    0\n",
       "2025Q1    1\n",
       "2025Q2    2\n",
       "2025Q3    3\n",
       "2025Q4    4\n",
       "2026Q1    5\n",
       "Freq: Q-JAN, dtype: int32"
      ]
     },
     "execution_count": 149,
     "metadata": {},
     "output_type": "execute_result"
    }
   ],
   "source": [
    "ts = pd.Series(\n",
    "    np.arange(len(periods)),\n",
    "    index=periods)\n",
    "ts"
   ]
  },
  {
   "cell_type": "code",
   "execution_count": 150,
   "id": "23ecd973-67ce-4d4c-b2d4-2198e55aa01f",
   "metadata": {},
   "outputs": [
    {
     "name": "stderr",
     "output_type": "stream",
     "text": [
      "C:\\Users\\Kakaire Steven\\AppData\\Local\\Temp\\ipykernel_12884\\1775545749.py:1: FutureWarning: PeriodDtype[B] is deprecated and will be removed in a future version. Use a DatetimeIndex with freq='B' instead\n",
      "  new_periods = (periods.asfreq(\"B\", \"end\")-1).asfreq(\"h\", \"start\") + 16\n"
     ]
    },
    {
     "data": {
      "text/plain": [
       "PeriodIndex(['2024-01-30 16:00', '2024-04-29 16:00', '2024-07-30 16:00',\n",
       "             '2024-10-30 16:00', '2025-01-30 16:00', '2025-04-29 16:00'],\n",
       "            dtype='period[h]')"
      ]
     },
     "execution_count": 150,
     "metadata": {},
     "output_type": "execute_result"
    }
   ],
   "source": [
    "new_periods = (periods.asfreq(\"B\", \"end\")-1).asfreq(\"h\", \"start\") + 16\n",
    "new_periods"
   ]
  },
  {
   "cell_type": "code",
   "execution_count": 151,
   "id": "f8d4018b-551e-4dad-a6e4-3ddc73f1291d",
   "metadata": {},
   "outputs": [
    {
     "data": {
      "text/plain": [
       "2024-01-30 16:00:00    0\n",
       "2024-04-29 16:00:00    1\n",
       "2024-07-30 16:00:00    2\n",
       "2024-10-30 16:00:00    3\n",
       "2025-01-30 16:00:00    4\n",
       "2025-04-29 16:00:00    5\n",
       "dtype: int32"
      ]
     },
     "execution_count": 151,
     "metadata": {},
     "output_type": "execute_result"
    }
   ],
   "source": [
    "ts.index = new_periods.to_timestamp()\n",
    "ts"
   ]
  },
  {
   "cell_type": "markdown",
   "id": "a265dbb9-b18a-46f5-bc39-49ebb54467ca",
   "metadata": {},
   "source": [
    "<h4>Converting Timestamps to periods (and Back)</h4>"
   ]
  },
  {
   "cell_type": "code",
   "execution_count": 152,
   "id": "311937d7-3e95-4063-9b44-7073ee19c863",
   "metadata": {},
   "outputs": [
    {
     "data": {
      "text/plain": [
       "DatetimeIndex(['2024-01-31', '2024-02-29', '2024-03-31', '2024-04-30',\n",
       "               '2024-05-31', '2024-06-30', '2024-07-31', '2024-08-31',\n",
       "               '2024-09-30', '2024-10-31'],\n",
       "              dtype='datetime64[ns]', freq='ME')"
      ]
     },
     "execution_count": 152,
     "metadata": {},
     "output_type": "execute_result"
    }
   ],
   "source": [
    "dates = pd.date_range(\n",
    "    \"2024-01-15\",\n",
    "    periods=10,\n",
    "    freq=\"ME\",\n",
    ")\n",
    "dates"
   ]
  },
  {
   "cell_type": "code",
   "execution_count": 153,
   "id": "d698e55a-0b00-482e-8632-bba30a4a4835",
   "metadata": {},
   "outputs": [
    {
     "data": {
      "text/plain": [
       "2024-01-31    0.156796\n",
       "2024-02-29   -0.261792\n",
       "2024-03-31    0.461208\n",
       "2024-04-30   -3.313875\n",
       "2024-05-31   -0.936931\n",
       "2024-06-30    0.370242\n",
       "2024-07-31    0.409904\n",
       "2024-08-31    0.350207\n",
       "2024-09-30   -0.068557\n",
       "2024-10-31   -1.845418\n",
       "Freq: ME, dtype: float64"
      ]
     },
     "execution_count": 153,
     "metadata": {},
     "output_type": "execute_result"
    }
   ],
   "source": [
    "ts = pd.Series(\n",
    "    np.random.standard_normal(len(dates)),\n",
    "    index=dates)\n",
    "ts"
   ]
  },
  {
   "cell_type": "code",
   "execution_count": 154,
   "id": "499656f7-5776-4177-bee2-8837e31cef51",
   "metadata": {},
   "outputs": [
    {
     "data": {
      "text/plain": [
       "2024-01    0.156796\n",
       "2024-02   -0.261792\n",
       "2024-03    0.461208\n",
       "2024-04   -3.313875\n",
       "2024-05   -0.936931\n",
       "2024-06    0.370242\n",
       "2024-07    0.409904\n",
       "2024-08    0.350207\n",
       "2024-09   -0.068557\n",
       "2024-10   -1.845418\n",
       "Freq: M, dtype: float64"
      ]
     },
     "execution_count": 154,
     "metadata": {},
     "output_type": "execute_result"
    }
   ],
   "source": [
    "ts.to_period()"
   ]
  },
  {
   "cell_type": "code",
   "execution_count": 155,
   "id": "690373ad-8ee6-493a-8310-519b32c34d9a",
   "metadata": {},
   "outputs": [
    {
     "data": {
      "text/plain": [
       "2024-01-29    0.527806\n",
       "2024-01-30   -0.675524\n",
       "2024-01-31    1.059416\n",
       "2024-02-01    0.236026\n",
       "2024-02-02    0.916297\n",
       "2024-02-03    0.352660\n",
       "2024-02-04   -1.922992\n",
       "2024-02-05   -1.536607\n",
       "2024-02-06    0.386639\n",
       "2024-02-07   -0.271558\n",
       "Freq: D, dtype: float64"
      ]
     },
     "execution_count": 155,
     "metadata": {},
     "output_type": "execute_result"
    }
   ],
   "source": [
    "dates = pd.date_range(\n",
    "    \"2024-01-29\",\n",
    "    periods=10,\n",
    ")\n",
    "ts2 = pd.Series(\n",
    "    np.random.standard_normal(len(dates)),\n",
    "    index=dates)\n",
    "ts2"
   ]
  },
  {
   "cell_type": "code",
   "execution_count": 156,
   "id": "d2a246d1-7c87-4040-a680-14e11a413000",
   "metadata": {},
   "outputs": [
    {
     "data": {
      "text/plain": [
       "2024-01    0.527806\n",
       "2024-01   -0.675524\n",
       "2024-01    1.059416\n",
       "2024-02    0.236026\n",
       "2024-02    0.916297\n",
       "2024-02    0.352660\n",
       "2024-02   -1.922992\n",
       "2024-02   -1.536607\n",
       "2024-02    0.386639\n",
       "2024-02   -0.271558\n",
       "Freq: M, dtype: float64"
      ]
     },
     "execution_count": 156,
     "metadata": {},
     "output_type": "execute_result"
    }
   ],
   "source": [
    "pts = ts2.to_period(\"M\")\n",
    "pts"
   ]
  },
  {
   "cell_type": "code",
   "execution_count": 157,
   "id": "a015bf89-10b1-4bf9-9064-09d80a98a611",
   "metadata": {},
   "outputs": [
    {
     "data": {
      "text/plain": [
       "2024-01-31 23:59:59.999999999    0.527806\n",
       "2024-01-31 23:59:59.999999999   -0.675524\n",
       "2024-01-31 23:59:59.999999999    1.059416\n",
       "2024-02-29 23:59:59.999999999    0.236026\n",
       "2024-02-29 23:59:59.999999999    0.916297\n",
       "2024-02-29 23:59:59.999999999    0.352660\n",
       "2024-02-29 23:59:59.999999999   -1.922992\n",
       "2024-02-29 23:59:59.999999999   -1.536607\n",
       "2024-02-29 23:59:59.999999999    0.386639\n",
       "2024-02-29 23:59:59.999999999   -0.271558\n",
       "dtype: float64"
      ]
     },
     "execution_count": 157,
     "metadata": {},
     "output_type": "execute_result"
    }
   ],
   "source": [
    "# converting back to timestamp\n",
    "pts.to_timestamp(\n",
    "    how=\"end\")"
   ]
  },
  {
   "cell_type": "code",
   "execution_count": 158,
   "id": "721dd25b-11e7-4c5b-b423-2a839ab5b2cb",
   "metadata": {},
   "outputs": [
    {
     "data": {
      "text/html": [
       "<div>\n",
       "<style scoped>\n",
       "    .dataframe tbody tr th:only-of-type {\n",
       "        vertical-align: middle;\n",
       "    }\n",
       "\n",
       "    .dataframe tbody tr th {\n",
       "        vertical-align: top;\n",
       "    }\n",
       "\n",
       "    .dataframe thead th {\n",
       "        text-align: right;\n",
       "    }\n",
       "</style>\n",
       "<table border=\"1\" class=\"dataframe\">\n",
       "  <thead>\n",
       "    <tr style=\"text-align: right;\">\n",
       "      <th></th>\n",
       "      <th>year</th>\n",
       "      <th>quarter</th>\n",
       "      <th>realgdp</th>\n",
       "      <th>realcons</th>\n",
       "      <th>realinv</th>\n",
       "      <th>realgovt</th>\n",
       "      <th>realdpi</th>\n",
       "      <th>cpi</th>\n",
       "      <th>m1</th>\n",
       "      <th>tbilrate</th>\n",
       "      <th>unemp</th>\n",
       "      <th>pop</th>\n",
       "      <th>infl</th>\n",
       "      <th>realint</th>\n",
       "    </tr>\n",
       "  </thead>\n",
       "  <tbody>\n",
       "    <tr>\n",
       "      <th>0</th>\n",
       "      <td>1959</td>\n",
       "      <td>1</td>\n",
       "      <td>2710.349</td>\n",
       "      <td>1707.4</td>\n",
       "      <td>286.898</td>\n",
       "      <td>470.045</td>\n",
       "      <td>1886.9</td>\n",
       "      <td>28.980</td>\n",
       "      <td>139.7</td>\n",
       "      <td>2.82</td>\n",
       "      <td>5.8</td>\n",
       "      <td>177.146</td>\n",
       "      <td>0.00</td>\n",
       "      <td>0.00</td>\n",
       "    </tr>\n",
       "    <tr>\n",
       "      <th>1</th>\n",
       "      <td>1959</td>\n",
       "      <td>2</td>\n",
       "      <td>2778.801</td>\n",
       "      <td>1733.7</td>\n",
       "      <td>310.859</td>\n",
       "      <td>481.301</td>\n",
       "      <td>1919.7</td>\n",
       "      <td>29.150</td>\n",
       "      <td>141.7</td>\n",
       "      <td>3.08</td>\n",
       "      <td>5.1</td>\n",
       "      <td>177.830</td>\n",
       "      <td>2.34</td>\n",
       "      <td>0.74</td>\n",
       "    </tr>\n",
       "    <tr>\n",
       "      <th>2</th>\n",
       "      <td>1959</td>\n",
       "      <td>3</td>\n",
       "      <td>2775.488</td>\n",
       "      <td>1751.8</td>\n",
       "      <td>289.226</td>\n",
       "      <td>491.260</td>\n",
       "      <td>1916.4</td>\n",
       "      <td>29.350</td>\n",
       "      <td>140.5</td>\n",
       "      <td>3.82</td>\n",
       "      <td>5.3</td>\n",
       "      <td>178.657</td>\n",
       "      <td>2.74</td>\n",
       "      <td>1.09</td>\n",
       "    </tr>\n",
       "    <tr>\n",
       "      <th>3</th>\n",
       "      <td>1959</td>\n",
       "      <td>4</td>\n",
       "      <td>2785.204</td>\n",
       "      <td>1753.7</td>\n",
       "      <td>299.356</td>\n",
       "      <td>484.052</td>\n",
       "      <td>1931.3</td>\n",
       "      <td>29.370</td>\n",
       "      <td>140.0</td>\n",
       "      <td>4.33</td>\n",
       "      <td>5.6</td>\n",
       "      <td>179.386</td>\n",
       "      <td>0.27</td>\n",
       "      <td>4.06</td>\n",
       "    </tr>\n",
       "    <tr>\n",
       "      <th>4</th>\n",
       "      <td>1960</td>\n",
       "      <td>1</td>\n",
       "      <td>2847.699</td>\n",
       "      <td>1770.5</td>\n",
       "      <td>331.722</td>\n",
       "      <td>462.199</td>\n",
       "      <td>1955.5</td>\n",
       "      <td>29.540</td>\n",
       "      <td>139.6</td>\n",
       "      <td>3.50</td>\n",
       "      <td>5.2</td>\n",
       "      <td>180.007</td>\n",
       "      <td>2.31</td>\n",
       "      <td>1.19</td>\n",
       "    </tr>\n",
       "    <tr>\n",
       "      <th>...</th>\n",
       "      <td>...</td>\n",
       "      <td>...</td>\n",
       "      <td>...</td>\n",
       "      <td>...</td>\n",
       "      <td>...</td>\n",
       "      <td>...</td>\n",
       "      <td>...</td>\n",
       "      <td>...</td>\n",
       "      <td>...</td>\n",
       "      <td>...</td>\n",
       "      <td>...</td>\n",
       "      <td>...</td>\n",
       "      <td>...</td>\n",
       "      <td>...</td>\n",
       "    </tr>\n",
       "    <tr>\n",
       "      <th>198</th>\n",
       "      <td>2008</td>\n",
       "      <td>3</td>\n",
       "      <td>13324.600</td>\n",
       "      <td>9267.7</td>\n",
       "      <td>1990.693</td>\n",
       "      <td>991.551</td>\n",
       "      <td>9838.3</td>\n",
       "      <td>216.889</td>\n",
       "      <td>1474.7</td>\n",
       "      <td>1.17</td>\n",
       "      <td>6.0</td>\n",
       "      <td>305.270</td>\n",
       "      <td>-3.16</td>\n",
       "      <td>4.33</td>\n",
       "    </tr>\n",
       "    <tr>\n",
       "      <th>199</th>\n",
       "      <td>2008</td>\n",
       "      <td>4</td>\n",
       "      <td>13141.920</td>\n",
       "      <td>9195.3</td>\n",
       "      <td>1857.661</td>\n",
       "      <td>1007.273</td>\n",
       "      <td>9920.4</td>\n",
       "      <td>212.174</td>\n",
       "      <td>1576.5</td>\n",
       "      <td>0.12</td>\n",
       "      <td>6.9</td>\n",
       "      <td>305.952</td>\n",
       "      <td>-8.79</td>\n",
       "      <td>8.91</td>\n",
       "    </tr>\n",
       "    <tr>\n",
       "      <th>200</th>\n",
       "      <td>2009</td>\n",
       "      <td>1</td>\n",
       "      <td>12925.410</td>\n",
       "      <td>9209.2</td>\n",
       "      <td>1558.494</td>\n",
       "      <td>996.287</td>\n",
       "      <td>9926.4</td>\n",
       "      <td>212.671</td>\n",
       "      <td>1592.8</td>\n",
       "      <td>0.22</td>\n",
       "      <td>8.1</td>\n",
       "      <td>306.547</td>\n",
       "      <td>0.94</td>\n",
       "      <td>-0.71</td>\n",
       "    </tr>\n",
       "    <tr>\n",
       "      <th>201</th>\n",
       "      <td>2009</td>\n",
       "      <td>2</td>\n",
       "      <td>12901.504</td>\n",
       "      <td>9189.0</td>\n",
       "      <td>1456.678</td>\n",
       "      <td>1023.528</td>\n",
       "      <td>10077.5</td>\n",
       "      <td>214.469</td>\n",
       "      <td>1653.6</td>\n",
       "      <td>0.18</td>\n",
       "      <td>9.2</td>\n",
       "      <td>307.226</td>\n",
       "      <td>3.37</td>\n",
       "      <td>-3.19</td>\n",
       "    </tr>\n",
       "    <tr>\n",
       "      <th>202</th>\n",
       "      <td>2009</td>\n",
       "      <td>3</td>\n",
       "      <td>12990.341</td>\n",
       "      <td>9256.0</td>\n",
       "      <td>1486.398</td>\n",
       "      <td>1044.088</td>\n",
       "      <td>10040.6</td>\n",
       "      <td>216.385</td>\n",
       "      <td>1673.9</td>\n",
       "      <td>0.12</td>\n",
       "      <td>9.6</td>\n",
       "      <td>308.013</td>\n",
       "      <td>3.56</td>\n",
       "      <td>-3.44</td>\n",
       "    </tr>\n",
       "  </tbody>\n",
       "</table>\n",
       "<p>203 rows × 14 columns</p>\n",
       "</div>"
      ],
      "text/plain": [
       "     year  quarter    realgdp  realcons   realinv  realgovt  realdpi      cpi  \\\n",
       "0    1959        1   2710.349    1707.4   286.898   470.045   1886.9   28.980   \n",
       "1    1959        2   2778.801    1733.7   310.859   481.301   1919.7   29.150   \n",
       "2    1959        3   2775.488    1751.8   289.226   491.260   1916.4   29.350   \n",
       "3    1959        4   2785.204    1753.7   299.356   484.052   1931.3   29.370   \n",
       "4    1960        1   2847.699    1770.5   331.722   462.199   1955.5   29.540   \n",
       "..    ...      ...        ...       ...       ...       ...      ...      ...   \n",
       "198  2008        3  13324.600    9267.7  1990.693   991.551   9838.3  216.889   \n",
       "199  2008        4  13141.920    9195.3  1857.661  1007.273   9920.4  212.174   \n",
       "200  2009        1  12925.410    9209.2  1558.494   996.287   9926.4  212.671   \n",
       "201  2009        2  12901.504    9189.0  1456.678  1023.528  10077.5  214.469   \n",
       "202  2009        3  12990.341    9256.0  1486.398  1044.088  10040.6  216.385   \n",
       "\n",
       "         m1  tbilrate  unemp      pop  infl  realint  \n",
       "0     139.7      2.82    5.8  177.146  0.00     0.00  \n",
       "1     141.7      3.08    5.1  177.830  2.34     0.74  \n",
       "2     140.5      3.82    5.3  178.657  2.74     1.09  \n",
       "3     140.0      4.33    5.6  179.386  0.27     4.06  \n",
       "4     139.6      3.50    5.2  180.007  2.31     1.19  \n",
       "..      ...       ...    ...      ...   ...      ...  \n",
       "198  1474.7      1.17    6.0  305.270 -3.16     4.33  \n",
       "199  1576.5      0.12    6.9  305.952 -8.79     8.91  \n",
       "200  1592.8      0.22    8.1  306.547  0.94    -0.71  \n",
       "201  1653.6      0.18    9.2  307.226  3.37    -3.19  \n",
       "202  1673.9      0.12    9.6  308.013  3.56    -3.44  \n",
       "\n",
       "[203 rows x 14 columns]"
      ]
     },
     "execution_count": 158,
     "metadata": {},
     "output_type": "execute_result"
    }
   ],
   "source": [
    "data = pd.read_csv(\"../Data/macrodata.csv\")\n",
    "data"
   ]
  },
  {
   "cell_type": "code",
   "execution_count": 159,
   "id": "f062beaf-5ecf-4752-ae98-2919d421b467",
   "metadata": {},
   "outputs": [
    {
     "data": {
      "text/plain": [
       "0      1959\n",
       "1      1959\n",
       "2      1959\n",
       "3      1959\n",
       "4      1960\n",
       "       ... \n",
       "198    2008\n",
       "199    2008\n",
       "200    2009\n",
       "201    2009\n",
       "202    2009\n",
       "Name: year, Length: 203, dtype: int64"
      ]
     },
     "execution_count": 159,
     "metadata": {},
     "output_type": "execute_result"
    }
   ],
   "source": [
    "data.year"
   ]
  },
  {
   "cell_type": "code",
   "execution_count": 160,
   "id": "1213fa8d-ca17-4946-a9f2-c4b019003a3d",
   "metadata": {},
   "outputs": [
    {
     "data": {
      "text/plain": [
       "PeriodIndex(['1959Q1', '1959Q2', '1959Q3', '1959Q4', '1960Q1', '1960Q2',\n",
       "             '1960Q3', '1960Q4', '1961Q1', '1961Q2',\n",
       "             ...\n",
       "             '2007Q2', '2007Q3', '2007Q4', '2008Q1', '2008Q2', '2008Q3',\n",
       "             '2008Q4', '2009Q1', '2009Q2', '2009Q3'],\n",
       "            dtype='period[Q-DEC]', length=203)"
      ]
     },
     "execution_count": 160,
     "metadata": {},
     "output_type": "execute_result"
    }
   ],
   "source": [
    "# index\n",
    "index = pd.PeriodIndex.from_fields(\n",
    "    year=data[\"year\"],\n",
    "    quarter=data[\"quarter\"],\n",
    "    freq=\"Q-DEC\",\n",
    ")\n",
    "index"
   ]
  },
  {
   "cell_type": "code",
   "execution_count": 161,
   "id": "b6e5509d-1812-43d5-9d6e-13fbf08c75d3",
   "metadata": {},
   "outputs": [],
   "source": [
    "data.index = index"
   ]
  },
  {
   "cell_type": "code",
   "execution_count": 162,
   "id": "27dbe979-96ed-4adf-b8b5-2a6cd4337866",
   "metadata": {},
   "outputs": [
    {
     "data": {
      "text/plain": [
       "1959Q1     28.980\n",
       "1959Q2     29.150\n",
       "1959Q3     29.350\n",
       "1959Q4     29.370\n",
       "1960Q1     29.540\n",
       "           ...   \n",
       "2008Q3    216.889\n",
       "2008Q4    212.174\n",
       "2009Q1    212.671\n",
       "2009Q2    214.469\n",
       "2009Q3    216.385\n",
       "Freq: Q-DEC, Name: cpi, Length: 203, dtype: float64"
      ]
     },
     "execution_count": 162,
     "metadata": {},
     "output_type": "execute_result"
    }
   ],
   "source": [
    "data['cpi']"
   ]
  },
  {
   "cell_type": "markdown",
   "id": "d0f28fbf-9586-4be1-8185-3a239dbf3cd7",
   "metadata": {},
   "source": [
    "<h4>Resampling and Frequency Conversion</h4>"
   ]
  },
  {
   "cell_type": "code",
   "execution_count": 163,
   "id": "9e541dff-2458-4834-b7f9-e0224d10519c",
   "metadata": {},
   "outputs": [
    {
     "data": {
      "text/plain": [
       "DatetimeIndex(['2024-04-06', '2024-04-07', '2024-04-08', '2024-04-09',\n",
       "               '2024-04-10', '2024-04-11', '2024-04-12', '2024-04-13',\n",
       "               '2024-04-14', '2024-04-15', '2024-04-16', '2024-04-17',\n",
       "               '2024-04-18', '2024-04-19', '2024-04-20', '2024-04-21',\n",
       "               '2024-04-22', '2024-04-23', '2024-04-24', '2024-04-25',\n",
       "               '2024-04-26', '2024-04-27', '2024-04-28', '2024-04-29',\n",
       "               '2024-04-30', '2024-05-01', '2024-05-02', '2024-05-03',\n",
       "               '2024-05-04', '2024-05-05', '2024-05-06', '2024-05-07',\n",
       "               '2024-05-08', '2024-05-09', '2024-05-10', '2024-05-11',\n",
       "               '2024-05-12', '2024-05-13', '2024-05-14', '2024-05-15',\n",
       "               '2024-05-16', '2024-05-17', '2024-05-18', '2024-05-19',\n",
       "               '2024-05-20', '2024-05-21', '2024-05-22', '2024-05-23',\n",
       "               '2024-05-24', '2024-05-25', '2024-05-26', '2024-05-27',\n",
       "               '2024-05-28', '2024-05-29', '2024-05-30', '2024-05-31',\n",
       "               '2024-06-01', '2024-06-02', '2024-06-03', '2024-06-04',\n",
       "               '2024-06-05', '2024-06-06', '2024-06-07', '2024-06-08',\n",
       "               '2024-06-09', '2024-06-10', '2024-06-11', '2024-06-12',\n",
       "               '2024-06-13', '2024-06-14', '2024-06-15', '2024-06-16',\n",
       "               '2024-06-17', '2024-06-18', '2024-06-19', '2024-06-20',\n",
       "               '2024-06-21', '2024-06-22', '2024-06-23', '2024-06-24',\n",
       "               '2024-06-25', '2024-06-26', '2024-06-27', '2024-06-28',\n",
       "               '2024-06-29', '2024-06-30', '2024-07-01', '2024-07-02',\n",
       "               '2024-07-03', '2024-07-04', '2024-07-05', '2024-07-06',\n",
       "               '2024-07-07', '2024-07-08', '2024-07-09', '2024-07-10',\n",
       "               '2024-07-11', '2024-07-12', '2024-07-13', '2024-07-14'],\n",
       "              dtype='datetime64[ns]', freq='D')"
      ]
     },
     "execution_count": 163,
     "metadata": {},
     "output_type": "execute_result"
    }
   ],
   "source": [
    "dates = pd.date_range(\n",
    "    \"2024-04-06\",\n",
    "    periods=100)\n",
    "dates"
   ]
  },
  {
   "cell_type": "code",
   "execution_count": 164,
   "id": "68fcd413-065f-4a6a-a1c6-f314d756a70f",
   "metadata": {},
   "outputs": [
    {
     "data": {
      "text/plain": [
       "2024-04-06    0.347004\n",
       "2024-04-07    0.531732\n",
       "2024-04-08    0.999678\n",
       "2024-04-09    0.566659\n",
       "2024-04-10    1.714136\n",
       "                ...   \n",
       "2024-07-10    0.586983\n",
       "2024-07-11   -1.046639\n",
       "2024-07-12   -1.713615\n",
       "2024-07-13    0.665565\n",
       "2024-07-14   -0.576224\n",
       "Freq: D, Length: 100, dtype: float64"
      ]
     },
     "execution_count": 164,
     "metadata": {},
     "output_type": "execute_result"
    }
   ],
   "source": [
    "ts = pd.Series(\n",
    "    np.random.standard_normal(len(dates)),\n",
    "    index=dates)\n",
    "ts"
   ]
  },
  {
   "cell_type": "code",
   "execution_count": 165,
   "id": "0303f7a2-ebee-4bef-ac8e-cd6385e8fd4f",
   "metadata": {},
   "outputs": [
    {
     "data": {
      "text/plain": [
       "2024-04-30    0.188581\n",
       "2024-05-31   -0.166284\n",
       "2024-06-30    0.140989\n",
       "2024-07-31   -0.414172\n",
       "Freq: ME, dtype: float64"
      ]
     },
     "execution_count": 165,
     "metadata": {},
     "output_type": "execute_result"
    }
   ],
   "source": [
    "ts.resample(\n",
    "    \"ME\",\n",
    ").mean()"
   ]
  },
  {
   "cell_type": "code",
   "execution_count": 166,
   "id": "a4c5dffa-63ee-43a5-8e2f-f750339ec1c9",
   "metadata": {},
   "outputs": [
    {
     "data": {
      "text/plain": [
       "2024-04    0.188581\n",
       "2024-05   -0.166284\n",
       "2024-06    0.140989\n",
       "2024-07   -0.414172\n",
       "Freq: M, dtype: float64"
      ]
     },
     "execution_count": 166,
     "metadata": {},
     "output_type": "execute_result"
    }
   ],
   "source": [
    "ts.resample(\"ME\",\n",
    "            # kind=\"period\",\n",
    "           ).mean().to_period()"
   ]
  },
  {
   "cell_type": "markdown",
   "id": "5b60d570-a44c-47a7-99a0-97f72a9792c8",
   "metadata": {},
   "source": [
    "<h5>Downsampling</h5>"
   ]
  },
  {
   "cell_type": "code",
   "execution_count": 167,
   "id": "6ca511ec-e23c-4d1f-9617-241bef506e64",
   "metadata": {},
   "outputs": [
    {
     "data": {
      "text/plain": [
       "DatetimeIndex(['2025-07-12 00:00:00', '2025-07-12 00:01:00',\n",
       "               '2025-07-12 00:02:00', '2025-07-12 00:03:00',\n",
       "               '2025-07-12 00:04:00', '2025-07-12 00:05:00',\n",
       "               '2025-07-12 00:06:00', '2025-07-12 00:07:00',\n",
       "               '2025-07-12 00:08:00', '2025-07-12 00:09:00',\n",
       "               '2025-07-12 00:10:00', '2025-07-12 00:11:00',\n",
       "               '2025-07-12 00:12:00', '2025-07-12 00:13:00',\n",
       "               '2025-07-12 00:14:00', '2025-07-12 00:15:00',\n",
       "               '2025-07-12 00:16:00', '2025-07-12 00:17:00',\n",
       "               '2025-07-12 00:18:00', '2025-07-12 00:19:00'],\n",
       "              dtype='datetime64[ns]', freq='min')"
      ]
     },
     "execution_count": 167,
     "metadata": {},
     "output_type": "execute_result"
    }
   ],
   "source": [
    "dates = pd.date_range(\n",
    "    \"2025-07-12\",\n",
    "    periods=20,\n",
    "    freq=\"min\",\n",
    ")\n",
    "dates"
   ]
  },
  {
   "cell_type": "code",
   "execution_count": 168,
   "id": "8a242697-e02f-4331-b830-c78e9a459052",
   "metadata": {},
   "outputs": [
    {
     "data": {
      "text/plain": [
       "2025-07-12 00:00:00    0.731696\n",
       "2025-07-12 00:01:00    0.849202\n",
       "2025-07-12 00:02:00    0.130072\n",
       "2025-07-12 00:03:00    0.466947\n",
       "2025-07-12 00:04:00   -0.870147\n",
       "2025-07-12 00:05:00   -1.183696\n",
       "2025-07-12 00:06:00    0.861457\n",
       "2025-07-12 00:07:00    0.946027\n",
       "2025-07-12 00:08:00    0.529799\n",
       "2025-07-12 00:09:00    1.320814\n",
       "2025-07-12 00:10:00    1.456590\n",
       "2025-07-12 00:11:00    0.087091\n",
       "2025-07-12 00:12:00   -1.038426\n",
       "2025-07-12 00:13:00    0.532622\n",
       "2025-07-12 00:14:00    0.169932\n",
       "2025-07-12 00:15:00    0.367561\n",
       "2025-07-12 00:16:00   -0.938292\n",
       "2025-07-12 00:17:00    0.998453\n",
       "2025-07-12 00:18:00    0.088648\n",
       "2025-07-12 00:19:00    0.226766\n",
       "Freq: min, dtype: float64"
      ]
     },
     "execution_count": 168,
     "metadata": {},
     "output_type": "execute_result"
    }
   ],
   "source": [
    "ts = pd.Series(\n",
    "    np.random.standard_normal(len(dates)),\n",
    "    index=dates)\n",
    "ts"
   ]
  },
  {
   "cell_type": "code",
   "execution_count": 169,
   "id": "0f3de210-cb9e-4e59-b60f-fc2a1bf35860",
   "metadata": {},
   "outputs": [
    {
     "data": {
      "text/plain": [
       "2025-07-12 00:00:00    1.307771\n",
       "2025-07-12 00:05:00    2.474401\n",
       "2025-07-12 00:10:00    1.207810\n",
       "2025-07-12 00:15:00    0.743135\n",
       "Freq: 5min, dtype: float64"
      ]
     },
     "execution_count": 169,
     "metadata": {},
     "output_type": "execute_result"
    }
   ],
   "source": [
    "# resampling to five minute chuncks\n",
    "ts.resample(\n",
    "    \"5min\"\n",
    ").sum()"
   ]
  },
  {
   "cell_type": "code",
   "execution_count": 170,
   "id": "29c25548-9f72-473a-b2d6-eb3dd5098659",
   "metadata": {},
   "outputs": [
    {
     "data": {
      "text/plain": [
       "2025-07-11 23:55:00    0.731696\n",
       "2025-07-12 00:00:00   -0.607622\n",
       "2025-07-12 00:05:00    5.114687\n",
       "2025-07-12 00:10:00    0.118780\n",
       "2025-07-12 00:15:00    0.375574\n",
       "Freq: 5min, dtype: float64"
      ]
     },
     "execution_count": 170,
     "metadata": {},
     "output_type": "execute_result"
    }
   ],
   "source": [
    "ts.resample(\n",
    "    \"5min\",\n",
    "    closed=\"right\",\n",
    ").sum()"
   ]
  },
  {
   "cell_type": "code",
   "execution_count": 171,
   "id": "c773e109-c237-4576-a13f-d936346b45e8",
   "metadata": {},
   "outputs": [
    {
     "data": {
      "text/plain": [
       "2025-07-11 23:55:00    0.731696\n",
       "2025-07-12 00:00:00   -0.607622\n",
       "2025-07-12 00:05:00    5.114687\n",
       "2025-07-12 00:10:00    0.118780\n",
       "2025-07-12 00:15:00    0.375574\n",
       "Freq: 5min, dtype: float64"
      ]
     },
     "execution_count": 171,
     "metadata": {},
     "output_type": "execute_result"
    }
   ],
   "source": [
    "# What does label mean?\n",
    "ts.resample(\"5min\",\n",
    "            closed=\"right\",\n",
    "            label=\"left\"\n",
    "           ).sum()"
   ]
  },
  {
   "cell_type": "code",
   "execution_count": 172,
   "id": "6c4a5eee-ea54-4fe5-9e40-3c33a0ea5892",
   "metadata": {},
   "outputs": [
    {
     "data": {
      "text/plain": [
       "2025-07-12 00:00:00    1.307771\n",
       "2025-07-12 00:05:00    2.474401\n",
       "2025-07-12 00:10:00    1.207810\n",
       "2025-07-12 00:15:00    0.743135\n",
       "Freq: 5min, dtype: float64"
      ]
     },
     "execution_count": 172,
     "metadata": {},
     "output_type": "execute_result"
    }
   ],
   "source": [
    "ts.resample(\"5min\",\n",
    "            closed=\"left\",\n",
    "           ).sum()"
   ]
  },
  {
   "cell_type": "code",
   "execution_count": 173,
   "id": "0c7873dd-00c2-482e-8b4b-9fc4564d4871",
   "metadata": {},
   "outputs": [
    {
     "data": {
      "text/plain": [
       "2025-07-12 00:00:00    0.731696\n",
       "2025-07-12 00:05:00   -0.607622\n",
       "2025-07-12 00:10:00    5.114687\n",
       "2025-07-12 00:15:00    0.118780\n",
       "2025-07-12 00:20:00    0.375574\n",
       "Freq: 5min, dtype: float64"
      ]
     },
     "execution_count": 173,
     "metadata": {},
     "output_type": "execute_result"
    }
   ],
   "source": [
    "# offseting an interval\n",
    "from pandas.tseries.frequencies import to_offset\n",
    "result = ts.resample(\"5min\",\n",
    "                     closed=\"right\",\n",
    "                     label=\"right\").sum()\n",
    "result"
   ]
  },
  {
   "cell_type": "code",
   "execution_count": 174,
   "id": "11a04585-b582-417d-93a3-f4cd80857410",
   "metadata": {},
   "outputs": [
    {
     "data": {
      "text/plain": [
       "2025-07-11 23:59:59    0.731696\n",
       "2025-07-12 00:04:59   -0.607622\n",
       "2025-07-12 00:09:59    5.114687\n",
       "2025-07-12 00:14:59    0.118780\n",
       "2025-07-12 00:19:59    0.375574\n",
       "Freq: 5min, dtype: float64"
      ]
     },
     "execution_count": 174,
     "metadata": {},
     "output_type": "execute_result"
    }
   ],
   "source": [
    "result.index = result.index + to_offset(\"-1s\")\n",
    "result"
   ]
  },
  {
   "cell_type": "code",
   "execution_count": 175,
   "id": "8a4db3f7-5d96-4ef4-873c-436cf1abf023",
   "metadata": {
    "scrolled": true
   },
   "outputs": [],
   "source": [
    "# ohlc resampling\n",
    "ts = pd.Series(\n",
    "    np.random.permutation(\n",
    "        np.arange(len(dates))),\n",
    "    index=dates)"
   ]
  },
  {
   "cell_type": "code",
   "execution_count": 176,
   "id": "e7904140-eee7-4eca-84cc-3009bfc3f226",
   "metadata": {},
   "outputs": [
    {
     "data": {
      "text/plain": [
       "2025-07-12 00:00:00    18\n",
       "2025-07-12 00:01:00    10\n",
       "2025-07-12 00:02:00    19\n",
       "2025-07-12 00:03:00     3\n",
       "2025-07-12 00:04:00    17\n",
       "2025-07-12 00:05:00    16\n",
       "2025-07-12 00:06:00     6\n",
       "2025-07-12 00:07:00     1\n",
       "2025-07-12 00:08:00     5\n",
       "2025-07-12 00:09:00     9\n",
       "2025-07-12 00:10:00     4\n",
       "2025-07-12 00:11:00    11\n",
       "2025-07-12 00:12:00     8\n",
       "2025-07-12 00:13:00    12\n",
       "2025-07-12 00:14:00     0\n",
       "2025-07-12 00:15:00    14\n",
       "2025-07-12 00:16:00     2\n",
       "2025-07-12 00:17:00    13\n",
       "2025-07-12 00:18:00     7\n",
       "2025-07-12 00:19:00    15\n",
       "Freq: min, dtype: int32"
      ]
     },
     "execution_count": 176,
     "metadata": {},
     "output_type": "execute_result"
    }
   ],
   "source": [
    "ts"
   ]
  },
  {
   "cell_type": "code",
   "execution_count": 177,
   "id": "e6ce4a22-207f-4f56-ae3c-02349e34acdc",
   "metadata": {},
   "outputs": [],
   "source": [
    "# ts = pd.to_datetime(ts)\n",
    "# ts.index = ts.index.strftime(\"%Y-%m-%d\")\n",
    "# ts"
   ]
  },
  {
   "cell_type": "code",
   "execution_count": 178,
   "id": "1ed58fa6-e097-4267-9798-658c6d789178",
   "metadata": {},
   "outputs": [
    {
     "data": {
      "text/html": [
       "<div>\n",
       "<style scoped>\n",
       "    .dataframe tbody tr th:only-of-type {\n",
       "        vertical-align: middle;\n",
       "    }\n",
       "\n",
       "    .dataframe tbody tr th {\n",
       "        vertical-align: top;\n",
       "    }\n",
       "\n",
       "    .dataframe thead th {\n",
       "        text-align: right;\n",
       "    }\n",
       "</style>\n",
       "<table border=\"1\" class=\"dataframe\">\n",
       "  <thead>\n",
       "    <tr style=\"text-align: right;\">\n",
       "      <th></th>\n",
       "      <th>open</th>\n",
       "      <th>high</th>\n",
       "      <th>low</th>\n",
       "      <th>close</th>\n",
       "    </tr>\n",
       "  </thead>\n",
       "  <tbody>\n",
       "    <tr>\n",
       "      <th>2025-07-12 00:00:00</th>\n",
       "      <td>18</td>\n",
       "      <td>19</td>\n",
       "      <td>3</td>\n",
       "      <td>17</td>\n",
       "    </tr>\n",
       "    <tr>\n",
       "      <th>2025-07-12 00:05:00</th>\n",
       "      <td>16</td>\n",
       "      <td>16</td>\n",
       "      <td>1</td>\n",
       "      <td>9</td>\n",
       "    </tr>\n",
       "    <tr>\n",
       "      <th>2025-07-12 00:10:00</th>\n",
       "      <td>4</td>\n",
       "      <td>12</td>\n",
       "      <td>0</td>\n",
       "      <td>0</td>\n",
       "    </tr>\n",
       "    <tr>\n",
       "      <th>2025-07-12 00:15:00</th>\n",
       "      <td>14</td>\n",
       "      <td>15</td>\n",
       "      <td>2</td>\n",
       "      <td>15</td>\n",
       "    </tr>\n",
       "  </tbody>\n",
       "</table>\n",
       "</div>"
      ],
      "text/plain": [
       "                     open  high  low  close\n",
       "2025-07-12 00:00:00    18    19    3     17\n",
       "2025-07-12 00:05:00    16    16    1      9\n",
       "2025-07-12 00:10:00     4    12    0      0\n",
       "2025-07-12 00:15:00    14    15    2     15"
      ]
     },
     "execution_count": 178,
     "metadata": {},
     "output_type": "execute_result"
    }
   ],
   "source": [
    "ts.resample(\n",
    "    \"5min\",\n",
    "    closed=\"left\",\n",
    "    # label=\"left\"\n",
    ").ohlc()"
   ]
  },
  {
   "cell_type": "markdown",
   "id": "34c692cd-de08-4669-8d95-d5a644e41e7a",
   "metadata": {},
   "source": [
    "<h4>Upsampling and interpolation</h4>"
   ]
  },
  {
   "cell_type": "code",
   "execution_count": 179,
   "id": "55b0d8d4-610e-4661-b03d-471f24550422",
   "metadata": {},
   "outputs": [
    {
     "data": {
      "text/html": [
       "<div>\n",
       "<style scoped>\n",
       "    .dataframe tbody tr th:only-of-type {\n",
       "        vertical-align: middle;\n",
       "    }\n",
       "\n",
       "    .dataframe tbody tr th {\n",
       "        vertical-align: top;\n",
       "    }\n",
       "\n",
       "    .dataframe thead th {\n",
       "        text-align: right;\n",
       "    }\n",
       "</style>\n",
       "<table border=\"1\" class=\"dataframe\">\n",
       "  <thead>\n",
       "    <tr style=\"text-align: right;\">\n",
       "      <th></th>\n",
       "      <th>Iganga</th>\n",
       "      <th>Jinja</th>\n",
       "      <th>Kampala</th>\n",
       "      <th>Fort Portal</th>\n",
       "    </tr>\n",
       "  </thead>\n",
       "  <tbody>\n",
       "    <tr>\n",
       "      <th>2024-05-06</th>\n",
       "      <td>-0.551861</td>\n",
       "      <td>-0.094808</td>\n",
       "      <td>0.546583</td>\n",
       "      <td>-0.394074</td>\n",
       "    </tr>\n",
       "    <tr>\n",
       "      <th>2024-05-13</th>\n",
       "      <td>0.153898</td>\n",
       "      <td>-1.657892</td>\n",
       "      <td>0.524284</td>\n",
       "      <td>0.766087</td>\n",
       "    </tr>\n",
       "    <tr>\n",
       "      <th>2024-05-20</th>\n",
       "      <td>-0.531409</td>\n",
       "      <td>0.559175</td>\n",
       "      <td>0.053071</td>\n",
       "      <td>-0.824523</td>\n",
       "    </tr>\n",
       "    <tr>\n",
       "      <th>2024-05-27</th>\n",
       "      <td>0.436767</td>\n",
       "      <td>-0.794947</td>\n",
       "      <td>-0.123020</td>\n",
       "      <td>-0.852742</td>\n",
       "    </tr>\n",
       "    <tr>\n",
       "      <th>2024-06-03</th>\n",
       "      <td>-0.089838</td>\n",
       "      <td>0.463463</td>\n",
       "      <td>-1.650325</td>\n",
       "      <td>0.502372</td>\n",
       "    </tr>\n",
       "    <tr>\n",
       "      <th>2024-06-10</th>\n",
       "      <td>-0.131268</td>\n",
       "      <td>-0.074786</td>\n",
       "      <td>0.849789</td>\n",
       "      <td>-1.147057</td>\n",
       "    </tr>\n",
       "    <tr>\n",
       "      <th>2024-06-17</th>\n",
       "      <td>0.546335</td>\n",
       "      <td>-0.138178</td>\n",
       "      <td>-0.944812</td>\n",
       "      <td>-1.334523</td>\n",
       "    </tr>\n",
       "    <tr>\n",
       "      <th>2024-06-24</th>\n",
       "      <td>0.798924</td>\n",
       "      <td>1.294064</td>\n",
       "      <td>2.013604</td>\n",
       "      <td>0.146318</td>\n",
       "    </tr>\n",
       "    <tr>\n",
       "      <th>2024-07-01</th>\n",
       "      <td>0.228110</td>\n",
       "      <td>0.531205</td>\n",
       "      <td>0.456977</td>\n",
       "      <td>-2.235782</td>\n",
       "    </tr>\n",
       "    <tr>\n",
       "      <th>2024-07-08</th>\n",
       "      <td>-1.123917</td>\n",
       "      <td>0.883566</td>\n",
       "      <td>-1.518537</td>\n",
       "      <td>0.140566</td>\n",
       "    </tr>\n",
       "  </tbody>\n",
       "</table>\n",
       "</div>"
      ],
      "text/plain": [
       "              Iganga     Jinja   Kampala  Fort Portal\n",
       "2024-05-06 -0.551861 -0.094808  0.546583    -0.394074\n",
       "2024-05-13  0.153898 -1.657892  0.524284     0.766087\n",
       "2024-05-20 -0.531409  0.559175  0.053071    -0.824523\n",
       "2024-05-27  0.436767 -0.794947 -0.123020    -0.852742\n",
       "2024-06-03 -0.089838  0.463463 -1.650325     0.502372\n",
       "2024-06-10 -0.131268 -0.074786  0.849789    -1.147057\n",
       "2024-06-17  0.546335 -0.138178 -0.944812    -1.334523\n",
       "2024-06-24  0.798924  1.294064  2.013604     0.146318\n",
       "2024-07-01  0.228110  0.531205  0.456977    -2.235782\n",
       "2024-07-08 -1.123917  0.883566 -1.518537     0.140566"
      ]
     },
     "execution_count": 179,
     "metadata": {},
     "output_type": "execute_result"
    }
   ],
   "source": [
    "frame = pd.DataFrame(\n",
    "    np.random.standard_normal((10, 4)),\n",
    "    index=pd.date_range(\"2024-05-01\", periods=10, freq=\"W-MON\"),\n",
    "    columns=[\"Iganga\", \"Jinja\", \"Kampala\", \"Fort Portal\"]\n",
    ")\n",
    "frame"
   ]
  },
  {
   "cell_type": "code",
   "execution_count": 180,
   "id": "fa3444c3-718f-4df6-9970-4ed46ee232e8",
   "metadata": {},
   "outputs": [
    {
     "data": {
      "text/html": [
       "<div>\n",
       "<style scoped>\n",
       "    .dataframe tbody tr th:only-of-type {\n",
       "        vertical-align: middle;\n",
       "    }\n",
       "\n",
       "    .dataframe tbody tr th {\n",
       "        vertical-align: top;\n",
       "    }\n",
       "\n",
       "    .dataframe thead th {\n",
       "        text-align: right;\n",
       "    }\n",
       "</style>\n",
       "<table border=\"1\" class=\"dataframe\">\n",
       "  <thead>\n",
       "    <tr style=\"text-align: right;\">\n",
       "      <th></th>\n",
       "      <th>Iganga</th>\n",
       "      <th>Jinja</th>\n",
       "      <th>Kampala</th>\n",
       "      <th>Fort Portal</th>\n",
       "    </tr>\n",
       "  </thead>\n",
       "  <tbody>\n",
       "    <tr>\n",
       "      <th>2024-05-06</th>\n",
       "      <td>-0.551861</td>\n",
       "      <td>-0.094808</td>\n",
       "      <td>0.546583</td>\n",
       "      <td>-0.394074</td>\n",
       "    </tr>\n",
       "    <tr>\n",
       "      <th>2024-05-07</th>\n",
       "      <td>NaN</td>\n",
       "      <td>NaN</td>\n",
       "      <td>NaN</td>\n",
       "      <td>NaN</td>\n",
       "    </tr>\n",
       "    <tr>\n",
       "      <th>2024-05-08</th>\n",
       "      <td>NaN</td>\n",
       "      <td>NaN</td>\n",
       "      <td>NaN</td>\n",
       "      <td>NaN</td>\n",
       "    </tr>\n",
       "    <tr>\n",
       "      <th>2024-05-09</th>\n",
       "      <td>NaN</td>\n",
       "      <td>NaN</td>\n",
       "      <td>NaN</td>\n",
       "      <td>NaN</td>\n",
       "    </tr>\n",
       "    <tr>\n",
       "      <th>2024-05-10</th>\n",
       "      <td>NaN</td>\n",
       "      <td>NaN</td>\n",
       "      <td>NaN</td>\n",
       "      <td>NaN</td>\n",
       "    </tr>\n",
       "    <tr>\n",
       "      <th>...</th>\n",
       "      <td>...</td>\n",
       "      <td>...</td>\n",
       "      <td>...</td>\n",
       "      <td>...</td>\n",
       "    </tr>\n",
       "    <tr>\n",
       "      <th>2024-07-04</th>\n",
       "      <td>NaN</td>\n",
       "      <td>NaN</td>\n",
       "      <td>NaN</td>\n",
       "      <td>NaN</td>\n",
       "    </tr>\n",
       "    <tr>\n",
       "      <th>2024-07-05</th>\n",
       "      <td>NaN</td>\n",
       "      <td>NaN</td>\n",
       "      <td>NaN</td>\n",
       "      <td>NaN</td>\n",
       "    </tr>\n",
       "    <tr>\n",
       "      <th>2024-07-06</th>\n",
       "      <td>NaN</td>\n",
       "      <td>NaN</td>\n",
       "      <td>NaN</td>\n",
       "      <td>NaN</td>\n",
       "    </tr>\n",
       "    <tr>\n",
       "      <th>2024-07-07</th>\n",
       "      <td>NaN</td>\n",
       "      <td>NaN</td>\n",
       "      <td>NaN</td>\n",
       "      <td>NaN</td>\n",
       "    </tr>\n",
       "    <tr>\n",
       "      <th>2024-07-08</th>\n",
       "      <td>-1.123917</td>\n",
       "      <td>0.883566</td>\n",
       "      <td>-1.518537</td>\n",
       "      <td>0.140566</td>\n",
       "    </tr>\n",
       "  </tbody>\n",
       "</table>\n",
       "<p>64 rows × 4 columns</p>\n",
       "</div>"
      ],
      "text/plain": [
       "              Iganga     Jinja   Kampala  Fort Portal\n",
       "2024-05-06 -0.551861 -0.094808  0.546583    -0.394074\n",
       "2024-05-07       NaN       NaN       NaN          NaN\n",
       "2024-05-08       NaN       NaN       NaN          NaN\n",
       "2024-05-09       NaN       NaN       NaN          NaN\n",
       "2024-05-10       NaN       NaN       NaN          NaN\n",
       "...              ...       ...       ...          ...\n",
       "2024-07-04       NaN       NaN       NaN          NaN\n",
       "2024-07-05       NaN       NaN       NaN          NaN\n",
       "2024-07-06       NaN       NaN       NaN          NaN\n",
       "2024-07-07       NaN       NaN       NaN          NaN\n",
       "2024-07-08 -1.123917  0.883566 -1.518537     0.140566\n",
       "\n",
       "[64 rows x 4 columns]"
      ]
     },
     "execution_count": 180,
     "metadata": {},
     "output_type": "execute_result"
    }
   ],
   "source": [
    "# upsampling\n",
    "df_daily = frame.resample(\"D\").asfreq()\n",
    "df_daily"
   ]
  },
  {
   "cell_type": "code",
   "execution_count": 181,
   "id": "f5549629-c17d-4bea-a0c7-9f730d6e0766",
   "metadata": {},
   "outputs": [
    {
     "data": {
      "text/html": [
       "<div>\n",
       "<style scoped>\n",
       "    .dataframe tbody tr th:only-of-type {\n",
       "        vertical-align: middle;\n",
       "    }\n",
       "\n",
       "    .dataframe tbody tr th {\n",
       "        vertical-align: top;\n",
       "    }\n",
       "\n",
       "    .dataframe thead th {\n",
       "        text-align: right;\n",
       "    }\n",
       "</style>\n",
       "<table border=\"1\" class=\"dataframe\">\n",
       "  <thead>\n",
       "    <tr style=\"text-align: right;\">\n",
       "      <th></th>\n",
       "      <th>Iganga</th>\n",
       "      <th>Jinja</th>\n",
       "      <th>Kampala</th>\n",
       "      <th>Fort Portal</th>\n",
       "    </tr>\n",
       "  </thead>\n",
       "  <tbody>\n",
       "    <tr>\n",
       "      <th>2024-05-30</th>\n",
       "      <td>NaN</td>\n",
       "      <td>NaN</td>\n",
       "      <td>NaN</td>\n",
       "      <td>NaN</td>\n",
       "    </tr>\n",
       "    <tr>\n",
       "      <th>2024-05-31</th>\n",
       "      <td>NaN</td>\n",
       "      <td>NaN</td>\n",
       "      <td>NaN</td>\n",
       "      <td>NaN</td>\n",
       "    </tr>\n",
       "    <tr>\n",
       "      <th>2024-06-01</th>\n",
       "      <td>NaN</td>\n",
       "      <td>NaN</td>\n",
       "      <td>NaN</td>\n",
       "      <td>NaN</td>\n",
       "    </tr>\n",
       "    <tr>\n",
       "      <th>2024-06-02</th>\n",
       "      <td>NaN</td>\n",
       "      <td>NaN</td>\n",
       "      <td>NaN</td>\n",
       "      <td>NaN</td>\n",
       "    </tr>\n",
       "    <tr>\n",
       "      <th>2024-06-03</th>\n",
       "      <td>-0.089838</td>\n",
       "      <td>0.463463</td>\n",
       "      <td>-1.650325</td>\n",
       "      <td>0.502372</td>\n",
       "    </tr>\n",
       "    <tr>\n",
       "      <th>2024-06-04</th>\n",
       "      <td>NaN</td>\n",
       "      <td>NaN</td>\n",
       "      <td>NaN</td>\n",
       "      <td>NaN</td>\n",
       "    </tr>\n",
       "    <tr>\n",
       "      <th>2024-06-05</th>\n",
       "      <td>NaN</td>\n",
       "      <td>NaN</td>\n",
       "      <td>NaN</td>\n",
       "      <td>NaN</td>\n",
       "    </tr>\n",
       "    <tr>\n",
       "      <th>2024-06-06</th>\n",
       "      <td>NaN</td>\n",
       "      <td>NaN</td>\n",
       "      <td>NaN</td>\n",
       "      <td>NaN</td>\n",
       "    </tr>\n",
       "    <tr>\n",
       "      <th>2024-06-07</th>\n",
       "      <td>NaN</td>\n",
       "      <td>NaN</td>\n",
       "      <td>NaN</td>\n",
       "      <td>NaN</td>\n",
       "    </tr>\n",
       "    <tr>\n",
       "      <th>2024-06-08</th>\n",
       "      <td>NaN</td>\n",
       "      <td>NaN</td>\n",
       "      <td>NaN</td>\n",
       "      <td>NaN</td>\n",
       "    </tr>\n",
       "    <tr>\n",
       "      <th>2024-06-09</th>\n",
       "      <td>NaN</td>\n",
       "      <td>NaN</td>\n",
       "      <td>NaN</td>\n",
       "      <td>NaN</td>\n",
       "    </tr>\n",
       "    <tr>\n",
       "      <th>2024-06-10</th>\n",
       "      <td>-0.131268</td>\n",
       "      <td>-0.074786</td>\n",
       "      <td>0.849789</td>\n",
       "      <td>-1.147057</td>\n",
       "    </tr>\n",
       "    <tr>\n",
       "      <th>2024-06-11</th>\n",
       "      <td>NaN</td>\n",
       "      <td>NaN</td>\n",
       "      <td>NaN</td>\n",
       "      <td>NaN</td>\n",
       "    </tr>\n",
       "    <tr>\n",
       "      <th>2024-06-12</th>\n",
       "      <td>NaN</td>\n",
       "      <td>NaN</td>\n",
       "      <td>NaN</td>\n",
       "      <td>NaN</td>\n",
       "    </tr>\n",
       "    <tr>\n",
       "      <th>2024-06-13</th>\n",
       "      <td>NaN</td>\n",
       "      <td>NaN</td>\n",
       "      <td>NaN</td>\n",
       "      <td>NaN</td>\n",
       "    </tr>\n",
       "    <tr>\n",
       "      <th>2024-06-14</th>\n",
       "      <td>NaN</td>\n",
       "      <td>NaN</td>\n",
       "      <td>NaN</td>\n",
       "      <td>NaN</td>\n",
       "    </tr>\n",
       "    <tr>\n",
       "      <th>2024-06-15</th>\n",
       "      <td>NaN</td>\n",
       "      <td>NaN</td>\n",
       "      <td>NaN</td>\n",
       "      <td>NaN</td>\n",
       "    </tr>\n",
       "    <tr>\n",
       "      <th>2024-06-16</th>\n",
       "      <td>NaN</td>\n",
       "      <td>NaN</td>\n",
       "      <td>NaN</td>\n",
       "      <td>NaN</td>\n",
       "    </tr>\n",
       "    <tr>\n",
       "      <th>2024-06-17</th>\n",
       "      <td>0.546335</td>\n",
       "      <td>-0.138178</td>\n",
       "      <td>-0.944812</td>\n",
       "      <td>-1.334523</td>\n",
       "    </tr>\n",
       "    <tr>\n",
       "      <th>2024-06-18</th>\n",
       "      <td>NaN</td>\n",
       "      <td>NaN</td>\n",
       "      <td>NaN</td>\n",
       "      <td>NaN</td>\n",
       "    </tr>\n",
       "    <tr>\n",
       "      <th>2024-06-19</th>\n",
       "      <td>NaN</td>\n",
       "      <td>NaN</td>\n",
       "      <td>NaN</td>\n",
       "      <td>NaN</td>\n",
       "    </tr>\n",
       "    <tr>\n",
       "      <th>2024-06-20</th>\n",
       "      <td>NaN</td>\n",
       "      <td>NaN</td>\n",
       "      <td>NaN</td>\n",
       "      <td>NaN</td>\n",
       "    </tr>\n",
       "    <tr>\n",
       "      <th>2024-06-21</th>\n",
       "      <td>NaN</td>\n",
       "      <td>NaN</td>\n",
       "      <td>NaN</td>\n",
       "      <td>NaN</td>\n",
       "    </tr>\n",
       "    <tr>\n",
       "      <th>2024-06-22</th>\n",
       "      <td>NaN</td>\n",
       "      <td>NaN</td>\n",
       "      <td>NaN</td>\n",
       "      <td>NaN</td>\n",
       "    </tr>\n",
       "    <tr>\n",
       "      <th>2024-06-23</th>\n",
       "      <td>NaN</td>\n",
       "      <td>NaN</td>\n",
       "      <td>NaN</td>\n",
       "      <td>NaN</td>\n",
       "    </tr>\n",
       "    <tr>\n",
       "      <th>2024-06-24</th>\n",
       "      <td>0.798924</td>\n",
       "      <td>1.294064</td>\n",
       "      <td>2.013604</td>\n",
       "      <td>0.146318</td>\n",
       "    </tr>\n",
       "    <tr>\n",
       "      <th>2024-06-25</th>\n",
       "      <td>NaN</td>\n",
       "      <td>NaN</td>\n",
       "      <td>NaN</td>\n",
       "      <td>NaN</td>\n",
       "    </tr>\n",
       "    <tr>\n",
       "      <th>2024-06-26</th>\n",
       "      <td>NaN</td>\n",
       "      <td>NaN</td>\n",
       "      <td>NaN</td>\n",
       "      <td>NaN</td>\n",
       "    </tr>\n",
       "    <tr>\n",
       "      <th>2024-06-27</th>\n",
       "      <td>NaN</td>\n",
       "      <td>NaN</td>\n",
       "      <td>NaN</td>\n",
       "      <td>NaN</td>\n",
       "    </tr>\n",
       "    <tr>\n",
       "      <th>2024-06-28</th>\n",
       "      <td>NaN</td>\n",
       "      <td>NaN</td>\n",
       "      <td>NaN</td>\n",
       "      <td>NaN</td>\n",
       "    </tr>\n",
       "    <tr>\n",
       "      <th>2024-06-29</th>\n",
       "      <td>NaN</td>\n",
       "      <td>NaN</td>\n",
       "      <td>NaN</td>\n",
       "      <td>NaN</td>\n",
       "    </tr>\n",
       "    <tr>\n",
       "      <th>2024-06-30</th>\n",
       "      <td>NaN</td>\n",
       "      <td>NaN</td>\n",
       "      <td>NaN</td>\n",
       "      <td>NaN</td>\n",
       "    </tr>\n",
       "    <tr>\n",
       "      <th>2024-07-01</th>\n",
       "      <td>0.228110</td>\n",
       "      <td>0.531205</td>\n",
       "      <td>0.456977</td>\n",
       "      <td>-2.235782</td>\n",
       "    </tr>\n",
       "    <tr>\n",
       "      <th>2024-07-02</th>\n",
       "      <td>NaN</td>\n",
       "      <td>NaN</td>\n",
       "      <td>NaN</td>\n",
       "      <td>NaN</td>\n",
       "    </tr>\n",
       "    <tr>\n",
       "      <th>2024-07-03</th>\n",
       "      <td>NaN</td>\n",
       "      <td>NaN</td>\n",
       "      <td>NaN</td>\n",
       "      <td>NaN</td>\n",
       "    </tr>\n",
       "    <tr>\n",
       "      <th>2024-07-04</th>\n",
       "      <td>NaN</td>\n",
       "      <td>NaN</td>\n",
       "      <td>NaN</td>\n",
       "      <td>NaN</td>\n",
       "    </tr>\n",
       "    <tr>\n",
       "      <th>2024-07-05</th>\n",
       "      <td>NaN</td>\n",
       "      <td>NaN</td>\n",
       "      <td>NaN</td>\n",
       "      <td>NaN</td>\n",
       "    </tr>\n",
       "    <tr>\n",
       "      <th>2024-07-06</th>\n",
       "      <td>NaN</td>\n",
       "      <td>NaN</td>\n",
       "      <td>NaN</td>\n",
       "      <td>NaN</td>\n",
       "    </tr>\n",
       "    <tr>\n",
       "      <th>2024-07-07</th>\n",
       "      <td>NaN</td>\n",
       "      <td>NaN</td>\n",
       "      <td>NaN</td>\n",
       "      <td>NaN</td>\n",
       "    </tr>\n",
       "    <tr>\n",
       "      <th>2024-07-08</th>\n",
       "      <td>-1.123917</td>\n",
       "      <td>0.883566</td>\n",
       "      <td>-1.518537</td>\n",
       "      <td>0.140566</td>\n",
       "    </tr>\n",
       "  </tbody>\n",
       "</table>\n",
       "</div>"
      ],
      "text/plain": [
       "              Iganga     Jinja   Kampala  Fort Portal\n",
       "2024-05-30       NaN       NaN       NaN          NaN\n",
       "2024-05-31       NaN       NaN       NaN          NaN\n",
       "2024-06-01       NaN       NaN       NaN          NaN\n",
       "2024-06-02       NaN       NaN       NaN          NaN\n",
       "2024-06-03 -0.089838  0.463463 -1.650325     0.502372\n",
       "2024-06-04       NaN       NaN       NaN          NaN\n",
       "2024-06-05       NaN       NaN       NaN          NaN\n",
       "2024-06-06       NaN       NaN       NaN          NaN\n",
       "2024-06-07       NaN       NaN       NaN          NaN\n",
       "2024-06-08       NaN       NaN       NaN          NaN\n",
       "2024-06-09       NaN       NaN       NaN          NaN\n",
       "2024-06-10 -0.131268 -0.074786  0.849789    -1.147057\n",
       "2024-06-11       NaN       NaN       NaN          NaN\n",
       "2024-06-12       NaN       NaN       NaN          NaN\n",
       "2024-06-13       NaN       NaN       NaN          NaN\n",
       "2024-06-14       NaN       NaN       NaN          NaN\n",
       "2024-06-15       NaN       NaN       NaN          NaN\n",
       "2024-06-16       NaN       NaN       NaN          NaN\n",
       "2024-06-17  0.546335 -0.138178 -0.944812    -1.334523\n",
       "2024-06-18       NaN       NaN       NaN          NaN\n",
       "2024-06-19       NaN       NaN       NaN          NaN\n",
       "2024-06-20       NaN       NaN       NaN          NaN\n",
       "2024-06-21       NaN       NaN       NaN          NaN\n",
       "2024-06-22       NaN       NaN       NaN          NaN\n",
       "2024-06-23       NaN       NaN       NaN          NaN\n",
       "2024-06-24  0.798924  1.294064  2.013604     0.146318\n",
       "2024-06-25       NaN       NaN       NaN          NaN\n",
       "2024-06-26       NaN       NaN       NaN          NaN\n",
       "2024-06-27       NaN       NaN       NaN          NaN\n",
       "2024-06-28       NaN       NaN       NaN          NaN\n",
       "2024-06-29       NaN       NaN       NaN          NaN\n",
       "2024-06-30       NaN       NaN       NaN          NaN\n",
       "2024-07-01  0.228110  0.531205  0.456977    -2.235782\n",
       "2024-07-02       NaN       NaN       NaN          NaN\n",
       "2024-07-03       NaN       NaN       NaN          NaN\n",
       "2024-07-04       NaN       NaN       NaN          NaN\n",
       "2024-07-05       NaN       NaN       NaN          NaN\n",
       "2024-07-06       NaN       NaN       NaN          NaN\n",
       "2024-07-07       NaN       NaN       NaN          NaN\n",
       "2024-07-08 -1.123917  0.883566 -1.518537     0.140566"
      ]
     },
     "execution_count": 181,
     "metadata": {},
     "output_type": "execute_result"
    }
   ],
   "source": [
    "df_daily.tail(40)"
   ]
  },
  {
   "cell_type": "code",
   "execution_count": 182,
   "id": "b979a885-fe35-496d-996b-9e29ab2a3419",
   "metadata": {},
   "outputs": [
    {
     "data": {
      "text/html": [
       "<div>\n",
       "<style scoped>\n",
       "    .dataframe tbody tr th:only-of-type {\n",
       "        vertical-align: middle;\n",
       "    }\n",
       "\n",
       "    .dataframe tbody tr th {\n",
       "        vertical-align: top;\n",
       "    }\n",
       "\n",
       "    .dataframe thead th {\n",
       "        text-align: right;\n",
       "    }\n",
       "</style>\n",
       "<table border=\"1\" class=\"dataframe\">\n",
       "  <thead>\n",
       "    <tr style=\"text-align: right;\">\n",
       "      <th></th>\n",
       "      <th>Iganga</th>\n",
       "      <th>Jinja</th>\n",
       "      <th>Kampala</th>\n",
       "      <th>Fort Portal</th>\n",
       "    </tr>\n",
       "  </thead>\n",
       "  <tbody>\n",
       "    <tr>\n",
       "      <th>2024-05-06</th>\n",
       "      <td>-0.551861</td>\n",
       "      <td>-0.094808</td>\n",
       "      <td>0.546583</td>\n",
       "      <td>-0.394074</td>\n",
       "    </tr>\n",
       "    <tr>\n",
       "      <th>2024-05-07</th>\n",
       "      <td>-0.551861</td>\n",
       "      <td>-0.094808</td>\n",
       "      <td>0.546583</td>\n",
       "      <td>-0.394074</td>\n",
       "    </tr>\n",
       "    <tr>\n",
       "      <th>2024-05-08</th>\n",
       "      <td>-0.551861</td>\n",
       "      <td>-0.094808</td>\n",
       "      <td>0.546583</td>\n",
       "      <td>-0.394074</td>\n",
       "    </tr>\n",
       "    <tr>\n",
       "      <th>2024-05-09</th>\n",
       "      <td>-0.551861</td>\n",
       "      <td>-0.094808</td>\n",
       "      <td>0.546583</td>\n",
       "      <td>-0.394074</td>\n",
       "    </tr>\n",
       "    <tr>\n",
       "      <th>2024-05-10</th>\n",
       "      <td>-0.551861</td>\n",
       "      <td>-0.094808</td>\n",
       "      <td>0.546583</td>\n",
       "      <td>-0.394074</td>\n",
       "    </tr>\n",
       "    <tr>\n",
       "      <th>...</th>\n",
       "      <td>...</td>\n",
       "      <td>...</td>\n",
       "      <td>...</td>\n",
       "      <td>...</td>\n",
       "    </tr>\n",
       "    <tr>\n",
       "      <th>2024-07-04</th>\n",
       "      <td>0.228110</td>\n",
       "      <td>0.531205</td>\n",
       "      <td>0.456977</td>\n",
       "      <td>-2.235782</td>\n",
       "    </tr>\n",
       "    <tr>\n",
       "      <th>2024-07-05</th>\n",
       "      <td>0.228110</td>\n",
       "      <td>0.531205</td>\n",
       "      <td>0.456977</td>\n",
       "      <td>-2.235782</td>\n",
       "    </tr>\n",
       "    <tr>\n",
       "      <th>2024-07-06</th>\n",
       "      <td>0.228110</td>\n",
       "      <td>0.531205</td>\n",
       "      <td>0.456977</td>\n",
       "      <td>-2.235782</td>\n",
       "    </tr>\n",
       "    <tr>\n",
       "      <th>2024-07-07</th>\n",
       "      <td>0.228110</td>\n",
       "      <td>0.531205</td>\n",
       "      <td>0.456977</td>\n",
       "      <td>-2.235782</td>\n",
       "    </tr>\n",
       "    <tr>\n",
       "      <th>2024-07-08</th>\n",
       "      <td>-1.123917</td>\n",
       "      <td>0.883566</td>\n",
       "      <td>-1.518537</td>\n",
       "      <td>0.140566</td>\n",
       "    </tr>\n",
       "  </tbody>\n",
       "</table>\n",
       "<p>64 rows × 4 columns</p>\n",
       "</div>"
      ],
      "text/plain": [
       "              Iganga     Jinja   Kampala  Fort Portal\n",
       "2024-05-06 -0.551861 -0.094808  0.546583    -0.394074\n",
       "2024-05-07 -0.551861 -0.094808  0.546583    -0.394074\n",
       "2024-05-08 -0.551861 -0.094808  0.546583    -0.394074\n",
       "2024-05-09 -0.551861 -0.094808  0.546583    -0.394074\n",
       "2024-05-10 -0.551861 -0.094808  0.546583    -0.394074\n",
       "...              ...       ...       ...          ...\n",
       "2024-07-04  0.228110  0.531205  0.456977    -2.235782\n",
       "2024-07-05  0.228110  0.531205  0.456977    -2.235782\n",
       "2024-07-06  0.228110  0.531205  0.456977    -2.235782\n",
       "2024-07-07  0.228110  0.531205  0.456977    -2.235782\n",
       "2024-07-08 -1.123917  0.883566 -1.518537     0.140566\n",
       "\n",
       "[64 rows x 4 columns]"
      ]
     },
     "execution_count": 182,
     "metadata": {},
     "output_type": "execute_result"
    }
   ],
   "source": [
    "frame.resample(\"D\").ffill()"
   ]
  },
  {
   "cell_type": "code",
   "execution_count": 183,
   "id": "07812866-4da0-42ed-9925-db798a5762c9",
   "metadata": {},
   "outputs": [
    {
     "data": {
      "text/html": [
       "<div>\n",
       "<style scoped>\n",
       "    .dataframe tbody tr th:only-of-type {\n",
       "        vertical-align: middle;\n",
       "    }\n",
       "\n",
       "    .dataframe tbody tr th {\n",
       "        vertical-align: top;\n",
       "    }\n",
       "\n",
       "    .dataframe thead th {\n",
       "        text-align: right;\n",
       "    }\n",
       "</style>\n",
       "<table border=\"1\" class=\"dataframe\">\n",
       "  <thead>\n",
       "    <tr style=\"text-align: right;\">\n",
       "      <th></th>\n",
       "      <th>Iganga</th>\n",
       "      <th>Jinja</th>\n",
       "      <th>Kampala</th>\n",
       "      <th>Fort Portal</th>\n",
       "    </tr>\n",
       "  </thead>\n",
       "  <tbody>\n",
       "    <tr>\n",
       "      <th>2024-05-06</th>\n",
       "      <td>-0.551861</td>\n",
       "      <td>-0.094808</td>\n",
       "      <td>0.546583</td>\n",
       "      <td>-0.394074</td>\n",
       "    </tr>\n",
       "    <tr>\n",
       "      <th>2024-05-07</th>\n",
       "      <td>-0.551861</td>\n",
       "      <td>-0.094808</td>\n",
       "      <td>0.546583</td>\n",
       "      <td>-0.394074</td>\n",
       "    </tr>\n",
       "    <tr>\n",
       "      <th>2024-05-08</th>\n",
       "      <td>-0.551861</td>\n",
       "      <td>-0.094808</td>\n",
       "      <td>0.546583</td>\n",
       "      <td>-0.394074</td>\n",
       "    </tr>\n",
       "    <tr>\n",
       "      <th>2024-05-09</th>\n",
       "      <td>-0.551861</td>\n",
       "      <td>-0.094808</td>\n",
       "      <td>0.546583</td>\n",
       "      <td>-0.394074</td>\n",
       "    </tr>\n",
       "    <tr>\n",
       "      <th>2024-05-10</th>\n",
       "      <td>-0.551861</td>\n",
       "      <td>-0.094808</td>\n",
       "      <td>0.546583</td>\n",
       "      <td>-0.394074</td>\n",
       "    </tr>\n",
       "    <tr>\n",
       "      <th>2024-05-11</th>\n",
       "      <td>-0.551861</td>\n",
       "      <td>-0.094808</td>\n",
       "      <td>0.546583</td>\n",
       "      <td>-0.394074</td>\n",
       "    </tr>\n",
       "    <tr>\n",
       "      <th>2024-05-12</th>\n",
       "      <td>NaN</td>\n",
       "      <td>NaN</td>\n",
       "      <td>NaN</td>\n",
       "      <td>NaN</td>\n",
       "    </tr>\n",
       "    <tr>\n",
       "      <th>2024-05-13</th>\n",
       "      <td>0.153898</td>\n",
       "      <td>-1.657892</td>\n",
       "      <td>0.524284</td>\n",
       "      <td>0.766087</td>\n",
       "    </tr>\n",
       "    <tr>\n",
       "      <th>2024-05-14</th>\n",
       "      <td>0.153898</td>\n",
       "      <td>-1.657892</td>\n",
       "      <td>0.524284</td>\n",
       "      <td>0.766087</td>\n",
       "    </tr>\n",
       "    <tr>\n",
       "      <th>2024-05-15</th>\n",
       "      <td>0.153898</td>\n",
       "      <td>-1.657892</td>\n",
       "      <td>0.524284</td>\n",
       "      <td>0.766087</td>\n",
       "    </tr>\n",
       "  </tbody>\n",
       "</table>\n",
       "</div>"
      ],
      "text/plain": [
       "              Iganga     Jinja   Kampala  Fort Portal\n",
       "2024-05-06 -0.551861 -0.094808  0.546583    -0.394074\n",
       "2024-05-07 -0.551861 -0.094808  0.546583    -0.394074\n",
       "2024-05-08 -0.551861 -0.094808  0.546583    -0.394074\n",
       "2024-05-09 -0.551861 -0.094808  0.546583    -0.394074\n",
       "2024-05-10 -0.551861 -0.094808  0.546583    -0.394074\n",
       "2024-05-11 -0.551861 -0.094808  0.546583    -0.394074\n",
       "2024-05-12       NaN       NaN       NaN          NaN\n",
       "2024-05-13  0.153898 -1.657892  0.524284     0.766087\n",
       "2024-05-14  0.153898 -1.657892  0.524284     0.766087\n",
       "2024-05-15  0.153898 -1.657892  0.524284     0.766087"
      ]
     },
     "execution_count": 183,
     "metadata": {},
     "output_type": "execute_result"
    }
   ],
   "source": [
    "frame.resample(\"D\").ffill(limit=5).head(10)"
   ]
  },
  {
   "cell_type": "code",
   "execution_count": 184,
   "id": "f8a8c020-2a17-4368-8384-d327157bf388",
   "metadata": {},
   "outputs": [
    {
     "data": {
      "text/html": [
       "<div>\n",
       "<style scoped>\n",
       "    .dataframe tbody tr th:only-of-type {\n",
       "        vertical-align: middle;\n",
       "    }\n",
       "\n",
       "    .dataframe tbody tr th {\n",
       "        vertical-align: top;\n",
       "    }\n",
       "\n",
       "    .dataframe thead th {\n",
       "        text-align: right;\n",
       "    }\n",
       "</style>\n",
       "<table border=\"1\" class=\"dataframe\">\n",
       "  <thead>\n",
       "    <tr style=\"text-align: right;\">\n",
       "      <th></th>\n",
       "      <th>Iganga</th>\n",
       "      <th>Jinja</th>\n",
       "      <th>Kampala</th>\n",
       "      <th>Fort Portal</th>\n",
       "    </tr>\n",
       "  </thead>\n",
       "  <tbody>\n",
       "    <tr>\n",
       "      <th>2024-05-09</th>\n",
       "      <td>-0.551861</td>\n",
       "      <td>-0.094808</td>\n",
       "      <td>0.546583</td>\n",
       "      <td>-0.394074</td>\n",
       "    </tr>\n",
       "    <tr>\n",
       "      <th>2024-05-16</th>\n",
       "      <td>0.153898</td>\n",
       "      <td>-1.657892</td>\n",
       "      <td>0.524284</td>\n",
       "      <td>0.766087</td>\n",
       "    </tr>\n",
       "    <tr>\n",
       "      <th>2024-05-23</th>\n",
       "      <td>-0.531409</td>\n",
       "      <td>0.559175</td>\n",
       "      <td>0.053071</td>\n",
       "      <td>-0.824523</td>\n",
       "    </tr>\n",
       "    <tr>\n",
       "      <th>2024-05-30</th>\n",
       "      <td>0.436767</td>\n",
       "      <td>-0.794947</td>\n",
       "      <td>-0.123020</td>\n",
       "      <td>-0.852742</td>\n",
       "    </tr>\n",
       "    <tr>\n",
       "      <th>2024-06-06</th>\n",
       "      <td>-0.089838</td>\n",
       "      <td>0.463463</td>\n",
       "      <td>-1.650325</td>\n",
       "      <td>0.502372</td>\n",
       "    </tr>\n",
       "    <tr>\n",
       "      <th>2024-06-13</th>\n",
       "      <td>-0.131268</td>\n",
       "      <td>-0.074786</td>\n",
       "      <td>0.849789</td>\n",
       "      <td>-1.147057</td>\n",
       "    </tr>\n",
       "    <tr>\n",
       "      <th>2024-06-20</th>\n",
       "      <td>0.546335</td>\n",
       "      <td>-0.138178</td>\n",
       "      <td>-0.944812</td>\n",
       "      <td>-1.334523</td>\n",
       "    </tr>\n",
       "    <tr>\n",
       "      <th>2024-06-27</th>\n",
       "      <td>0.798924</td>\n",
       "      <td>1.294064</td>\n",
       "      <td>2.013604</td>\n",
       "      <td>0.146318</td>\n",
       "    </tr>\n",
       "    <tr>\n",
       "      <th>2024-07-04</th>\n",
       "      <td>0.228110</td>\n",
       "      <td>0.531205</td>\n",
       "      <td>0.456977</td>\n",
       "      <td>-2.235782</td>\n",
       "    </tr>\n",
       "    <tr>\n",
       "      <th>2024-07-11</th>\n",
       "      <td>-1.123917</td>\n",
       "      <td>0.883566</td>\n",
       "      <td>-1.518537</td>\n",
       "      <td>0.140566</td>\n",
       "    </tr>\n",
       "  </tbody>\n",
       "</table>\n",
       "</div>"
      ],
      "text/plain": [
       "              Iganga     Jinja   Kampala  Fort Portal\n",
       "2024-05-09 -0.551861 -0.094808  0.546583    -0.394074\n",
       "2024-05-16  0.153898 -1.657892  0.524284     0.766087\n",
       "2024-05-23 -0.531409  0.559175  0.053071    -0.824523\n",
       "2024-05-30  0.436767 -0.794947 -0.123020    -0.852742\n",
       "2024-06-06 -0.089838  0.463463 -1.650325     0.502372\n",
       "2024-06-13 -0.131268 -0.074786  0.849789    -1.147057\n",
       "2024-06-20  0.546335 -0.138178 -0.944812    -1.334523\n",
       "2024-06-27  0.798924  1.294064  2.013604     0.146318\n",
       "2024-07-04  0.228110  0.531205  0.456977    -2.235782\n",
       "2024-07-11 -1.123917  0.883566 -1.518537     0.140566"
      ]
     },
     "execution_count": 184,
     "metadata": {},
     "output_type": "execute_result"
    }
   ],
   "source": [
    "# using a different index\n",
    "frame.resample(\"W-THU\").ffill(limit=2)"
   ]
  },
  {
   "cell_type": "markdown",
   "id": "47d15a16-279b-4f81-b7f1-a253b72dd6e3",
   "metadata": {},
   "source": [
    "<h4>Resampling with Periods</h4>"
   ]
  },
  {
   "cell_type": "code",
   "execution_count": 185,
   "id": "e67ca99c-40e5-456a-8216-9ed708d990c7",
   "metadata": {},
   "outputs": [
    {
     "data": {
      "text/html": [
       "<div>\n",
       "<style scoped>\n",
       "    .dataframe tbody tr th:only-of-type {\n",
       "        vertical-align: middle;\n",
       "    }\n",
       "\n",
       "    .dataframe tbody tr th {\n",
       "        vertical-align: top;\n",
       "    }\n",
       "\n",
       "    .dataframe thead th {\n",
       "        text-align: right;\n",
       "    }\n",
       "</style>\n",
       "<table border=\"1\" class=\"dataframe\">\n",
       "  <thead>\n",
       "    <tr style=\"text-align: right;\">\n",
       "      <th></th>\n",
       "      <th>Iganga</th>\n",
       "      <th>Jinja</th>\n",
       "      <th>Kampala</th>\n",
       "      <th>Masaka</th>\n",
       "    </tr>\n",
       "  </thead>\n",
       "  <tbody>\n",
       "    <tr>\n",
       "      <th>2024-01</th>\n",
       "      <td>1.975323</td>\n",
       "      <td>0.673556</td>\n",
       "      <td>0.217580</td>\n",
       "      <td>0.771819</td>\n",
       "    </tr>\n",
       "    <tr>\n",
       "      <th>2024-02</th>\n",
       "      <td>0.786840</td>\n",
       "      <td>0.175750</td>\n",
       "      <td>-0.137525</td>\n",
       "      <td>1.024779</td>\n",
       "    </tr>\n",
       "    <tr>\n",
       "      <th>2024-03</th>\n",
       "      <td>-0.407422</td>\n",
       "      <td>-0.248524</td>\n",
       "      <td>-0.371156</td>\n",
       "      <td>0.775639</td>\n",
       "    </tr>\n",
       "    <tr>\n",
       "      <th>2024-04</th>\n",
       "      <td>-0.461714</td>\n",
       "      <td>1.078265</td>\n",
       "      <td>0.156763</td>\n",
       "      <td>1.268105</td>\n",
       "    </tr>\n",
       "    <tr>\n",
       "      <th>2024-05</th>\n",
       "      <td>-0.080403</td>\n",
       "      <td>-0.259791</td>\n",
       "      <td>1.453013</td>\n",
       "      <td>0.338919</td>\n",
       "    </tr>\n",
       "  </tbody>\n",
       "</table>\n",
       "</div>"
      ],
      "text/plain": [
       "           Iganga     Jinja   Kampala    Masaka\n",
       "2024-01  1.975323  0.673556  0.217580  0.771819\n",
       "2024-02  0.786840  0.175750 -0.137525  1.024779\n",
       "2024-03 -0.407422 -0.248524 -0.371156  0.775639\n",
       "2024-04 -0.461714  1.078265  0.156763  1.268105\n",
       "2024-05 -0.080403 -0.259791  1.453013  0.338919"
      ]
     },
     "execution_count": 185,
     "metadata": {},
     "output_type": "execute_result"
    }
   ],
   "source": [
    "frame = pd.DataFrame(\n",
    "    np.random.standard_normal((24, 4)),\n",
    "    index=pd.period_range(\n",
    "        \"1-2024\", \"12-2025\",\n",
    "        freq=\"M\"),\n",
    "    columns=[\"Iganga\", \"Jinja\", \"Kampala\", \"Masaka\"]\n",
    ")\n",
    "frame.head()"
   ]
  },
  {
   "cell_type": "code",
   "execution_count": 186,
   "id": "bb2d06bd-18a9-454c-b13d-9de4de0dc78b",
   "metadata": {},
   "outputs": [],
   "source": [
    "frame = frame.to_timestamp()"
   ]
  },
  {
   "cell_type": "code",
   "execution_count": 187,
   "id": "12d402a3-fb26-4015-9af5-23d698911b0c",
   "metadata": {},
   "outputs": [
    {
     "data": {
      "text/html": [
       "<div>\n",
       "<style scoped>\n",
       "    .dataframe tbody tr th:only-of-type {\n",
       "        vertical-align: middle;\n",
       "    }\n",
       "\n",
       "    .dataframe tbody tr th {\n",
       "        vertical-align: top;\n",
       "    }\n",
       "\n",
       "    .dataframe thead th {\n",
       "        text-align: right;\n",
       "    }\n",
       "</style>\n",
       "<table border=\"1\" class=\"dataframe\">\n",
       "  <thead>\n",
       "    <tr style=\"text-align: right;\">\n",
       "      <th></th>\n",
       "      <th>Iganga</th>\n",
       "      <th>Jinja</th>\n",
       "      <th>Kampala</th>\n",
       "      <th>Masaka</th>\n",
       "    </tr>\n",
       "  </thead>\n",
       "  <tbody>\n",
       "    <tr>\n",
       "      <th>2024-12-31</th>\n",
       "      <td>0.075945</td>\n",
       "      <td>-0.045606</td>\n",
       "      <td>0.172571</td>\n",
       "      <td>-0.029351</td>\n",
       "    </tr>\n",
       "    <tr>\n",
       "      <th>2025-12-31</th>\n",
       "      <td>-0.034672</td>\n",
       "      <td>0.028471</td>\n",
       "      <td>0.394794</td>\n",
       "      <td>-0.181423</td>\n",
       "    </tr>\n",
       "  </tbody>\n",
       "</table>\n",
       "</div>"
      ],
      "text/plain": [
       "              Iganga     Jinja   Kampala    Masaka\n",
       "2024-12-31  0.075945 -0.045606  0.172571 -0.029351\n",
       "2025-12-31 -0.034672  0.028471  0.394794 -0.181423"
      ]
     },
     "execution_count": 187,
     "metadata": {},
     "output_type": "execute_result"
    }
   ],
   "source": [
    "annual_frame = frame.resample(\"YE-DEC\").mean()\n",
    "annual_frame"
   ]
  },
  {
   "cell_type": "code",
   "execution_count": 188,
   "id": "5317ee27-4045-48c8-bb76-1b1a724e2e9f",
   "metadata": {},
   "outputs": [
    {
     "data": {
      "text/html": [
       "<div>\n",
       "<style scoped>\n",
       "    .dataframe tbody tr th:only-of-type {\n",
       "        vertical-align: middle;\n",
       "    }\n",
       "\n",
       "    .dataframe tbody tr th {\n",
       "        vertical-align: top;\n",
       "    }\n",
       "\n",
       "    .dataframe thead th {\n",
       "        text-align: right;\n",
       "    }\n",
       "</style>\n",
       "<table border=\"1\" class=\"dataframe\">\n",
       "  <thead>\n",
       "    <tr style=\"text-align: right;\">\n",
       "      <th></th>\n",
       "      <th>Iganga</th>\n",
       "      <th>Jinja</th>\n",
       "      <th>Kampala</th>\n",
       "      <th>Masaka</th>\n",
       "    </tr>\n",
       "  </thead>\n",
       "  <tbody>\n",
       "    <tr>\n",
       "      <th>2024-12-31</th>\n",
       "      <td>0.075945</td>\n",
       "      <td>-0.045606</td>\n",
       "      <td>0.172571</td>\n",
       "      <td>-0.029351</td>\n",
       "    </tr>\n",
       "    <tr>\n",
       "      <th>2025-03-31</th>\n",
       "      <td>0.075945</td>\n",
       "      <td>-0.045606</td>\n",
       "      <td>0.172571</td>\n",
       "      <td>-0.029351</td>\n",
       "    </tr>\n",
       "    <tr>\n",
       "      <th>2025-06-30</th>\n",
       "      <td>0.075945</td>\n",
       "      <td>-0.045606</td>\n",
       "      <td>0.172571</td>\n",
       "      <td>-0.029351</td>\n",
       "    </tr>\n",
       "    <tr>\n",
       "      <th>2025-09-30</th>\n",
       "      <td>0.075945</td>\n",
       "      <td>-0.045606</td>\n",
       "      <td>0.172571</td>\n",
       "      <td>-0.029351</td>\n",
       "    </tr>\n",
       "    <tr>\n",
       "      <th>2025-12-31</th>\n",
       "      <td>-0.034672</td>\n",
       "      <td>0.028471</td>\n",
       "      <td>0.394794</td>\n",
       "      <td>-0.181423</td>\n",
       "    </tr>\n",
       "  </tbody>\n",
       "</table>\n",
       "</div>"
      ],
      "text/plain": [
       "              Iganga     Jinja   Kampala    Masaka\n",
       "2024-12-31  0.075945 -0.045606  0.172571 -0.029351\n",
       "2025-03-31  0.075945 -0.045606  0.172571 -0.029351\n",
       "2025-06-30  0.075945 -0.045606  0.172571 -0.029351\n",
       "2025-09-30  0.075945 -0.045606  0.172571 -0.029351\n",
       "2025-12-31 -0.034672  0.028471  0.394794 -0.181423"
      ]
     },
     "execution_count": 188,
     "metadata": {},
     "output_type": "execute_result"
    }
   ],
   "source": [
    "# Q-DEC: quarterly, year ending in December\n",
    "annual_frame.resample(\"QE-DEC\").ffill()"
   ]
  },
  {
   "cell_type": "code",
   "execution_count": 195,
   "id": "32d47ec6-835c-42d5-8d55-0b8427cecba1",
   "metadata": {},
   "outputs": [
    {
     "data": {
      "text/html": [
       "<div>\n",
       "<style scoped>\n",
       "    .dataframe tbody tr th:only-of-type {\n",
       "        vertical-align: middle;\n",
       "    }\n",
       "\n",
       "    .dataframe tbody tr th {\n",
       "        vertical-align: top;\n",
       "    }\n",
       "\n",
       "    .dataframe thead th {\n",
       "        text-align: right;\n",
       "    }\n",
       "</style>\n",
       "<table border=\"1\" class=\"dataframe\">\n",
       "  <thead>\n",
       "    <tr style=\"text-align: right;\">\n",
       "      <th></th>\n",
       "      <th>Iganga</th>\n",
       "      <th>Jinja</th>\n",
       "      <th>Kampala</th>\n",
       "      <th>Masaka</th>\n",
       "    </tr>\n",
       "  </thead>\n",
       "  <tbody>\n",
       "    <tr>\n",
       "      <th>2024-12-31</th>\n",
       "      <td>0.075945</td>\n",
       "      <td>-0.045606</td>\n",
       "      <td>0.172571</td>\n",
       "      <td>-0.029351</td>\n",
       "    </tr>\n",
       "    <tr>\n",
       "      <th>2025-12-31</th>\n",
       "      <td>-0.034672</td>\n",
       "      <td>0.028471</td>\n",
       "      <td>0.394794</td>\n",
       "      <td>-0.181423</td>\n",
       "    </tr>\n",
       "  </tbody>\n",
       "</table>\n",
       "</div>"
      ],
      "text/plain": [
       "              Iganga     Jinja   Kampala    Masaka\n",
       "2024-12-31  0.075945 -0.045606  0.172571 -0.029351\n",
       "2025-12-31 -0.034672  0.028471  0.394794 -0.181423"
      ]
     },
     "execution_count": 195,
     "metadata": {},
     "output_type": "execute_result"
    }
   ],
   "source": [
    "# using convention\n",
    "annual_frame.resample(\n",
    "    \"YE-DEC\",\n",
    "    # convention=\"end\"\n",
    ").asfreq()    "
   ]
  },
  {
   "cell_type": "code",
   "execution_count": 197,
   "id": "c0258f8c-f789-46ae-b5fa-5cedb1175240",
   "metadata": {},
   "outputs": [
    {
     "data": {
      "text/html": [
       "<div>\n",
       "<style scoped>\n",
       "    .dataframe tbody tr th:only-of-type {\n",
       "        vertical-align: middle;\n",
       "    }\n",
       "\n",
       "    .dataframe tbody tr th {\n",
       "        vertical-align: top;\n",
       "    }\n",
       "\n",
       "    .dataframe thead th {\n",
       "        text-align: right;\n",
       "    }\n",
       "</style>\n",
       "<table border=\"1\" class=\"dataframe\">\n",
       "  <thead>\n",
       "    <tr style=\"text-align: right;\">\n",
       "      <th></th>\n",
       "      <th>Iganga</th>\n",
       "      <th>Jinja</th>\n",
       "      <th>Kampala</th>\n",
       "      <th>Masaka</th>\n",
       "    </tr>\n",
       "  </thead>\n",
       "  <tbody>\n",
       "    <tr>\n",
       "      <th>2024-12-31</th>\n",
       "      <td>0.075945</td>\n",
       "      <td>-0.045606</td>\n",
       "      <td>0.172571</td>\n",
       "      <td>-0.029351</td>\n",
       "    </tr>\n",
       "    <tr>\n",
       "      <th>2025-03-31</th>\n",
       "      <td>0.075945</td>\n",
       "      <td>-0.045606</td>\n",
       "      <td>0.172571</td>\n",
       "      <td>-0.029351</td>\n",
       "    </tr>\n",
       "    <tr>\n",
       "      <th>2025-06-30</th>\n",
       "      <td>0.075945</td>\n",
       "      <td>-0.045606</td>\n",
       "      <td>0.172571</td>\n",
       "      <td>-0.029351</td>\n",
       "    </tr>\n",
       "    <tr>\n",
       "      <th>2025-09-30</th>\n",
       "      <td>0.075945</td>\n",
       "      <td>-0.045606</td>\n",
       "      <td>0.172571</td>\n",
       "      <td>-0.029351</td>\n",
       "    </tr>\n",
       "    <tr>\n",
       "      <th>2025-12-31</th>\n",
       "      <td>-0.034672</td>\n",
       "      <td>0.028471</td>\n",
       "      <td>0.394794</td>\n",
       "      <td>-0.181423</td>\n",
       "    </tr>\n",
       "  </tbody>\n",
       "</table>\n",
       "</div>"
      ],
      "text/plain": [
       "              Iganga     Jinja   Kampala    Masaka\n",
       "2024-12-31  0.075945 -0.045606  0.172571 -0.029351\n",
       "2025-03-31  0.075945 -0.045606  0.172571 -0.029351\n",
       "2025-06-30  0.075945 -0.045606  0.172571 -0.029351\n",
       "2025-09-30  0.075945 -0.045606  0.172571 -0.029351\n",
       "2025-12-31 -0.034672  0.028471  0.394794 -0.181423"
      ]
     },
     "execution_count": 197,
     "metadata": {},
     "output_type": "execute_result"
    }
   ],
   "source": [
    "# Downsampling and upsampling\n",
    "annual_frame.resample(\"QE-MAR\").ffill()"
   ]
  },
  {
   "cell_type": "code",
   "execution_count": 198,
   "id": "ab66a78a-3d28-4e56-a565-0f0f43404076",
   "metadata": {},
   "outputs": [
    {
     "data": {
      "text/html": [
       "<div>\n",
       "<style scoped>\n",
       "    .dataframe tbody tr th:only-of-type {\n",
       "        vertical-align: middle;\n",
       "    }\n",
       "\n",
       "    .dataframe tbody tr th {\n",
       "        vertical-align: top;\n",
       "    }\n",
       "\n",
       "    .dataframe thead th {\n",
       "        text-align: right;\n",
       "    }\n",
       "</style>\n",
       "<table border=\"1\" class=\"dataframe\">\n",
       "  <thead>\n",
       "    <tr style=\"text-align: right;\">\n",
       "      <th></th>\n",
       "      <th>Iganga</th>\n",
       "      <th>Jinja</th>\n",
       "      <th>Kampala</th>\n",
       "      <th>Masaka</th>\n",
       "    </tr>\n",
       "  </thead>\n",
       "  <tbody>\n",
       "    <tr>\n",
       "      <th>2024-12-31</th>\n",
       "      <td>0.075945</td>\n",
       "      <td>-0.045606</td>\n",
       "      <td>0.172571</td>\n",
       "      <td>-0.029351</td>\n",
       "    </tr>\n",
       "    <tr>\n",
       "      <th>2025-12-31</th>\n",
       "      <td>-0.034672</td>\n",
       "      <td>0.028471</td>\n",
       "      <td>0.394794</td>\n",
       "      <td>-0.181423</td>\n",
       "    </tr>\n",
       "  </tbody>\n",
       "</table>\n",
       "</div>"
      ],
      "text/plain": [
       "              Iganga     Jinja   Kampala    Masaka\n",
       "2024-12-31  0.075945 -0.045606  0.172571 -0.029351\n",
       "2025-12-31 -0.034672  0.028471  0.394794 -0.181423"
      ]
     },
     "execution_count": 198,
     "metadata": {},
     "output_type": "execute_result"
    }
   ],
   "source": [
    "annual_frame"
   ]
  },
  {
   "cell_type": "markdown",
   "id": "e8053aae-88bc-4094-8b0c-cde3a15f47f1",
   "metadata": {},
   "source": [
    "<h4>Grouped Time Sampling</h4>"
   ]
  },
  {
   "cell_type": "code",
   "execution_count": null,
   "id": "945c9670-987f-4fcc-9a0b-6488de085e22",
   "metadata": {},
   "outputs": [],
   "source": []
  }
 ],
 "metadata": {
  "kernelspec": {
   "display_name": "Python 3 (ipykernel)",
   "language": "python",
   "name": "python3"
  },
  "language_info": {
   "codemirror_mode": {
    "name": "ipython",
    "version": 3
   },
   "file_extension": ".py",
   "mimetype": "text/x-python",
   "name": "python",
   "nbconvert_exporter": "python",
   "pygments_lexer": "ipython3",
   "version": "3.12.3"
  }
 },
 "nbformat": 4,
 "nbformat_minor": 5
}
