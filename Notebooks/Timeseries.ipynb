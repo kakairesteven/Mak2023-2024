{
 "cells": [
  {
   "cell_type": "code",
   "execution_count": 2,
   "id": "4bdd8280-ba23-4d97-ab97-3a66d22b70be",
   "metadata": {},
   "outputs": [],
   "source": [
    "import pandas as pd\n",
    "import numpy as np"
   ]
  },
  {
   "cell_type": "markdown",
   "id": "cf2a5027-23ab-4c36-aa43-6122790b9e12",
   "metadata": {},
   "source": [
    "<h3>Date and Time Data Types and Tools</h3>"
   ]
  },
  {
   "cell_type": "code",
   "execution_count": 3,
   "id": "9ba42526-b0b2-4aef-a8be-ac98ecc69710",
   "metadata": {},
   "outputs": [],
   "source": [
    "from datetime import datetime\n",
    "from datetime import timedelta"
   ]
  },
  {
   "cell_type": "code",
   "execution_count": 4,
   "id": "58d629c5-7c7a-48cb-8f82-2945cd2f9f78",
   "metadata": {},
   "outputs": [],
   "source": [
    "now = datetime.now()"
   ]
  },
  {
   "cell_type": "code",
   "execution_count": 5,
   "id": "3e087002-3968-4199-8edc-84c3f9852f38",
   "metadata": {},
   "outputs": [
    {
     "data": {
      "text/plain": [
       "datetime.datetime(2024, 5, 23, 19, 35, 23, 17452)"
      ]
     },
     "execution_count": 5,
     "metadata": {},
     "output_type": "execute_result"
    }
   ],
   "source": [
    "now"
   ]
  },
  {
   "cell_type": "code",
   "execution_count": 6,
   "id": "20e63acf-ff8a-46a8-94b6-01afe6b9e33e",
   "metadata": {},
   "outputs": [
    {
     "data": {
      "text/plain": [
       "(2024, 5, 23, 19, 35)"
      ]
     },
     "execution_count": 6,
     "metadata": {},
     "output_type": "execute_result"
    }
   ],
   "source": [
    "now.year, now.month, now.day, now.hour, now.minute"
   ]
  },
  {
   "cell_type": "code",
   "execution_count": 7,
   "id": "a2fe3da6-e8aa-4739-873d-9da1e3857953",
   "metadata": {},
   "outputs": [
    {
     "data": {
      "text/plain": [
       "2024"
      ]
     },
     "execution_count": 7,
     "metadata": {},
     "output_type": "execute_result"
    }
   ],
   "source": [
    "now.year"
   ]
  },
  {
   "cell_type": "code",
   "execution_count": 8,
   "id": "924fd6cc-1b58-46de-b848-0ad0c46064a2",
   "metadata": {},
   "outputs": [
    {
     "data": {
      "text/plain": [
       "datetime.timedelta(days=2824, seconds=54360)"
      ]
     },
     "execution_count": 8,
     "metadata": {},
     "output_type": "execute_result"
    }
   ],
   "source": [
    "# delta\n",
    "delta = datetime(2024, 5, 21) - datetime(2016, 8, 26, 8, 54)\n",
    "delta"
   ]
  },
  {
   "cell_type": "code",
   "execution_count": 9,
   "id": "6de4b5c7-7621-4e60-a8b6-3e8faff572b1",
   "metadata": {},
   "outputs": [
    {
     "data": {
      "text/plain": [
       "datetime.datetime(2032, 3, 19, 0, 0)"
      ]
     },
     "execution_count": 9,
     "metadata": {},
     "output_type": "execute_result"
    }
   ],
   "source": [
    "# numerical evaluations\n",
    "start = datetime(2024, 1, 1)\n",
    "start + timedelta(3000)"
   ]
  },
  {
   "cell_type": "markdown",
   "id": "858c4492-f13f-4939-980f-4d5ecee2360b",
   "metadata": {},
   "source": [
    "<h4>Converting between String and Datetime</h4>"
   ]
  },
  {
   "cell_type": "code",
   "execution_count": 10,
   "id": "16650903-b067-4866-a773-86692ba1425d",
   "metadata": {},
   "outputs": [],
   "source": [
    "stamp = datetime(2024, 5, 22)"
   ]
  },
  {
   "cell_type": "code",
   "execution_count": 11,
   "id": "72d35af8-3c3d-4bbd-aeac-e59cdd696973",
   "metadata": {},
   "outputs": [
    {
     "data": {
      "text/plain": [
       "'2024-05-22 00:00:00'"
      ]
     },
     "execution_count": 11,
     "metadata": {},
     "output_type": "execute_result"
    }
   ],
   "source": [
    "str(stamp)"
   ]
  },
  {
   "cell_type": "code",
   "execution_count": 12,
   "id": "2b837233-d1c5-40fc-9806-733d8d08e07c",
   "metadata": {},
   "outputs": [
    {
     "data": {
      "text/plain": [
       "'2024-May-22-3-Wednesday-AM'"
      ]
     },
     "execution_count": 12,
     "metadata": {},
     "output_type": "execute_result"
    }
   ],
   "source": [
    "# Conversion to a specified string format\n",
    "stamp.strftime(\"%Y-%B-%d-%u-%A-%p\")"
   ]
  },
  {
   "cell_type": "code",
   "execution_count": 13,
   "id": "bb6b6679-e42b-45ca-b1dd-805b1b1be1dd",
   "metadata": {},
   "outputs": [],
   "source": [
    "value = \"2024-12-03\""
   ]
  },
  {
   "cell_type": "code",
   "execution_count": 14,
   "id": "304b96de-7bb8-445a-8ae1-5d2b7ad9d6d8",
   "metadata": {},
   "outputs": [
    {
     "data": {
      "text/plain": [
       "datetime.datetime(2024, 12, 3, 0, 0)"
      ]
     },
     "execution_count": 14,
     "metadata": {},
     "output_type": "execute_result"
    }
   ],
   "source": [
    "datetime.strptime(value, \"%Y-%m-%d\")"
   ]
  },
  {
   "cell_type": "code",
   "execution_count": 15,
   "id": "716d8f06-6ecf-4ac4-9e6c-c175f7089e3a",
   "metadata": {},
   "outputs": [
    {
     "data": {
      "text/plain": [
       "[datetime.datetime(2025, 7, 6, 0, 0), datetime.datetime(2025, 8, 6, 0, 0)]"
      ]
     },
     "execution_count": 15,
     "metadata": {},
     "output_type": "execute_result"
    }
   ],
   "source": [
    "# converting a list of string dates to datetime format\n",
    "datestrs = [\"7/6/2025\", \"8/6/2025\"]\n",
    "[datetime.strptime(x, \"%m/%d/%Y\") for x in datestrs]"
   ]
  },
  {
   "cell_type": "code",
   "execution_count": 16,
   "id": "195399dd-f068-4057-8367-79a3e3d156e9",
   "metadata": {},
   "outputs": [
    {
     "data": {
      "text/plain": [
       "DatetimeIndex(['2011-07-06 12:00:00', '2025-08-06 00:00:00'], dtype='datetime64[ns]', freq=None)"
      ]
     },
     "execution_count": 16,
     "metadata": {},
     "output_type": "execute_result"
    }
   ],
   "source": [
    "# pandas to_datetime\n",
    "datestrs = [\"2011-07-06 12:00:00\", \"2025-08-06 00:00:00\"]\n",
    "pd.to_datetime(datestrs)"
   ]
  },
  {
   "cell_type": "code",
   "execution_count": 17,
   "id": "a1caa520-3825-4879-b823-bc0b2a9c462a",
   "metadata": {},
   "outputs": [],
   "source": [
    "# dataframe to datetime\n",
    "df = pd.DataFrame(\n",
    "    {\"year\": [2025, 2024, 2023],\n",
    "     \"month\": [2, 4, 8],\n",
    "     \"day\": [5, 4, 5]\n",
    "    })"
   ]
  },
  {
   "cell_type": "code",
   "execution_count": 18,
   "id": "c7f68464-da42-4e2a-9372-e03e590840cd",
   "metadata": {},
   "outputs": [
    {
     "data": {
      "text/html": [
       "<div>\n",
       "<style scoped>\n",
       "    .dataframe tbody tr th:only-of-type {\n",
       "        vertical-align: middle;\n",
       "    }\n",
       "\n",
       "    .dataframe tbody tr th {\n",
       "        vertical-align: top;\n",
       "    }\n",
       "\n",
       "    .dataframe thead th {\n",
       "        text-align: right;\n",
       "    }\n",
       "</style>\n",
       "<table border=\"1\" class=\"dataframe\">\n",
       "  <thead>\n",
       "    <tr style=\"text-align: right;\">\n",
       "      <th></th>\n",
       "      <th>year</th>\n",
       "      <th>month</th>\n",
       "      <th>day</th>\n",
       "    </tr>\n",
       "  </thead>\n",
       "  <tbody>\n",
       "    <tr>\n",
       "      <th>0</th>\n",
       "      <td>2025</td>\n",
       "      <td>2</td>\n",
       "      <td>5</td>\n",
       "    </tr>\n",
       "    <tr>\n",
       "      <th>1</th>\n",
       "      <td>2024</td>\n",
       "      <td>4</td>\n",
       "      <td>4</td>\n",
       "    </tr>\n",
       "    <tr>\n",
       "      <th>2</th>\n",
       "      <td>2023</td>\n",
       "      <td>8</td>\n",
       "      <td>5</td>\n",
       "    </tr>\n",
       "  </tbody>\n",
       "</table>\n",
       "</div>"
      ],
      "text/plain": [
       "   year  month  day\n",
       "0  2025      2    5\n",
       "1  2024      4    4\n",
       "2  2023      8    5"
      ]
     },
     "execution_count": 18,
     "metadata": {},
     "output_type": "execute_result"
    }
   ],
   "source": [
    "df"
   ]
  },
  {
   "cell_type": "code",
   "execution_count": 19,
   "id": "890c9cc7-0891-4ab7-82da-f59b530768e4",
   "metadata": {},
   "outputs": [
    {
     "data": {
      "text/plain": [
       "0   2025-02-05\n",
       "1   2024-04-04\n",
       "2   2023-08-05\n",
       "dtype: datetime64[ns]"
      ]
     },
     "execution_count": 19,
     "metadata": {},
     "output_type": "execute_result"
    }
   ],
   "source": [
    "pd.to_datetime(df)"
   ]
  },
  {
   "cell_type": "code",
   "execution_count": 20,
   "id": "f45e75c6-7f1b-43f2-96d3-a9ef91e66482",
   "metadata": {},
   "outputs": [],
   "source": [
    "datestr = [\"2025-07-06 12:00:00\",\n",
    "           \"2034-08-04 13:45:34\"]"
   ]
  },
  {
   "cell_type": "code",
   "execution_count": 21,
   "id": "696dd270-8a4b-4ef6-8556-c7e9a791365a",
   "metadata": {},
   "outputs": [],
   "source": [
    "# Missing values, Not a Time values are also accepted\n",
    "idx = pd.to_datetime(datestrs + [None])"
   ]
  },
  {
   "cell_type": "code",
   "execution_count": 22,
   "id": "2208c9ec-4fae-42b5-b22c-4ffa42cf95c9",
   "metadata": {},
   "outputs": [
    {
     "data": {
      "text/plain": [
       "DatetimeIndex(['2011-07-06 12:00:00', '2025-08-06 00:00:00', 'NaT'], dtype='datetime64[ns]', freq=None)"
      ]
     },
     "execution_count": 22,
     "metadata": {},
     "output_type": "execute_result"
    }
   ],
   "source": [
    "idx"
   ]
  },
  {
   "cell_type": "code",
   "execution_count": 23,
   "id": "6797c513-a438-47b1-b20d-98229a57151f",
   "metadata": {},
   "outputs": [
    {
     "data": {
      "text/plain": [
       "NaT"
      ]
     },
     "execution_count": 23,
     "metadata": {},
     "output_type": "execute_result"
    }
   ],
   "source": [
    "# indexing idx\n",
    "idx[2]"
   ]
  },
  {
   "cell_type": "code",
   "execution_count": 24,
   "id": "415f6f21-7930-4ba9-86cd-be24182f36bd",
   "metadata": {},
   "outputs": [
    {
     "data": {
      "text/plain": [
       "array([False, False,  True])"
      ]
     },
     "execution_count": 24,
     "metadata": {},
     "output_type": "execute_result"
    }
   ],
   "source": [
    "pd.isna(idx)"
   ]
  },
  {
   "cell_type": "markdown",
   "id": "a83ece02-783c-4d4f-afc6-092d0d756bd6",
   "metadata": {},
   "source": [
    "<h4>Time Series Basics</h4>"
   ]
  },
  {
   "cell_type": "code",
   "execution_count": 25,
   "id": "4231ac4c-cb8e-4ed7-a669-c8af90b15a0d",
   "metadata": {},
   "outputs": [],
   "source": [
    "# time series\n",
    "dates = [datetime(2024, 6, 2),\n",
    "        datetime(2025, 10, 21),\n",
    "        datetime(2024, 4, 12),\n",
    "        datetime(2023, 10, 5),\n",
    "        datetime(2016, 11, 3),\n",
    "        datetime(2017, 3, 15),\n",
    "        datetime(2019, 6, 3),\n",
    "        datetime(2020, 5, 8),\n",
    "       ]"
   ]
  },
  {
   "cell_type": "code",
   "execution_count": 26,
   "id": "7454449a-59f2-4990-aeeb-0f25b3e083bb",
   "metadata": {},
   "outputs": [],
   "source": [
    "ts =pd.Series(np.random.standard_normal(8),\n",
    "              index=dates,\n",
    "             )"
   ]
  },
  {
   "cell_type": "code",
   "execution_count": 27,
   "id": "a78c476b-151b-4f83-8e46-2bfe93c81da8",
   "metadata": {},
   "outputs": [
    {
     "data": {
      "text/plain": [
       "2024-06-02    0.213264\n",
       "2025-10-21   -0.185569\n",
       "2024-04-12    0.182388\n",
       "2023-10-05    0.196072\n",
       "2016-11-03   -0.230419\n",
       "2017-03-15   -0.157625\n",
       "2019-06-03    0.052849\n",
       "2020-05-08    0.267221\n",
       "dtype: float64"
      ]
     },
     "execution_count": 27,
     "metadata": {},
     "output_type": "execute_result"
    }
   ],
   "source": [
    "ts"
   ]
  },
  {
   "cell_type": "code",
   "execution_count": 28,
   "id": "f516ed5e-9fe5-4ce6-8455-f5aefbc54611",
   "metadata": {},
   "outputs": [
    {
     "data": {
      "text/plain": [
       "2016-11-03         NaN\n",
       "2017-03-15         NaN\n",
       "2019-06-03    0.105699\n",
       "2020-05-08         NaN\n",
       "2023-10-05    0.392144\n",
       "2024-04-12         NaN\n",
       "2024-06-02    0.426529\n",
       "2025-10-21         NaN\n",
       "dtype: float64"
      ]
     },
     "execution_count": 28,
     "metadata": {},
     "output_type": "execute_result"
    }
   ],
   "source": [
    "ts + ts[::3]"
   ]
  },
  {
   "cell_type": "code",
   "execution_count": 29,
   "id": "b4b800ed-4319-4df7-88f4-e0c227348de6",
   "metadata": {},
   "outputs": [
    {
     "data": {
      "text/plain": [
       "2024-06-02    0.213264\n",
       "2023-10-05    0.196072\n",
       "2019-06-03    0.052849\n",
       "dtype: float64"
      ]
     },
     "execution_count": 29,
     "metadata": {},
     "output_type": "execute_result"
    }
   ],
   "source": [
    "ts[::3]"
   ]
  },
  {
   "cell_type": "markdown",
   "id": "c1d1bad1-2d75-45c3-a5cf-9894164bb67d",
   "metadata": {},
   "source": [
    "<h4>indexing, Selecting and Subsetting</h4>"
   ]
  },
  {
   "cell_type": "code",
   "execution_count": 30,
   "id": "b3a63b28-f387-461c-ba3e-02494eed20f0",
   "metadata": {},
   "outputs": [],
   "source": [
    "# same as indexing a series\n",
    "stamp = ts.index[2]"
   ]
  },
  {
   "cell_type": "code",
   "execution_count": 31,
   "id": "f6aa4016-21af-41b1-940c-a43c240cbee9",
   "metadata": {},
   "outputs": [
    {
     "data": {
      "text/plain": [
       "Timestamp('2024-04-12 00:00:00')"
      ]
     },
     "execution_count": 31,
     "metadata": {},
     "output_type": "execute_result"
    }
   ],
   "source": [
    "stamp"
   ]
  },
  {
   "cell_type": "code",
   "execution_count": 32,
   "id": "b28abe19-d644-4bb1-8e00-5e131f709bb3",
   "metadata": {},
   "outputs": [
    {
     "data": {
      "text/plain": [
       "0.21326441112883648"
      ]
     },
     "execution_count": 32,
     "metadata": {},
     "output_type": "execute_result"
    }
   ],
   "source": [
    "ts.iat[0]"
   ]
  },
  {
   "cell_type": "code",
   "execution_count": 33,
   "id": "2f2e11a9-8ff9-4f7b-9898-7ba7882bcb29",
   "metadata": {},
   "outputs": [],
   "source": [
    "# indexing by year\n",
    "longer_ts = pd.Series(np.random.standard_normal(2000),\n",
    "                      index=pd.date_range(\"2024-05-22\",\n",
    "                                          periods=2000))"
   ]
  },
  {
   "cell_type": "code",
   "execution_count": 34,
   "id": "5e3f0026-8206-41be-9b02-94f5e950271c",
   "metadata": {},
   "outputs": [
    {
     "data": {
      "text/plain": [
       "2024-05-22    0.888045\n",
       "2024-05-23    0.308801\n",
       "2024-05-24   -0.611889\n",
       "2024-05-25   -1.355504\n",
       "2024-05-26   -0.623805\n",
       "                ...   \n",
       "2024-12-27   -1.450267\n",
       "2024-12-28    1.030865\n",
       "2024-12-29   -1.047969\n",
       "2024-12-30   -0.105716\n",
       "2024-12-31   -0.529283\n",
       "Freq: D, Length: 224, dtype: float64"
      ]
     },
     "execution_count": 34,
     "metadata": {},
     "output_type": "execute_result"
    }
   ],
   "source": [
    "longer_ts[\"2024\"]"
   ]
  },
  {
   "cell_type": "code",
   "execution_count": 35,
   "id": "76f5d3ce-448a-4a07-bd6d-7f78d4052e76",
   "metadata": {},
   "outputs": [
    {
     "data": {
      "text/plain": [
       "2024-06-01   -0.721884\n",
       "2024-06-02    0.179313\n",
       "2024-06-03    0.114105\n",
       "2024-06-04    1.004096\n",
       "2024-06-05    1.033414\n",
       "2024-06-06    0.568836\n",
       "2024-06-07   -0.276858\n",
       "2024-06-08   -0.572352\n",
       "2024-06-09   -2.396891\n",
       "2024-06-10   -1.182333\n",
       "2024-06-11   -1.806658\n",
       "2024-06-12    0.790065\n",
       "2024-06-13   -1.825670\n",
       "2024-06-14   -1.816582\n",
       "2024-06-15    0.181086\n",
       "2024-06-16    1.087165\n",
       "2024-06-17   -0.533102\n",
       "2024-06-18   -1.012590\n",
       "2024-06-19    0.134260\n",
       "2024-06-20   -0.735115\n",
       "2024-06-21    1.595760\n",
       "2024-06-22   -0.170303\n",
       "2024-06-23    0.181479\n",
       "2024-06-24    0.582189\n",
       "2024-06-25   -0.415368\n",
       "2024-06-26    0.978739\n",
       "2024-06-27   -0.537481\n",
       "2024-06-28   -0.728823\n",
       "2024-06-29    0.380556\n",
       "2024-06-30   -0.943512\n",
       "Freq: D, dtype: float64"
      ]
     },
     "execution_count": 35,
     "metadata": {},
     "output_type": "execute_result"
    }
   ],
   "source": [
    "# selecting by year-month\n",
    "longer_ts[\"2024-06\"]"
   ]
  },
  {
   "cell_type": "code",
   "execution_count": 36,
   "id": "edc475c3-b65c-49e9-9e5f-80d2bd1eb3b7",
   "metadata": {},
   "outputs": [
    {
     "data": {
      "text/plain": [
       "2024-05-22    0.888045\n",
       "2024-05-23    0.308801\n",
       "2024-05-24   -0.611889\n",
       "2024-05-25   -1.355504\n",
       "2024-05-26   -0.623805\n",
       "                ...   \n",
       "2024-07-28   -0.271999\n",
       "2024-07-29   -1.178797\n",
       "2024-07-30   -0.798791\n",
       "2024-07-31    0.018890\n",
       "2024-08-01    1.155198\n",
       "Freq: D, Length: 72, dtype: float64"
      ]
     },
     "execution_count": 36,
     "metadata": {},
     "output_type": "execute_result"
    }
   ],
   "source": [
    "# Slicing by datetime\n",
    "longer_ts[datetime(2024,5,22):\n",
    "datetime(2024,8,1)\n",
    "]"
   ]
  },
  {
   "cell_type": "code",
   "execution_count": 37,
   "id": "c14fc0ad-07f2-47f4-ad3e-c55f7814a0ce",
   "metadata": {},
   "outputs": [
    {
     "data": {
      "text/plain": [
       "2024-05-22    0.888045\n",
       "2024-05-23    0.308801\n",
       "2024-05-24   -0.611889\n",
       "2024-05-25   -1.355504\n",
       "2024-05-26   -0.623805\n",
       "                ...   \n",
       "2024-08-22   -0.850604\n",
       "2024-08-23   -0.363636\n",
       "2024-08-24   -0.131431\n",
       "2024-08-25   -1.752736\n",
       "2024-08-26   -0.606783\n",
       "Freq: D, Length: 97, dtype: float64"
      ]
     },
     "execution_count": 37,
     "metadata": {},
     "output_type": "execute_result"
    }
   ],
   "source": [
    "# Slicing with a timestamp not contained in the ts\n",
    "longer_ts[datetime(2016, 8, 26):\n",
    "datetime(2024, 8, 26)\n",
    "]"
   ]
  },
  {
   "cell_type": "code",
   "execution_count": 38,
   "id": "9f552a3d-b577-455d-ac72-24cc3724501f",
   "metadata": {},
   "outputs": [
    {
     "data": {
      "text/plain": [
       "2024-05-22    0.888045\n",
       "2024-05-23    0.308801\n",
       "2024-05-24   -0.611889\n",
       "2024-05-25   -1.355504\n",
       "2024-05-26   -0.623805\n",
       "                ...   \n",
       "2029-11-07   -1.817091\n",
       "2029-11-08    1.618764\n",
       "2029-11-09   -0.177241\n",
       "2029-11-10    0.760249\n",
       "2029-11-11    0.723129\n",
       "Freq: D, Length: 2000, dtype: float64"
      ]
     },
     "execution_count": 38,
     "metadata": {},
     "output_type": "execute_result"
    }
   ],
   "source": [
    "longer_ts"
   ]
  },
  {
   "cell_type": "code",
   "execution_count": 39,
   "id": "487d875b-83c2-492e-9a0e-bb3310b7fa1f",
   "metadata": {},
   "outputs": [
    {
     "data": {
      "text/plain": [
       "2024-05-22    0.888045\n",
       "2024-05-23    0.308801\n",
       "2024-05-24   -0.611889\n",
       "2024-05-25   -1.355504\n",
       "2024-05-26   -0.623805\n",
       "                ...   \n",
       "2025-05-18    1.131796\n",
       "2025-05-19    0.420651\n",
       "2025-05-20   -1.490575\n",
       "2025-05-21   -0.161611\n",
       "2025-05-22    0.437621\n",
       "Freq: D, Length: 366, dtype: float64"
      ]
     },
     "execution_count": 39,
     "metadata": {},
     "output_type": "execute_result"
    }
   ],
   "source": [
    "# truncating after a specific date\n",
    "longer_ts.truncate(after=\"2025-05-22\")"
   ]
  },
  {
   "cell_type": "code",
   "execution_count": 40,
   "id": "ed8e9f70-82fd-4930-afa6-d13fcf6c3b3b",
   "metadata": {},
   "outputs": [],
   "source": [
    "dates = pd.date_range(\"2024-01-01\",\n",
    "                      periods=100,\n",
    "                      freq=\"W-WED\"\n",
    "                     )"
   ]
  },
  {
   "cell_type": "code",
   "execution_count": 41,
   "id": "7e28c20f-d407-4236-a19e-c1b5e5dca963",
   "metadata": {},
   "outputs": [],
   "source": [
    "long_df = pd.DataFrame(np.random.standard_normal((100,4)),\n",
    "                       index=dates,\n",
    "                       columns=[\"Iganga\", \"Jinja\", \"Kampala\", \"Busia\"])"
   ]
  },
  {
   "cell_type": "code",
   "execution_count": 45,
   "id": "9ce9342e-b2cd-4fd4-8508-f52cc032f869",
   "metadata": {},
   "outputs": [
    {
     "data": {
      "text/html": [
       "<div>\n",
       "<style scoped>\n",
       "    .dataframe tbody tr th:only-of-type {\n",
       "        vertical-align: middle;\n",
       "    }\n",
       "\n",
       "    .dataframe tbody tr th {\n",
       "        vertical-align: top;\n",
       "    }\n",
       "\n",
       "    .dataframe thead th {\n",
       "        text-align: right;\n",
       "    }\n",
       "</style>\n",
       "<table border=\"1\" class=\"dataframe\">\n",
       "  <thead>\n",
       "    <tr style=\"text-align: right;\">\n",
       "      <th></th>\n",
       "      <th>Iganga</th>\n",
       "      <th>Jinja</th>\n",
       "      <th>Kampala</th>\n",
       "      <th>Busia</th>\n",
       "    </tr>\n",
       "  </thead>\n",
       "  <tbody>\n",
       "    <tr>\n",
       "      <th>2024-01-03</th>\n",
       "      <td>-1.499353</td>\n",
       "      <td>-2.136799</td>\n",
       "      <td>-0.098557</td>\n",
       "      <td>-0.956905</td>\n",
       "    </tr>\n",
       "    <tr>\n",
       "      <th>2024-01-10</th>\n",
       "      <td>0.272291</td>\n",
       "      <td>0.629934</td>\n",
       "      <td>-1.866105</td>\n",
       "      <td>-0.397772</td>\n",
       "    </tr>\n",
       "    <tr>\n",
       "      <th>2024-01-17</th>\n",
       "      <td>0.176997</td>\n",
       "      <td>-0.115254</td>\n",
       "      <td>-0.119011</td>\n",
       "      <td>-0.761398</td>\n",
       "    </tr>\n",
       "    <tr>\n",
       "      <th>2024-01-24</th>\n",
       "      <td>2.195403</td>\n",
       "      <td>-1.823289</td>\n",
       "      <td>-1.483480</td>\n",
       "      <td>0.332055</td>\n",
       "    </tr>\n",
       "    <tr>\n",
       "      <th>2024-01-31</th>\n",
       "      <td>-1.355002</td>\n",
       "      <td>0.326344</td>\n",
       "      <td>-1.339733</td>\n",
       "      <td>-0.159754</td>\n",
       "    </tr>\n",
       "    <tr>\n",
       "      <th>2024-02-07</th>\n",
       "      <td>0.217617</td>\n",
       "      <td>-1.646863</td>\n",
       "      <td>0.060874</td>\n",
       "      <td>-0.429657</td>\n",
       "    </tr>\n",
       "    <tr>\n",
       "      <th>2024-02-14</th>\n",
       "      <td>1.138525</td>\n",
       "      <td>0.347980</td>\n",
       "      <td>-0.671941</td>\n",
       "      <td>-0.170572</td>\n",
       "    </tr>\n",
       "    <tr>\n",
       "      <th>2024-02-21</th>\n",
       "      <td>0.659408</td>\n",
       "      <td>0.684733</td>\n",
       "      <td>1.069887</td>\n",
       "      <td>0.353939</td>\n",
       "    </tr>\n",
       "    <tr>\n",
       "      <th>2024-02-28</th>\n",
       "      <td>0.001701</td>\n",
       "      <td>-0.963530</td>\n",
       "      <td>-1.153121</td>\n",
       "      <td>1.199911</td>\n",
       "    </tr>\n",
       "    <tr>\n",
       "      <th>2024-03-06</th>\n",
       "      <td>-0.855045</td>\n",
       "      <td>-2.396617</td>\n",
       "      <td>-2.005608</td>\n",
       "      <td>-0.447509</td>\n",
       "    </tr>\n",
       "    <tr>\n",
       "      <th>2024-03-13</th>\n",
       "      <td>0.699305</td>\n",
       "      <td>0.003441</td>\n",
       "      <td>0.016564</td>\n",
       "      <td>-1.958911</td>\n",
       "    </tr>\n",
       "    <tr>\n",
       "      <th>2024-03-20</th>\n",
       "      <td>0.310940</td>\n",
       "      <td>0.400186</td>\n",
       "      <td>1.000689</td>\n",
       "      <td>0.239892</td>\n",
       "    </tr>\n",
       "    <tr>\n",
       "      <th>2024-03-27</th>\n",
       "      <td>1.020943</td>\n",
       "      <td>-0.677526</td>\n",
       "      <td>-0.625990</td>\n",
       "      <td>-0.585770</td>\n",
       "    </tr>\n",
       "    <tr>\n",
       "      <th>2024-04-03</th>\n",
       "      <td>-0.249543</td>\n",
       "      <td>2.388741</td>\n",
       "      <td>-0.815656</td>\n",
       "      <td>-0.413014</td>\n",
       "    </tr>\n",
       "    <tr>\n",
       "      <th>2024-04-10</th>\n",
       "      <td>-0.115542</td>\n",
       "      <td>-1.384238</td>\n",
       "      <td>0.636691</td>\n",
       "      <td>-0.434784</td>\n",
       "    </tr>\n",
       "    <tr>\n",
       "      <th>2024-04-17</th>\n",
       "      <td>-0.241626</td>\n",
       "      <td>-0.075068</td>\n",
       "      <td>-1.134993</td>\n",
       "      <td>1.726367</td>\n",
       "    </tr>\n",
       "    <tr>\n",
       "      <th>2024-04-24</th>\n",
       "      <td>-1.246022</td>\n",
       "      <td>0.376780</td>\n",
       "      <td>-1.304985</td>\n",
       "      <td>0.297298</td>\n",
       "    </tr>\n",
       "    <tr>\n",
       "      <th>2024-05-01</th>\n",
       "      <td>1.018647</td>\n",
       "      <td>-1.669756</td>\n",
       "      <td>0.499005</td>\n",
       "      <td>-0.892593</td>\n",
       "    </tr>\n",
       "    <tr>\n",
       "      <th>2024-05-08</th>\n",
       "      <td>0.449327</td>\n",
       "      <td>-0.199636</td>\n",
       "      <td>-1.201610</td>\n",
       "      <td>0.194813</td>\n",
       "    </tr>\n",
       "    <tr>\n",
       "      <th>2024-05-15</th>\n",
       "      <td>2.005755</td>\n",
       "      <td>-0.473977</td>\n",
       "      <td>1.736276</td>\n",
       "      <td>0.685663</td>\n",
       "    </tr>\n",
       "    <tr>\n",
       "      <th>2024-05-22</th>\n",
       "      <td>-1.898597</td>\n",
       "      <td>-0.930332</td>\n",
       "      <td>-1.555762</td>\n",
       "      <td>-0.037411</td>\n",
       "    </tr>\n",
       "    <tr>\n",
       "      <th>2024-05-29</th>\n",
       "      <td>-0.843457</td>\n",
       "      <td>-0.331644</td>\n",
       "      <td>-0.059375</td>\n",
       "      <td>0.512494</td>\n",
       "    </tr>\n",
       "    <tr>\n",
       "      <th>2024-06-05</th>\n",
       "      <td>0.899383</td>\n",
       "      <td>-0.441975</td>\n",
       "      <td>-0.124015</td>\n",
       "      <td>-0.281665</td>\n",
       "    </tr>\n",
       "    <tr>\n",
       "      <th>2024-06-12</th>\n",
       "      <td>-0.378319</td>\n",
       "      <td>-1.270680</td>\n",
       "      <td>0.653390</td>\n",
       "      <td>0.153695</td>\n",
       "    </tr>\n",
       "    <tr>\n",
       "      <th>2024-06-19</th>\n",
       "      <td>0.426283</td>\n",
       "      <td>0.744241</td>\n",
       "      <td>1.276616</td>\n",
       "      <td>-0.772815</td>\n",
       "    </tr>\n",
       "    <tr>\n",
       "      <th>2024-06-26</th>\n",
       "      <td>0.128098</td>\n",
       "      <td>0.411738</td>\n",
       "      <td>1.011225</td>\n",
       "      <td>0.492070</td>\n",
       "    </tr>\n",
       "    <tr>\n",
       "      <th>2024-07-03</th>\n",
       "      <td>1.909123</td>\n",
       "      <td>0.221342</td>\n",
       "      <td>0.732250</td>\n",
       "      <td>-0.108598</td>\n",
       "    </tr>\n",
       "    <tr>\n",
       "      <th>2024-07-10</th>\n",
       "      <td>1.208016</td>\n",
       "      <td>0.128014</td>\n",
       "      <td>-1.345861</td>\n",
       "      <td>1.000801</td>\n",
       "    </tr>\n",
       "    <tr>\n",
       "      <th>2024-07-17</th>\n",
       "      <td>0.215740</td>\n",
       "      <td>-1.503549</td>\n",
       "      <td>-1.919146</td>\n",
       "      <td>0.060234</td>\n",
       "    </tr>\n",
       "    <tr>\n",
       "      <th>2024-07-24</th>\n",
       "      <td>-0.936917</td>\n",
       "      <td>-0.557403</td>\n",
       "      <td>-1.320283</td>\n",
       "      <td>0.748471</td>\n",
       "    </tr>\n",
       "    <tr>\n",
       "      <th>2024-07-31</th>\n",
       "      <td>2.475727</td>\n",
       "      <td>-0.955260</td>\n",
       "      <td>-0.483097</td>\n",
       "      <td>-0.614481</td>\n",
       "    </tr>\n",
       "    <tr>\n",
       "      <th>2024-08-07</th>\n",
       "      <td>-0.337023</td>\n",
       "      <td>0.586882</td>\n",
       "      <td>-0.053464</td>\n",
       "      <td>1.213669</td>\n",
       "    </tr>\n",
       "    <tr>\n",
       "      <th>2024-08-14</th>\n",
       "      <td>-0.164517</td>\n",
       "      <td>0.578088</td>\n",
       "      <td>0.258492</td>\n",
       "      <td>-0.151966</td>\n",
       "    </tr>\n",
       "    <tr>\n",
       "      <th>2024-08-21</th>\n",
       "      <td>0.184450</td>\n",
       "      <td>-1.557126</td>\n",
       "      <td>-0.044841</td>\n",
       "      <td>2.084159</td>\n",
       "    </tr>\n",
       "    <tr>\n",
       "      <th>2024-08-28</th>\n",
       "      <td>-2.018985</td>\n",
       "      <td>0.511086</td>\n",
       "      <td>-0.322997</td>\n",
       "      <td>1.426509</td>\n",
       "    </tr>\n",
       "    <tr>\n",
       "      <th>2024-09-04</th>\n",
       "      <td>1.423354</td>\n",
       "      <td>-0.248653</td>\n",
       "      <td>0.942955</td>\n",
       "      <td>-0.283204</td>\n",
       "    </tr>\n",
       "    <tr>\n",
       "      <th>2024-09-11</th>\n",
       "      <td>-0.692691</td>\n",
       "      <td>-1.744343</td>\n",
       "      <td>1.364338</td>\n",
       "      <td>0.416437</td>\n",
       "    </tr>\n",
       "    <tr>\n",
       "      <th>2024-09-18</th>\n",
       "      <td>-0.542824</td>\n",
       "      <td>-2.054373</td>\n",
       "      <td>0.239696</td>\n",
       "      <td>0.659146</td>\n",
       "    </tr>\n",
       "    <tr>\n",
       "      <th>2024-09-25</th>\n",
       "      <td>-0.141245</td>\n",
       "      <td>0.055067</td>\n",
       "      <td>-1.349761</td>\n",
       "      <td>-0.614615</td>\n",
       "    </tr>\n",
       "    <tr>\n",
       "      <th>2024-10-02</th>\n",
       "      <td>-0.136207</td>\n",
       "      <td>-0.207045</td>\n",
       "      <td>0.482376</td>\n",
       "      <td>-1.711005</td>\n",
       "    </tr>\n",
       "    <tr>\n",
       "      <th>2024-10-09</th>\n",
       "      <td>-0.817279</td>\n",
       "      <td>-0.299959</td>\n",
       "      <td>1.348360</td>\n",
       "      <td>1.093832</td>\n",
       "    </tr>\n",
       "    <tr>\n",
       "      <th>2024-10-16</th>\n",
       "      <td>1.852866</td>\n",
       "      <td>-0.516842</td>\n",
       "      <td>1.277268</td>\n",
       "      <td>0.979610</td>\n",
       "    </tr>\n",
       "    <tr>\n",
       "      <th>2024-10-23</th>\n",
       "      <td>-0.203990</td>\n",
       "      <td>0.569758</td>\n",
       "      <td>-0.265264</td>\n",
       "      <td>-0.321636</td>\n",
       "    </tr>\n",
       "    <tr>\n",
       "      <th>2024-10-30</th>\n",
       "      <td>-0.747709</td>\n",
       "      <td>-0.838909</td>\n",
       "      <td>0.108393</td>\n",
       "      <td>0.028478</td>\n",
       "    </tr>\n",
       "    <tr>\n",
       "      <th>2024-11-06</th>\n",
       "      <td>0.534885</td>\n",
       "      <td>-0.079310</td>\n",
       "      <td>1.749691</td>\n",
       "      <td>-0.113511</td>\n",
       "    </tr>\n",
       "    <tr>\n",
       "      <th>2024-11-13</th>\n",
       "      <td>-0.416291</td>\n",
       "      <td>0.623613</td>\n",
       "      <td>-0.065294</td>\n",
       "      <td>1.486198</td>\n",
       "    </tr>\n",
       "    <tr>\n",
       "      <th>2024-11-20</th>\n",
       "      <td>-1.236568</td>\n",
       "      <td>0.392378</td>\n",
       "      <td>-0.075784</td>\n",
       "      <td>-1.020650</td>\n",
       "    </tr>\n",
       "    <tr>\n",
       "      <th>2024-11-27</th>\n",
       "      <td>1.019956</td>\n",
       "      <td>0.212388</td>\n",
       "      <td>0.630374</td>\n",
       "      <td>0.897803</td>\n",
       "    </tr>\n",
       "    <tr>\n",
       "      <th>2024-12-04</th>\n",
       "      <td>-0.655766</td>\n",
       "      <td>0.777119</td>\n",
       "      <td>1.712886</td>\n",
       "      <td>-0.948938</td>\n",
       "    </tr>\n",
       "    <tr>\n",
       "      <th>2024-12-11</th>\n",
       "      <td>0.556062</td>\n",
       "      <td>0.558964</td>\n",
       "      <td>-0.597060</td>\n",
       "      <td>-0.011234</td>\n",
       "    </tr>\n",
       "    <tr>\n",
       "      <th>2024-12-18</th>\n",
       "      <td>-0.741357</td>\n",
       "      <td>0.016923</td>\n",
       "      <td>0.365956</td>\n",
       "      <td>-1.710672</td>\n",
       "    </tr>\n",
       "    <tr>\n",
       "      <th>2024-12-25</th>\n",
       "      <td>1.138596</td>\n",
       "      <td>-0.392995</td>\n",
       "      <td>-1.290735</td>\n",
       "      <td>-0.877958</td>\n",
       "    </tr>\n",
       "  </tbody>\n",
       "</table>\n",
       "</div>"
      ],
      "text/plain": [
       "              Iganga     Jinja   Kampala     Busia\n",
       "2024-01-03 -1.499353 -2.136799 -0.098557 -0.956905\n",
       "2024-01-10  0.272291  0.629934 -1.866105 -0.397772\n",
       "2024-01-17  0.176997 -0.115254 -0.119011 -0.761398\n",
       "2024-01-24  2.195403 -1.823289 -1.483480  0.332055\n",
       "2024-01-31 -1.355002  0.326344 -1.339733 -0.159754\n",
       "2024-02-07  0.217617 -1.646863  0.060874 -0.429657\n",
       "2024-02-14  1.138525  0.347980 -0.671941 -0.170572\n",
       "2024-02-21  0.659408  0.684733  1.069887  0.353939\n",
       "2024-02-28  0.001701 -0.963530 -1.153121  1.199911\n",
       "2024-03-06 -0.855045 -2.396617 -2.005608 -0.447509\n",
       "2024-03-13  0.699305  0.003441  0.016564 -1.958911\n",
       "2024-03-20  0.310940  0.400186  1.000689  0.239892\n",
       "2024-03-27  1.020943 -0.677526 -0.625990 -0.585770\n",
       "2024-04-03 -0.249543  2.388741 -0.815656 -0.413014\n",
       "2024-04-10 -0.115542 -1.384238  0.636691 -0.434784\n",
       "2024-04-17 -0.241626 -0.075068 -1.134993  1.726367\n",
       "2024-04-24 -1.246022  0.376780 -1.304985  0.297298\n",
       "2024-05-01  1.018647 -1.669756  0.499005 -0.892593\n",
       "2024-05-08  0.449327 -0.199636 -1.201610  0.194813\n",
       "2024-05-15  2.005755 -0.473977  1.736276  0.685663\n",
       "2024-05-22 -1.898597 -0.930332 -1.555762 -0.037411\n",
       "2024-05-29 -0.843457 -0.331644 -0.059375  0.512494\n",
       "2024-06-05  0.899383 -0.441975 -0.124015 -0.281665\n",
       "2024-06-12 -0.378319 -1.270680  0.653390  0.153695\n",
       "2024-06-19  0.426283  0.744241  1.276616 -0.772815\n",
       "2024-06-26  0.128098  0.411738  1.011225  0.492070\n",
       "2024-07-03  1.909123  0.221342  0.732250 -0.108598\n",
       "2024-07-10  1.208016  0.128014 -1.345861  1.000801\n",
       "2024-07-17  0.215740 -1.503549 -1.919146  0.060234\n",
       "2024-07-24 -0.936917 -0.557403 -1.320283  0.748471\n",
       "2024-07-31  2.475727 -0.955260 -0.483097 -0.614481\n",
       "2024-08-07 -0.337023  0.586882 -0.053464  1.213669\n",
       "2024-08-14 -0.164517  0.578088  0.258492 -0.151966\n",
       "2024-08-21  0.184450 -1.557126 -0.044841  2.084159\n",
       "2024-08-28 -2.018985  0.511086 -0.322997  1.426509\n",
       "2024-09-04  1.423354 -0.248653  0.942955 -0.283204\n",
       "2024-09-11 -0.692691 -1.744343  1.364338  0.416437\n",
       "2024-09-18 -0.542824 -2.054373  0.239696  0.659146\n",
       "2024-09-25 -0.141245  0.055067 -1.349761 -0.614615\n",
       "2024-10-02 -0.136207 -0.207045  0.482376 -1.711005\n",
       "2024-10-09 -0.817279 -0.299959  1.348360  1.093832\n",
       "2024-10-16  1.852866 -0.516842  1.277268  0.979610\n",
       "2024-10-23 -0.203990  0.569758 -0.265264 -0.321636\n",
       "2024-10-30 -0.747709 -0.838909  0.108393  0.028478\n",
       "2024-11-06  0.534885 -0.079310  1.749691 -0.113511\n",
       "2024-11-13 -0.416291  0.623613 -0.065294  1.486198\n",
       "2024-11-20 -1.236568  0.392378 -0.075784 -1.020650\n",
       "2024-11-27  1.019956  0.212388  0.630374  0.897803\n",
       "2024-12-04 -0.655766  0.777119  1.712886 -0.948938\n",
       "2024-12-11  0.556062  0.558964 -0.597060 -0.011234\n",
       "2024-12-18 -0.741357  0.016923  0.365956 -1.710672\n",
       "2024-12-25  1.138596 -0.392995 -1.290735 -0.877958"
      ]
     },
     "execution_count": 45,
     "metadata": {},
     "output_type": "execute_result"
    }
   ],
   "source": [
    "long_df.loc[\"2024\"]"
   ]
  },
  {
   "cell_type": "markdown",
   "id": "bf083692-5721-43de-aeaa-3a3cda110c21",
   "metadata": {},
   "source": [
    "<h4>Time Series with Duplicates</h4>"
   ]
  },
  {
   "cell_type": "code",
   "execution_count": 47,
   "id": "1008f95d-0aa8-4e8d-8bc4-b3c65a8cf0df",
   "metadata": {},
   "outputs": [],
   "source": [
    "dates = pd.DatetimeIndex([\"2000-01-01\",\n",
    "                          \"2000-01-02\",\n",
    "                          \"2000-01-02\",\n",
    "                          \"2000-01-02\",\n",
    "                          \"2000-01-03\"])"
   ]
  },
  {
   "cell_type": "code",
   "execution_count": 49,
   "id": "f609b8fb-a70e-4f83-95aa-163b55b590c6",
   "metadata": {},
   "outputs": [],
   "source": [
    "dup_ts = pd.Series(np.arange(5),\n",
    "                   index=dates)"
   ]
  },
  {
   "cell_type": "code",
   "execution_count": 50,
   "id": "b1ea308f-f17e-41dc-b411-42d6758c5c7b",
   "metadata": {},
   "outputs": [
    {
     "data": {
      "text/plain": [
       "2000-01-01    0\n",
       "2000-01-02    1\n",
       "2000-01-02    2\n",
       "2000-01-02    3\n",
       "2000-01-03    4\n",
       "dtype: int32"
      ]
     },
     "execution_count": 50,
     "metadata": {},
     "output_type": "execute_result"
    }
   ],
   "source": [
    "dup_ts"
   ]
  },
  {
   "cell_type": "code",
   "execution_count": null,
   "id": "bfe62b36-33be-4bff-8576-2fcf6be5fead",
   "metadata": {},
   "outputs": [],
   "source": []
  }
 ],
 "metadata": {
  "kernelspec": {
   "display_name": "Python 3 (ipykernel)",
   "language": "python",
   "name": "python3"
  },
  "language_info": {
   "codemirror_mode": {
    "name": "ipython",
    "version": 3
   },
   "file_extension": ".py",
   "mimetype": "text/x-python",
   "name": "python",
   "nbconvert_exporter": "python",
   "pygments_lexer": "ipython3",
   "version": "3.12.3"
  }
 },
 "nbformat": 4,
 "nbformat_minor": 5
}
