{
 "cells": [
  {
   "cell_type": "code",
   "execution_count": 1,
   "id": "4bdd8280-ba23-4d97-ab97-3a66d22b70be",
   "metadata": {},
   "outputs": [],
   "source": [
    "import pandas as pd\n",
    "import numpy as np"
   ]
  },
  {
   "cell_type": "markdown",
   "id": "cf2a5027-23ab-4c36-aa43-6122790b9e12",
   "metadata": {},
   "source": [
    "<h3>Date and Time Data Types and Tools</h3>"
   ]
  },
  {
   "cell_type": "code",
   "execution_count": 2,
   "id": "9ba42526-b0b2-4aef-a8be-ac98ecc69710",
   "metadata": {},
   "outputs": [],
   "source": [
    "from datetime import datetime\n",
    "from datetime import timedelta"
   ]
  },
  {
   "cell_type": "code",
   "execution_count": 3,
   "id": "58d629c5-7c7a-48cb-8f82-2945cd2f9f78",
   "metadata": {},
   "outputs": [],
   "source": [
    "now = datetime.now()"
   ]
  },
  {
   "cell_type": "code",
   "execution_count": 4,
   "id": "3e087002-3968-4199-8edc-84c3f9852f38",
   "metadata": {},
   "outputs": [
    {
     "data": {
      "text/plain": [
       "datetime.datetime(2024, 5, 22, 17, 44, 34, 153763)"
      ]
     },
     "execution_count": 4,
     "metadata": {},
     "output_type": "execute_result"
    }
   ],
   "source": [
    "now"
   ]
  },
  {
   "cell_type": "code",
   "execution_count": 5,
   "id": "20e63acf-ff8a-46a8-94b6-01afe6b9e33e",
   "metadata": {},
   "outputs": [
    {
     "data": {
      "text/plain": [
       "(2024, 5, 22, 17, 44)"
      ]
     },
     "execution_count": 5,
     "metadata": {},
     "output_type": "execute_result"
    }
   ],
   "source": [
    "now.year, now.month, now.day, now.hour, now.minute"
   ]
  },
  {
   "cell_type": "code",
   "execution_count": 6,
   "id": "a2fe3da6-e8aa-4739-873d-9da1e3857953",
   "metadata": {},
   "outputs": [
    {
     "data": {
      "text/plain": [
       "2024"
      ]
     },
     "execution_count": 6,
     "metadata": {},
     "output_type": "execute_result"
    }
   ],
   "source": [
    "now.year"
   ]
  },
  {
   "cell_type": "code",
   "execution_count": 7,
   "id": "924fd6cc-1b58-46de-b848-0ad0c46064a2",
   "metadata": {},
   "outputs": [
    {
     "data": {
      "text/plain": [
       "datetime.timedelta(days=2824, seconds=54360)"
      ]
     },
     "execution_count": 7,
     "metadata": {},
     "output_type": "execute_result"
    }
   ],
   "source": [
    "# delta\n",
    "delta = datetime(2024, 5, 21) - datetime(2016, 8, 26, 8, 54)\n",
    "delta"
   ]
  },
  {
   "cell_type": "code",
   "execution_count": 8,
   "id": "6de4b5c7-7621-4e60-a8b6-3e8faff572b1",
   "metadata": {},
   "outputs": [
    {
     "data": {
      "text/plain": [
       "datetime.datetime(2032, 3, 19, 0, 0)"
      ]
     },
     "execution_count": 8,
     "metadata": {},
     "output_type": "execute_result"
    }
   ],
   "source": [
    "# numerical evaluations\n",
    "start = datetime(2024, 1, 1)\n",
    "start + timedelta(3000)"
   ]
  },
  {
   "cell_type": "markdown",
   "id": "858c4492-f13f-4939-980f-4d5ecee2360b",
   "metadata": {},
   "source": [
    "<h4>Converting between String and Datetime</h4>"
   ]
  },
  {
   "cell_type": "code",
   "execution_count": 14,
   "id": "16650903-b067-4866-a773-86692ba1425d",
   "metadata": {},
   "outputs": [],
   "source": [
    "stamp = datetime(2024, 5, 22)"
   ]
  },
  {
   "cell_type": "code",
   "execution_count": 15,
   "id": "72d35af8-3c3d-4bbd-aeac-e59cdd696973",
   "metadata": {},
   "outputs": [
    {
     "data": {
      "text/plain": [
       "'2024-05-22 00:00:00'"
      ]
     },
     "execution_count": 15,
     "metadata": {},
     "output_type": "execute_result"
    }
   ],
   "source": [
    "str(stamp)"
   ]
  },
  {
   "cell_type": "code",
   "execution_count": 67,
   "id": "2b837233-d1c5-40fc-9806-733d8d08e07c",
   "metadata": {},
   "outputs": [
    {
     "data": {
      "text/plain": [
       "'2024-April-12-5-Friday-AM'"
      ]
     },
     "execution_count": 67,
     "metadata": {},
     "output_type": "execute_result"
    }
   ],
   "source": [
    "# Conversion to a specified string format\n",
    "stamp.strftime(\"%Y-%B-%d-%u-%A-%p\")"
   ]
  },
  {
   "cell_type": "code",
   "execution_count": 19,
   "id": "bb6b6679-e42b-45ca-b1dd-805b1b1be1dd",
   "metadata": {},
   "outputs": [],
   "source": [
    "value = \"2024-12-03\""
   ]
  },
  {
   "cell_type": "code",
   "execution_count": 20,
   "id": "304b96de-7bb8-445a-8ae1-5d2b7ad9d6d8",
   "metadata": {},
   "outputs": [
    {
     "data": {
      "text/plain": [
       "datetime.datetime(2024, 12, 3, 0, 0)"
      ]
     },
     "execution_count": 20,
     "metadata": {},
     "output_type": "execute_result"
    }
   ],
   "source": [
    "datetime.strptime(value, \"%Y-%m-%d\")"
   ]
  },
  {
   "cell_type": "code",
   "execution_count": 68,
   "id": "716d8f06-6ecf-4ac4-9e6c-c175f7089e3a",
   "metadata": {},
   "outputs": [
    {
     "data": {
      "text/plain": [
       "[datetime.datetime(2025, 7, 6, 0, 0), datetime.datetime(2025, 8, 6, 0, 0)]"
      ]
     },
     "execution_count": 68,
     "metadata": {},
     "output_type": "execute_result"
    }
   ],
   "source": [
    "# converting a list of string dates to datetime format\n",
    "datestrs = [\"7/6/2025\", \"8/6/2025\"]\n",
    "[datetime.strptime(x, \"%m/%d/%Y\") for x in datestrs]"
   ]
  },
  {
   "cell_type": "code",
   "execution_count": 24,
   "id": "195399dd-f068-4057-8367-79a3e3d156e9",
   "metadata": {},
   "outputs": [
    {
     "data": {
      "text/plain": [
       "DatetimeIndex(['2011-07-06 12:00:00', '2025-08-06 00:00:00'], dtype='datetime64[ns]', freq=None)"
      ]
     },
     "execution_count": 24,
     "metadata": {},
     "output_type": "execute_result"
    }
   ],
   "source": [
    "# pandas to_datetime\n",
    "datestrs = [\"2011-07-06 12:00:00\", \"2025-08-06 00:00:00\"]\n",
    "pd.to_datetime(datestrs)"
   ]
  },
  {
   "cell_type": "code",
   "execution_count": 27,
   "id": "a1caa520-3825-4879-b823-bc0b2a9c462a",
   "metadata": {},
   "outputs": [],
   "source": [
    "# dataframe to datetime\n",
    "df = pd.DataFrame(\n",
    "    {\"year\": [2025, 2024, 2023],\n",
    "     \"month\": [2, 4, 8],\n",
    "     \"day\": [5, 4, 5]\n",
    "    })"
   ]
  },
  {
   "cell_type": "code",
   "execution_count": 28,
   "id": "c7f68464-da42-4e2a-9372-e03e590840cd",
   "metadata": {},
   "outputs": [
    {
     "data": {
      "text/html": [
       "<div>\n",
       "<style scoped>\n",
       "    .dataframe tbody tr th:only-of-type {\n",
       "        vertical-align: middle;\n",
       "    }\n",
       "\n",
       "    .dataframe tbody tr th {\n",
       "        vertical-align: top;\n",
       "    }\n",
       "\n",
       "    .dataframe thead th {\n",
       "        text-align: right;\n",
       "    }\n",
       "</style>\n",
       "<table border=\"1\" class=\"dataframe\">\n",
       "  <thead>\n",
       "    <tr style=\"text-align: right;\">\n",
       "      <th></th>\n",
       "      <th>year</th>\n",
       "      <th>month</th>\n",
       "      <th>day</th>\n",
       "    </tr>\n",
       "  </thead>\n",
       "  <tbody>\n",
       "    <tr>\n",
       "      <th>0</th>\n",
       "      <td>2025</td>\n",
       "      <td>2</td>\n",
       "      <td>5</td>\n",
       "    </tr>\n",
       "    <tr>\n",
       "      <th>1</th>\n",
       "      <td>2024</td>\n",
       "      <td>4</td>\n",
       "      <td>4</td>\n",
       "    </tr>\n",
       "    <tr>\n",
       "      <th>2</th>\n",
       "      <td>2023</td>\n",
       "      <td>8</td>\n",
       "      <td>5</td>\n",
       "    </tr>\n",
       "  </tbody>\n",
       "</table>\n",
       "</div>"
      ],
      "text/plain": [
       "   year  month  day\n",
       "0  2025      2    5\n",
       "1  2024      4    4\n",
       "2  2023      8    5"
      ]
     },
     "execution_count": 28,
     "metadata": {},
     "output_type": "execute_result"
    }
   ],
   "source": [
    "df"
   ]
  },
  {
   "cell_type": "code",
   "execution_count": 30,
   "id": "890c9cc7-0891-4ab7-82da-f59b530768e4",
   "metadata": {},
   "outputs": [
    {
     "data": {
      "text/plain": [
       "0   2025-02-05\n",
       "1   2024-04-04\n",
       "2   2023-08-05\n",
       "dtype: datetime64[ns]"
      ]
     },
     "execution_count": 30,
     "metadata": {},
     "output_type": "execute_result"
    }
   ],
   "source": [
    "pd.to_datetime(df)"
   ]
  },
  {
   "cell_type": "code",
   "execution_count": 31,
   "id": "f45e75c6-7f1b-43f2-96d3-a9ef91e66482",
   "metadata": {},
   "outputs": [],
   "source": [
    "datestr = [\"2025-07-06 12:00:00\",\n",
    "           \"2034-08-04 13:45:34\"]"
   ]
  },
  {
   "cell_type": "code",
   "execution_count": 69,
   "id": "696dd270-8a4b-4ef6-8556-c7e9a791365a",
   "metadata": {},
   "outputs": [],
   "source": [
    "# Missing values, Not a Time values are also accepted\n",
    "idx = pd.to_datetime(datestrs + [None])"
   ]
  },
  {
   "cell_type": "code",
   "execution_count": 70,
   "id": "2208c9ec-4fae-42b5-b22c-4ffa42cf95c9",
   "metadata": {},
   "outputs": [
    {
     "data": {
      "text/plain": [
       "DatetimeIndex(['2025-07-06', '2025-08-06', 'NaT'], dtype='datetime64[ns]', freq=None)"
      ]
     },
     "execution_count": 70,
     "metadata": {},
     "output_type": "execute_result"
    }
   ],
   "source": [
    "idx"
   ]
  },
  {
   "cell_type": "code",
   "execution_count": 34,
   "id": "6797c513-a438-47b1-b20d-98229a57151f",
   "metadata": {},
   "outputs": [
    {
     "data": {
      "text/plain": [
       "NaT"
      ]
     },
     "execution_count": 34,
     "metadata": {},
     "output_type": "execute_result"
    }
   ],
   "source": [
    "# indexing idx\n",
    "idx[2]"
   ]
  },
  {
   "cell_type": "code",
   "execution_count": 35,
   "id": "415f6f21-7930-4ba9-86cd-be24182f36bd",
   "metadata": {},
   "outputs": [
    {
     "data": {
      "text/plain": [
       "array([False, False,  True])"
      ]
     },
     "execution_count": 35,
     "metadata": {},
     "output_type": "execute_result"
    }
   ],
   "source": [
    "pd.isna(idx)"
   ]
  },
  {
   "cell_type": "markdown",
   "id": "a83ece02-783c-4d4f-afc6-092d0d756bd6",
   "metadata": {},
   "source": [
    "<h4>Time Series Basics</h4>"
   ]
  },
  {
   "cell_type": "code",
   "execution_count": 49,
   "id": "4231ac4c-cb8e-4ed7-a669-c8af90b15a0d",
   "metadata": {},
   "outputs": [],
   "source": [
    "# time series\n",
    "dates = [datetime(2024, 6, 2),\n",
    "        datetime(2025, 10, 21),\n",
    "        datetime(2024, 4, 12),\n",
    "        datetime(2023, 10, 5),\n",
    "        datetime(2016, 11, 3),\n",
    "        datetime(2017, 3, 15),\n",
    "        datetime(2019, 6, 3),\n",
    "        datetime(2020, 5, 8),\n",
    "       ]"
   ]
  },
  {
   "cell_type": "code",
   "execution_count": 52,
   "id": "7454449a-59f2-4990-aeeb-0f25b3e083bb",
   "metadata": {},
   "outputs": [],
   "source": [
    "ts =pd.Series(np.random.standard_normal(8),\n",
    "              index=dates,\n",
    "             )"
   ]
  },
  {
   "cell_type": "code",
   "execution_count": 53,
   "id": "a78c476b-151b-4f83-8e46-2bfe93c81da8",
   "metadata": {},
   "outputs": [
    {
     "data": {
      "text/plain": [
       "2024-06-02   -0.018296\n",
       "2025-10-21    1.354557\n",
       "2024-04-12   -0.403573\n",
       "2023-10-05   -0.515219\n",
       "2016-11-03    1.584786\n",
       "2017-03-15   -0.715544\n",
       "2019-06-03    0.446754\n",
       "2020-05-08   -0.251034\n",
       "dtype: float64"
      ]
     },
     "execution_count": 53,
     "metadata": {},
     "output_type": "execute_result"
    }
   ],
   "source": [
    "ts"
   ]
  },
  {
   "cell_type": "code",
   "execution_count": 61,
   "id": "f516ed5e-9fe5-4ce6-8455-f5aefbc54611",
   "metadata": {},
   "outputs": [
    {
     "data": {
      "text/plain": [
       "2016-11-03         NaN\n",
       "2017-03-15         NaN\n",
       "2019-06-03    0.893509\n",
       "2020-05-08         NaN\n",
       "2023-10-05   -1.030437\n",
       "2024-04-12         NaN\n",
       "2024-06-02   -0.036592\n",
       "2025-10-21         NaN\n",
       "dtype: float64"
      ]
     },
     "execution_count": 61,
     "metadata": {},
     "output_type": "execute_result"
    }
   ],
   "source": [
    "ts + ts[::3]"
   ]
  },
  {
   "cell_type": "code",
   "execution_count": 60,
   "id": "b4b800ed-4319-4df7-88f4-e0c227348de6",
   "metadata": {},
   "outputs": [
    {
     "data": {
      "text/plain": [
       "2024-06-02   -0.018296\n",
       "2023-10-05   -0.515219\n",
       "2019-06-03    0.446754\n",
       "dtype: float64"
      ]
     },
     "execution_count": 60,
     "metadata": {},
     "output_type": "execute_result"
    }
   ],
   "source": [
    "ts[::3]"
   ]
  },
  {
   "cell_type": "markdown",
   "id": "c1d1bad1-2d75-45c3-a5cf-9894164bb67d",
   "metadata": {},
   "source": [
    "<h4>indexing, Selecting and Subsetting</h4>"
   ]
  },
  {
   "cell_type": "code",
   "execution_count": 63,
   "id": "b3a63b28-f387-461c-ba3e-02494eed20f0",
   "metadata": {},
   "outputs": [],
   "source": [
    "# same as indexing a series\n",
    "stamp = ts.index[2]"
   ]
  },
  {
   "cell_type": "code",
   "execution_count": 64,
   "id": "f6aa4016-21af-41b1-940c-a43c240cbee9",
   "metadata": {},
   "outputs": [
    {
     "data": {
      "text/plain": [
       "Timestamp('2024-04-12 00:00:00')"
      ]
     },
     "execution_count": 64,
     "metadata": {},
     "output_type": "execute_result"
    }
   ],
   "source": [
    "stamp"
   ]
  },
  {
   "cell_type": "code",
   "execution_count": 66,
   "id": "b28abe19-d644-4bb1-8e00-5e131f709bb3",
   "metadata": {},
   "outputs": [
    {
     "data": {
      "text/plain": [
       "-0.018296174679102075"
      ]
     },
     "execution_count": 66,
     "metadata": {},
     "output_type": "execute_result"
    }
   ],
   "source": [
    "ts.iat[0]"
   ]
  },
  {
   "cell_type": "code",
   "execution_count": 73,
   "id": "2f2e11a9-8ff9-4f7b-9898-7ba7882bcb29",
   "metadata": {},
   "outputs": [],
   "source": [
    "# indexing by year\n",
    "longer_ts = pd.Series(np.random.standard_normal(2000),\n",
    "                      index=pd.date_range(\"2024-05-22\",\n",
    "                                          periods=2000))"
   ]
  },
  {
   "cell_type": "code",
   "execution_count": 76,
   "id": "5e3f0026-8206-41be-9b02-94f5e950271c",
   "metadata": {},
   "outputs": [
    {
     "data": {
      "text/plain": [
       "2024-05-22   -0.662722\n",
       "2024-05-23    0.707959\n",
       "2024-05-24    0.408518\n",
       "2024-05-25    0.060742\n",
       "2024-05-26   -2.127251\n",
       "                ...   \n",
       "2024-12-27   -0.768944\n",
       "2024-12-28    0.929023\n",
       "2024-12-29    0.705880\n",
       "2024-12-30    0.240432\n",
       "2024-12-31   -1.005324\n",
       "Freq: D, Length: 224, dtype: float64"
      ]
     },
     "execution_count": 76,
     "metadata": {},
     "output_type": "execute_result"
    }
   ],
   "source": [
    "longer_ts[\"2024\"]"
   ]
  },
  {
   "cell_type": "code",
   "execution_count": 77,
   "id": "76f5d3ce-448a-4a07-bd6d-7f78d4052e76",
   "metadata": {},
   "outputs": [
    {
     "data": {
      "text/plain": [
       "2024-06-01   -0.915799\n",
       "2024-06-02   -1.034259\n",
       "2024-06-03   -1.828211\n",
       "2024-06-04   -0.011842\n",
       "2024-06-05   -1.121998\n",
       "2024-06-06   -0.252519\n",
       "2024-06-07    1.441098\n",
       "2024-06-08    2.307765\n",
       "2024-06-09    1.979294\n",
       "2024-06-10    1.472147\n",
       "2024-06-11    0.972631\n",
       "2024-06-12   -0.465573\n",
       "2024-06-13   -0.307500\n",
       "2024-06-14    0.281660\n",
       "2024-06-15    0.517487\n",
       "2024-06-16    0.071317\n",
       "2024-06-17    0.441356\n",
       "2024-06-18   -0.437611\n",
       "2024-06-19    0.987432\n",
       "2024-06-20   -0.487918\n",
       "2024-06-21    0.016853\n",
       "2024-06-22    0.127042\n",
       "2024-06-23    0.837609\n",
       "2024-06-24    0.313568\n",
       "2024-06-25    1.533555\n",
       "2024-06-26    0.424615\n",
       "2024-06-27   -0.627871\n",
       "2024-06-28    2.177756\n",
       "2024-06-29    0.432929\n",
       "2024-06-30   -0.252241\n",
       "Freq: D, dtype: float64"
      ]
     },
     "execution_count": 77,
     "metadata": {},
     "output_type": "execute_result"
    }
   ],
   "source": [
    "# selecting by year-month\n",
    "longer_ts[\"2024-06\"]"
   ]
  },
  {
   "cell_type": "code",
   "execution_count": 83,
   "id": "edc475c3-b65c-49e9-9e5f-80d2bd1eb3b7",
   "metadata": {},
   "outputs": [
    {
     "data": {
      "text/plain": [
       "2024-05-22   -0.662722\n",
       "2024-05-23    0.707959\n",
       "2024-05-24    0.408518\n",
       "2024-05-25    0.060742\n",
       "2024-05-26   -2.127251\n",
       "                ...   \n",
       "2024-07-28   -2.411230\n",
       "2024-07-29    0.999168\n",
       "2024-07-30    0.423904\n",
       "2024-07-31   -1.064251\n",
       "2024-08-01    1.392535\n",
       "Freq: D, Length: 72, dtype: float64"
      ]
     },
     "execution_count": 83,
     "metadata": {},
     "output_type": "execute_result"
    }
   ],
   "source": [
    "# Slicing by datetime\n",
    "longer_ts[datetime(2024,5,22):\n",
    "datetime(2024,8,1)\n",
    "]"
   ]
  },
  {
   "cell_type": "code",
   "execution_count": 85,
   "id": "c14fc0ad-07f2-47f4-ad3e-c55f7814a0ce",
   "metadata": {},
   "outputs": [
    {
     "data": {
      "text/plain": [
       "2024-05-22   -0.662722\n",
       "2024-05-23    0.707959\n",
       "2024-05-24    0.408518\n",
       "2024-05-25    0.060742\n",
       "2024-05-26   -2.127251\n",
       "                ...   \n",
       "2024-08-22    0.977636\n",
       "2024-08-23    0.380892\n",
       "2024-08-24    1.578981\n",
       "2024-08-25   -1.515578\n",
       "2024-08-26   -0.288554\n",
       "Freq: D, Length: 97, dtype: float64"
      ]
     },
     "execution_count": 85,
     "metadata": {},
     "output_type": "execute_result"
    }
   ],
   "source": [
    "# Slicing with a timestamp not contained in the ts\n",
    "longer_ts[datetime(2016, 8, 26):\n",
    "datetime(2024, 8, 26)\n",
    "]"
   ]
  },
  {
   "cell_type": "code",
   "execution_count": 86,
   "id": "9f552a3d-b577-455d-ac72-24cc3724501f",
   "metadata": {},
   "outputs": [
    {
     "data": {
      "text/plain": [
       "2024-05-22   -0.662722\n",
       "2024-05-23    0.707959\n",
       "2024-05-24    0.408518\n",
       "2024-05-25    0.060742\n",
       "2024-05-26   -2.127251\n",
       "                ...   \n",
       "2029-11-07   -0.695426\n",
       "2029-11-08    0.404501\n",
       "2029-11-09   -0.641172\n",
       "2029-11-10   -0.802467\n",
       "2029-11-11    2.327478\n",
       "Freq: D, Length: 2000, dtype: float64"
      ]
     },
     "execution_count": 86,
     "metadata": {},
     "output_type": "execute_result"
    }
   ],
   "source": [
    "longer_ts"
   ]
  },
  {
   "cell_type": "code",
   "execution_count": 87,
   "id": "487d875b-83c2-492e-9a0e-bb3310b7fa1f",
   "metadata": {},
   "outputs": [
    {
     "data": {
      "text/plain": [
       "2024-05-22   -0.662722\n",
       "2024-05-23    0.707959\n",
       "2024-05-24    0.408518\n",
       "2024-05-25    0.060742\n",
       "2024-05-26   -2.127251\n",
       "                ...   \n",
       "2025-05-18    1.576586\n",
       "2025-05-19   -0.493120\n",
       "2025-05-20   -0.059988\n",
       "2025-05-21    0.795982\n",
       "2025-05-22    1.705959\n",
       "Freq: D, Length: 366, dtype: float64"
      ]
     },
     "execution_count": 87,
     "metadata": {},
     "output_type": "execute_result"
    }
   ],
   "source": [
    "# truncating after a specific date\n",
    "longer_ts.truncate(after=\"2025-05-22\")"
   ]
  },
  {
   "cell_type": "code",
   "execution_count": 88,
   "id": "ed8e9f70-82fd-4930-afa6-d13fcf6c3b3b",
   "metadata": {},
   "outputs": [],
   "source": [
    "dates = pd.date_range(\"2024-01-01\",\n",
    "                      periods=100,\n",
    "                      freq=\"W-WED\"\n",
    "                     )"
   ]
  },
  {
   "cell_type": "code",
   "execution_count": 90,
   "id": "7e28c20f-d407-4236-a19e-c1b5e5dca963",
   "metadata": {},
   "outputs": [],
   "source": [
    "long_df = pd.DataFrame(np.random.standard_normal((100,4)),\n",
    "                       index=dates,\n",
    "                       columns=[\"Iganga\", \"Jinja\", \"Kampala\", \"Busia\"])"
   ]
  },
  {
   "cell_type": "code",
   "execution_count": 95,
   "id": "9ce9342e-b2cd-4fd4-8508-f52cc032f869",
   "metadata": {},
   "outputs": [
    {
     "data": {
      "text/html": [
       "<div>\n",
       "<style scoped>\n",
       "    .dataframe tbody tr th:only-of-type {\n",
       "        vertical-align: middle;\n",
       "    }\n",
       "\n",
       "    .dataframe tbody tr th {\n",
       "        vertical-align: top;\n",
       "    }\n",
       "\n",
       "    .dataframe thead th {\n",
       "        text-align: right;\n",
       "    }\n",
       "</style>\n",
       "<table border=\"1\" class=\"dataframe\">\n",
       "  <thead>\n",
       "    <tr style=\"text-align: right;\">\n",
       "      <th></th>\n",
       "      <th>Iganga</th>\n",
       "      <th>Jinja</th>\n",
       "      <th>Kampala</th>\n",
       "      <th>Busia</th>\n",
       "    </tr>\n",
       "  </thead>\n",
       "  <tbody>\n",
       "    <tr>\n",
       "      <th>2024-01-03</th>\n",
       "      <td>1.605029</td>\n",
       "      <td>0.681984</td>\n",
       "      <td>0.172085</td>\n",
       "      <td>0.235513</td>\n",
       "    </tr>\n",
       "    <tr>\n",
       "      <th>2024-01-10</th>\n",
       "      <td>-1.576422</td>\n",
       "      <td>-0.360531</td>\n",
       "      <td>-1.388304</td>\n",
       "      <td>1.365153</td>\n",
       "    </tr>\n",
       "    <tr>\n",
       "      <th>2024-01-17</th>\n",
       "      <td>1.368761</td>\n",
       "      <td>-1.005712</td>\n",
       "      <td>0.090506</td>\n",
       "      <td>-0.760583</td>\n",
       "    </tr>\n",
       "    <tr>\n",
       "      <th>2024-01-24</th>\n",
       "      <td>0.429564</td>\n",
       "      <td>-0.068828</td>\n",
       "      <td>-1.236190</td>\n",
       "      <td>0.084886</td>\n",
       "    </tr>\n",
       "    <tr>\n",
       "      <th>2024-01-31</th>\n",
       "      <td>-1.832692</td>\n",
       "      <td>0.828218</td>\n",
       "      <td>-0.495548</td>\n",
       "      <td>1.319774</td>\n",
       "    </tr>\n",
       "  </tbody>\n",
       "</table>\n",
       "</div>"
      ],
      "text/plain": [
       "              Iganga     Jinja   Kampala     Busia\n",
       "2024-01-03  1.605029  0.681984  0.172085  0.235513\n",
       "2024-01-10 -1.576422 -0.360531 -1.388304  1.365153\n",
       "2024-01-17  1.368761 -1.005712  0.090506 -0.760583\n",
       "2024-01-24  0.429564 -0.068828 -1.236190  0.084886\n",
       "2024-01-31 -1.832692  0.828218 -0.495548  1.319774"
      ]
     },
     "execution_count": 95,
     "metadata": {},
     "output_type": "execute_result"
    }
   ],
   "source": [
    "long_df.loc[\"2024-01\"]"
   ]
  },
  {
   "cell_type": "code",
   "execution_count": null,
   "id": "0011976a-fd10-449b-b95c-f8c4517197d3",
   "metadata": {},
   "outputs": [],
   "source": []
  }
 ],
 "metadata": {
  "kernelspec": {
   "display_name": "Python 3 (ipykernel)",
   "language": "python",
   "name": "python3"
  },
  "language_info": {
   "codemirror_mode": {
    "name": "ipython",
    "version": 3
   },
   "file_extension": ".py",
   "mimetype": "text/x-python",
   "name": "python",
   "nbconvert_exporter": "python",
   "pygments_lexer": "ipython3",
   "version": "3.12.3"
  }
 },
 "nbformat": 4,
 "nbformat_minor": 5
}
