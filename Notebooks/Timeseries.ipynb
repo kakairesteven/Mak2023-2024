{
 "cells": [
  {
   "cell_type": "code",
   "execution_count": 1,
   "id": "4bdd8280-ba23-4d97-ab97-3a66d22b70be",
   "metadata": {},
   "outputs": [],
   "source": [
    "import pandas as pd\n",
    "import numpy as np"
   ]
  },
  {
   "cell_type": "markdown",
   "id": "cf2a5027-23ab-4c36-aa43-6122790b9e12",
   "metadata": {},
   "source": [
    "<h3>Date and Time Data Types and Tools</h3>"
   ]
  },
  {
   "cell_type": "code",
   "execution_count": 2,
   "id": "9ba42526-b0b2-4aef-a8be-ac98ecc69710",
   "metadata": {},
   "outputs": [],
   "source": [
    "from datetime import datetime\n",
    "from datetime import timedelta"
   ]
  },
  {
   "cell_type": "code",
   "execution_count": 3,
   "id": "58d629c5-7c7a-48cb-8f82-2945cd2f9f78",
   "metadata": {},
   "outputs": [],
   "source": [
    "now = datetime.now()"
   ]
  },
  {
   "cell_type": "code",
   "execution_count": 4,
   "id": "3e087002-3968-4199-8edc-84c3f9852f38",
   "metadata": {},
   "outputs": [
    {
     "data": {
      "text/plain": [
       "datetime.datetime(2024, 5, 24, 20, 57, 23, 800372)"
      ]
     },
     "execution_count": 4,
     "metadata": {},
     "output_type": "execute_result"
    }
   ],
   "source": [
    "now"
   ]
  },
  {
   "cell_type": "code",
   "execution_count": 5,
   "id": "20e63acf-ff8a-46a8-94b6-01afe6b9e33e",
   "metadata": {},
   "outputs": [
    {
     "data": {
      "text/plain": [
       "(2024, 5, 24, 20, 57)"
      ]
     },
     "execution_count": 5,
     "metadata": {},
     "output_type": "execute_result"
    }
   ],
   "source": [
    "now.year, now.month, now.day, now.hour, now.minute"
   ]
  },
  {
   "cell_type": "code",
   "execution_count": 6,
   "id": "a2fe3da6-e8aa-4739-873d-9da1e3857953",
   "metadata": {},
   "outputs": [
    {
     "data": {
      "text/plain": [
       "2024"
      ]
     },
     "execution_count": 6,
     "metadata": {},
     "output_type": "execute_result"
    }
   ],
   "source": [
    "now.year"
   ]
  },
  {
   "cell_type": "code",
   "execution_count": 7,
   "id": "924fd6cc-1b58-46de-b848-0ad0c46064a2",
   "metadata": {},
   "outputs": [
    {
     "data": {
      "text/plain": [
       "datetime.timedelta(days=2824, seconds=54360)"
      ]
     },
     "execution_count": 7,
     "metadata": {},
     "output_type": "execute_result"
    }
   ],
   "source": [
    "# delta\n",
    "delta = datetime(2024, 5, 21) - datetime(2016, 8, 26, 8, 54)\n",
    "delta"
   ]
  },
  {
   "cell_type": "code",
   "execution_count": 8,
   "id": "6de4b5c7-7621-4e60-a8b6-3e8faff572b1",
   "metadata": {},
   "outputs": [
    {
     "data": {
      "text/plain": [
       "datetime.datetime(2032, 3, 19, 0, 0)"
      ]
     },
     "execution_count": 8,
     "metadata": {},
     "output_type": "execute_result"
    }
   ],
   "source": [
    "# numerical evaluations\n",
    "start = datetime(2024, 1, 1)\n",
    "start + timedelta(3000)"
   ]
  },
  {
   "cell_type": "markdown",
   "id": "858c4492-f13f-4939-980f-4d5ecee2360b",
   "metadata": {},
   "source": [
    "<h4>Converting between String and Datetime</h4>"
   ]
  },
  {
   "cell_type": "code",
   "execution_count": 9,
   "id": "16650903-b067-4866-a773-86692ba1425d",
   "metadata": {},
   "outputs": [],
   "source": [
    "stamp = datetime(2024, 5, 22)"
   ]
  },
  {
   "cell_type": "code",
   "execution_count": 10,
   "id": "72d35af8-3c3d-4bbd-aeac-e59cdd696973",
   "metadata": {},
   "outputs": [
    {
     "data": {
      "text/plain": [
       "'2024-05-22 00:00:00'"
      ]
     },
     "execution_count": 10,
     "metadata": {},
     "output_type": "execute_result"
    }
   ],
   "source": [
    "str(stamp)"
   ]
  },
  {
   "cell_type": "code",
   "execution_count": 11,
   "id": "2b837233-d1c5-40fc-9806-733d8d08e07c",
   "metadata": {},
   "outputs": [
    {
     "data": {
      "text/plain": [
       "'2024-May-22-3-Wednesday-AM'"
      ]
     },
     "execution_count": 11,
     "metadata": {},
     "output_type": "execute_result"
    }
   ],
   "source": [
    "# Conversion to a specified string format\n",
    "stamp.strftime(\"%Y-%B-%d-%u-%A-%p\")"
   ]
  },
  {
   "cell_type": "code",
   "execution_count": 12,
   "id": "bb6b6679-e42b-45ca-b1dd-805b1b1be1dd",
   "metadata": {},
   "outputs": [],
   "source": [
    "value = \"2024-12-03\""
   ]
  },
  {
   "cell_type": "code",
   "execution_count": 13,
   "id": "304b96de-7bb8-445a-8ae1-5d2b7ad9d6d8",
   "metadata": {},
   "outputs": [
    {
     "data": {
      "text/plain": [
       "datetime.datetime(2024, 12, 3, 0, 0)"
      ]
     },
     "execution_count": 13,
     "metadata": {},
     "output_type": "execute_result"
    }
   ],
   "source": [
    "datetime.strptime(value, \"%Y-%m-%d\")"
   ]
  },
  {
   "cell_type": "code",
   "execution_count": 14,
   "id": "716d8f06-6ecf-4ac4-9e6c-c175f7089e3a",
   "metadata": {},
   "outputs": [
    {
     "data": {
      "text/plain": [
       "[datetime.datetime(2025, 7, 6, 0, 0), datetime.datetime(2025, 8, 6, 0, 0)]"
      ]
     },
     "execution_count": 14,
     "metadata": {},
     "output_type": "execute_result"
    }
   ],
   "source": [
    "# converting a list of string dates to datetime format\n",
    "datestrs = [\"7/6/2025\", \"8/6/2025\"]\n",
    "[datetime.strptime(x, \"%m/%d/%Y\") for x in datestrs]"
   ]
  },
  {
   "cell_type": "code",
   "execution_count": 15,
   "id": "195399dd-f068-4057-8367-79a3e3d156e9",
   "metadata": {},
   "outputs": [
    {
     "data": {
      "text/plain": [
       "DatetimeIndex(['2011-07-06 12:00:00', '2025-08-06 00:00:00'], dtype='datetime64[ns]', freq=None)"
      ]
     },
     "execution_count": 15,
     "metadata": {},
     "output_type": "execute_result"
    }
   ],
   "source": [
    "# pandas to_datetime\n",
    "datestrs = [\"2011-07-06 12:00:00\", \"2025-08-06 00:00:00\"]\n",
    "pd.to_datetime(datestrs)"
   ]
  },
  {
   "cell_type": "code",
   "execution_count": 16,
   "id": "a1caa520-3825-4879-b823-bc0b2a9c462a",
   "metadata": {},
   "outputs": [],
   "source": [
    "# dataframe to datetime\n",
    "df = pd.DataFrame(\n",
    "    {\"year\": [2025, 2024, 2023],\n",
    "     \"month\": [2, 4, 8],\n",
    "     \"day\": [5, 4, 5]\n",
    "    })"
   ]
  },
  {
   "cell_type": "code",
   "execution_count": 17,
   "id": "c7f68464-da42-4e2a-9372-e03e590840cd",
   "metadata": {},
   "outputs": [
    {
     "data": {
      "text/html": [
       "<div>\n",
       "<style scoped>\n",
       "    .dataframe tbody tr th:only-of-type {\n",
       "        vertical-align: middle;\n",
       "    }\n",
       "\n",
       "    .dataframe tbody tr th {\n",
       "        vertical-align: top;\n",
       "    }\n",
       "\n",
       "    .dataframe thead th {\n",
       "        text-align: right;\n",
       "    }\n",
       "</style>\n",
       "<table border=\"1\" class=\"dataframe\">\n",
       "  <thead>\n",
       "    <tr style=\"text-align: right;\">\n",
       "      <th></th>\n",
       "      <th>year</th>\n",
       "      <th>month</th>\n",
       "      <th>day</th>\n",
       "    </tr>\n",
       "  </thead>\n",
       "  <tbody>\n",
       "    <tr>\n",
       "      <th>0</th>\n",
       "      <td>2025</td>\n",
       "      <td>2</td>\n",
       "      <td>5</td>\n",
       "    </tr>\n",
       "    <tr>\n",
       "      <th>1</th>\n",
       "      <td>2024</td>\n",
       "      <td>4</td>\n",
       "      <td>4</td>\n",
       "    </tr>\n",
       "    <tr>\n",
       "      <th>2</th>\n",
       "      <td>2023</td>\n",
       "      <td>8</td>\n",
       "      <td>5</td>\n",
       "    </tr>\n",
       "  </tbody>\n",
       "</table>\n",
       "</div>"
      ],
      "text/plain": [
       "   year  month  day\n",
       "0  2025      2    5\n",
       "1  2024      4    4\n",
       "2  2023      8    5"
      ]
     },
     "execution_count": 17,
     "metadata": {},
     "output_type": "execute_result"
    }
   ],
   "source": [
    "df"
   ]
  },
  {
   "cell_type": "code",
   "execution_count": 18,
   "id": "890c9cc7-0891-4ab7-82da-f59b530768e4",
   "metadata": {},
   "outputs": [
    {
     "data": {
      "text/plain": [
       "0   2025-02-05\n",
       "1   2024-04-04\n",
       "2   2023-08-05\n",
       "dtype: datetime64[ns]"
      ]
     },
     "execution_count": 18,
     "metadata": {},
     "output_type": "execute_result"
    }
   ],
   "source": [
    "pd.to_datetime(df)"
   ]
  },
  {
   "cell_type": "code",
   "execution_count": 19,
   "id": "f45e75c6-7f1b-43f2-96d3-a9ef91e66482",
   "metadata": {},
   "outputs": [],
   "source": [
    "datestr = [\"2025-07-06 12:00:00\",\n",
    "           \"2034-08-04 13:45:34\"]"
   ]
  },
  {
   "cell_type": "code",
   "execution_count": 20,
   "id": "696dd270-8a4b-4ef6-8556-c7e9a791365a",
   "metadata": {},
   "outputs": [],
   "source": [
    "# Missing values, Not a Time values are also accepted\n",
    "idx = pd.to_datetime(datestrs + [None])"
   ]
  },
  {
   "cell_type": "code",
   "execution_count": 21,
   "id": "2208c9ec-4fae-42b5-b22c-4ffa42cf95c9",
   "metadata": {},
   "outputs": [
    {
     "data": {
      "text/plain": [
       "DatetimeIndex(['2011-07-06 12:00:00', '2025-08-06 00:00:00', 'NaT'], dtype='datetime64[ns]', freq=None)"
      ]
     },
     "execution_count": 21,
     "metadata": {},
     "output_type": "execute_result"
    }
   ],
   "source": [
    "idx"
   ]
  },
  {
   "cell_type": "code",
   "execution_count": 22,
   "id": "6797c513-a438-47b1-b20d-98229a57151f",
   "metadata": {},
   "outputs": [
    {
     "data": {
      "text/plain": [
       "NaT"
      ]
     },
     "execution_count": 22,
     "metadata": {},
     "output_type": "execute_result"
    }
   ],
   "source": [
    "# indexing idx\n",
    "idx[2]"
   ]
  },
  {
   "cell_type": "code",
   "execution_count": 23,
   "id": "415f6f21-7930-4ba9-86cd-be24182f36bd",
   "metadata": {},
   "outputs": [
    {
     "data": {
      "text/plain": [
       "array([False, False,  True])"
      ]
     },
     "execution_count": 23,
     "metadata": {},
     "output_type": "execute_result"
    }
   ],
   "source": [
    "pd.isna(idx)"
   ]
  },
  {
   "cell_type": "markdown",
   "id": "a83ece02-783c-4d4f-afc6-092d0d756bd6",
   "metadata": {},
   "source": [
    "<h4>Time Series Basics</h4>"
   ]
  },
  {
   "cell_type": "code",
   "execution_count": 24,
   "id": "4231ac4c-cb8e-4ed7-a669-c8af90b15a0d",
   "metadata": {},
   "outputs": [],
   "source": [
    "# time series\n",
    "dates = [datetime(2024, 6, 2),\n",
    "        datetime(2025, 10, 21),\n",
    "        datetime(2024, 4, 12),\n",
    "        datetime(2023, 10, 5),\n",
    "        datetime(2016, 11, 3),\n",
    "        datetime(2017, 3, 15),\n",
    "        datetime(2019, 6, 3),\n",
    "        datetime(2020, 5, 8),\n",
    "       ]"
   ]
  },
  {
   "cell_type": "code",
   "execution_count": 25,
   "id": "7454449a-59f2-4990-aeeb-0f25b3e083bb",
   "metadata": {},
   "outputs": [],
   "source": [
    "ts =pd.Series(np.random.standard_normal(8),\n",
    "              index=dates,\n",
    "             )"
   ]
  },
  {
   "cell_type": "code",
   "execution_count": 26,
   "id": "a78c476b-151b-4f83-8e46-2bfe93c81da8",
   "metadata": {},
   "outputs": [
    {
     "data": {
      "text/plain": [
       "2024-06-02   -1.907460\n",
       "2025-10-21    1.242059\n",
       "2024-04-12    0.153079\n",
       "2023-10-05   -0.140760\n",
       "2016-11-03   -1.813603\n",
       "2017-03-15   -1.782100\n",
       "2019-06-03    0.123575\n",
       "2020-05-08   -0.196932\n",
       "dtype: float64"
      ]
     },
     "execution_count": 26,
     "metadata": {},
     "output_type": "execute_result"
    }
   ],
   "source": [
    "ts"
   ]
  },
  {
   "cell_type": "code",
   "execution_count": 27,
   "id": "f516ed5e-9fe5-4ce6-8455-f5aefbc54611",
   "metadata": {},
   "outputs": [
    {
     "data": {
      "text/plain": [
       "2016-11-03         NaN\n",
       "2017-03-15         NaN\n",
       "2019-06-03    0.247149\n",
       "2020-05-08         NaN\n",
       "2023-10-05   -0.281520\n",
       "2024-04-12         NaN\n",
       "2024-06-02   -3.814920\n",
       "2025-10-21         NaN\n",
       "dtype: float64"
      ]
     },
     "execution_count": 27,
     "metadata": {},
     "output_type": "execute_result"
    }
   ],
   "source": [
    "ts + ts[::3]"
   ]
  },
  {
   "cell_type": "code",
   "execution_count": 28,
   "id": "b4b800ed-4319-4df7-88f4-e0c227348de6",
   "metadata": {},
   "outputs": [
    {
     "data": {
      "text/plain": [
       "2024-06-02   -1.907460\n",
       "2023-10-05   -0.140760\n",
       "2019-06-03    0.123575\n",
       "dtype: float64"
      ]
     },
     "execution_count": 28,
     "metadata": {},
     "output_type": "execute_result"
    }
   ],
   "source": [
    "ts[::3]"
   ]
  },
  {
   "cell_type": "markdown",
   "id": "c1d1bad1-2d75-45c3-a5cf-9894164bb67d",
   "metadata": {},
   "source": [
    "<h4>indexing, Selecting and Subsetting</h4>"
   ]
  },
  {
   "cell_type": "code",
   "execution_count": 29,
   "id": "b3a63b28-f387-461c-ba3e-02494eed20f0",
   "metadata": {},
   "outputs": [],
   "source": [
    "# same as indexing a series\n",
    "stamp = ts.index[2]"
   ]
  },
  {
   "cell_type": "code",
   "execution_count": 30,
   "id": "f6aa4016-21af-41b1-940c-a43c240cbee9",
   "metadata": {},
   "outputs": [
    {
     "data": {
      "text/plain": [
       "Timestamp('2024-04-12 00:00:00')"
      ]
     },
     "execution_count": 30,
     "metadata": {},
     "output_type": "execute_result"
    }
   ],
   "source": [
    "stamp"
   ]
  },
  {
   "cell_type": "code",
   "execution_count": 31,
   "id": "b28abe19-d644-4bb1-8e00-5e131f709bb3",
   "metadata": {},
   "outputs": [
    {
     "data": {
      "text/plain": [
       "-1.9074598881909928"
      ]
     },
     "execution_count": 31,
     "metadata": {},
     "output_type": "execute_result"
    }
   ],
   "source": [
    "ts.iat[0]"
   ]
  },
  {
   "cell_type": "code",
   "execution_count": 32,
   "id": "2f2e11a9-8ff9-4f7b-9898-7ba7882bcb29",
   "metadata": {},
   "outputs": [],
   "source": [
    "# indexing by year\n",
    "longer_ts = pd.Series(np.random.standard_normal(2000),\n",
    "                      index=pd.date_range(\"2024-05-22\",\n",
    "                                          periods=2000))"
   ]
  },
  {
   "cell_type": "code",
   "execution_count": 33,
   "id": "5e3f0026-8206-41be-9b02-94f5e950271c",
   "metadata": {},
   "outputs": [
    {
     "data": {
      "text/plain": [
       "2024-05-22    0.562633\n",
       "2024-05-23   -0.511549\n",
       "2024-05-24   -1.149589\n",
       "2024-05-25    1.450739\n",
       "2024-05-26   -2.185633\n",
       "                ...   \n",
       "2024-12-27   -0.364000\n",
       "2024-12-28    0.740191\n",
       "2024-12-29    1.479559\n",
       "2024-12-30   -0.464937\n",
       "2024-12-31    0.285559\n",
       "Freq: D, Length: 224, dtype: float64"
      ]
     },
     "execution_count": 33,
     "metadata": {},
     "output_type": "execute_result"
    }
   ],
   "source": [
    "longer_ts[\"2024\"]"
   ]
  },
  {
   "cell_type": "code",
   "execution_count": 34,
   "id": "76f5d3ce-448a-4a07-bd6d-7f78d4052e76",
   "metadata": {},
   "outputs": [
    {
     "data": {
      "text/plain": [
       "2024-06-01   -1.983586\n",
       "2024-06-02   -0.341954\n",
       "2024-06-03   -1.115531\n",
       "2024-06-04   -0.270397\n",
       "2024-06-05   -0.634207\n",
       "2024-06-06    0.763721\n",
       "2024-06-07   -0.648671\n",
       "2024-06-08    0.778864\n",
       "2024-06-09   -0.647468\n",
       "2024-06-10    1.523331\n",
       "2024-06-11    1.001525\n",
       "2024-06-12   -0.316663\n",
       "2024-06-13   -1.036294\n",
       "2024-06-14    0.510056\n",
       "2024-06-15   -0.859481\n",
       "2024-06-16    0.082898\n",
       "2024-06-17   -0.747292\n",
       "2024-06-18   -0.494076\n",
       "2024-06-19   -0.776281\n",
       "2024-06-20   -0.457237\n",
       "2024-06-21   -0.893683\n",
       "2024-06-22   -1.899987\n",
       "2024-06-23    0.166169\n",
       "2024-06-24    1.486154\n",
       "2024-06-25    1.804960\n",
       "2024-06-26    0.501699\n",
       "2024-06-27   -0.331011\n",
       "2024-06-28    1.686135\n",
       "2024-06-29    0.475103\n",
       "2024-06-30    1.238859\n",
       "Freq: D, dtype: float64"
      ]
     },
     "execution_count": 34,
     "metadata": {},
     "output_type": "execute_result"
    }
   ],
   "source": [
    "# selecting by year-month\n",
    "longer_ts[\"2024-06\"]"
   ]
  },
  {
   "cell_type": "code",
   "execution_count": 35,
   "id": "edc475c3-b65c-49e9-9e5f-80d2bd1eb3b7",
   "metadata": {},
   "outputs": [
    {
     "data": {
      "text/plain": [
       "2024-05-22    0.562633\n",
       "2024-05-23   -0.511549\n",
       "2024-05-24   -1.149589\n",
       "2024-05-25    1.450739\n",
       "2024-05-26   -2.185633\n",
       "                ...   \n",
       "2024-07-28    1.991890\n",
       "2024-07-29    0.146082\n",
       "2024-07-30   -0.696762\n",
       "2024-07-31    0.239638\n",
       "2024-08-01   -1.428441\n",
       "Freq: D, Length: 72, dtype: float64"
      ]
     },
     "execution_count": 35,
     "metadata": {},
     "output_type": "execute_result"
    }
   ],
   "source": [
    "# Slicing by datetime\n",
    "longer_ts[datetime(2024,5,22):\n",
    "datetime(2024,8,1)\n",
    "]"
   ]
  },
  {
   "cell_type": "code",
   "execution_count": 36,
   "id": "c14fc0ad-07f2-47f4-ad3e-c55f7814a0ce",
   "metadata": {},
   "outputs": [
    {
     "data": {
      "text/plain": [
       "2024-05-22    0.562633\n",
       "2024-05-23   -0.511549\n",
       "2024-05-24   -1.149589\n",
       "2024-05-25    1.450739\n",
       "2024-05-26   -2.185633\n",
       "                ...   \n",
       "2024-08-22   -1.193076\n",
       "2024-08-23   -1.663185\n",
       "2024-08-24   -2.846291\n",
       "2024-08-25    1.931000\n",
       "2024-08-26   -1.531571\n",
       "Freq: D, Length: 97, dtype: float64"
      ]
     },
     "execution_count": 36,
     "metadata": {},
     "output_type": "execute_result"
    }
   ],
   "source": [
    "# Slicing with a timestamp not contained in the ts\n",
    "longer_ts[datetime(2016, 8, 26):\n",
    "datetime(2024, 8, 26)\n",
    "]"
   ]
  },
  {
   "cell_type": "code",
   "execution_count": 37,
   "id": "9f552a3d-b577-455d-ac72-24cc3724501f",
   "metadata": {},
   "outputs": [
    {
     "data": {
      "text/plain": [
       "2024-05-22    0.562633\n",
       "2024-05-23   -0.511549\n",
       "2024-05-24   -1.149589\n",
       "2024-05-25    1.450739\n",
       "2024-05-26   -2.185633\n",
       "                ...   \n",
       "2029-11-07   -0.393881\n",
       "2029-11-08    1.478520\n",
       "2029-11-09    2.067537\n",
       "2029-11-10   -0.778811\n",
       "2029-11-11   -1.220269\n",
       "Freq: D, Length: 2000, dtype: float64"
      ]
     },
     "execution_count": 37,
     "metadata": {},
     "output_type": "execute_result"
    }
   ],
   "source": [
    "longer_ts"
   ]
  },
  {
   "cell_type": "code",
   "execution_count": 38,
   "id": "487d875b-83c2-492e-9a0e-bb3310b7fa1f",
   "metadata": {},
   "outputs": [
    {
     "data": {
      "text/plain": [
       "2024-05-22    0.562633\n",
       "2024-05-23   -0.511549\n",
       "2024-05-24   -1.149589\n",
       "2024-05-25    1.450739\n",
       "2024-05-26   -2.185633\n",
       "                ...   \n",
       "2025-05-18   -0.686895\n",
       "2025-05-19    1.650481\n",
       "2025-05-20   -0.059498\n",
       "2025-05-21   -0.828109\n",
       "2025-05-22   -0.659059\n",
       "Freq: D, Length: 366, dtype: float64"
      ]
     },
     "execution_count": 38,
     "metadata": {},
     "output_type": "execute_result"
    }
   ],
   "source": [
    "# truncating after a specific date\n",
    "longer_ts.truncate(after=\"2025-05-22\")"
   ]
  },
  {
   "cell_type": "code",
   "execution_count": 39,
   "id": "ed8e9f70-82fd-4930-afa6-d13fcf6c3b3b",
   "metadata": {},
   "outputs": [],
   "source": [
    "dates = pd.date_range(\"2024-01-01\",\n",
    "                      periods=100,\n",
    "                      freq=\"W-WED\"\n",
    "                     )"
   ]
  },
  {
   "cell_type": "code",
   "execution_count": 40,
   "id": "7e28c20f-d407-4236-a19e-c1b5e5dca963",
   "metadata": {},
   "outputs": [],
   "source": [
    "long_df = pd.DataFrame(np.random.standard_normal((100,4)),\n",
    "                       index=dates,\n",
    "                       columns=[\"Iganga\", \"Jinja\", \"Kampala\", \"Busia\"])"
   ]
  },
  {
   "cell_type": "code",
   "execution_count": 41,
   "id": "9ce9342e-b2cd-4fd4-8508-f52cc032f869",
   "metadata": {},
   "outputs": [
    {
     "data": {
      "text/html": [
       "<div>\n",
       "<style scoped>\n",
       "    .dataframe tbody tr th:only-of-type {\n",
       "        vertical-align: middle;\n",
       "    }\n",
       "\n",
       "    .dataframe tbody tr th {\n",
       "        vertical-align: top;\n",
       "    }\n",
       "\n",
       "    .dataframe thead th {\n",
       "        text-align: right;\n",
       "    }\n",
       "</style>\n",
       "<table border=\"1\" class=\"dataframe\">\n",
       "  <thead>\n",
       "    <tr style=\"text-align: right;\">\n",
       "      <th></th>\n",
       "      <th>Iganga</th>\n",
       "      <th>Jinja</th>\n",
       "      <th>Kampala</th>\n",
       "      <th>Busia</th>\n",
       "    </tr>\n",
       "  </thead>\n",
       "  <tbody>\n",
       "    <tr>\n",
       "      <th>2024-01-03</th>\n",
       "      <td>0.322392</td>\n",
       "      <td>-0.110770</td>\n",
       "      <td>-1.280119</td>\n",
       "      <td>-0.326149</td>\n",
       "    </tr>\n",
       "    <tr>\n",
       "      <th>2024-01-10</th>\n",
       "      <td>-1.931068</td>\n",
       "      <td>1.018015</td>\n",
       "      <td>-0.253723</td>\n",
       "      <td>-0.867754</td>\n",
       "    </tr>\n",
       "    <tr>\n",
       "      <th>2024-01-17</th>\n",
       "      <td>0.368902</td>\n",
       "      <td>-0.178827</td>\n",
       "      <td>0.830081</td>\n",
       "      <td>-2.120323</td>\n",
       "    </tr>\n",
       "    <tr>\n",
       "      <th>2024-01-24</th>\n",
       "      <td>-1.507462</td>\n",
       "      <td>0.047836</td>\n",
       "      <td>1.473136</td>\n",
       "      <td>-0.581152</td>\n",
       "    </tr>\n",
       "    <tr>\n",
       "      <th>2024-01-31</th>\n",
       "      <td>0.834570</td>\n",
       "      <td>-1.317898</td>\n",
       "      <td>0.653624</td>\n",
       "      <td>-0.383802</td>\n",
       "    </tr>\n",
       "    <tr>\n",
       "      <th>2024-02-07</th>\n",
       "      <td>3.168183</td>\n",
       "      <td>0.368093</td>\n",
       "      <td>-0.008496</td>\n",
       "      <td>-0.860533</td>\n",
       "    </tr>\n",
       "    <tr>\n",
       "      <th>2024-02-14</th>\n",
       "      <td>0.743216</td>\n",
       "      <td>0.896738</td>\n",
       "      <td>0.808411</td>\n",
       "      <td>0.100841</td>\n",
       "    </tr>\n",
       "    <tr>\n",
       "      <th>2024-02-21</th>\n",
       "      <td>-0.915516</td>\n",
       "      <td>1.154637</td>\n",
       "      <td>-1.309985</td>\n",
       "      <td>-1.840142</td>\n",
       "    </tr>\n",
       "    <tr>\n",
       "      <th>2024-02-28</th>\n",
       "      <td>0.513743</td>\n",
       "      <td>-0.372263</td>\n",
       "      <td>-0.624624</td>\n",
       "      <td>0.853757</td>\n",
       "    </tr>\n",
       "    <tr>\n",
       "      <th>2024-03-06</th>\n",
       "      <td>-0.144768</td>\n",
       "      <td>-1.020474</td>\n",
       "      <td>1.423435</td>\n",
       "      <td>-1.973936</td>\n",
       "    </tr>\n",
       "    <tr>\n",
       "      <th>2024-03-13</th>\n",
       "      <td>0.375124</td>\n",
       "      <td>-0.614636</td>\n",
       "      <td>0.759321</td>\n",
       "      <td>1.231116</td>\n",
       "    </tr>\n",
       "    <tr>\n",
       "      <th>2024-03-20</th>\n",
       "      <td>0.888144</td>\n",
       "      <td>1.478901</td>\n",
       "      <td>0.436534</td>\n",
       "      <td>1.213646</td>\n",
       "    </tr>\n",
       "    <tr>\n",
       "      <th>2024-03-27</th>\n",
       "      <td>-0.390764</td>\n",
       "      <td>-0.162193</td>\n",
       "      <td>-0.676093</td>\n",
       "      <td>1.390906</td>\n",
       "    </tr>\n",
       "    <tr>\n",
       "      <th>2024-04-03</th>\n",
       "      <td>-0.558900</td>\n",
       "      <td>-0.087402</td>\n",
       "      <td>-1.267236</td>\n",
       "      <td>1.475343</td>\n",
       "    </tr>\n",
       "    <tr>\n",
       "      <th>2024-04-10</th>\n",
       "      <td>0.749762</td>\n",
       "      <td>-0.742548</td>\n",
       "      <td>-0.034129</td>\n",
       "      <td>-0.233894</td>\n",
       "    </tr>\n",
       "    <tr>\n",
       "      <th>2024-04-17</th>\n",
       "      <td>1.457526</td>\n",
       "      <td>-0.010074</td>\n",
       "      <td>0.535088</td>\n",
       "      <td>0.668940</td>\n",
       "    </tr>\n",
       "    <tr>\n",
       "      <th>2024-04-24</th>\n",
       "      <td>0.904921</td>\n",
       "      <td>1.210811</td>\n",
       "      <td>-0.937247</td>\n",
       "      <td>-0.618198</td>\n",
       "    </tr>\n",
       "    <tr>\n",
       "      <th>2024-05-01</th>\n",
       "      <td>0.367432</td>\n",
       "      <td>2.076840</td>\n",
       "      <td>-0.310763</td>\n",
       "      <td>-1.662632</td>\n",
       "    </tr>\n",
       "    <tr>\n",
       "      <th>2024-05-08</th>\n",
       "      <td>-1.639751</td>\n",
       "      <td>0.145180</td>\n",
       "      <td>-1.460240</td>\n",
       "      <td>0.955159</td>\n",
       "    </tr>\n",
       "    <tr>\n",
       "      <th>2024-05-15</th>\n",
       "      <td>-0.187516</td>\n",
       "      <td>1.080605</td>\n",
       "      <td>-1.092464</td>\n",
       "      <td>-0.725591</td>\n",
       "    </tr>\n",
       "    <tr>\n",
       "      <th>2024-05-22</th>\n",
       "      <td>-0.222002</td>\n",
       "      <td>-1.446316</td>\n",
       "      <td>-1.223110</td>\n",
       "      <td>0.035606</td>\n",
       "    </tr>\n",
       "    <tr>\n",
       "      <th>2024-05-29</th>\n",
       "      <td>-1.006106</td>\n",
       "      <td>-0.539024</td>\n",
       "      <td>-1.484775</td>\n",
       "      <td>-0.430310</td>\n",
       "    </tr>\n",
       "    <tr>\n",
       "      <th>2024-06-05</th>\n",
       "      <td>-0.594168</td>\n",
       "      <td>-1.019033</td>\n",
       "      <td>0.905552</td>\n",
       "      <td>1.047505</td>\n",
       "    </tr>\n",
       "    <tr>\n",
       "      <th>2024-06-12</th>\n",
       "      <td>-0.239384</td>\n",
       "      <td>-0.498162</td>\n",
       "      <td>-0.554526</td>\n",
       "      <td>-0.041469</td>\n",
       "    </tr>\n",
       "    <tr>\n",
       "      <th>2024-06-19</th>\n",
       "      <td>-0.695358</td>\n",
       "      <td>1.122666</td>\n",
       "      <td>0.617397</td>\n",
       "      <td>0.561346</td>\n",
       "    </tr>\n",
       "    <tr>\n",
       "      <th>2024-06-26</th>\n",
       "      <td>0.956705</td>\n",
       "      <td>0.381951</td>\n",
       "      <td>0.024654</td>\n",
       "      <td>1.724765</td>\n",
       "    </tr>\n",
       "    <tr>\n",
       "      <th>2024-07-03</th>\n",
       "      <td>-0.054985</td>\n",
       "      <td>-0.279053</td>\n",
       "      <td>-0.715809</td>\n",
       "      <td>-0.994776</td>\n",
       "    </tr>\n",
       "    <tr>\n",
       "      <th>2024-07-10</th>\n",
       "      <td>2.896013</td>\n",
       "      <td>-2.598797</td>\n",
       "      <td>-1.380792</td>\n",
       "      <td>0.039627</td>\n",
       "    </tr>\n",
       "    <tr>\n",
       "      <th>2024-07-17</th>\n",
       "      <td>-1.016378</td>\n",
       "      <td>-0.994139</td>\n",
       "      <td>-2.451513</td>\n",
       "      <td>-0.186784</td>\n",
       "    </tr>\n",
       "    <tr>\n",
       "      <th>2024-07-24</th>\n",
       "      <td>0.375735</td>\n",
       "      <td>1.705667</td>\n",
       "      <td>2.299000</td>\n",
       "      <td>1.824952</td>\n",
       "    </tr>\n",
       "    <tr>\n",
       "      <th>2024-07-31</th>\n",
       "      <td>1.420039</td>\n",
       "      <td>0.141438</td>\n",
       "      <td>-1.668688</td>\n",
       "      <td>0.854653</td>\n",
       "    </tr>\n",
       "    <tr>\n",
       "      <th>2024-08-07</th>\n",
       "      <td>0.644348</td>\n",
       "      <td>-1.412310</td>\n",
       "      <td>0.272718</td>\n",
       "      <td>0.408608</td>\n",
       "    </tr>\n",
       "    <tr>\n",
       "      <th>2024-08-14</th>\n",
       "      <td>-0.109950</td>\n",
       "      <td>0.631284</td>\n",
       "      <td>1.684585</td>\n",
       "      <td>0.734150</td>\n",
       "    </tr>\n",
       "    <tr>\n",
       "      <th>2024-08-21</th>\n",
       "      <td>-0.747142</td>\n",
       "      <td>1.172049</td>\n",
       "      <td>0.152889</td>\n",
       "      <td>0.922240</td>\n",
       "    </tr>\n",
       "    <tr>\n",
       "      <th>2024-08-28</th>\n",
       "      <td>2.062395</td>\n",
       "      <td>-0.152955</td>\n",
       "      <td>1.310729</td>\n",
       "      <td>1.756397</td>\n",
       "    </tr>\n",
       "    <tr>\n",
       "      <th>2024-09-04</th>\n",
       "      <td>-1.051665</td>\n",
       "      <td>-0.497601</td>\n",
       "      <td>1.306591</td>\n",
       "      <td>0.216989</td>\n",
       "    </tr>\n",
       "    <tr>\n",
       "      <th>2024-09-11</th>\n",
       "      <td>1.284849</td>\n",
       "      <td>0.209678</td>\n",
       "      <td>0.553133</td>\n",
       "      <td>0.552408</td>\n",
       "    </tr>\n",
       "    <tr>\n",
       "      <th>2024-09-18</th>\n",
       "      <td>1.906582</td>\n",
       "      <td>0.793219</td>\n",
       "      <td>-0.071661</td>\n",
       "      <td>-0.281815</td>\n",
       "    </tr>\n",
       "    <tr>\n",
       "      <th>2024-09-25</th>\n",
       "      <td>-1.381565</td>\n",
       "      <td>1.566550</td>\n",
       "      <td>-1.048014</td>\n",
       "      <td>-0.822456</td>\n",
       "    </tr>\n",
       "    <tr>\n",
       "      <th>2024-10-02</th>\n",
       "      <td>0.679637</td>\n",
       "      <td>-0.481411</td>\n",
       "      <td>-1.707138</td>\n",
       "      <td>2.038814</td>\n",
       "    </tr>\n",
       "    <tr>\n",
       "      <th>2024-10-09</th>\n",
       "      <td>-0.125890</td>\n",
       "      <td>-0.630372</td>\n",
       "      <td>0.220838</td>\n",
       "      <td>0.032484</td>\n",
       "    </tr>\n",
       "    <tr>\n",
       "      <th>2024-10-16</th>\n",
       "      <td>1.668745</td>\n",
       "      <td>-1.308273</td>\n",
       "      <td>1.851859</td>\n",
       "      <td>0.435083</td>\n",
       "    </tr>\n",
       "    <tr>\n",
       "      <th>2024-10-23</th>\n",
       "      <td>-1.293962</td>\n",
       "      <td>0.092866</td>\n",
       "      <td>1.455645</td>\n",
       "      <td>-0.700899</td>\n",
       "    </tr>\n",
       "    <tr>\n",
       "      <th>2024-10-30</th>\n",
       "      <td>-1.504353</td>\n",
       "      <td>0.849819</td>\n",
       "      <td>2.136290</td>\n",
       "      <td>-1.153801</td>\n",
       "    </tr>\n",
       "    <tr>\n",
       "      <th>2024-11-06</th>\n",
       "      <td>0.155817</td>\n",
       "      <td>0.526098</td>\n",
       "      <td>-0.402799</td>\n",
       "      <td>-0.417795</td>\n",
       "    </tr>\n",
       "    <tr>\n",
       "      <th>2024-11-13</th>\n",
       "      <td>-0.407955</td>\n",
       "      <td>0.399457</td>\n",
       "      <td>1.161205</td>\n",
       "      <td>0.259230</td>\n",
       "    </tr>\n",
       "    <tr>\n",
       "      <th>2024-11-20</th>\n",
       "      <td>0.997780</td>\n",
       "      <td>0.900005</td>\n",
       "      <td>1.432396</td>\n",
       "      <td>-0.591979</td>\n",
       "    </tr>\n",
       "    <tr>\n",
       "      <th>2024-11-27</th>\n",
       "      <td>0.257339</td>\n",
       "      <td>-0.940325</td>\n",
       "      <td>0.017044</td>\n",
       "      <td>1.057983</td>\n",
       "    </tr>\n",
       "    <tr>\n",
       "      <th>2024-12-04</th>\n",
       "      <td>-1.587702</td>\n",
       "      <td>-0.311002</td>\n",
       "      <td>-0.114668</td>\n",
       "      <td>0.281763</td>\n",
       "    </tr>\n",
       "    <tr>\n",
       "      <th>2024-12-11</th>\n",
       "      <td>-0.469901</td>\n",
       "      <td>-0.417471</td>\n",
       "      <td>-0.742918</td>\n",
       "      <td>-0.412764</td>\n",
       "    </tr>\n",
       "    <tr>\n",
       "      <th>2024-12-18</th>\n",
       "      <td>-2.608947</td>\n",
       "      <td>-2.045535</td>\n",
       "      <td>0.565609</td>\n",
       "      <td>-0.371561</td>\n",
       "    </tr>\n",
       "    <tr>\n",
       "      <th>2024-12-25</th>\n",
       "      <td>0.774778</td>\n",
       "      <td>-0.708435</td>\n",
       "      <td>0.897890</td>\n",
       "      <td>0.093544</td>\n",
       "    </tr>\n",
       "  </tbody>\n",
       "</table>\n",
       "</div>"
      ],
      "text/plain": [
       "              Iganga     Jinja   Kampala     Busia\n",
       "2024-01-03  0.322392 -0.110770 -1.280119 -0.326149\n",
       "2024-01-10 -1.931068  1.018015 -0.253723 -0.867754\n",
       "2024-01-17  0.368902 -0.178827  0.830081 -2.120323\n",
       "2024-01-24 -1.507462  0.047836  1.473136 -0.581152\n",
       "2024-01-31  0.834570 -1.317898  0.653624 -0.383802\n",
       "2024-02-07  3.168183  0.368093 -0.008496 -0.860533\n",
       "2024-02-14  0.743216  0.896738  0.808411  0.100841\n",
       "2024-02-21 -0.915516  1.154637 -1.309985 -1.840142\n",
       "2024-02-28  0.513743 -0.372263 -0.624624  0.853757\n",
       "2024-03-06 -0.144768 -1.020474  1.423435 -1.973936\n",
       "2024-03-13  0.375124 -0.614636  0.759321  1.231116\n",
       "2024-03-20  0.888144  1.478901  0.436534  1.213646\n",
       "2024-03-27 -0.390764 -0.162193 -0.676093  1.390906\n",
       "2024-04-03 -0.558900 -0.087402 -1.267236  1.475343\n",
       "2024-04-10  0.749762 -0.742548 -0.034129 -0.233894\n",
       "2024-04-17  1.457526 -0.010074  0.535088  0.668940\n",
       "2024-04-24  0.904921  1.210811 -0.937247 -0.618198\n",
       "2024-05-01  0.367432  2.076840 -0.310763 -1.662632\n",
       "2024-05-08 -1.639751  0.145180 -1.460240  0.955159\n",
       "2024-05-15 -0.187516  1.080605 -1.092464 -0.725591\n",
       "2024-05-22 -0.222002 -1.446316 -1.223110  0.035606\n",
       "2024-05-29 -1.006106 -0.539024 -1.484775 -0.430310\n",
       "2024-06-05 -0.594168 -1.019033  0.905552  1.047505\n",
       "2024-06-12 -0.239384 -0.498162 -0.554526 -0.041469\n",
       "2024-06-19 -0.695358  1.122666  0.617397  0.561346\n",
       "2024-06-26  0.956705  0.381951  0.024654  1.724765\n",
       "2024-07-03 -0.054985 -0.279053 -0.715809 -0.994776\n",
       "2024-07-10  2.896013 -2.598797 -1.380792  0.039627\n",
       "2024-07-17 -1.016378 -0.994139 -2.451513 -0.186784\n",
       "2024-07-24  0.375735  1.705667  2.299000  1.824952\n",
       "2024-07-31  1.420039  0.141438 -1.668688  0.854653\n",
       "2024-08-07  0.644348 -1.412310  0.272718  0.408608\n",
       "2024-08-14 -0.109950  0.631284  1.684585  0.734150\n",
       "2024-08-21 -0.747142  1.172049  0.152889  0.922240\n",
       "2024-08-28  2.062395 -0.152955  1.310729  1.756397\n",
       "2024-09-04 -1.051665 -0.497601  1.306591  0.216989\n",
       "2024-09-11  1.284849  0.209678  0.553133  0.552408\n",
       "2024-09-18  1.906582  0.793219 -0.071661 -0.281815\n",
       "2024-09-25 -1.381565  1.566550 -1.048014 -0.822456\n",
       "2024-10-02  0.679637 -0.481411 -1.707138  2.038814\n",
       "2024-10-09 -0.125890 -0.630372  0.220838  0.032484\n",
       "2024-10-16  1.668745 -1.308273  1.851859  0.435083\n",
       "2024-10-23 -1.293962  0.092866  1.455645 -0.700899\n",
       "2024-10-30 -1.504353  0.849819  2.136290 -1.153801\n",
       "2024-11-06  0.155817  0.526098 -0.402799 -0.417795\n",
       "2024-11-13 -0.407955  0.399457  1.161205  0.259230\n",
       "2024-11-20  0.997780  0.900005  1.432396 -0.591979\n",
       "2024-11-27  0.257339 -0.940325  0.017044  1.057983\n",
       "2024-12-04 -1.587702 -0.311002 -0.114668  0.281763\n",
       "2024-12-11 -0.469901 -0.417471 -0.742918 -0.412764\n",
       "2024-12-18 -2.608947 -2.045535  0.565609 -0.371561\n",
       "2024-12-25  0.774778 -0.708435  0.897890  0.093544"
      ]
     },
     "execution_count": 41,
     "metadata": {},
     "output_type": "execute_result"
    }
   ],
   "source": [
    "long_df.loc[\"2024\"]"
   ]
  },
  {
   "cell_type": "markdown",
   "id": "bf083692-5721-43de-aeaa-3a3cda110c21",
   "metadata": {},
   "source": [
    "<h4>Time Series with Duplicates</h4>"
   ]
  },
  {
   "cell_type": "code",
   "execution_count": 42,
   "id": "1008f95d-0aa8-4e8d-8bc4-b3c65a8cf0df",
   "metadata": {},
   "outputs": [],
   "source": [
    "dates = pd.DatetimeIndex([\"2000-01-01\",\n",
    "                          \"2000-01-02\",\n",
    "                          \"2000-01-02\",\n",
    "                          \"2000-01-02\",\n",
    "                          \"2000-01-03\"])"
   ]
  },
  {
   "cell_type": "code",
   "execution_count": 43,
   "id": "f609b8fb-a70e-4f83-95aa-163b55b590c6",
   "metadata": {},
   "outputs": [],
   "source": [
    "dup_ts = pd.Series(np.arange(5),\n",
    "                   index=dates)"
   ]
  },
  {
   "cell_type": "code",
   "execution_count": 44,
   "id": "b1ea308f-f17e-41dc-b411-42d6758c5c7b",
   "metadata": {},
   "outputs": [
    {
     "data": {
      "text/plain": [
       "2000-01-01    0\n",
       "2000-01-02    1\n",
       "2000-01-02    2\n",
       "2000-01-02    3\n",
       "2000-01-03    4\n",
       "dtype: int32"
      ]
     },
     "execution_count": 44,
     "metadata": {},
     "output_type": "execute_result"
    }
   ],
   "source": [
    "dup_ts"
   ]
  },
  {
   "cell_type": "code",
   "execution_count": 45,
   "id": "bfe62b36-33be-4bff-8576-2fcf6be5fead",
   "metadata": {},
   "outputs": [
    {
     "data": {
      "text/plain": [
       "4"
      ]
     },
     "execution_count": 45,
     "metadata": {},
     "output_type": "execute_result"
    }
   ],
   "source": [
    "dup_ts[\"2000-01-03\"]"
   ]
  },
  {
   "cell_type": "code",
   "execution_count": 46,
   "id": "1c9d71f3-a29f-4f2d-bc5d-5060bce8b6e7",
   "metadata": {},
   "outputs": [
    {
     "data": {
      "text/plain": [
       "2000-01-02    1\n",
       "2000-01-02    2\n",
       "2000-01-02    3\n",
       "dtype: int32"
      ]
     },
     "execution_count": 46,
     "metadata": {},
     "output_type": "execute_result"
    }
   ],
   "source": [
    "dup_ts[\"2000-01-02\"]"
   ]
  },
  {
   "cell_type": "code",
   "execution_count": 47,
   "id": "7fbfdd2f-d070-4a8d-8f99-a44316008693",
   "metadata": {},
   "outputs": [],
   "source": [
    "# Aggregating\n",
    "grouped = dup_ts.groupby(level=0)"
   ]
  },
  {
   "cell_type": "code",
   "execution_count": 48,
   "id": "fa184176-58ff-4e8e-8ca7-7b44bb718661",
   "metadata": {},
   "outputs": [
    {
     "data": {
      "text/plain": [
       "2000-01-01    0.0\n",
       "2000-01-02    2.0\n",
       "2000-01-03    4.0\n",
       "dtype: float64"
      ]
     },
     "execution_count": 48,
     "metadata": {},
     "output_type": "execute_result"
    }
   ],
   "source": [
    "grouped.mean()"
   ]
  },
  {
   "cell_type": "code",
   "execution_count": 49,
   "id": "69bd282f-9020-4027-a07e-dde825544cc4",
   "metadata": {},
   "outputs": [
    {
     "data": {
      "text/plain": [
       "2000-01-01    1\n",
       "2000-01-02    3\n",
       "2000-01-03    1\n",
       "dtype: int64"
      ]
     },
     "execution_count": 49,
     "metadata": {},
     "output_type": "execute_result"
    }
   ],
   "source": [
    "grouped.count()"
   ]
  },
  {
   "cell_type": "markdown",
   "id": "1b452b7b-1ceb-4a2f-a348-07f32d3fafc9",
   "metadata": {},
   "source": [
    "<h4>Date Ranges, Frequencies and Shifting</h4>"
   ]
  },
  {
   "cell_type": "code",
   "execution_count": 50,
   "id": "90499814-fb27-47f1-8cfb-b97bcbb481ab",
   "metadata": {},
   "outputs": [
    {
     "data": {
      "text/plain": [
       "2024-06-02   -1.907460\n",
       "2025-10-21    1.242059\n",
       "2024-04-12    0.153079\n",
       "2023-10-05   -0.140760\n",
       "2016-11-03   -1.813603\n",
       "2017-03-15   -1.782100\n",
       "2019-06-03    0.123575\n",
       "2020-05-08   -0.196932\n",
       "dtype: float64"
      ]
     },
     "execution_count": 50,
     "metadata": {},
     "output_type": "execute_result"
    }
   ],
   "source": [
    "ts"
   ]
  },
  {
   "cell_type": "code",
   "execution_count": 51,
   "id": "cbea68c4-f526-4a4b-9ba5-91198e2017ba",
   "metadata": {},
   "outputs": [],
   "source": [
    "resampler = ts.resample(\"D\")"
   ]
  },
  {
   "cell_type": "code",
   "execution_count": 52,
   "id": "72aa37dd-1ada-4bad-911d-0e299e9f68cb",
   "metadata": {},
   "outputs": [
    {
     "data": {
      "text/plain": [
       "<pandas.core.resample.DatetimeIndexResampler object at 0x00000266A74E8F80>"
      ]
     },
     "execution_count": 52,
     "metadata": {},
     "output_type": "execute_result"
    }
   ],
   "source": [
    "resampler"
   ]
  },
  {
   "cell_type": "markdown",
   "id": "7476964d-8b73-478d-a87e-1f51174b4fb8",
   "metadata": {},
   "source": [
    "<h4>Generating Date Ranges</h4>"
   ]
  },
  {
   "cell_type": "code",
   "execution_count": 53,
   "id": "f402415f-5b66-4f37-a0e8-a0e0328360b6",
   "metadata": {},
   "outputs": [],
   "source": [
    "index = pd.date_range(\"2024-05-01\",\n",
    "                      \"2024-12-31\")"
   ]
  },
  {
   "cell_type": "code",
   "execution_count": 54,
   "id": "d0d0dbee-e882-46c5-871e-52a3277453f3",
   "metadata": {},
   "outputs": [
    {
     "data": {
      "text/plain": [
       "DatetimeIndex(['2024-05-01', '2024-05-02', '2024-05-03', '2024-05-04',\n",
       "               '2024-05-05', '2024-05-06', '2024-05-07', '2024-05-08',\n",
       "               '2024-05-09', '2024-05-10',\n",
       "               ...\n",
       "               '2024-12-22', '2024-12-23', '2024-12-24', '2024-12-25',\n",
       "               '2024-12-26', '2024-12-27', '2024-12-28', '2024-12-29',\n",
       "               '2024-12-30', '2024-12-31'],\n",
       "              dtype='datetime64[ns]', length=245, freq='D')"
      ]
     },
     "execution_count": 54,
     "metadata": {},
     "output_type": "execute_result"
    }
   ],
   "source": [
    "index"
   ]
  },
  {
   "cell_type": "code",
   "execution_count": 58,
   "id": "0236d7cf-acdc-485d-8e8d-8c9f4f07fbd7",
   "metadata": {},
   "outputs": [
    {
     "data": {
      "text/plain": [
       "DatetimeIndex(['2024-05-25', '2024-05-26', '2024-05-27', '2024-05-28',\n",
       "               '2024-05-29', '2024-05-30', '2024-05-31', '2024-06-01',\n",
       "               '2024-06-02', '2024-06-03'],\n",
       "              dtype='datetime64[ns]', freq='D')"
      ]
     },
     "execution_count": 58,
     "metadata": {},
     "output_type": "execute_result"
    }
   ],
   "source": [
    "# using start date, end date\n",
    "pd.date_range(start=\"2024-05-25\", periods=10)"
   ]
  },
  {
   "cell_type": "code",
   "execution_count": 63,
   "id": "18157ffb-9b81-4a3d-9923-529457711fc5",
   "metadata": {},
   "outputs": [
    {
     "data": {
      "text/plain": [
       "DatetimeIndex(['2008-05-01 00:00:00+03:00', '2008-06-01 00:00:00+03:00',\n",
       "               '2008-07-01 00:00:00+03:00', '2008-08-01 00:00:00+03:00',\n",
       "               '2008-09-01 00:00:00+03:00', '2008-10-01 00:00:00+03:00',\n",
       "               '2008-11-01 00:00:00+03:00', '2008-12-01 00:00:00+03:00',\n",
       "               '2009-01-01 00:00:00+03:00', '2009-02-01 00:00:00+03:00',\n",
       "               ...\n",
       "               '2024-03-01 00:00:00+03:00', '2024-04-01 00:00:00+03:00',\n",
       "               '2024-05-01 00:00:00+03:00', '2024-06-01 00:00:00+03:00',\n",
       "               '2024-07-01 00:00:00+03:00', '2024-08-01 00:00:00+03:00',\n",
       "               '2024-09-01 00:00:00+03:00', '2024-10-01 00:00:00+03:00',\n",
       "               '2024-11-01 00:00:00+03:00', '2024-12-01 00:00:00+03:00'],\n",
       "              dtype='datetime64[ns, Africa/Kampala]', length=200, freq='MS')"
      ]
     },
     "execution_count": 63,
     "metadata": {},
     "output_type": "execute_result"
    }
   ],
   "source": [
    "# using end\n",
    "pd.date_range(end=\"2024-12-31\",\n",
    "              periods=200,\n",
    "             tz='Africa/Kampala',\n",
    "             freq=\"MS\",\n",
    "              inclusive=\"both\",\n",
    "             )"
   ]
  },
  {
   "cell_type": "code",
   "execution_count": 61,
   "id": "7aab281b-647e-43b4-b0af-627e0c8e1041",
   "metadata": {},
   "outputs": [],
   "source": [
    "import pytz"
   ]
  },
  {
   "cell_type": "code",
   "execution_count": 66,
   "id": "3ff47427-1f0a-4a86-b64f-4de368be540b",
   "metadata": {},
   "outputs": [
    {
     "data": {
      "text/plain": [
       "['Africa/Abidjan',\n",
       " 'Africa/Accra',\n",
       " 'Africa/Addis_Ababa',\n",
       " 'Africa/Algiers',\n",
       " 'Africa/Asmara',\n",
       " 'Africa/Asmera',\n",
       " 'Africa/Bamako',\n",
       " 'Africa/Bangui',\n",
       " 'Africa/Banjul',\n",
       " 'Africa/Bissau',\n",
       " 'Africa/Blantyre',\n",
       " 'Africa/Brazzaville',\n",
       " 'Africa/Bujumbura',\n",
       " 'Africa/Cairo',\n",
       " 'Africa/Casablanca',\n",
       " 'Africa/Ceuta',\n",
       " 'Africa/Conakry',\n",
       " 'Africa/Dakar',\n",
       " 'Africa/Dar_es_Salaam',\n",
       " 'Africa/Djibouti',\n",
       " 'Africa/Douala',\n",
       " 'Africa/El_Aaiun',\n",
       " 'Africa/Freetown',\n",
       " 'Africa/Gaborone',\n",
       " 'Africa/Harare',\n",
       " 'Africa/Johannesburg',\n",
       " 'Africa/Juba',\n",
       " 'Africa/Kampala',\n",
       " 'Africa/Khartoum',\n",
       " 'Africa/Kigali',\n",
       " 'Africa/Kinshasa',\n",
       " 'Africa/Lagos',\n",
       " 'Africa/Libreville',\n",
       " 'Africa/Lome',\n",
       " 'Africa/Luanda',\n",
       " 'Africa/Lubumbashi',\n",
       " 'Africa/Lusaka',\n",
       " 'Africa/Malabo',\n",
       " 'Africa/Maputo',\n",
       " 'Africa/Maseru',\n",
       " 'Africa/Mbabane',\n",
       " 'Africa/Mogadishu',\n",
       " 'Africa/Monrovia',\n",
       " 'Africa/Nairobi',\n",
       " 'Africa/Ndjamena',\n",
       " 'Africa/Niamey',\n",
       " 'Africa/Nouakchott',\n",
       " 'Africa/Ouagadougou',\n",
       " 'Africa/Porto-Novo',\n",
       " 'Africa/Sao_Tome']"
      ]
     },
     "execution_count": 66,
     "metadata": {},
     "output_type": "execute_result"
    }
   ],
   "source": [
    "# time zone samples\n",
    "pytz.all_timezones[:50]"
   ]
  },
  {
   "cell_type": "code",
   "execution_count": 80,
   "id": "7384db93-b59b-4445-81c6-2178a9af6b5e",
   "metadata": {},
   "outputs": [
    {
     "data": {
      "text/plain": [
       "DatetimeIndex(['2024-01-01 00:00:00+03:00', '2024-01-02 00:00:00+03:00',\n",
       "               '2024-01-03 00:00:00+03:00', '2024-01-04 00:00:00+03:00',\n",
       "               '2024-01-05 00:00:00+03:00', '2024-01-06 00:00:00+03:00',\n",
       "               '2024-01-07 00:00:00+03:00', '2024-01-08 00:00:00+03:00',\n",
       "               '2024-01-09 00:00:00+03:00', '2024-01-10 00:00:00+03:00',\n",
       "               ...\n",
       "               '2025-12-22 00:00:00+03:00', '2025-12-23 00:00:00+03:00',\n",
       "               '2025-12-24 00:00:00+03:00', '2025-12-25 00:00:00+03:00',\n",
       "               '2025-12-26 00:00:00+03:00', '2025-12-27 00:00:00+03:00',\n",
       "               '2025-12-28 00:00:00+03:00', '2025-12-29 00:00:00+03:00',\n",
       "               '2025-12-30 00:00:00+03:00', '2025-12-31 00:00:00+03:00'],\n",
       "              dtype='datetime64[ns, Africa/Kampala]', length=731, freq='D')"
      ]
     },
     "execution_count": 80,
     "metadata": {},
     "output_type": "execute_result"
    }
   ],
   "source": [
    "# using localize\n",
    "pd.date_range(\n",
    "    start=pd.to_datetime(\"1/1/2024\", dayfirst=True).tz_localize(\"Africa/Kampala\"),\n",
    "    end=pd.to_datetime(\"31/12/2025\", dayfirst=True).tz_localize(\"Africa/Kampala\"),\n",
    "    )"
   ]
  },
  {
   "cell_type": "code",
   "execution_count": 81,
   "id": "89c6375e-c312-4a77-a6f9-8c101e5d04dc",
   "metadata": {},
   "outputs": [
    {
     "data": {
      "text/plain": [
       "DatetimeIndex(['2024-01-31', '2024-04-30', '2024-07-31', '2024-10-31',\n",
       "               '2025-01-31'],\n",
       "              dtype='datetime64[ns]', freq='3ME')"
      ]
     },
     "execution_count": 81,
     "metadata": {},
     "output_type": "execute_result"
    }
   ],
   "source": [
    "pd.date_range(start=\"1/1/2024\",\n",
    "              periods=5,\n",
    "              freq=\"3ME\"\n",
    "             )"
   ]
  },
  {
   "cell_type": "code",
   "execution_count": 91,
   "id": "b4b425f0-15f5-4c75-8f9d-815098004b1f",
   "metadata": {},
   "outputs": [
    {
     "data": {
      "text/plain": [
       "DatetimeIndex(['2017-01-01', '2117-01-01', '2217-01-01', '2317-01-01',\n",
       "               '2417-01-01', '2517-01-01', '2617-01-01', '2717-01-01',\n",
       "               '2817-01-01', '2917-01-01'],\n",
       "              dtype='datetime64[s]', freq='100YS-JAN')"
      ]
     },
     "execution_count": 91,
     "metadata": {},
     "output_type": "execute_result"
    }
   ],
   "source": [
    "# specifing unit\n",
    "pd.date_range(start=\"2017-01-01\",\n",
    "              periods=10,\n",
    "              freq=\"100YS\",\n",
    "              unit='s'\n",
    "             )"
   ]
  },
  {
   "cell_type": "code",
   "execution_count": 95,
   "id": "da969b57-d071-4a25-bae2-98364c59e8d9",
   "metadata": {},
   "outputs": [
    {
     "data": {
      "text/plain": [
       "DatetimeIndex(['2024-05-02', '2024-05-03', '2024-05-04', '2024-05-05',\n",
       "               '2024-05-06'],\n",
       "              dtype='datetime64[ns]', freq='D')"
      ]
     },
     "execution_count": 95,
     "metadata": {},
     "output_type": "execute_result"
    }
   ],
   "source": [
    "# Normalizing datetime\n",
    "pd.date_range(\"2024-05-02 12:54:21\",\n",
    "              periods=5,\n",
    "              normalize=True\n",
    "             )"
   ]
  },
  {
   "cell_type": "markdown",
   "id": "72744c2b-7e51-4c40-8803-e6be8c64ad02",
   "metadata": {},
   "source": [
    "<h4>Frequencies and Date Offsets</h4>"
   ]
  },
  {
   "cell_type": "code",
   "execution_count": 97,
   "id": "4a25d77f-7d0a-47c3-82c9-5ed91c550e8a",
   "metadata": {},
   "outputs": [
    {
     "data": {
      "text/plain": [
       "DatetimeIndex(['2025-02-01 00:00:00', '2025-02-01 04:00:00',\n",
       "               '2025-02-01 08:00:00', '2025-02-01 12:00:00',\n",
       "               '2025-02-01 16:00:00', '2025-02-01 20:00:00',\n",
       "               '2025-02-02 00:00:00', '2025-02-02 04:00:00',\n",
       "               '2025-02-02 08:00:00', '2025-02-02 12:00:00',\n",
       "               ...\n",
       "               '2025-05-01 08:00:00', '2025-05-01 12:00:00',\n",
       "               '2025-05-01 16:00:00', '2025-05-01 20:00:00',\n",
       "               '2025-05-02 00:00:00', '2025-05-02 04:00:00',\n",
       "               '2025-05-02 08:00:00', '2025-05-02 12:00:00',\n",
       "               '2025-05-02 16:00:00', '2025-05-02 20:00:00'],\n",
       "              dtype='datetime64[ns]', length=546, freq='4h')"
      ]
     },
     "execution_count": 97,
     "metadata": {},
     "output_type": "execute_result"
    }
   ],
   "source": [
    "pd.date_range(\"2025-02-01\",\n",
    "              \"2025-05-02 23:03:02\",\n",
    "              freq=\"4h\"\n",
    "             )"
   ]
  },
  {
   "cell_type": "code",
   "execution_count": 99,
   "id": "274d23d0-6c27-49b6-98ea-afa4a76072e4",
   "metadata": {},
   "outputs": [
    {
     "data": {
      "text/plain": [
       "DatetimeIndex(['2000-01-01 00:00:00', '2000-01-01 01:30:03',\n",
       "               '2000-01-01 03:00:06', '2000-01-01 04:30:09',\n",
       "               '2000-01-01 06:00:12', '2000-01-01 07:30:15',\n",
       "               '2000-01-01 09:00:18', '2000-01-01 10:30:21',\n",
       "               '2000-01-01 12:00:24', '2000-01-01 13:30:27'],\n",
       "              dtype='datetime64[ns]', freq='5403s')"
      ]
     },
     "execution_count": 99,
     "metadata": {},
     "output_type": "execute_result"
    }
   ],
   "source": [
    "pd.date_range(\n",
    "    \"2000-01-01\",\n",
    "    periods=10,\n",
    "    freq=\"1h30min3s\",\n",
    ")"
   ]
  },
  {
   "cell_type": "markdown",
   "id": "f92db462-b404-432d-a9fa-73ab00298c9a",
   "metadata": {},
   "source": [
    "<h5>Week of month</h5>"
   ]
  },
  {
   "cell_type": "code",
   "execution_count": 100,
   "id": "5fe68bc9-e617-46c2-a1f3-ac556925640d",
   "metadata": {},
   "outputs": [],
   "source": [
    "monthly_meetups = pd.date_range(\n",
    "    \"2024-06-01\",\n",
    "    \"2024-12-31\",\n",
    "    freq=\"WOM-3SAT\"\n",
    ")"
   ]
  },
  {
   "cell_type": "code",
   "execution_count": 101,
   "id": "31ea4639-db69-42c2-881e-bb338e0a6fff",
   "metadata": {},
   "outputs": [
    {
     "data": {
      "text/plain": [
       "DatetimeIndex(['2024-06-15', '2024-07-20', '2024-08-17', '2024-09-21',\n",
       "               '2024-10-19', '2024-11-16', '2024-12-21'],\n",
       "              dtype='datetime64[ns]', freq='WOM-3SAT')"
      ]
     },
     "execution_count": 101,
     "metadata": {},
     "output_type": "execute_result"
    }
   ],
   "source": [
    "monthly_meetups"
   ]
  },
  {
   "cell_type": "code",
   "execution_count": null,
   "id": "cebe738f-f331-46f6-ad84-667a0c7b0adb",
   "metadata": {},
   "outputs": [],
   "source": []
  }
 ],
 "metadata": {
  "kernelspec": {
   "display_name": "Python 3 (ipykernel)",
   "language": "python",
   "name": "python3"
  },
  "language_info": {
   "codemirror_mode": {
    "name": "ipython",
    "version": 3
   },
   "file_extension": ".py",
   "mimetype": "text/x-python",
   "name": "python",
   "nbconvert_exporter": "python",
   "pygments_lexer": "ipython3",
   "version": "3.12.3"
  }
 },
 "nbformat": 4,
 "nbformat_minor": 5
}
