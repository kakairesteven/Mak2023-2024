{
 "cells": [
  {
   "cell_type": "code",
   "execution_count": 76,
   "id": "bb02e8a0",
   "metadata": {},
   "outputs": [],
   "source": [
    "import numpy as np\n",
    "import tabula\n",
    "import pandas as pd"
   ]
  },
  {
   "cell_type": "code",
   "execution_count": 77,
   "id": "5510d5f3",
   "metadata": {},
   "outputs": [],
   "source": [
    "makData = pd.read_csv(\"../Data/Private.csv\", index_col=0)"
   ]
  },
  {
   "cell_type": "code",
   "execution_count": 78,
   "id": "0878592a",
   "metadata": {},
   "outputs": [
    {
     "data": {
      "text/html": [
       "<div>\n",
       "<style scoped>\n",
       "    .dataframe tbody tr th:only-of-type {\n",
       "        vertical-align: middle;\n",
       "    }\n",
       "\n",
       "    .dataframe tbody tr th {\n",
       "        vertical-align: top;\n",
       "    }\n",
       "\n",
       "    .dataframe thead th {\n",
       "        text-align: right;\n",
       "    }\n",
       "</style>\n",
       "<table border=\"1\" class=\"dataframe\">\n",
       "  <thead>\n",
       "    <tr style=\"text-align: right;\">\n",
       "      <th></th>\n",
       "      <th>INDEX NO</th>\n",
       "      <th>NAME</th>\n",
       "      <th>GENDER</th>\n",
       "      <th>UACE YEAR</th>\n",
       "      <th>CODE</th>\n",
       "      <th>DISTRICT</th>\n",
       "      <th>COURSE CODE</th>\n",
       "      <th>COURSE NAME</th>\n",
       "      <th>TOTAL WEIGHT</th>\n",
       "    </tr>\n",
       "    <tr>\n",
       "      <th>APPLICATION NO</th>\n",
       "      <th></th>\n",
       "      <th></th>\n",
       "      <th></th>\n",
       "      <th></th>\n",
       "      <th></th>\n",
       "      <th></th>\n",
       "      <th></th>\n",
       "      <th></th>\n",
       "      <th></th>\n",
       "    </tr>\n",
       "  </thead>\n",
       "  <tbody>\n",
       "    <tr>\n",
       "      <th>23APF412304454141015</th>\n",
       "      <td>U0391/673</td>\n",
       "      <td>LUKABWE DOUGLAS MARK</td>\n",
       "      <td>M</td>\n",
       "      <td>2022.0</td>\n",
       "      <td>42.0</td>\n",
       "      <td>MUKONO</td>\n",
       "      <td>ACC</td>\n",
       "      <td>BSC. Accounting (EVE)</td>\n",
       "      <td>42.2</td>\n",
       "    </tr>\n",
       "    <tr>\n",
       "      <th>23APF345674424112360</th>\n",
       "      <td>U1249/532</td>\n",
       "      <td>LULE ISAAC</td>\n",
       "      <td>M</td>\n",
       "      <td>2022.0</td>\n",
       "      <td>40.0</td>\n",
       "      <td>MPIGI</td>\n",
       "      <td>ACC</td>\n",
       "      <td>BSC. Accounting (EVE)</td>\n",
       "      <td>41.1</td>\n",
       "    </tr>\n",
       "    <tr>\n",
       "      <th>23APF1361730063122187</th>\n",
       "      <td>U0459/676</td>\n",
       "      <td>HAULAH SULAIT BIIRA</td>\n",
       "      <td>F</td>\n",
       "      <td>2022.0</td>\n",
       "      <td>21.0</td>\n",
       "      <td>KASESE</td>\n",
       "      <td>ACC</td>\n",
       "      <td>BSC. Accounting (EVE)</td>\n",
       "      <td>40.6</td>\n",
       "    </tr>\n",
       "    <tr>\n",
       "      <th>23APF519647933132646</th>\n",
       "      <td>U1611/887</td>\n",
       "      <td>NAMBALYE EVELYNE</td>\n",
       "      <td>F</td>\n",
       "      <td>2022.0</td>\n",
       "      <td>33.0</td>\n",
       "      <td>MASAKA</td>\n",
       "      <td>ACC</td>\n",
       "      <td>BSC. Accounting (EVE)</td>\n",
       "      <td>38.8</td>\n",
       "    </tr>\n",
       "    <tr>\n",
       "      <th>23APF1481620160129238</th>\n",
       "      <td>U0083/555</td>\n",
       "      <td>KEMIGISHA RUSIA</td>\n",
       "      <td>F</td>\n",
       "      <td>2022.0</td>\n",
       "      <td>65.0</td>\n",
       "      <td>IBANDA</td>\n",
       "      <td>ACC</td>\n",
       "      <td>BSC. Accounting (EVE)</td>\n",
       "      <td>38.4</td>\n",
       "    </tr>\n",
       "    <tr>\n",
       "      <th>...</th>\n",
       "      <td>...</td>\n",
       "      <td>...</td>\n",
       "      <td>...</td>\n",
       "      <td>...</td>\n",
       "      <td>...</td>\n",
       "      <td>...</td>\n",
       "      <td>...</td>\n",
       "      <td>...</td>\n",
       "      <td>...</td>\n",
       "    </tr>\n",
       "    <tr>\n",
       "      <th>23APF727648568141557</th>\n",
       "      <td>U0017/548</td>\n",
       "      <td>KIZZA VANESSA ITRONCE</td>\n",
       "      <td>F</td>\n",
       "      <td>2022.0</td>\n",
       "      <td>17.0</td>\n",
       "      <td>KAMULI</td>\n",
       "      <td>VET</td>\n",
       "      <td>B. Veterinary Medicine</td>\n",
       "      <td>41.8</td>\n",
       "    </tr>\n",
       "    <tr>\n",
       "      <th>23APF963075058135059</th>\n",
       "      <td>U0033/581</td>\n",
       "      <td>OTIM DANIEL</td>\n",
       "      <td>M</td>\n",
       "      <td>2022.0</td>\n",
       "      <td>31.0</td>\n",
       "      <td>LIRA</td>\n",
       "      <td>VET</td>\n",
       "      <td>B. Veterinary Medicine</td>\n",
       "      <td>41.7</td>\n",
       "    </tr>\n",
       "    <tr>\n",
       "      <th>23APF1618205309130850</th>\n",
       "      <td>U0077/736</td>\n",
       "      <td>MUKETI  JOVIA</td>\n",
       "      <td>F</td>\n",
       "      <td>2022.0</td>\n",
       "      <td>74.0</td>\n",
       "      <td>MARACHA</td>\n",
       "      <td>VET</td>\n",
       "      <td>B. Veterinary Medicine</td>\n",
       "      <td>41.6</td>\n",
       "    </tr>\n",
       "    <tr>\n",
       "      <th>23APF575513287117711</th>\n",
       "      <td>U0077/564</td>\n",
       "      <td>AWOR REBECCA</td>\n",
       "      <td>F</td>\n",
       "      <td>2022.0</td>\n",
       "      <td>31.0</td>\n",
       "      <td>LIRA</td>\n",
       "      <td>VET</td>\n",
       "      <td>B. Veterinary Medicine</td>\n",
       "      <td>40.4</td>\n",
       "    </tr>\n",
       "    <tr>\n",
       "      <th>23APF1477867021106233</th>\n",
       "      <td>U0017/606</td>\n",
       "      <td>SAGATI LETICIA OKURUT</td>\n",
       "      <td>F</td>\n",
       "      <td>2022.0</td>\n",
       "      <td>48.0</td>\n",
       "      <td>PALLISA</td>\n",
       "      <td>VET</td>\n",
       "      <td>B. Veterinary Medicine</td>\n",
       "      <td>40.1</td>\n",
       "    </tr>\n",
       "  </tbody>\n",
       "</table>\n",
       "<p>14915 rows × 9 columns</p>\n",
       "</div>"
      ],
      "text/plain": [
       "                        INDEX NO                   NAME GENDER  UACE YEAR  \\\n",
       "APPLICATION NO                                                              \n",
       "23APF412304454141015   U0391/673   LUKABWE DOUGLAS MARK      M     2022.0   \n",
       "23APF345674424112360   U1249/532             LULE ISAAC      M     2022.0   \n",
       "23APF1361730063122187  U0459/676    HAULAH SULAIT BIIRA      F     2022.0   \n",
       "23APF519647933132646   U1611/887       NAMBALYE EVELYNE      F     2022.0   \n",
       "23APF1481620160129238  U0083/555        KEMIGISHA RUSIA      F     2022.0   \n",
       "...                          ...                    ...    ...        ...   \n",
       "23APF727648568141557   U0017/548  KIZZA VANESSA ITRONCE      F     2022.0   \n",
       "23APF963075058135059   U0033/581            OTIM DANIEL      M     2022.0   \n",
       "23APF1618205309130850  U0077/736          MUKETI  JOVIA      F     2022.0   \n",
       "23APF575513287117711   U0077/564           AWOR REBECCA      F     2022.0   \n",
       "23APF1477867021106233  U0017/606  SAGATI LETICIA OKURUT      F     2022.0   \n",
       "\n",
       "                       CODE DISTRICT COURSE CODE             COURSE NAME  \\\n",
       "APPLICATION NO                                                             \n",
       "23APF412304454141015   42.0   MUKONO         ACC   BSC. Accounting (EVE)   \n",
       "23APF345674424112360   40.0    MPIGI         ACC   BSC. Accounting (EVE)   \n",
       "23APF1361730063122187  21.0   KASESE         ACC   BSC. Accounting (EVE)   \n",
       "23APF519647933132646   33.0   MASAKA         ACC   BSC. Accounting (EVE)   \n",
       "23APF1481620160129238  65.0   IBANDA         ACC   BSC. Accounting (EVE)   \n",
       "...                     ...      ...         ...                     ...   \n",
       "23APF727648568141557   17.0   KAMULI         VET  B. Veterinary Medicine   \n",
       "23APF963075058135059   31.0     LIRA         VET  B. Veterinary Medicine   \n",
       "23APF1618205309130850  74.0  MARACHA         VET  B. Veterinary Medicine   \n",
       "23APF575513287117711   31.0     LIRA         VET  B. Veterinary Medicine   \n",
       "23APF1477867021106233  48.0  PALLISA         VET  B. Veterinary Medicine   \n",
       "\n",
       "                       TOTAL WEIGHT  \n",
       "APPLICATION NO                       \n",
       "23APF412304454141015           42.2  \n",
       "23APF345674424112360           41.1  \n",
       "23APF1361730063122187          40.6  \n",
       "23APF519647933132646           38.8  \n",
       "23APF1481620160129238          38.4  \n",
       "...                             ...  \n",
       "23APF727648568141557           41.8  \n",
       "23APF963075058135059           41.7  \n",
       "23APF1618205309130850          41.6  \n",
       "23APF575513287117711           40.4  \n",
       "23APF1477867021106233          40.1  \n",
       "\n",
       "[14915 rows x 9 columns]"
      ]
     },
     "execution_count": 78,
     "metadata": {},
     "output_type": "execute_result"
    }
   ],
   "source": [
    "makData"
   ]
  },
  {
   "cell_type": "code",
   "execution_count": 79,
   "id": "4cbd747f",
   "metadata": {},
   "outputs": [],
   "source": [
    "makData = makData.astype({\"TOTAL WEIGHT\": 'float', \"INDEX NO\": \"string\"})"
   ]
  },
  {
   "cell_type": "code",
   "execution_count": 80,
   "id": "8e67719f",
   "metadata": {},
   "outputs": [],
   "source": [
    "# Save df\n",
    "makData.to_csv(\"../Data/Private.csv\")"
   ]
  },
  {
   "cell_type": "code",
   "execution_count": 81,
   "id": "d5e83727",
   "metadata": {},
   "outputs": [
    {
     "data": {
      "text/plain": [
       "DISTRICT  UACE YEAR  GENDER\n",
       "ABIM      2017.0     M          1\n",
       "          2018.0     F          1\n",
       "          2019.0     F          1\n",
       "                     M          1\n",
       "          2020.0     M          1\n",
       "          2022.0     F         11\n",
       "                     M         10\n",
       "ADJUMANI  2010.0     M          1\n",
       "          2019.0     F          1\n",
       "          2020.0     F          2\n",
       "                     M          1\n",
       "          2022.0     F         35\n",
       "                     M         36\n",
       "AGAGO     2009.0     M          1\n",
       "          2011.0     M          1\n",
       "          2020.0     M          3\n",
       "          2022.0     F         15\n",
       "                     M         18\n",
       "ALEBTONG  2006.0     M          1\n",
       "          2018.0     M          1\n",
       "          2019.0     F          1\n",
       "          2022.0     F          9\n",
       "                     M         14\n",
       "AMOLATAR  2022.0     F          4\n",
       "                     M          6\n",
       "AMUDAT    2022.0     M          2\n",
       "AMURIA    2016.0     M          1\n",
       "          2019.0     F          1\n",
       "          2020.0     F          2\n",
       "                     M          1\n",
       "          2022.0     F         19\n",
       "                     M         20\n",
       "AMURU     2018.0     F          1\n",
       "          2019.0     M          1\n",
       "          2022.0     F          5\n",
       "                     M         13\n",
       "APAC      2007.0     M          1\n",
       "          2012.0     M          1\n",
       "          2017.0     M          3\n",
       "          2020.0     F          1\n",
       "          2022.0     F         29\n",
       "                     M         21\n",
       "ARUA      1999.0     F          1\n",
       "          2004.0     M          1\n",
       "          2008.0     M          1\n",
       "          2011.0     F          1\n",
       "          2013.0     M          2\n",
       "          2016.0     M          3\n",
       "          2017.0     F          1\n",
       "                     M          1\n",
       "Name: INDEX NO, dtype: int64"
      ]
     },
     "execution_count": 81,
     "metadata": {},
     "output_type": "execute_result"
    }
   ],
   "source": [
    "# Return admissions by ditrict and year of entry.\n",
    "makData.groupby(['DISTRICT', 'UACE YEAR', 'GENDER'],\n",
    "                sort=True,\n",
    "#               axis=\"columns\"\n",
    "                           )['INDEX NO'].count().head(50)"
   ]
  },
  {
   "cell_type": "code",
   "execution_count": 82,
   "id": "07fd43ce",
   "metadata": {},
   "outputs": [],
   "source": [
    "# \n",
    "regions = {\"Eastern\": ['Amuria', 'Budaka', 'Bududa', 'Bugiri', 'Bukedea', 'Bukwa', 'Bulambuli',\n",
    "                      'Busia', 'Butalega', 'Buyende', 'Iganga', 'Jinja', 'Kaberamaido', 'Kamuli', 'Kaliro',\n",
    "                      'Kapchorwa', 'Katakwi', 'Kibuku', 'Kumi', 'Kween', 'Luuka', 'Manafwa',\n",
    "                       'Mayuge', 'Mbale', 'Namayingo', 'Namutumba', 'Ngora', 'Pallisa', 'Serere',\n",
    "                      'Sironko', 'Soroti', 'Tororo'],\n",
    "          'Central': ['Buikwe', 'Bukomansimbi', 'Butambala', 'Buvuma', 'Gomba', 'Kalangala', 'Kalungu',\n",
    "                     'Kampala', 'Kayunga', 'Kiboga', 'Kyankwazi', 'Luwero', 'Lwengo', 'Lyantonde',\n",
    "                     'Masaka', 'Mityana', 'Mpigi', 'Mubende', 'Mukono', 'Nakaseke', 'Nakasongola',\n",
    "                     'Rakai', 'Sembabule', 'Wakiso'],\n",
    "          'Northern': ['Abim', 'Adjumani', 'Agago', 'Alebtong', 'Amolator', 'Amudat', 'Amuru', 'Apac',\n",
    "                      'Arua', 'Dokolo', 'Gulu', 'Kaabong', 'Kitgum', 'Koboko', 'Kole', 'Kotido', \n",
    "                      'Lamwo', 'Lira', 'Maracha', 'Moroto', 'Moyo', 'Nakapiripiriti', 'Napak', 'Nebbi',\n",
    "                      'Nwoya', 'Otuke', 'Oyam', 'Pader', 'Yumbe', 'Zombe'],\n",
    "          'Western': ['Buhweju', 'Bulisa', 'Bundibugyo', 'Bushenyi', 'Hoima', 'Ibanda', 'Isingiro',\n",
    "                     'Kabale', 'Kabarole', 'Kamwenge', 'Kanungu', 'Kasese', 'Kibaale', 'kiruhura', 'Kiryandongo',\n",
    "                     'Kisoro', 'Kyengegwa', 'Masindi', 'Mbarara', 'Mitooma', 'Ntoroko', 'Ntungamo', 'Ribirizi',\n",
    "                     'Rukungiri', 'Sheema']}\n",
    "for key, value in regions.items():\n",
    "    for i in range(len(value)):\n",
    "        value[i] = value[i].upper()"
   ]
  },
  {
   "cell_type": "code",
   "execution_count": 83,
   "id": "05260ee9",
   "metadata": {},
   "outputs": [
    {
     "data": {
      "text/plain": [
       "{'Eastern': ['AMURIA',\n",
       "  'BUDAKA',\n",
       "  'BUDUDA',\n",
       "  'BUGIRI',\n",
       "  'BUKEDEA',\n",
       "  'BUKWA',\n",
       "  'BULAMBULI',\n",
       "  'BUSIA',\n",
       "  'BUTALEGA',\n",
       "  'BUYENDE',\n",
       "  'IGANGA',\n",
       "  'JINJA',\n",
       "  'KABERAMAIDO',\n",
       "  'KAMULI',\n",
       "  'KALIRO',\n",
       "  'KAPCHORWA',\n",
       "  'KATAKWI',\n",
       "  'KIBUKU',\n",
       "  'KUMI',\n",
       "  'KWEEN',\n",
       "  'LUUKA',\n",
       "  'MANAFWA',\n",
       "  'MAYUGE',\n",
       "  'MBALE',\n",
       "  'NAMAYINGO',\n",
       "  'NAMUTUMBA',\n",
       "  'NGORA',\n",
       "  'PALLISA',\n",
       "  'SERERE',\n",
       "  'SIRONKO',\n",
       "  'SOROTI',\n",
       "  'TORORO'],\n",
       " 'Central': ['BUIKWE',\n",
       "  'BUKOMANSIMBI',\n",
       "  'BUTAMBALA',\n",
       "  'BUVUMA',\n",
       "  'GOMBA',\n",
       "  'KALANGALA',\n",
       "  'KALUNGU',\n",
       "  'KAMPALA',\n",
       "  'KAYUNGA',\n",
       "  'KIBOGA',\n",
       "  'KYANKWAZI',\n",
       "  'LUWERO',\n",
       "  'LWENGO',\n",
       "  'LYANTONDE',\n",
       "  'MASAKA',\n",
       "  'MITYANA',\n",
       "  'MPIGI',\n",
       "  'MUBENDE',\n",
       "  'MUKONO',\n",
       "  'NAKASEKE',\n",
       "  'NAKASONGOLA',\n",
       "  'RAKAI',\n",
       "  'SEMBABULE',\n",
       "  'WAKISO'],\n",
       " 'Northern': ['ABIM',\n",
       "  'ADJUMANI',\n",
       "  'AGAGO',\n",
       "  'ALEBTONG',\n",
       "  'AMOLATOR',\n",
       "  'AMUDAT',\n",
       "  'AMURU',\n",
       "  'APAC',\n",
       "  'ARUA',\n",
       "  'DOKOLO',\n",
       "  'GULU',\n",
       "  'KAABONG',\n",
       "  'KITGUM',\n",
       "  'KOBOKO',\n",
       "  'KOLE',\n",
       "  'KOTIDO',\n",
       "  'LAMWO',\n",
       "  'LIRA',\n",
       "  'MARACHA',\n",
       "  'MOROTO',\n",
       "  'MOYO',\n",
       "  'NAKAPIRIPIRITI',\n",
       "  'NAPAK',\n",
       "  'NEBBI',\n",
       "  'NWOYA',\n",
       "  'OTUKE',\n",
       "  'OYAM',\n",
       "  'PADER',\n",
       "  'YUMBE',\n",
       "  'ZOMBE'],\n",
       " 'Western': ['BUHWEJU',\n",
       "  'BULISA',\n",
       "  'BUNDIBUGYO',\n",
       "  'BUSHENYI',\n",
       "  'HOIMA',\n",
       "  'IBANDA',\n",
       "  'ISINGIRO',\n",
       "  'KABALE',\n",
       "  'KABAROLE',\n",
       "  'KAMWENGE',\n",
       "  'KANUNGU',\n",
       "  'KASESE',\n",
       "  'KIBAALE',\n",
       "  'KIRUHURA',\n",
       "  'KIRYANDONGO',\n",
       "  'KISORO',\n",
       "  'KYENGEGWA',\n",
       "  'MASINDI',\n",
       "  'MBARARA',\n",
       "  'MITOOMA',\n",
       "  'NTOROKO',\n",
       "  'NTUNGAMO',\n",
       "  'RIBIRIZI',\n",
       "  'RUKUNGIRI',\n",
       "  'SHEEMA']}"
      ]
     },
     "execution_count": 83,
     "metadata": {},
     "output_type": "execute_result"
    }
   ],
   "source": [
    "regions"
   ]
  },
  {
   "cell_type": "code",
   "execution_count": 124,
   "id": "6c91be1e",
   "metadata": {},
   "outputs": [
    {
     "data": {
      "text/plain": [
       "DISTRICT\n",
       "ABIM              26\n",
       "ADJUMANI          76\n",
       "AGAGO             38\n",
       "ALEBTONG          26\n",
       "AMOLATAR          10\n",
       "AMUDAT             2\n",
       "AMURIA            44\n",
       "AMURU             20\n",
       "APAC              56\n",
       "ARUA             172\n",
       "BUDAKA            60\n",
       "BUDUDA            36\n",
       "BUGIRI            92\n",
       "BUHWEJU           32\n",
       "BUIKWE           216\n",
       "BUKEDEA           72\n",
       "BUKOMANSIMBI      74\n",
       "BUKWO             20\n",
       "BULAMBULI         28\n",
       "BULIISA           22\n",
       "BUNDIBUGYO        22\n",
       "BUNYANGABU        36\n",
       "BUSHENYI         331\n",
       "BUSIA            216\n",
       "BUTALEJA          68\n",
       "BUTAMBALA        111\n",
       "BUTEBO            10\n",
       "BUVUMA             2\n",
       "BUYENDE           24\n",
       "DOKOLO            24\n",
       "GOMBA             92\n",
       "GULU             170\n",
       "HOIMA            236\n",
       "IBANDA           213\n",
       "IGANGA           213\n",
       "ISINGIRO         191\n",
       "JINJA            299\n",
       "KAABONG           12\n",
       "KABALE           243\n",
       "KABAROLE         225\n",
       "KABERAMAIDO       48\n",
       "KAGADI            46\n",
       "KAKUMIRO          35\n",
       "KALANGALA          8\n",
       "KALIRO            41\n",
       "KALUNGU           63\n",
       "KAMPALA         1059\n",
       "KAMULI           176\n",
       "KAMWENGE          92\n",
       "KANUNGU          121\n",
       "Name: INDEX NO, dtype: int64"
      ]
     },
     "execution_count": 124,
     "metadata": {},
     "output_type": "execute_result"
    }
   ],
   "source": [
    "makData.groupby(['DISTRICT', \n",
    "                 # 'UACE YEAR', \n",
    "                 # 'GENDER',\n",
    "                ],\n",
    "                sort=True,\n",
    "#               axis=\"columns\"\n",
    "                           )['INDEX NO'].count().head(50)"
   ]
  },
  {
   "cell_type": "code",
   "execution_count": 85,
   "id": "f2976875",
   "metadata": {},
   "outputs": [],
   "source": [
    "lst = [1, 2, 3, 1, 2, 3]\n",
    "s = pd.Series([1, 2, 3, 10, 20, 30], lst)\n",
    "grouped = s.groupby(level=0)"
   ]
  },
  {
   "cell_type": "code",
   "execution_count": 86,
   "id": "7e4fbc08",
   "metadata": {},
   "outputs": [
    {
     "data": {
      "text/plain": [
       "1    1\n",
       "2    2\n",
       "3    3\n",
       "dtype: int64"
      ]
     },
     "execution_count": 86,
     "metadata": {},
     "output_type": "execute_result"
    }
   ],
   "source": [
    "grouped.first()"
   ]
  },
  {
   "cell_type": "code",
   "execution_count": 87,
   "id": "81773364",
   "metadata": {},
   "outputs": [
    {
     "data": {
      "text/plain": [
       "DISTRICT  UACE YEAR  GENDER\n",
       "ABIM      2017.0     M         U0660/516\n",
       "          2018.0     F         U2924/502\n",
       "          2019.0     F         U0018/766\n",
       "                     M         U1244/619\n",
       "          2020.0     M         U1698/541\n",
       "                                 ...    \n",
       "ZOMBO     2014.0     M         U0109/659\n",
       "          2016.0     M         U1443/521\n",
       "          2020.0     M         U1609/771\n",
       "          2022.0     F         U1207/572\n",
       "                     M         U1224/688\n",
       "Name: INDEX NO, Length: 917, dtype: string"
      ]
     },
     "execution_count": 87,
     "metadata": {},
     "output_type": "execute_result"
    }
   ],
   "source": [
    "# Sorting process consumes processor resources, for potential speedup, \n",
    "# the sorting option can be disabled.\n",
    "makData.groupby(['DISTRICT', 'UACE YEAR', 'GENDER'],\n",
    "                sort=True,\n",
    "#               axis=\"columns\"\n",
    "#                 as_index=False\n",
    "                           )['INDEX NO'].last()"
   ]
  },
  {
   "cell_type": "code",
   "execution_count": 88,
   "id": "7b5507f5",
   "metadata": {},
   "outputs": [
    {
     "data": {
      "text/html": [
       "<div>\n",
       "<style scoped>\n",
       "    .dataframe tbody tr th:only-of-type {\n",
       "        vertical-align: middle;\n",
       "    }\n",
       "\n",
       "    .dataframe tbody tr th {\n",
       "        vertical-align: top;\n",
       "    }\n",
       "\n",
       "    .dataframe thead th {\n",
       "        text-align: right;\n",
       "    }\n",
       "</style>\n",
       "<table border=\"1\" class=\"dataframe\">\n",
       "  <thead>\n",
       "    <tr style=\"text-align: right;\">\n",
       "      <th></th>\n",
       "      <th>INDEX NO</th>\n",
       "      <th>NAME</th>\n",
       "      <th>GENDER</th>\n",
       "      <th>UACE YEAR</th>\n",
       "      <th>CODE</th>\n",
       "      <th>DISTRICT</th>\n",
       "      <th>COURSE CODE</th>\n",
       "      <th>COURSE NAME</th>\n",
       "      <th>TOTAL WEIGHT</th>\n",
       "    </tr>\n",
       "    <tr>\n",
       "      <th>APPLICATION NO</th>\n",
       "      <th></th>\n",
       "      <th></th>\n",
       "      <th></th>\n",
       "      <th></th>\n",
       "      <th></th>\n",
       "      <th></th>\n",
       "      <th></th>\n",
       "      <th></th>\n",
       "      <th></th>\n",
       "    </tr>\n",
       "  </thead>\n",
       "  <tbody>\n",
       "    <tr>\n",
       "      <th>23APF980625096133316</th>\n",
       "      <td>U0737/531</td>\n",
       "      <td>MUDOBYA CHRISTINE</td>\n",
       "      <td>F</td>\n",
       "      <td>2007.0</td>\n",
       "      <td>10.0</td>\n",
       "      <td>IGANGA</td>\n",
       "      <td>ACC</td>\n",
       "      <td>BSC. Accounting (EVE)</td>\n",
       "      <td>34.6</td>\n",
       "    </tr>\n",
       "    <tr>\n",
       "      <th>23APF271115874132692</th>\n",
       "      <td>U1879/641</td>\n",
       "      <td>NAKIYEMBA PHIONA</td>\n",
       "      <td>F</td>\n",
       "      <td>2022.0</td>\n",
       "      <td>10.0</td>\n",
       "      <td>IGANGA</td>\n",
       "      <td>ACC</td>\n",
       "      <td>BSC. Accounting (EVE)</td>\n",
       "      <td>30.3</td>\n",
       "    </tr>\n",
       "    <tr>\n",
       "      <th>23APF825010272123233</th>\n",
       "      <td>U0061/552</td>\n",
       "      <td>MUTESI SHADIA</td>\n",
       "      <td>F</td>\n",
       "      <td>2022.0</td>\n",
       "      <td>10.0</td>\n",
       "      <td>IGANGA</td>\n",
       "      <td>ACC</td>\n",
       "      <td>BSC. Accounting (EVE)</td>\n",
       "      <td>28.6</td>\n",
       "    </tr>\n",
       "    <tr>\n",
       "      <th>23APF1502921010146109</th>\n",
       "      <td>U1525/532</td>\n",
       "      <td>KASADHA NATHAN</td>\n",
       "      <td>M</td>\n",
       "      <td>2022.0</td>\n",
       "      <td>10.0</td>\n",
       "      <td>IGANGA</td>\n",
       "      <td>ACC</td>\n",
       "      <td>BSC. Accounting (EVE)</td>\n",
       "      <td>25.0</td>\n",
       "    </tr>\n",
       "    <tr>\n",
       "      <th>23APF6816076136686</th>\n",
       "      <td>U0812/509</td>\n",
       "      <td>KASADHA AUSI</td>\n",
       "      <td>M</td>\n",
       "      <td>2022.0</td>\n",
       "      <td>10.0</td>\n",
       "      <td>IGANGA</td>\n",
       "      <td>ACC</td>\n",
       "      <td>BSC. Accounting (EVE)</td>\n",
       "      <td>19.9</td>\n",
       "    </tr>\n",
       "    <tr>\n",
       "      <th>...</th>\n",
       "      <td>...</td>\n",
       "      <td>...</td>\n",
       "      <td>...</td>\n",
       "      <td>...</td>\n",
       "      <td>...</td>\n",
       "      <td>...</td>\n",
       "      <td>...</td>\n",
       "      <td>...</td>\n",
       "      <td>...</td>\n",
       "    </tr>\n",
       "    <tr>\n",
       "      <th>23APF767968007139054</th>\n",
       "      <td>U0110/554</td>\n",
       "      <td>ASHA ISMAEL KANTONO</td>\n",
       "      <td>F</td>\n",
       "      <td>2022.0</td>\n",
       "      <td>10.0</td>\n",
       "      <td>IGANGA</td>\n",
       "      <td>TLM</td>\n",
       "      <td>B.Transport and Logistics Management (EVE)</td>\n",
       "      <td>19.8</td>\n",
       "    </tr>\n",
       "    <tr>\n",
       "      <th>23APF457993029146229</th>\n",
       "      <td>U0806/555</td>\n",
       "      <td>WATEMA ANDREW CHRISTIAN</td>\n",
       "      <td>M</td>\n",
       "      <td>2022.0</td>\n",
       "      <td>10.0</td>\n",
       "      <td>IGANGA</td>\n",
       "      <td>TTM</td>\n",
       "      <td>B.Travel and Tourism Management (EVE)</td>\n",
       "      <td>25.4</td>\n",
       "    </tr>\n",
       "    <tr>\n",
       "      <th>23APF1019156265113557</th>\n",
       "      <td>U0966/517</td>\n",
       "      <td>NAKKU PROSSY</td>\n",
       "      <td>F</td>\n",
       "      <td>2022.0</td>\n",
       "      <td>10.0</td>\n",
       "      <td>IGANGA</td>\n",
       "      <td>TTM</td>\n",
       "      <td>B.Travel and Tourism Management (EVE)</td>\n",
       "      <td>21.8</td>\n",
       "    </tr>\n",
       "    <tr>\n",
       "      <th>23APF1402882860117439</th>\n",
       "      <td>U1879/877</td>\n",
       "      <td>DHIRIVAAWA PERCY</td>\n",
       "      <td>M</td>\n",
       "      <td>2022.0</td>\n",
       "      <td>10.0</td>\n",
       "      <td>IGANGA</td>\n",
       "      <td>TTM</td>\n",
       "      <td>B.Travel and Tourism Management (EVE)</td>\n",
       "      <td>19.4</td>\n",
       "    </tr>\n",
       "    <tr>\n",
       "      <th>23APF685182203149363</th>\n",
       "      <td>U0017/525</td>\n",
       "      <td>BABIRYE STELLA KIRABO</td>\n",
       "      <td>F</td>\n",
       "      <td>2022.0</td>\n",
       "      <td>10.0</td>\n",
       "      <td>IGANGA</td>\n",
       "      <td>VET</td>\n",
       "      <td>B. Veterinary Medicine</td>\n",
       "      <td>41.9</td>\n",
       "    </tr>\n",
       "  </tbody>\n",
       "</table>\n",
       "<p>213 rows × 9 columns</p>\n",
       "</div>"
      ],
      "text/plain": [
       "                        INDEX NO                     NAME GENDER  UACE YEAR  \\\n",
       "APPLICATION NO                                                                \n",
       "23APF980625096133316   U0737/531        MUDOBYA CHRISTINE      F     2007.0   \n",
       "23APF271115874132692   U1879/641         NAKIYEMBA PHIONA      F     2022.0   \n",
       "23APF825010272123233   U0061/552            MUTESI SHADIA      F     2022.0   \n",
       "23APF1502921010146109  U1525/532           KASADHA NATHAN      M     2022.0   \n",
       "23APF6816076136686     U0812/509             KASADHA AUSI      M     2022.0   \n",
       "...                          ...                      ...    ...        ...   \n",
       "23APF767968007139054   U0110/554      ASHA ISMAEL KANTONO      F     2022.0   \n",
       "23APF457993029146229   U0806/555  WATEMA ANDREW CHRISTIAN      M     2022.0   \n",
       "23APF1019156265113557  U0966/517             NAKKU PROSSY      F     2022.0   \n",
       "23APF1402882860117439  U1879/877         DHIRIVAAWA PERCY      M     2022.0   \n",
       "23APF685182203149363   U0017/525    BABIRYE STELLA KIRABO      F     2022.0   \n",
       "\n",
       "                       CODE DISTRICT COURSE CODE  \\\n",
       "APPLICATION NO                                     \n",
       "23APF980625096133316   10.0   IGANGA         ACC   \n",
       "23APF271115874132692   10.0   IGANGA         ACC   \n",
       "23APF825010272123233   10.0   IGANGA         ACC   \n",
       "23APF1502921010146109  10.0   IGANGA         ACC   \n",
       "23APF6816076136686     10.0   IGANGA         ACC   \n",
       "...                     ...      ...         ...   \n",
       "23APF767968007139054   10.0   IGANGA         TLM   \n",
       "23APF457993029146229   10.0   IGANGA         TTM   \n",
       "23APF1019156265113557  10.0   IGANGA         TTM   \n",
       "23APF1402882860117439  10.0   IGANGA         TTM   \n",
       "23APF685182203149363   10.0   IGANGA         VET   \n",
       "\n",
       "                                                      COURSE NAME  \\\n",
       "APPLICATION NO                                                      \n",
       "23APF980625096133316                        BSC. Accounting (EVE)   \n",
       "23APF271115874132692                        BSC. Accounting (EVE)   \n",
       "23APF825010272123233                        BSC. Accounting (EVE)   \n",
       "23APF1502921010146109                       BSC. Accounting (EVE)   \n",
       "23APF6816076136686                          BSC. Accounting (EVE)   \n",
       "...                                                           ...   \n",
       "23APF767968007139054   B.Transport and Logistics Management (EVE)   \n",
       "23APF457993029146229        B.Travel and Tourism Management (EVE)   \n",
       "23APF1019156265113557       B.Travel and Tourism Management (EVE)   \n",
       "23APF1402882860117439       B.Travel and Tourism Management (EVE)   \n",
       "23APF685182203149363                       B. Veterinary Medicine   \n",
       "\n",
       "                       TOTAL WEIGHT  \n",
       "APPLICATION NO                       \n",
       "23APF980625096133316           34.6  \n",
       "23APF271115874132692           30.3  \n",
       "23APF825010272123233           28.6  \n",
       "23APF1502921010146109          25.0  \n",
       "23APF6816076136686             19.9  \n",
       "...                             ...  \n",
       "23APF767968007139054           19.8  \n",
       "23APF457993029146229           25.4  \n",
       "23APF1019156265113557          21.8  \n",
       "23APF1402882860117439          19.4  \n",
       "23APF685182203149363           41.9  \n",
       "\n",
       "[213 rows x 9 columns]"
      ]
     },
     "execution_count": 88,
     "metadata": {},
     "output_type": "execute_result"
    }
   ],
   "source": [
    "# Getting admitted Students from IGANGA district\n",
    "makData.groupby([\"DISTRICT\"]).get_group(('IGANGA', ))"
   ]
  },
  {
   "cell_type": "code",
   "execution_count": 89,
   "id": "1c0ea260",
   "metadata": {},
   "outputs": [
    {
     "data": {
      "text/plain": [
       "DISTRICT\n",
       "ABIM         5\n",
       "ADJUMANI     4\n",
       "AGAGO        4\n",
       "ALEBTONG     4\n",
       "AMOLATAR     1\n",
       "            ..\n",
       "SOROTI      11\n",
       "TORORO      13\n",
       "WAKISO      15\n",
       "YUMBE        2\n",
       "ZOMBO        4\n",
       "Name: UACE YEAR, Length: 123, dtype: int64"
      ]
     },
     "execution_count": 89,
     "metadata": {},
     "output_type": "execute_result"
    }
   ],
   "source": [
    "# This returns unique year counts for each district\n",
    "makData.groupby(\"DISTRICT\")['UACE YEAR'].nunique()"
   ]
  },
  {
   "cell_type": "code",
   "execution_count": 90,
   "id": "d380c077",
   "metadata": {},
   "outputs": [
    {
     "data": {
      "text/plain": [
       "DISTRICT  GENDER  UACE YEAR\n",
       "ABIM      F       2018.0        1\n",
       "                  2019.0        1\n",
       "                  2022.0       11\n",
       "          M       2017.0        1\n",
       "                  2019.0        1\n",
       "                               ..\n",
       "ZOMBO     F       2022.0       10\n",
       "          M       2014.0        1\n",
       "                  2016.0        1\n",
       "                  2020.0        1\n",
       "                  2022.0       15\n",
       "Name: UACE YEAR, Length: 917, dtype: int64"
      ]
     },
     "execution_count": 90,
     "metadata": {},
     "output_type": "execute_result"
    }
   ],
   "source": [
    "makData.groupby(['DISTRICT', 'GENDER', 'UACE YEAR']\n",
    "#                 ,as_index=False\n",
    "               )['UACE YEAR'].agg('count')"
   ]
  },
  {
   "cell_type": "code",
   "execution_count": 91,
   "id": "61f64a0c",
   "metadata": {},
   "outputs": [],
   "source": [
    "def get_school_indexNo(studentIndex):\n",
    "    return str(studentIndex)[:5]"
   ]
  },
  {
   "cell_type": "code",
   "execution_count": 92,
   "id": "038c468a",
   "metadata": {},
   "outputs": [],
   "source": [
    "# This adds a column named 'School Index' computed from student Index Number\n",
    "makData['SCHOOL INDEX'] = makData['INDEX NO'].apply(get_school_indexNo)"
   ]
  },
  {
   "cell_type": "code",
   "execution_count": 93,
   "id": "a10e62f2",
   "metadata": {},
   "outputs": [
    {
     "data": {
      "text/plain": [
       "DISTRICT  SCHOOL INDEX  UACE YEAR  GENDER\n",
       "YUMBE     U0459         2022.0     M         1\n",
       "          U0630         2022.0     F         1\n",
       "          U0857         2022.0     M         1\n",
       "          U0896         2022.0     F         1\n",
       "          U1072         2022.0     M         1\n",
       "          U1354         2022.0     F         1\n",
       "          U2596         2022.0     F         1\n",
       "          U2789         2022.0     F         1\n",
       "          U2924         2022.0     F         1\n",
       "ZOMBO     U0069         2022.0     M         1\n",
       "          U0085         2022.0     F         1\n",
       "          U0102         2022.0     M         1\n",
       "          U0109         2014.0     M         1\n",
       "          U0245         2022.0     F         1\n",
       "          U0818         2022.0     M         1\n",
       "          U0913         2022.0     F         1\n",
       "          U0922         2022.0     M         1\n",
       "          U1085         2022.0     F         1\n",
       "          U1104         2022.0     F         1\n",
       "                                   M         2\n",
       "          U1107         2022.0     F         1\n",
       "          U1141         2022.0     M         2\n",
       "          U1207         2022.0     F         1\n",
       "                                   M         1\n",
       "          U1224         2022.0     F         1\n",
       "                                   M         1\n",
       "          U1443         2016.0     M         1\n",
       "          U1609         2020.0     M         1\n",
       "          U1710         2022.0     F         1\n",
       "                                   M         1\n",
       "          U2032         2022.0     M         1\n",
       "          U2048         2022.0     F         1\n",
       "          U2663         2022.0     M         1\n",
       "          U2789         2022.0     M         1\n",
       "          U3191         2022.0     M         1\n",
       "Name: GENDER, dtype: int64"
      ]
     },
     "execution_count": 93,
     "metadata": {},
     "output_type": "execute_result"
    }
   ],
   "source": [
    "# Group by district, school Index, UACE year, Gender and return count for data\n",
    "makData.groupby(['DISTRICT', 'SCHOOL INDEX', 'UACE YEAR', 'GENDER'])['GENDER'].count().tail(35)"
   ]
  },
  {
   "cell_type": "code",
   "execution_count": 94,
   "id": "a6536d09",
   "metadata": {},
   "outputs": [],
   "source": [
    "# Regions\n",
    "def get_region(district):\n",
    "    for regions_names, districts in regions.items():\n",
    "        if district in regions[regions_names]:\n",
    "            return regions_names"
   ]
  },
  {
   "cell_type": "code",
   "execution_count": 95,
   "id": "a23f062e",
   "metadata": {},
   "outputs": [],
   "source": [
    "# Data table with regions\n",
    "makData['REGION'] = makData['DISTRICT'].apply(get_region)"
   ]
  },
  {
   "cell_type": "code",
   "execution_count": 96,
   "id": "a3f62d1a",
   "metadata": {},
   "outputs": [
    {
     "data": {
      "text/plain": [
       "REGION   DISTRICT  SCHOOL INDEX  GENDER\n",
       "Central  BUIKWE    U0005         F         1\n",
       "                   U0013         F         1\n",
       "                   U0017         F         1\n",
       "                   U0018         F         2\n",
       "                                 M         1\n",
       "                                          ..\n",
       "Western  SHEEMA    U3614         M         3\n",
       "                   U3740         F         1\n",
       "                   U3845         F         1\n",
       "                   U3886         F         1\n",
       "                                 M         1\n",
       "Name: NAME, Length: 8309, dtype: int64"
      ]
     },
     "execution_count": 96,
     "metadata": {},
     "output_type": "execute_result"
    }
   ],
   "source": [
    "makData.groupby(['REGION', 'DISTRICT', 'SCHOOL INDEX', 'GENDER'])['NAME'].count()"
   ]
  },
  {
   "cell_type": "code",
   "execution_count": 97,
   "id": "7d366d4a",
   "metadata": {},
   "outputs": [
    {
     "data": {
      "text/plain": [
       "[REGION\n",
       " Central     5584\n",
       " Eastern     2662\n",
       " Northern    1174\n",
       " Western     4250\n",
       " Name: DISTRICT, dtype: int64]"
      ]
     },
     "execution_count": 97,
     "metadata": {},
     "output_type": "execute_result"
    }
   ],
   "source": [
    "[makData.groupby('REGION')['DISTRICT'].count()]"
   ]
  },
  {
   "cell_type": "code",
   "execution_count": 98,
   "id": "feb86747",
   "metadata": {},
   "outputs": [],
   "source": [
    "# counts of admissions per region\n",
    "regionalAdmissions = makData.groupby('REGION')[\"GENDER\"].apply('count')"
   ]
  },
  {
   "cell_type": "code",
   "execution_count": 99,
   "id": "37d55309-b533-4f35-9773-878d51b395f0",
   "metadata": {},
   "outputs": [
    {
     "data": {
      "text/plain": [
       "REGION\n",
       "Central     5584\n",
       "Eastern     2662\n",
       "Northern    1174\n",
       "Western     4250\n",
       "Name: GENDER, dtype: int64"
      ]
     },
     "execution_count": 99,
     "metadata": {},
     "output_type": "execute_result"
    }
   ],
   "source": [
    "regionalAdmissions"
   ]
  },
  {
   "cell_type": "code",
   "execution_count": 100,
   "id": "2fda8872",
   "metadata": {},
   "outputs": [],
   "source": [
    "# data = list(regionalAdmissions.ndarray)"
   ]
  },
  {
   "cell_type": "code",
   "execution_count": 101,
   "id": "a85290b9",
   "metadata": {},
   "outputs": [],
   "source": [
    "# data"
   ]
  },
  {
   "cell_type": "code",
   "execution_count": 102,
   "id": "bcddae87",
   "metadata": {},
   "outputs": [],
   "source": [
    "regionalAdmissions = pd.DataFrame(data=regionalAdmissions,\n",
    "                                  # index=regionalAdmissions.index,\n",
    "                                 )"
   ]
  },
  {
   "cell_type": "code",
   "execution_count": 103,
   "id": "03708604",
   "metadata": {},
   "outputs": [
    {
     "data": {
      "text/html": [
       "<div>\n",
       "<style scoped>\n",
       "    .dataframe tbody tr th:only-of-type {\n",
       "        vertical-align: middle;\n",
       "    }\n",
       "\n",
       "    .dataframe tbody tr th {\n",
       "        vertical-align: top;\n",
       "    }\n",
       "\n",
       "    .dataframe thead th {\n",
       "        text-align: right;\n",
       "    }\n",
       "</style>\n",
       "<table border=\"1\" class=\"dataframe\">\n",
       "  <thead>\n",
       "    <tr style=\"text-align: right;\">\n",
       "      <th></th>\n",
       "      <th>GENDER</th>\n",
       "    </tr>\n",
       "    <tr>\n",
       "      <th>REGION</th>\n",
       "      <th></th>\n",
       "    </tr>\n",
       "  </thead>\n",
       "  <tbody>\n",
       "    <tr>\n",
       "      <th>Central</th>\n",
       "      <td>5584</td>\n",
       "    </tr>\n",
       "    <tr>\n",
       "      <th>Eastern</th>\n",
       "      <td>2662</td>\n",
       "    </tr>\n",
       "    <tr>\n",
       "      <th>Northern</th>\n",
       "      <td>1174</td>\n",
       "    </tr>\n",
       "    <tr>\n",
       "      <th>Western</th>\n",
       "      <td>4250</td>\n",
       "    </tr>\n",
       "  </tbody>\n",
       "</table>\n",
       "</div>"
      ],
      "text/plain": [
       "          GENDER\n",
       "REGION          \n",
       "Central     5584\n",
       "Eastern     2662\n",
       "Northern    1174\n",
       "Western     4250"
      ]
     },
     "execution_count": 103,
     "metadata": {},
     "output_type": "execute_result"
    }
   ],
   "source": [
    "regionalAdmissions"
   ]
  },
  {
   "cell_type": "code",
   "execution_count": 104,
   "id": "4afdfd84",
   "metadata": {},
   "outputs": [
    {
     "data": {
      "text/plain": [
       "<Axes: ylabel='REGION'>"
      ]
     },
     "execution_count": 104,
     "metadata": {},
     "output_type": "execute_result"
    },
    {
     "data": {
      "image/png": "[encoded data removed]",
      "text/plain": [
       "<Figure size 640x480 with 1 Axes>"
      ]
     },
     "metadata": {},
     "output_type": "display_data"
    }
   ],
   "source": [
    "# visualize admissions by region\n",
    "import seaborn as sns\n",
    "sns.barplot(regionalAdmissions,\n",
    "          y='REGION',\n",
    "           )"
   ]
  },
  {
   "cell_type": "code",
   "execution_count": 105,
   "id": "1691fefa",
   "metadata": {},
   "outputs": [
    {
     "data": {
      "text/plain": [
       "COURSE NAME\n",
       "B TRAVEL & TOURISM MGT, MBARARA (DAY)            27.387931\n",
       "B. AGRICULTURAL & RURAL INNOVATION (EXTERNAL)    23.211628\n",
       "B. Animal Produ.Techn Mgt                        29.420833\n",
       "B. BUSINESS ADMINISTRATION, MBALE (DAY)          23.806897\n",
       "B. BUSINESS COMPUTING, JINJA (DAY)               27.625926\n",
       "                                                   ...    \n",
       "Bachelor of Science with Education (Physical)    38.236232\n",
       "Bachelor of Statistics                           33.905426\n",
       "Bechelor of Industrial Art & Applied Design      38.403509\n",
       "Bechelor of Leisure, Events and Hotel Mgt        27.791964\n",
       "DIP.(Performing Arts)                            21.700000\n",
       "Name: TOTAL WEIGHT, Length: 151, dtype: float64"
      ]
     },
     "execution_count": 105,
     "metadata": {},
     "output_type": "execute_result"
    }
   ],
   "source": [
    "# mean weight per course\n",
    "makData.groupby(['COURSE NAME'])['TOTAL WEIGHT'].agg('mean')"
   ]
  },
  {
   "cell_type": "code",
   "execution_count": 106,
   "id": "1b3d670b",
   "metadata": {},
   "outputs": [],
   "source": [
    "grouped = makData.groupby(['REGION', 'DISTRICT'])['TOTAL WEIGHT']"
   ]
  },
  {
   "cell_type": "code",
   "execution_count": 107,
   "id": "25953e92",
   "metadata": {},
   "outputs": [
    {
     "name": "stdout",
     "output_type": "stream",
     "text": [
      "Central\n",
      "                        REGION DISTRICT SCHOOL INDEX GENDER\n",
      "APPLICATION NO                                             \n",
      "23APF412304454141015   Central   MUKONO        U0391      M\n",
      "23APF345674424112360   Central    MPIGI        U1249      M\n",
      "23APF519647933132646   Central   MASAKA        U1611      F\n",
      "23APF1501202078128326  Central   WAKISO        U2373      M\n",
      "23APF1139056282132364  Central   KIBOGA        U0856      F\n",
      "...                        ...      ...          ...    ...\n",
      "23APF1087150200123994  Central  KAMPALA        U2119      M\n",
      "23APF1019459175137320  Central   MUKONO        U1224      M\n",
      "23APF947574098101599   Central   BUIKWE        U0391      M\n",
      "23APF483949345129848   Central   BUIKWE        U2236      M\n",
      "23APF938389388149879   Central   KIBOGA        U1224      M\n",
      "\n",
      "[5584 rows x 4 columns]\n",
      "Eastern\n",
      "                        REGION DISTRICT SCHOOL INDEX GENDER\n",
      "APPLICATION NO                                             \n",
      "23APF231194390150185   Eastern   KAMULI        U0086      M\n",
      "23APF980625096133316   Eastern   IGANGA        U0737      F\n",
      "23APF1057280688118519  Eastern    JINJA        U0027      M\n",
      "23APF141959743797295   Eastern    JINJA        U1451      M\n",
      "23APF724414868141141   Eastern   BUDAKA        U3219      F\n",
      "...                        ...      ...          ...    ...\n",
      "23APF1162982546132367  Eastern   SOROTI        U1339      M\n",
      "23APF252772198131507   Eastern   KAMULI        U2791      F\n",
      "23APF685182203149363   Eastern   IGANGA        U0017      F\n",
      "23APF727648568141557   Eastern   KAMULI        U0017      F\n",
      "23APF1477867021106233  Eastern  PALLISA        U0017      F\n",
      "\n",
      "[2662 rows x 4 columns]\n",
      "Northern\n",
      "                         REGION DISTRICT SCHOOL INDEX GENDER\n",
      "APPLICATION NO                                              \n",
      "23APF282203962133811   Northern    NEBBI        U0030      M\n",
      "23APF231277757116755   Northern     LIRA        U0072      M\n",
      "23APF1343191663113795  Northern     MOYO        U0263      M\n",
      "23APF767357830115638   Northern   MOROTO        U0739      F\n",
      "23APF888325709106143   Northern     GULU        U2474      F\n",
      "...                         ...      ...          ...    ...\n",
      "23APF1498096283111835  Northern     LIRA        U3859      M\n",
      "23APF521164152139905   Northern     OYAM        U0053      F\n",
      "23APF963075058135059   Northern     LIRA        U0033      M\n",
      "23APF1618205309130850  Northern  MARACHA        U0077      F\n",
      "23APF575513287117711   Northern     LIRA        U0077      F\n",
      "\n",
      "[1174 rows x 4 columns]\n",
      "Western\n",
      "                        REGION   DISTRICT SCHOOL INDEX GENDER\n",
      "APPLICATION NO                                               \n",
      "23APF1361730063122187  Western     KASESE        U0459      F\n",
      "23APF1481620160129238  Western     IBANDA        U0083      F\n",
      "23APF1672224247102423  Western  RUKUNGIRI        U1224      M\n",
      "23APF1362423415106885  Western   KABAROLE        U0459      F\n",
      "23APF957749380107698   Western      HOIMA        U2381      M\n",
      "...                        ...        ...          ...    ...\n",
      "23APF1336930454146757  Western    MBARARA        U3108      F\n",
      "23APF1676248108141711  Western   ISINGIRO        U1828      M\n",
      "23APF35679080123129    Western   NTUNGAMO        U0157      F\n",
      "23APF717262298129715   Western  RUKUNGIRI        U1988      F\n",
      "23APF819248520133371   Western     IBANDA        U0033      M\n",
      "\n",
      "[4250 rows x 4 columns]\n"
     ]
    }
   ],
   "source": [
    "# iterating over groups\n",
    "for name, group in makData[[\n",
    "                            'REGION',\n",
    "                            'DISTRICT',\n",
    "                            'SCHOOL INDEX',\n",
    "                            'GENDER']].groupby('REGION'\n",
    "#                                                , as_index=False\n",
    "                                              ):\n",
    "    print(name)\n",
    "    print(group)"
   ]
  },
  {
   "cell_type": "code",
   "execution_count": 108,
   "id": "ff6272e7",
   "metadata": {},
   "outputs": [
    {
     "data": {
      "text/html": [
       "<div>\n",
       "<style scoped>\n",
       "    .dataframe tbody tr th:only-of-type {\n",
       "        vertical-align: middle;\n",
       "    }\n",
       "\n",
       "    .dataframe tbody tr th {\n",
       "        vertical-align: top;\n",
       "    }\n",
       "\n",
       "    .dataframe thead th {\n",
       "        text-align: right;\n",
       "    }\n",
       "</style>\n",
       "<table border=\"1\" class=\"dataframe\">\n",
       "  <thead>\n",
       "    <tr style=\"text-align: right;\">\n",
       "      <th></th>\n",
       "      <th></th>\n",
       "      <th>count</th>\n",
       "      <th>mean</th>\n",
       "      <th>std</th>\n",
       "      <th>min</th>\n",
       "      <th>25%</th>\n",
       "      <th>50%</th>\n",
       "      <th>75%</th>\n",
       "      <th>max</th>\n",
       "    </tr>\n",
       "    <tr>\n",
       "      <th>REGION</th>\n",
       "      <th>DISTRICT</th>\n",
       "      <th></th>\n",
       "      <th></th>\n",
       "      <th></th>\n",
       "      <th></th>\n",
       "      <th></th>\n",
       "      <th></th>\n",
       "      <th></th>\n",
       "      <th></th>\n",
       "    </tr>\n",
       "  </thead>\n",
       "  <tbody>\n",
       "    <tr>\n",
       "      <th rowspan=\"5\" valign=\"top\">Central</th>\n",
       "      <th>BUIKWE</th>\n",
       "      <td>216.0</td>\n",
       "      <td>31.236574</td>\n",
       "      <td>7.753385</td>\n",
       "      <td>8.9</td>\n",
       "      <td>26.375</td>\n",
       "      <td>31.95</td>\n",
       "      <td>36.900</td>\n",
       "      <td>46.0</td>\n",
       "    </tr>\n",
       "    <tr>\n",
       "      <th>BUKOMANSIMBI</th>\n",
       "      <td>74.0</td>\n",
       "      <td>32.862162</td>\n",
       "      <td>7.536917</td>\n",
       "      <td>17.3</td>\n",
       "      <td>27.775</td>\n",
       "      <td>33.50</td>\n",
       "      <td>38.225</td>\n",
       "      <td>51.9</td>\n",
       "    </tr>\n",
       "    <tr>\n",
       "      <th>BUTAMBALA</th>\n",
       "      <td>111.0</td>\n",
       "      <td>33.960360</td>\n",
       "      <td>7.747589</td>\n",
       "      <td>13.9</td>\n",
       "      <td>28.950</td>\n",
       "      <td>34.30</td>\n",
       "      <td>39.700</td>\n",
       "      <td>50.7</td>\n",
       "    </tr>\n",
       "    <tr>\n",
       "      <th>BUVUMA</th>\n",
       "      <td>2.0</td>\n",
       "      <td>38.600000</td>\n",
       "      <td>5.374012</td>\n",
       "      <td>34.8</td>\n",
       "      <td>36.700</td>\n",
       "      <td>38.60</td>\n",
       "      <td>40.500</td>\n",
       "      <td>42.4</td>\n",
       "    </tr>\n",
       "    <tr>\n",
       "      <th>GOMBA</th>\n",
       "      <td>92.0</td>\n",
       "      <td>29.761957</td>\n",
       "      <td>8.560192</td>\n",
       "      <td>15.9</td>\n",
       "      <td>23.375</td>\n",
       "      <td>27.20</td>\n",
       "      <td>35.725</td>\n",
       "      <td>51.6</td>\n",
       "    </tr>\n",
       "    <tr>\n",
       "      <th>...</th>\n",
       "      <th>...</th>\n",
       "      <td>...</td>\n",
       "      <td>...</td>\n",
       "      <td>...</td>\n",
       "      <td>...</td>\n",
       "      <td>...</td>\n",
       "      <td>...</td>\n",
       "      <td>...</td>\n",
       "      <td>...</td>\n",
       "    </tr>\n",
       "    <tr>\n",
       "      <th rowspan=\"5\" valign=\"top\">Western</th>\n",
       "      <th>MITOOMA</th>\n",
       "      <td>137.0</td>\n",
       "      <td>30.435036</td>\n",
       "      <td>7.500702</td>\n",
       "      <td>15.8</td>\n",
       "      <td>25.000</td>\n",
       "      <td>30.60</td>\n",
       "      <td>35.600</td>\n",
       "      <td>51.6</td>\n",
       "    </tr>\n",
       "    <tr>\n",
       "      <th>NTOROKO</th>\n",
       "      <td>7.0</td>\n",
       "      <td>30.700000</td>\n",
       "      <td>8.546344</td>\n",
       "      <td>19.7</td>\n",
       "      <td>24.100</td>\n",
       "      <td>31.60</td>\n",
       "      <td>37.300</td>\n",
       "      <td>40.8</td>\n",
       "    </tr>\n",
       "    <tr>\n",
       "      <th>NTUNGAMO</th>\n",
       "      <td>459.0</td>\n",
       "      <td>30.825272</td>\n",
       "      <td>7.635213</td>\n",
       "      <td>12.2</td>\n",
       "      <td>25.600</td>\n",
       "      <td>30.20</td>\n",
       "      <td>35.950</td>\n",
       "      <td>48.7</td>\n",
       "    </tr>\n",
       "    <tr>\n",
       "      <th>RUKUNGIRI</th>\n",
       "      <td>331.0</td>\n",
       "      <td>31.689124</td>\n",
       "      <td>7.565404</td>\n",
       "      <td>12.7</td>\n",
       "      <td>26.100</td>\n",
       "      <td>31.10</td>\n",
       "      <td>37.400</td>\n",
       "      <td>51.6</td>\n",
       "    </tr>\n",
       "    <tr>\n",
       "      <th>SHEEMA</th>\n",
       "      <td>219.0</td>\n",
       "      <td>30.492694</td>\n",
       "      <td>8.288067</td>\n",
       "      <td>12.9</td>\n",
       "      <td>24.100</td>\n",
       "      <td>29.80</td>\n",
       "      <td>36.600</td>\n",
       "      <td>49.0</td>\n",
       "    </tr>\n",
       "  </tbody>\n",
       "</table>\n",
       "<p>101 rows × 8 columns</p>\n",
       "</div>"
      ],
      "text/plain": [
       "                      count       mean       std   min     25%    50%     75%  \\\n",
       "REGION  DISTRICT                                                                \n",
       "Central BUIKWE        216.0  31.236574  7.753385   8.9  26.375  31.95  36.900   \n",
       "        BUKOMANSIMBI   74.0  32.862162  7.536917  17.3  27.775  33.50  38.225   \n",
       "        BUTAMBALA     111.0  33.960360  7.747589  13.9  28.950  34.30  39.700   \n",
       "        BUVUMA          2.0  38.600000  5.374012  34.8  36.700  38.60  40.500   \n",
       "        GOMBA          92.0  29.761957  8.560192  15.9  23.375  27.20  35.725   \n",
       "...                     ...        ...       ...   ...     ...    ...     ...   \n",
       "Western MITOOMA       137.0  30.435036  7.500702  15.8  25.000  30.60  35.600   \n",
       "        NTOROKO         7.0  30.700000  8.546344  19.7  24.100  31.60  37.300   \n",
       "        NTUNGAMO      459.0  30.825272  7.635213  12.2  25.600  30.20  35.950   \n",
       "        RUKUNGIRI     331.0  31.689124  7.565404  12.7  26.100  31.10  37.400   \n",
       "        SHEEMA        219.0  30.492694  8.288067  12.9  24.100  29.80  36.600   \n",
       "\n",
       "                       max  \n",
       "REGION  DISTRICT            \n",
       "Central BUIKWE        46.0  \n",
       "        BUKOMANSIMBI  51.9  \n",
       "        BUTAMBALA     50.7  \n",
       "        BUVUMA        42.4  \n",
       "        GOMBA         51.6  \n",
       "...                    ...  \n",
       "Western MITOOMA       51.6  \n",
       "        NTOROKO       40.8  \n",
       "        NTUNGAMO      48.7  \n",
       "        RUKUNGIRI     51.6  \n",
       "        SHEEMA        49.0  \n",
       "\n",
       "[101 rows x 8 columns]"
      ]
     },
     "execution_count": 108,
     "metadata": {},
     "output_type": "execute_result"
    }
   ],
   "source": [
    "grouped.describe()"
   ]
  },
  {
   "cell_type": "code",
   "execution_count": 109,
   "id": "7716b8af",
   "metadata": {},
   "outputs": [],
   "source": [
    "# Top 10 student with highest total weight\n",
    "def top(df, n=10, column='TOTAL WEIGHT'):\n",
    "    return df.sort_values(column,\n",
    "                         ascending=False)[:n]"
   ]
  },
  {
   "cell_type": "code",
   "execution_count": 110,
   "id": "b9db3c9f",
   "metadata": {},
   "outputs": [],
   "source": [
    "# Returns the top 10 students with the highest total weight.\n",
    "# Further analysis can be done to find statistics for this analysis.\n",
    "top10 = top(makData, n=10)"
   ]
  },
  {
   "cell_type": "code",
   "execution_count": 127,
   "id": "7f9431c3",
   "metadata": {},
   "outputs": [
    {
     "data": {
      "text/plain": [
       "SCHOOL INDEX\n",
       "U0013    1\n",
       "U0060    1\n",
       "U0061    1\n",
       "U0077    1\n",
       "U0801    1\n",
       "U0802    1\n",
       "U1224    2\n",
       "U1249    1\n",
       "U2789    1\n",
       "Name: INDEX NO, dtype: int64"
      ]
     },
     "execution_count": 127,
     "metadata": {},
     "output_type": "execute_result"
    }
   ],
   "source": [
    "top10.groupby(['SCHOOL INDEX',])['INDEX NO'].count()"
   ]
  },
  {
   "cell_type": "code",
   "execution_count": 112,
   "id": "661e902f",
   "metadata": {
    "scrolled": true
   },
   "outputs": [
    {
     "data": {
      "text/plain": [
       "REGION    DISTRICT   GENDER\n",
       "Central   KAYUNGA    M         1\n",
       "          MASAKA     F         1\n",
       "          MUKONO     F         1\n",
       "          SEMBABULE  M         1\n",
       "Eastern   KAMULI     F         1\n",
       "          KAPCHORWA  F         1\n",
       "Northern  LIRA       F         1\n",
       "Western   KISORO     F         1\n",
       "                     M         1\n",
       "          MBARARA    M         1\n",
       "Name: TOTAL WEIGHT, dtype: int64"
      ]
     },
     "execution_count": 112,
     "metadata": {},
     "output_type": "execute_result"
    }
   ],
   "source": [
    "# Top 10 distribution by Region, District and Gender\n",
    "top10.groupby(['REGION', 'DISTRICT', 'GENDER'])['TOTAL WEIGHT'].count()"
   ]
  },
  {
   "cell_type": "code",
   "execution_count": 113,
   "id": "df559e49",
   "metadata": {},
   "outputs": [
    {
     "data": {
      "text/plain": [
       "INDEX NO                                  U0525/510\n",
       "NAME                                 AHUMUZA BRENDA\n",
       "GENDER                                            F\n",
       "UACE YEAR                                    2022.0\n",
       "CODE                                           12.0\n",
       "DISTRICT                                     KABALE\n",
       "COURSE CODE                                     ADM\n",
       "COURSE NAME     Bachelor of Business Administration\n",
       "TOTAL WEIGHT                                   45.4\n",
       "SCHOOL INDEX                                  U0525\n",
       "REGION                                      Western\n",
       "Name: 23APF922973038147370, dtype: object"
      ]
     },
     "execution_count": 113,
     "metadata": {},
     "output_type": "execute_result"
    }
   ],
   "source": [
    "makData.iloc[190]"
   ]
  },
  {
   "cell_type": "code",
   "execution_count": 114,
   "id": "14258e36",
   "metadata": {},
   "outputs": [],
   "source": [
    "# last 10 students admitted by total weight\n",
    "def last(df, n, column='TOTAL WEIGHT'):\n",
    "    return df.sort_values(column,\n",
    "                         ascending=True)[:n]"
   ]
  },
  {
   "cell_type": "code",
   "execution_count": 115,
   "id": "ced61817",
   "metadata": {},
   "outputs": [],
   "source": [
    "last10 = last(makData, n=10)"
   ]
  },
  {
   "cell_type": "code",
   "execution_count": 116,
   "id": "69023a01",
   "metadata": {},
   "outputs": [
    {
     "data": {
      "text/plain": [
       "REGION\n",
       "Central     4\n",
       "Eastern     1\n",
       "Northern    2\n",
       "Western     3\n",
       "Name: NAME, dtype: int64"
      ]
     },
     "execution_count": 116,
     "metadata": {},
     "output_type": "execute_result"
    }
   ],
   "source": [
    "# This informs hidden patterns in socio-economic lives of people\n",
    "# from this regions\n",
    "last10.groupby(by=['REGION'])['NAME'].count()"
   ]
  },
  {
   "cell_type": "code",
   "execution_count": 117,
   "id": "28e21468",
   "metadata": {},
   "outputs": [
    {
     "data": {
      "text/plain": [
       "REGION    DISTRICT\n",
       "Central   BUIKWE      1\n",
       "          KAMPALA     1\n",
       "          WAKISO      2\n",
       "Eastern   TORORO      1\n",
       "Northern  ABIM        1\n",
       "          GULU        1\n",
       "Western   KAMWENGE    1\n",
       "          KIRUHURA    1\n",
       "          MBARARA     1\n",
       "Name: TOTAL WEIGHT, dtype: int64"
      ]
     },
     "execution_count": 117,
     "metadata": {},
     "output_type": "execute_result"
    }
   ],
   "source": [
    "last10.groupby(['REGION', 'DISTRICT'])['TOTAL WEIGHT'].count()"
   ]
  },
  {
   "cell_type": "code",
   "execution_count": 118,
   "id": "6cacf34e",
   "metadata": {},
   "outputs": [],
   "source": [
    "# Quartiles\n",
    "# Quartiles are data categories thus data can be categorized\n",
    "# using quartiles\n",
    "quartiles = pd.cut(makData['TOTAL WEIGHT'],\n",
    "                   4,\n",
    "                   labels=[\"Very Low\", \"Low\", \"High\", \"Very High\"])"
   ]
  },
  {
   "cell_type": "code",
   "execution_count": 119,
   "id": "fe10c066",
   "metadata": {},
   "outputs": [
    {
     "data": {
      "text/plain": [
       "APPLICATION NO\n",
       "23APF412304454141015     High\n",
       "23APF345674424112360     High\n",
       "23APF1361730063122187    High\n",
       "23APF519647933132646     High\n",
       "23APF1481620160129238    High\n",
       "                         ... \n",
       "23APF727648568141557     High\n",
       "23APF963075058135059     High\n",
       "23APF1618205309130850    High\n",
       "23APF575513287117711     High\n",
       "23APF1477867021106233    High\n",
       "Name: TOTAL WEIGHT, Length: 14915, dtype: category\n",
       "Categories (4, object): ['Very Low' < 'Low' < 'High' < 'Very High']"
      ]
     },
     "execution_count": 119,
     "metadata": {},
     "output_type": "execute_result"
    }
   ],
   "source": [
    "quartiles"
   ]
  },
  {
   "cell_type": "code",
   "execution_count": 120,
   "id": "1aff1464",
   "metadata": {},
   "outputs": [
    {
     "name": "stderr",
     "output_type": "stream",
     "text": [
      "C:\\Users\\Kakaire Steven\\AppData\\Local\\Temp\\ipykernel_15572\\3350520744.py:2: FutureWarning: The default of observed=False is deprecated and will be changed to True in a future version of pandas. Pass observed=False to retain current behavior or observed=True to adopt the future default and silence this warning.\n",
      "  makData.groupby(quartiles)['TOTAL WEIGHT'].agg([\"min\", \"max\", \"mean\", \"count\"])\n"
     ]
    },
    {
     "data": {
      "text/html": [
       "<div>\n",
       "<style scoped>\n",
       "    .dataframe tbody tr th:only-of-type {\n",
       "        vertical-align: middle;\n",
       "    }\n",
       "\n",
       "    .dataframe tbody tr th {\n",
       "        vertical-align: top;\n",
       "    }\n",
       "\n",
       "    .dataframe thead th {\n",
       "        text-align: right;\n",
       "    }\n",
       "</style>\n",
       "<table border=\"1\" class=\"dataframe\">\n",
       "  <thead>\n",
       "    <tr style=\"text-align: right;\">\n",
       "      <th></th>\n",
       "      <th>min</th>\n",
       "      <th>max</th>\n",
       "      <th>mean</th>\n",
       "      <th>count</th>\n",
       "    </tr>\n",
       "    <tr>\n",
       "      <th>TOTAL WEIGHT</th>\n",
       "      <th></th>\n",
       "      <th></th>\n",
       "      <th></th>\n",
       "      <th></th>\n",
       "    </tr>\n",
       "  </thead>\n",
       "  <tbody>\n",
       "    <tr>\n",
       "      <th>Very Low</th>\n",
       "      <td>8.9</td>\n",
       "      <td>20.1</td>\n",
       "      <td>17.641293</td>\n",
       "      <td>1160</td>\n",
       "    </tr>\n",
       "    <tr>\n",
       "      <th>Low</th>\n",
       "      <td>20.2</td>\n",
       "      <td>31.4</td>\n",
       "      <td>26.372179</td>\n",
       "      <td>6380</td>\n",
       "    </tr>\n",
       "    <tr>\n",
       "      <th>High</th>\n",
       "      <td>31.5</td>\n",
       "      <td>42.6</td>\n",
       "      <td>36.348959</td>\n",
       "      <td>6101</td>\n",
       "    </tr>\n",
       "    <tr>\n",
       "      <th>Very High</th>\n",
       "      <td>42.7</td>\n",
       "      <td>53.9</td>\n",
       "      <td>45.423783</td>\n",
       "      <td>1274</td>\n",
       "    </tr>\n",
       "  </tbody>\n",
       "</table>\n",
       "</div>"
      ],
      "text/plain": [
       "               min   max       mean  count\n",
       "TOTAL WEIGHT                              \n",
       "Very Low       8.9  20.1  17.641293   1160\n",
       "Low           20.2  31.4  26.372179   6380\n",
       "High          31.5  42.6  36.348959   6101\n",
       "Very High     42.7  53.9  45.423783   1274"
      ]
     },
     "execution_count": 120,
     "metadata": {},
     "output_type": "execute_result"
    }
   ],
   "source": [
    "# Grouping by quartiles\n",
    "makData.groupby(quartiles)['TOTAL WEIGHT'].agg([\"min\", \"max\", \"mean\", \"count\"])"
   ]
  },
  {
   "cell_type": "code",
   "execution_count": 121,
   "id": "7956333e",
   "metadata": {},
   "outputs": [],
   "source": [
    "# I bin starting with 0, logically, none can be admitted with zero points\n",
    "# bins = pd.IntervalIndex.from_tuples([(0, 20), (21, 30), (31, 40), (41, 55)])\n",
    "bins = [0, 20, 30, 40, 55]\n",
    "quartiles2 = pd.cut(makData['TOTAL WEIGHT'],\n",
    "                     bins,\n",
    "                     right=True,\n",
    "#                      retbins=True,\n",
    "                     labels=False)"
   ]
  },
  {
   "cell_type": "code",
   "execution_count": 122,
   "id": "a947ac2c",
   "metadata": {},
   "outputs": [],
   "source": [
    "# There is more the mind can explore and apply. Uncage your imagination\n",
    "# and let it go wild."
   ]
  },
  {
   "cell_type": "code",
   "execution_count": 123,
   "id": "65896b58-92f6-4cfc-bb0b-11ba026d3b90",
   "metadata": {},
   "outputs": [
    {
     "data": {
      "text/plain": [
       "APPLICATION NO\n",
       "23APF412304454141015     3\n",
       "23APF345674424112360     3\n",
       "23APF1361730063122187    3\n",
       "23APF519647933132646     2\n",
       "23APF1481620160129238    2\n",
       "                        ..\n",
       "23APF727648568141557     3\n",
       "23APF963075058135059     3\n",
       "23APF1618205309130850    3\n",
       "23APF575513287117711     3\n",
       "23APF1477867021106233    3\n",
       "Name: TOTAL WEIGHT, Length: 14915, dtype: int64"
      ]
     },
     "execution_count": 123,
     "metadata": {},
     "output_type": "execute_result"
    }
   ],
   "source": [
    "quartiles2"
   ]
  }
 ],
 "metadata": {
  "kernelspec": {
   "display_name": "Python 3 (ipykernel)",
   "language": "python",
   "name": "python3"
  },
  "language_info": {
   "codemirror_mode": {
    "name": "ipython",
    "version": 3
   },
   "file_extension": ".py",
   "mimetype": "text/x-python",
   "name": "python",
   "nbconvert_exporter": "python",
   "pygments_lexer": "ipython3",
   "version": "3.12.3"
  }
 },
 "nbformat": 4,
 "nbformat_minor": 5
}
