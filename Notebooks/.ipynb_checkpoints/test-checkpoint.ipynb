{
 "cells": [
  {
   "cell_type": "code",
   "execution_count": 1,
   "id": "db093d07",
   "metadata": {},
   "outputs": [],
   "source": [
    "import pandas as pd\n",
    "import numpy as np\n",
    "import matplotlib"
   ]
  },
  {
   "cell_type": "code",
   "execution_count": null,
   "id": "76889b70-a526-4dd8-bb42-02183e5d0d32",
   "metadata": {},
   "outputs": [],
   "source": [
    "obj = pd.Series([-7, -5, 7, 4, 2, 0, 4])"
   ]
  },
  {
   "cell_type": "code",
   "execution_count": null,
   "id": "48b7ad93-43ae-4507-8ad9-2dea7d393230",
   "metadata": {},
   "outputs": [],
   "source": [
    "obj"
   ]
  },
  {
   "cell_type": "code",
   "execution_count": null,
   "id": "ce10edd6-0ba9-4496-a8f8-6f2df1d7581b",
   "metadata": {},
   "outputs": [],
   "source": [
    "obj.rank(\n",
    "    method=\"dense\",\n",
    ")"
   ]
  },
  {
   "cell_type": "code",
   "execution_count": null,
   "id": "9956bcfa-6f93-400d-a216-6b159c4596e7",
   "metadata": {},
   "outputs": [],
   "source": [
    "obj.rank(method=\"first\")"
   ]
  },
  {
   "cell_type": "code",
   "execution_count": null,
   "id": "ee89bf61-ec52-40b0-8ae2-2198caad48c4",
   "metadata": {},
   "outputs": [],
   "source": [
    "frame = pd.DataFrame(\n",
    "    {\"b\":[4.3, 7, -3, 2],\n",
    "     \"a\":[0, 1, 0, 1],\n",
    "     \"c\":[-2, 5, 8, -2.5]}\n",
    ")"
   ]
  },
  {
   "cell_type": "code",
   "execution_count": null,
   "id": "adc4f675-7848-4e69-8bb0-f01b30105a6c",
   "metadata": {},
   "outputs": [],
   "source": [
    "frame"
   ]
  },
  {
   "cell_type": "code",
   "execution_count": null,
   "id": "db3490ec-c57e-4757-95eb-33ddd0b332a1",
   "metadata": {},
   "outputs": [],
   "source": [
    "frame.rank(axis=\"columns\",\n",
    "           method=\"max\",\n",
    "           \n",
    "          )"
   ]
  },
  {
   "cell_type": "code",
   "execution_count": null,
   "id": "4dd6c585-347e-4dbe-8735-8de60e45102b",
   "metadata": {},
   "outputs": [],
   "source": [
    "obj = pd.Series(np.arange(5),\n",
    "                index=['a', 'a', 'b', 'b', 'c'])"
   ]
  },
  {
   "cell_type": "code",
   "execution_count": null,
   "id": "e645337d-fc29-454b-a4e2-05ef733a9b57",
   "metadata": {},
   "outputs": [],
   "source": [
    "obj"
   ]
  },
  {
   "cell_type": "code",
   "execution_count": null,
   "id": "84ce6779-bc21-4bc0-9de6-ea334392e640",
   "metadata": {},
   "outputs": [],
   "source": [
    "obj.index.is_unique"
   ]
  },
  {
   "cell_type": "code",
   "execution_count": null,
   "id": "19447c52-ded0-453a-97d8-550be551cc77",
   "metadata": {},
   "outputs": [],
   "source": [
    "df = pd.DataFrame(np.random.standard_normal((5, 3)),\n",
    "                  index=['a', 'a', 'b', 'b', 'c'])"
   ]
  },
  {
   "cell_type": "code",
   "execution_count": null,
   "id": "b2f1af79-daa1-48be-aa4c-208e48f0a85f",
   "metadata": {},
   "outputs": [],
   "source": [
    "df"
   ]
  },
  {
   "cell_type": "code",
   "execution_count": null,
   "id": "e23792f4-851d-4c5b-83d3-17bb48f9a04f",
   "metadata": {},
   "outputs": [],
   "source": [
    "df.loc[\"a\"]"
   ]
  },
  {
   "cell_type": "code",
   "execution_count": null,
   "id": "88078fd2-9dcf-46af-9e79-682b4a7658f9",
   "metadata": {},
   "outputs": [],
   "source": [
    "df.loc[\"c\"]"
   ]
  },
  {
   "cell_type": "code",
   "execution_count": null,
   "id": "c2826f8d-9179-48f2-b74c-7cac476336a7",
   "metadata": {},
   "outputs": [],
   "source": [
    "df = pd.DataFrame([[1.4, np.nan], [7.1, -4.5],\n",
    "                   [np.nan, np.nan], [0.75, -1.3]],\n",
    "                  index=['a', 'b', 'c', 'd'],\n",
    "                  columns=['one', 'two'])"
   ]
  },
  {
   "cell_type": "code",
   "execution_count": null,
   "id": "bed4fecf-6f64-4cdf-918a-281f30628ac0",
   "metadata": {},
   "outputs": [],
   "source": [
    "df"
   ]
  },
  {
   "cell_type": "code",
   "execution_count": null,
   "id": "ea4a021e-f7db-4809-bd22-84518c0ca5fb",
   "metadata": {},
   "outputs": [],
   "source": [
    "df.sum(axis=0)"
   ]
  },
  {
   "cell_type": "code",
   "execution_count": null,
   "id": "a2f477a8-40ea-47c6-81ea-80d3bd048e2d",
   "metadata": {},
   "outputs": [],
   "source": [
    "df.sum(axis=\"index\",\n",
    "       # skipna=False,\n",
    "      )"
   ]
  },
  {
   "cell_type": "code",
   "execution_count": null,
   "id": "9c3fbb4f-5fe4-4107-94d4-f7aa29cab5d9",
   "metadata": {},
   "outputs": [],
   "source": [
    "df.sum(axis=1,\n",
    "       # skipna=False,\n",
    "      )"
   ]
  },
  {
   "cell_type": "code",
   "execution_count": null,
   "id": "c4d61940-7dde-4a82-9daf-dc3eb677dc40",
   "metadata": {},
   "outputs": [],
   "source": [
    "df.idxmax()"
   ]
  },
  {
   "cell_type": "code",
   "execution_count": null,
   "id": "eb04f16d-3952-4244-a7e1-82e556464615",
   "metadata": {},
   "outputs": [],
   "source": [
    "df.describe().loc['mean']"
   ]
  },
  {
   "cell_type": "code",
   "execution_count": null,
   "id": "048ba12d-38c4-474c-9327-900effa60dbd",
   "metadata": {},
   "outputs": [],
   "source": [
    "# non-numeric data\n",
    "obj = pd.Series(['a', 'a', 'b', 'c']*4)"
   ]
  },
  {
   "cell_type": "code",
   "execution_count": null,
   "id": "bb256ced-a0d2-4609-861e-603a4e7b9f2b",
   "metadata": {},
   "outputs": [],
   "source": [
    "obj.describe()"
   ]
  },
  {
   "cell_type": "code",
   "execution_count": null,
   "id": "d8344073-7c1b-4986-b04f-0882507989a0",
   "metadata": {},
   "outputs": [],
   "source": [
    "obj = pd.Series(['c', 'a', 'd', 'a', 'a', 'b', 'b', 'c', 'c'])"
   ]
  },
  {
   "cell_type": "code",
   "execution_count": null,
   "id": "02744b46-0759-400f-bd0c-07a996dc0986",
   "metadata": {},
   "outputs": [],
   "source": [
    "obj.unique()"
   ]
  },
  {
   "cell_type": "code",
   "execution_count": null,
   "id": "fc244e49-cf08-414f-983e-0c928b41561b",
   "metadata": {},
   "outputs": [],
   "source": [
    "pd.Series(obj).value_counts()"
   ]
  },
  {
   "cell_type": "code",
   "execution_count": null,
   "id": "d3b2fac9-527e-4cca-a4f0-39d2e1b79ff1",
   "metadata": {},
   "outputs": [],
   "source": [
    "data = pd.DataFrame({\"qu1\": [1, 3, 4, 3, 4],\n",
    "                     \"qu2\": [2, 3, 1, 2, 3],\n",
    "                     \"qu3\": [1, 5, 2, 4, 4]})"
   ]
  },
  {
   "cell_type": "code",
   "execution_count": null,
   "id": "80d97b02-28bf-471f-a606-7c200c1b3471",
   "metadata": {},
   "outputs": [],
   "source": [
    "data.qu1.value_counts().sort_index()"
   ]
  },
  {
   "cell_type": "code",
   "execution_count": null,
   "id": "d56d6529-3127-4ccb-8bb5-bf6483c3f072",
   "metadata": {},
   "outputs": [],
   "source": [
    "data.value_counts()"
   ]
  },
  {
   "cell_type": "code",
   "execution_count": null,
   "id": "fe887a93-055b-40a6-b20f-2c417b6f2cbf",
   "metadata": {},
   "outputs": [],
   "source": [
    "import sys"
   ]
  },
  {
   "cell_type": "code",
   "execution_count": null,
   "id": "3399366b-376b-4cda-9fbd-a7fcd6980e32",
   "metadata": {},
   "outputs": [],
   "source": [
    "data.to_csv(sys.stdout, index=False, columns=['qu1', 'qu3'], sep=\"|\")"
   ]
  },
  {
   "cell_type": "code",
   "execution_count": null,
   "id": "ee470e3c-300c-4eee-b3f2-3f4fb6c9c2f1",
   "metadata": {},
   "outputs": [],
   "source": [
    "import sqlite3"
   ]
  },
  {
   "cell_type": "code",
   "execution_count": null,
   "id": "a1f52237-0563-4444-b1d9-359e16ea09c1",
   "metadata": {},
   "outputs": [],
   "source": [
    "query = \"\"\"\n",
    "CREATE TABLE test\n",
    "(a VARCHAR(20), b VARCHAR(20), c REAL, d INTEGER);\"\"\""
   ]
  },
  {
   "cell_type": "code",
   "execution_count": null,
   "id": "db782b9a-b3a8-418d-8e75-7d9a97fe855d",
   "metadata": {},
   "outputs": [],
   "source": [
    "con = sqlite3.connect(\"mydata.sqlite\")\n",
    "con.execute(query)\n",
    "con.commit()"
   ]
  },
  {
   "cell_type": "code",
   "execution_count": null,
   "id": "bc351482-ee11-4ec2-959b-5cf79729439f",
   "metadata": {},
   "outputs": [],
   "source": [
    "data = [(\"Atlanta\", \"Georgia\", 1.25, 6),\n",
    "        (\"Tallahassee\", \"Florida\", 2.6, 3),\n",
    "        (\"Sacramento\", \"California\", 1.7, 5)]"
   ]
  },
  {
   "cell_type": "code",
   "execution_count": null,
   "id": "6b3a8073-f59c-4f13-8ab4-cbab022f73a8",
   "metadata": {},
   "outputs": [],
   "source": [
    "stmt = \"INSERT INTO test VALUES(?, ?, ?, ?)\"\n",
    "con.executemany(stmt, data)\n",
    "con.commit()"
   ]
  },
  {
   "cell_type": "code",
   "execution_count": null,
   "id": "d51a0fc5-dbd2-4006-8581-cb17f04f4dbd",
   "metadata": {},
   "outputs": [],
   "source": [
    "cursor = con.execute(\"SELECT * FROM test\")\n",
    "rows = cursor.fetchall()"
   ]
  },
  {
   "cell_type": "code",
   "execution_count": null,
   "id": "573d8606-3e67-4771-8fd8-1470efdbbdfa",
   "metadata": {},
   "outputs": [],
   "source": [
    "rows"
   ]
  },
  {
   "cell_type": "code",
   "execution_count": null,
   "id": "488232a6-8ef9-4d7f-9bd0-34a23593b5d4",
   "metadata": {},
   "outputs": [],
   "source": [
    "cursor.description"
   ]
  },
  {
   "cell_type": "code",
   "execution_count": null,
   "id": "567702dd-5f65-4adb-8847-150c1d80ec60",
   "metadata": {},
   "outputs": [],
   "source": [
    "df = pd.DataFrame(rows, columns=[x[0] for x in cursor.description])"
   ]
  },
  {
   "cell_type": "code",
   "execution_count": null,
   "id": "327c8cb7-4e7c-47cc-8abd-737a4a1fc346",
   "metadata": {},
   "outputs": [],
   "source": [
    "df"
   ]
  },
  {
   "cell_type": "code",
   "execution_count": null,
   "id": "77b97fc5-d451-4466-8379-2948fd4ed750",
   "metadata": {},
   "outputs": [],
   "source": [
    "import sqlalchemy as sqla"
   ]
  },
  {
   "cell_type": "code",
   "execution_count": null,
   "id": "a5f0775f-1d94-4740-a0a9-5b8eb7cda305",
   "metadata": {},
   "outputs": [],
   "source": [
    "db = sqla.create_engine(\"sqlite:///mydata.sqlite\")"
   ]
  },
  {
   "cell_type": "code",
   "execution_count": null,
   "id": "83426c15-d9cb-4366-8a71-3c051b860f0e",
   "metadata": {},
   "outputs": [],
   "source": [
    "df = pd.read_sql(\"SELECT * FROM test\", db)"
   ]
  },
  {
   "cell_type": "code",
   "execution_count": null,
   "id": "87c1aba1-a0ef-4bf8-a1e5-56e45bd8be5a",
   "metadata": {},
   "outputs": [],
   "source": [
    "df"
   ]
  },
  {
   "cell_type": "code",
   "execution_count": null,
   "id": "4cad9086-2f21-4aab-9dae-8dab622d4fb8",
   "metadata": {},
   "outputs": [],
   "source": [
    "# drop duplicates\n",
    "data = pd.DataFrame({\"k1\": [\"one\", \"two\"]*3 + [\"two\"],\n",
    "                     \"k2\": [1, 1, 2, 3, 3, 4, 4]})"
   ]
  },
  {
   "cell_type": "code",
   "execution_count": null,
   "id": "846ccf79-6c6f-41b9-b71e-55248136f717",
   "metadata": {},
   "outputs": [],
   "source": [
    "data"
   ]
  },
  {
   "cell_type": "code",
   "execution_count": null,
   "id": "b0f502cc-7d88-4dd3-8831-7c766545ef68",
   "metadata": {},
   "outputs": [],
   "source": [
    "# data.duplicated()"
   ]
  },
  {
   "cell_type": "code",
   "execution_count": null,
   "id": "940c061a-4f3b-4bd6-8c04-86c89fea649a",
   "metadata": {},
   "outputs": [],
   "source": [
    "# data = data.drop_duplicates()"
   ]
  },
  {
   "cell_type": "code",
   "execution_count": null,
   "id": "c3e50b28-3cc7-47b0-b127-b5986811fdb7",
   "metadata": {},
   "outputs": [],
   "source": [
    "# data"
   ]
  },
  {
   "cell_type": "code",
   "execution_count": null,
   "id": "330e295b-b037-4f08-883d-b46c44c37ddb",
   "metadata": {},
   "outputs": [],
   "source": [
    "data.loc[:,'v1'] = range(7)"
   ]
  },
  {
   "cell_type": "code",
   "execution_count": null,
   "id": "e7aaab3b-fe48-45f0-af93-052f5661633e",
   "metadata": {},
   "outputs": [],
   "source": [
    "data"
   ]
  },
  {
   "cell_type": "code",
   "execution_count": null,
   "id": "ec9eec10-b661-4d8b-bee5-7f3a8c5fb05a",
   "metadata": {},
   "outputs": [],
   "source": [
    "data.drop_duplicates(subset=['k2'])"
   ]
  },
  {
   "cell_type": "code",
   "execution_count": null,
   "id": "dc836c40-f155-462e-93eb-fd83a7fa289d",
   "metadata": {},
   "outputs": [],
   "source": [
    "data = pd.DataFrame({\"food\": [\"bacon\", \"pulled pork\", \"bacon\", \"pastrami\", \"corned beef\", \"bacon\", \"pastrami\", \"honey ham\", \"nova lox\"],\n",
    "                     \"ounces\": [4, 3, 12, 6, 7.5, 8, 3, 5, 6]})"
   ]
  },
  {
   "cell_type": "code",
   "execution_count": null,
   "id": "e6e9aa4d-ac76-4f41-9aef-83987bf7d694",
   "metadata": {},
   "outputs": [],
   "source": [
    "data"
   ]
  },
  {
   "cell_type": "code",
   "execution_count": null,
   "id": "ee5157d4-ea74-40a2-96aa-8a7f90052f51",
   "metadata": {},
   "outputs": [],
   "source": [
    "meat_to_animal = {\n",
    "    \"bacon\": \"pig\",\n",
    "    \"pulled pork\": \"pig\",\n",
    "    \"pastrami\": \"cow\",\n",
    "    \"corned beef\": \"cow\",\n",
    "    \"honey ham\": \"pig\",\n",
    "    \"nova lox\" : \"Salmon\"\n",
    "}"
   ]
  },
  {
   "cell_type": "code",
   "execution_count": null,
   "id": "70073b7d-6d58-4e65-9786-10adebd38594",
   "metadata": {},
   "outputs": [],
   "source": [
    "data['animal'] = data[\"food\"].map(meat_to_animal)"
   ]
  },
  {
   "cell_type": "code",
   "execution_count": null,
   "id": "55b0b2ab-5ac3-4952-8f9b-c10dd2dac3cb",
   "metadata": {},
   "outputs": [],
   "source": [
    "data"
   ]
  },
  {
   "cell_type": "code",
   "execution_count": null,
   "id": "d859f97f-306e-4d95-98df-4c85d9f50cb8",
   "metadata": {},
   "outputs": [],
   "source": [
    "data = pd.Series([1., -999., 2.0, -999.0, -1000, -1000, 3])"
   ]
  },
  {
   "cell_type": "code",
   "execution_count": null,
   "id": "c940a017-cba8-4620-8f3b-d2d6d42998df",
   "metadata": {},
   "outputs": [],
   "source": [
    "data"
   ]
  },
  {
   "cell_type": "code",
   "execution_count": null,
   "id": "f8f62a3c-a30f-4c3b-a117-a0f51e45a7cc",
   "metadata": {},
   "outputs": [],
   "source": [
    "data.replace([-999, -1000], np.nan)"
   ]
  },
  {
   "cell_type": "code",
   "execution_count": null,
   "id": "9390b28e-4e72-486f-8a3d-99f9f5006a7a",
   "metadata": {},
   "outputs": [],
   "source": [
    "data.replace([-999, -1000], [np.nan, 0])"
   ]
  },
  {
   "cell_type": "code",
   "execution_count": null,
   "id": "f50f28df-2f63-4528-b66a-2d032de3aa69",
   "metadata": {},
   "outputs": [],
   "source": [
    "data.replace({-999: np.nan, -1000: 0})"
   ]
  },
  {
   "cell_type": "code",
   "execution_count": null,
   "id": "d3dbf5de-92ca-4c9f-860a-707af614b543",
   "metadata": {},
   "outputs": [],
   "source": [
    "data"
   ]
  },
  {
   "cell_type": "code",
   "execution_count": null,
   "id": "1af4169c-de59-4c9d-941b-0d4047fd1a32",
   "metadata": {},
   "outputs": [],
   "source": [
    "# binning and discretization\n",
    "ages = [18, 22, 25, 26, 21, 23, 37, 31, 61, 45, 41, 32]"
   ]
  },
  {
   "cell_type": "code",
   "execution_count": null,
   "id": "7cac8e45-1f5e-4b84-985e-e82baf7f16c4",
   "metadata": {},
   "outputs": [],
   "source": [
    "bins = [18, 25, 35, 60, 100]\n",
    "# bins = 5"
   ]
  },
  {
   "cell_type": "code",
   "execution_count": null,
   "id": "d2fbf692-8fee-4d65-b153-fc04cec6a576",
   "metadata": {},
   "outputs": [],
   "source": [
    "age_categories = pd.cut(ages, bins)"
   ]
  },
  {
   "cell_type": "code",
   "execution_count": null,
   "id": "ae25c471-ad4a-4e1c-95ff-724d50f30265",
   "metadata": {},
   "outputs": [],
   "source": [
    "age_categories"
   ]
  },
  {
   "cell_type": "code",
   "execution_count": null,
   "id": "f4a8a31a-1b6c-43a1-821b-a8be02845145",
   "metadata": {},
   "outputs": [],
   "source": [
    "ages"
   ]
  },
  {
   "cell_type": "code",
   "execution_count": null,
   "id": "528ab88d-70a1-45ef-b0af-5e93a26207dc",
   "metadata": {},
   "outputs": [],
   "source": [
    "df = pd.DataFrame([[1, 2.12], [3.356, 4.567]])"
   ]
  },
  {
   "cell_type": "code",
   "execution_count": null,
   "id": "6f4711f8-b92a-4718-bfdd-eee5070ee3fe",
   "metadata": {},
   "outputs": [],
   "source": [
    "df"
   ]
  },
  {
   "cell_type": "code",
   "execution_count": null,
   "id": "f216a22d-5f0c-4e59-9029-71b9082e2516",
   "metadata": {},
   "outputs": [],
   "source": [
    "df_copy = df.copy()"
   ]
  },
  {
   "cell_type": "code",
   "execution_count": null,
   "id": "953b0237-1f81-492e-ae97-b2461b6ea31c",
   "metadata": {},
   "outputs": [],
   "source": [
    "df_copy.iloc[0,0] = pd.NA"
   ]
  },
  {
   "cell_type": "code",
   "execution_count": null,
   "id": "9fe3df07-fc1c-4a85-91a1-7df7ffe3c0c4",
   "metadata": {
    "scrolled": true
   },
   "outputs": [],
   "source": [
    "df_copy"
   ]
  },
  {
   "cell_type": "code",
   "execution_count": null,
   "id": "20547ef5-e5e3-4ad5-b5a7-b83be8332b45",
   "metadata": {},
   "outputs": [],
   "source": [
    "df_copy.map(lambda x: len(str(x)), na_action=None)"
   ]
  },
  {
   "cell_type": "code",
   "execution_count": null,
   "id": "a3de6ebc-ef87-4ad3-a1d1-ed38ed8f8db4",
   "metadata": {},
   "outputs": [],
   "source": [
    "df"
   ]
  },
  {
   "cell_type": "code",
   "execution_count": null,
   "id": "6ddc71ce-7ab4-473b-a1fc-1b3edbda4527",
   "metadata": {},
   "outputs": [],
   "source": [
    "df.map(round, ndigits=1)"
   ]
  },
  {
   "cell_type": "code",
   "execution_count": null,
   "id": "3e256938-ab3e-4d7c-a05c-257c9d030441",
   "metadata": {},
   "outputs": [],
   "source": [
    "data = pd.DataFrame(np.arange(12).reshape(3, 4),\n",
    "                    index=['Computer Engineering', 'Civil Engineering', 'Electrical Engineering'],\n",
    "                    columns=['Year One', 'Year Two', 'Year Three', 'Year Four']\n",
    "                   )"
   ]
  },
  {
   "cell_type": "code",
   "execution_count": null,
   "id": "7672b636-a9b5-47f0-a78b-4d50e37653ea",
   "metadata": {},
   "outputs": [],
   "source": [
    "data"
   ]
  },
  {
   "cell_type": "code",
   "execution_count": null,
   "id": "7f4b2816-43b4-4150-ab18-159dc1cdb4dc",
   "metadata": {},
   "outputs": [],
   "source": [
    "def transform(x):\n",
    "    return x[:4].upper()"
   ]
  },
  {
   "cell_type": "code",
   "execution_count": null,
   "id": "f70414c3-2094-4a61-b01a-3b9ef8c2aa6d",
   "metadata": {},
   "outputs": [],
   "source": [
    "data.index = data.index.map(transform)"
   ]
  },
  {
   "cell_type": "code",
   "execution_count": null,
   "id": "1f916971-54d9-4dab-a485-eecfd957bc62",
   "metadata": {},
   "outputs": [],
   "source": [
    "data"
   ]
  },
  {
   "cell_type": "code",
   "execution_count": null,
   "id": "52a4ec77-7c2c-4ea1-8f19-fa50e767b23a",
   "metadata": {},
   "outputs": [],
   "source": [
    "data = data.rename(index=str.title,\n",
    "                   columns=str.upper,\n",
    "                  )"
   ]
  },
  {
   "cell_type": "code",
   "execution_count": null,
   "id": "729a5aef-6d61-4882-8e60-c96e2d0bc043",
   "metadata": {},
   "outputs": [],
   "source": [
    "data"
   ]
  },
  {
   "cell_type": "code",
   "execution_count": null,
   "id": "c221fcec-777b-4573-9812-9c507150e856",
   "metadata": {},
   "outputs": [],
   "source": [
    "pd.cut(np.array([1, 7, 5, 4, 6, 3]), 3,\n",
    "      right=False,\n",
    "      )"
   ]
  },
  {
   "cell_type": "code",
   "execution_count": null,
   "id": "7a4ddee9-535a-45c5-9a4f-b377f95929fa",
   "metadata": {},
   "outputs": [],
   "source": [
    "# Binning with qcut\n",
    "data = np.random.standard_normal(1000)\n",
    "quartiles = pd.qcut(data, 4, precision=2)"
   ]
  },
  {
   "cell_type": "code",
   "execution_count": null,
   "id": "f0ba405f-51a6-4ba7-ad91-1bf0e586dbdb",
   "metadata": {},
   "outputs": [],
   "source": [
    "quartiles"
   ]
  },
  {
   "cell_type": "code",
   "execution_count": null,
   "id": "e343d886-69b1-4144-bf59-7070821d475b",
   "metadata": {},
   "outputs": [],
   "source": [
    "data = pd.DataFrame(np.random.standard_normal((1000, 4)))"
   ]
  },
  {
   "cell_type": "code",
   "execution_count": null,
   "id": "8c768a89-6f58-4f53-bee4-d46e2553f848",
   "metadata": {},
   "outputs": [],
   "source": [
    "data.describe()"
   ]
  },
  {
   "cell_type": "code",
   "execution_count": null,
   "id": "26834a87-b0fc-4557-8cff-cf7628dbc869",
   "metadata": {},
   "outputs": [],
   "source": [
    "# Getting outliers where value is greater than three in any column\n",
    "data[(data.abs() > 3).any(axis=\"columns\")] "
   ]
  },
  {
   "cell_type": "code",
   "execution_count": null,
   "id": "8d53247b-ef34-457d-90a8-f53dcd57fa48",
   "metadata": {},
   "outputs": [],
   "source": [
    "# Capping the outlier values to 3\n",
    "data[data.abs() > 3] = np.sign(data) * 3"
   ]
  },
  {
   "cell_type": "code",
   "execution_count": null,
   "id": "1ae49427-33e1-4309-9fdc-8ed1d7704919",
   "metadata": {},
   "outputs": [],
   "source": [
    "data[(data.abs() == 3).any(axis=\"columns\")]"
   ]
  },
  {
   "cell_type": "code",
   "execution_count": null,
   "id": "894a7bc6-d140-461b-bf3c-ad75e09ebc58",
   "metadata": {},
   "outputs": [],
   "source": [
    "# Permutations\n",
    "df = pd.DataFrame(np.arange(5*7).reshape((5, 7)))"
   ]
  },
  {
   "cell_type": "code",
   "execution_count": null,
   "id": "0056345d-d169-49ce-8a07-4b2349769c92",
   "metadata": {},
   "outputs": [],
   "source": [
    "df"
   ]
  },
  {
   "cell_type": "code",
   "execution_count": null,
   "id": "fc9421fc-e664-45e8-9653-b43de90663f6",
   "metadata": {},
   "outputs": [],
   "source": [
    "sampler = np.random.permutation(5)"
   ]
  },
  {
   "cell_type": "code",
   "execution_count": null,
   "id": "56a7d92c-d382-468b-b3a3-e12d1cac520b",
   "metadata": {},
   "outputs": [],
   "source": [
    "sampler"
   ]
  },
  {
   "cell_type": "code",
   "execution_count": null,
   "id": "dc72e25e-cdca-48c2-916d-57951092670b",
   "metadata": {},
   "outputs": [],
   "source": [
    "# Sampling\n",
    "df.take(sampler)"
   ]
  },
  {
   "cell_type": "code",
   "execution_count": null,
   "id": "29eb2e91-c88e-4153-b42f-4b7ed3b312e9",
   "metadata": {},
   "outputs": [],
   "source": [
    "df = pd.DataFrame({\"key\": ['b', 'b', 'a', 'c', 'a', 'b'],\n",
    "                   \"data1\": range(6)})"
   ]
  },
  {
   "cell_type": "code",
   "execution_count": null,
   "id": "d5754f12-1f7f-4d5a-8521-94d3a80b2060",
   "metadata": {},
   "outputs": [],
   "source": [
    "df"
   ]
  },
  {
   "cell_type": "code",
   "execution_count": null,
   "id": "393c1dd2-ceee-42c8-a257-88ff2bb36b6e",
   "metadata": {},
   "outputs": [],
   "source": [
    "pd.get_dummies(df[\"key\"])"
   ]
  },
  {
   "cell_type": "code",
   "execution_count": null,
   "id": "0ec2c47d-99b6-49b9-b49f-ba46a7c40be1",
   "metadata": {},
   "outputs": [],
   "source": [
    "s = pd.Series(list('abca'))"
   ]
  },
  {
   "cell_type": "code",
   "execution_count": null,
   "id": "a878d05f-8b10-4e9b-899c-1bfa9f0efe00",
   "metadata": {},
   "outputs": [],
   "source": [
    "s"
   ]
  },
  {
   "cell_type": "code",
   "execution_count": null,
   "id": "42e7f95d-3e6b-4de3-8d85-dee4b1a691f4",
   "metadata": {},
   "outputs": [],
   "source": [
    "pd.get_dummies(s)"
   ]
  },
  {
   "cell_type": "code",
   "execution_count": null,
   "id": "4573b53e-7755-4518-8a46-fe9be632e61c",
   "metadata": {},
   "outputs": [],
   "source": [
    "s1 = ['a', 'b', np.nan]"
   ]
  },
  {
   "cell_type": "code",
   "execution_count": null,
   "id": "076dac49-d47d-435a-8f6a-53ab1d72b78b",
   "metadata": {},
   "outputs": [],
   "source": [
    "pd.get_dummies(s1)"
   ]
  },
  {
   "cell_type": "code",
   "execution_count": null,
   "id": "a6e406c8-3249-4d91-8fbc-cbaf53fe78d5",
   "metadata": {},
   "outputs": [],
   "source": [
    "pd.get_dummies(s1,\n",
    "               dummy_na=True,\n",
    "              prefix=\"key\",\n",
    "              prefix_sep = \"-\",\n",
    "              )"
   ]
  },
  {
   "cell_type": "code",
   "execution_count": null,
   "id": "08b49c0d-0793-4784-abf6-6f0556d5e7ef",
   "metadata": {},
   "outputs": [],
   "source": [
    "s1 = pd.Series([\"a|b\", \"a\", \"a|c\"])"
   ]
  },
  {
   "cell_type": "code",
   "execution_count": null,
   "id": "f62aa58d-d184-4044-a5ba-51931da5ef13",
   "metadata": {},
   "outputs": [],
   "source": [
    "s1"
   ]
  },
  {
   "cell_type": "code",
   "execution_count": null,
   "id": "d9b2a1e9-ef3d-48d1-8b48-17d43ead467d",
   "metadata": {},
   "outputs": [],
   "source": [
    "s1.str.get_dummies()"
   ]
  },
  {
   "cell_type": "code",
   "execution_count": null,
   "id": "a3dd748b-6830-44c4-9b70-131f443ab25f",
   "metadata": {},
   "outputs": [],
   "source": [
    "s = pd.Series([1, 2, 3, None], dtype=pd.Int64Dtype())"
   ]
  },
  {
   "cell_type": "code",
   "execution_count": null,
   "id": "9d0e8150-030d-4719-b408-10dedeec42fb",
   "metadata": {},
   "outputs": [],
   "source": [
    "s"
   ]
  },
  {
   "cell_type": "code",
   "execution_count": null,
   "id": "f2e4de90-5526-46dd-8fed-2196ae4ebde3",
   "metadata": {},
   "outputs": [],
   "source": [
    "s.isna()"
   ]
  },
  {
   "cell_type": "code",
   "execution_count": null,
   "id": "cb95b06c-02c2-45dc-ac1a-af3e52212973",
   "metadata": {},
   "outputs": [],
   "source": [
    "s.dtype"
   ]
  },
  {
   "cell_type": "code",
   "execution_count": null,
   "id": "ee0750da-814f-4924-97cd-729c576ce142",
   "metadata": {},
   "outputs": [],
   "source": [
    "s[3]"
   ]
  },
  {
   "cell_type": "code",
   "execution_count": null,
   "id": "3ef537db-3838-4499-a51b-3b4682ad621f",
   "metadata": {},
   "outputs": [],
   "source": [
    "s[3] is pd.NA"
   ]
  },
  {
   "cell_type": "code",
   "execution_count": null,
   "id": "b02bd769-044f-4263-b284-9bf6f3c486cd",
   "metadata": {},
   "outputs": [],
   "source": [
    "s = pd.Series([\"one\", \"two\", None, \"three'\"], dtype=pd.StringDtype())"
   ]
  },
  {
   "cell_type": "code",
   "execution_count": null,
   "id": "cab3dce7-cec5-4218-8c6f-45a87151f697",
   "metadata": {},
   "outputs": [],
   "source": [
    "s"
   ]
  },
  {
   "cell_type": "code",
   "execution_count": null,
   "id": "8952e833-5726-430f-b48b-ae6989f4db34",
   "metadata": {},
   "outputs": [],
   "source": [
    "df = pd.DataFrame({\"A\": [1, 2, None, 4],\n",
    "                   \"B\": [\"one\", \"two\", \"three\", None],\n",
    "                   \"C\": [False, None, False, True]})"
   ]
  },
  {
   "cell_type": "code",
   "execution_count": null,
   "id": "f34357f7-214f-4246-bf6a-d29c730218ca",
   "metadata": {},
   "outputs": [],
   "source": [
    "df"
   ]
  },
  {
   "cell_type": "code",
   "execution_count": null,
   "id": "9c689496-7493-4484-85b4-85915b8b0dde",
   "metadata": {},
   "outputs": [],
   "source": [
    "df['A'] = df['A'].astype(\"Int64\")\n",
    "df['B'] = df['B'].astype(\"string\")\n",
    "df[\"C\"] = df[\"C\"].astype(\"boolean\")"
   ]
  },
  {
   "cell_type": "code",
   "execution_count": null,
   "id": "02aac80f-663d-4a2c-839d-93f9bb891db5",
   "metadata": {},
   "outputs": [],
   "source": [
    "df"
   ]
  },
  {
   "cell_type": "code",
   "execution_count": null,
   "id": "741b5a8d-b12d-49e6-a8ec-cf2f593222f0",
   "metadata": {},
   "outputs": [],
   "source": [
    "import re"
   ]
  },
  {
   "cell_type": "code",
   "execution_count": null,
   "id": "bd9627b7-a60b-4aaf-b8ca-a6f5b8403043",
   "metadata": {},
   "outputs": [],
   "source": [
    "text = \"foo bar\\t baz \\tqux\""
   ]
  },
  {
   "cell_type": "code",
   "execution_count": null,
   "id": "01cac414-f206-4939-b334-bbb38535b855",
   "metadata": {},
   "outputs": [],
   "source": [
    "re.split(r\"\\s+\", text)"
   ]
  },
  {
   "cell_type": "code",
   "execution_count": null,
   "id": "95aee6b7-5630-4cc0-9950-ba26fbd333b7",
   "metadata": {},
   "outputs": [],
   "source": [
    "regex = re.compile(r\"\\s+\")"
   ]
  },
  {
   "cell_type": "code",
   "execution_count": null,
   "id": "609b3f41-8818-45f5-9af7-c9f7cb2848c5",
   "metadata": {},
   "outputs": [],
   "source": [
    "regex.split(text)"
   ]
  },
  {
   "cell_type": "code",
   "execution_count": null,
   "id": "b032ac78-2023-4789-af2c-950e1c0a1f38",
   "metadata": {},
   "outputs": [],
   "source": [
    "regex.findall(text)"
   ]
  },
  {
   "cell_type": "code",
   "execution_count": null,
   "id": "fdf4f1d0-a4fc-446b-868f-89c713492230",
   "metadata": {},
   "outputs": [],
   "source": [
    "pattern = r\"[A-Z0-9._%+-]+@[A-Z0-9.-]+\\.[A-Z]{2,4}\""
   ]
  },
  {
   "cell_type": "code",
   "execution_count": null,
   "id": "084a57e8-a4db-4987-9e5c-298c6137fcb0",
   "metadata": {},
   "outputs": [],
   "source": [
    "text = \"\"\"Dave dave@google.com\n",
    "Steve steve@gmail.com\n",
    "Rob rob@gmail.com\n",
    "steven.kakaire@mak.ac.ug\n",
    "Ryan ryan@yahoo.com\"\"\""
   ]
  },
  {
   "cell_type": "code",
   "execution_count": null,
   "id": "493d21ed-550b-4ca5-bebf-f32cf2542bfb",
   "metadata": {},
   "outputs": [],
   "source": [
    "text"
   ]
  },
  {
   "cell_type": "code",
   "execution_count": null,
   "id": "4526e588-ddaf-4d18-8af4-b7ddcddfe341",
   "metadata": {},
   "outputs": [],
   "source": [
    "regex = re.compile(pattern, flags=re.IGNORECASE)"
   ]
  },
  {
   "cell_type": "code",
   "execution_count": null,
   "id": "71b6bf01-150a-40ae-b9a8-aa5cff12f087",
   "metadata": {},
   "outputs": [],
   "source": [
    "regex.findall(text)"
   ]
  },
  {
   "cell_type": "code",
   "execution_count": null,
   "id": "0a50f82b-2027-40c2-8581-e1ecfe83ee2a",
   "metadata": {},
   "outputs": [],
   "source": [
    "print"
   ]
  },
  {
   "cell_type": "code",
   "execution_count": null,
   "id": "b3a5e049-f5b9-4fc2-967d-7d84ac3e344b",
   "metadata": {},
   "outputs": [],
   "source": [
    "m = regex.search(text)"
   ]
  },
  {
   "cell_type": "code",
   "execution_count": null,
   "id": "ef2d312c-e3c6-4ad1-9977-31e7043bccb1",
   "metadata": {},
   "outputs": [],
   "source": [
    "m"
   ]
  },
  {
   "cell_type": "code",
   "execution_count": null,
   "id": "ca1f66c8-f630-4933-a5d4-ace3c5a40e4d",
   "metadata": {},
   "outputs": [],
   "source": [
    "m.start()"
   ]
  },
  {
   "cell_type": "code",
   "execution_count": null,
   "id": "6b033c85-79c7-4fda-93b7-47aebdecb765",
   "metadata": {},
   "outputs": [],
   "source": [
    "m.end()"
   ]
  },
  {
   "cell_type": "code",
   "execution_count": null,
   "id": "ef8200a3-dd89-4d55-83a3-79d8879ac972",
   "metadata": {},
   "outputs": [],
   "source": [
    "text[m.start():m.end()]"
   ]
  },
  {
   "cell_type": "code",
   "execution_count": null,
   "id": "30ca6208-070c-4e34-80cd-25f5a8b69466",
   "metadata": {},
   "outputs": [],
   "source": [
    "indexPattern = r'U+[0-9]+/[0-9]+'"
   ]
  },
  {
   "cell_type": "code",
   "execution_count": null,
   "id": "cb5eeb70-7d5f-4e62-a931-641bb4793ac5",
   "metadata": {},
   "outputs": [],
   "source": [
    "regexIndex = re.compile(indexPattern, flags=re.IGNORECASE)"
   ]
  },
  {
   "cell_type": "code",
   "execution_count": null,
   "id": "2ee17966-b5db-48b6-8524-90fca0d149e4",
   "metadata": {},
   "outputs": [],
   "source": [
    "regexIndex.match('U0391/673 LUKABWE DOUGLAS MARKM 2022 42 MUKONO ACC BSC. Accounting (EVE)')[0]"
   ]
  },
  {
   "cell_type": "code",
   "execution_count": null,
   "id": "73d6e2f9-5113-42ef-bd97-afa3bd4ac125",
   "metadata": {},
   "outputs": [],
   "source": [
    "student = 'U0391/673 LUKABWE DOUGLAS MARKM 2022 42 MUKONO ACC BSC. Accounting (EVE)'"
   ]
  },
  {
   "cell_type": "code",
   "execution_count": null,
   "id": "25fe6fa2-04af-4b8d-8fee-d1d8391bd8e4",
   "metadata": {},
   "outputs": [],
   "source": [
    "pd.Series(student.split()).str.contains('M')"
   ]
  },
  {
   "cell_type": "code",
   "execution_count": null,
   "id": "a484ba59-e804-441c-be93-61724cf149ef",
   "metadata": {},
   "outputs": [],
   "source": []
  },
  {
   "cell_type": "code",
   "execution_count": null,
   "id": "8abd463c-8461-426e-ba58-bee1e26b5d22",
   "metadata": {},
   "outputs": [],
   "source": [
    "namePattern = r'([A-Z]+){2,10}'"
   ]
  },
  {
   "cell_type": "code",
   "execution_count": null,
   "id": "c25fa649-964d-4caf-84fa-f61b7dfdccbc",
   "metadata": {},
   "outputs": [],
   "source": [
    "regexName = re.compile(namePattern, flags=re.IGNORECASE)"
   ]
  },
  {
   "cell_type": "code",
   "execution_count": null,
   "id": "f0d86283-2bd9-4295-8df6-e9ad3a2a3165",
   "metadata": {},
   "outputs": [],
   "source": [
    "regexName.findall(student)"
   ]
  },
  {
   "cell_type": "code",
   "execution_count": null,
   "id": "4fd51d37-b3ec-4a9b-b04b-d7b8e61334c3",
   "metadata": {},
   "outputs": [],
   "source": [
    "student = 'U0391/673 LUKABWE DOUGLAS MARKM 2022 42 MUKONO ACC BSC. Accounting (EVE)'"
   ]
  },
  {
   "cell_type": "code",
   "execution_count": null,
   "id": "5c3b879a-52e0-4c95-a732-be91fd34e596",
   "metadata": {},
   "outputs": [],
   "source": [
    "# regex.match('U0391/673 LUKABWE DOUGLAS MARKM 2022 42 MUKONO ACC BSC. Accounting (EVE)')[0]"
   ]
  },
  {
   "cell_type": "code",
   "execution_count": null,
   "id": "9e78eecc-49c6-4f3c-b48f-9278f4ed2946",
   "metadata": {},
   "outputs": [],
   "source": [
    "pattern = r\"\\b[a-zA-Z\\\\]+\""
   ]
  },
  {
   "cell_type": "code",
   "execution_count": null,
   "id": "bd8f33ec-e000-4b10-9e5f-0c1d55b1b883",
   "metadata": {},
   "outputs": [],
   "source": [
    "regex = re.compile(pattern, flags=re.IGNORECASE)"
   ]
  },
  {
   "cell_type": "code",
   "execution_count": null,
   "id": "037087c6-95d2-43dc-bc7b-4122b14af0d0",
   "metadata": {},
   "outputs": [],
   "source": [
    "m = re.match(pattern, student)"
   ]
  },
  {
   "cell_type": "code",
   "execution_count": null,
   "id": "6a6c2329-d7b0-4f46-9e36-117b96671d9e",
   "metadata": {},
   "outputs": [],
   "source": [
    "m"
   ]
  },
  {
   "cell_type": "code",
   "execution_count": null,
   "id": "d85e5028-1a65-47aa-a8cb-5538b732a49b",
   "metadata": {},
   "outputs": [],
   "source": [
    "yearPattern = r\"\\b[0-9]{4}\""
   ]
  },
  {
   "cell_type": "code",
   "execution_count": null,
   "id": "cda7282a-a80a-4531-bb33-aed49b7eba48",
   "metadata": {},
   "outputs": [],
   "source": [
    "regex = re.compile(yearPattern)"
   ]
  },
  {
   "cell_type": "code",
   "execution_count": null,
   "id": "ae1155c9-6321-41f9-a41d-a18598503984",
   "metadata": {},
   "outputs": [],
   "source": [
    "regex.findall(student)"
   ]
  },
  {
   "cell_type": "code",
   "execution_count": null,
   "id": "50e0a0db-f56a-4b30-97d9-bc9e11601315",
   "metadata": {},
   "outputs": [],
   "source": [
    "student"
   ]
  },
  {
   "cell_type": "code",
   "execution_count": null,
   "id": "da33aef5-b328-412e-993d-e31e96913055",
   "metadata": {},
   "outputs": [],
   "source": [
    "# print(regex.sub(\"REDACTED\", text))"
   ]
  },
  {
   "cell_type": "code",
   "execution_count": null,
   "id": "78f23690-8fad-4e73-8fc0-6e6647ea61fa",
   "metadata": {},
   "outputs": [],
   "source": [
    "# pattern = r\"([A-Z0-9._%+-]+)@([A-Z0-9._]+)\\.([A-Z]{2,4})\""
   ]
  },
  {
   "cell_type": "code",
   "execution_count": null,
   "id": "fdb7fe7c-a9d0-4449-9592-890ab2f9831a",
   "metadata": {},
   "outputs": [],
   "source": [
    "# regex = re.compile(pattern, flags=re.IGNORECASE)"
   ]
  },
  {
   "cell_type": "code",
   "execution_count": null,
   "id": "d7a91f40-6fe0-4281-9035-e4b37c71078b",
   "metadata": {},
   "outputs": [],
   "source": [
    "# m = regex.match(\"wesm@right.net\")"
   ]
  },
  {
   "cell_type": "code",
   "execution_count": null,
   "id": "d34e161f-6108-4b77-86c5-deab53b632f5",
   "metadata": {},
   "outputs": [],
   "source": [
    "# m.groups()"
   ]
  },
  {
   "cell_type": "code",
   "execution_count": null,
   "id": "03d06e8c-2808-4870-93a6-83257ed9ba3d",
   "metadata": {},
   "outputs": [],
   "source": [
    "# kakaire = regex.match(\"steven.kakaire@mak.ac.ug\")"
   ]
  },
  {
   "cell_type": "code",
   "execution_count": null,
   "id": "559cb571-1294-4cfb-8213-5ccce5376314",
   "metadata": {},
   "outputs": [],
   "source": [
    "# kakaire.groups()"
   ]
  },
  {
   "cell_type": "code",
   "execution_count": null,
   "id": "5090aef0-1e63-4d35-b516-f0643282334e",
   "metadata": {},
   "outputs": [],
   "source": [
    "# regex.findall(text)"
   ]
  },
  {
   "cell_type": "code",
   "execution_count": null,
   "id": "319f2a93-3ef9-4945-9c93-87804522d108",
   "metadata": {},
   "outputs": [],
   "source": [
    "# raw string needs not to be written on multiple lines.\n",
    "# print(regex.sub(r\"Username: \\1, Domain: \\2, Suffix: \\3\",\n",
    "#                 text))"
   ]
  },
  {
   "cell_type": "code",
   "execution_count": null,
   "id": "cdf7cd5e-c23d-445d-859f-f2ac6fcc10c2",
   "metadata": {},
   "outputs": [],
   "source": [
    "# print(regex.sub(r\"Username: \\1, Domain: \\2, Suffix: \\3\", text))"
   ]
  },
  {
   "cell_type": "markdown",
   "id": "01eaede7-d54f-43f7-8bde-1882377a7701",
   "metadata": {},
   "source": [
    "<h1>STRING MANIPULATION</h1>\n",
    "<p>Real world data is messy and requires a lot of string manipulation.</p>"
   ]
  },
  {
   "cell_type": "code",
   "execution_count": null,
   "id": "1ce83f25-e356-4b48-8b49-cdea2e5ac107",
   "metadata": {},
   "outputs": [],
   "source": [
    "import re\n",
    "import pandas as pd\n",
    "import numpy as np"
   ]
  },
  {
   "cell_type": "code",
   "execution_count": null,
   "id": "4447d7c8-1d20-401d-9124-fb1eff183df3",
   "metadata": {},
   "outputs": [],
   "source": [
    "data = {\"Hawa Jamal\": \"hawa.jamal@gmail.com\",\n",
    "        \"King Kakaire\": \"steven.kakaire@mak.ac.ug\",\n",
    "        \"Nalubega Daisy Mercy\": \"daisy.nalubega@yahoo.com\",\n",
    "        \"rashidah Naluwongo\": np.nan\n",
    "       }"
   ]
  },
  {
   "cell_type": "code",
   "execution_count": null,
   "id": "915f1597-3929-42d3-904f-3fade3655448",
   "metadata": {},
   "outputs": [],
   "source": [
    "data = pd.Series(data)"
   ]
  },
  {
   "cell_type": "code",
   "execution_count": null,
   "id": "1f21a755-ff84-48aa-9df2-b04baef1b7c7",
   "metadata": {},
   "outputs": [],
   "source": [
    "data"
   ]
  },
  {
   "cell_type": "code",
   "execution_count": null,
   "id": "ae2464bc-c9e2-48d7-9b59-6815ccecf91a",
   "metadata": {},
   "outputs": [],
   "source": [
    "data.str.contains(\"com\")"
   ]
  },
  {
   "cell_type": "code",
   "execution_count": null,
   "id": "21806743-a6bd-49c9-988a-eee16a9458f7",
   "metadata": {},
   "outputs": [],
   "source": [
    "s1 = pd.Series(['Mouse', 'dog', 'house and parrot', '23', np.nan])"
   ]
  },
  {
   "cell_type": "code",
   "execution_count": null,
   "id": "e9dafcae-cf05-45a7-97ba-c488f0b2393f",
   "metadata": {},
   "outputs": [],
   "source": [
    "s1.str.contains('og', regex=False)"
   ]
  },
  {
   "cell_type": "code",
   "execution_count": null,
   "id": "af8837ef-7cf4-40ea-9012-a86dad30096d",
   "metadata": {},
   "outputs": [],
   "source": [
    "s1.loc[s1.str.contains('house | parrot', na=False)]"
   ]
  },
  {
   "cell_type": "raw",
   "id": "844ca265-0ee0-4daa-a416-cdc0b4753748",
   "metadata": {
    "scrolled": true
   },
   "source": [
    "# specifying case sensitivity\n",
    "s1.str.contains('oG', case=True, regex=True)"
   ]
  },
  {
   "cell_type": "code",
   "execution_count": null,
   "id": "b790f5ca-b3b1-43b0-a9e7-a6eb5a55a3aa",
   "metadata": {},
   "outputs": [],
   "source": [
    "# Specifying na to be True\n",
    "s1.str.contains('og', na=False, regex=True)"
   ]
  },
  {
   "cell_type": "code",
   "execution_count": null,
   "id": "5504b249-e756-448c-86fa-bab95a3f92ec",
   "metadata": {},
   "outputs": [],
   "source": [
    "# ignoring sensitivity\n",
    "s1.str.contains('PARROT', flags=re.IGNORECASE, regex=True)"
   ]
  },
  {
   "cell_type": "code",
   "execution_count": null,
   "id": "5396c73c-a4e2-4e7d-9645-35b59880a209",
   "metadata": {},
   "outputs": [],
   "source": [
    "s2 = pd.Series(['40', '40.0', '41', '41.0', '35'])"
   ]
  },
  {
   "cell_type": "code",
   "execution_count": null,
   "id": "222b4e4d-f935-4db6-ac32-587c7dd87fda",
   "metadata": {},
   "outputs": [],
   "source": [
    "s2.str.contains('.0', regex=True)"
   ]
  },
  {
   "cell_type": "code",
   "execution_count": null,
   "id": "413c9ba1-f37a-4807-81de-c43ef3168d07",
   "metadata": {},
   "outputs": [],
   "source": [
    "s2.str.contains('//d', regex=True)"
   ]
  },
  {
   "cell_type": "code",
   "execution_count": null,
   "id": "910ead3b-05d7-4a4e-a564-38bd346e7ebf",
   "metadata": {},
   "outputs": [],
   "source": [
    "data"
   ]
  },
  {
   "cell_type": "code",
   "execution_count": null,
   "id": "b8de9af4-2d80-44f1-ac84-37ef7221f672",
   "metadata": {},
   "outputs": [],
   "source": [
    "data_as_string_ext = data.astype('string')"
   ]
  },
  {
   "cell_type": "code",
   "execution_count": null,
   "id": "9bca141e-d51a-4c0d-a338-78013ac4c930",
   "metadata": {},
   "outputs": [],
   "source": [
    "data_as_string_ext"
   ]
  },
  {
   "cell_type": "code",
   "execution_count": null,
   "id": "9d7706c1-b895-4bd6-9b0e-f5de916c797c",
   "metadata": {},
   "outputs": [],
   "source": [
    "data_as_string_ext.str.contains(\"mak\")"
   ]
  },
  {
   "cell_type": "code",
   "execution_count": null,
   "id": "c62353d8-f06a-4b98-8af0-7364c271618b",
   "metadata": {},
   "outputs": [],
   "source": [
    "pattern = r\"([A-Z0-9._%+-]+)@([A-Z0-9.-]+)\\.([A-Z]{2,4})\""
   ]
  },
  {
   "cell_type": "code",
   "execution_count": null,
   "id": "af8627bd-7d96-4be2-b890-958cb2b3c54f",
   "metadata": {},
   "outputs": [],
   "source": [
    "data.str.findall(pattern, flags=re.IGNORECASE)"
   ]
  },
  {
   "cell_type": "code",
   "execution_count": null,
   "id": "4287ac15-a490-45b7-afa4-95dd4c48996a",
   "metadata": {},
   "outputs": [],
   "source": [
    "data.str.findall(pattern, flags=re.IGNORECASE).iloc[0]"
   ]
  },
  {
   "cell_type": "code",
   "execution_count": null,
   "id": "5042d526-740a-46cb-9afe-57bdd128faeb",
   "metadata": {},
   "outputs": [],
   "source": [
    "matches = data.str.findall(pattern, flags=re.IGNORECASE).str[0]"
   ]
  },
  {
   "cell_type": "code",
   "execution_count": null,
   "id": "e68f2968-0d7e-40ce-ba9d-7ce2b0cafd02",
   "metadata": {},
   "outputs": [],
   "source": [
    "matches.str.get(1)"
   ]
  },
  {
   "cell_type": "code",
   "execution_count": null,
   "id": "bea41feb-0d15-47b9-94bf-daf678a0c57f",
   "metadata": {},
   "outputs": [],
   "source": [
    "data.str.extract(pattern, flags=re.IGNORECASE)"
   ]
  },
  {
   "cell_type": "markdown",
   "id": "27ae3e9e-e57b-4545-81b0-c3d1aa3d4a1e",
   "metadata": {},
   "source": [
    "<h1>Categoriacal Data</h1>"
   ]
  },
  {
   "cell_type": "code",
   "execution_count": null,
   "id": "08e38179-880a-48bb-8cf6-13aa1101bda5",
   "metadata": {},
   "outputs": [],
   "source": [
    "values = pd.Series(['apple', 'orange', 'apple','apple']*2)"
   ]
  },
  {
   "cell_type": "code",
   "execution_count": null,
   "id": "72494fcf-87c4-4588-a047-7e3844c5d2ef",
   "metadata": {},
   "outputs": [],
   "source": [
    "values"
   ]
  },
  {
   "cell_type": "code",
   "execution_count": null,
   "id": "d2d7ce57-b252-4d98-8e91-9e1a75213ae7",
   "metadata": {},
   "outputs": [],
   "source": [
    "pd.unique(values)"
   ]
  },
  {
   "cell_type": "code",
   "execution_count": null,
   "id": "9b19212f-2723-4dff-a8d2-00b1d4b84a7f",
   "metadata": {},
   "outputs": [],
   "source": [
    "values = pd.Series([0, 1, 0, 0, 0]*2)"
   ]
  },
  {
   "cell_type": "code",
   "execution_count": null,
   "id": "c6ec98de-1612-4c3a-84fd-ff553c229f0d",
   "metadata": {},
   "outputs": [],
   "source": [
    "values"
   ]
  },
  {
   "cell_type": "code",
   "execution_count": null,
   "id": "adfad559-4409-442b-8a04-469e93a65b86",
   "metadata": {},
   "outputs": [],
   "source": [
    "dim = pd.Series(['apple', 'orange'])"
   ]
  },
  {
   "cell_type": "code",
   "execution_count": null,
   "id": "5119b06c-3d91-4a18-8d8d-834589d68529",
   "metadata": {},
   "outputs": [],
   "source": [
    "dim.take(values)"
   ]
  },
  {
   "cell_type": "code",
   "execution_count": null,
   "id": "7fd0cd88-56c4-4604-93f8-0d35275f8729",
   "metadata": {},
   "outputs": [],
   "source": [
    "fruits = ['apple', 'orange', 'apple', 'apple'] * 2"
   ]
  },
  {
   "cell_type": "code",
   "execution_count": null,
   "id": "06cad6d9-a75b-4974-b5dd-a7d44d67c376",
   "metadata": {},
   "outputs": [],
   "source": [
    "N = len(fruits)"
   ]
  },
  {
   "cell_type": "code",
   "execution_count": null,
   "id": "a96eac99-2758-462f-be6a-2c70d12e3a98",
   "metadata": {},
   "outputs": [],
   "source": [
    "fruits"
   ]
  },
  {
   "cell_type": "code",
   "execution_count": null,
   "id": "28e503c0-d126-4241-b13f-ecbcb5204c2a",
   "metadata": {},
   "outputs": [],
   "source": [
    "rng = np.random.default_rng(seed=1234)"
   ]
  },
  {
   "cell_type": "code",
   "execution_count": null,
   "id": "abac1f6f-29ce-4f4a-a6f3-2e21e356f734",
   "metadata": {},
   "outputs": [],
   "source": [
    "df = pd.DataFrame({'fruit': fruits,\n",
    "                   'basket_id': np.arange(N),\n",
    "                   'count': rng.integers(3, 15, N),\n",
    "                   'weight': rng.uniform(0, 4, size=N)},\n",
    "                  columns=['basket_id', 'fruit', 'count', 'weight'])"
   ]
  },
  {
   "cell_type": "code",
   "execution_count": null,
   "id": "c6df1c89-9d68-499c-b5eb-2718081c6c18",
   "metadata": {},
   "outputs": [],
   "source": [
    "df"
   ]
  },
  {
   "cell_type": "code",
   "execution_count": null,
   "id": "129769a7-3a02-40dd-a1d3-e18e2a079f01",
   "metadata": {},
   "outputs": [],
   "source": [
    "df['fruit']"
   ]
  },
  {
   "cell_type": "code",
   "execution_count": null,
   "id": "0a2a735d-6e61-460d-be3e-a53501fc6797",
   "metadata": {},
   "outputs": [],
   "source": [
    "fruit_cat = df['fruit'].astype('category')"
   ]
  },
  {
   "cell_type": "code",
   "execution_count": null,
   "id": "ea78225e-d4b7-4797-8962-5e45181c1282",
   "metadata": {},
   "outputs": [],
   "source": [
    "fruit_cat"
   ]
  },
  {
   "cell_type": "code",
   "execution_count": null,
   "id": "8e1804ad-e0a3-460a-b3a7-610467a5594d",
   "metadata": {},
   "outputs": [],
   "source": [
    "c = fruit_cat.array"
   ]
  },
  {
   "cell_type": "code",
   "execution_count": null,
   "id": "577fa397-74bd-41a1-bf7d-3df76a0df61d",
   "metadata": {},
   "outputs": [],
   "source": [
    "c"
   ]
  },
  {
   "cell_type": "code",
   "execution_count": null,
   "id": "69f6233f-9bc2-42aa-91b3-802f08db1520",
   "metadata": {},
   "outputs": [],
   "source": [
    "type(c)"
   ]
  },
  {
   "cell_type": "code",
   "execution_count": null,
   "id": "9b0765ee-3e65-4136-98a4-a6fc25ca94fe",
   "metadata": {},
   "outputs": [],
   "source": [
    "c.categories"
   ]
  },
  {
   "cell_type": "code",
   "execution_count": null,
   "id": "5786c88e-ab7b-466a-bb39-50383886e405",
   "metadata": {},
   "outputs": [],
   "source": [
    "c.codes"
   ]
  },
  {
   "cell_type": "markdown",
   "id": "a9ebe9a8-5e4a-4805-a6f5-4f9f2ae25475",
   "metadata": {},
   "source": [
    "<h3>Enumerate</h3>"
   ]
  },
  {
   "cell_type": "code",
   "execution_count": null,
   "id": "fafd86c3-4914-41da-9b24-31639d4d520e",
   "metadata": {},
   "outputs": [],
   "source": [
    "colleges = ['Engineering', 'Natural Sciences', 'Health Sciences', 'Humanities', 'Business Management', 'Veterinary', 'Agriculture']"
   ]
  },
  {
   "cell_type": "code",
   "execution_count": null,
   "id": "d4348fa6-6d48-43ad-b1c9-678adb9554e4",
   "metadata": {},
   "outputs": [],
   "source": [
    "colleges"
   ]
  },
  {
   "cell_type": "code",
   "execution_count": null,
   "id": "95484c83-c53a-47b7-be0c-9fdb50d37fe1",
   "metadata": {},
   "outputs": [],
   "source": [
    "list(enumerate(colleges))"
   ]
  },
  {
   "cell_type": "code",
   "execution_count": null,
   "id": "272e9027-ada8-4895-aac5-f56e1940af47",
   "metadata": {},
   "outputs": [],
   "source": [
    "for index, college in enumerate(colleges):\n",
    "    print(index, college)"
   ]
  },
  {
   "cell_type": "code",
   "execution_count": null,
   "id": "b1c8f7c1-d7ef-422e-90a1-a8aa870c8c2d",
   "metadata": {},
   "outputs": [],
   "source": [
    "dict(enumerate(c.categories))"
   ]
  },
  {
   "cell_type": "code",
   "execution_count": null,
   "id": "e4c43ded-7471-45c4-bc66-9872a40981d9",
   "metadata": {},
   "outputs": [],
   "source": [
    "categories = ['CEDAT', 'CONAS', 'CHS']"
   ]
  },
  {
   "cell_type": "code",
   "execution_count": null,
   "id": "35341668-16ef-4e63-9614-847fcfa73034",
   "metadata": {},
   "outputs": [],
   "source": [
    "codes = [0, 1, 2, 0, 0, 1]"
   ]
  },
  {
   "cell_type": "code",
   "execution_count": null,
   "id": "e409cf8d-c8a2-4b99-a066-ee0e479ee1ba",
   "metadata": {},
   "outputs": [],
   "source": [
    "my_cats = pd.Categorical.from_codes(codes, categories)"
   ]
  },
  {
   "cell_type": "code",
   "execution_count": null,
   "id": "bde3ae8f-4e2f-4106-aecd-71ff5785e367",
   "metadata": {},
   "outputs": [],
   "source": [
    "my_cats"
   ]
  },
  {
   "cell_type": "code",
   "execution_count": null,
   "id": "dde5b45d-e417-4256-9619-b88447c48085",
   "metadata": {},
   "outputs": [],
   "source": [
    "ordered_cat = pd.Categorical.from_codes(codes, categories, ordered=True)"
   ]
  },
  {
   "cell_type": "code",
   "execution_count": null,
   "id": "e7ab2852-6d4d-4cb3-a9f6-473d4b96717f",
   "metadata": {},
   "outputs": [],
   "source": [
    "ordered_cat"
   ]
  },
  {
   "cell_type": "code",
   "execution_count": null,
   "id": "ff9768f8-11ff-420c-be76-170da766ffbb",
   "metadata": {},
   "outputs": [],
   "source": [
    "my_cats.as_ordered()"
   ]
  },
  {
   "cell_type": "code",
   "execution_count": null,
   "id": "780b0352-c806-4bf5-a4db-5df208b4fcd6",
   "metadata": {},
   "outputs": [],
   "source": [
    "draws = rng.standard_normal(1000)"
   ]
  },
  {
   "cell_type": "code",
   "execution_count": null,
   "id": "dacdfe1e-d40c-4236-8c05-ba88d567f252",
   "metadata": {},
   "outputs": [],
   "source": [
    "draws[:5]"
   ]
  },
  {
   "cell_type": "code",
   "execution_count": null,
   "id": "670ca409-3126-4d54-b5de-0eefced78f92",
   "metadata": {},
   "outputs": [],
   "source": [
    "bins = pd.qcut(draws, 4)"
   ]
  },
  {
   "cell_type": "code",
   "execution_count": null,
   "id": "cb1cade7-551f-4828-8673-dc7467c140f0",
   "metadata": {},
   "outputs": [],
   "source": [
    "bins"
   ]
  },
  {
   "cell_type": "code",
   "execution_count": null,
   "id": "d161c0c9-e6e8-434c-8cb1-e1431c62258b",
   "metadata": {},
   "outputs": [],
   "source": [
    "# Using labels\n",
    "bins = pd.qcut(draws, 4, labels=['Q1', 'Q2', 'Q3', 'Q4'])"
   ]
  },
  {
   "cell_type": "code",
   "execution_count": null,
   "id": "61d3a3d4-97df-43fa-9985-3a682dc8341f",
   "metadata": {},
   "outputs": [],
   "source": [
    "bins"
   ]
  },
  {
   "cell_type": "code",
   "execution_count": null,
   "id": "49c13b9b-7cb8-41a4-899a-539d6f1a5334",
   "metadata": {},
   "outputs": [],
   "source": [
    "bins = pd.Series(bins, name='quartile')"
   ]
  },
  {
   "cell_type": "code",
   "execution_count": null,
   "id": "0ad320c2-4d4c-4fe6-9f86-0ee01f708f08",
   "metadata": {},
   "outputs": [],
   "source": [
    "bins"
   ]
  },
  {
   "cell_type": "markdown",
   "id": "49079c36-7236-44b6-9e19-a9ada5a18ca3",
   "metadata": {},
   "source": [
    "<h3>Descriptive Statistics</h3>"
   ]
  },
  {
   "cell_type": "code",
   "execution_count": null,
   "id": "9a464a84-268b-4f99-82b5-109d8f53428b",
   "metadata": {},
   "outputs": [],
   "source": [
    "result = (pd.Series(draws).groupby(bins, observed=True).agg(['count', 'min', 'max']).reset_index())"
   ]
  },
  {
   "cell_type": "code",
   "execution_count": null,
   "id": "e6a89c79-8c60-494f-a68e-7cc64ed431e2",
   "metadata": {},
   "outputs": [],
   "source": [
    "result"
   ]
  },
  {
   "cell_type": "code",
   "execution_count": null,
   "id": "685520f5-7ab0-46b3-baae-71cd8fb21e47",
   "metadata": {},
   "outputs": [],
   "source": [
    "# Advantages of categorical data\n",
    "N = 10_000_000\n",
    "labels = pd.Series(['foo', 'bar', 'baz', 'qux']*(N//4))"
   ]
  },
  {
   "cell_type": "code",
   "execution_count": null,
   "id": "a153936a-01d5-490a-9c29-d0d1496721bd",
   "metadata": {},
   "outputs": [],
   "source": [
    "labels"
   ]
  },
  {
   "cell_type": "code",
   "execution_count": null,
   "id": "3c92971d-a806-424f-8e42-5f135af0513b",
   "metadata": {},
   "outputs": [],
   "source": [
    "categories = labels.astype('category')"
   ]
  },
  {
   "cell_type": "code",
   "execution_count": null,
   "id": "fa5125a6-f65c-43d7-874f-8d707a068684",
   "metadata": {},
   "outputs": [],
   "source": [
    "categories"
   ]
  },
  {
   "cell_type": "code",
   "execution_count": null,
   "id": "04009c87-3d0d-43bb-a14d-643f548fdba1",
   "metadata": {},
   "outputs": [],
   "source": [
    "labels.memory_usage(deep=True)"
   ]
  },
  {
   "cell_type": "code",
   "execution_count": null,
   "id": "a7231bf1-f1be-4cf6-9a6e-0c5c7d12b352",
   "metadata": {},
   "outputs": [],
   "source": [
    "categories.memory_usage(deep=True)"
   ]
  },
  {
   "cell_type": "code",
   "execution_count": null,
   "id": "60e404c1-9c22-484c-8d91-2b00418c1717",
   "metadata": {},
   "outputs": [],
   "source": [
    "# Labels use more memory than categories"
   ]
  },
  {
   "cell_type": "code",
   "execution_count": null,
   "id": "3d83c083-ecaf-410e-b8a5-9ea80e66cdcc",
   "metadata": {},
   "outputs": [],
   "source": [
    "%time _ = labels.astype('category')"
   ]
  },
  {
   "cell_type": "code",
   "execution_count": null,
   "id": "db1b889d-f2e0-4fd5-9872-b92b9b3a3d4c",
   "metadata": {},
   "outputs": [],
   "source": [
    "%timeit labels.value_counts()"
   ]
  },
  {
   "cell_type": "code",
   "execution_count": null,
   "id": "8a3f1a2d-ed16-4d0a-97e5-d41317b0eb44",
   "metadata": {},
   "outputs": [],
   "source": [
    "%timeit categories.value_counts()"
   ]
  },
  {
   "cell_type": "code",
   "execution_count": null,
   "id": "5fc3d4cf-b5a7-4f06-85b5-6ecfce0da22c",
   "metadata": {},
   "outputs": [],
   "source": [
    "# categories take a significantly shorter time than labels"
   ]
  },
  {
   "cell_type": "markdown",
   "id": "06b31470-33f0-4b3f-8cc9-2553355ca0a9",
   "metadata": {},
   "source": [
    "<h3>Categorical methods</h3>"
   ]
  },
  {
   "cell_type": "code",
   "execution_count": null,
   "id": "a3b68c1a-0cd7-4098-92e3-48b587046ad3",
   "metadata": {},
   "outputs": [],
   "source": [
    "s = pd.Series(['a', 'b', 'c', 'd']*2)"
   ]
  },
  {
   "cell_type": "code",
   "execution_count": null,
   "id": "b3f4bc10-30c9-4ef5-97ae-904f9113fe94",
   "metadata": {},
   "outputs": [],
   "source": [
    "cat_s = s.astype('category')"
   ]
  },
  {
   "cell_type": "code",
   "execution_count": null,
   "id": "166c41c3-93d8-4e14-8189-088af1ed3e22",
   "metadata": {},
   "outputs": [],
   "source": [
    "cat_s"
   ]
  },
  {
   "cell_type": "code",
   "execution_count": null,
   "id": "d9d799d2-482f-422a-ad49-e7ed46535c02",
   "metadata": {},
   "outputs": [],
   "source": [
    "cat_s.cat.codes"
   ]
  },
  {
   "cell_type": "code",
   "execution_count": null,
   "id": "b4842963-198a-4dd6-accd-3cf3dd76a634",
   "metadata": {},
   "outputs": [],
   "source": [
    "cat_s.cat.categories"
   ]
  },
  {
   "cell_type": "code",
   "execution_count": null,
   "id": "267cb52a-0579-4113-98aa-7b6ec50bed38",
   "metadata": {},
   "outputs": [],
   "source": [
    "# setting categories\n",
    "actual_categories = ['a', 'b', 'c', 'd', 'e']"
   ]
  },
  {
   "cell_type": "code",
   "execution_count": null,
   "id": "a5a1b6f2-9373-4aa2-b8c6-b6c5bf9d800e",
   "metadata": {},
   "outputs": [],
   "source": [
    "# set categories beyond the observed categories in data\n",
    "cat_s2 = cat_s.cat.set_categories(actual_categories)"
   ]
  },
  {
   "cell_type": "code",
   "execution_count": null,
   "id": "11425a76-0925-4f56-b483-20ee47433b32",
   "metadata": {},
   "outputs": [],
   "source": [
    "cat_s2"
   ]
  },
  {
   "cell_type": "code",
   "execution_count": null,
   "id": "7c74aec3-f351-4aaf-beb7-d3e775a0b04f",
   "metadata": {},
   "outputs": [],
   "source": [
    "cat_s.value_counts()"
   ]
  },
  {
   "cell_type": "code",
   "execution_count": null,
   "id": "c3d4c359-64dd-4dcd-aa69-1969d2c03b29",
   "metadata": {},
   "outputs": [],
   "source": [
    "cat_s2.value_counts()"
   ]
  },
  {
   "cell_type": "code",
   "execution_count": null,
   "id": "603a7209-ba0a-430c-985a-9c0fb080a3b0",
   "metadata": {},
   "outputs": [],
   "source": [
    "cat_s3 = cat_s[cat_s.isin(['a', 'b'])]"
   ]
  },
  {
   "cell_type": "code",
   "execution_count": null,
   "id": "ea9a7d2a-45a9-4b27-8a18-fa9a30c28d16",
   "metadata": {},
   "outputs": [],
   "source": [
    "cat_s3"
   ]
  },
  {
   "cell_type": "code",
   "execution_count": null,
   "id": "9ee28f20-9346-4b35-9d37-baeab7764003",
   "metadata": {},
   "outputs": [],
   "source": [
    "# Removing unused categories\n",
    "cat_s3.cat.remove_unused_categories()"
   ]
  },
  {
   "cell_type": "code",
   "execution_count": null,
   "id": "f9680923-3ab8-4c31-aa16-ca7decde722a",
   "metadata": {},
   "outputs": [],
   "source": [
    "# dummy variables\n",
    "cat_s = pd.Series(['a', 'b', 'c', 'd']*2, dtype='category')"
   ]
  },
  {
   "cell_type": "code",
   "execution_count": null,
   "id": "4b632e36-62a7-4f62-8e4c-1ed2ad675774",
   "metadata": {},
   "outputs": [],
   "source": [
    "cat_s"
   ]
  },
  {
   "cell_type": "code",
   "execution_count": null,
   "id": "f9417d07-342c-4bd3-a866-625fe0d902a3",
   "metadata": {},
   "outputs": [],
   "source": [
    "pd.get_dummies(cat_s)"
   ]
  },
  {
   "cell_type": "markdown",
   "id": "8e15e0ae-5f99-4d05-8d35-1c677e8efd3a",
   "metadata": {},
   "source": [
    "<h1>Data Wrangling: Join, Combine, and Reshape</h1>"
   ]
  },
  {
   "cell_type": "code",
   "execution_count": null,
   "id": "4bc66bd1-9e65-41da-87c7-77c1171536b0",
   "metadata": {},
   "outputs": [],
   "source": [
    "data = pd.Series(np.random.uniform(size=9),\n",
    "                 index=[['a', 'a', 'a', 'b', 'b', 'c', 'c', 'd', 'd'],\n",
    "                        [1, 2, 3, 1, 3, 1, 2, 2, 3]])"
   ]
  },
  {
   "cell_type": "code",
   "execution_count": null,
   "id": "eb0ec36e-477d-42a8-aba8-2da30d028c8b",
   "metadata": {},
   "outputs": [],
   "source": [
    "data"
   ]
  },
  {
   "cell_type": "code",
   "execution_count": null,
   "id": "4bdba165-d8d0-4805-9a51-d3d3921e9799",
   "metadata": {},
   "outputs": [],
   "source": [
    "data.index"
   ]
  },
  {
   "cell_type": "code",
   "execution_count": null,
   "id": "071666eb-f39a-497d-982e-a1d871376a0e",
   "metadata": {},
   "outputs": [],
   "source": [
    "data['b']"
   ]
  },
  {
   "cell_type": "code",
   "execution_count": null,
   "id": "9c5a0212-3d23-4623-93b2-18a146647f21",
   "metadata": {},
   "outputs": [],
   "source": [
    "data['a':'b']"
   ]
  },
  {
   "cell_type": "code",
   "execution_count": null,
   "id": "a004b64c-5c53-44fa-b28b-2c9f65d0c3f9",
   "metadata": {},
   "outputs": [],
   "source": [
    "data[['a', 'd']]"
   ]
  },
  {
   "cell_type": "code",
   "execution_count": null,
   "id": "ab2d615a-5766-4a5c-862b-615a917cec9c",
   "metadata": {},
   "outputs": [],
   "source": [
    "data.loc[:, 3]"
   ]
  },
  {
   "cell_type": "code",
   "execution_count": null,
   "id": "a0e1a610-e0d8-4054-80b1-fbc8ee8ae3fc",
   "metadata": {},
   "outputs": [],
   "source": [
    "data.unstack()"
   ]
  },
  {
   "cell_type": "code",
   "execution_count": null,
   "id": "78d17d9b-e849-462e-80e9-3df8ee53e68f",
   "metadata": {},
   "outputs": [],
   "source": [
    "data"
   ]
  },
  {
   "cell_type": "code",
   "execution_count": null,
   "id": "b2d07326-1d0f-451a-8196-daa2895dfcf9",
   "metadata": {},
   "outputs": [],
   "source": [
    "data.unstack()"
   ]
  },
  {
   "cell_type": "code",
   "execution_count": null,
   "id": "f0837cff-7528-4144-9ddd-62b159a48e72",
   "metadata": {},
   "outputs": [],
   "source": [
    "# Reversing the stack operation\n",
    "data.unstack().stack()"
   ]
  },
  {
   "cell_type": "code",
   "execution_count": null,
   "id": "c7d2f60b-b836-4bd7-9191-126b55ad836e",
   "metadata": {},
   "outputs": [],
   "source": [
    "frame = pd.DataFrame(np.arange(12).reshape((4, 3)),\n",
    "                     index=[['a', 'a', 'b', 'c'],\n",
    "                            [1, 2, 1, 2]],\n",
    "                     columns=[[\"Kampala\", \"Iganga\", \"Iganga\"],\n",
    "                              [\"Green\", \"Orange\", \"Orange\"]])"
   ]
  },
  {
   "cell_type": "code",
   "execution_count": null,
   "id": "790aaee8-92e2-4a37-bd38-d0545731c23c",
   "metadata": {},
   "outputs": [],
   "source": [
    "frame"
   ]
  },
  {
   "cell_type": "code",
   "execution_count": null,
   "id": "de809e80-67db-4683-bef9-6f437d770a65",
   "metadata": {},
   "outputs": [],
   "source": [
    "frame.index.names = [\"key 1\", \"key 2\"]"
   ]
  },
  {
   "cell_type": "code",
   "execution_count": null,
   "id": "829ee1af-ddf9-4921-b5e5-35d8d8a0c5f8",
   "metadata": {},
   "outputs": [],
   "source": [
    "frame.columns.names = [\"City\", \"Color\"]"
   ]
  },
  {
   "cell_type": "code",
   "execution_count": null,
   "id": "f0e4da04-191a-4cc8-8fa7-4508dd6c2dba",
   "metadata": {},
   "outputs": [],
   "source": [
    "frame"
   ]
  },
  {
   "cell_type": "code",
   "execution_count": null,
   "id": "11c7f65a-0f9d-4b65-b9b0-8b8a3ef34e2b",
   "metadata": {},
   "outputs": [],
   "source": [
    "# number of the frame index level\n",
    "frame.index.nlevels"
   ]
  },
  {
   "cell_type": "code",
   "execution_count": null,
   "id": "c98b7d2a-5caa-47ec-b5a6-e0de8cdce37d",
   "metadata": {},
   "outputs": [],
   "source": [
    "# number of frame column level\n",
    "frame.columns.nlevels"
   ]
  },
  {
   "cell_type": "code",
   "execution_count": null,
   "id": "604578c6-b865-4a4d-bb2d-1eb5a81f3592",
   "metadata": {},
   "outputs": [],
   "source": [
    "frame['Iganga']"
   ]
  },
  {
   "cell_type": "code",
   "execution_count": null,
   "id": "b91b04ad-bfeb-48d8-916b-ac0666028816",
   "metadata": {},
   "outputs": [],
   "source": [
    "frame.swaplevel(\"key 1\", \"key 2\")"
   ]
  },
  {
   "cell_type": "code",
   "execution_count": null,
   "id": "75c09b17-3c82-4d66-b59e-595fd9e11955",
   "metadata": {},
   "outputs": [],
   "source": [
    "frame.swaplevel(0, 1).sort_index(level=0)"
   ]
  },
  {
   "cell_type": "code",
   "execution_count": null,
   "id": "5558f3a2-5cff-413e-94ed-9061d3056460",
   "metadata": {},
   "outputs": [],
   "source": [
    "frame.groupby(level=\"key 2\").sum()"
   ]
  },
  {
   "cell_type": "code",
   "execution_count": null,
   "id": "bf4ac03c-6647-4550-8318-d6ca259a1835",
   "metadata": {},
   "outputs": [],
   "source": [
    "frame.T.groupby(level=\"Color\").sum()"
   ]
  },
  {
   "cell_type": "code",
   "execution_count": null,
   "id": "65490356-f407-4076-9563-041f33e698f3",
   "metadata": {},
   "outputs": [],
   "source": [
    "frame = pd.DataFrame({\"a\": range(7),\n",
    "                      \"b\": range(7, 0, -1),\n",
    "                      \"c\": [\"one\", \"one\", \"one\", \"two\", \"two\", \"two\", \"two\"],\n",
    "                      \"d\": [0, 1, 2, 0, 1, 2, 3]})"
   ]
  },
  {
   "cell_type": "code",
   "execution_count": null,
   "id": "4e4d4f8c-4041-4009-bb6b-7a7f67ae70da",
   "metadata": {},
   "outputs": [],
   "source": [
    "frame"
   ]
  },
  {
   "cell_type": "code",
   "execution_count": null,
   "id": "f8345546-b701-43f5-a924-3e687533fd03",
   "metadata": {},
   "outputs": [],
   "source": [
    "frame2 = frame.set_index([\"c\", \"d\"])"
   ]
  },
  {
   "cell_type": "code",
   "execution_count": null,
   "id": "69a9e4d2-7c89-43df-961f-2cad95a2dfaa",
   "metadata": {},
   "outputs": [],
   "source": [
    "frame2"
   ]
  },
  {
   "cell_type": "code",
   "execution_count": null,
   "id": "55d7ab25-1e87-4969-8ed1-1b2a151b6ff1",
   "metadata": {},
   "outputs": [],
   "source": [
    "frame = frame.set_index(['c', 'd'],\n",
    "                # drop=False,\n",
    "               # append=True,\n",
    "               )"
   ]
  },
  {
   "cell_type": "code",
   "execution_count": null,
   "id": "d2ce7c4e-2a0c-44a7-b751-79d916f482f3",
   "metadata": {},
   "outputs": [],
   "source": [
    "frame.reset_index(\n",
    "                inplace=True\n",
    "                 )"
   ]
  },
  {
   "cell_type": "code",
   "execution_count": null,
   "id": "f6e430da-9539-450b-b666-5ca031baff5e",
   "metadata": {},
   "outputs": [],
   "source": [
    "frame"
   ]
  },
  {
   "cell_type": "markdown",
   "id": "321077ff-2d6a-44d9-b130-72e71ad10d95",
   "metadata": {},
   "source": [
    "<h3>Combining and Merging Data</h3>"
   ]
  },
  {
   "cell_type": "code",
   "execution_count": null,
   "id": "314b6562-bedd-456b-91fe-2df5a297c59c",
   "metadata": {},
   "outputs": [],
   "source": [
    "df1 = pd.DataFrame({\"key\": [\"b\", \"b\", \"a\", \"c\", \"a\", \"a\", \"b\"],\n",
    "                    \"data1\": pd.Series(range(7), dtype=\"Int64\")})"
   ]
  },
  {
   "cell_type": "code",
   "execution_count": null,
   "id": "a5b1507c-67e1-4582-8710-efd6255497b2",
   "metadata": {},
   "outputs": [],
   "source": [
    "df2 = pd.DataFrame({\"key\": [\"a\", \"b\", \"d\"],\n",
    "                    \"data2\": pd.Series(range(3),\n",
    "                                             dtype=\"Int64\")})                    "
   ]
  },
  {
   "cell_type": "code",
   "execution_count": null,
   "id": "bff0ea5e-4230-4de3-b1ce-d897d2d1345c",
   "metadata": {},
   "outputs": [],
   "source": [
    "df1"
   ]
  },
  {
   "cell_type": "code",
   "execution_count": null,
   "id": "f071ecdf-ffe1-4e2e-8768-5ebdb5cf0c3b",
   "metadata": {},
   "outputs": [],
   "source": [
    "df2"
   ]
  },
  {
   "cell_type": "code",
   "execution_count": null,
   "id": "4b36d3ff-98d9-4ab0-b8d7-967908235750",
   "metadata": {},
   "outputs": [],
   "source": [
    "pd.merge(df1, df2,\n",
    "         on=\"key\",\n",
    "         how=\"right\"\n",
    "        )"
   ]
  },
  {
   "cell_type": "code",
   "execution_count": null,
   "id": "8ce0fbc3-45c8-4f88-a704-cd49afd6079f",
   "metadata": {},
   "outputs": [],
   "source": [
    "df1 = pd.DataFrame({\"key\": [\"b\", \"b\", \"a\", \"c\", \"a\", \"b\"],\n",
    "                    \"data1\": pd.Series(range(6), dtype=\"Int64\")})"
   ]
  },
  {
   "cell_type": "code",
   "execution_count": null,
   "id": "0562bcbe-f790-455c-adae-56b0af897c58",
   "metadata": {},
   "outputs": [],
   "source": [
    "df2 = pd.DataFrame({\"key\": ['a', 'b', 'a', 'b', 'd'],\n",
    "                    \"data2\": pd.Series(range(5),\n",
    "                                       dtype=\"Int64\")})"
   ]
  },
  {
   "cell_type": "code",
   "execution_count": null,
   "id": "0a6e3572-2555-46da-8874-09dd9ee80f33",
   "metadata": {},
   "outputs": [],
   "source": [
    "df1"
   ]
  },
  {
   "cell_type": "code",
   "execution_count": null,
   "id": "469cf179-bdf0-40e9-a74a-94f4559e1eb2",
   "metadata": {},
   "outputs": [],
   "source": [
    "df2"
   ]
  },
  {
   "cell_type": "code",
   "execution_count": null,
   "id": "49e7ccb8-c967-4c81-a7c2-89749b845ef5",
   "metadata": {},
   "outputs": [],
   "source": [
    "pd.merge(df1, df2, on=\"key\", how=\"left\")"
   ]
  },
  {
   "cell_type": "markdown",
   "id": "c05b70a4-4b33-42c8-ac12-d2a19a29ccce",
   "metadata": {},
   "source": [
    "<h3>Merging on Index</h3>"
   ]
  },
  {
   "cell_type": "code",
   "execution_count": null,
   "id": "ad30b189-868c-4c2a-80eb-8ebae462eca0",
   "metadata": {},
   "outputs": [],
   "source": [
    "left1 = pd.DataFrame({\"key\": ['a', 'b', 'a', 'a', 'b', 'c'],\n",
    "                      \"value\": pd.Series(range(6), dtype='Int64')})"
   ]
  },
  {
   "cell_type": "code",
   "execution_count": null,
   "id": "508c426d-5f11-45de-b4e3-f680ba2ac72c",
   "metadata": {},
   "outputs": [],
   "source": [
    "left1"
   ]
  },
  {
   "cell_type": "code",
   "execution_count": null,
   "id": "ace88d13-3012-43ff-9237-4c35fad0d0fa",
   "metadata": {},
   "outputs": [],
   "source": [
    "right1 = pd.DataFrame({\"group_val\": [3.5, 7]}, index=[\"a\", \"b\"])"
   ]
  },
  {
   "cell_type": "code",
   "execution_count": null,
   "id": "4b4be30b-ec31-4b5c-a20e-2b1cfe20e0da",
   "metadata": {},
   "outputs": [],
   "source": [
    "right1"
   ]
  },
  {
   "cell_type": "code",
   "execution_count": null,
   "id": "dc9d9416-9e12-434e-82e4-39d584283d44",
   "metadata": {},
   "outputs": [],
   "source": [
    "pd.merge(left1, right1, left_on=\"key\",\n",
    "         right_index=True,\n",
    "        )"
   ]
  },
  {
   "cell_type": "code",
   "execution_count": null,
   "id": "401d2611-744a-4ab3-82b6-3b0a60edb08b",
   "metadata": {},
   "outputs": [],
   "source": [
    "# Merging on multilevel indexes\n",
    "lefth = pd.DataFrame({\"key1\": [\"Ohio\", \"Ohio\", \"Ohio\", \"Nevada\", \"Nevada\"],\n",
    "                      \"key2\": [2000, 2001, 2002, 2001, 2002],\n",
    "                      \"data\": pd.Series(range(5), dtype=\"Int64\")})"
   ]
  },
  {
   "cell_type": "code",
   "execution_count": null,
   "id": "841b29e7-96f7-43a1-99b1-45dc3b56e905",
   "metadata": {},
   "outputs": [],
   "source": [
    "lefth"
   ]
  },
  {
   "cell_type": "code",
   "execution_count": null,
   "id": "2ef8bfdf-185f-4e5f-9d3a-12cf867ad911",
   "metadata": {},
   "outputs": [],
   "source": [
    "righth_index = pd.MultiIndex.from_arrays([[\"Nevada\", \"Nevada\", \"Ohio\", \"Ohio\", \"Ohio\", \"Ohio\"],\n",
    "                                        [2001, 2000, 2000, 2001, 2001, 2002]])"
   ]
  },
  {
   "cell_type": "code",
   "execution_count": null,
   "id": "fc07a584-ad11-4d97-a496-442229ce3019",
   "metadata": {},
   "outputs": [],
   "source": [
    "righth_index"
   ]
  },
  {
   "cell_type": "code",
   "execution_count": null,
   "id": "9895b3f2-b786-43a1-9c0c-dc14958565b6",
   "metadata": {},
   "outputs": [],
   "source": [
    "righth = pd.DataFrame({\"event1\": pd.Series([0, 2, 4, 6, 8, 10], dtype=\"Int64\", index=righth_index),\n",
    "                       \"event2\": pd.Series([1, 3, 5, 7, 9, 11], dtype=\"Int64\",\n",
    "                       index=righth_index)\n",
    "                      })"
   ]
  },
  {
   "cell_type": "code",
   "execution_count": null,
   "id": "8ab23333-fc15-4dea-bb4d-05527932769a",
   "metadata": {},
   "outputs": [],
   "source": [
    "righth"
   ]
  },
  {
   "cell_type": "code",
   "execution_count": null,
   "id": "7859bdd6-43a3-4ed9-ae1c-5c34cd4bffd9",
   "metadata": {},
   "outputs": [],
   "source": [
    "pd.merge(lefth, righth, left_on=[\"key1\", \"key2\"],\n",
    "         right_index=True)"
   ]
  },
  {
   "cell_type": "code",
   "execution_count": null,
   "id": "478f449a-1248-473f-831a-884c772ea976",
   "metadata": {},
   "outputs": [],
   "source": [
    "pd.merge(lefth, righth, left_on=[\"key1\", \"key2\"],\n",
    "         right_index=True,\n",
    "        how=\"outer\")"
   ]
  },
  {
   "cell_type": "code",
   "execution_count": null,
   "id": "eb5d1a29-99d9-46c7-bd0f-6a8d64f27f65",
   "metadata": {},
   "outputs": [],
   "source": [
    "left2 = pd.DataFrame([[1., 2.], [3., 4.], [5., 6.]],\n",
    "                     index=[\"a\", \"c\", \"e\"],\n",
    "                     columns=[\"Ohio\", \"Nevada\"]).astype(\"Int64\")"
   ]
  },
  {
   "cell_type": "code",
   "execution_count": null,
   "id": "1faef13e-0112-4806-a22f-d8ac9477ce05",
   "metadata": {},
   "outputs": [],
   "source": [
    "left2"
   ]
  },
  {
   "cell_type": "code",
   "execution_count": null,
   "id": "0c6dfc7d-25d2-4d47-b331-76b6cba51d37",
   "metadata": {},
   "outputs": [],
   "source": [
    "right2 = pd.DataFrame([[7., 8.], [9., 10.], [11., 12.], [13., 14.]],\n",
    "                      index=[\"b\", \"c\", \"d\", \"e\"],\n",
    "                      columns=[\"Missouri\", \"Alabama\"]\n",
    "                     ).astype(\"Int64\")"
   ]
  },
  {
   "cell_type": "code",
   "execution_count": null,
   "id": "b88dbf4a-f7a9-40af-b8a0-bd08ba7ac5f9",
   "metadata": {},
   "outputs": [],
   "source": [
    "right2"
   ]
  },
  {
   "cell_type": "code",
   "execution_count": null,
   "id": "c585c2f8-eee2-45a2-b82e-ea1fc49de98f",
   "metadata": {},
   "outputs": [],
   "source": [
    "pd.merge(left2, right2,\n",
    "         how=\"outer\",\n",
    "         left_index=True,\n",
    "         right_index=True,\n",
    "        )"
   ]
  },
  {
   "cell_type": "code",
   "execution_count": null,
   "id": "097ca660-31de-4366-a92c-42d1b1fd3c5e",
   "metadata": {},
   "outputs": [],
   "source": [
    "# Join\n",
    "left2.join(right2, how=\"outer\")"
   ]
  },
  {
   "cell_type": "code",
   "execution_count": null,
   "id": "27c83078-953f-4b54-92c1-55d57af69241",
   "metadata": {},
   "outputs": [],
   "source": [
    "left1"
   ]
  },
  {
   "cell_type": "code",
   "execution_count": null,
   "id": "4a447012-cdc9-4a3c-ae4e-fe9066b1cb5d",
   "metadata": {},
   "outputs": [],
   "source": [
    "right1"
   ]
  },
  {
   "cell_type": "code",
   "execution_count": null,
   "id": "f62a2081-54ae-4c68-a815-d24892383f59",
   "metadata": {},
   "outputs": [],
   "source": [
    "left1.join(right1, on=\"key\")"
   ]
  },
  {
   "cell_type": "code",
   "execution_count": null,
   "id": "46a2973f-697b-457b-ab1d-38b77a4515eb",
   "metadata": {},
   "outputs": [],
   "source": [
    "another = pd.DataFrame([[7., 8.], [9., 10.], [11., 12.], [16., 17.]],\n",
    "                       index=['a', 'c', 'e', 'f'],\n",
    "                       columns=['New York', 'Oregon'])"
   ]
  },
  {
   "cell_type": "code",
   "execution_count": null,
   "id": "0b5ec6ee-f982-41ee-9bf3-5a25b26de29e",
   "metadata": {},
   "outputs": [],
   "source": [
    "another"
   ]
  },
  {
   "cell_type": "code",
   "execution_count": null,
   "id": "378dc024-5547-41c7-8414-afb4a402882c",
   "metadata": {},
   "outputs": [],
   "source": [
    "left2.join([right2, another])"
   ]
  },
  {
   "cell_type": "code",
   "execution_count": null,
   "id": "0e57bdfd-d40d-478c-8ab6-427487eee2ca",
   "metadata": {},
   "outputs": [],
   "source": [
    "left2.join([right2, another],\n",
    "           how=\"outer\")"
   ]
  },
  {
   "cell_type": "markdown",
   "id": "82172bb2-65ce-4fde-b9ad-31880f714881",
   "metadata": {},
   "source": [
    "<h3>Concatenation</h3>"
   ]
  },
  {
   "cell_type": "code",
   "execution_count": null,
   "id": "0166719f-b5b7-4db9-9524-1b5e74d3e8fc",
   "metadata": {},
   "outputs": [],
   "source": [
    "arr = np.arange(12).reshape((3, 4))"
   ]
  },
  {
   "cell_type": "code",
   "execution_count": null,
   "id": "e17920d0-3893-4802-93cf-dd2ba930e310",
   "metadata": {},
   "outputs": [],
   "source": [
    "arr"
   ]
  },
  {
   "cell_type": "code",
   "execution_count": null,
   "id": "df9d21af-c18b-40ce-a9c1-d000e6f6918b",
   "metadata": {},
   "outputs": [],
   "source": [
    "np.concatenate([arr, arr], axis=1)"
   ]
  },
  {
   "cell_type": "code",
   "execution_count": null,
   "id": "2646cfbd-f439-4690-8b85-a6f30bf8f7da",
   "metadata": {},
   "outputs": [],
   "source": [
    "s1 = pd.Series([0, 1], index=['a', 'b'], dtype=\"Int64\")"
   ]
  },
  {
   "cell_type": "code",
   "execution_count": null,
   "id": "a6bb6eaa-d72f-496f-af8a-3ec476a30db1",
   "metadata": {},
   "outputs": [],
   "source": [
    "s2 = pd.Series([2, 3, 4], index=['c', 'd', 'e'], dtype=\"Int64\")"
   ]
  },
  {
   "cell_type": "code",
   "execution_count": null,
   "id": "e0ebb019-7ea3-4e6b-918c-e39d75b1ac18",
   "metadata": {},
   "outputs": [],
   "source": [
    "s3 = pd.Series([5, 6], index=[\"f\", \"g\"], dtype=\"Int64\")"
   ]
  },
  {
   "cell_type": "code",
   "execution_count": null,
   "id": "303c0361-58c0-434d-9f28-7acc52f4c35d",
   "metadata": {},
   "outputs": [],
   "source": [
    "s1"
   ]
  },
  {
   "cell_type": "code",
   "execution_count": null,
   "id": "05f3d0ad-f8bc-4ca3-8bb9-7180375e13e6",
   "metadata": {},
   "outputs": [],
   "source": [
    "s2"
   ]
  },
  {
   "cell_type": "code",
   "execution_count": null,
   "id": "b314ed03-e721-4af5-babf-6c3f79f95ef8",
   "metadata": {},
   "outputs": [],
   "source": [
    "s3"
   ]
  },
  {
   "cell_type": "code",
   "execution_count": null,
   "id": "3ef61040-2d24-46ba-a98d-19a3e5785e66",
   "metadata": {},
   "outputs": [],
   "source": [
    "pd.concat([s1, s2, s3])"
   ]
  },
  {
   "cell_type": "code",
   "execution_count": null,
   "id": "57a9d0c5-0484-4ca7-b621-ea02d4c02825",
   "metadata": {},
   "outputs": [],
   "source": [
    "# Concatenating along the columns\n",
    "pd.concat([s1, s1, s3], axis=1)"
   ]
  },
  {
   "cell_type": "code",
   "execution_count": null,
   "id": "929c9049-478a-4152-ad83-185564307440",
   "metadata": {},
   "outputs": [],
   "source": [
    "pd.concat([s1, s2, s3], axis=\"columns\")"
   ]
  },
  {
   "cell_type": "code",
   "execution_count": null,
   "id": "97f831f6-f924-4882-bc3b-f287869e3ab2",
   "metadata": {},
   "outputs": [],
   "source": [
    "s4 = pd.concat([s1, s3], axis=\"columns\", join=\"inner\")"
   ]
  },
  {
   "cell_type": "code",
   "execution_count": null,
   "id": "2af5eb0a-6091-45f9-a3c8-d0735a90c18b",
   "metadata": {},
   "outputs": [],
   "source": [
    "s4"
   ]
  },
  {
   "cell_type": "code",
   "execution_count": null,
   "id": "661f5097-71ff-4063-92d7-8d1dc820e03f",
   "metadata": {},
   "outputs": [],
   "source": [
    "result = pd.concat([s1, s1, s3], keys=['one', 'two', 'three'])"
   ]
  },
  {
   "cell_type": "code",
   "execution_count": null,
   "id": "0a99fc89-8a70-4cd4-b2d2-c5a8c6435118",
   "metadata": {},
   "outputs": [],
   "source": [
    "result"
   ]
  },
  {
   "cell_type": "code",
   "execution_count": null,
   "id": "7878a6a9-b08b-4baf-ba97-8f901110df82",
   "metadata": {},
   "outputs": [],
   "source": [
    "result.unstack()"
   ]
  },
  {
   "cell_type": "code",
   "execution_count": null,
   "id": "407a577a-564d-456d-abfd-409d4d83affd",
   "metadata": {},
   "outputs": [],
   "source": [
    "df1 = pd.DataFrame(np.arange(6).reshape(3, 2),\n",
    "                   index=['a', 'b', 'c'],\n",
    "                   columns=['one', 'two'])"
   ]
  },
  {
   "cell_type": "code",
   "execution_count": null,
   "id": "26a8f4f8-20fb-40b7-9ddf-0c57495151f6",
   "metadata": {},
   "outputs": [],
   "source": [
    "df1"
   ]
  },
  {
   "cell_type": "code",
   "execution_count": null,
   "id": "6fb05cea-a1f0-4de5-b4ec-55a4ffea4a23",
   "metadata": {},
   "outputs": [],
   "source": [
    "df2 = pd.DataFrame(5 + np.arange(4).reshape(2,2), index=['a', 'c'],\n",
    "                   columns=['three', 'four'])"
   ]
  },
  {
   "cell_type": "code",
   "execution_count": null,
   "id": "2386737b-2f1f-46b3-8c67-8bde80bf4b53",
   "metadata": {},
   "outputs": [],
   "source": [
    "df2"
   ]
  },
  {
   "cell_type": "code",
   "execution_count": null,
   "id": "f459bb64-925f-428f-a097-de88f63af097",
   "metadata": {},
   "outputs": [],
   "source": [
    "pd.concat([df1, df2], \n",
    "          axis=\"columns\", \n",
    "          keys=[\"level1\", \"level2\"],\n",
    "         # join=\"inner\",\n",
    "          # ignore_index=True,\n",
    "         )"
   ]
  },
  {
   "cell_type": "code",
   "execution_count": null,
   "id": "9c860bc9-5683-46ad-988e-1d0443a86afb",
   "metadata": {},
   "outputs": [],
   "source": [
    "pd.concat({\"level1\": df1,\n",
    "           \"level2\": df2},\n",
    "          axis=\"columns\",\n",
    "         join=\"inner\")"
   ]
  },
  {
   "cell_type": "code",
   "execution_count": null,
   "id": "b12dfe42-80a5-47bc-bb0c-ffd8e49818f3",
   "metadata": {},
   "outputs": [],
   "source": [
    "pd.concat([df1, df2],\n",
    "          axis=\"columns\",\n",
    "          keys=[\"level1\", \"level2\"],\n",
    "          names=[\"upper\", \"lower\"])"
   ]
  },
  {
   "cell_type": "code",
   "execution_count": null,
   "id": "306c86c1-3dba-454e-ae76-7442c40e9f07",
   "metadata": {},
   "outputs": [],
   "source": [
    "df1 = pd.DataFrame(np.random.standard_normal((3, 4)),\n",
    "                   columns=['a', 'b', 'c', 'd'])"
   ]
  },
  {
   "cell_type": "code",
   "execution_count": null,
   "id": "0562f51e-8f38-4b90-9ac5-b69e81713ee7",
   "metadata": {},
   "outputs": [],
   "source": [
    "df2 = pd.DataFrame(np.random.standard_normal((2, 3)),\n",
    "                   columns=['b', 'd', 'a'])"
   ]
  },
  {
   "cell_type": "code",
   "execution_count": null,
   "id": "d1107ff7-4707-4d61-a532-0dfcd13f2838",
   "metadata": {},
   "outputs": [],
   "source": [
    "df1"
   ]
  },
  {
   "cell_type": "code",
   "execution_count": null,
   "id": "e10eebf3-61ac-4141-bd97-ebef98886d46",
   "metadata": {},
   "outputs": [],
   "source": [
    "df2"
   ]
  },
  {
   "cell_type": "code",
   "execution_count": null,
   "id": "1d3ed6ca-ae53-483b-95d3-492836a7e912",
   "metadata": {},
   "outputs": [],
   "source": [
    "pd.concat([df1, df2],\n",
    "         ignore_index=True,\n",
    "         )"
   ]
  },
  {
   "cell_type": "code",
   "execution_count": null,
   "id": "3848dd80-5dce-43a7-af5d-744cdfa86145",
   "metadata": {},
   "outputs": [],
   "source": [
    "# overlap\n",
    "a = pd.Series([np.nan, 2.5, 0.0, 3.5, 4.5, np.nan],\n",
    "              index=['f', 'e', 'd', 'c', 'b', 'a'])"
   ]
  },
  {
   "cell_type": "code",
   "execution_count": null,
   "id": "a9f2a19c-4563-47d6-a475-31ad8e83ba53",
   "metadata": {},
   "outputs": [],
   "source": [
    "b = pd.Series([0., np.nan, 2., np.nan, np.nan, 5],\n",
    "              index=['a', 'b', 'c', 'd', 'e', 'f'])"
   ]
  },
  {
   "cell_type": "code",
   "execution_count": null,
   "id": "66eed89d-8cd0-4db5-90c3-6d2deff938a1",
   "metadata": {},
   "outputs": [],
   "source": [
    "a"
   ]
  },
  {
   "cell_type": "code",
   "execution_count": null,
   "id": "7782d730-7389-4bb1-a5d6-39853a1bda01",
   "metadata": {},
   "outputs": [],
   "source": [
    "b"
   ]
  },
  {
   "cell_type": "code",
   "execution_count": null,
   "id": "305e2883-a439-4a0b-8e63-c2cb91fb6bcc",
   "metadata": {},
   "outputs": [],
   "source": [
    "# if an element in a is not a number, replce with b's\n",
    "np.where(pd.isna(a), b, a)"
   ]
  },
  {
   "cell_type": "code",
   "execution_count": null,
   "id": "d2b891c8-6efa-4d83-8804-f4cc89d9a684",
   "metadata": {},
   "outputs": [],
   "source": [
    "pd.isna(a)"
   ]
  },
  {
   "cell_type": "code",
   "execution_count": null,
   "id": "2ffb037f-74cd-440a-8ed6-70c8f907bceb",
   "metadata": {},
   "outputs": [],
   "source": [
    "a.combine_first(b)"
   ]
  },
  {
   "cell_type": "code",
   "execution_count": null,
   "id": "58b08e23-ae5e-4fb7-a311-3609d4efb9c2",
   "metadata": {},
   "outputs": [],
   "source": [
    "df1 = pd.DataFrame({\"a\":[1., np.nan, 5., np.nan],\n",
    "                    \"b\":[np.nan, 2., np.nan, 6.],\n",
    "                    \"c\":range(2, 18, 4)})"
   ]
  },
  {
   "cell_type": "code",
   "execution_count": null,
   "id": "5eb0a809-138e-48d2-b031-9052f1704d74",
   "metadata": {},
   "outputs": [],
   "source": [
    "df1"
   ]
  },
  {
   "cell_type": "code",
   "execution_count": null,
   "id": "d28cd328-1d48-4eb3-adf1-53b096acbac1",
   "metadata": {},
   "outputs": [],
   "source": [
    "df2 = pd.DataFrame({\"a\":[5., 4., np.nan, 3., 7.],\n",
    "                    \"b\":[np.nan, 3., 4., 6., 8.]})"
   ]
  },
  {
   "cell_type": "code",
   "execution_count": null,
   "id": "3c204a5a-0101-46e4-8eef-f14797859b95",
   "metadata": {},
   "outputs": [],
   "source": [
    "df2"
   ]
  },
  {
   "cell_type": "code",
   "execution_count": null,
   "id": "ca068c3d-7be6-43f1-8767-a5b019e4e0d4",
   "metadata": {},
   "outputs": [],
   "source": [
    "# Replace a with non-null value of b if null or else maintain.\n",
    "df1.combine_first(df2)"
   ]
  },
  {
   "cell_type": "markdown",
   "id": "f0cdf843-99a2-4382-baaa-5e762a33ac91",
   "metadata": {},
   "source": [
    "<h3>Reshaping and Pivoting</h3>"
   ]
  },
  {
   "cell_type": "code",
   "execution_count": null,
   "id": "5d62e123-b050-4090-a1cc-72d33339446b",
   "metadata": {},
   "outputs": [],
   "source": [
    "data = pd.DataFrame(np.arange(6).reshape((2, 3)),\n",
    "                    index=pd.Index(['Iganga', 'Jinja'], name=\"City\"),\n",
    "                    columns = pd.Index([\"One\", \"two\", \"three\"],\n",
    "                                       name=\"number\"))"
   ]
  },
  {
   "cell_type": "code",
   "execution_count": null,
   "id": "7d0410e0-a86d-4b18-baa1-ad9590ab634e",
   "metadata": {},
   "outputs": [],
   "source": [
    "data"
   ]
  },
  {
   "cell_type": "code",
   "execution_count": null,
   "id": "4b584695-b409-4a99-b1c4-5b8dac1d55aa",
   "metadata": {},
   "outputs": [],
   "source": [
    "result = data.stack()"
   ]
  },
  {
   "cell_type": "code",
   "execution_count": null,
   "id": "d61ef685-b4c8-46b0-b599-a2f3b9d5b098",
   "metadata": {},
   "outputs": [],
   "source": [
    "result"
   ]
  },
  {
   "cell_type": "code",
   "execution_count": null,
   "id": "166d9088-5b4e-44a9-a30a-b4a6286fb860",
   "metadata": {},
   "outputs": [],
   "source": [
    "# By default, the inner level is unstacked, \n",
    "result.unstack(level=0)"
   ]
  },
  {
   "cell_type": "code",
   "execution_count": null,
   "id": "64415704-445e-40c1-b9a8-03643890859d",
   "metadata": {},
   "outputs": [],
   "source": [
    "result.unstack(level=\"City\")"
   ]
  },
  {
   "cell_type": "code",
   "execution_count": null,
   "id": "112bac7e-f43e-455b-851f-40bd45eb3d12",
   "metadata": {},
   "outputs": [],
   "source": [
    "s1 = pd.Series([0, 1, 2, 3], index=['a', 'b', 'c', 'd'],\n",
    "               dtype='int64')"
   ]
  },
  {
   "cell_type": "code",
   "execution_count": null,
   "id": "0ec38c35-56d1-45e8-b05c-10290d09f912",
   "metadata": {},
   "outputs": [],
   "source": [
    "s1"
   ]
  },
  {
   "cell_type": "code",
   "execution_count": null,
   "id": "cbce7c9e-fd66-416d-be3c-017b3eebb46e",
   "metadata": {},
   "outputs": [],
   "source": [
    "s2 = pd.Series([4, 5, 6], index=['c', 'd', 'e'],\n",
    "               dtype='Int64')"
   ]
  },
  {
   "cell_type": "code",
   "execution_count": null,
   "id": "0fe6eb22-f3ae-46cf-ae01-3457699f285b",
   "metadata": {},
   "outputs": [],
   "source": [
    "s2"
   ]
  },
  {
   "cell_type": "code",
   "execution_count": null,
   "id": "e7dd78e6-9eb9-4c97-8fbd-935578510e44",
   "metadata": {},
   "outputs": [],
   "source": [
    "data = pd.concat([s1, s2], keys=['one', 'two'])"
   ]
  },
  {
   "cell_type": "code",
   "execution_count": null,
   "id": "2264e7a2-9449-4242-b030-c9ecd0e00fbb",
   "metadata": {},
   "outputs": [],
   "source": [
    "data"
   ]
  },
  {
   "cell_type": "code",
   "execution_count": null,
   "id": "7e5ec924-3c91-4d83-bbf2-c592686aa93f",
   "metadata": {},
   "outputs": [],
   "source": [
    "df = pd.DataFrame({\"left\": result, \"right\": result + 5},\n",
    "                  columns = pd.Index([\"left\", \"right\"],\n",
    "                                     name=\"side\"))"
   ]
  },
  {
   "cell_type": "code",
   "execution_count": null,
   "id": "b53f1908-d91b-413b-9a9f-38d944c8041b",
   "metadata": {},
   "outputs": [],
   "source": [
    "df"
   ]
  },
  {
   "cell_type": "code",
   "execution_count": null,
   "id": "9c2e06ce-31fb-4c59-a31d-09d0f796f47d",
   "metadata": {},
   "outputs": [],
   "source": [
    "# The level unstacked become the lowest in the result\n",
    "df.unstack(level=\"City\")"
   ]
  },
  {
   "cell_type": "code",
   "execution_count": null,
   "id": "5c6d6461-9c18-4efd-91e1-43ddbab9b0d9",
   "metadata": {},
   "outputs": [],
   "source": [
    "# load csv data\n",
    "data = pd.read_csv('../Data/macrodata.csv')"
   ]
  },
  {
   "cell_type": "code",
   "execution_count": null,
   "id": "da6078ce-6687-4e78-9335-754d3f4f7126",
   "metadata": {},
   "outputs": [],
   "source": [
    "data"
   ]
  },
  {
   "cell_type": "code",
   "execution_count": null,
   "id": "9e778206-f7aa-456d-bd0b-1273f31897bf",
   "metadata": {},
   "outputs": [],
   "source": [
    "data = data.loc[:, ['year', 'quarter', 'realgdp', 'infl', 'unemp']]"
   ]
  },
  {
   "cell_type": "code",
   "execution_count": null,
   "id": "1f380b17-32ed-4d02-b6dc-a1c4f0643a7d",
   "metadata": {},
   "outputs": [],
   "source": [
    "data"
   ]
  },
  {
   "cell_type": "code",
   "execution_count": null,
   "id": "84b00a86-82cf-4784-913c-b41e99b943cc",
   "metadata": {},
   "outputs": [],
   "source": [
    "periods = pd.PeriodIndex.from_fields(year=data.pop(\"year\"),\n",
    "                         quarter=data.pop(\"quarter\"),\n",
    "                         # name=\"date\"\n",
    "                                    )"
   ]
  },
  {
   "cell_type": "code",
   "execution_count": null,
   "id": "c35fa54f-ab15-4b2a-8190-3d29560b0874",
   "metadata": {},
   "outputs": [],
   "source": [
    "periods"
   ]
  },
  {
   "cell_type": "code",
   "execution_count": null,
   "id": "e69e415a-31d9-4905-89c3-131e474f968e",
   "metadata": {},
   "outputs": [],
   "source": [
    "data"
   ]
  },
  {
   "cell_type": "code",
   "execution_count": null,
   "id": "a3f1fac6-783d-4b02-a5d7-f02cc532849e",
   "metadata": {},
   "outputs": [],
   "source": [
    "data.index = periods.to_timestamp(\"D\")"
   ]
  },
  {
   "cell_type": "code",
   "execution_count": null,
   "id": "95e55a91-d186-47a7-99df-8394d613a222",
   "metadata": {},
   "outputs": [],
   "source": [
    "data"
   ]
  },
  {
   "cell_type": "code",
   "execution_count": null,
   "id": "689ce18a-acfd-4015-9ab4-c9399574d762",
   "metadata": {},
   "outputs": [],
   "source": [
    "data = data.reindex(columns=['realgdp', 'infl', 'unemp'])"
   ]
  },
  {
   "cell_type": "code",
   "execution_count": null,
   "id": "85aed68d-a855-4990-9d95-abfcbddbc011",
   "metadata": {},
   "outputs": [],
   "source": [
    "data.columns.name = 'item'"
   ]
  },
  {
   "cell_type": "code",
   "execution_count": null,
   "id": "d8a6987e-b1e4-4726-bf6b-79210535a974",
   "metadata": {},
   "outputs": [],
   "source": [
    "data"
   ]
  },
  {
   "cell_type": "code",
   "execution_count": null,
   "id": "5db886b8-cf51-4a79-a140-7d3b2664fdf4",
   "metadata": {},
   "outputs": [],
   "source": [
    "long_data = (data.stack().reset_index().rename(columns={0:\"value\"}))"
   ]
  },
  {
   "cell_type": "code",
   "execution_count": null,
   "id": "97b68ec0-40bd-4b0e-8faa-afb3ea30ef5e",
   "metadata": {},
   "outputs": [],
   "source": [
    "long_data"
   ]
  },
  {
   "cell_type": "code",
   "execution_count": null,
   "id": "4aac1249-971f-4038-ba5e-2b7f4a7e3842",
   "metadata": {},
   "outputs": [],
   "source": [
    "# Pivoting\n",
    "pivoted = long_data.pivot(index='level_0',\n",
    "                          columns='item',\n",
    "                          values=\"value\")"
   ]
  },
  {
   "cell_type": "code",
   "execution_count": null,
   "id": "fce9be82-72c0-47a1-a378-5524c1d18496",
   "metadata": {},
   "outputs": [],
   "source": [
    "pivoted"
   ]
  },
  {
   "cell_type": "code",
   "execution_count": null,
   "id": "9a66ebbb-a8fb-49fd-ac27-f22d817bd5a8",
   "metadata": {},
   "outputs": [],
   "source": [
    "long_data.head()"
   ]
  },
  {
   "cell_type": "code",
   "execution_count": null,
   "id": "ee2e16f0-6eac-428c-bf6d-447ed000cf31",
   "metadata": {},
   "outputs": [],
   "source": [
    "long_data.set_index([\"level_0\", \"item\"]).unstack(level='item')"
   ]
  },
  {
   "cell_type": "code",
   "execution_count": null,
   "id": "23aef680-3c85-41c6-a057-5fbbbcaad7d5",
   "metadata": {},
   "outputs": [],
   "source": [
    "pivoted = long_data.pivot(index='level_0',\n",
    "                          columns='item',\n",
    "                          values='value')"
   ]
  },
  {
   "cell_type": "code",
   "execution_count": null,
   "id": "62dfab61-1c97-45e4-8d51-85bfad7370bf",
   "metadata": {},
   "outputs": [],
   "source": [
    "pivoted"
   ]
  },
  {
   "cell_type": "code",
   "execution_count": null,
   "id": "8ee9872f-0f15-49ab-bb7e-cc647dc7ccbd",
   "metadata": {},
   "outputs": [],
   "source": [
    "df = pd.DataFrame({'foo': ['one', 'one', 'one', 'two', 'two', 'two'],\n",
    "                   'bar': ['A', 'B', 'C', 'A', 'B', 'C'],\n",
    "                   'baz': [1, 2, 3, 4, 5, 6],\n",
    "                   'zoo': ['x', 'y', 'z', 'q', 'w', 't']})"
   ]
  },
  {
   "cell_type": "code",
   "execution_count": null,
   "id": "eb6aafda-b7f3-485c-b43a-2ca99a508a74",
   "metadata": {},
   "outputs": [],
   "source": [
    "df"
   ]
  },
  {
   "cell_type": "code",
   "execution_count": null,
   "id": "19e58e6c-2071-48a4-a067-85fac7d95433",
   "metadata": {},
   "outputs": [],
   "source": [
    "df.pivot(index='foo',\n",
    "         columns='bar',\n",
    "         values='baz')"
   ]
  },
  {
   "cell_type": "code",
   "execution_count": null,
   "id": "8c572cd0-378e-4cbd-8c9d-3be407802094",
   "metadata": {},
   "outputs": [],
   "source": [
    "df.pivot(index='foo',\n",
    "         columns='bar',\n",
    "        )['baz']"
   ]
  },
  {
   "cell_type": "code",
   "execution_count": null,
   "id": "0d985243-e57d-4a30-a1d3-0eff14931778",
   "metadata": {},
   "outputs": [],
   "source": [
    "df.pivot(index='foo', columns='bar', values=['baz', 'zoo'])"
   ]
  },
  {
   "cell_type": "code",
   "execution_count": null,
   "id": "35d9e05b-9756-498d-b44d-eccfba4b57ac",
   "metadata": {},
   "outputs": [],
   "source": [
    "df = pd.DataFrame({\n",
    "    \"lev1\": [1, 1, 1, 2, 2, 2],\n",
    "    \"lev2\": [1, 1, 2, 1, 1, 2],\n",
    "    \"lev3\": [1, 2, 1, 2, 1, 2],\n",
    "    \"lev4\": [1, 2, 3, 4, 5, 6],\n",
    "    \"values\": [0, 1, 2, 3, 4, 5]\n",
    "})"
   ]
  },
  {
   "cell_type": "code",
   "execution_count": null,
   "id": "f923c601-c0e0-4a45-9286-4357f386fb95",
   "metadata": {},
   "outputs": [],
   "source": [
    "df"
   ]
  },
  {
   "cell_type": "code",
   "execution_count": null,
   "id": "55fa95a7-f7cd-48dd-9fdf-462602a9369b",
   "metadata": {},
   "outputs": [],
   "source": [
    "df.pivot(index=\"lev1\",\n",
    "         columns=[\"lev2\", \"lev3\"],\n",
    "         values=\"values\"\n",
    "        )"
   ]
  },
  {
   "cell_type": "code",
   "execution_count": null,
   "id": "abea193b-d827-4854-8db2-b20314fd0c93",
   "metadata": {},
   "outputs": [],
   "source": [
    "# Using melt\n",
    "\n",
    "df = pd.DataFrame({\n",
    "    \"key\": [\"foo\", \"bar\", \"baz\"],\n",
    "    \"A\": [1, 2, 3],\n",
    "    \"B\": [4, 5, 6],\n",
    "    \"C\": [7, 8, 9]\n",
    "})"
   ]
  },
  {
   "cell_type": "code",
   "execution_count": null,
   "id": "9bc3ace5-3e38-4c2b-b006-6a4465445542",
   "metadata": {},
   "outputs": [],
   "source": [
    "df"
   ]
  },
  {
   "cell_type": "code",
   "execution_count": null,
   "id": "06f37bd7-3d66-4035-b078-0f5a0788d13a",
   "metadata": {},
   "outputs": [],
   "source": [
    "melted = pd.melt(df, id_vars=\"key\")"
   ]
  },
  {
   "cell_type": "code",
   "execution_count": null,
   "id": "83b57921-1d58-43c6-8f25-30ddd4a12c01",
   "metadata": {},
   "outputs": [],
   "source": [
    "melted"
   ]
  },
  {
   "cell_type": "code",
   "execution_count": null,
   "id": "1782a431-1510-46a1-b70d-3ea9c24c5272",
   "metadata": {},
   "outputs": [],
   "source": [
    "reshaped = melted.pivot(index=\"key\",\n",
    "             columns=\"variable\",\n",
    "             values=\"value\")"
   ]
  },
  {
   "cell_type": "code",
   "execution_count": null,
   "id": "0049bca8-4f54-44ba-ad4f-b309021135a8",
   "metadata": {},
   "outputs": [],
   "source": [
    "reshaped"
   ]
  },
  {
   "cell_type": "code",
   "execution_count": null,
   "id": "e8c22263-44b2-44b5-a861-ae5fb801f709",
   "metadata": {},
   "outputs": [],
   "source": [
    "# Moving data back into the column\n",
    "reshaped.reset_index()"
   ]
  },
  {
   "cell_type": "code",
   "execution_count": null,
   "id": "5424a044-7bb0-4074-b4ec-33c7ab86fecf",
   "metadata": {},
   "outputs": [],
   "source": [
    "# Selecting a subset of columns\n",
    "pd.melt(df, id_vars=\"key\",\n",
    "        value_vars=['A', 'B'])"
   ]
  },
  {
   "cell_type": "code",
   "execution_count": null,
   "id": "56ade5a0-7ee4-428c-bc2d-bc4c15b283b6",
   "metadata": {},
   "outputs": [],
   "source": [
    "# Without using group identifiers\n",
    "pd.melt(df, value_vars=[\"A\", \"B\"])"
   ]
  },
  {
   "cell_type": "code",
   "execution_count": null,
   "id": "0e6ee1a2-585f-4f06-950d-0dabb2dd3f0f",
   "metadata": {},
   "outputs": [],
   "source": [
    "# Including key under value_vars\n",
    "pd.melt(df, value_vars=[\"key\", \"A\", \"B\"])"
   ]
  },
  {
   "cell_type": "markdown",
   "id": "fc0a39e5-38b4-499d-8eca-69bc551b1223",
   "metadata": {},
   "source": [
    "<h1>Visualization</h1>\n",
    "<p>Visualization using matplotlib, Seaborn</p>"
   ]
  },
  {
   "cell_type": "code",
   "execution_count": 2,
   "id": "fc3775f0-ff86-4965-ab00-97372443cd3b",
   "metadata": {},
   "outputs": [],
   "source": [
    "%matplotlib inline"
   ]
  },
  {
   "cell_type": "code",
   "execution_count": 3,
   "id": "08e25071-cb0b-497b-8dc3-c1552f261d40",
   "metadata": {},
   "outputs": [],
   "source": [
    "import matplotlib.pyplot as plt"
   ]
  },
  {
   "cell_type": "code",
   "execution_count": 4,
   "id": "1e127b71-9337-483e-8696-38697e551b11",
   "metadata": {},
   "outputs": [],
   "source": [
    "data = np.arange(10)"
   ]
  },
  {
   "cell_type": "code",
   "execution_count": 5,
   "id": "ff51ffb1-4a8c-4796-909f-fd3982f6d229",
   "metadata": {},
   "outputs": [
    {
     "data": {
      "text/plain": [
       "array([0, 1, 2, 3, 4, 5, 6, 7, 8, 9])"
      ]
     },
     "execution_count": 5,
     "metadata": {},
     "output_type": "execute_result"
    }
   ],
   "source": [
    "data"
   ]
  },
  {
   "cell_type": "code",
   "execution_count": 6,
   "id": "82147cbe-309b-4b9f-9740-bec44318dbf0",
   "metadata": {},
   "outputs": [
    {
     "data": {
      "text/plain": [
       "[<matplotlib.lines.Line2D at 0x1f5c2538650>]"
      ]
     },
     "execution_count": 6,
     "metadata": {},
     "output_type": "execute_result"
    },
    {
     "data": {
      "image/png": "[encoded data removed]",
      "text/plain": [
       "<Figure size 640x480 with 1 Axes>"
      ]
     },
     "metadata": {},
     "output_type": "display_data"
    }
   ],
   "source": [
    "plt.plot(data)"
   ]
  },
  {
   "cell_type": "code",
   "execution_count": 7,
   "id": "6fae4bc6-928e-4152-afd9-00f23dbda714",
   "metadata": {},
   "outputs": [
    {
     "data": {
      "image/png": "[encoded data removed]",
      "text/plain": [
       "<Figure size 640x480 with 3 Axes>"
      ]
     },
     "metadata": {},
     "output_type": "display_data"
    }
   ],
   "source": [
    "# Creating a figure object\n",
    "fig = plt.figure()\n",
    "ax1 = fig.add_subplot(2, 2, 1)\n",
    "ax2 = fig.add_subplot(2, 2, 2)\n",
    "ax3 = fig.add_subplot(2, 2, 3)\n",
    "\n",
    "# Plots\n",
    "ax3.plot(np.random.standard_normal(50).cumsum(),\n",
    "         color=\"black\",\n",
    "        linestyle=\"dashed\");\n",
    "# ';' used to supress the output about the object added to the plot\n",
    "ax1.hist(np.random.standard_normal(100),\n",
    "         bins=20,\n",
    "         color=\"black\",\n",
    "         alpha=0.3);\n",
    "ax2.scatter(np.arange(30),\n",
    "            np.arange(30) + 3*np.random.standard_normal(30));"
   ]
  },
  {
   "cell_type": "code",
   "execution_count": 8,
   "id": "bfec7009-069c-475c-b303-aa18c79de000",
   "metadata": {},
   "outputs": [
    {
     "data": {
      "image/png": "[encoded data removed]",
      "text/plain": [
       "<Figure size 640x480 with 4 Axes>"
      ]
     },
     "metadata": {},
     "output_type": "display_data"
    }
   ],
   "source": [
    "fig, axes = plt.subplots(2, 2,\n",
    "                        sharex=True,\n",
    "                        sharey=True)\n",
    "fig.subplots_adjust(left=None,\n",
    "                    bottom=None,\n",
    "                    right=None,\n",
    "                    top=None,\n",
    "                    wspace=0,\n",
    "                    hspace=0)"
   ]
  },
  {
   "cell_type": "code",
   "execution_count": 9,
   "id": "742d3069-748b-4984-865b-e70b68ab8bbf",
   "metadata": {},
   "outputs": [
    {
     "data": {
      "image/png": "[encoded data removed]",
      "text/plain": [
       "<Figure size 640x480 with 4 Axes>"
      ]
     },
     "metadata": {},
     "output_type": "display_data"
    }
   ],
   "source": [
    "# adjusting wspace, hspace\n",
    "fig, axes = plt.subplots(2, 2, sharex=True,\n",
    "                         sharey=True)\n",
    "for i in range(2):\n",
    "    for j in range(2):\n",
    "        axes[i, j].hist(np.random.standard_normal(500),\n",
    "                        bins=50,\n",
    "                        color='black',\n",
    "                        alpha=0.5)\n",
    "fig.subplots_adjust(wspace=0,\n",
    "                    hspace=0)"
   ]
  },
  {
   "cell_type": "code",
   "execution_count": 10,
   "id": "ad02dbd5-a184-4e8a-94f8-726d0ccc355d",
   "metadata": {},
   "outputs": [
    {
     "data": {
      "text/plain": [
       "\u001b[1;31mSignature:\u001b[0m\n",
       "\u001b[0mplt\u001b[0m\u001b[1;33m.\u001b[0m\u001b[0mplot\u001b[0m\u001b[1;33m(\u001b[0m\u001b[1;33m\n",
       "\u001b[0m    \u001b[1;33m*\u001b[0m\u001b[0margs\u001b[0m\u001b[1;33m:\u001b[0m \u001b[1;34m'float | ArrayLike | str'\u001b[0m\u001b[1;33m,\u001b[0m\u001b[1;33m\n",
       "\u001b[0m    \u001b[0mscalex\u001b[0m\u001b[1;33m:\u001b[0m \u001b[1;34m'bool'\u001b[0m \u001b[1;33m=\u001b[0m \u001b[1;32mTrue\u001b[0m\u001b[1;33m,\u001b[0m\u001b[1;33m\n",
       "\u001b[0m    \u001b[0mscaley\u001b[0m\u001b[1;33m:\u001b[0m \u001b[1;34m'bool'\u001b[0m \u001b[1;33m=\u001b[0m \u001b[1;32mTrue\u001b[0m\u001b[1;33m,\u001b[0m\u001b[1;33m\n",
       "\u001b[0m    \u001b[0mdata\u001b[0m\u001b[1;33m=\u001b[0m\u001b[1;32mNone\u001b[0m\u001b[1;33m,\u001b[0m\u001b[1;33m\n",
       "\u001b[0m    \u001b[1;33m**\u001b[0m\u001b[0mkwargs\u001b[0m\u001b[1;33m,\u001b[0m\u001b[1;33m\n",
       "\u001b[0m\u001b[1;33m)\u001b[0m \u001b[1;33m->\u001b[0m \u001b[1;34m'list[Line2D]'\u001b[0m\u001b[1;33m\u001b[0m\u001b[1;33m\u001b[0m\u001b[0m\n",
       "\u001b[1;31mDocstring:\u001b[0m\n",
       "Plot y versus x as lines and/or markers.\n",
       "\n",
       "Call signatures::\n",
       "\n",
       "    plot([x], y, [fmt], *, data=None, **kwargs)\n",
       "    plot([x], y, [fmt], [x2], y2, [fmt2], ..., **kwargs)\n",
       "\n",
       "The coordinates of the points or line nodes are given by *x*, *y*.\n",
       "\n",
       "The optional parameter *fmt* is a convenient way for defining basic\n",
       "formatting like color, marker and linestyle. It's a shortcut string\n",
       "notation described in the *Notes* section below.\n",
       "\n",
       ">>> plot(x, y)        # plot x and y using default line style and color\n",
       ">>> plot(x, y, 'bo')  # plot x and y using blue circle markers\n",
       ">>> plot(y)           # plot y using x as index array 0..N-1\n",
       ">>> plot(y, 'r+')     # ditto, but with red plusses\n",
       "\n",
       "You can use `.Line2D` properties as keyword arguments for more\n",
       "control on the appearance. Line properties and *fmt* can be mixed.\n",
       "The following two calls yield identical results:\n",
       "\n",
       ">>> plot(x, y, 'go--', linewidth=2, markersize=12)\n",
       ">>> plot(x, y, color='green', marker='o', linestyle='dashed',\n",
       "...      linewidth=2, markersize=12)\n",
       "\n",
       "When conflicting with *fmt*, keyword arguments take precedence.\n",
       "\n",
       "\n",
       "**Plotting labelled data**\n",
       "\n",
       "There's a convenient way for plotting objects with labelled data (i.e.\n",
       "data that can be accessed by index ``obj['y']``). Instead of giving\n",
       "the data in *x* and *y*, you can provide the object in the *data*\n",
       "parameter and just give the labels for *x* and *y*::\n",
       "\n",
       ">>> plot('xlabel', 'ylabel', data=obj)\n",
       "\n",
       "All indexable objects are supported. This could e.g. be a `dict`, a\n",
       "`pandas.DataFrame` or a structured numpy array.\n",
       "\n",
       "\n",
       "**Plotting multiple sets of data**\n",
       "\n",
       "There are various ways to plot multiple sets of data.\n",
       "\n",
       "- The most straight forward way is just to call `plot` multiple times.\n",
       "  Example:\n",
       "\n",
       "  >>> plot(x1, y1, 'bo')\n",
       "  >>> plot(x2, y2, 'go')\n",
       "\n",
       "- If *x* and/or *y* are 2D arrays a separate data set will be drawn\n",
       "  for every column. If both *x* and *y* are 2D, they must have the\n",
       "  same shape. If only one of them is 2D with shape (N, m) the other\n",
       "  must have length N and will be used for every data set m.\n",
       "\n",
       "  Example:\n",
       "\n",
       "  >>> x = [1, 2, 3]\n",
       "  >>> y = np.array([[1, 2], [3, 4], [5, 6]])\n",
       "  >>> plot(x, y)\n",
       "\n",
       "  is equivalent to:\n",
       "\n",
       "  >>> for col in range(y.shape[1]):\n",
       "  ...     plot(x, y[:, col])\n",
       "\n",
       "- The third way is to specify multiple sets of *[x]*, *y*, *[fmt]*\n",
       "  groups::\n",
       "\n",
       "  >>> plot(x1, y1, 'g^', x2, y2, 'g-')\n",
       "\n",
       "  In this case, any additional keyword argument applies to all\n",
       "  datasets. Also, this syntax cannot be combined with the *data*\n",
       "  parameter.\n",
       "\n",
       "By default, each line is assigned a different style specified by a\n",
       "'style cycle'. The *fmt* and line property parameters are only\n",
       "necessary if you want explicit deviations from these defaults.\n",
       "Alternatively, you can also change the style cycle using\n",
       ":rc:`axes.prop_cycle`.\n",
       "\n",
       "\n",
       "Parameters\n",
       "----------\n",
       "x, y : array-like or scalar\n",
       "    The horizontal / vertical coordinates of the data points.\n",
       "    *x* values are optional and default to ``range(len(y))``.\n",
       "\n",
       "    Commonly, these parameters are 1D arrays.\n",
       "\n",
       "    They can also be scalars, or two-dimensional (in that case, the\n",
       "    columns represent separate data sets).\n",
       "\n",
       "    These arguments cannot be passed as keywords.\n",
       "\n",
       "fmt : str, optional\n",
       "    A format string, e.g. 'ro' for red circles. See the *Notes*\n",
       "    section for a full description of the format strings.\n",
       "\n",
       "    Format strings are just an abbreviation for quickly setting\n",
       "    basic line properties. All of these and more can also be\n",
       "    controlled by keyword arguments.\n",
       "\n",
       "    This argument cannot be passed as keyword.\n",
       "\n",
       "data : indexable object, optional\n",
       "    An object with labelled data. If given, provide the label names to\n",
       "    plot in *x* and *y*.\n",
       "\n",
       "    .. note::\n",
       "        Technically there's a slight ambiguity in calls where the\n",
       "        second label is a valid *fmt*. ``plot('n', 'o', data=obj)``\n",
       "        could be ``plt(x, y)`` or ``plt(y, fmt)``. In such cases,\n",
       "        the former interpretation is chosen, but a warning is issued.\n",
       "        You may suppress the warning by adding an empty format string\n",
       "        ``plot('n', 'o', '', data=obj)``.\n",
       "\n",
       "Returns\n",
       "-------\n",
       "list of `.Line2D`\n",
       "    A list of lines representing the plotted data.\n",
       "\n",
       "Other Parameters\n",
       "----------------\n",
       "scalex, scaley : bool, default: True\n",
       "    These parameters determine if the view limits are adapted to the\n",
       "    data limits. The values are passed on to\n",
       "    `~.axes.Axes.autoscale_view`.\n",
       "\n",
       "**kwargs : `~matplotlib.lines.Line2D` properties, optional\n",
       "    *kwargs* are used to specify properties like a line label (for\n",
       "    auto legends), linewidth, antialiasing, marker face color.\n",
       "    Example::\n",
       "\n",
       "    >>> plot([1, 2, 3], [1, 2, 3], 'go-', label='line 1', linewidth=2)\n",
       "    >>> plot([1, 2, 3], [1, 4, 9], 'rs', label='line 2')\n",
       "\n",
       "    If you specify multiple lines with one plot call, the kwargs apply\n",
       "    to all those lines. In case the label object is iterable, each\n",
       "    element is used as labels for each set of data.\n",
       "\n",
       "    Here is a list of available `.Line2D` properties:\n",
       "\n",
       "    Properties:\n",
       "    agg_filter: a filter function, which takes a (m, n, 3) float array and a dpi value, and returns a (m, n, 3) array and two offsets from the bottom left corner of the image\n",
       "    alpha: scalar or None\n",
       "    animated: bool\n",
       "    antialiased or aa: bool\n",
       "    clip_box: `~matplotlib.transforms.BboxBase` or None\n",
       "    clip_on: bool\n",
       "    clip_path: Patch or (Path, Transform) or None\n",
       "    color or c: color\n",
       "    dash_capstyle: `.CapStyle` or {'butt', 'projecting', 'round'}\n",
       "    dash_joinstyle: `.JoinStyle` or {'miter', 'round', 'bevel'}\n",
       "    dashes: sequence of floats (on/off ink in points) or (None, None)\n",
       "    data: (2, N) array or two 1D arrays\n",
       "    drawstyle or ds: {'default', 'steps', 'steps-pre', 'steps-mid', 'steps-post'}, default: 'default'\n",
       "    figure: `~matplotlib.figure.Figure`\n",
       "    fillstyle: {'full', 'left', 'right', 'bottom', 'top', 'none'}\n",
       "    gapcolor: color or None\n",
       "    gid: str\n",
       "    in_layout: bool\n",
       "    label: object\n",
       "    linestyle or ls: {'-', '--', '-.', ':', '', (offset, on-off-seq), ...}\n",
       "    linewidth or lw: float\n",
       "    marker: marker style string, `~.path.Path` or `~.markers.MarkerStyle`\n",
       "    markeredgecolor or mec: color\n",
       "    markeredgewidth or mew: float\n",
       "    markerfacecolor or mfc: color\n",
       "    markerfacecoloralt or mfcalt: color\n",
       "    markersize or ms: float\n",
       "    markevery: None or int or (int, int) or slice or list[int] or float or (float, float) or list[bool]\n",
       "    mouseover: bool\n",
       "    path_effects: list of `.AbstractPathEffect`\n",
       "    picker: float or callable[[Artist, Event], tuple[bool, dict]]\n",
       "    pickradius: float\n",
       "    rasterized: bool\n",
       "    sketch_params: (scale: float, length: float, randomness: float)\n",
       "    snap: bool or None\n",
       "    solid_capstyle: `.CapStyle` or {'butt', 'projecting', 'round'}\n",
       "    solid_joinstyle: `.JoinStyle` or {'miter', 'round', 'bevel'}\n",
       "    transform: unknown\n",
       "    url: str\n",
       "    visible: bool\n",
       "    xdata: 1D array\n",
       "    ydata: 1D array\n",
       "    zorder: float\n",
       "\n",
       "See Also\n",
       "--------\n",
       "scatter : XY scatter plot with markers of varying size and/or color (\n",
       "    sometimes also called bubble chart).\n",
       "\n",
       "Notes\n",
       "-----\n",
       "**Format Strings**\n",
       "\n",
       "A format string consists of a part for color, marker and line::\n",
       "\n",
       "    fmt = '[marker][line][color]'\n",
       "\n",
       "Each of them is optional. If not provided, the value from the style\n",
       "cycle is used. Exception: If ``line`` is given, but no ``marker``,\n",
       "the data will be a line without markers.\n",
       "\n",
       "Other combinations such as ``[color][marker][line]`` are also\n",
       "supported, but note that their parsing may be ambiguous.\n",
       "\n",
       "**Markers**\n",
       "\n",
       "=============   ===============================\n",
       "character       description\n",
       "=============   ===============================\n",
       "``'.'``         point marker\n",
       "``','``         pixel marker\n",
       "``'o'``         circle marker\n",
       "``'v'``         triangle_down marker\n",
       "``'^'``         triangle_up marker\n",
       "``'<'``         triangle_left marker\n",
       "``'>'``         triangle_right marker\n",
       "``'1'``         tri_down marker\n",
       "``'2'``         tri_up marker\n",
       "``'3'``         tri_left marker\n",
       "``'4'``         tri_right marker\n",
       "``'8'``         octagon marker\n",
       "``'s'``         square marker\n",
       "``'p'``         pentagon marker\n",
       "``'P'``         plus (filled) marker\n",
       "``'*'``         star marker\n",
       "``'h'``         hexagon1 marker\n",
       "``'H'``         hexagon2 marker\n",
       "``'+'``         plus marker\n",
       "``'x'``         x marker\n",
       "``'X'``         x (filled) marker\n",
       "``'D'``         diamond marker\n",
       "``'d'``         thin_diamond marker\n",
       "``'|'``         vline marker\n",
       "``'_'``         hline marker\n",
       "=============   ===============================\n",
       "\n",
       "**Line Styles**\n",
       "\n",
       "=============    ===============================\n",
       "character        description\n",
       "=============    ===============================\n",
       "``'-'``          solid line style\n",
       "``'--'``         dashed line style\n",
       "``'-.'``         dash-dot line style\n",
       "``':'``          dotted line style\n",
       "=============    ===============================\n",
       "\n",
       "Example format strings::\n",
       "\n",
       "    'b'    # blue markers with default shape\n",
       "    'or'   # red circles\n",
       "    '-g'   # green solid line\n",
       "    '--'   # dashed line with default color\n",
       "    '^k:'  # black triangle_up markers connected by a dotted line\n",
       "\n",
       "**Colors**\n",
       "\n",
       "The supported color abbreviations are the single letter codes\n",
       "\n",
       "=============    ===============================\n",
       "character        color\n",
       "=============    ===============================\n",
       "``'b'``          blue\n",
       "``'g'``          green\n",
       "``'r'``          red\n",
       "``'c'``          cyan\n",
       "``'m'``          magenta\n",
       "``'y'``          yellow\n",
       "``'k'``          black\n",
       "``'w'``          white\n",
       "=============    ===============================\n",
       "\n",
       "and the ``'CN'`` colors that index into the default property cycle.\n",
       "\n",
       "If the color is the only part of the format string, you can\n",
       "additionally use any  `matplotlib.colors` spec, e.g. full names\n",
       "(``'green'``) or hex strings (``'#008000'``).\n",
       "\u001b[1;31mFile:\u001b[0m      d:\\novel\\data\\python\\dataanalysis\\dataanalysisvenv\\lib\\site-packages\\matplotlib\\pyplot.py\n",
       "\u001b[1;31mType:\u001b[0m      function"
      ]
     },
     "metadata": {},
     "output_type": "display_data"
    }
   ],
   "source": [
    "# supported\n",
    "plt.plot?"
   ]
  },
  {
   "cell_type": "code",
   "execution_count": 11,
   "id": "cd91b10c-7701-4dea-9830-938f3b7073a8",
   "metadata": {},
   "outputs": [
    {
     "data": {
      "image/png": "[encoded data removed]",
      "text/plain": [
       "<Figure size 640x480 with 1 Axes>"
      ]
     },
     "metadata": {},
     "output_type": "display_data"
    }
   ],
   "source": [
    "fig = plt.figure()\n",
    "ax = fig.add_subplot()\n",
    "ax.plot(np.random.standard_normal(30).cumsum(),\n",
    "        color=\"black\",\n",
    "        linestyle=\"dashed\",\n",
    "        # marker=\"0\"\n",
    "       );"
   ]
  },
  {
   "cell_type": "code",
   "execution_count": 12,
   "id": "237dd32e-18cb-489b-9060-17d1ad864434",
   "metadata": {},
   "outputs": [
    {
     "data": {
      "image/png": "[encoded data removed]",
      "text/plain": [
       "<Figure size 640x480 with 1 Axes>"
      ]
     },
     "metadata": {},
     "output_type": "display_data"
    }
   ],
   "source": [
    "fig = plt.figure()\n",
    "ax = fig.add_subplot()\n",
    "data = np.random.standard_normal(30).cumsum()\n",
    "ax.plot(data,\n",
    "        color='green',\n",
    "        linestyle='dashed',\n",
    "        label='Default',\n",
    "       );\n",
    "ax.plot(data, color='black',\n",
    "        linestyle='dashed',\n",
    "        drawstyle='steps-post',\n",
    "        label=\"steps-post\",\n",
    "       );\n",
    "ax.legend();"
   ]
  },
  {
   "cell_type": "markdown",
   "id": "8bc3fc78-dabd-4a6e-b609-06aec2a326b4",
   "metadata": {},
   "source": [
    "<h3>Ticks, Labels and Legends</h3>"
   ]
  },
  {
   "cell_type": "code",
   "execution_count": 13,
   "id": "f4183ad7-8470-47f3-b883-f730a1eae112",
   "metadata": {},
   "outputs": [
    {
     "data": {
      "text/plain": [
       "(-4.3150023594773055, 3.6227624050573706)"
      ]
     },
     "execution_count": 13,
     "metadata": {},
     "output_type": "execute_result"
    }
   ],
   "source": [
    "# Getting and settig xlim, ylim of the active or current subplot\n",
    "ax.get_xlim()\n",
    "ax.get_ylim()"
   ]
  },
  {
   "cell_type": "code",
   "execution_count": 14,
   "id": "c0758fee-cc7a-46e8-aae1-c19c5a1aa9b1",
   "metadata": {},
   "outputs": [
    {
     "data": {
      "text/plain": [
       "Text(0.5, 1.0, 'This plot')"
      ]
     },
     "execution_count": 14,
     "metadata": {},
     "output_type": "execute_result"
    },
    {
     "data": {
      "image/png": "[encoded data removed]",
      "text/plain": [
       "<Figure size 640x480 with 1 Axes>"
      ]
     },
     "metadata": {},
     "output_type": "display_data"
    }
   ],
   "source": [
    "fig, ax = plt.subplots()\n",
    "ax.plot(np.random.standard_normal(1_000).cumsum());\n",
    "ticks = ax.set_xticks([0, 250, 500, 750, 1_000])\n",
    "labels = ax.set_xticklabels(['one', 'two', 'three', 'four', 'five'],\n",
    "                           rotation=30,\n",
    "                           fontsize=8,\n",
    "\n",
    "                           )\n",
    "# label the x-axis\n",
    "ax.set_xlabel(\"Stages\")\n",
    "\n",
    "# plot title\n",
    "ax.set_title(\"This plot\")"
   ]
  },
  {
   "cell_type": "markdown",
   "id": "6b13072b-a3cb-4c09-87b9-5c94a0d39fab",
   "metadata": {},
   "source": [
    "<h3>Legends</h3>\n",
    "<p>Legends aid to identify the different plots on a graph</p>"
   ]
  },
  {
   "cell_type": "code",
   "execution_count": 15,
   "id": "ccaa366d-1c75-46fc-a807-094f202f3fea",
   "metadata": {},
   "outputs": [
    {
     "data": {
      "text/plain": [
       "<matplotlib.legend.Legend at 0x1f5c4a25850>"
      ]
     },
     "execution_count": 15,
     "metadata": {},
     "output_type": "execute_result"
    },
    {
     "data": {
      "image/png": "[encoded data removed]",
      "text/plain": [
       "<Figure size 640x480 with 1 Axes>"
      ]
     },
     "metadata": {},
     "output_type": "display_data"
    }
   ],
   "source": [
    "fig, ax = plt.subplots()\n",
    "ax.plot(np.random.randn(1_000).cumsum(),\n",
    "       color=\"black\",\n",
    "       label=\"one\");\n",
    "ax.plot(np.random.randn(1_000).cumsum(),\n",
    "        color=\"green\",\n",
    "        linestyle=\"dashed\",\n",
    "        label=\"two\"\n",
    "       );\n",
    "ax.plot(np.random.randn(1_000).cumsum(),\n",
    "        color='yellow',\n",
    "        linestyle='dotted',\n",
    "        label=\"three\");\n",
    "fig.legend()"
   ]
  },
  {
   "cell_type": "code",
   "execution_count": 18,
   "id": "e16d8214-5859-408b-8b6f-d9be0172adb8",
   "metadata": {},
   "outputs": [
    {
     "data": {
      "text/plain": [
       "Text(0.5, 1.0, 'Important dates in the 2008-2009 financial crisis')"
      ]
     },
     "execution_count": 18,
     "metadata": {},
     "output_type": "execute_result"
    },
    {
     "data": {
      "image/png": "[encoded data removed]",
      "text/plain": [
       "<Figure size 640x480 with 1 Axes>"
      ]
     },
     "metadata": {},
     "output_type": "display_data"
    }
   ],
   "source": [
    "from datetime import datetime\n",
    "fig, ax = plt.subplots()\n",
    "data = pd.read_csv(\"../Data/spx.csv\", index_col=0,\n",
    "                   parse_dates=True)\n",
    "spx = data['SPX']\n",
    "spx.plot(ax=ax, color='black')\n",
    "crisis_data = [\n",
    "    (datetime(2007, 10, 11), \"Peak of bull market\"),\n",
    "    (datetime(2008, 3, 12), \"Bear Stearns Fails\"),\n",
    "    (datetime(2008, 9, 15), \"Lehman Bankruptcy\")]\n",
    "for date, label in crisis_data:\n",
    "    ax.annotate(label, xy=(date, spx.asof(date) + 75),\n",
    "                xytext = (date, spx.asof(date) + 225),\n",
    "                          arrowprops=dict(facecolor='black',\n",
    "                                          headwidth=4,\n",
    "                                          width=2,\n",
    "                                          headlength=4),\n",
    "    horizontalalignment='left',\n",
    "    verticalalignment='top')\n",
    "ax.set_xlim(['1/1/2007', '1/1/2011'])\n",
    "ax.set_ylim([600, 1800])\n",
    "ax.set_title(\"Important dates in the 2008-2009 financial crisis\")"
   ]
  },
  {
   "cell_type": "markdown",
   "id": "9cad2182-ff19-4bad-837b-59a21cb37155",
   "metadata": {},
   "source": [
    "<h3>Shapes</h3>"
   ]
  },
  {
   "cell_type": "code",
   "execution_count": 21,
   "id": "07343f66-70d3-4d89-baa6-b8523ca8a189",
   "metadata": {},
   "outputs": [
    {
     "data": {
      "image/png": "[encoded data removed]",
      "text/plain": [
       "<Figure size 640x480 with 1 Axes>"
      ]
     },
     "metadata": {},
     "output_type": "display_data"
    }
   ],
   "source": [
    "fig, ax = plt.subplots()\n",
    "rect = plt.Rectangle((0.2, 0.75),\n",
    "                     0.4, 0.15,\n",
    "                     color=\"black\",\n",
    "                     alpha=0.3)\n",
    "circ = plt.Circle((0.7, 0.2),\n",
    "                  0.15,\n",
    "                  color=\"blue\",\n",
    "                  alpha=0.3)\n",
    "pgon = plt.Polygon([[0.15, 0.15],\n",
    "                    [0.35, 0.4],\n",
    "                    [0.2, 0.6]],\n",
    "                   color=\"green\",\n",
    "                   alpha=0.5)"
   ]
  },
  {
   "cell_type": "code",
   "execution_count": null,
   "id": "0b1126b8-e930-4d52-a91d-f76993f4e867",
   "metadata": {},
   "outputs": [],
   "source": [
    "r"
   ]
  },
  {
   "cell_type": "code",
   "execution_count": null,
   "id": "82800b17-79d8-480f-8c6b-e84b69976c45",
   "metadata": {},
   "outputs": [],
   "source": []
  }
 ],
 "metadata": {
  "kernelspec": {
   "display_name": "Python 3 (ipykernel)",
   "language": "python",
   "name": "python3"
  },
  "language_info": {
   "codemirror_mode": {
    "name": "ipython",
    "version": 3
   },
   "file_extension": ".py",
   "mimetype": "text/x-python",
   "name": "python",
   "nbconvert_exporter": "python",
   "pygments_lexer": "ipython3",
   "version": "3.12.3"
  }
 },
 "nbformat": 4,
 "nbformat_minor": 5
}
