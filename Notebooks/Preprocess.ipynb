{
 "cells": [
  {
   "cell_type": "code",
   "execution_count": 1,
   "id": "4de1dcab",
   "metadata": {},
   "outputs": [],
   "source": [
    "import pandas as pd\n",
    "import numpy as np\n",
    "from random import randint\n",
    "import yaml\n",
    "import tabula\n",
    "import os"
   ]
  },
  {
   "cell_type": "code",
   "execution_count": 4,
   "id": "72e00266",
   "metadata": {},
   "outputs": [],
   "source": [
    "mak23 = tabula.read_pdf(\"../examples/Mak2023-2024.pdf\", pages=\"all\")"
   ]
  },
  {
   "cell_type": "code",
   "execution_count": 6,
   "id": "6738ea4a-84d6-488c-acae-5d059bea7556",
   "metadata": {},
   "outputs": [],
   "source": [
    "with open('../Notebooks/preprocessingConfig.yml', 'r') as file:\n",
    "    config = yaml.safe_load(file)"
   ]
  },
  {
   "cell_type": "code",
   "execution_count": 7,
   "id": "9c1cc488-136c-450c-9ba5-d65f7eb29beb",
   "metadata": {},
   "outputs": [],
   "source": [
    "columnNames = config['general']['columnNames']\n",
    "columnNames2 = config['general']['columnNames2']"
   ]
  },
  {
   "cell_type": "code",
   "execution_count": 8,
   "id": "c76cf4c2-fbae-431a-b9ab-7022625fa78c",
   "metadata": {},
   "outputs": [],
   "source": [
    "def instTest(x):\n",
    "    try: \n",
    "        if isinstance(float(x), float):\n",
    "            return True\n",
    "    except ValueError:\n",
    "        return False"
   ]
  },
  {
   "cell_type": "code",
   "execution_count": 9,
   "id": "b0d6928d-deaf-4e76-ba5d-d9e355af9e34",
   "metadata": {},
   "outputs": [],
   "source": [
    "# Function to extract data from data2\n",
    "def dataProcess(data, n):\n",
    "#     if n >= 1:\n",
    "    studentData = data[n].split()\n",
    "    # print(\"Student Data: \", studentData)\n",
    "    index_no = studentData[0]\n",
    "    name = \" \".join(studentData[1:-7])[:-1]\n",
    "    gender = studentData[-8][-1]\n",
    "    UACE_YEAR = int(studentData[-7])\n",
    "    DistrictCode = int(studentData[-6])\n",
    "    District = studentData[-5]\n",
    "    CourseCode = studentData[-4]\n",
    "    Course = ' '.join(studentData[-3:])\n",
    "    return [index_no, name, gender, UACE_YEAR,\n",
    "            DistrictCode, District, CourseCode, Course]\n",
    "\n",
    "# Get studentData\n",
    "def getStudentData(data):\n",
    "    studentList = []\n",
    "    for x in range(len(data)):\n",
    "    #     if i > 0:\n",
    "        student = dataProcess(data, x)\n",
    "        studentList.append(student)\n",
    "    # print(studentList)\n",
    "    return studentList\n",
    "\n",
    "# final df\n",
    "def getFinalDf(pdf_read):\n",
    "    df = pd.DataFrame(columns=columnNames2, data=[])\n",
    "    for i in range(len(pdf_read)):\n",
    "        df = pd.concat([df, getDf(i)], ignore_index=True)\n",
    "    return df"
   ]
  },
  {
   "cell_type": "code",
   "execution_count": 10,
   "id": "ddcbcc69-247b-4c1c-bb21-c3dc57b0aa57",
   "metadata": {},
   "outputs": [],
   "source": [
    "def getDf(i):\n",
    "    # i = randint(0, len(mak23)-1)\n",
    "    # i = 0\n",
    "    # print(i)\n",
    "\n",
    "    # First column is a common to all, drop it\n",
    "    df = mak23[i]\n",
    "    # print(df.head(5))\n",
    "    \n",
    "    columns = df.columns\n",
    "    # print(\"columns: \", columns)\n",
    "    df = df.drop(columns[0], axis=1)\n",
    "    # print(df.head(10))\n",
    "\n",
    "    # Drop columns with nan values\n",
    "    # print(\"columns before dropping nan-columns: \", df.shape[1])\n",
    "    df = df.dropna(axis=\"columns\",\n",
    "                   # thresh=3,\n",
    "                   how=\"all\",\n",
    "                  )\n",
    "    # print(\"columns after dropping: \", df.shape[1])\n",
    "\n",
    "    # drop rows with nan if they exist\n",
    "    # print(\"Rows before dropping: \", df.shape[0])\n",
    "    df = df.dropna(axis=\"index\",\n",
    "                   # how=\"any\",\n",
    "                   thresh=3,\n",
    "                  )\n",
    "\n",
    "    # Drop rows for which Tot_wt is not float\n",
    "    df = df[df[columns[-1]] != \"Tot_wt\"]\n",
    "    # print(\"Weights: \", df[columns[-1]])\n",
    "    # print(df.shape)\n",
    "    columns = df.columns\n",
    "    # print(columns)\n",
    "    if len(columns) == 3:        \n",
    "        \n",
    "        # print(df.head(2))\n",
    "        data = df[columns[1]].tolist()\n",
    "        # if i == 0:\n",
    "        #     data = data[1:]\n",
    "\n",
    "        # print(data[:4])\n",
    "        # data = df[columns.tolist()[1]].split()\n",
    "        # print(df[df.columns[-1]])\n",
    "\n",
    "        appData = df[df.columns[0]].tolist()\n",
    "        # print(appData)\n",
    "        Tot_weights = df[df.columns[-1]].tolist()\n",
    "        # print(\"Length of Tot_weights: \", len(Tot_weights))\n",
    "        # print(\"Samples of Tot_weights\")\n",
    "        # print(Tot_weights)\n",
    "        temp = getStudentData(data)\n",
    "        # print(temp)\n",
    "        df = pd.DataFrame(columns=columnNames, data=temp)\n",
    "        # print(\"Number of columns: \", df.shape)\n",
    "        # print(\"Shape of temp: \", len(temp))\n",
    "        # insert columns at last position\n",
    "        df.insert(loc=len(df.columns),\n",
    "                  column=\"TOTAL WEIGHT\",\n",
    "                  value=Tot_weights,\n",
    "                 )\n",
    "        df.insert(loc=0,\n",
    "                  column=\"APPLICATION NO\",\n",
    "                  value=appData,\n",
    "                 )\n",
    "        # insert Appplication number column\n",
    "        appNoData = mak23[i].loc[0]\n",
    "        return df\n",
    "    if len(df.columns) == 10:\n",
    "        df = df[df[columns[-1]] != \"Tot_wt\"]\n",
    "        # Rename columns\n",
    "        columns = df.columns\n",
    "        df = df.rename(columns={columns[x]:columnNames2[x] for x in range(len(columns))})\n",
    "        return df"
   ]
  },
  {
   "cell_type": "code",
   "execution_count": 24,
   "id": "9a5e6ecd-8e37-4164-bd9a-916942903ae6",
   "metadata": {},
   "outputs": [
    {
     "name": "stdout",
     "output_type": "stream",
     "text": [
      "D:\\Novel\\Data\\Python\\DataAnalysis\\Makerere2023-2024\\Notebooks\n"
     ]
    }
   ],
   "source": [
    "save_finalDf(getFinalDf(mak23))"
   ]
  },
  {
   "cell_type": "code",
   "execution_count": null,
   "id": "fa9ff6dd-d644-4cbc-b2cd-8efbea3ef13c",
   "metadata": {},
   "outputs": [],
   "source": []
  }
 ],
 "metadata": {
  "kernelspec": {
   "display_name": "Python 3 (ipykernel)",
   "language": "python",
   "name": "python3"
  },
  "language_info": {
   "codemirror_mode": {
    "name": "ipython",
    "version": 3
   },
   "file_extension": ".py",
   "mimetype": "text/x-python",
   "name": "python",
   "nbconvert_exporter": "python",
   "pygments_lexer": "ipython3",
   "version": "3.12.3"
  }
 },
 "nbformat": 4,
 "nbformat_minor": 5
}
