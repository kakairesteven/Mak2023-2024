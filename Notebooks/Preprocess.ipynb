{
 "cells": [
  {
   "cell_type": "code",
   "execution_count": 25,
   "id": "4de1dcab",
   "metadata": {},
   "outputs": [],
   "source": [
    "import pandas as pd\n",
    "import numpy as np\n",
    "from random import randint\n",
    "import yaml\n",
    "import tabula\n",
    "import os\n",
    "import re"
   ]
  },
  {
   "cell_type": "code",
   "execution_count": 26,
   "id": "72e00266",
   "metadata": {},
   "outputs": [
    {
     "name": "stderr",
     "output_type": "stream",
     "text": [
      "D:\\Novel\\Data\\Python\\DataAnalysis\\DataAnalysisVenv\\Lib\\site-packages\\tabula\\io.py:1045: FutureWarning: errors='ignore' is deprecated and will raise in a future version. Use to_numeric without passing `errors` and catch exceptions explicitly instead\n",
      "  df[c] = pd.to_numeric(df[c], errors=\"ignore\")\n"
     ]
    }
   ],
   "source": [
    "mak23 = tabula.read_pdf(\"../examples/Mak2023-2024.pdf\", pages=\"all\")"
   ]
  },
  {
   "cell_type": "code",
   "execution_count": 27,
   "id": "6738ea4a-84d6-488c-acae-5d059bea7556",
   "metadata": {},
   "outputs": [],
   "source": [
    "with open('../Notebooks/preprocessingConfig.yml', 'r') as file:\n",
    "    config = yaml.safe_load(file)"
   ]
  },
  {
   "cell_type": "code",
   "execution_count": 28,
   "id": "9c1cc488-136c-450c-9ba5-d65f7eb29beb",
   "metadata": {},
   "outputs": [],
   "source": [
    "columnNames = config['general']['columnNames']\n",
    "columnNames2 = config['general']['columnNames2']\n",
    "categorical_columns = config['general']['categorical_columns']\n",
    "text_columns = config['general']['text_columns']\n",
    "continuous_columns = config['general']['continuous_columns']"
   ]
  },
  {
   "cell_type": "code",
   "execution_count": 29,
   "id": "35a1d953-8f22-4cec-adad-f3a065f4e443",
   "metadata": {},
   "outputs": [
    {
     "data": {
      "text/plain": [
       "['TOTAL WEIGHT']"
      ]
     },
     "execution_count": 29,
     "metadata": {},
     "output_type": "execute_result"
    }
   ],
   "source": [
    "continuous_columns"
   ]
  },
  {
   "cell_type": "code",
   "execution_count": 30,
   "id": "e38b60d6-c6c0-4753-9eb9-201053d85982",
   "metadata": {},
   "outputs": [
    {
     "data": {
      "text/plain": [
       "'U0391/673 LUKABWE DOUGLAS MARKM 2022 42 MUKONO ACC BSC. Accounting (EVE)'"
      ]
     },
     "execution_count": 30,
     "metadata": {},
     "output_type": "execute_result"
    }
   ],
   "source": [
    "mak23[0]['MAKERERE UIVERSITY'][5]"
   ]
  },
  {
   "cell_type": "code",
   "execution_count": 31,
   "id": "c76cf4c2-fbae-431a-b9ab-7022625fa78c",
   "metadata": {},
   "outputs": [],
   "source": [
    "def instTest(x):\n",
    "    try: \n",
    "        if isinstance(float(x), float):\n",
    "            return True\n",
    "    except ValueError:\n",
    "        return False"
   ]
  },
  {
   "cell_type": "code",
   "execution_count": 32,
   "id": "b0d6928d-deaf-4e76-ba5d-d9e355af9e34",
   "metadata": {},
   "outputs": [],
   "source": [
    "# Function to extract data from data2\n",
    "def dataProcess(data, n):\n",
    "#     if n >= 1:\n",
    "    studentData = data[n].split()\n",
    "    # print(\"Student Data: \", studentData)\n",
    "    index_no = studentData[0]\n",
    "    name = \" \".join(studentData[1:-7])[:-1]\n",
    "    gender = studentData[-8][-1]\n",
    "    UACE_YEAR = int(studentData[-7])\n",
    "    DistrictCode = int(studentData[-6])\n",
    "    District = studentData[-5]\n",
    "    CourseCode = studentData[-4]\n",
    "    Course = ' '.join(studentData[-3:])\n",
    "    return [index_no, name, gender, UACE_YEAR,\n",
    "            DistrictCode, District, CourseCode, Course]\n",
    "\n",
    "# Get studentData\n",
    "def getStudentData(data):\n",
    "    studentList = []\n",
    "    for x in range(len(data)):\n",
    "    #     if i > 0:\n",
    "        student = dataProcess(data, x)\n",
    "        studentList.append(student)\n",
    "    # print(studentList)\n",
    "    return studentList\n",
    "\n",
    "# final df\n",
    "def getFinalDf(pdf_read):\n",
    "    df = pd.DataFrame(columns=columnNames2, data=[])\n",
    "    for i in range(len(pdf_read)):\n",
    "        df = pd.concat([df, getDf(i)], ignore_index=True)\n",
    "    return df\n",
    "\n",
    "# Assign dtypes to columns\n",
    "# This introduces errors when used in getDf(i)\n",
    "# Learning more on how to eliminate this.\n",
    "def assignDtype(df):\n",
    "    for column in df.columns:\n",
    "        if column in categorical_columns:\n",
    "              df[column] = df[column].astype(\"category\")\n",
    "        if column in text_columns:\n",
    "            df[column] = df[column].astype(\"string\")\n",
    "        if column in continous_columns:\n",
    "            df[column] = df[column].astype(\"Float32\")\n",
    "    return df"
   ]
  },
  {
   "cell_type": "code",
   "execution_count": 33,
   "id": "ddcbcc69-247b-4c1c-bb21-c3dc57b0aa57",
   "metadata": {},
   "outputs": [],
   "source": [
    "def getDf(i):\n",
    "    # i = randint(0, len(mak23)-1)\n",
    "    # i = 0\n",
    "    # print(i)\n",
    "\n",
    "    # First column is a common to all, drop it\n",
    "    df = mak23[i]\n",
    "    # print(df.head(5))\n",
    "    \n",
    "    columns = df.columns\n",
    "    # print(\"columns: \", columns)\n",
    "    df = df.drop(columns[0], axis=1)\n",
    "    # print(df.head(10))\n",
    "\n",
    "    # Drop columns with nan values\n",
    "    # print(\"columns before dropping nan-columns: \", df.shape[1])\n",
    "    df = df.dropna(axis=\"columns\",\n",
    "                   # thresh=3,\n",
    "                   how=\"all\",\n",
    "                  )\n",
    "    # print(\"columns after dropping: \", df.shape[1])\n",
    "\n",
    "    # drop rows with nan if they exist\n",
    "    # print(\"Rows before dropping: \", df.shape[0])\n",
    "    df = df.dropna(axis=\"index\",\n",
    "                   # how=\"any\",\n",
    "                   thresh=3,\n",
    "                  )\n",
    "\n",
    "    # Drop rows for which Tot_wt is not float\n",
    "    df = df[df[columns[-1]] != \"Tot_wt\"]\n",
    "    # print(\"Weights: \", df[columns[-1]])\n",
    "    # print(df.shape)\n",
    "    columns = df.columns\n",
    "    # print(columns)\n",
    "    if len(columns) == 3:        \n",
    "        \n",
    "        # print(df.head(2))\n",
    "        data = df[columns[1]].tolist()\n",
    "        # if i == 0:\n",
    "        #     data = data[1:]\n",
    "\n",
    "        # print(data[:4])\n",
    "        # data = df[columns.tolist()[1]].split()\n",
    "        # print(df[df.columns[-1]])\n",
    "\n",
    "        appData = df[df.columns[0]].tolist()\n",
    "        # print(appData)\n",
    "        Tot_weights = df[df.columns[-1]].tolist()\n",
    "        # print(\"Length of Tot_weights: \", len(Tot_weights))\n",
    "        # print(\"Samples of Tot_weights\")\n",
    "        # print(Tot_weights)\n",
    "        temp = getStudentData(data)\n",
    "        # print(temp)\n",
    "        df = pd.DataFrame(columns=columnNames, data=temp)\n",
    "        # print(\"Number of columns: \", df.shape)\n",
    "        # print(\"Shape of temp: \", len(temp))\n",
    "        # insert columns at last position\n",
    "        df.insert(loc=len(df.columns),\n",
    "                  column=\"TOTAL WEIGHT\",\n",
    "                  value=Tot_weights,\n",
    "                 )\n",
    "        df.insert(loc=0,\n",
    "                  column=\"APPLICATION NO\",\n",
    "                  value=appData,\n",
    "                 )\n",
    "        # insert Appplication number column\n",
    "        appNoData = mak23[i].loc[0]\n",
    "        # df = assignDtype(df)\n",
    "        return df\n",
    "    if len(df.columns) == 10:\n",
    "        df = df[df[columns[-1]] != \"Tot_wt\"]\n",
    "        # Rename columns\n",
    "        columns = df.columns\n",
    "        df = df.rename(columns={columns[x]:columnNames2[x] for x in range(len(columns))})\n",
    "        # df = assignDtype(df)\n",
    "        return df\n",
    "        \n",
    "# Save dataframe\n",
    "def save_finalDf(df):\n",
    "    # current working directory\n",
    "    current_path = os.getcwd()\n",
    "    print(current_path)\n",
    "    filepath = os.path.abspath(os.path.join(current_path, '..', 'Data'))\n",
    "    filename = \"Private.csv\"\n",
    "\n",
    "    print(filepath)\n",
    "    saved_file = df.to_csv(os.path.join(filepath, filename), index=False)\n",
    "    return saved_file"
   ]
  },
  {
   "cell_type": "code",
   "execution_count": 34,
   "id": "9a5e6ecd-8e37-4164-bd9a-916942903ae6",
   "metadata": {},
   "outputs": [
    {
     "ename": "TypeError",
     "evalue": "expected string or bytes-like object, got 'list'",
     "output_type": "error",
     "traceback": [
      "\u001b[1;31m---------------------------------------------------------------------------\u001b[0m",
      "\u001b[1;31mTypeError\u001b[0m                                 Traceback (most recent call last)",
      "Cell \u001b[1;32mIn[34], line 1\u001b[0m\n\u001b[1;32m----> 1\u001b[0m save_finalDf(\u001b[43mgetFinalDf\u001b[49m\u001b[43m(\u001b[49m\u001b[43mmak23\u001b[49m\u001b[43m)\u001b[49m)\n",
      "Cell \u001b[1;32mIn[32], line 33\u001b[0m, in \u001b[0;36mgetFinalDf\u001b[1;34m(pdf_read)\u001b[0m\n\u001b[0;32m     31\u001b[0m df \u001b[38;5;241m=\u001b[39m pd\u001b[38;5;241m.\u001b[39mDataFrame(columns\u001b[38;5;241m=\u001b[39mcolumnNames2, data\u001b[38;5;241m=\u001b[39m[])\n\u001b[0;32m     32\u001b[0m \u001b[38;5;28;01mfor\u001b[39;00m i \u001b[38;5;129;01min\u001b[39;00m \u001b[38;5;28mrange\u001b[39m(\u001b[38;5;28mlen\u001b[39m(pdf_read)):\n\u001b[1;32m---> 33\u001b[0m     df \u001b[38;5;241m=\u001b[39m pd\u001b[38;5;241m.\u001b[39mconcat([df, \u001b[43mgetDf\u001b[49m\u001b[43m(\u001b[49m\u001b[43mi\u001b[49m\u001b[43m)\u001b[49m], ignore_index\u001b[38;5;241m=\u001b[39m\u001b[38;5;28;01mTrue\u001b[39;00m)\n\u001b[0;32m     34\u001b[0m \u001b[38;5;28;01mreturn\u001b[39;00m df\n",
      "Cell \u001b[1;32mIn[33], line 53\u001b[0m, in \u001b[0;36mgetDf\u001b[1;34m(i)\u001b[0m\n\u001b[0;32m     49\u001b[0m Tot_weights \u001b[38;5;241m=\u001b[39m df[df\u001b[38;5;241m.\u001b[39mcolumns[\u001b[38;5;241m-\u001b[39m\u001b[38;5;241m1\u001b[39m]]\u001b[38;5;241m.\u001b[39mtolist()\n\u001b[0;32m     50\u001b[0m \u001b[38;5;66;03m# print(\"Length of Tot_weights: \", len(Tot_weights))\u001b[39;00m\n\u001b[0;32m     51\u001b[0m \u001b[38;5;66;03m# print(\"Samples of Tot_weights\")\u001b[39;00m\n\u001b[0;32m     52\u001b[0m \u001b[38;5;66;03m# print(Tot_weights)\u001b[39;00m\n\u001b[1;32m---> 53\u001b[0m temp \u001b[38;5;241m=\u001b[39m \u001b[43mgetStudentData\u001b[49m\u001b[43m(\u001b[49m\u001b[43mdata\u001b[49m\u001b[43m)\u001b[49m\n\u001b[0;32m     54\u001b[0m \u001b[38;5;66;03m# print(temp)\u001b[39;00m\n\u001b[0;32m     55\u001b[0m df \u001b[38;5;241m=\u001b[39m pd\u001b[38;5;241m.\u001b[39mDataFrame(columns\u001b[38;5;241m=\u001b[39mcolumnNames, data\u001b[38;5;241m=\u001b[39mtemp)\n",
      "Cell \u001b[1;32mIn[32], line 24\u001b[0m, in \u001b[0;36mgetStudentData\u001b[1;34m(data)\u001b[0m\n\u001b[0;32m     21\u001b[0m studentList \u001b[38;5;241m=\u001b[39m []\n\u001b[0;32m     22\u001b[0m \u001b[38;5;28;01mfor\u001b[39;00m x \u001b[38;5;129;01min\u001b[39;00m \u001b[38;5;28mrange\u001b[39m(\u001b[38;5;28mlen\u001b[39m(data)):\n\u001b[0;32m     23\u001b[0m \u001b[38;5;66;03m#     if i > 0:\u001b[39;00m\n\u001b[1;32m---> 24\u001b[0m     student \u001b[38;5;241m=\u001b[39m \u001b[43mdataProcess\u001b[49m\u001b[43m(\u001b[49m\u001b[43mdata\u001b[49m\u001b[43m,\u001b[49m\u001b[43m \u001b[49m\u001b[43mx\u001b[49m\u001b[43m)\u001b[49m\n\u001b[0;32m     25\u001b[0m     studentList\u001b[38;5;241m.\u001b[39mappend(student)\n\u001b[0;32m     26\u001b[0m \u001b[38;5;66;03m# print(studentList)\u001b[39;00m\n",
      "Cell \u001b[1;32mIn[32], line 8\u001b[0m, in \u001b[0;36mdataProcess\u001b[1;34m(data, n)\u001b[0m\n\u001b[0;32m      6\u001b[0m studentData \u001b[38;5;241m=\u001b[39m data[n]\u001b[38;5;241m.\u001b[39msplit()\n\u001b[0;32m      7\u001b[0m \u001b[38;5;66;03m# print(\"Student Data: \", studentData)\u001b[39;00m\n\u001b[1;32m----> 8\u001b[0m index_no \u001b[38;5;241m=\u001b[39m \u001b[43mregex\u001b[49m\u001b[38;5;241;43m.\u001b[39;49m\u001b[43mmatch\u001b[49m\u001b[43m(\u001b[49m\u001b[43mstudentData\u001b[49m\u001b[43m)\u001b[49m[\u001b[38;5;241m0\u001b[39m]\n\u001b[0;32m      9\u001b[0m name \u001b[38;5;241m=\u001b[39m \u001b[38;5;124m\"\u001b[39m\u001b[38;5;124m \u001b[39m\u001b[38;5;124m\"\u001b[39m\u001b[38;5;241m.\u001b[39mjoin(studentData[\u001b[38;5;241m1\u001b[39m:\u001b[38;5;241m-\u001b[39m\u001b[38;5;241m7\u001b[39m])[:\u001b[38;5;241m-\u001b[39m\u001b[38;5;241m1\u001b[39m]\n\u001b[0;32m     10\u001b[0m gender \u001b[38;5;241m=\u001b[39m studentData[\u001b[38;5;241m-\u001b[39m\u001b[38;5;241m8\u001b[39m][\u001b[38;5;241m-\u001b[39m\u001b[38;5;241m1\u001b[39m]\n",
      "\u001b[1;31mTypeError\u001b[0m: expected string or bytes-like object, got 'list'"
     ]
    }
   ],
   "source": [
    "save_finalDf(getFinalDf(mak23))"
   ]
  },
  {
   "cell_type": "code",
   "execution_count": null,
   "id": "fa9ff6dd-d644-4cbc-b2cd-8efbea3ef13c",
   "metadata": {},
   "outputs": [],
   "source": [
    "getFinalDf(mak23)"
   ]
  }
 ],
 "metadata": {
  "kernelspec": {
   "display_name": "Python 3 (ipykernel)",
   "language": "python",
   "name": "python3"
  },
  "language_info": {
   "codemirror_mode": {
    "name": "ipython",
    "version": 3
   },
   "file_extension": ".py",
   "mimetype": "text/x-python",
   "name": "python",
   "nbconvert_exporter": "python",
   "pygments_lexer": "ipython3",
   "version": "3.12.3"
  }
 },
 "nbformat": 4,
 "nbformat_minor": 5
}
